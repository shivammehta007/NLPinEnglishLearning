{
  "nbformat": 4,
  "nbformat_minor": 0,
  "metadata": {
    "colab": {
      "name": "Answer_only_classification.ipynb",
      "provenance": [],
      "toc_visible": true,
      "include_colab_link": true
    },
    "kernelspec": {
      "name": "python3",
      "display_name": "Python 3"
    },
    "widgets": {
      "application/vnd.jupyter.widget-state+json": {
        "1e363626b37246d3a819c2c62c7a3c96": {
          "model_module": "@jupyter-widgets/controls",
          "model_name": "HBoxModel",
          "state": {
            "_view_name": "HBoxView",
            "_dom_classes": [],
            "_model_name": "HBoxModel",
            "_view_module": "@jupyter-widgets/controls",
            "_model_module_version": "1.5.0",
            "_view_count": null,
            "_view_module_version": "1.5.0",
            "box_style": "",
            "layout": "IPY_MODEL_de9a9614b52f45f3a47a3e18a0640ad9",
            "_model_module": "@jupyter-widgets/controls",
            "children": [
              "IPY_MODEL_3948afe6e4fd4069ba632b2219f0117c",
              "IPY_MODEL_37accdd606f64ebb8b833ce36c1775f7"
            ]
          }
        },
        "de9a9614b52f45f3a47a3e18a0640ad9": {
          "model_module": "@jupyter-widgets/base",
          "model_name": "LayoutModel",
          "state": {
            "_view_name": "LayoutView",
            "grid_template_rows": null,
            "right": null,
            "justify_content": null,
            "_view_module": "@jupyter-widgets/base",
            "overflow": null,
            "_model_module_version": "1.2.0",
            "_view_count": null,
            "flex_flow": null,
            "width": null,
            "min_width": null,
            "border": null,
            "align_items": null,
            "bottom": null,
            "_model_module": "@jupyter-widgets/base",
            "top": null,
            "grid_column": null,
            "overflow_y": null,
            "overflow_x": null,
            "grid_auto_flow": null,
            "grid_area": null,
            "grid_template_columns": null,
            "flex": null,
            "_model_name": "LayoutModel",
            "justify_items": null,
            "grid_row": null,
            "max_height": null,
            "align_content": null,
            "visibility": null,
            "align_self": null,
            "height": null,
            "min_height": null,
            "padding": null,
            "grid_auto_rows": null,
            "grid_gap": null,
            "max_width": null,
            "order": null,
            "_view_module_version": "1.2.0",
            "grid_template_areas": null,
            "object_position": null,
            "object_fit": null,
            "grid_auto_columns": null,
            "margin": null,
            "display": null,
            "left": null
          }
        },
        "3948afe6e4fd4069ba632b2219f0117c": {
          "model_module": "@jupyter-widgets/controls",
          "model_name": "FloatProgressModel",
          "state": {
            "_view_name": "ProgressView",
            "style": "IPY_MODEL_4f37f976ed224030a6efed27c3023e07",
            "_dom_classes": [],
            "description": "100%",
            "_model_name": "FloatProgressModel",
            "bar_style": "success",
            "max": 569,
            "_view_module": "@jupyter-widgets/controls",
            "_model_module_version": "1.5.0",
            "value": 569,
            "_view_count": null,
            "_view_module_version": "1.5.0",
            "orientation": "horizontal",
            "min": 0,
            "description_tooltip": null,
            "_model_module": "@jupyter-widgets/controls",
            "layout": "IPY_MODEL_dcb42bb10e1a4f868090493e7636aef9"
          }
        },
        "37accdd606f64ebb8b833ce36c1775f7": {
          "model_module": "@jupyter-widgets/controls",
          "model_name": "HTMLModel",
          "state": {
            "_view_name": "HTMLView",
            "style": "IPY_MODEL_42923c8bd01342759169cf5bf6f44d86",
            "_dom_classes": [],
            "description": "",
            "_model_name": "HTMLModel",
            "placeholder": "​",
            "_view_module": "@jupyter-widgets/controls",
            "_model_module_version": "1.5.0",
            "value": " 569/569 [00:06&lt;00:00, 89.99it/s]",
            "_view_count": null,
            "_view_module_version": "1.5.0",
            "description_tooltip": null,
            "_model_module": "@jupyter-widgets/controls",
            "layout": "IPY_MODEL_aed42bc239cd4320b7fd6ebf60edd605"
          }
        },
        "4f37f976ed224030a6efed27c3023e07": {
          "model_module": "@jupyter-widgets/controls",
          "model_name": "ProgressStyleModel",
          "state": {
            "_view_name": "StyleView",
            "_model_name": "ProgressStyleModel",
            "description_width": "initial",
            "_view_module": "@jupyter-widgets/base",
            "_model_module_version": "1.5.0",
            "_view_count": null,
            "_view_module_version": "1.2.0",
            "bar_color": null,
            "_model_module": "@jupyter-widgets/controls"
          }
        },
        "dcb42bb10e1a4f868090493e7636aef9": {
          "model_module": "@jupyter-widgets/base",
          "model_name": "LayoutModel",
          "state": {
            "_view_name": "LayoutView",
            "grid_template_rows": null,
            "right": null,
            "justify_content": null,
            "_view_module": "@jupyter-widgets/base",
            "overflow": null,
            "_model_module_version": "1.2.0",
            "_view_count": null,
            "flex_flow": null,
            "width": null,
            "min_width": null,
            "border": null,
            "align_items": null,
            "bottom": null,
            "_model_module": "@jupyter-widgets/base",
            "top": null,
            "grid_column": null,
            "overflow_y": null,
            "overflow_x": null,
            "grid_auto_flow": null,
            "grid_area": null,
            "grid_template_columns": null,
            "flex": null,
            "_model_name": "LayoutModel",
            "justify_items": null,
            "grid_row": null,
            "max_height": null,
            "align_content": null,
            "visibility": null,
            "align_self": null,
            "height": null,
            "min_height": null,
            "padding": null,
            "grid_auto_rows": null,
            "grid_gap": null,
            "max_width": null,
            "order": null,
            "_view_module_version": "1.2.0",
            "grid_template_areas": null,
            "object_position": null,
            "object_fit": null,
            "grid_auto_columns": null,
            "margin": null,
            "display": null,
            "left": null
          }
        },
        "42923c8bd01342759169cf5bf6f44d86": {
          "model_module": "@jupyter-widgets/controls",
          "model_name": "DescriptionStyleModel",
          "state": {
            "_view_name": "StyleView",
            "_model_name": "DescriptionStyleModel",
            "description_width": "",
            "_view_module": "@jupyter-widgets/base",
            "_model_module_version": "1.5.0",
            "_view_count": null,
            "_view_module_version": "1.2.0",
            "_model_module": "@jupyter-widgets/controls"
          }
        },
        "aed42bc239cd4320b7fd6ebf60edd605": {
          "model_module": "@jupyter-widgets/base",
          "model_name": "LayoutModel",
          "state": {
            "_view_name": "LayoutView",
            "grid_template_rows": null,
            "right": null,
            "justify_content": null,
            "_view_module": "@jupyter-widgets/base",
            "overflow": null,
            "_model_module_version": "1.2.0",
            "_view_count": null,
            "flex_flow": null,
            "width": null,
            "min_width": null,
            "border": null,
            "align_items": null,
            "bottom": null,
            "_model_module": "@jupyter-widgets/base",
            "top": null,
            "grid_column": null,
            "overflow_y": null,
            "overflow_x": null,
            "grid_auto_flow": null,
            "grid_area": null,
            "grid_template_columns": null,
            "flex": null,
            "_model_name": "LayoutModel",
            "justify_items": null,
            "grid_row": null,
            "max_height": null,
            "align_content": null,
            "visibility": null,
            "align_self": null,
            "height": null,
            "min_height": null,
            "padding": null,
            "grid_auto_rows": null,
            "grid_gap": null,
            "max_width": null,
            "order": null,
            "_view_module_version": "1.2.0",
            "grid_template_areas": null,
            "object_position": null,
            "object_fit": null,
            "grid_auto_columns": null,
            "margin": null,
            "display": null,
            "left": null
          }
        },
        "925863f998884f3dbbadba7b6f047e74": {
          "model_module": "@jupyter-widgets/controls",
          "model_name": "HBoxModel",
          "state": {
            "_view_name": "HBoxView",
            "_dom_classes": [],
            "_model_name": "HBoxModel",
            "_view_module": "@jupyter-widgets/controls",
            "_model_module_version": "1.5.0",
            "_view_count": null,
            "_view_module_version": "1.5.0",
            "box_style": "",
            "layout": "IPY_MODEL_1410971171b3455aa40cc8310ca59789",
            "_model_module": "@jupyter-widgets/controls",
            "children": [
              "IPY_MODEL_a06f769e0b2a4035bd41931a75a22fa3",
              "IPY_MODEL_bfba846b3a1c4fafb2008aa01b438079"
            ]
          }
        },
        "1410971171b3455aa40cc8310ca59789": {
          "model_module": "@jupyter-widgets/base",
          "model_name": "LayoutModel",
          "state": {
            "_view_name": "LayoutView",
            "grid_template_rows": null,
            "right": null,
            "justify_content": null,
            "_view_module": "@jupyter-widgets/base",
            "overflow": null,
            "_model_module_version": "1.2.0",
            "_view_count": null,
            "flex_flow": null,
            "width": null,
            "min_width": null,
            "border": null,
            "align_items": null,
            "bottom": null,
            "_model_module": "@jupyter-widgets/base",
            "top": null,
            "grid_column": null,
            "overflow_y": null,
            "overflow_x": null,
            "grid_auto_flow": null,
            "grid_area": null,
            "grid_template_columns": null,
            "flex": null,
            "_model_name": "LayoutModel",
            "justify_items": null,
            "grid_row": null,
            "max_height": null,
            "align_content": null,
            "visibility": null,
            "align_self": null,
            "height": null,
            "min_height": null,
            "padding": null,
            "grid_auto_rows": null,
            "grid_gap": null,
            "max_width": null,
            "order": null,
            "_view_module_version": "1.2.0",
            "grid_template_areas": null,
            "object_position": null,
            "object_fit": null,
            "grid_auto_columns": null,
            "margin": null,
            "display": null,
            "left": null
          }
        },
        "a06f769e0b2a4035bd41931a75a22fa3": {
          "model_module": "@jupyter-widgets/controls",
          "model_name": "FloatProgressModel",
          "state": {
            "_view_name": "ProgressView",
            "style": "IPY_MODEL_91dd51fc53b54d3391eb744c57941f9e",
            "_dom_classes": [],
            "description": "100%",
            "_model_name": "FloatProgressModel",
            "bar_style": "success",
            "max": 101,
            "_view_module": "@jupyter-widgets/controls",
            "_model_module_version": "1.5.0",
            "value": 101,
            "_view_count": null,
            "_view_module_version": "1.5.0",
            "orientation": "horizontal",
            "min": 0,
            "description_tooltip": null,
            "_model_module": "@jupyter-widgets/controls",
            "layout": "IPY_MODEL_3a0826fe950342fe82cbaac00ddc60c4"
          }
        },
        "bfba846b3a1c4fafb2008aa01b438079": {
          "model_module": "@jupyter-widgets/controls",
          "model_name": "HTMLModel",
          "state": {
            "_view_name": "HTMLView",
            "style": "IPY_MODEL_6c2f4c3aa52447a38ee999e612ce7ffb",
            "_dom_classes": [],
            "description": "",
            "_model_name": "HTMLModel",
            "placeholder": "​",
            "_view_module": "@jupyter-widgets/controls",
            "_model_module_version": "1.5.0",
            "value": " 101/101 [00:01&lt;00:00, 91.86it/s]",
            "_view_count": null,
            "_view_module_version": "1.5.0",
            "description_tooltip": null,
            "_model_module": "@jupyter-widgets/controls",
            "layout": "IPY_MODEL_7f470a228ff342d0828b303de6c73779"
          }
        },
        "91dd51fc53b54d3391eb744c57941f9e": {
          "model_module": "@jupyter-widgets/controls",
          "model_name": "ProgressStyleModel",
          "state": {
            "_view_name": "StyleView",
            "_model_name": "ProgressStyleModel",
            "description_width": "initial",
            "_view_module": "@jupyter-widgets/base",
            "_model_module_version": "1.5.0",
            "_view_count": null,
            "_view_module_version": "1.2.0",
            "bar_color": null,
            "_model_module": "@jupyter-widgets/controls"
          }
        },
        "3a0826fe950342fe82cbaac00ddc60c4": {
          "model_module": "@jupyter-widgets/base",
          "model_name": "LayoutModel",
          "state": {
            "_view_name": "LayoutView",
            "grid_template_rows": null,
            "right": null,
            "justify_content": null,
            "_view_module": "@jupyter-widgets/base",
            "overflow": null,
            "_model_module_version": "1.2.0",
            "_view_count": null,
            "flex_flow": null,
            "width": null,
            "min_width": null,
            "border": null,
            "align_items": null,
            "bottom": null,
            "_model_module": "@jupyter-widgets/base",
            "top": null,
            "grid_column": null,
            "overflow_y": null,
            "overflow_x": null,
            "grid_auto_flow": null,
            "grid_area": null,
            "grid_template_columns": null,
            "flex": null,
            "_model_name": "LayoutModel",
            "justify_items": null,
            "grid_row": null,
            "max_height": null,
            "align_content": null,
            "visibility": null,
            "align_self": null,
            "height": null,
            "min_height": null,
            "padding": null,
            "grid_auto_rows": null,
            "grid_gap": null,
            "max_width": null,
            "order": null,
            "_view_module_version": "1.2.0",
            "grid_template_areas": null,
            "object_position": null,
            "object_fit": null,
            "grid_auto_columns": null,
            "margin": null,
            "display": null,
            "left": null
          }
        },
        "6c2f4c3aa52447a38ee999e612ce7ffb": {
          "model_module": "@jupyter-widgets/controls",
          "model_name": "DescriptionStyleModel",
          "state": {
            "_view_name": "StyleView",
            "_model_name": "DescriptionStyleModel",
            "description_width": "",
            "_view_module": "@jupyter-widgets/base",
            "_model_module_version": "1.5.0",
            "_view_count": null,
            "_view_module_version": "1.2.0",
            "_model_module": "@jupyter-widgets/controls"
          }
        },
        "7f470a228ff342d0828b303de6c73779": {
          "model_module": "@jupyter-widgets/base",
          "model_name": "LayoutModel",
          "state": {
            "_view_name": "LayoutView",
            "grid_template_rows": null,
            "right": null,
            "justify_content": null,
            "_view_module": "@jupyter-widgets/base",
            "overflow": null,
            "_model_module_version": "1.2.0",
            "_view_count": null,
            "flex_flow": null,
            "width": null,
            "min_width": null,
            "border": null,
            "align_items": null,
            "bottom": null,
            "_model_module": "@jupyter-widgets/base",
            "top": null,
            "grid_column": null,
            "overflow_y": null,
            "overflow_x": null,
            "grid_auto_flow": null,
            "grid_area": null,
            "grid_template_columns": null,
            "flex": null,
            "_model_name": "LayoutModel",
            "justify_items": null,
            "grid_row": null,
            "max_height": null,
            "align_content": null,
            "visibility": null,
            "align_self": null,
            "height": null,
            "min_height": null,
            "padding": null,
            "grid_auto_rows": null,
            "grid_gap": null,
            "max_width": null,
            "order": null,
            "_view_module_version": "1.2.0",
            "grid_template_areas": null,
            "object_position": null,
            "object_fit": null,
            "grid_auto_columns": null,
            "margin": null,
            "display": null,
            "left": null
          }
        },
        "ec11badfc5574823abe27fc04323fb46": {
          "model_module": "@jupyter-widgets/controls",
          "model_name": "HBoxModel",
          "state": {
            "_view_name": "HBoxView",
            "_dom_classes": [],
            "_model_name": "HBoxModel",
            "_view_module": "@jupyter-widgets/controls",
            "_model_module_version": "1.5.0",
            "_view_count": null,
            "_view_module_version": "1.5.0",
            "box_style": "",
            "layout": "IPY_MODEL_59705b8425e747239f836a7c1e6eef72",
            "_model_module": "@jupyter-widgets/controls",
            "children": [
              "IPY_MODEL_d3595a1061bc4f53b2e20909bc0c4c6b",
              "IPY_MODEL_a747692620ee44d7a172a8ef1f4300eb"
            ]
          }
        },
        "59705b8425e747239f836a7c1e6eef72": {
          "model_module": "@jupyter-widgets/base",
          "model_name": "LayoutModel",
          "state": {
            "_view_name": "LayoutView",
            "grid_template_rows": null,
            "right": null,
            "justify_content": null,
            "_view_module": "@jupyter-widgets/base",
            "overflow": null,
            "_model_module_version": "1.2.0",
            "_view_count": null,
            "flex_flow": null,
            "width": null,
            "min_width": null,
            "border": null,
            "align_items": null,
            "bottom": null,
            "_model_module": "@jupyter-widgets/base",
            "top": null,
            "grid_column": null,
            "overflow_y": null,
            "overflow_x": null,
            "grid_auto_flow": null,
            "grid_area": null,
            "grid_template_columns": null,
            "flex": null,
            "_model_name": "LayoutModel",
            "justify_items": null,
            "grid_row": null,
            "max_height": null,
            "align_content": null,
            "visibility": null,
            "align_self": null,
            "height": null,
            "min_height": null,
            "padding": null,
            "grid_auto_rows": null,
            "grid_gap": null,
            "max_width": null,
            "order": null,
            "_view_module_version": "1.2.0",
            "grid_template_areas": null,
            "object_position": null,
            "object_fit": null,
            "grid_auto_columns": null,
            "margin": null,
            "display": null,
            "left": null
          }
        },
        "d3595a1061bc4f53b2e20909bc0c4c6b": {
          "model_module": "@jupyter-widgets/controls",
          "model_name": "FloatProgressModel",
          "state": {
            "_view_name": "ProgressView",
            "style": "IPY_MODEL_afdfa06b6257447b89ab57c306fc4fb2",
            "_dom_classes": [],
            "description": "100%",
            "_model_name": "FloatProgressModel",
            "bar_style": "success",
            "max": 569,
            "_view_module": "@jupyter-widgets/controls",
            "_model_module_version": "1.5.0",
            "value": 569,
            "_view_count": null,
            "_view_module_version": "1.5.0",
            "orientation": "horizontal",
            "min": 0,
            "description_tooltip": null,
            "_model_module": "@jupyter-widgets/controls",
            "layout": "IPY_MODEL_7b2b808ebca84fc0ab03ae05db46cc38"
          }
        },
        "a747692620ee44d7a172a8ef1f4300eb": {
          "model_module": "@jupyter-widgets/controls",
          "model_name": "HTMLModel",
          "state": {
            "_view_name": "HTMLView",
            "style": "IPY_MODEL_83e21b2f44ec444b8a172ae828e578d9",
            "_dom_classes": [],
            "description": "",
            "_model_name": "HTMLModel",
            "placeholder": "​",
            "_view_module": "@jupyter-widgets/controls",
            "_model_module_version": "1.5.0",
            "value": " 569/569 [00:06&lt;00:00, 92.50it/s]",
            "_view_count": null,
            "_view_module_version": "1.5.0",
            "description_tooltip": null,
            "_model_module": "@jupyter-widgets/controls",
            "layout": "IPY_MODEL_a08938bc7c0c4c8c93972f6055ae1515"
          }
        },
        "afdfa06b6257447b89ab57c306fc4fb2": {
          "model_module": "@jupyter-widgets/controls",
          "model_name": "ProgressStyleModel",
          "state": {
            "_view_name": "StyleView",
            "_model_name": "ProgressStyleModel",
            "description_width": "initial",
            "_view_module": "@jupyter-widgets/base",
            "_model_module_version": "1.5.0",
            "_view_count": null,
            "_view_module_version": "1.2.0",
            "bar_color": null,
            "_model_module": "@jupyter-widgets/controls"
          }
        },
        "7b2b808ebca84fc0ab03ae05db46cc38": {
          "model_module": "@jupyter-widgets/base",
          "model_name": "LayoutModel",
          "state": {
            "_view_name": "LayoutView",
            "grid_template_rows": null,
            "right": null,
            "justify_content": null,
            "_view_module": "@jupyter-widgets/base",
            "overflow": null,
            "_model_module_version": "1.2.0",
            "_view_count": null,
            "flex_flow": null,
            "width": null,
            "min_width": null,
            "border": null,
            "align_items": null,
            "bottom": null,
            "_model_module": "@jupyter-widgets/base",
            "top": null,
            "grid_column": null,
            "overflow_y": null,
            "overflow_x": null,
            "grid_auto_flow": null,
            "grid_area": null,
            "grid_template_columns": null,
            "flex": null,
            "_model_name": "LayoutModel",
            "justify_items": null,
            "grid_row": null,
            "max_height": null,
            "align_content": null,
            "visibility": null,
            "align_self": null,
            "height": null,
            "min_height": null,
            "padding": null,
            "grid_auto_rows": null,
            "grid_gap": null,
            "max_width": null,
            "order": null,
            "_view_module_version": "1.2.0",
            "grid_template_areas": null,
            "object_position": null,
            "object_fit": null,
            "grid_auto_columns": null,
            "margin": null,
            "display": null,
            "left": null
          }
        },
        "83e21b2f44ec444b8a172ae828e578d9": {
          "model_module": "@jupyter-widgets/controls",
          "model_name": "DescriptionStyleModel",
          "state": {
            "_view_name": "StyleView",
            "_model_name": "DescriptionStyleModel",
            "description_width": "",
            "_view_module": "@jupyter-widgets/base",
            "_model_module_version": "1.5.0",
            "_view_count": null,
            "_view_module_version": "1.2.0",
            "_model_module": "@jupyter-widgets/controls"
          }
        },
        "a08938bc7c0c4c8c93972f6055ae1515": {
          "model_module": "@jupyter-widgets/base",
          "model_name": "LayoutModel",
          "state": {
            "_view_name": "LayoutView",
            "grid_template_rows": null,
            "right": null,
            "justify_content": null,
            "_view_module": "@jupyter-widgets/base",
            "overflow": null,
            "_model_module_version": "1.2.0",
            "_view_count": null,
            "flex_flow": null,
            "width": null,
            "min_width": null,
            "border": null,
            "align_items": null,
            "bottom": null,
            "_model_module": "@jupyter-widgets/base",
            "top": null,
            "grid_column": null,
            "overflow_y": null,
            "overflow_x": null,
            "grid_auto_flow": null,
            "grid_area": null,
            "grid_template_columns": null,
            "flex": null,
            "_model_name": "LayoutModel",
            "justify_items": null,
            "grid_row": null,
            "max_height": null,
            "align_content": null,
            "visibility": null,
            "align_self": null,
            "height": null,
            "min_height": null,
            "padding": null,
            "grid_auto_rows": null,
            "grid_gap": null,
            "max_width": null,
            "order": null,
            "_view_module_version": "1.2.0",
            "grid_template_areas": null,
            "object_position": null,
            "object_fit": null,
            "grid_auto_columns": null,
            "margin": null,
            "display": null,
            "left": null
          }
        },
        "0dc4d28c080f4d93a54c23084e6c2620": {
          "model_module": "@jupyter-widgets/controls",
          "model_name": "HBoxModel",
          "state": {
            "_view_name": "HBoxView",
            "_dom_classes": [],
            "_model_name": "HBoxModel",
            "_view_module": "@jupyter-widgets/controls",
            "_model_module_version": "1.5.0",
            "_view_count": null,
            "_view_module_version": "1.5.0",
            "box_style": "",
            "layout": "IPY_MODEL_dc746b2280e74a51ba6cb71ea7718752",
            "_model_module": "@jupyter-widgets/controls",
            "children": [
              "IPY_MODEL_27f18adf353b47a5bf1d9cf18f8ad174",
              "IPY_MODEL_3c868ac046ca48e5b7c90cf18fad74f4"
            ]
          }
        },
        "dc746b2280e74a51ba6cb71ea7718752": {
          "model_module": "@jupyter-widgets/base",
          "model_name": "LayoutModel",
          "state": {
            "_view_name": "LayoutView",
            "grid_template_rows": null,
            "right": null,
            "justify_content": null,
            "_view_module": "@jupyter-widgets/base",
            "overflow": null,
            "_model_module_version": "1.2.0",
            "_view_count": null,
            "flex_flow": null,
            "width": null,
            "min_width": null,
            "border": null,
            "align_items": null,
            "bottom": null,
            "_model_module": "@jupyter-widgets/base",
            "top": null,
            "grid_column": null,
            "overflow_y": null,
            "overflow_x": null,
            "grid_auto_flow": null,
            "grid_area": null,
            "grid_template_columns": null,
            "flex": null,
            "_model_name": "LayoutModel",
            "justify_items": null,
            "grid_row": null,
            "max_height": null,
            "align_content": null,
            "visibility": null,
            "align_self": null,
            "height": null,
            "min_height": null,
            "padding": null,
            "grid_auto_rows": null,
            "grid_gap": null,
            "max_width": null,
            "order": null,
            "_view_module_version": "1.2.0",
            "grid_template_areas": null,
            "object_position": null,
            "object_fit": null,
            "grid_auto_columns": null,
            "margin": null,
            "display": null,
            "left": null
          }
        },
        "27f18adf353b47a5bf1d9cf18f8ad174": {
          "model_module": "@jupyter-widgets/controls",
          "model_name": "FloatProgressModel",
          "state": {
            "_view_name": "ProgressView",
            "style": "IPY_MODEL_11a9cfa1234c4fa3a07ed99b8052a642",
            "_dom_classes": [],
            "description": "100%",
            "_model_name": "FloatProgressModel",
            "bar_style": "success",
            "max": 101,
            "_view_module": "@jupyter-widgets/controls",
            "_model_module_version": "1.5.0",
            "value": 101,
            "_view_count": null,
            "_view_module_version": "1.5.0",
            "orientation": "horizontal",
            "min": 0,
            "description_tooltip": null,
            "_model_module": "@jupyter-widgets/controls",
            "layout": "IPY_MODEL_f6f9a59edd1a4d059e7817c7e025c71d"
          }
        },
        "3c868ac046ca48e5b7c90cf18fad74f4": {
          "model_module": "@jupyter-widgets/controls",
          "model_name": "HTMLModel",
          "state": {
            "_view_name": "HTMLView",
            "style": "IPY_MODEL_cbafcc4e9eca4237aab3746690ff1404",
            "_dom_classes": [],
            "description": "",
            "_model_name": "HTMLModel",
            "placeholder": "​",
            "_view_module": "@jupyter-widgets/controls",
            "_model_module_version": "1.5.0",
            "value": " 101/101 [00:01&lt;00:00, 86.88it/s]",
            "_view_count": null,
            "_view_module_version": "1.5.0",
            "description_tooltip": null,
            "_model_module": "@jupyter-widgets/controls",
            "layout": "IPY_MODEL_6925e84f4e504bce97fb0df3debe11e9"
          }
        },
        "11a9cfa1234c4fa3a07ed99b8052a642": {
          "model_module": "@jupyter-widgets/controls",
          "model_name": "ProgressStyleModel",
          "state": {
            "_view_name": "StyleView",
            "_model_name": "ProgressStyleModel",
            "description_width": "initial",
            "_view_module": "@jupyter-widgets/base",
            "_model_module_version": "1.5.0",
            "_view_count": null,
            "_view_module_version": "1.2.0",
            "bar_color": null,
            "_model_module": "@jupyter-widgets/controls"
          }
        },
        "f6f9a59edd1a4d059e7817c7e025c71d": {
          "model_module": "@jupyter-widgets/base",
          "model_name": "LayoutModel",
          "state": {
            "_view_name": "LayoutView",
            "grid_template_rows": null,
            "right": null,
            "justify_content": null,
            "_view_module": "@jupyter-widgets/base",
            "overflow": null,
            "_model_module_version": "1.2.0",
            "_view_count": null,
            "flex_flow": null,
            "width": null,
            "min_width": null,
            "border": null,
            "align_items": null,
            "bottom": null,
            "_model_module": "@jupyter-widgets/base",
            "top": null,
            "grid_column": null,
            "overflow_y": null,
            "overflow_x": null,
            "grid_auto_flow": null,
            "grid_area": null,
            "grid_template_columns": null,
            "flex": null,
            "_model_name": "LayoutModel",
            "justify_items": null,
            "grid_row": null,
            "max_height": null,
            "align_content": null,
            "visibility": null,
            "align_self": null,
            "height": null,
            "min_height": null,
            "padding": null,
            "grid_auto_rows": null,
            "grid_gap": null,
            "max_width": null,
            "order": null,
            "_view_module_version": "1.2.0",
            "grid_template_areas": null,
            "object_position": null,
            "object_fit": null,
            "grid_auto_columns": null,
            "margin": null,
            "display": null,
            "left": null
          }
        },
        "cbafcc4e9eca4237aab3746690ff1404": {
          "model_module": "@jupyter-widgets/controls",
          "model_name": "DescriptionStyleModel",
          "state": {
            "_view_name": "StyleView",
            "_model_name": "DescriptionStyleModel",
            "description_width": "",
            "_view_module": "@jupyter-widgets/base",
            "_model_module_version": "1.5.0",
            "_view_count": null,
            "_view_module_version": "1.2.0",
            "_model_module": "@jupyter-widgets/controls"
          }
        },
        "6925e84f4e504bce97fb0df3debe11e9": {
          "model_module": "@jupyter-widgets/base",
          "model_name": "LayoutModel",
          "state": {
            "_view_name": "LayoutView",
            "grid_template_rows": null,
            "right": null,
            "justify_content": null,
            "_view_module": "@jupyter-widgets/base",
            "overflow": null,
            "_model_module_version": "1.2.0",
            "_view_count": null,
            "flex_flow": null,
            "width": null,
            "min_width": null,
            "border": null,
            "align_items": null,
            "bottom": null,
            "_model_module": "@jupyter-widgets/base",
            "top": null,
            "grid_column": null,
            "overflow_y": null,
            "overflow_x": null,
            "grid_auto_flow": null,
            "grid_area": null,
            "grid_template_columns": null,
            "flex": null,
            "_model_name": "LayoutModel",
            "justify_items": null,
            "grid_row": null,
            "max_height": null,
            "align_content": null,
            "visibility": null,
            "align_self": null,
            "height": null,
            "min_height": null,
            "padding": null,
            "grid_auto_rows": null,
            "grid_gap": null,
            "max_width": null,
            "order": null,
            "_view_module_version": "1.2.0",
            "grid_template_areas": null,
            "object_position": null,
            "object_fit": null,
            "grid_auto_columns": null,
            "margin": null,
            "display": null,
            "left": null
          }
        },
        "1a87094cae4f4718b58e59d0dc04f5f6": {
          "model_module": "@jupyter-widgets/controls",
          "model_name": "HBoxModel",
          "state": {
            "_view_name": "HBoxView",
            "_dom_classes": [],
            "_model_name": "HBoxModel",
            "_view_module": "@jupyter-widgets/controls",
            "_model_module_version": "1.5.0",
            "_view_count": null,
            "_view_module_version": "1.5.0",
            "box_style": "",
            "layout": "IPY_MODEL_8a3add046ed444cf847043665bee0067",
            "_model_module": "@jupyter-widgets/controls",
            "children": [
              "IPY_MODEL_10637526bfcc489da58165d5d69b83f4",
              "IPY_MODEL_450f3673841c41068271282550bbbed9"
            ]
          }
        },
        "8a3add046ed444cf847043665bee0067": {
          "model_module": "@jupyter-widgets/base",
          "model_name": "LayoutModel",
          "state": {
            "_view_name": "LayoutView",
            "grid_template_rows": null,
            "right": null,
            "justify_content": null,
            "_view_module": "@jupyter-widgets/base",
            "overflow": null,
            "_model_module_version": "1.2.0",
            "_view_count": null,
            "flex_flow": null,
            "width": null,
            "min_width": null,
            "border": null,
            "align_items": null,
            "bottom": null,
            "_model_module": "@jupyter-widgets/base",
            "top": null,
            "grid_column": null,
            "overflow_y": null,
            "overflow_x": null,
            "grid_auto_flow": null,
            "grid_area": null,
            "grid_template_columns": null,
            "flex": null,
            "_model_name": "LayoutModel",
            "justify_items": null,
            "grid_row": null,
            "max_height": null,
            "align_content": null,
            "visibility": null,
            "align_self": null,
            "height": null,
            "min_height": null,
            "padding": null,
            "grid_auto_rows": null,
            "grid_gap": null,
            "max_width": null,
            "order": null,
            "_view_module_version": "1.2.0",
            "grid_template_areas": null,
            "object_position": null,
            "object_fit": null,
            "grid_auto_columns": null,
            "margin": null,
            "display": null,
            "left": null
          }
        },
        "10637526bfcc489da58165d5d69b83f4": {
          "model_module": "@jupyter-widgets/controls",
          "model_name": "FloatProgressModel",
          "state": {
            "_view_name": "ProgressView",
            "style": "IPY_MODEL_31fb1579f3a4442ba683307415104b01",
            "_dom_classes": [],
            "description": "100%",
            "_model_name": "FloatProgressModel",
            "bar_style": "success",
            "max": 569,
            "_view_module": "@jupyter-widgets/controls",
            "_model_module_version": "1.5.0",
            "value": 569,
            "_view_count": null,
            "_view_module_version": "1.5.0",
            "orientation": "horizontal",
            "min": 0,
            "description_tooltip": null,
            "_model_module": "@jupyter-widgets/controls",
            "layout": "IPY_MODEL_0231cb101240453aafc23efd8db9bfcf"
          }
        },
        "450f3673841c41068271282550bbbed9": {
          "model_module": "@jupyter-widgets/controls",
          "model_name": "HTMLModel",
          "state": {
            "_view_name": "HTMLView",
            "style": "IPY_MODEL_82ef98b26c7f4e15a70e74cf38dba997",
            "_dom_classes": [],
            "description": "",
            "_model_name": "HTMLModel",
            "placeholder": "​",
            "_view_module": "@jupyter-widgets/controls",
            "_model_module_version": "1.5.0",
            "value": " 569/569 [00:13&lt;00:00, 42.06it/s]",
            "_view_count": null,
            "_view_module_version": "1.5.0",
            "description_tooltip": null,
            "_model_module": "@jupyter-widgets/controls",
            "layout": "IPY_MODEL_0d631419ce494b1eb57a339ddf75ce34"
          }
        },
        "31fb1579f3a4442ba683307415104b01": {
          "model_module": "@jupyter-widgets/controls",
          "model_name": "ProgressStyleModel",
          "state": {
            "_view_name": "StyleView",
            "_model_name": "ProgressStyleModel",
            "description_width": "initial",
            "_view_module": "@jupyter-widgets/base",
            "_model_module_version": "1.5.0",
            "_view_count": null,
            "_view_module_version": "1.2.0",
            "bar_color": null,
            "_model_module": "@jupyter-widgets/controls"
          }
        },
        "0231cb101240453aafc23efd8db9bfcf": {
          "model_module": "@jupyter-widgets/base",
          "model_name": "LayoutModel",
          "state": {
            "_view_name": "LayoutView",
            "grid_template_rows": null,
            "right": null,
            "justify_content": null,
            "_view_module": "@jupyter-widgets/base",
            "overflow": null,
            "_model_module_version": "1.2.0",
            "_view_count": null,
            "flex_flow": null,
            "width": null,
            "min_width": null,
            "border": null,
            "align_items": null,
            "bottom": null,
            "_model_module": "@jupyter-widgets/base",
            "top": null,
            "grid_column": null,
            "overflow_y": null,
            "overflow_x": null,
            "grid_auto_flow": null,
            "grid_area": null,
            "grid_template_columns": null,
            "flex": null,
            "_model_name": "LayoutModel",
            "justify_items": null,
            "grid_row": null,
            "max_height": null,
            "align_content": null,
            "visibility": null,
            "align_self": null,
            "height": null,
            "min_height": null,
            "padding": null,
            "grid_auto_rows": null,
            "grid_gap": null,
            "max_width": null,
            "order": null,
            "_view_module_version": "1.2.0",
            "grid_template_areas": null,
            "object_position": null,
            "object_fit": null,
            "grid_auto_columns": null,
            "margin": null,
            "display": null,
            "left": null
          }
        },
        "82ef98b26c7f4e15a70e74cf38dba997": {
          "model_module": "@jupyter-widgets/controls",
          "model_name": "DescriptionStyleModel",
          "state": {
            "_view_name": "StyleView",
            "_model_name": "DescriptionStyleModel",
            "description_width": "",
            "_view_module": "@jupyter-widgets/base",
            "_model_module_version": "1.5.0",
            "_view_count": null,
            "_view_module_version": "1.2.0",
            "_model_module": "@jupyter-widgets/controls"
          }
        },
        "0d631419ce494b1eb57a339ddf75ce34": {
          "model_module": "@jupyter-widgets/base",
          "model_name": "LayoutModel",
          "state": {
            "_view_name": "LayoutView",
            "grid_template_rows": null,
            "right": null,
            "justify_content": null,
            "_view_module": "@jupyter-widgets/base",
            "overflow": null,
            "_model_module_version": "1.2.0",
            "_view_count": null,
            "flex_flow": null,
            "width": null,
            "min_width": null,
            "border": null,
            "align_items": null,
            "bottom": null,
            "_model_module": "@jupyter-widgets/base",
            "top": null,
            "grid_column": null,
            "overflow_y": null,
            "overflow_x": null,
            "grid_auto_flow": null,
            "grid_area": null,
            "grid_template_columns": null,
            "flex": null,
            "_model_name": "LayoutModel",
            "justify_items": null,
            "grid_row": null,
            "max_height": null,
            "align_content": null,
            "visibility": null,
            "align_self": null,
            "height": null,
            "min_height": null,
            "padding": null,
            "grid_auto_rows": null,
            "grid_gap": null,
            "max_width": null,
            "order": null,
            "_view_module_version": "1.2.0",
            "grid_template_areas": null,
            "object_position": null,
            "object_fit": null,
            "grid_auto_columns": null,
            "margin": null,
            "display": null,
            "left": null
          }
        },
        "9d4f9b55362a4ec49d37b189fa251574": {
          "model_module": "@jupyter-widgets/controls",
          "model_name": "HBoxModel",
          "state": {
            "_view_name": "HBoxView",
            "_dom_classes": [],
            "_model_name": "HBoxModel",
            "_view_module": "@jupyter-widgets/controls",
            "_model_module_version": "1.5.0",
            "_view_count": null,
            "_view_module_version": "1.5.0",
            "box_style": "",
            "layout": "IPY_MODEL_5bb1a1df37e0405a834a26fa00392565",
            "_model_module": "@jupyter-widgets/controls",
            "children": [
              "IPY_MODEL_af5896a212374fd99c9c90ce7a781da4",
              "IPY_MODEL_64d0952796144039bfa4e15f8f380067"
            ]
          }
        },
        "5bb1a1df37e0405a834a26fa00392565": {
          "model_module": "@jupyter-widgets/base",
          "model_name": "LayoutModel",
          "state": {
            "_view_name": "LayoutView",
            "grid_template_rows": null,
            "right": null,
            "justify_content": null,
            "_view_module": "@jupyter-widgets/base",
            "overflow": null,
            "_model_module_version": "1.2.0",
            "_view_count": null,
            "flex_flow": null,
            "width": null,
            "min_width": null,
            "border": null,
            "align_items": null,
            "bottom": null,
            "_model_module": "@jupyter-widgets/base",
            "top": null,
            "grid_column": null,
            "overflow_y": null,
            "overflow_x": null,
            "grid_auto_flow": null,
            "grid_area": null,
            "grid_template_columns": null,
            "flex": null,
            "_model_name": "LayoutModel",
            "justify_items": null,
            "grid_row": null,
            "max_height": null,
            "align_content": null,
            "visibility": null,
            "align_self": null,
            "height": null,
            "min_height": null,
            "padding": null,
            "grid_auto_rows": null,
            "grid_gap": null,
            "max_width": null,
            "order": null,
            "_view_module_version": "1.2.0",
            "grid_template_areas": null,
            "object_position": null,
            "object_fit": null,
            "grid_auto_columns": null,
            "margin": null,
            "display": null,
            "left": null
          }
        },
        "af5896a212374fd99c9c90ce7a781da4": {
          "model_module": "@jupyter-widgets/controls",
          "model_name": "FloatProgressModel",
          "state": {
            "_view_name": "ProgressView",
            "style": "IPY_MODEL_331a54e6d459481f997ded593eef2c8b",
            "_dom_classes": [],
            "description": "100%",
            "_model_name": "FloatProgressModel",
            "bar_style": "success",
            "max": 101,
            "_view_module": "@jupyter-widgets/controls",
            "_model_module_version": "1.5.0",
            "value": 101,
            "_view_count": null,
            "_view_module_version": "1.5.0",
            "orientation": "horizontal",
            "min": 0,
            "description_tooltip": null,
            "_model_module": "@jupyter-widgets/controls",
            "layout": "IPY_MODEL_8cced83f4bea40858af6f662a18c7c28"
          }
        },
        "64d0952796144039bfa4e15f8f380067": {
          "model_module": "@jupyter-widgets/controls",
          "model_name": "HTMLModel",
          "state": {
            "_view_name": "HTMLView",
            "style": "IPY_MODEL_175b8990e09b4a2fb0741901c3f4e950",
            "_dom_classes": [],
            "description": "",
            "_model_name": "HTMLModel",
            "placeholder": "​",
            "_view_module": "@jupyter-widgets/controls",
            "_model_module_version": "1.5.0",
            "value": " 101/101 [00:02&lt;00:00, 35.88it/s]",
            "_view_count": null,
            "_view_module_version": "1.5.0",
            "description_tooltip": null,
            "_model_module": "@jupyter-widgets/controls",
            "layout": "IPY_MODEL_afc18dee264e47bf8a854cde18917cc3"
          }
        },
        "331a54e6d459481f997ded593eef2c8b": {
          "model_module": "@jupyter-widgets/controls",
          "model_name": "ProgressStyleModel",
          "state": {
            "_view_name": "StyleView",
            "_model_name": "ProgressStyleModel",
            "description_width": "initial",
            "_view_module": "@jupyter-widgets/base",
            "_model_module_version": "1.5.0",
            "_view_count": null,
            "_view_module_version": "1.2.0",
            "bar_color": null,
            "_model_module": "@jupyter-widgets/controls"
          }
        },
        "8cced83f4bea40858af6f662a18c7c28": {
          "model_module": "@jupyter-widgets/base",
          "model_name": "LayoutModel",
          "state": {
            "_view_name": "LayoutView",
            "grid_template_rows": null,
            "right": null,
            "justify_content": null,
            "_view_module": "@jupyter-widgets/base",
            "overflow": null,
            "_model_module_version": "1.2.0",
            "_view_count": null,
            "flex_flow": null,
            "width": null,
            "min_width": null,
            "border": null,
            "align_items": null,
            "bottom": null,
            "_model_module": "@jupyter-widgets/base",
            "top": null,
            "grid_column": null,
            "overflow_y": null,
            "overflow_x": null,
            "grid_auto_flow": null,
            "grid_area": null,
            "grid_template_columns": null,
            "flex": null,
            "_model_name": "LayoutModel",
            "justify_items": null,
            "grid_row": null,
            "max_height": null,
            "align_content": null,
            "visibility": null,
            "align_self": null,
            "height": null,
            "min_height": null,
            "padding": null,
            "grid_auto_rows": null,
            "grid_gap": null,
            "max_width": null,
            "order": null,
            "_view_module_version": "1.2.0",
            "grid_template_areas": null,
            "object_position": null,
            "object_fit": null,
            "grid_auto_columns": null,
            "margin": null,
            "display": null,
            "left": null
          }
        },
        "175b8990e09b4a2fb0741901c3f4e950": {
          "model_module": "@jupyter-widgets/controls",
          "model_name": "DescriptionStyleModel",
          "state": {
            "_view_name": "StyleView",
            "_model_name": "DescriptionStyleModel",
            "description_width": "",
            "_view_module": "@jupyter-widgets/base",
            "_model_module_version": "1.5.0",
            "_view_count": null,
            "_view_module_version": "1.2.0",
            "_model_module": "@jupyter-widgets/controls"
          }
        },
        "afc18dee264e47bf8a854cde18917cc3": {
          "model_module": "@jupyter-widgets/base",
          "model_name": "LayoutModel",
          "state": {
            "_view_name": "LayoutView",
            "grid_template_rows": null,
            "right": null,
            "justify_content": null,
            "_view_module": "@jupyter-widgets/base",
            "overflow": null,
            "_model_module_version": "1.2.0",
            "_view_count": null,
            "flex_flow": null,
            "width": null,
            "min_width": null,
            "border": null,
            "align_items": null,
            "bottom": null,
            "_model_module": "@jupyter-widgets/base",
            "top": null,
            "grid_column": null,
            "overflow_y": null,
            "overflow_x": null,
            "grid_auto_flow": null,
            "grid_area": null,
            "grid_template_columns": null,
            "flex": null,
            "_model_name": "LayoutModel",
            "justify_items": null,
            "grid_row": null,
            "max_height": null,
            "align_content": null,
            "visibility": null,
            "align_self": null,
            "height": null,
            "min_height": null,
            "padding": null,
            "grid_auto_rows": null,
            "grid_gap": null,
            "max_width": null,
            "order": null,
            "_view_module_version": "1.2.0",
            "grid_template_areas": null,
            "object_position": null,
            "object_fit": null,
            "grid_auto_columns": null,
            "margin": null,
            "display": null,
            "left": null
          }
        }
      }
    }
  },
  "cells": [
    {
      "cell_type": "markdown",
      "metadata": {
        "id": "view-in-github",
        "colab_type": "text"
      },
      "source": [
        "<a href=\"https://colab.research.google.com/github/shivammehta007/QuestionGenerator/blob/master/Answer_only_classification.ipynb\" target=\"_parent\"><img src=\"https://colab.research.google.com/assets/colab-badge.svg\" alt=\"Open In Colab\"/></a>"
      ]
    },
    {
      "cell_type": "markdown",
      "metadata": {
        "id": "Ae7AE9oK2JD_",
        "colab_type": "text"
      },
      "source": [
        "# Testing Classifier Model"
      ]
    },
    {
      "cell_type": "code",
      "metadata": {
        "id": "Rsu1peCb7daN",
        "colab_type": "code",
        "outputId": "c3dc724d-95db-47c5-a03a-64c666cfa0b1",
        "colab": {
          "base_uri": "https://localhost:8080/",
          "height": 34
        }
      },
      "source": [
        "# Essential Installation for working of notebook\n",
        "!pip install -U tqdm"
      ],
      "execution_count": 3,
      "outputs": [
        {
          "output_type": "stream",
          "text": [
            "Requirement already up-to-date: tqdm in /usr/local/lib/python3.6/dist-packages (4.45.0)\n"
          ],
          "name": "stdout"
        }
      ]
    },
    {
      "cell_type": "markdown",
      "metadata": {
        "id": "8Hfk5YOYgOaj",
        "colab_type": "text"
      },
      "source": [
        "### Imports"
      ]
    },
    {
      "cell_type": "code",
      "metadata": {
        "id": "GVZP3mPS9wVL",
        "colab_type": "code",
        "colab": {}
      },
      "source": [
        "import os\n",
        "import random\n",
        "\n",
        "import numpy as np\n",
        "import pandas as pd\n",
        "import matplotlib.pyplot as plt\n",
        "import spacy\n",
        "import seaborn as sns\n",
        "import torch\n",
        "from sklearn.ensemble import RandomForestClassifier\n",
        "from sklearn.feature_extraction.text import CountVectorizer, TfidfVectorizer\n",
        "from sklearn.linear_model import LogisticRegression\n",
        "from sklearn.model_selection import cross_validate, train_test_split\n",
        "from sklearn.naive_bayes import MultinomialNB\n",
        "from sklearn.pipeline import Pipeline\n",
        "from sklearn.preprocessing import LabelEncoder\n",
        "from sklearn.svm import SVC\n",
        "from sklearn.metrics import f1_score\n",
        "from tqdm.auto import tqdm, trange\n",
        "from wordcloud import WordCloud\n",
        "from xgboost import XGBClassifier"
      ],
      "execution_count": 0,
      "outputs": []
    },
    {
      "cell_type": "markdown",
      "metadata": {
        "id": "5Py7tdaXgR8y",
        "colab_type": "text"
      },
      "source": [
        "### Environment Setup "
      ]
    },
    {
      "cell_type": "code",
      "metadata": {
        "id": "mY87HEAVQtfK",
        "colab_type": "code",
        "colab": {}
      },
      "source": [
        ""
      ],
      "execution_count": 0,
      "outputs": []
    },
    {
      "cell_type": "code",
      "metadata": {
        "id": "r10qWJbbjEhd",
        "colab_type": "code",
        "colab": {}
      },
      "source": [
        "SEED=1234\n",
        "def seed_all(seed=1234):\n",
        "    \"\"\"Seed the results for duplication\"\"\"\n",
        "    random.seed(seed)\n",
        "    os.environ[\"PYTHONHASHSEED\"] = str(seed)\n",
        "    np.random.seed(seed)\n",
        "    torch.manual_seed(seed)\n",
        "    torch.cuda.manual_seed(seed)\n",
        "    torch.backends.cudnn.deterministic = True\n",
        "\n",
        "seed_all(SEED)"
      ],
      "execution_count": 0,
      "outputs": []
    },
    {
      "cell_type": "code",
      "metadata": {
        "id": "3S63rjWZ-BPZ",
        "colab_type": "code",
        "colab": {}
      },
      "source": [
        "tqdm.pandas()\n",
        "nlp = spacy.load(\"en_core_web_sm\") "
      ],
      "execution_count": 0,
      "outputs": []
    },
    {
      "cell_type": "code",
      "metadata": {
        "id": "121_OlhKDRlN",
        "colab_type": "code",
        "outputId": "8510ca6c-c715-487c-96a9-a2a1fa34b746",
        "colab": {
          "base_uri": "https://localhost:8080/",
          "height": 122
        }
      },
      "source": [
        "from google.colab import drive\n",
        "drive.mount('/content/drive')"
      ],
      "execution_count": 7,
      "outputs": [
        {
          "output_type": "stream",
          "text": [
            "Go to this URL in a browser: https://accounts.google.com/o/oauth2/auth?client_id=947318989803-6bn6qk8qdgf4n4g3pfee6491hc0brc4i.apps.googleusercontent.com&redirect_uri=urn%3aietf%3awg%3aoauth%3a2.0%3aoob&response_type=code&scope=email%20https%3a%2f%2fwww.googleapis.com%2fauth%2fdocs.test%20https%3a%2f%2fwww.googleapis.com%2fauth%2fdrive%20https%3a%2f%2fwww.googleapis.com%2fauth%2fdrive.photos.readonly%20https%3a%2f%2fwww.googleapis.com%2fauth%2fpeopleapi.readonly\n",
            "\n",
            "Enter your authorization code:\n",
            "··········\n",
            "Mounted at /content/drive\n"
          ],
          "name": "stdout"
        }
      ]
    },
    {
      "cell_type": "code",
      "metadata": {
        "id": "B38Mrn28_EMM",
        "colab_type": "code",
        "colab": {}
      },
      "source": [
        "DATASET_LOCATION = '/content/drive/My Drive/Data/GrammarDataset.csv'"
      ],
      "execution_count": 0,
      "outputs": []
    },
    {
      "cell_type": "markdown",
      "metadata": {
        "id": "tkkTC5QKgUcv",
        "colab_type": "text"
      },
      "source": [
        "## Dataset Overview"
      ]
    },
    {
      "cell_type": "code",
      "metadata": {
        "id": "3xNvBg2qAYW7",
        "colab_type": "code",
        "colab": {}
      },
      "source": [
        "original_dataset = pd.read_csv(DATASET_LOCATION, sep=\"\\t\")"
      ],
      "execution_count": 0,
      "outputs": []
    },
    {
      "cell_type": "code",
      "metadata": {
        "id": "WMx5VjuhAces",
        "colab_type": "code",
        "outputId": "1cf4d39b-5c81-4813-9d74-810727774881",
        "colab": {
          "base_uri": "https://localhost:8080/",
          "height": 204
        }
      },
      "source": [
        "original_dataset.head()"
      ],
      "execution_count": 10,
      "outputs": [
        {
          "output_type": "execute_result",
          "data": {
            "text/html": [
              "<div>\n",
              "<style scoped>\n",
              "    .dataframe tbody tr th:only-of-type {\n",
              "        vertical-align: middle;\n",
              "    }\n",
              "\n",
              "    .dataframe tbody tr th {\n",
              "        vertical-align: top;\n",
              "    }\n",
              "\n",
              "    .dataframe thead th {\n",
              "        text-align: right;\n",
              "    }\n",
              "</style>\n",
              "<table border=\"1\" class=\"dataframe\">\n",
              "  <thead>\n",
              "    <tr style=\"text-align: right;\">\n",
              "      <th></th>\n",
              "      <th>Question</th>\n",
              "      <th>key</th>\n",
              "      <th>answer</th>\n",
              "      <th>Type of Question</th>\n",
              "      <th>Sub Section</th>\n",
              "    </tr>\n",
              "  </thead>\n",
              "  <tbody>\n",
              "    <tr>\n",
              "      <th>0</th>\n",
              "      <td>She _________________ some chocolates to the p...</td>\n",
              "      <td>bring</td>\n",
              "      <td>She brought some chocolates to the party.</td>\n",
              "      <td>irregular verb</td>\n",
              "      <td>past simple</td>\n",
              "    </tr>\n",
              "    <tr>\n",
              "      <th>1</th>\n",
              "      <td>I _________________ a new song on the radio.</td>\n",
              "      <td>hear</td>\n",
              "      <td>I heard a new song on the radio.</td>\n",
              "      <td>irregular verb</td>\n",
              "      <td>past simple</td>\n",
              "    </tr>\n",
              "    <tr>\n",
              "      <th>2</th>\n",
              "      <td>I _________________ three books last week.</td>\n",
              "      <td>read</td>\n",
              "      <td>I read three books last week.</td>\n",
              "      <td>irregular verb</td>\n",
              "      <td>past simple</td>\n",
              "    </tr>\n",
              "    <tr>\n",
              "      <th>3</th>\n",
              "      <td>They _________________ French to the waitress.</td>\n",
              "      <td>speak</td>\n",
              "      <td>They spoke French to the waitress.</td>\n",
              "      <td>irregular verb</td>\n",
              "      <td>past simple</td>\n",
              "    </tr>\n",
              "    <tr>\n",
              "      <th>4</th>\n",
              "      <td>He _________________ during the class but now ...</td>\n",
              "      <td>understand</td>\n",
              "      <td>He understood during the class but now he doe...</td>\n",
              "      <td>irregular verb</td>\n",
              "      <td>past simple</td>\n",
              "    </tr>\n",
              "  </tbody>\n",
              "</table>\n",
              "</div>"
            ],
            "text/plain": [
              "                                            Question  ...  Sub Section\n",
              "0  She _________________ some chocolates to the p...  ...  past simple\n",
              "1       I _________________ a new song on the radio.  ...  past simple\n",
              "2         I _________________ three books last week.  ...  past simple\n",
              "3     They _________________ French to the waitress.  ...  past simple\n",
              "4  He _________________ during the class but now ...  ...  past simple\n",
              "\n",
              "[5 rows x 5 columns]"
            ]
          },
          "metadata": {
            "tags": []
          },
          "execution_count": 10
        }
      ]
    },
    {
      "cell_type": "code",
      "metadata": {
        "id": "8QICR81Tmxrj",
        "colab_type": "code",
        "outputId": "47b1c42b-9b2b-4c66-9e4c-36b5ec4c6041",
        "colab": {
          "base_uri": "https://localhost:8080/",
          "height": 119
        }
      },
      "source": [
        "original_dataset.dtypes"
      ],
      "execution_count": 11,
      "outputs": [
        {
          "output_type": "execute_result",
          "data": {
            "text/plain": [
              "Question            object\n",
              "key                 object\n",
              "answer              object\n",
              "Type of Question    object\n",
              "Sub Section         object\n",
              "dtype: object"
            ]
          },
          "metadata": {
            "tags": []
          },
          "execution_count": 11
        }
      ]
    },
    {
      "cell_type": "markdown",
      "metadata": {
        "id": "gVHkoe1abm0s",
        "colab_type": "text"
      },
      "source": [
        "#### EDA"
      ]
    },
    {
      "cell_type": "code",
      "metadata": {
        "id": "QTmoHupIbp02",
        "colab_type": "code",
        "outputId": "079b94c8-3b95-4b2e-d2c0-64658aeac251",
        "colab": {
          "base_uri": "https://localhost:8080/",
          "height": 584
        }
      },
      "source": [
        "ax, fig = plt.subplots(figsize=(10, 7))\n",
        "question_class = original_dataset[\"Type of Question\"].value_counts()\n",
        "question_class.plot(kind='bar')\n",
        "plt.title('Type of Question Counts')\n",
        "plt.show()"
      ],
      "execution_count": 12,
      "outputs": [
        {
          "output_type": "display_data",
          "data": {
            "image/png": "[encoded data removed]",
            "text/plain": [
              "<Figure size 720x504 with 1 Axes>"
            ]
          },
          "metadata": {
            "tags": [],
            "needs_background": "light"
          }
        }
      ]
    },
    {
      "cell_type": "code",
      "metadata": {
        "id": "WJQyD0KvhYoJ",
        "colab_type": "code",
        "outputId": "510dacf8-f343-4711-d24a-87cc48941911",
        "colab": {
          "base_uri": "https://localhost:8080/",
          "height": 511
        }
      },
      "source": [
        "insincere_wordcloud = WordCloud(width=600, height=400).generate(\" \".join(original_dataset[\"key\"]))\n",
        "plt.figure( figsize=(10,8), facecolor='k')\n",
        "plt.imshow(insincere_wordcloud)\n",
        "plt.axis(\"off\")\n",
        "plt.tight_layout(pad=0)\n",
        "plt.show()"
      ],
      "execution_count": 13,
      "outputs": [
        {
          "output_type": "display_data",
          "data": {
            "image/png": "[encoded data removed]",
            "text/plain": [
              "<Figure size 720x576 with 1 Axes>"
            ]
          },
          "metadata": {
            "tags": []
          }
        }
      ]
    },
    {
      "cell_type": "markdown",
      "metadata": {
        "id": "AX8Zcvdh2QH8",
        "colab_type": "text"
      },
      "source": [
        "### PreProcessing"
      ]
    },
    {
      "cell_type": "code",
      "metadata": {
        "id": "g_GyP2NiAdUH",
        "colab_type": "code",
        "colab": {}
      },
      "source": [
        "def preprocessor(dataset):\n",
        "    # Replace continuous underscores with single one\n",
        "    dataset[\"Question\"] = dataset[\"Question\"].str.replace(\"[_]{2,}\", \"_\")\n",
        "    # Remove Brackets\n",
        "    dataset[\"Question\"] = dataset[\"Question\"].str.replace(\"[\\)\\(]\", \"\")\n",
        "    # Strip whitespaces\n",
        "    dataset[\"Question\"] = dataset[\"Question\"].apply(lambda x: x.strip())\n",
        "    # Convert all text to lowercase\n",
        "    for columns in dataset.columns:\n",
        "        dataset[columns] = dataset[columns].str.lower() \n",
        "\n",
        "    return dataset"
      ],
      "execution_count": 0,
      "outputs": []
    },
    {
      "cell_type": "code",
      "metadata": {
        "id": "6BS5iKckgrQd",
        "colab_type": "code",
        "colab": {}
      },
      "source": [
        "original_dataset = preprocessor(original_dataset)"
      ],
      "execution_count": 0,
      "outputs": []
    },
    {
      "cell_type": "code",
      "metadata": {
        "id": "22ZIHZy3jW5C",
        "colab_type": "code",
        "outputId": "4b1d55a2-419e-4ec5-9a68-d651fb74cb44",
        "colab": {
          "base_uri": "https://localhost:8080/",
          "height": 0
        }
      },
      "source": [
        "original_dataset.columns"
      ],
      "execution_count": 16,
      "outputs": [
        {
          "output_type": "execute_result",
          "data": {
            "text/plain": [
              "Index(['Question', 'key', 'answer', 'Type of Question', 'Sub Section'], dtype='object')"
            ]
          },
          "metadata": {
            "tags": []
          },
          "execution_count": 16
        }
      ]
    },
    {
      "cell_type": "markdown",
      "metadata": {
        "id": "eJT_3Bdd9u01",
        "colab_type": "text"
      },
      "source": [
        "#### Encoding Labels"
      ]
    },
    {
      "cell_type": "code",
      "metadata": {
        "id": "T8ef8cs39uF6",
        "colab_type": "code",
        "colab": {}
      },
      "source": [
        "label_encoder = LabelEncoder()\n",
        "original_dataset[\"Type of Question\"] = label_encoder.fit_transform(original_dataset[\"Type of Question\"])"
      ],
      "execution_count": 0,
      "outputs": []
    },
    {
      "cell_type": "markdown",
      "metadata": {
        "id": "8fNWF4uwBl0t",
        "colab_type": "text"
      },
      "source": [
        "#### Split Training and Testing Data"
      ]
    },
    {
      "cell_type": "code",
      "metadata": {
        "id": "nX6L5x2Y9sHw",
        "colab_type": "code",
        "colab": {}
      },
      "source": [
        "X_train_orig_dataset, X_test_orig_dataset, y_train_orig_dataset, y_test_orig_dataset = train_test_split(original_dataset[\"answer\"], original_dataset[\"Type of Question\"], random_state=SEED, test_size=0.15)"
      ],
      "execution_count": 0,
      "outputs": []
    },
    {
      "cell_type": "code",
      "metadata": {
        "id": "iaUHWhAcCb4t",
        "colab_type": "code",
        "outputId": "b66c6b91-f6df-464e-a5cd-3de2bde13187",
        "colab": {
          "base_uri": "https://localhost:8080/",
          "height": 0
        }
      },
      "source": [
        "X_train_orig_dataset.shape, X_test_orig_dataset.shape, y_train_orig_dataset.shape, y_test_orig_dataset.shape"
      ],
      "execution_count": 19,
      "outputs": [
        {
          "output_type": "execute_result",
          "data": {
            "text/plain": [
              "((569,), (101,), (569,), (101,))"
            ]
          },
          "metadata": {
            "tags": []
          },
          "execution_count": 19
        }
      ]
    },
    {
      "cell_type": "markdown",
      "metadata": {
        "id": "OnGk8SFb4Wm2",
        "colab_type": "text"
      },
      "source": [
        "## Experiments:"
      ]
    },
    {
      "cell_type": "code",
      "metadata": {
        "id": "8P-vu3VSD3Yz",
        "colab_type": "code",
        "outputId": "fd2f4933-33de-439b-fb73-aae611c95983",
        "colab": {
          "base_uri": "https://localhost:8080/",
          "height": 119
        }
      },
      "source": [
        "X_train_orig_dataset.head()"
      ],
      "execution_count": 20,
      "outputs": [
        {
          "output_type": "execute_result",
          "data": {
            "text/plain": [
              "271                             how do they get to work?\n",
              "488    we were late for the plane because we had forg...\n",
              "131                                   we aren't thirsty.\n",
              "643    he will have been cooking, so the kitchen will...\n",
              "155                                   are you in a cafe?\n",
              "Name: answer, dtype: object"
            ]
          },
          "metadata": {
            "tags": []
          },
          "execution_count": 20
        }
      ]
    },
    {
      "cell_type": "markdown",
      "metadata": {
        "id": "-w5DIu3WcsEd",
        "colab_type": "text"
      },
      "source": [
        "### Experimentation Setup"
      ]
    },
    {
      "cell_type": "markdown",
      "metadata": {
        "id": "SHeY-yA13DxF",
        "colab_type": "text"
      },
      "source": [
        "#### Models"
      ]
    },
    {
      "cell_type": "code",
      "metadata": {
        "id": "CcgkQ9KCFHKX",
        "colab_type": "code",
        "colab": {}
      },
      "source": [
        "text_vectorizers = [\n",
        "                    ('CountVectorizer', CountVectorizer(tokenizer=lambda x: x.split())), \n",
        "                    ('TfIdFVectorize', TfidfVectorizer(tokenizer=lambda x: x.split()))\n",
        "                ]\n",
        "classifiers = [\n",
        "               ('MultiNomial Naive Bais', MultinomialNB(alpha=0.1)),\n",
        "               ('SVM', SVC()),\n",
        "               ('LogisticRegression', LogisticRegression(max_iter=5000)), \n",
        "               ('RandomForest', RandomForestClassifier()), \n",
        "               ('XGBClassifier', XGBClassifier(random_state=SEED, learning_rate=0.01))\n",
        "            ]"
      ],
      "execution_count": 0,
      "outputs": []
    },
    {
      "cell_type": "code",
      "metadata": {
        "id": "ycPqgf8Ri40_",
        "colab_type": "code",
        "colab": {}
      },
      "source": [
        "def check_classification(X_train, y_train, X_test, y_test):\n",
        "\n",
        "    # Result DataFrame\n",
        "    result_dataframe = pd.DataFrame({\n",
        "        'Vectorizer': [name for name, model in text_vectorizers]\n",
        "        }, columns = ['Vectorizer'] + [name for name, model in classifiers])\n",
        "    result_dataframe.set_index('Vectorizer', inplace=True)\n",
        "\n",
        "\n",
        "    best_score = 0\n",
        "    best_model = None\n",
        "    best_pipe = None\n",
        "    for classifier_name, classifier in classifiers:\n",
        "        for text_vectorizer_name, text_vectorizer in text_vectorizers:\n",
        "            pipe = Pipeline(steps=[\n",
        "                                ('text_vec', text_vectorizer),\n",
        "                                ('class', classifier)\n",
        "            ])\n",
        "            pipe.fit(X_train, y_train)\n",
        "            f1_measure = f1_score(pipe.predict(X_test), y_test, average='micro')\n",
        "            # print('Model : {} -> {}:  accuracy: {:.4f}'.format(text_vectorizer_name, classifier_name, acc*100))\n",
        "            result_dataframe[classifier_name][text_vectorizer_name] = '{:.4f}'.format(f1_measure)\n",
        "\n",
        "            if f1_measure > best_score:\n",
        "                best_score = f1_measure\n",
        "                best_pipe = pipe\n",
        "                best_model = '{} -> {}'.format(text_vectorizer_name, classifier_name)\n",
        "    # TODO: Remove while actually writing the code Code for Debugging\n",
        "    # analyzer = best_pipe['text_vec'].build_analyzer()\n",
        "    # print(analyzer(\"i _ the steak for dinner.  choose  i chose the steak for dinner.\"))\n",
        "    # print(analyzer(\"words#i _ words#_ words#the words#steak words#for words#dinner words#. words#  words#choose words#  words#i words#chose words#the words#steak words#for words#dinner words#.\"))\n",
        "    # with np.printoptions(threshold=np.inf):\n",
        "    #     print(\"First: {}\".format(best_pipe['text_vec'].transform([\"i _ the steak for dinner.  choose  i chose the steak for dinner.\"])[0]))\n",
        "    #     print(\"Second: {}\".format(best_pipe['text_vec'].transform([\"words#i words#_ words#the words#steak words#for words#dinner words#. words#  words#choose words#  words#i words#chose words#the words#steak words#for words#dinner words#.\"])[0]))\n",
        "\n",
        "\n",
        "    print(\"\\n\\nBest F1 Measure was: {:.4f} with the Model: {}\".format(best_score, best_model))\n",
        "    return result_dataframe"
      ],
      "execution_count": 0,
      "outputs": []
    },
    {
      "cell_type": "markdown",
      "metadata": {
        "id": "l_qWhanA3KM_",
        "colab_type": "text"
      },
      "source": [
        "#### Result Placeholder"
      ]
    },
    {
      "cell_type": "code",
      "metadata": {
        "id": "8QzCpvclfk6g",
        "colab_type": "code",
        "colab": {}
      },
      "source": [
        "result_dataframe = pd.DataFrame({\n",
        "        'Vectorizer': [name for name, model in text_vectorizers]\n",
        "        }, columns = ['Vectorizer'] + [name for name, model in classifiers])\n",
        "result_dataframe.set_index('Vectorizer', inplace=True)\n",
        "\n",
        "results = []"
      ],
      "execution_count": 0,
      "outputs": []
    },
    {
      "cell_type": "markdown",
      "metadata": {
        "id": "IARArelo3U7S",
        "colab_type": "text"
      },
      "source": [
        "#### N-Gram Generator"
      ]
    },
    {
      "cell_type": "code",
      "metadata": {
        "id": "zyh7vACj3UIl",
        "colab_type": "code",
        "outputId": "5bd9c5be-fc29-44b5-ecc4-911721ac03ab",
        "colab": {
          "base_uri": "https://localhost:8080/",
          "height": 0
        }
      },
      "source": [
        "from itertools import cycle\n",
        "from collections import deque\n",
        "\n",
        "def ngrams(sentence, n=2):\n",
        "    words = [word.text for word in nlp(sentence)]\n",
        "    d = deque(maxlen=n)\n",
        "    d.extend(words[:n])\n",
        "    words = words[n:]\n",
        "    results = []\n",
        "    for window, word in zip(cycle((d,)), words):\n",
        "        results.append([ngram for ngram in window])\n",
        "        d.append(word)\n",
        "    results.append([ngram for ngram in d])\n",
        "\n",
        "    return results\n",
        "\n",
        "ngrams(\"this sentence is a test sentence to check ngrams\")"
      ],
      "execution_count": 24,
      "outputs": [
        {
          "output_type": "execute_result",
          "data": {
            "text/plain": [
              "[['this', 'sentence'],\n",
              " ['sentence', 'is'],\n",
              " ['is', 'a'],\n",
              " ['a', 'test'],\n",
              " ['test', 'sentence'],\n",
              " ['sentence', 'to'],\n",
              " ['to', 'check'],\n",
              " ['check', 'ngrams']]"
            ]
          },
          "metadata": {
            "tags": []
          },
          "execution_count": 24
        }
      ]
    },
    {
      "cell_type": "code",
      "metadata": {
        "id": "7RXScOm34hRI",
        "colab_type": "code",
        "outputId": "f7654166-c66b-47a0-dda9-4df7fb1fe95d",
        "colab": {
          "base_uri": "https://localhost:8080/",
          "height": 0
        }
      },
      "source": [
        "for n in range(2,5):\n",
        "    print(\" {}-Grams:\".format(n), end=\" \")\n",
        "    print(ngrams(\"Hello World! This is a test example of N-Gram generator\", n))"
      ],
      "execution_count": 25,
      "outputs": [
        {
          "output_type": "stream",
          "text": [
            " 2-Grams: [['Hello', 'World'], ['World', '!'], ['!', 'This'], ['This', 'is'], ['is', 'a'], ['a', 'test'], ['test', 'example'], ['example', 'of'], ['of', 'N'], ['N', '-'], ['-', 'Gram'], ['Gram', 'generator']]\n",
            " 3-Grams: [['Hello', 'World', '!'], ['World', '!', 'This'], ['!', 'This', 'is'], ['This', 'is', 'a'], ['is', 'a', 'test'], ['a', 'test', 'example'], ['test', 'example', 'of'], ['example', 'of', 'N'], ['of', 'N', '-'], ['N', '-', 'Gram'], ['-', 'Gram', 'generator']]\n",
            " 4-Grams: [['Hello', 'World', '!', 'This'], ['World', '!', 'This', 'is'], ['!', 'This', 'is', 'a'], ['This', 'is', 'a', 'test'], ['is', 'a', 'test', 'example'], ['a', 'test', 'example', 'of'], ['test', 'example', 'of', 'N'], ['example', 'of', 'N', '-'], ['of', 'N', '-', 'Gram'], ['N', '-', 'Gram', 'generator']]\n"
          ],
          "name": "stdout"
        }
      ]
    },
    {
      "cell_type": "markdown",
      "metadata": {
        "id": "6XtV4oEY9RdY",
        "colab_type": "text"
      },
      "source": [
        "#### Sample Generator"
      ]
    },
    {
      "cell_type": "code",
      "metadata": {
        "id": "JTj9-ty58yrZ",
        "colab_type": "code",
        "colab": {}
      },
      "source": [
        "def get_input_samples(X, y, n=5):\n",
        "    results = []\n",
        "    for i in random.sample(range(len(X) - 1), n):\n",
        "        results.append(\"{} --> {} \".format(X.iloc[i], label_encoder.inverse_transform([y.iloc[i]])))\n",
        "\n",
        "    return results"
      ],
      "execution_count": 0,
      "outputs": []
    },
    {
      "cell_type": "markdown",
      "metadata": {
        "id": "B-xUadw94aQa",
        "colab_type": "text"
      },
      "source": [
        "### Experiment 1:  Word#\\$\\{$words_i$\\}\n",
        "Concatenating Question + key + answer in a Bag Of Words Approach \\\\\n",
        "No Feature Engineering"
      ]
    },
    {
      "cell_type": "code",
      "metadata": {
        "id": "t3w4PFR9jGau",
        "colab_type": "code",
        "colab": {}
      },
      "source": [
        "experiment_text = \"Taking only Answer like word#word_i\""
      ],
      "execution_count": 0,
      "outputs": []
    },
    {
      "cell_type": "markdown",
      "metadata": {
        "id": "NPWAO_stJEkI",
        "colab_type": "text"
      },
      "source": [
        "#### Preprocessing"
      ]
    },
    {
      "cell_type": "code",
      "metadata": {
        "id": "huoQqpg9jqf7",
        "colab_type": "code",
        "colab": {}
      },
      "source": [
        "X_train = X_train_orig_dataset\n",
        "y_train = y_train_orig_dataset\n",
        "X_test = X_test_orig_dataset\n",
        "y_test = y_test_orig_dataset"
      ],
      "execution_count": 0,
      "outputs": []
    },
    {
      "cell_type": "code",
      "metadata": {
        "id": "LgBf1aTiil9J",
        "colab_type": "code",
        "outputId": "deac3b53-c60d-4e04-c39c-79ddf5f0aec8",
        "colab": {
          "base_uri": "https://localhost:8080/",
          "height": 54
        }
      },
      "source": [
        "def add_word_template(text):\n",
        "    tokens = nlp(text)\n",
        "    text = []\n",
        "    for token in tokens:\n",
        "        text.append(\"words#{}\".format(token.text))\n",
        "\n",
        "    return \" \".join(text)\n",
        "\n",
        "add_word_template(\"i _ the steak for dinner.  choose  i chose the steak for dinner.\")"
      ],
      "execution_count": 29,
      "outputs": [
        {
          "output_type": "execute_result",
          "data": {
            "text/plain": [
              "'words#i words#_ words#the words#steak words#for words#dinner words#. words#  words#choose words#  words#i words#chose words#the words#steak words#for words#dinner words#.'"
            ]
          },
          "metadata": {
            "tags": []
          },
          "execution_count": 29
        }
      ]
    },
    {
      "cell_type": "code",
      "metadata": {
        "id": "PNwKiGSkiu7g",
        "colab_type": "code",
        "outputId": "4314fb35-515e-4572-8b35-86499345fb89",
        "colab": {
          "base_uri": "https://localhost:8080/",
          "height": 115,
          "referenced_widgets": [
            "1e363626b37246d3a819c2c62c7a3c96",
            "de9a9614b52f45f3a47a3e18a0640ad9",
            "3948afe6e4fd4069ba632b2219f0117c",
            "37accdd606f64ebb8b833ce36c1775f7",
            "4f37f976ed224030a6efed27c3023e07",
            "dcb42bb10e1a4f868090493e7636aef9",
            "42923c8bd01342759169cf5bf6f44d86",
            "aed42bc239cd4320b7fd6ebf60edd605",
            "925863f998884f3dbbadba7b6f047e74",
            "1410971171b3455aa40cc8310ca59789",
            "a06f769e0b2a4035bd41931a75a22fa3",
            "bfba846b3a1c4fafb2008aa01b438079",
            "91dd51fc53b54d3391eb744c57941f9e",
            "3a0826fe950342fe82cbaac00ddc60c4",
            "6c2f4c3aa52447a38ee999e612ce7ffb",
            "7f470a228ff342d0828b303de6c73779"
          ]
        }
      },
      "source": [
        "X_train = X_train.progress_apply(add_word_template)\n",
        "X_test = X_test.progress_apply(add_word_template)"
      ],
      "execution_count": 30,
      "outputs": [
        {
          "output_type": "display_data",
          "data": {
            "application/vnd.jupyter.widget-view+json": {
              "model_id": "1e363626b37246d3a819c2c62c7a3c96",
              "version_minor": 0,
              "version_major": 2
            },
            "text/plain": [
              "HBox(children=(FloatProgress(value=0.0, max=569.0), HTML(value='')))"
            ]
          },
          "metadata": {
            "tags": []
          }
        },
        {
          "output_type": "stream",
          "text": [
            "\n"
          ],
          "name": "stdout"
        },
        {
          "output_type": "display_data",
          "data": {
            "application/vnd.jupyter.widget-view+json": {
              "model_id": "925863f998884f3dbbadba7b6f047e74",
              "version_minor": 0,
              "version_major": 2
            },
            "text/plain": [
              "HBox(children=(FloatProgress(value=0.0, max=101.0), HTML(value='')))"
            ]
          },
          "metadata": {
            "tags": []
          }
        },
        {
          "output_type": "stream",
          "text": [
            "\n"
          ],
          "name": "stdout"
        }
      ]
    },
    {
      "cell_type": "markdown",
      "metadata": {
        "id": "YpHet4C8lc80",
        "colab_type": "text"
      },
      "source": [
        "#### Input Samples"
      ]
    },
    {
      "cell_type": "code",
      "metadata": {
        "id": "oleE2PRxltmf",
        "colab_type": "code",
        "outputId": "bea74474-2c78-42bc-b10d-e27e3318ed45",
        "colab": {
          "base_uri": "https://localhost:8080/",
          "height": 122
        }
      },
      "source": [
        "get_input_samples(X_train, y_train)"
      ],
      "execution_count": 31,
      "outputs": [
        {
          "output_type": "execute_result",
          "data": {
            "text/plain": [
              "[\"words#they words#had words#n't words#eaten words#so words#we words#went words#to words#a words#restaurant words#. --> ['3rd form of verb'] \",\n",
              " \"words#when words#are words#you words#leaving words#? --> ['verb+ing'] \",\n",
              " \"words#they words#live words#in words#london words#. --> ['verb(s/es)'] \",\n",
              " \"words#how words#long words#had words#he words#been words#playing words#football words#when words#he words#was words#injured words#? --> ['had been verb+ing'] \",\n",
              " \"words#had words#she words#seen words#the words#film words#already words#? --> ['3rd form of verb'] \"]"
            ]
          },
          "metadata": {
            "tags": []
          },
          "execution_count": 31
        }
      ]
    },
    {
      "cell_type": "markdown",
      "metadata": {
        "id": "tvz8r-4M20D5",
        "colab_type": "text"
      },
      "source": [
        "#### Experimentation Results"
      ]
    },
    {
      "cell_type": "code",
      "metadata": {
        "id": "LjmfITvoEHid",
        "colab_type": "code",
        "outputId": "31348e72-0b48-4967-f62f-f42b06c0799b",
        "colab": {
          "base_uri": "https://localhost:8080/",
          "height": 193
        }
      },
      "source": [
        "result = check_classification(X_train, y_train, X_test, y_test)\n",
        "results.append((experiment_text, result))\n",
        "result\n",
        "\n",
        "# First:   (0, 24)\t1\n",
        "#   (0, 193)\t1\n",
        "#   (0, 194)\t1\n",
        "#   (0, 257)\t2\n",
        "#   (0, 356)\t2\n",
        "#   (0, 447)\t2\n",
        "#   (0, 851)\t2\n",
        "#   (0, 912)\t2\n",
        "# Second:   (0, 24)"
      ],
      "execution_count": 32,
      "outputs": [
        {
          "output_type": "stream",
          "text": [
            "\n",
            "\n",
            "Best F1 Measure was: 0.8218 with the Model: CountVectorizer -> RandomForest\n"
          ],
          "name": "stdout"
        },
        {
          "output_type": "execute_result",
          "data": {
            "text/html": [
              "<div>\n",
              "<style scoped>\n",
              "    .dataframe tbody tr th:only-of-type {\n",
              "        vertical-align: middle;\n",
              "    }\n",
              "\n",
              "    .dataframe tbody tr th {\n",
              "        vertical-align: top;\n",
              "    }\n",
              "\n",
              "    .dataframe thead th {\n",
              "        text-align: right;\n",
              "    }\n",
              "</style>\n",
              "<table border=\"1\" class=\"dataframe\">\n",
              "  <thead>\n",
              "    <tr style=\"text-align: right;\">\n",
              "      <th></th>\n",
              "      <th>MultiNomial Naive Bais</th>\n",
              "      <th>SVM</th>\n",
              "      <th>LogisticRegression</th>\n",
              "      <th>RandomForest</th>\n",
              "      <th>XGBClassifier</th>\n",
              "    </tr>\n",
              "    <tr>\n",
              "      <th>Vectorizer</th>\n",
              "      <th></th>\n",
              "      <th></th>\n",
              "      <th></th>\n",
              "      <th></th>\n",
              "      <th></th>\n",
              "    </tr>\n",
              "  </thead>\n",
              "  <tbody>\n",
              "    <tr>\n",
              "      <th>CountVectorizer</th>\n",
              "      <td>0.8119</td>\n",
              "      <td>0.7921</td>\n",
              "      <td>0.8020</td>\n",
              "      <td>0.8218</td>\n",
              "      <td>0.7525</td>\n",
              "    </tr>\n",
              "    <tr>\n",
              "      <th>TfIdFVectorize</th>\n",
              "      <td>0.7822</td>\n",
              "      <td>0.8119</td>\n",
              "      <td>0.8020</td>\n",
              "      <td>0.7624</td>\n",
              "      <td>0.7426</td>\n",
              "    </tr>\n",
              "  </tbody>\n",
              "</table>\n",
              "</div>"
            ],
            "text/plain": [
              "                MultiNomial Naive Bais     SVM  ... RandomForest XGBClassifier\n",
              "Vectorizer                                      ...                           \n",
              "CountVectorizer                 0.8119  0.7921  ...       0.8218        0.7525\n",
              "TfIdFVectorize                  0.7822  0.8119  ...       0.7624        0.7426\n",
              "\n",
              "[2 rows x 5 columns]"
            ]
          },
          "metadata": {
            "tags": []
          },
          "execution_count": 32
        }
      ]
    },
    {
      "cell_type": "markdown",
      "metadata": {
        "id": "y52L3ohfSGnN",
        "colab_type": "text"
      },
      "source": [
        "### Experiment 2: word_pos#\\$\\{$word_i$\\}_\\$\\{$pos_i$\\}\n",
        "With Word and POS tags, token.tag_ gives a detailed POS tag where we can distinguish between forms of verb. \\\\\n",
        "More Information https://spacy.io/api/annotation#pos-tagging about the tags"
      ]
    },
    {
      "cell_type": "code",
      "metadata": {
        "id": "U4cmKc0wks5S",
        "colab_type": "code",
        "colab": {}
      },
      "source": [
        "experiment_text = \"Adding Pos Tags along with word word_pos#{word_i}_{pos_i} + k#tags + a#tags Unigrams\""
      ],
      "execution_count": 0,
      "outputs": []
    },
    {
      "cell_type": "markdown",
      "metadata": {
        "id": "zdTpudPaJLPg",
        "colab_type": "text"
      },
      "source": [
        "#### Preprocessing"
      ]
    },
    {
      "cell_type": "code",
      "metadata": {
        "id": "_Oxr2IGwh0Xi",
        "colab_type": "code",
        "colab": {}
      },
      "source": [
        "X_train = X_train_orig_dataset\n",
        "y_train = y_train_orig_dataset\n",
        "X_test = X_test_orig_dataset\n",
        "y_test = y_test_orig_dataset"
      ],
      "execution_count": 0,
      "outputs": []
    },
    {
      "cell_type": "code",
      "metadata": {
        "id": "_Q9TuAUfeCX-",
        "colab_type": "code",
        "outputId": "65bd2d8b-63e7-4d5e-e68c-76cf67df569a",
        "colab": {
          "base_uri": "https://localhost:8080/",
          "height": 0
        }
      },
      "source": [
        "def add_word_pos_template(text):\n",
        "    tokens = nlp(text)\n",
        "    text = []\n",
        "    for token in tokens:\n",
        "        text.append(\"word_pos#{}_{}\".format(token.text, token.tag_))\n",
        "\n",
        "    return \" \".join(text)\n",
        "\n",
        "# Testing method\n",
        "test_sentence = \"Testing the Pos Tagger in this sentence let's see how it works!\".lower()\n",
        "add_word_pos_template(test_sentence)"
      ],
      "execution_count": 35,
      "outputs": [
        {
          "output_type": "execute_result",
          "data": {
            "text/plain": [
              "\"word_pos#testing_VBG word_pos#the_DT word_pos#pos_NN word_pos#tagger_NN word_pos#in_IN word_pos#this_DT word_pos#sentence_NN word_pos#let_VB word_pos#'s_PRP word_pos#see_VB word_pos#how_WRB word_pos#it_PRP word_pos#works_VBZ word_pos#!_.\""
            ]
          },
          "metadata": {
            "tags": []
          },
          "execution_count": 35
        }
      ]
    },
    {
      "cell_type": "code",
      "metadata": {
        "id": "w6_kA6fseDtA",
        "colab_type": "code",
        "outputId": "2ae16044-49ed-4245-d835-6bca145f069a",
        "colab": {
          "base_uri": "https://localhost:8080/",
          "height": 0,
          "referenced_widgets": [
            "ec11badfc5574823abe27fc04323fb46",
            "59705b8425e747239f836a7c1e6eef72",
            "d3595a1061bc4f53b2e20909bc0c4c6b",
            "a747692620ee44d7a172a8ef1f4300eb",
            "afdfa06b6257447b89ab57c306fc4fb2",
            "7b2b808ebca84fc0ab03ae05db46cc38",
            "83e21b2f44ec444b8a172ae828e578d9",
            "a08938bc7c0c4c8c93972f6055ae1515",
            "0dc4d28c080f4d93a54c23084e6c2620",
            "dc746b2280e74a51ba6cb71ea7718752",
            "27f18adf353b47a5bf1d9cf18f8ad174",
            "3c868ac046ca48e5b7c90cf18fad74f4",
            "11a9cfa1234c4fa3a07ed99b8052a642",
            "f6f9a59edd1a4d059e7817c7e025c71d",
            "cbafcc4e9eca4237aab3746690ff1404",
            "6925e84f4e504bce97fb0df3debe11e9"
          ]
        }
      },
      "source": [
        "X_train = X_train.progress_apply(add_word_pos_template)\n",
        "X_test = X_test.progress_apply(add_word_pos_template)"
      ],
      "execution_count": 36,
      "outputs": [
        {
          "output_type": "display_data",
          "data": {
            "application/vnd.jupyter.widget-view+json": {
              "model_id": "ec11badfc5574823abe27fc04323fb46",
              "version_minor": 0,
              "version_major": 2
            },
            "text/plain": [
              "HBox(children=(FloatProgress(value=0.0, max=569.0), HTML(value='')))"
            ]
          },
          "metadata": {
            "tags": []
          }
        },
        {
          "output_type": "stream",
          "text": [
            "\n"
          ],
          "name": "stdout"
        },
        {
          "output_type": "display_data",
          "data": {
            "application/vnd.jupyter.widget-view+json": {
              "model_id": "0dc4d28c080f4d93a54c23084e6c2620",
              "version_minor": 0,
              "version_major": 2
            },
            "text/plain": [
              "HBox(children=(FloatProgress(value=0.0, max=101.0), HTML(value='')))"
            ]
          },
          "metadata": {
            "tags": []
          }
        },
        {
          "output_type": "stream",
          "text": [
            "\n"
          ],
          "name": "stdout"
        }
      ]
    },
    {
      "cell_type": "markdown",
      "metadata": {
        "id": "KErwtz1PJOTr",
        "colab_type": "text"
      },
      "source": [
        "#### Input Samples"
      ]
    },
    {
      "cell_type": "code",
      "metadata": {
        "id": "O5DGe3hxI6Vc",
        "colab_type": "code",
        "outputId": "5bf61de6-a48e-4f1f-e2cb-356818d7ab57",
        "colab": {
          "base_uri": "https://localhost:8080/",
          "height": 0
        }
      },
      "source": [
        "get_input_samples(X_train, y_train)"
      ],
      "execution_count": 37,
      "outputs": [
        {
          "output_type": "execute_result",
          "data": {
            "text/plain": [
              "[\"word_pos#she_PRP word_pos#loves_VBZ word_pos#chocolate_NN word_pos#._. --> ['verb(s/es)'] \",\n",
              " \"word_pos#what_WP word_pos#was_VBD word_pos#that_DT word_pos#noise_NN word_pos#?_. --> ['verb be'] \",\n",
              " \"word_pos#will_MD word_pos#they_PRP word_pos#come_VB word_pos#tomorrow_NN word_pos#?_. --> ['will + first form of verb'] \",\n",
              " \"word_pos#where_WRB word_pos#are_VBP word_pos#we_PRP word_pos#?_. --> ['verb be'] \",\n",
              " \"word_pos#she_PRP word_pos#'s_VBZ word_pos#eating_VBG word_pos#chocolate_NN word_pos#._. --> ['verb+ing'] \"]"
            ]
          },
          "metadata": {
            "tags": []
          },
          "execution_count": 37
        }
      ]
    },
    {
      "cell_type": "markdown",
      "metadata": {
        "id": "-kawDDdRKOQI",
        "colab_type": "text"
      },
      "source": [
        "#### Experimentation Results"
      ]
    },
    {
      "cell_type": "code",
      "metadata": {
        "id": "k_EqYz4JfepB",
        "colab_type": "code",
        "outputId": "09a4b706-44b9-4536-db10-09bb75025719",
        "colab": {
          "base_uri": "https://localhost:8080/",
          "height": 193
        }
      },
      "source": [
        "result = check_classification(X_train, y_train, X_test, y_test)\n",
        "results.append((experiment_text, result))\n",
        "result"
      ],
      "execution_count": 38,
      "outputs": [
        {
          "output_type": "stream",
          "text": [
            "\n",
            "\n",
            "Best F1 Measure was: 0.8416 with the Model: CountVectorizer -> MultiNomial Naive Bais\n"
          ],
          "name": "stdout"
        },
        {
          "output_type": "execute_result",
          "data": {
            "text/html": [
              "<div>\n",
              "<style scoped>\n",
              "    .dataframe tbody tr th:only-of-type {\n",
              "        vertical-align: middle;\n",
              "    }\n",
              "\n",
              "    .dataframe tbody tr th {\n",
              "        vertical-align: top;\n",
              "    }\n",
              "\n",
              "    .dataframe thead th {\n",
              "        text-align: right;\n",
              "    }\n",
              "</style>\n",
              "<table border=\"1\" class=\"dataframe\">\n",
              "  <thead>\n",
              "    <tr style=\"text-align: right;\">\n",
              "      <th></th>\n",
              "      <th>MultiNomial Naive Bais</th>\n",
              "      <th>SVM</th>\n",
              "      <th>LogisticRegression</th>\n",
              "      <th>RandomForest</th>\n",
              "      <th>XGBClassifier</th>\n",
              "    </tr>\n",
              "    <tr>\n",
              "      <th>Vectorizer</th>\n",
              "      <th></th>\n",
              "      <th></th>\n",
              "      <th></th>\n",
              "      <th></th>\n",
              "      <th></th>\n",
              "    </tr>\n",
              "  </thead>\n",
              "  <tbody>\n",
              "    <tr>\n",
              "      <th>CountVectorizer</th>\n",
              "      <td>0.8416</td>\n",
              "      <td>0.7822</td>\n",
              "      <td>0.8020</td>\n",
              "      <td>0.8020</td>\n",
              "      <td>0.7327</td>\n",
              "    </tr>\n",
              "    <tr>\n",
              "      <th>TfIdFVectorize</th>\n",
              "      <td>0.7822</td>\n",
              "      <td>0.8416</td>\n",
              "      <td>0.8218</td>\n",
              "      <td>0.7525</td>\n",
              "      <td>0.7228</td>\n",
              "    </tr>\n",
              "  </tbody>\n",
              "</table>\n",
              "</div>"
            ],
            "text/plain": [
              "                MultiNomial Naive Bais     SVM  ... RandomForest XGBClassifier\n",
              "Vectorizer                                      ...                           \n",
              "CountVectorizer                 0.8416  0.7822  ...       0.8020        0.7327\n",
              "TfIdFVectorize                  0.7822  0.8416  ...       0.7525        0.7228\n",
              "\n",
              "[2 rows x 5 columns]"
            ]
          },
          "metadata": {
            "tags": []
          },
          "execution_count": 38
        }
      ]
    },
    {
      "cell_type": "markdown",
      "metadata": {
        "colab_type": "text",
        "id": "2KY2MlWZtMYe"
      },
      "source": [
        "### Experiment 3: pos#\\$\\{$pos_i$\\} \n",
        "With just POS"
      ]
    },
    {
      "cell_type": "code",
      "metadata": {
        "colab_type": "code",
        "id": "lpVu3ByktMYg",
        "colab": {}
      },
      "source": [
        "experiment_text = \"Classifying based on POS tags pos#{pos_i}\""
      ],
      "execution_count": 0,
      "outputs": []
    },
    {
      "cell_type": "markdown",
      "metadata": {
        "colab_type": "text",
        "id": "1nO2vGv9tMYk"
      },
      "source": [
        "#### Preprocessing"
      ]
    },
    {
      "cell_type": "code",
      "metadata": {
        "colab_type": "code",
        "id": "KXVoEmu2tMYl",
        "colab": {}
      },
      "source": [
        "X_train = X_train_orig_dataset\n",
        "y_train = y_train_orig_dataset\n",
        "X_test = X_test_orig_dataset\n",
        "y_test = y_test_orig_dataset"
      ],
      "execution_count": 0,
      "outputs": []
    },
    {
      "cell_type": "code",
      "metadata": {
        "colab_type": "code",
        "outputId": "990a8428-7714-4e1f-c61d-6c03c7a3cc39",
        "id": "BdNGUFWctMYp",
        "colab": {
          "base_uri": "https://localhost:8080/",
          "height": 0
        }
      },
      "source": [
        "def add_pos_template(text):\n",
        "    tokens = nlp(text)\n",
        "    text = []\n",
        "    for token in tokens:\n",
        "        text.append(\"pos#{}\".format(token.tag_))\n",
        "\n",
        "    return \" \".join(text)\n",
        "\n",
        "# Testing method\n",
        "test_sentence = \"Testing the Pos Tagger in this sentence let's see how it works!\".lower()\n",
        "add_pos_template(test_sentence)"
      ],
      "execution_count": 41,
      "outputs": [
        {
          "output_type": "execute_result",
          "data": {
            "text/plain": [
              "'pos#VBG pos#DT pos#NN pos#NN pos#IN pos#DT pos#NN pos#VB pos#PRP pos#VB pos#WRB pos#PRP pos#VBZ pos#.'"
            ]
          },
          "metadata": {
            "tags": []
          },
          "execution_count": 41
        }
      ]
    },
    {
      "cell_type": "code",
      "metadata": {
        "colab_type": "code",
        "outputId": "9758f0a8-3db7-40fa-da27-671e91878739",
        "id": "CXhwEEjXtMYs",
        "colab": {
          "base_uri": "https://localhost:8080/",
          "height": 0,
          "referenced_widgets": [
            "1a87094cae4f4718b58e59d0dc04f5f6",
            "8a3add046ed444cf847043665bee0067",
            "10637526bfcc489da58165d5d69b83f4",
            "450f3673841c41068271282550bbbed9",
            "31fb1579f3a4442ba683307415104b01",
            "0231cb101240453aafc23efd8db9bfcf",
            "82ef98b26c7f4e15a70e74cf38dba997",
            "0d631419ce494b1eb57a339ddf75ce34",
            "9d4f9b55362a4ec49d37b189fa251574",
            "5bb1a1df37e0405a834a26fa00392565",
            "af5896a212374fd99c9c90ce7a781da4",
            "64d0952796144039bfa4e15f8f380067",
            "331a54e6d459481f997ded593eef2c8b",
            "8cced83f4bea40858af6f662a18c7c28",
            "175b8990e09b4a2fb0741901c3f4e950",
            "afc18dee264e47bf8a854cde18917cc3"
          ]
        }
      },
      "source": [
        "X_train = X_train.progress_apply(add_pos_template)\n",
        "X_test = X_test.progress_apply(add_pos_template)"
      ],
      "execution_count": 42,
      "outputs": [
        {
          "output_type": "display_data",
          "data": {
            "application/vnd.jupyter.widget-view+json": {
              "model_id": "1a87094cae4f4718b58e59d0dc04f5f6",
              "version_minor": 0,
              "version_major": 2
            },
            "text/plain": [
              "HBox(children=(FloatProgress(value=0.0, max=569.0), HTML(value='')))"
            ]
          },
          "metadata": {
            "tags": []
          }
        },
        {
          "output_type": "stream",
          "text": [
            "\n"
          ],
          "name": "stdout"
        },
        {
          "output_type": "display_data",
          "data": {
            "application/vnd.jupyter.widget-view+json": {
              "model_id": "9d4f9b55362a4ec49d37b189fa251574",
              "version_minor": 0,
              "version_major": 2
            },
            "text/plain": [
              "HBox(children=(FloatProgress(value=0.0, max=101.0), HTML(value='')))"
            ]
          },
          "metadata": {
            "tags": []
          }
        },
        {
          "output_type": "stream",
          "text": [
            "\n"
          ],
          "name": "stdout"
        }
      ]
    },
    {
      "cell_type": "markdown",
      "metadata": {
        "colab_type": "text",
        "id": "tyRetxC-tMYv"
      },
      "source": [
        "#### Input Samples"
      ]
    },
    {
      "cell_type": "code",
      "metadata": {
        "colab_type": "code",
        "outputId": "22387c56-de57-4ca0-a5f9-207835dd41f2",
        "id": "-7gTZDMQtMYv",
        "colab": {
          "base_uri": "https://localhost:8080/",
          "height": 0
        }
      },
      "source": [
        "get_input_samples(X_train, y_train)"
      ],
      "execution_count": 43,
      "outputs": [
        {
          "output_type": "execute_result",
          "data": {
            "text/plain": [
              "[\"pos#WP pos#MD pos#PRP pos#VB pos#VBN pos#IN pos#DT pos#NN pos#IN pos#DT pos#NN pos#. --> ['will have verb+3rd form'] \",\n",
              " \"pos#PRP pos#VBP pos#RB pos#VB pos#NN pos#. --> ['do/does'] \",\n",
              " \"pos#WP pos#VBD pos#DT pos#NN pos#. --> ['verb be'] \",\n",
              " \"pos#WDT pos#NN pos#MD pos#DT pos#NN pos#VB pos#NN pos#. --> ['will + first form of verb'] \",\n",
              " \"pos#PRP pos#VBD pos#IN pos#DT pos#NN pos#TO pos#VB pos#IN pos#DT pos#NN pos#. --> ['irregular verb'] \"]"
            ]
          },
          "metadata": {
            "tags": []
          },
          "execution_count": 43
        }
      ]
    },
    {
      "cell_type": "markdown",
      "metadata": {
        "colab_type": "text",
        "id": "NSleubKztMYx"
      },
      "source": [
        "#### Experimentation Results"
      ]
    },
    {
      "cell_type": "code",
      "metadata": {
        "colab_type": "code",
        "outputId": "e47a41ad-1733-408e-e81e-aa900454e9c2",
        "id": "71W_sXKwtMYy",
        "colab": {
          "base_uri": "https://localhost:8080/",
          "height": 0
        }
      },
      "source": [
        "result = check_classification(X_train, y_train, X_test, y_test)\n",
        "results.append((experiment_text, result))\n",
        "result"
      ],
      "execution_count": 44,
      "outputs": [
        {
          "output_type": "stream",
          "text": [
            "\n",
            "\n",
            "Best F1 Measure was: 0.8515 with the Model: TfIdFVectorize -> RandomForest\n"
          ],
          "name": "stdout"
        },
        {
          "output_type": "execute_result",
          "data": {
            "text/html": [
              "<div>\n",
              "<style scoped>\n",
              "    .dataframe tbody tr th:only-of-type {\n",
              "        vertical-align: middle;\n",
              "    }\n",
              "\n",
              "    .dataframe tbody tr th {\n",
              "        vertical-align: top;\n",
              "    }\n",
              "\n",
              "    .dataframe thead th {\n",
              "        text-align: right;\n",
              "    }\n",
              "</style>\n",
              "<table border=\"1\" class=\"dataframe\">\n",
              "  <thead>\n",
              "    <tr style=\"text-align: right;\">\n",
              "      <th></th>\n",
              "      <th>MultiNomial Naive Bais</th>\n",
              "      <th>SVM</th>\n",
              "      <th>LogisticRegression</th>\n",
              "      <th>RandomForest</th>\n",
              "      <th>XGBClassifier</th>\n",
              "    </tr>\n",
              "    <tr>\n",
              "      <th>Vectorizer</th>\n",
              "      <th></th>\n",
              "      <th></th>\n",
              "      <th></th>\n",
              "      <th></th>\n",
              "      <th></th>\n",
              "    </tr>\n",
              "  </thead>\n",
              "  <tbody>\n",
              "    <tr>\n",
              "      <th>CountVectorizer</th>\n",
              "      <td>0.7129</td>\n",
              "      <td>0.8317</td>\n",
              "      <td>0.8317</td>\n",
              "      <td>0.8416</td>\n",
              "      <td>0.8515</td>\n",
              "    </tr>\n",
              "    <tr>\n",
              "      <th>TfIdFVectorize</th>\n",
              "      <td>0.7426</td>\n",
              "      <td>0.8317</td>\n",
              "      <td>0.8317</td>\n",
              "      <td>0.8515</td>\n",
              "      <td>0.8119</td>\n",
              "    </tr>\n",
              "  </tbody>\n",
              "</table>\n",
              "</div>"
            ],
            "text/plain": [
              "                MultiNomial Naive Bais     SVM  ... RandomForest XGBClassifier\n",
              "Vectorizer                                      ...                           \n",
              "CountVectorizer                 0.7129  0.8317  ...       0.8416        0.8515\n",
              "TfIdFVectorize                  0.7426  0.8317  ...       0.8515        0.8119\n",
              "\n",
              "[2 rows x 5 columns]"
            ]
          },
          "metadata": {
            "tags": []
          },
          "execution_count": 44
        }
      ]
    },
    {
      "cell_type": "markdown",
      "metadata": {
        "colab_type": "text",
        "id": "nShtYSvors-t"
      },
      "source": [
        "### Experiment 4: word#{$word_i$} word_pos#\\${$word_i$}_\\${$pos_i$}"
      ]
    },
    {
      "cell_type": "code",
      "metadata": {
        "colab_type": "code",
        "id": "lE6E87DUrs-2",
        "colab": {}
      },
      "source": [
        "experiment_text = \"Combining word and word_pos_tags\""
      ],
      "execution_count": 0,
      "outputs": []
    },
    {
      "cell_type": "markdown",
      "metadata": {
        "colab_type": "text",
        "id": "gZb_vq0krs--"
      },
      "source": [
        "#### Preprocessing"
      ]
    },
    {
      "cell_type": "code",
      "metadata": {
        "colab_type": "code",
        "outputId": "d7904cab-5520-4965-9418-04d1dd06eaed",
        "id": "5hdPuMjArs--",
        "colab": {
          "base_uri": "https://localhost:8080/",
          "height": 0
        }
      },
      "source": [
        "def add_word_and_word_pos_tag_template(text):\n",
        "    tokens = nlp(text)\n",
        "    text = []\n",
        "    for token in tokens:\n",
        "        text.append(\"word#{} word_pos##{}_{}\".format(token.text, token.text, token.tag_))\n",
        "\n",
        "    return \" \".join(text)\n",
        "\n",
        "add_word_and_word_pos_tag_template(\"This is a test sentence! We will see the difference between playing and played\")"
      ],
      "execution_count": 46,
      "outputs": [
        {
          "output_type": "execute_result",
          "data": {
            "text/plain": [
              "'word#This word_pos##This_DT word#is word_pos##is_VBZ word#a word_pos##a_DT word#test word_pos##test_NN word#sentence word_pos##sentence_NN word#! word_pos##!_. word#We word_pos##We_PRP word#will word_pos##will_MD word#see word_pos##see_VB word#the word_pos##the_DT word#difference word_pos##difference_NN word#between word_pos##between_IN word#playing word_pos##playing_VBG word#and word_pos##and_CC word#played word_pos##played_VBD'"
            ]
          },
          "metadata": {
            "tags": []
          },
          "execution_count": 46
        }
      ]
    },
    {
      "cell_type": "code",
      "metadata": {
        "colab_type": "code",
        "id": "ZOvu4Kwgrs_C",
        "colab": {}
      },
      "source": [
        "X_train = X_train_orig_dataset.apply(lambda x: add_word_and_word_pos_tag_template(x))\n",
        "y_train = y_train_orig_dataset\n",
        "X_test = X_test_orig_dataset.apply(lambda x: add_word_and_word_pos_tag_template(x))\n",
        "y_test = y_test_orig_dataset"
      ],
      "execution_count": 0,
      "outputs": []
    },
    {
      "cell_type": "markdown",
      "metadata": {
        "colab_type": "text",
        "id": "saw9iWejrs_F"
      },
      "source": [
        "#### Input Samples"
      ]
    },
    {
      "cell_type": "code",
      "metadata": {
        "colab_type": "code",
        "outputId": "2010317d-77bf-41da-8528-4c791a509e9e",
        "id": "4_WHZNtKrs_G",
        "colab": {
          "base_uri": "https://localhost:8080/",
          "height": 0
        }
      },
      "source": [
        "get_input_samples(X_train, y_train)"
      ],
      "execution_count": 48,
      "outputs": [
        {
          "output_type": "execute_result",
          "data": {
            "text/plain": [
              "[\"word#mrs word_pos##mrs_NNP word#. word_pos##._NNP word#brown word_pos##brown_NNP word#was word_pos##was_VBD word#n't word_pos##n't_RB word#walking word_pos##walking_VBG word#in word_pos##in_IN word#the word_pos##the_DT word#garden word_pos##garden_NN word#. word_pos##._. --> ['verb+ing'] \",\n",
              " \"word#she word_pos##she_PRP word#told word_pos##told_VBD word#me word_pos##me_PRP word#that word_pos##that_IN word#she word_pos##she_PRP word#had word_pos##had_VBD word#studied word_pos##studied_VBN word#a word_pos##a_DT word#lot word_pos##lot_NN word#before word_pos##before_IN word#the word_pos##the_DT word#exam word_pos##exam_NN word#. word_pos##._. --> ['3rd form of verb'] \",\n",
              " \"word#lucy word_pos##lucy_NNP word#has word_pos##has_VBZ word#n't word_pos##n't_RB word#done word_pos##done_VBN word#her word_pos##her_PRP$ word#homework word_pos##homework_NN word#. word_pos##._. --> ['3rd form of verb'] \",\n",
              " \"word#she word_pos##she_PRP word#said word_pos##said_VBD word#that word_pos##that_IN word#she word_pos##she_PRP word#had word_pos##had_VBD word#n't word_pos##n't_RB word#visited word_pos##visited_VBN word#the word_pos##the_DT word#uk word_pos##uk_NNP word#before word_pos##before_RB word#. word_pos##._. --> ['3rd form of verb'] \",\n",
              " \"word#john word_pos##john_NNP word#and word_pos##and_CC word#david word_pos##david_NNP word#often word_pos##often_RB word#go word_pos##go_VBP word#to word_pos##to_IN word#restaurants word_pos##restaurants_NNS word#. word_pos##._. --> ['verb(s/es)'] \"]"
            ]
          },
          "metadata": {
            "tags": []
          },
          "execution_count": 48
        }
      ]
    },
    {
      "cell_type": "markdown",
      "metadata": {
        "colab_type": "text",
        "id": "PzyGBIYSrs_J"
      },
      "source": [
        "#### Experimentation Results"
      ]
    },
    {
      "cell_type": "code",
      "metadata": {
        "colab_type": "code",
        "outputId": "28597b0e-07cf-457b-d41a-00c8d34c34c6",
        "id": "vZNb5B2vrs_L",
        "colab": {
          "base_uri": "https://localhost:8080/",
          "height": 0
        }
      },
      "source": [
        "result = check_classification(X_train, y_train, X_test, y_test)\n",
        "results.append((experiment_text, result))\n",
        "result"
      ],
      "execution_count": 49,
      "outputs": [
        {
          "output_type": "stream",
          "text": [
            "\n",
            "\n",
            "Best F1 Measure was: 0.8317 with the Model: CountVectorizer -> LogisticRegression\n"
          ],
          "name": "stdout"
        },
        {
          "output_type": "execute_result",
          "data": {
            "text/html": [
              "<div>\n",
              "<style scoped>\n",
              "    .dataframe tbody tr th:only-of-type {\n",
              "        vertical-align: middle;\n",
              "    }\n",
              "\n",
              "    .dataframe tbody tr th {\n",
              "        vertical-align: top;\n",
              "    }\n",
              "\n",
              "    .dataframe thead th {\n",
              "        text-align: right;\n",
              "    }\n",
              "</style>\n",
              "<table border=\"1\" class=\"dataframe\">\n",
              "  <thead>\n",
              "    <tr style=\"text-align: right;\">\n",
              "      <th></th>\n",
              "      <th>MultiNomial Naive Bais</th>\n",
              "      <th>SVM</th>\n",
              "      <th>LogisticRegression</th>\n",
              "      <th>RandomForest</th>\n",
              "      <th>XGBClassifier</th>\n",
              "    </tr>\n",
              "    <tr>\n",
              "      <th>Vectorizer</th>\n",
              "      <th></th>\n",
              "      <th></th>\n",
              "      <th></th>\n",
              "      <th></th>\n",
              "      <th></th>\n",
              "    </tr>\n",
              "  </thead>\n",
              "  <tbody>\n",
              "    <tr>\n",
              "      <th>CountVectorizer</th>\n",
              "      <td>0.8119</td>\n",
              "      <td>0.8020</td>\n",
              "      <td>0.8317</td>\n",
              "      <td>0.7921</td>\n",
              "      <td>0.7327</td>\n",
              "    </tr>\n",
              "    <tr>\n",
              "      <th>TfIdFVectorize</th>\n",
              "      <td>0.7723</td>\n",
              "      <td>0.8218</td>\n",
              "      <td>0.8218</td>\n",
              "      <td>0.7822</td>\n",
              "      <td>0.7327</td>\n",
              "    </tr>\n",
              "  </tbody>\n",
              "</table>\n",
              "</div>"
            ],
            "text/plain": [
              "                MultiNomial Naive Bais     SVM  ... RandomForest XGBClassifier\n",
              "Vectorizer                                      ...                           \n",
              "CountVectorizer                 0.8119  0.8020  ...       0.7921        0.7327\n",
              "TfIdFVectorize                  0.7723  0.8218  ...       0.7822        0.7327\n",
              "\n",
              "[2 rows x 5 columns]"
            ]
          },
          "metadata": {
            "tags": []
          },
          "execution_count": 49
        }
      ]
    },
    {
      "cell_type": "markdown",
      "metadata": {
        "colab_type": "text",
        "id": "dzzNZVRqa0pr"
      },
      "source": [
        "### Experiment 5: ngram#{$word_i$}_{$word_{i+1}$}"
      ]
    },
    {
      "cell_type": "code",
      "metadata": {
        "colab_type": "code",
        "id": "rDAhuemva0pt",
        "colab": {}
      },
      "source": [
        "experiment_text = \"Adding bigrams of words bigram#{word_i}_{word_i+1}\""
      ],
      "execution_count": 0,
      "outputs": []
    },
    {
      "cell_type": "markdown",
      "metadata": {
        "colab_type": "text",
        "id": "j0R36zrUa0pv"
      },
      "source": [
        "#### Preprocessing"
      ]
    },
    {
      "cell_type": "code",
      "metadata": {
        "colab_type": "code",
        "outputId": "e3c282bb-4aac-474e-97da-7ca3ea0dc9ff",
        "id": "reW8_HD_a0pw",
        "colab": {
          "base_uri": "https://localhost:8080/",
          "height": 0
        }
      },
      "source": [
        "def add_ngram_template(text, n=2):\n",
        "    tokens = ngrams(text, n)\n",
        "    text = []\n",
        "    for token in tokens:\n",
        "        text.append(\"ngram#{}\".format(\"_\".join(token)))\n",
        "\n",
        "    return \" \".join(text)\n",
        "\n",
        "add_ngram_template(\"This is a test sentence! We will see the difference between playing and played\")"
      ],
      "execution_count": 51,
      "outputs": [
        {
          "output_type": "execute_result",
          "data": {
            "text/plain": [
              "'ngram#This_is ngram#is_a ngram#a_test ngram#test_sentence ngram#sentence_! ngram#!_We ngram#We_will ngram#will_see ngram#see_the ngram#the_difference ngram#difference_between ngram#between_playing ngram#playing_and ngram#and_played'"
            ]
          },
          "metadata": {
            "tags": []
          },
          "execution_count": 51
        }
      ]
    },
    {
      "cell_type": "code",
      "metadata": {
        "colab_type": "code",
        "id": "JD6zyi8aa0py",
        "colab": {}
      },
      "source": [
        "X_train = X_train_orig_dataset.apply(lambda x: add_ngram_template(x))\n",
        "y_train = y_train_orig_dataset\n",
        "X_test = X_test_orig_dataset.apply(lambda x: add_ngram_template(x))\n",
        "y_test = y_test_orig_dataset"
      ],
      "execution_count": 0,
      "outputs": []
    },
    {
      "cell_type": "markdown",
      "metadata": {
        "colab_type": "text",
        "id": "PPJ4-6q9a0p0"
      },
      "source": [
        "#### Input Samples"
      ]
    },
    {
      "cell_type": "code",
      "metadata": {
        "colab_type": "code",
        "outputId": "5d8b200a-2269-4015-eaa8-e685b3b8c645",
        "id": "HOtOGTg1a0p3",
        "colab": {
          "base_uri": "https://localhost:8080/",
          "height": 0
        }
      },
      "source": [
        "get_input_samples(X_train, y_train)"
      ],
      "execution_count": 53,
      "outputs": [
        {
          "output_type": "execute_result",
          "data": {
            "text/plain": [
              "[\"ngram#we_are ngram#are_n't ngram#n't_watching ngram#watching_tv ngram#tv_at ngram#at_the ngram#the_moment ngram#moment_. --> ['verb+ing'] \",\n",
              " \"ngram#they_do ngram#do_n't ngram#n't_have ngram#have_a ngram#a_car ngram#car_. --> ['do/does'] \",\n",
              " \"ngram#does_john ngram#john_come ngram#come_from ngram#from_new ngram#new_zealand ngram#zealand_? --> ['do/does'] \",\n",
              " \"ngram#the_house ngram#house_has ngram#has_been ngram#been_sold ngram#sold_. --> ['irregular verb'] \",\n",
              " \"ngram#mr_. ngram#._blue ngram#blue_was ngram#was_n't ngram#n't_drinking ngram#drinking_coffee ngram#coffee_in ngram#in_the ngram#the_library ngram#library_. --> ['verb+ing'] \"]"
            ]
          },
          "metadata": {
            "tags": []
          },
          "execution_count": 53
        }
      ]
    },
    {
      "cell_type": "markdown",
      "metadata": {
        "colab_type": "text",
        "id": "a1qGoTvMa0p5"
      },
      "source": [
        "#### Experimentation Results"
      ]
    },
    {
      "cell_type": "code",
      "metadata": {
        "colab_type": "code",
        "outputId": "c1719c90-11f3-4bcb-ad3a-48a1d28d5344",
        "id": "OefM3SVha0p6",
        "colab": {
          "base_uri": "https://localhost:8080/",
          "height": 0
        }
      },
      "source": [
        "result = check_classification(X_train, y_train, X_test, y_test)\n",
        "results.append((experiment_text, result))\n",
        "result"
      ],
      "execution_count": 54,
      "outputs": [
        {
          "output_type": "stream",
          "text": [
            "\n",
            "\n",
            "Best F1 Measure was: 0.7822 with the Model: CountVectorizer -> MultiNomial Naive Bais\n"
          ],
          "name": "stdout"
        },
        {
          "output_type": "execute_result",
          "data": {
            "text/html": [
              "<div>\n",
              "<style scoped>\n",
              "    .dataframe tbody tr th:only-of-type {\n",
              "        vertical-align: middle;\n",
              "    }\n",
              "\n",
              "    .dataframe tbody tr th {\n",
              "        vertical-align: top;\n",
              "    }\n",
              "\n",
              "    .dataframe thead th {\n",
              "        text-align: right;\n",
              "    }\n",
              "</style>\n",
              "<table border=\"1\" class=\"dataframe\">\n",
              "  <thead>\n",
              "    <tr style=\"text-align: right;\">\n",
              "      <th></th>\n",
              "      <th>MultiNomial Naive Bais</th>\n",
              "      <th>SVM</th>\n",
              "      <th>LogisticRegression</th>\n",
              "      <th>RandomForest</th>\n",
              "      <th>XGBClassifier</th>\n",
              "    </tr>\n",
              "    <tr>\n",
              "      <th>Vectorizer</th>\n",
              "      <th></th>\n",
              "      <th></th>\n",
              "      <th></th>\n",
              "      <th></th>\n",
              "      <th></th>\n",
              "    </tr>\n",
              "  </thead>\n",
              "  <tbody>\n",
              "    <tr>\n",
              "      <th>CountVectorizer</th>\n",
              "      <td>0.7822</td>\n",
              "      <td>0.4455</td>\n",
              "      <td>0.6535</td>\n",
              "      <td>0.5644</td>\n",
              "      <td>0.4851</td>\n",
              "    </tr>\n",
              "    <tr>\n",
              "      <th>TfIdFVectorize</th>\n",
              "      <td>0.7129</td>\n",
              "      <td>0.5149</td>\n",
              "      <td>0.6535</td>\n",
              "      <td>0.6139</td>\n",
              "      <td>0.4950</td>\n",
              "    </tr>\n",
              "  </tbody>\n",
              "</table>\n",
              "</div>"
            ],
            "text/plain": [
              "                MultiNomial Naive Bais     SVM  ... RandomForest XGBClassifier\n",
              "Vectorizer                                      ...                           \n",
              "CountVectorizer                 0.7822  0.4455  ...       0.5644        0.4851\n",
              "TfIdFVectorize                  0.7129  0.5149  ...       0.6139        0.4950\n",
              "\n",
              "[2 rows x 5 columns]"
            ]
          },
          "metadata": {
            "tags": []
          },
          "execution_count": 54
        }
      ]
    },
    {
      "cell_type": "markdown",
      "metadata": {
        "colab_type": "text",
        "id": "fk-7DcblPTP7"
      },
      "source": [
        "### Experiment 6: ngrampos#{$pos_i$}_{$pos_{i+1}$}"
      ]
    },
    {
      "cell_type": "code",
      "metadata": {
        "colab_type": "code",
        "id": "vxtAKgAlPTP-",
        "colab": {}
      },
      "source": [
        "experiment_text = \"Adding bigrams of pos tags ngrampos#{pos_i}_{pos_i+1}\""
      ],
      "execution_count": 0,
      "outputs": []
    },
    {
      "cell_type": "markdown",
      "metadata": {
        "colab_type": "text",
        "id": "_GuNHaZfPTQB"
      },
      "source": [
        "#### Preprocessing"
      ]
    },
    {
      "cell_type": "code",
      "metadata": {
        "colab_type": "code",
        "outputId": "66b19298-f826-48df-83d2-027902108b58",
        "id": "cJg6HCi9PTQC",
        "colab": {
          "base_uri": "https://localhost:8080/",
          "height": 0
        }
      },
      "source": [
        "def add_ngram_pos_template(text, n=2):\n",
        "    tokens = nlp(text)\n",
        "    text = []\n",
        "    for token in tokens:\n",
        "        text.append(\"{}\".format(token.tag_))\n",
        "\n",
        "    text = \" \".join(text)\n",
        "\n",
        "    tokens = ngrams(text, n)\n",
        "    text = []\n",
        "    for token in tokens:\n",
        "        text.append(\"ngrampos#{}\".format(\"_\".join(token)))\n",
        "\n",
        "    return \" \".join(text)\n",
        "\n",
        "add_ngram_pos_template(\"This is a test sentence! We will see the difference between playing and played\")"
      ],
      "execution_count": 56,
      "outputs": [
        {
          "output_type": "execute_result",
          "data": {
            "text/plain": [
              "'ngrampos#DT_VBZ ngrampos#VBZ_DT ngrampos#DT_NN ngrampos#NN_NN ngrampos#NN_. ngrampos#._PRP ngrampos#PRP_MD ngrampos#MD_VB ngrampos#VB_DT ngrampos#DT_NN ngrampos#NN_IN ngrampos#IN_VBG ngrampos#VBG_CC ngrampos#CC_VBD'"
            ]
          },
          "metadata": {
            "tags": []
          },
          "execution_count": 56
        }
      ]
    },
    {
      "cell_type": "code",
      "metadata": {
        "colab_type": "code",
        "id": "njY6ZacsPTQF",
        "colab": {}
      },
      "source": [
        "X_train = X_train_orig_dataset.apply(lambda x: add_ngram_pos_template(x))\n",
        "y_train = y_train_orig_dataset\n",
        "X_test = X_test_orig_dataset.apply(lambda x: add_ngram_pos_template(x))\n",
        "y_test = y_test_orig_dataset"
      ],
      "execution_count": 0,
      "outputs": []
    },
    {
      "cell_type": "markdown",
      "metadata": {
        "colab_type": "text",
        "id": "UK3R_38RPTQJ"
      },
      "source": [
        "#### Input Samples"
      ]
    },
    {
      "cell_type": "code",
      "metadata": {
        "colab_type": "code",
        "outputId": "8fbc4b0f-a965-4b2e-e1c4-3e551b3c6e8e",
        "id": "LGIDJ3ipPTQK",
        "colab": {
          "base_uri": "https://localhost:8080/",
          "height": 0
        }
      },
      "source": [
        "get_input_samples(X_train, y_train)"
      ],
      "execution_count": 58,
      "outputs": [
        {
          "output_type": "execute_result",
          "data": {
            "text/plain": [
              "[\"ngrampos#__SP ngrampos#SP_PRP ngrampos#PRP_VBD ngrampos#VBD_DT ngrampos#DT_JJ ngrampos#JJ_NN ngrampos#NN_IN ngrampos#IN_DT ngrampos#DT_NN ngrampos#NN_. --> ['irregular verb'] \",\n",
              " \"ngrampos#PRP_MD ngrampos#MD_VBN ngrampos#VBN_DT ngrampos#DT_JJ ngrampos#JJ_JJ ngrampos#JJ_NN ngrampos#NN_IN ngrampos#IN_PRP$ ngrampos#PRP$_NN ngrampos#NN_, ngrampos#,_CC ngrampos#CC_PRP ngrampos#PRP_VBD ngrampos#VBD_JJ ngrampos#JJ_TO ngrampos#TO_VB ngrampos#VB_PRP ngrampos#PRP_. --> ['irregular verb'] \",\n",
              " \"ngrampos#WRB_VBP ngrampos#VBP_PRP ngrampos#PRP_VBN ngrampos#VBN_RP ngrampos#RP_. ngrampos#._VBP ngrampos#VBP_PRP ngrampos#PRP_VBG ngrampos#VBG_. --> ['irregular verb'] \",\n",
              " \"ngrampos#PRP_VBD ngrampos#VBD_VBN ngrampos#VBN_CD ngrampos#CD_NNS ngrampos#NNS_WRB ngrampos#WRB_PRP ngrampos#PRP_VBD ngrampos#VBD_PRP$ ngrampos#PRP$_NN ngrampos#NN_. --> ['irregular verb'] \",\n",
              " \"ngrampos#PRP_VBP ngrampos#VBP_DT ngrampos#DT_NN ngrampos#NN_. --> ['verb be'] \"]"
            ]
          },
          "metadata": {
            "tags": []
          },
          "execution_count": 58
        }
      ]
    },
    {
      "cell_type": "markdown",
      "metadata": {
        "colab_type": "text",
        "id": "1MQXjiEGPTQM"
      },
      "source": [
        "#### Experimentation Results"
      ]
    },
    {
      "cell_type": "code",
      "metadata": {
        "colab_type": "code",
        "outputId": "7d9431c3-c4cc-46c2-c55f-2169d478f555",
        "id": "OAnGonytPTQN",
        "colab": {
          "base_uri": "https://localhost:8080/",
          "height": 0
        }
      },
      "source": [
        "result = check_classification(X_train, y_train, X_test, y_test)\n",
        "results.append((experiment_text, result))\n",
        "result"
      ],
      "execution_count": 59,
      "outputs": [
        {
          "output_type": "stream",
          "text": [
            "\n",
            "\n",
            "Best F1 Measure was: 0.8416 with the Model: CountVectorizer -> SVM\n"
          ],
          "name": "stdout"
        },
        {
          "output_type": "execute_result",
          "data": {
            "text/html": [
              "<div>\n",
              "<style scoped>\n",
              "    .dataframe tbody tr th:only-of-type {\n",
              "        vertical-align: middle;\n",
              "    }\n",
              "\n",
              "    .dataframe tbody tr th {\n",
              "        vertical-align: top;\n",
              "    }\n",
              "\n",
              "    .dataframe thead th {\n",
              "        text-align: right;\n",
              "    }\n",
              "</style>\n",
              "<table border=\"1\" class=\"dataframe\">\n",
              "  <thead>\n",
              "    <tr style=\"text-align: right;\">\n",
              "      <th></th>\n",
              "      <th>MultiNomial Naive Bais</th>\n",
              "      <th>SVM</th>\n",
              "      <th>LogisticRegression</th>\n",
              "      <th>RandomForest</th>\n",
              "      <th>XGBClassifier</th>\n",
              "    </tr>\n",
              "    <tr>\n",
              "      <th>Vectorizer</th>\n",
              "      <th></th>\n",
              "      <th></th>\n",
              "      <th></th>\n",
              "      <th></th>\n",
              "      <th></th>\n",
              "    </tr>\n",
              "  </thead>\n",
              "  <tbody>\n",
              "    <tr>\n",
              "      <th>CountVectorizer</th>\n",
              "      <td>0.7723</td>\n",
              "      <td>0.8416</td>\n",
              "      <td>0.8317</td>\n",
              "      <td>0.8317</td>\n",
              "      <td>0.8020</td>\n",
              "    </tr>\n",
              "    <tr>\n",
              "      <th>TfIdFVectorize</th>\n",
              "      <td>0.7921</td>\n",
              "      <td>0.8218</td>\n",
              "      <td>0.8218</td>\n",
              "      <td>0.8020</td>\n",
              "      <td>0.7723</td>\n",
              "    </tr>\n",
              "  </tbody>\n",
              "</table>\n",
              "</div>"
            ],
            "text/plain": [
              "                MultiNomial Naive Bais     SVM  ... RandomForest XGBClassifier\n",
              "Vectorizer                                      ...                           \n",
              "CountVectorizer                 0.7723  0.8416  ...       0.8317        0.8020\n",
              "TfIdFVectorize                  0.7921  0.8218  ...       0.8020        0.7723\n",
              "\n",
              "[2 rows x 5 columns]"
            ]
          },
          "metadata": {
            "tags": []
          },
          "execution_count": 59
        }
      ]
    },
    {
      "cell_type": "markdown",
      "metadata": {
        "id": "Bg7EYTlhi_kG",
        "colab_type": "text"
      },
      "source": [
        "# Results"
      ]
    },
    {
      "cell_type": "code",
      "metadata": {
        "id": "J00xqSOAqvQH",
        "colab_type": "code",
        "outputId": "ab22df05-5643-40d8-eaee-8fd0f0f6497b",
        "colab": {
          "base_uri": "https://localhost:8080/",
          "height": 1000
        }
      },
      "source": [
        "from IPython.display import display, HTML\n",
        "\n",
        "for i, (description, result) in enumerate(results):\n",
        "    print(\"Experiment {}:\".format(i+1))\n",
        "    print(description)\n",
        "    display(HTML(result.to_html()))\n",
        "    print(\"\\n\\n\")"
      ],
      "execution_count": 60,
      "outputs": [
        {
          "output_type": "stream",
          "text": [
            "Experiment 1:\n",
            "Taking only Answer like word#word_i\n"
          ],
          "name": "stdout"
        },
        {
          "output_type": "display_data",
          "data": {
            "text/html": [
              "<table border=\"1\" class=\"dataframe\">\n",
              "  <thead>\n",
              "    <tr style=\"text-align: right;\">\n",
              "      <th></th>\n",
              "      <th>MultiNomial Naive Bais</th>\n",
              "      <th>SVM</th>\n",
              "      <th>LogisticRegression</th>\n",
              "      <th>RandomForest</th>\n",
              "      <th>XGBClassifier</th>\n",
              "    </tr>\n",
              "    <tr>\n",
              "      <th>Vectorizer</th>\n",
              "      <th></th>\n",
              "      <th></th>\n",
              "      <th></th>\n",
              "      <th></th>\n",
              "      <th></th>\n",
              "    </tr>\n",
              "  </thead>\n",
              "  <tbody>\n",
              "    <tr>\n",
              "      <th>CountVectorizer</th>\n",
              "      <td>0.8119</td>\n",
              "      <td>0.7921</td>\n",
              "      <td>0.8020</td>\n",
              "      <td>0.8218</td>\n",
              "      <td>0.7525</td>\n",
              "    </tr>\n",
              "    <tr>\n",
              "      <th>TfIdFVectorize</th>\n",
              "      <td>0.7822</td>\n",
              "      <td>0.8119</td>\n",
              "      <td>0.8020</td>\n",
              "      <td>0.7624</td>\n",
              "      <td>0.7426</td>\n",
              "    </tr>\n",
              "  </tbody>\n",
              "</table>"
            ],
            "text/plain": [
              "<IPython.core.display.HTML object>"
            ]
          },
          "metadata": {
            "tags": []
          }
        },
        {
          "output_type": "stream",
          "text": [
            "\n",
            "\n",
            "\n",
            "Experiment 2:\n",
            "Adding Pos Tags along with word word_pos#{word_i}_{pos_i} + k#tags + a#tags Unigrams\n"
          ],
          "name": "stdout"
        },
        {
          "output_type": "display_data",
          "data": {
            "text/html": [
              "<table border=\"1\" class=\"dataframe\">\n",
              "  <thead>\n",
              "    <tr style=\"text-align: right;\">\n",
              "      <th></th>\n",
              "      <th>MultiNomial Naive Bais</th>\n",
              "      <th>SVM</th>\n",
              "      <th>LogisticRegression</th>\n",
              "      <th>RandomForest</th>\n",
              "      <th>XGBClassifier</th>\n",
              "    </tr>\n",
              "    <tr>\n",
              "      <th>Vectorizer</th>\n",
              "      <th></th>\n",
              "      <th></th>\n",
              "      <th></th>\n",
              "      <th></th>\n",
              "      <th></th>\n",
              "    </tr>\n",
              "  </thead>\n",
              "  <tbody>\n",
              "    <tr>\n",
              "      <th>CountVectorizer</th>\n",
              "      <td>0.8416</td>\n",
              "      <td>0.7822</td>\n",
              "      <td>0.8020</td>\n",
              "      <td>0.8020</td>\n",
              "      <td>0.7327</td>\n",
              "    </tr>\n",
              "    <tr>\n",
              "      <th>TfIdFVectorize</th>\n",
              "      <td>0.7822</td>\n",
              "      <td>0.8416</td>\n",
              "      <td>0.8218</td>\n",
              "      <td>0.7525</td>\n",
              "      <td>0.7228</td>\n",
              "    </tr>\n",
              "  </tbody>\n",
              "</table>"
            ],
            "text/plain": [
              "<IPython.core.display.HTML object>"
            ]
          },
          "metadata": {
            "tags": []
          }
        },
        {
          "output_type": "stream",
          "text": [
            "\n",
            "\n",
            "\n",
            "Experiment 3:\n",
            "Classifying based on POS tags pos#{pos_i}\n"
          ],
          "name": "stdout"
        },
        {
          "output_type": "display_data",
          "data": {
            "text/html": [
              "<table border=\"1\" class=\"dataframe\">\n",
              "  <thead>\n",
              "    <tr style=\"text-align: right;\">\n",
              "      <th></th>\n",
              "      <th>MultiNomial Naive Bais</th>\n",
              "      <th>SVM</th>\n",
              "      <th>LogisticRegression</th>\n",
              "      <th>RandomForest</th>\n",
              "      <th>XGBClassifier</th>\n",
              "    </tr>\n",
              "    <tr>\n",
              "      <th>Vectorizer</th>\n",
              "      <th></th>\n",
              "      <th></th>\n",
              "      <th></th>\n",
              "      <th></th>\n",
              "      <th></th>\n",
              "    </tr>\n",
              "  </thead>\n",
              "  <tbody>\n",
              "    <tr>\n",
              "      <th>CountVectorizer</th>\n",
              "      <td>0.7129</td>\n",
              "      <td>0.8317</td>\n",
              "      <td>0.8317</td>\n",
              "      <td>0.8416</td>\n",
              "      <td>0.8515</td>\n",
              "    </tr>\n",
              "    <tr>\n",
              "      <th>TfIdFVectorize</th>\n",
              "      <td>0.7426</td>\n",
              "      <td>0.8317</td>\n",
              "      <td>0.8317</td>\n",
              "      <td>0.8515</td>\n",
              "      <td>0.8119</td>\n",
              "    </tr>\n",
              "  </tbody>\n",
              "</table>"
            ],
            "text/plain": [
              "<IPython.core.display.HTML object>"
            ]
          },
          "metadata": {
            "tags": []
          }
        },
        {
          "output_type": "stream",
          "text": [
            "\n",
            "\n",
            "\n",
            "Experiment 4:\n",
            "Combining word and word_pos_tags\n"
          ],
          "name": "stdout"
        },
        {
          "output_type": "display_data",
          "data": {
            "text/html": [
              "<table border=\"1\" class=\"dataframe\">\n",
              "  <thead>\n",
              "    <tr style=\"text-align: right;\">\n",
              "      <th></th>\n",
              "      <th>MultiNomial Naive Bais</th>\n",
              "      <th>SVM</th>\n",
              "      <th>LogisticRegression</th>\n",
              "      <th>RandomForest</th>\n",
              "      <th>XGBClassifier</th>\n",
              "    </tr>\n",
              "    <tr>\n",
              "      <th>Vectorizer</th>\n",
              "      <th></th>\n",
              "      <th></th>\n",
              "      <th></th>\n",
              "      <th></th>\n",
              "      <th></th>\n",
              "    </tr>\n",
              "  </thead>\n",
              "  <tbody>\n",
              "    <tr>\n",
              "      <th>CountVectorizer</th>\n",
              "      <td>0.8119</td>\n",
              "      <td>0.8020</td>\n",
              "      <td>0.8317</td>\n",
              "      <td>0.7921</td>\n",
              "      <td>0.7327</td>\n",
              "    </tr>\n",
              "    <tr>\n",
              "      <th>TfIdFVectorize</th>\n",
              "      <td>0.7723</td>\n",
              "      <td>0.8218</td>\n",
              "      <td>0.8218</td>\n",
              "      <td>0.7822</td>\n",
              "      <td>0.7327</td>\n",
              "    </tr>\n",
              "  </tbody>\n",
              "</table>"
            ],
            "text/plain": [
              "<IPython.core.display.HTML object>"
            ]
          },
          "metadata": {
            "tags": []
          }
        },
        {
          "output_type": "stream",
          "text": [
            "\n",
            "\n",
            "\n",
            "Experiment 5:\n",
            "Adding bigrams of words bigram#{word_i}_{word_i+1}\n"
          ],
          "name": "stdout"
        },
        {
          "output_type": "display_data",
          "data": {
            "text/html": [
              "<table border=\"1\" class=\"dataframe\">\n",
              "  <thead>\n",
              "    <tr style=\"text-align: right;\">\n",
              "      <th></th>\n",
              "      <th>MultiNomial Naive Bais</th>\n",
              "      <th>SVM</th>\n",
              "      <th>LogisticRegression</th>\n",
              "      <th>RandomForest</th>\n",
              "      <th>XGBClassifier</th>\n",
              "    </tr>\n",
              "    <tr>\n",
              "      <th>Vectorizer</th>\n",
              "      <th></th>\n",
              "      <th></th>\n",
              "      <th></th>\n",
              "      <th></th>\n",
              "      <th></th>\n",
              "    </tr>\n",
              "  </thead>\n",
              "  <tbody>\n",
              "    <tr>\n",
              "      <th>CountVectorizer</th>\n",
              "      <td>0.7822</td>\n",
              "      <td>0.4455</td>\n",
              "      <td>0.6535</td>\n",
              "      <td>0.5644</td>\n",
              "      <td>0.4851</td>\n",
              "    </tr>\n",
              "    <tr>\n",
              "      <th>TfIdFVectorize</th>\n",
              "      <td>0.7129</td>\n",
              "      <td>0.5149</td>\n",
              "      <td>0.6535</td>\n",
              "      <td>0.6139</td>\n",
              "      <td>0.4950</td>\n",
              "    </tr>\n",
              "  </tbody>\n",
              "</table>"
            ],
            "text/plain": [
              "<IPython.core.display.HTML object>"
            ]
          },
          "metadata": {
            "tags": []
          }
        },
        {
          "output_type": "stream",
          "text": [
            "\n",
            "\n",
            "\n",
            "Experiment 6:\n",
            "Adding bigrams of pos tags ngrampos#{pos_i}_{pos_i+1}\n"
          ],
          "name": "stdout"
        },
        {
          "output_type": "display_data",
          "data": {
            "text/html": [
              "<table border=\"1\" class=\"dataframe\">\n",
              "  <thead>\n",
              "    <tr style=\"text-align: right;\">\n",
              "      <th></th>\n",
              "      <th>MultiNomial Naive Bais</th>\n",
              "      <th>SVM</th>\n",
              "      <th>LogisticRegression</th>\n",
              "      <th>RandomForest</th>\n",
              "      <th>XGBClassifier</th>\n",
              "    </tr>\n",
              "    <tr>\n",
              "      <th>Vectorizer</th>\n",
              "      <th></th>\n",
              "      <th></th>\n",
              "      <th></th>\n",
              "      <th></th>\n",
              "      <th></th>\n",
              "    </tr>\n",
              "  </thead>\n",
              "  <tbody>\n",
              "    <tr>\n",
              "      <th>CountVectorizer</th>\n",
              "      <td>0.7723</td>\n",
              "      <td>0.8416</td>\n",
              "      <td>0.8317</td>\n",
              "      <td>0.8317</td>\n",
              "      <td>0.8020</td>\n",
              "    </tr>\n",
              "    <tr>\n",
              "      <th>TfIdFVectorize</th>\n",
              "      <td>0.7921</td>\n",
              "      <td>0.8218</td>\n",
              "      <td>0.8218</td>\n",
              "      <td>0.8020</td>\n",
              "      <td>0.7723</td>\n",
              "    </tr>\n",
              "  </tbody>\n",
              "</table>"
            ],
            "text/plain": [
              "<IPython.core.display.HTML object>"
            ]
          },
          "metadata": {
            "tags": []
          }
        },
        {
          "output_type": "stream",
          "text": [
            "\n",
            "\n",
            "\n"
          ],
          "name": "stdout"
        }
      ]
    },
    {
      "cell_type": "markdown",
      "metadata": {
        "id": "Bsbhj7E6TIWZ",
        "colab_type": "text"
      },
      "source": [
        "# Summary\n",
        "\n",
        "After these series of experiments, we could distinguish the important featues\n",
        "\n",
        "\n",
        "\n",
        "1.   Q/K/A Tagging was one of the most important feature\n",
        "2.   POS tagging with different form of verbs improved the performance over\n",
        "3.   Combination of QKA and POS tag was is an important feature too\n",
        "4.   N-Grams (bi) were not that effective while classifying with this data\n",
        "5.   Random Forest, Logistic Regression and XGBClassifier all these three can be a valid choice while selecting classifier for this classification\n",
        "\n"
      ]
    },
    {
      "cell_type": "code",
      "metadata": {
        "id": "Vo8lWzhJl1eT",
        "colab_type": "code",
        "colab": {}
      },
      "source": [
        ""
      ],
      "execution_count": 0,
      "outputs": []
    }
  ]
}