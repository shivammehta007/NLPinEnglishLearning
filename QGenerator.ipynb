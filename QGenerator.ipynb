{
  "nbformat": 4,
  "nbformat_minor": 0,
  "metadata": {
    "colab": {
      "name": "QGenerator.ipynb",
      "provenance": [],
      "collapsed_sections": [
        "NFfiV_VuDgGA"
      ],
      "toc_visible": true,
      "include_colab_link": true
    },
    "kernelspec": {
      "name": "python3",
      "display_name": "Python 3"
    },
    "accelerator": "GPU",
    "widgets": {
      "application/vnd.jupyter.widget-state+json": {
        "ff253a62b8f843c9869dd2be55280fcb": {
          "model_module": "@jupyter-widgets/controls",
          "model_name": "HBoxModel",
          "state": {
            "_view_name": "HBoxView",
            "_dom_classes": [],
            "_model_name": "HBoxModel",
            "_view_module": "@jupyter-widgets/controls",
            "_model_module_version": "1.5.0",
            "_view_count": null,
            "_view_module_version": "1.5.0",
            "box_style": "",
            "layout": "IPY_MODEL_83ca0b4b6c9d419c8a414c7668a532aa",
            "_model_module": "@jupyter-widgets/controls",
            "children": [
              "IPY_MODEL_660250e37078425b9cd7d4d129918822",
              "IPY_MODEL_73c3885e0c0d44118a66ad278de44728"
            ]
          }
        },
        "83ca0b4b6c9d419c8a414c7668a532aa": {
          "model_module": "@jupyter-widgets/base",
          "model_name": "LayoutModel",
          "state": {
            "_view_name": "LayoutView",
            "grid_template_rows": null,
            "right": null,
            "justify_content": null,
            "_view_module": "@jupyter-widgets/base",
            "overflow": null,
            "_model_module_version": "1.2.0",
            "_view_count": null,
            "flex_flow": null,
            "width": null,
            "min_width": null,
            "border": null,
            "align_items": null,
            "bottom": null,
            "_model_module": "@jupyter-widgets/base",
            "top": null,
            "grid_column": null,
            "overflow_y": null,
            "overflow_x": null,
            "grid_auto_flow": null,
            "grid_area": null,
            "grid_template_columns": null,
            "flex": null,
            "_model_name": "LayoutModel",
            "justify_items": null,
            "grid_row": null,
            "max_height": null,
            "align_content": null,
            "visibility": null,
            "align_self": null,
            "height": null,
            "min_height": null,
            "padding": null,
            "grid_auto_rows": null,
            "grid_gap": null,
            "max_width": null,
            "order": null,
            "_view_module_version": "1.2.0",
            "grid_template_areas": null,
            "object_position": null,
            "object_fit": null,
            "grid_auto_columns": null,
            "margin": null,
            "display": null,
            "left": null
          }
        },
        "660250e37078425b9cd7d4d129918822": {
          "model_module": "@jupyter-widgets/controls",
          "model_name": "FloatProgressModel",
          "state": {
            "_view_name": "ProgressView",
            "style": "IPY_MODEL_4e23d58ae70f497abf5037a009e39b26",
            "_dom_classes": [],
            "description": "100%",
            "_model_name": "FloatProgressModel",
            "bar_style": "success",
            "max": 442,
            "_view_module": "@jupyter-widgets/controls",
            "_model_module_version": "1.5.0",
            "value": 442,
            "_view_count": null,
            "_view_module_version": "1.5.0",
            "orientation": "horizontal",
            "min": 0,
            "description_tooltip": null,
            "_model_module": "@jupyter-widgets/controls",
            "layout": "IPY_MODEL_c24460e1b55b44ab8ccc5c210897d1af"
          }
        },
        "73c3885e0c0d44118a66ad278de44728": {
          "model_module": "@jupyter-widgets/controls",
          "model_name": "HTMLModel",
          "state": {
            "_view_name": "HTMLView",
            "style": "IPY_MODEL_710a172bbfe94bf29bb886ae44714b1c",
            "_dom_classes": [],
            "description": "",
            "_model_name": "HTMLModel",
            "placeholder": "​",
            "_view_module": "@jupyter-widgets/controls",
            "_model_module_version": "1.5.0",
            "value": " 442/442 [00:00&lt;00:00, 1749.36it/s]",
            "_view_count": null,
            "_view_module_version": "1.5.0",
            "description_tooltip": null,
            "_model_module": "@jupyter-widgets/controls",
            "layout": "IPY_MODEL_d658bedb204d4be5944279bafbf496be"
          }
        },
        "4e23d58ae70f497abf5037a009e39b26": {
          "model_module": "@jupyter-widgets/controls",
          "model_name": "ProgressStyleModel",
          "state": {
            "_view_name": "StyleView",
            "_model_name": "ProgressStyleModel",
            "description_width": "initial",
            "_view_module": "@jupyter-widgets/base",
            "_model_module_version": "1.5.0",
            "_view_count": null,
            "_view_module_version": "1.2.0",
            "bar_color": null,
            "_model_module": "@jupyter-widgets/controls"
          }
        },
        "c24460e1b55b44ab8ccc5c210897d1af": {
          "model_module": "@jupyter-widgets/base",
          "model_name": "LayoutModel",
          "state": {
            "_view_name": "LayoutView",
            "grid_template_rows": null,
            "right": null,
            "justify_content": null,
            "_view_module": "@jupyter-widgets/base",
            "overflow": null,
            "_model_module_version": "1.2.0",
            "_view_count": null,
            "flex_flow": null,
            "width": null,
            "min_width": null,
            "border": null,
            "align_items": null,
            "bottom": null,
            "_model_module": "@jupyter-widgets/base",
            "top": null,
            "grid_column": null,
            "overflow_y": null,
            "overflow_x": null,
            "grid_auto_flow": null,
            "grid_area": null,
            "grid_template_columns": null,
            "flex": null,
            "_model_name": "LayoutModel",
            "justify_items": null,
            "grid_row": null,
            "max_height": null,
            "align_content": null,
            "visibility": null,
            "align_self": null,
            "height": null,
            "min_height": null,
            "padding": null,
            "grid_auto_rows": null,
            "grid_gap": null,
            "max_width": null,
            "order": null,
            "_view_module_version": "1.2.0",
            "grid_template_areas": null,
            "object_position": null,
            "object_fit": null,
            "grid_auto_columns": null,
            "margin": null,
            "display": null,
            "left": null
          }
        },
        "710a172bbfe94bf29bb886ae44714b1c": {
          "model_module": "@jupyter-widgets/controls",
          "model_name": "DescriptionStyleModel",
          "state": {
            "_view_name": "StyleView",
            "_model_name": "DescriptionStyleModel",
            "description_width": "",
            "_view_module": "@jupyter-widgets/base",
            "_model_module_version": "1.5.0",
            "_view_count": null,
            "_view_module_version": "1.2.0",
            "_model_module": "@jupyter-widgets/controls"
          }
        },
        "d658bedb204d4be5944279bafbf496be": {
          "model_module": "@jupyter-widgets/base",
          "model_name": "LayoutModel",
          "state": {
            "_view_name": "LayoutView",
            "grid_template_rows": null,
            "right": null,
            "justify_content": null,
            "_view_module": "@jupyter-widgets/base",
            "overflow": null,
            "_model_module_version": "1.2.0",
            "_view_count": null,
            "flex_flow": null,
            "width": null,
            "min_width": null,
            "border": null,
            "align_items": null,
            "bottom": null,
            "_model_module": "@jupyter-widgets/base",
            "top": null,
            "grid_column": null,
            "overflow_y": null,
            "overflow_x": null,
            "grid_auto_flow": null,
            "grid_area": null,
            "grid_template_columns": null,
            "flex": null,
            "_model_name": "LayoutModel",
            "justify_items": null,
            "grid_row": null,
            "max_height": null,
            "align_content": null,
            "visibility": null,
            "align_self": null,
            "height": null,
            "min_height": null,
            "padding": null,
            "grid_auto_rows": null,
            "grid_gap": null,
            "max_width": null,
            "order": null,
            "_view_module_version": "1.2.0",
            "grid_template_areas": null,
            "object_position": null,
            "object_fit": null,
            "grid_auto_columns": null,
            "margin": null,
            "display": null,
            "left": null
          }
        },
        "a8b452fed25346a5a8d60ae7924ea470": {
          "model_module": "@jupyter-widgets/controls",
          "model_name": "HBoxModel",
          "state": {
            "_view_name": "HBoxView",
            "_dom_classes": [],
            "_model_name": "HBoxModel",
            "_view_module": "@jupyter-widgets/controls",
            "_model_module_version": "1.5.0",
            "_view_count": null,
            "_view_module_version": "1.5.0",
            "box_style": "",
            "layout": "IPY_MODEL_cf8a65e3c44b48dea8c7e4f437756778",
            "_model_module": "@jupyter-widgets/controls",
            "children": [
              "IPY_MODEL_f5b578d3f2ca4f6485d81dc5b005aa2f",
              "IPY_MODEL_47e737331d4b4cf88b173cea3c3f42a2"
            ]
          }
        },
        "cf8a65e3c44b48dea8c7e4f437756778": {
          "model_module": "@jupyter-widgets/base",
          "model_name": "LayoutModel",
          "state": {
            "_view_name": "LayoutView",
            "grid_template_rows": null,
            "right": null,
            "justify_content": null,
            "_view_module": "@jupyter-widgets/base",
            "overflow": null,
            "_model_module_version": "1.2.0",
            "_view_count": null,
            "flex_flow": null,
            "width": null,
            "min_width": null,
            "border": null,
            "align_items": null,
            "bottom": null,
            "_model_module": "@jupyter-widgets/base",
            "top": null,
            "grid_column": null,
            "overflow_y": null,
            "overflow_x": null,
            "grid_auto_flow": null,
            "grid_area": null,
            "grid_template_columns": null,
            "flex": null,
            "_model_name": "LayoutModel",
            "justify_items": null,
            "grid_row": null,
            "max_height": null,
            "align_content": null,
            "visibility": null,
            "align_self": null,
            "height": null,
            "min_height": null,
            "padding": null,
            "grid_auto_rows": null,
            "grid_gap": null,
            "max_width": null,
            "order": null,
            "_view_module_version": "1.2.0",
            "grid_template_areas": null,
            "object_position": null,
            "object_fit": null,
            "grid_auto_columns": null,
            "margin": null,
            "display": null,
            "left": null
          }
        },
        "f5b578d3f2ca4f6485d81dc5b005aa2f": {
          "model_module": "@jupyter-widgets/controls",
          "model_name": "FloatProgressModel",
          "state": {
            "_view_name": "ProgressView",
            "style": "IPY_MODEL_8d80703ada6149328684c3d9044a9601",
            "_dom_classes": [],
            "description": "100%",
            "_model_name": "FloatProgressModel",
            "bar_style": "success",
            "max": 35,
            "_view_module": "@jupyter-widgets/controls",
            "_model_module_version": "1.5.0",
            "value": 35,
            "_view_count": null,
            "_view_module_version": "1.5.0",
            "orientation": "horizontal",
            "min": 0,
            "description_tooltip": null,
            "_model_module": "@jupyter-widgets/controls",
            "layout": "IPY_MODEL_123e332784664845aaa08a3487ceaa5b"
          }
        },
        "47e737331d4b4cf88b173cea3c3f42a2": {
          "model_module": "@jupyter-widgets/controls",
          "model_name": "HTMLModel",
          "state": {
            "_view_name": "HTMLView",
            "style": "IPY_MODEL_9724c35c416e4440a29eac1600b016bd",
            "_dom_classes": [],
            "description": "",
            "_model_name": "HTMLModel",
            "placeholder": "​",
            "_view_module": "@jupyter-widgets/controls",
            "_model_module_version": "1.5.0",
            "value": " 35/35 [00:09&lt;00:00,  3.54it/s]",
            "_view_count": null,
            "_view_module_version": "1.5.0",
            "description_tooltip": null,
            "_model_module": "@jupyter-widgets/controls",
            "layout": "IPY_MODEL_ee40780e48904f7b9911de9cc2a9f92d"
          }
        },
        "8d80703ada6149328684c3d9044a9601": {
          "model_module": "@jupyter-widgets/controls",
          "model_name": "ProgressStyleModel",
          "state": {
            "_view_name": "StyleView",
            "_model_name": "ProgressStyleModel",
            "description_width": "initial",
            "_view_module": "@jupyter-widgets/base",
            "_model_module_version": "1.5.0",
            "_view_count": null,
            "_view_module_version": "1.2.0",
            "bar_color": null,
            "_model_module": "@jupyter-widgets/controls"
          }
        },
        "123e332784664845aaa08a3487ceaa5b": {
          "model_module": "@jupyter-widgets/base",
          "model_name": "LayoutModel",
          "state": {
            "_view_name": "LayoutView",
            "grid_template_rows": null,
            "right": null,
            "justify_content": null,
            "_view_module": "@jupyter-widgets/base",
            "overflow": null,
            "_model_module_version": "1.2.0",
            "_view_count": null,
            "flex_flow": null,
            "width": null,
            "min_width": null,
            "border": null,
            "align_items": null,
            "bottom": null,
            "_model_module": "@jupyter-widgets/base",
            "top": null,
            "grid_column": null,
            "overflow_y": null,
            "overflow_x": null,
            "grid_auto_flow": null,
            "grid_area": null,
            "grid_template_columns": null,
            "flex": null,
            "_model_name": "LayoutModel",
            "justify_items": null,
            "grid_row": null,
            "max_height": null,
            "align_content": null,
            "visibility": null,
            "align_self": null,
            "height": null,
            "min_height": null,
            "padding": null,
            "grid_auto_rows": null,
            "grid_gap": null,
            "max_width": null,
            "order": null,
            "_view_module_version": "1.2.0",
            "grid_template_areas": null,
            "object_position": null,
            "object_fit": null,
            "grid_auto_columns": null,
            "margin": null,
            "display": null,
            "left": null
          }
        },
        "9724c35c416e4440a29eac1600b016bd": {
          "model_module": "@jupyter-widgets/controls",
          "model_name": "DescriptionStyleModel",
          "state": {
            "_view_name": "StyleView",
            "_model_name": "DescriptionStyleModel",
            "description_width": "",
            "_view_module": "@jupyter-widgets/base",
            "_model_module_version": "1.5.0",
            "_view_count": null,
            "_view_module_version": "1.2.0",
            "_model_module": "@jupyter-widgets/controls"
          }
        },
        "ee40780e48904f7b9911de9cc2a9f92d": {
          "model_module": "@jupyter-widgets/base",
          "model_name": "LayoutModel",
          "state": {
            "_view_name": "LayoutView",
            "grid_template_rows": null,
            "right": null,
            "justify_content": null,
            "_view_module": "@jupyter-widgets/base",
            "overflow": null,
            "_model_module_version": "1.2.0",
            "_view_count": null,
            "flex_flow": null,
            "width": null,
            "min_width": null,
            "border": null,
            "align_items": null,
            "bottom": null,
            "_model_module": "@jupyter-widgets/base",
            "top": null,
            "grid_column": null,
            "overflow_y": null,
            "overflow_x": null,
            "grid_auto_flow": null,
            "grid_area": null,
            "grid_template_columns": null,
            "flex": null,
            "_model_name": "LayoutModel",
            "justify_items": null,
            "grid_row": null,
            "max_height": null,
            "align_content": null,
            "visibility": null,
            "align_self": null,
            "height": null,
            "min_height": null,
            "padding": null,
            "grid_auto_rows": null,
            "grid_gap": null,
            "max_width": null,
            "order": null,
            "_view_module_version": "1.2.0",
            "grid_template_areas": null,
            "object_position": null,
            "object_fit": null,
            "grid_auto_columns": null,
            "margin": null,
            "display": null,
            "left": null
          }
        },
        "149702ff7d2c4ee0b1f14224ee38c855": {
          "model_module": "@jupyter-widgets/controls",
          "model_name": "HBoxModel",
          "state": {
            "_view_name": "HBoxView",
            "_dom_classes": [],
            "_model_name": "HBoxModel",
            "_view_module": "@jupyter-widgets/controls",
            "_model_module_version": "1.5.0",
            "_view_count": null,
            "_view_module_version": "1.5.0",
            "box_style": "",
            "layout": "IPY_MODEL_8c9b1a81c113456d8c72928e8ff5e89d",
            "_model_module": "@jupyter-widgets/controls",
            "children": [
              "IPY_MODEL_8ddd2b6ba9f5446aa4d0abd46119604a",
              "IPY_MODEL_d7b95af6730b443aaf5ff1265576792a"
            ]
          }
        },
        "8c9b1a81c113456d8c72928e8ff5e89d": {
          "model_module": "@jupyter-widgets/base",
          "model_name": "LayoutModel",
          "state": {
            "_view_name": "LayoutView",
            "grid_template_rows": null,
            "right": null,
            "justify_content": null,
            "_view_module": "@jupyter-widgets/base",
            "overflow": null,
            "_model_module_version": "1.2.0",
            "_view_count": null,
            "flex_flow": null,
            "width": null,
            "min_width": null,
            "border": null,
            "align_items": null,
            "bottom": null,
            "_model_module": "@jupyter-widgets/base",
            "top": null,
            "grid_column": null,
            "overflow_y": null,
            "overflow_x": null,
            "grid_auto_flow": null,
            "grid_area": null,
            "grid_template_columns": null,
            "flex": null,
            "_model_name": "LayoutModel",
            "justify_items": null,
            "grid_row": null,
            "max_height": null,
            "align_content": null,
            "visibility": null,
            "align_self": null,
            "height": null,
            "min_height": null,
            "padding": null,
            "grid_auto_rows": null,
            "grid_gap": null,
            "max_width": null,
            "order": null,
            "_view_module_version": "1.2.0",
            "grid_template_areas": null,
            "object_position": null,
            "object_fit": null,
            "grid_auto_columns": null,
            "margin": null,
            "display": null,
            "left": null
          }
        },
        "8ddd2b6ba9f5446aa4d0abd46119604a": {
          "model_module": "@jupyter-widgets/controls",
          "model_name": "FloatProgressModel",
          "state": {
            "_view_name": "ProgressView",
            "style": "IPY_MODEL_cd8016f243244b7dbe8a6a7e6bad59b6",
            "_dom_classes": [],
            "description": "100%",
            "_model_name": "FloatProgressModel",
            "bar_style": "success",
            "max": 86821,
            "_view_module": "@jupyter-widgets/controls",
            "_model_module_version": "1.5.0",
            "value": 86821,
            "_view_count": null,
            "_view_module_version": "1.5.0",
            "orientation": "horizontal",
            "min": 0,
            "description_tooltip": null,
            "_model_module": "@jupyter-widgets/controls",
            "layout": "IPY_MODEL_7cd55259ea144c8d903406ec79ad96fd"
          }
        },
        "d7b95af6730b443aaf5ff1265576792a": {
          "model_module": "@jupyter-widgets/controls",
          "model_name": "HTMLModel",
          "state": {
            "_view_name": "HTMLView",
            "style": "IPY_MODEL_60d79000c9f14aa999ebc350594037d6",
            "_dom_classes": [],
            "description": "",
            "_model_name": "HTMLModel",
            "placeholder": "​",
            "_view_module": "@jupyter-widgets/controls",
            "_model_module_version": "1.5.0",
            "value": " 86821/86821 [00:00&lt;00:00, 327603.00it/s]",
            "_view_count": null,
            "_view_module_version": "1.5.0",
            "description_tooltip": null,
            "_model_module": "@jupyter-widgets/controls",
            "layout": "IPY_MODEL_fd806f1eca9c4c5ea845b66b612a67be"
          }
        },
        "cd8016f243244b7dbe8a6a7e6bad59b6": {
          "model_module": "@jupyter-widgets/controls",
          "model_name": "ProgressStyleModel",
          "state": {
            "_view_name": "StyleView",
            "_model_name": "ProgressStyleModel",
            "description_width": "initial",
            "_view_module": "@jupyter-widgets/base",
            "_model_module_version": "1.5.0",
            "_view_count": null,
            "_view_module_version": "1.2.0",
            "bar_color": null,
            "_model_module": "@jupyter-widgets/controls"
          }
        },
        "7cd55259ea144c8d903406ec79ad96fd": {
          "model_module": "@jupyter-widgets/base",
          "model_name": "LayoutModel",
          "state": {
            "_view_name": "LayoutView",
            "grid_template_rows": null,
            "right": null,
            "justify_content": null,
            "_view_module": "@jupyter-widgets/base",
            "overflow": null,
            "_model_module_version": "1.2.0",
            "_view_count": null,
            "flex_flow": null,
            "width": null,
            "min_width": null,
            "border": null,
            "align_items": null,
            "bottom": null,
            "_model_module": "@jupyter-widgets/base",
            "top": null,
            "grid_column": null,
            "overflow_y": null,
            "overflow_x": null,
            "grid_auto_flow": null,
            "grid_area": null,
            "grid_template_columns": null,
            "flex": null,
            "_model_name": "LayoutModel",
            "justify_items": null,
            "grid_row": null,
            "max_height": null,
            "align_content": null,
            "visibility": null,
            "align_self": null,
            "height": null,
            "min_height": null,
            "padding": null,
            "grid_auto_rows": null,
            "grid_gap": null,
            "max_width": null,
            "order": null,
            "_view_module_version": "1.2.0",
            "grid_template_areas": null,
            "object_position": null,
            "object_fit": null,
            "grid_auto_columns": null,
            "margin": null,
            "display": null,
            "left": null
          }
        },
        "60d79000c9f14aa999ebc350594037d6": {
          "model_module": "@jupyter-widgets/controls",
          "model_name": "DescriptionStyleModel",
          "state": {
            "_view_name": "StyleView",
            "_model_name": "DescriptionStyleModel",
            "description_width": "",
            "_view_module": "@jupyter-widgets/base",
            "_model_module_version": "1.5.0",
            "_view_count": null,
            "_view_module_version": "1.2.0",
            "_model_module": "@jupyter-widgets/controls"
          }
        },
        "fd806f1eca9c4c5ea845b66b612a67be": {
          "model_module": "@jupyter-widgets/base",
          "model_name": "LayoutModel",
          "state": {
            "_view_name": "LayoutView",
            "grid_template_rows": null,
            "right": null,
            "justify_content": null,
            "_view_module": "@jupyter-widgets/base",
            "overflow": null,
            "_model_module_version": "1.2.0",
            "_view_count": null,
            "flex_flow": null,
            "width": null,
            "min_width": null,
            "border": null,
            "align_items": null,
            "bottom": null,
            "_model_module": "@jupyter-widgets/base",
            "top": null,
            "grid_column": null,
            "overflow_y": null,
            "overflow_x": null,
            "grid_auto_flow": null,
            "grid_area": null,
            "grid_template_columns": null,
            "flex": null,
            "_model_name": "LayoutModel",
            "justify_items": null,
            "grid_row": null,
            "max_height": null,
            "align_content": null,
            "visibility": null,
            "align_self": null,
            "height": null,
            "min_height": null,
            "padding": null,
            "grid_auto_rows": null,
            "grid_gap": null,
            "max_width": null,
            "order": null,
            "_view_module_version": "1.2.0",
            "grid_template_areas": null,
            "object_position": null,
            "object_fit": null,
            "grid_auto_columns": null,
            "margin": null,
            "display": null,
            "left": null
          }
        }
      }
    }
  },
  "cells": [
    {
      "cell_type": "markdown",
      "metadata": {
        "id": "view-in-github",
        "colab_type": "text"
      },
      "source": [
        "<a href=\"https://colab.research.google.com/github/shivammehta007/QuestionGenerator/blob/master/QGenerator.ipynb\" target=\"_parent\"><img src=\"https://colab.research.google.com/assets/colab-badge.svg\" alt=\"Open In Colab\"/></a>"
      ]
    },
    {
      "cell_type": "markdown",
      "metadata": {
        "id": "BLtWBqUscOtx",
        "colab_type": "text"
      },
      "source": [
        "# Question Generation"
      ]
    },
    {
      "cell_type": "markdown",
      "metadata": {
        "id": "T808ilq_g2bm",
        "colab_type": "text"
      },
      "source": [
        "Additional Dependencies"
      ]
    },
    {
      "cell_type": "code",
      "metadata": {
        "id": "3LU58nY0cTuk",
        "colab_type": "code",
        "colab": {}
      },
      "source": [
        "%%capture\n",
        "!pip install fairseq\n",
        "!pip install sacremoses subword_nmt\n",
        "!pip install -U tqdm"
      ],
      "execution_count": 0,
      "outputs": []
    },
    {
      "cell_type": "code",
      "metadata": {
        "id": "tSk9ez44VPd2",
        "colab_type": "code",
        "colab": {
          "base_uri": "https://localhost:8080/",
          "height": 34
        },
        "outputId": "43296ceb-07db-4e45-d777-453a1dfcf49e"
      },
      "source": [
        "from google.colab import drive\n",
        "drive.mount('/content/drive')"
      ],
      "execution_count": 2,
      "outputs": [
        {
          "output_type": "stream",
          "text": [
            "Drive already mounted at /content/drive; to attempt to forcibly remount, call drive.mount(\"/content/drive\", force_remount=True).\n"
          ],
          "name": "stdout"
        }
      ]
    },
    {
      "cell_type": "code",
      "metadata": {
        "id": "lbHwJtHvqrvR",
        "colab_type": "code",
        "colab": {}
      },
      "source": [
        "import os\n",
        "import json\n",
        "import logging\n",
        "import numpy as np\n",
        "import pandas as pd\n",
        "from tqdm.notebook import tqdm\n",
        "import random"
      ],
      "execution_count": 0,
      "outputs": []
    },
    {
      "cell_type": "code",
      "metadata": {
        "id": "WGJ7wyH392a7",
        "colab_type": "code",
        "colab": {}
      },
      "source": [
        "# For results duplication\n",
        "SEED=1234\n",
        "random.seed(SEED)"
      ],
      "execution_count": 0,
      "outputs": []
    },
    {
      "cell_type": "code",
      "metadata": {
        "id": "71OqW0Y1BbN0",
        "colab_type": "code",
        "colab": {}
      },
      "source": [
        "logger = logging.getLogger(__name__)\n",
        "logging.basicConfig(level=logging.INFO)"
      ],
      "execution_count": 0,
      "outputs": []
    },
    {
      "cell_type": "markdown",
      "metadata": {
        "id": "ewFG2QxZqhdN",
        "colab_type": "text"
      },
      "source": [
        "## DataSet"
      ]
    },
    {
      "cell_type": "code",
      "metadata": {
        "id": "DCxOp7LEcGlf",
        "colab_type": "code",
        "outputId": "b3f7de40-b24e-4269-f1ac-72b6807d04aa",
        "colab": {
          "base_uri": "https://localhost:8080/",
          "height": 34
        }
      },
      "source": [
        "SQUAD_DIR = '/content/drive/My Drive/Colab Notebooks/SQuAD'\n",
        "SQUAD_TRAIN = os.path.join(SQUAD_DIR, 'train_v2.json')\n",
        "# SQUAD_DEV = os.path.join(SQUAD_DIR, 'dev.json')\n",
        "SQUAD_TEST = os.path.join(SQUAD_DIR, 'test_v2.json')\n",
        "print(SQUAD_TRAIN, SQUAD_TEST) # , SQUAD_DEV"
      ],
      "execution_count": 6,
      "outputs": [
        {
          "output_type": "stream",
          "text": [
            "/content/drive/My Drive/Colab Notebooks/SQuAD/train_v2.json /content/drive/My Drive/Colab Notebooks/SQuAD/test_v2.json\n"
          ],
          "name": "stdout"
        }
      ]
    },
    {
      "cell_type": "code",
      "metadata": {
        "id": "iTVjKnG6q4qR",
        "colab_type": "code",
        "colab": {}
      },
      "source": [
        "with open(SQUAD_TRAIN) as train_file:\n",
        "    train_data = json.load(train_file)\n",
        "    train_data = train_data['data']\n",
        "\n",
        "with open(SQUAD_TEST) as test_file:\n",
        "    test_data = json.load(test_file)\n",
        "    test_data = test_data['data']"
      ],
      "execution_count": 0,
      "outputs": []
    },
    {
      "cell_type": "markdown",
      "metadata": {
        "id": "xrg9adeKTgZk",
        "colab_type": "text"
      },
      "source": [
        "### PreProcessing Function"
      ]
    },
    {
      "cell_type": "code",
      "metadata": {
        "id": "DsZ0jvvqTfIA",
        "colab_type": "code",
        "colab": {}
      },
      "source": [
        "def convert_to_file_without_answers(dataset, dataset_type='train', get_impossible=False):\n",
        "    \"\"\"\n",
        "    Takes an input json and generates dataset_type.paragraphs and dataset_type.questions\n",
        "    Input:\n",
        "    dataset : string -> Name of json input\n",
        "    dataset_type: string -> Type of dataset like (Train, test, valid)\n",
        "    get_impossible: boolean -> Flag to get unanswerable questions\n",
        "    \"\"\"\n",
        "    para_output = open(dataset_type + '.paragraphs', 'w')\n",
        "    question_output = open(dataset_type + '.questions', 'w')\n",
        "    d = []\n",
        "    for paragraphs in tqdm(dataset):\n",
        "        paragraphs = paragraphs['paragraphs']\n",
        "        for i, paragraph in enumerate(paragraphs):\n",
        "            para = paragraph['context']\n",
        "            for questionanswers in paragraph['qas']:\n",
        "                if questionanswers['is_impossible']:\n",
        "                    continue\n",
        "                question = questionanswers['question']\n",
        "                para = para.replace('\\n', ' ')\n",
        "                para_output.write(para.strip().lower() + '\\n')\n",
        "                question_output.write(question.strip().lower() + '\\n')\n",
        "                d.append(i)\n",
        "    print(len(d))\n",
        "    para_output.close()\n",
        "    question_output.close()"
      ],
      "execution_count": 0,
      "outputs": []
    },
    {
      "cell_type": "code",
      "metadata": {
        "id": "XOVyuJg2Tfe-",
        "colab_type": "code",
        "outputId": "4de68a64-0bdf-4b40-d0f3-d88a1094edbb",
        "colab": {
          "base_uri": "https://localhost:8080/",
          "height": 149,
          "referenced_widgets": [
            "ff253a62b8f843c9869dd2be55280fcb",
            "83ca0b4b6c9d419c8a414c7668a532aa",
            "660250e37078425b9cd7d4d129918822",
            "73c3885e0c0d44118a66ad278de44728",
            "4e23d58ae70f497abf5037a009e39b26",
            "c24460e1b55b44ab8ccc5c210897d1af",
            "710a172bbfe94bf29bb886ae44714b1c",
            "d658bedb204d4be5944279bafbf496be",
            "a8b452fed25346a5a8d60ae7924ea470",
            "cf8a65e3c44b48dea8c7e4f437756778",
            "f5b578d3f2ca4f6485d81dc5b005aa2f",
            "47e737331d4b4cf88b173cea3c3f42a2",
            "8d80703ada6149328684c3d9044a9601",
            "123e332784664845aaa08a3487ceaa5b",
            "9724c35c416e4440a29eac1600b016bd",
            "ee40780e48904f7b9911de9cc2a9f92d"
          ]
        }
      },
      "source": [
        "convert_to_file_without_answers(train_data, 'train')\n",
        "convert_to_file_without_answers(test_data, 'test')\n"
      ],
      "execution_count": 9,
      "outputs": [
        {
          "output_type": "display_data",
          "data": {
            "application/vnd.jupyter.widget-view+json": {
              "model_id": "ff253a62b8f843c9869dd2be55280fcb",
              "version_minor": 0,
              "version_major": 2
            },
            "text/plain": [
              "HBox(children=(FloatProgress(value=0.0, max=442.0), HTML(value='')))"
            ]
          },
          "metadata": {
            "tags": []
          }
        },
        {
          "output_type": "stream",
          "text": [
            "\n",
            "86821\n"
          ],
          "name": "stdout"
        },
        {
          "output_type": "display_data",
          "data": {
            "application/vnd.jupyter.widget-view+json": {
              "model_id": "a8b452fed25346a5a8d60ae7924ea470",
              "version_minor": 0,
              "version_major": 2
            },
            "text/plain": [
              "HBox(children=(FloatProgress(value=0.0, max=35.0), HTML(value='')))"
            ]
          },
          "metadata": {
            "tags": []
          }
        },
        {
          "output_type": "stream",
          "text": [
            "\n",
            "5928\n"
          ],
          "name": "stdout"
        }
      ]
    },
    {
      "cell_type": "code",
      "metadata": {
        "id": "F3XnQgaS-Y_D",
        "colab_type": "code",
        "colab": {}
      },
      "source": [
        "def split_train_valid(filename_paragraph='train.paragraphs', filename_questions='train.questions', split_ratio=0.8):\n",
        "    \"\"\"Splits the train set to a validation set\"\"\"\n",
        "\n",
        "    with open(filename_paragraph) as paragraphs_file, open(filename_questions) as questions_file:\n",
        "        data_paragraphs = paragraphs_file.readlines()\n",
        "        data_questions = questions_file.readlines()\n",
        "    \n",
        "    # Output files\n",
        "    train_paragraphs_file = open('train.paragraphs', 'w')\n",
        "    valid_paragraphs_file = open('valid.paragraphs', 'w')\n",
        "    train_questions_file = open('train.questions', 'w')\n",
        "    valid_questions_file = open('valid.questions', 'w')\n",
        "\n",
        "    train_count, valid_count = 0, 0\n",
        "\n",
        "    for i in tqdm(range(len(data_paragraphs))):\n",
        "        if random.random() < split_ratio:\n",
        "            train_paragraphs_file.write(data_paragraphs[i].strip() + '\\n')\n",
        "            train_questions_file.write(data_questions[i].strip() + '\\n')\n",
        "            train_count += 1\n",
        "        else:\n",
        "            valid_paragraphs_file.write(data_paragraphs[i].strip() + '\\n')\n",
        "            valid_questions_file.write(data_questions[i].strip() + '\\n')\n",
        "            valid_count += 1\n",
        "\n",
        "    logger.info('Total Trainset: {} | Total ValidSet: {}'.format(train_count, valid_count))\n",
        "\n"
      ],
      "execution_count": 0,
      "outputs": []
    },
    {
      "cell_type": "code",
      "metadata": {
        "id": "oTlUUJoABrrd",
        "colab_type": "code",
        "outputId": "414d59af-1184-46b0-fb11-67ac0cf2530d",
        "colab": {
          "base_uri": "https://localhost:8080/",
          "height": 83,
          "referenced_widgets": [
            "149702ff7d2c4ee0b1f14224ee38c855",
            "8c9b1a81c113456d8c72928e8ff5e89d",
            "8ddd2b6ba9f5446aa4d0abd46119604a",
            "d7b95af6730b443aaf5ff1265576792a",
            "cd8016f243244b7dbe8a6a7e6bad59b6",
            "7cd55259ea144c8d903406ec79ad96fd",
            "60d79000c9f14aa999ebc350594037d6",
            "fd806f1eca9c4c5ea845b66b612a67be"
          ]
        }
      },
      "source": [
        "split_train_valid()"
      ],
      "execution_count": 11,
      "outputs": [
        {
          "output_type": "display_data",
          "data": {
            "application/vnd.jupyter.widget-view+json": {
              "model_id": "149702ff7d2c4ee0b1f14224ee38c855",
              "version_minor": 0,
              "version_major": 2
            },
            "text/plain": [
              "HBox(children=(FloatProgress(value=0.0, max=86821.0), HTML(value='')))"
            ]
          },
          "metadata": {
            "tags": []
          }
        },
        {
          "output_type": "stream",
          "text": [
            "INFO:__main__:Total Trainset: 69383 | Total ValidSet: 17438\n"
          ],
          "name": "stderr"
        },
        {
          "output_type": "stream",
          "text": [
            "\n"
          ],
          "name": "stdout"
        }
      ]
    },
    {
      "cell_type": "markdown",
      "metadata": {
        "id": "aHjI0mvZDa7g",
        "colab_type": "text"
      },
      "source": [
        "### Generate Binary of Dataset for FairSeq to process"
      ]
    },
    {
      "cell_type": "code",
      "metadata": {
        "id": "8iuBiIy39Aaf",
        "colab_type": "code",
        "colab": {}
      },
      "source": [
        ""
      ],
      "execution_count": 0,
      "outputs": []
    },
    {
      "cell_type": "code",
      "metadata": {
        "id": "ahWXypAOTfc2",
        "colab_type": "code",
        "outputId": "d875f887-238b-4b18-f594-e56b88c3e081",
        "colab": {
          "base_uri": "https://localhost:8080/",
          "height": 275
        }
      },
      "source": [
        "!fairseq-preprocess --source-lang paragraphs --target-lang questions \\\n",
        "     --trainpref train --testpref test --validpref valid\\\n",
        "     --destdir preprocessed_data --seed 1234 --nwordssrc 45000 --nwordstgt 28000"
      ],
      "execution_count": 12,
      "outputs": [
        {
          "output_type": "stream",
          "text": [
            "Namespace(align_suffix=None, alignfile=None, bpe=None, cpu=False, criterion='cross_entropy', dataset_impl='mmap', destdir='preprocessed_data', empty_cache_freq=0, fp16=False, fp16_init_scale=128, fp16_scale_tolerance=0.0, fp16_scale_window=None, joined_dictionary=False, log_format=None, log_interval=1000, lr_scheduler='fixed', memory_efficient_fp16=False, min_loss_scale=0.0001, no_progress_bar=False, nwordssrc=45002, nwordstgt=28002, only_source=False, optimizer='nag', padding_factor=8, seed=1234, source_lang='paragraphs', srcdict=None, target_lang='questions', task='translation', tensorboard_logdir='', testpref='test', tgtdict=None, threshold_loss_scale=None, thresholdsrc=0, thresholdtgt=0, tokenizer=None, trainpref='train', user_dir=None, validpref='valid', workers=1)\n",
            "| [paragraphs] Dictionary: 45007 types\n",
            "| [paragraphs] train.paragraphs: 69383 sents, 8386865 tokens, 7.52% replaced by <unk>\n",
            "| [paragraphs] Dictionary: 45007 types\n",
            "| [paragraphs] valid.paragraphs: 17438 sents, 2100621 tokens, 8.0% replaced by <unk>\n",
            "| [paragraphs] Dictionary: 45007 types\n",
            "| [paragraphs] test.paragraphs: 5928 sents, 767710 tokens, 10.4% replaced by <unk>\n",
            "| [questions] Dictionary: 28007 types\n",
            "| [questions] train.questions: 69383 sents, 767321 tokens, 3.73% replaced by <unk>\n",
            "| [questions] Dictionary: 28007 types\n",
            "| [questions] valid.questions: 17438 sents, 193473 tokens, 6.04% replaced by <unk>\n",
            "| [questions] Dictionary: 28007 types\n",
            "| [questions] test.questions: 5928 sents, 67362 tokens, 8.96% replaced by <unk>\n",
            "| Wrote preprocessed data to preprocessed_data\n"
          ],
          "name": "stdout"
        }
      ]
    },
    {
      "cell_type": "markdown",
      "metadata": {
        "id": "NFfiV_VuDgGA",
        "colab_type": "text"
      },
      "source": [
        "### Training a default ConvSeq2Seq Model"
      ]
    },
    {
      "cell_type": "code",
      "metadata": {
        "id": "NcJ8LG6-TfaF",
        "colab_type": "code",
        "colab": {}
      },
      "source": [
        "# !fairseq-generate data-bin/iwslt14.tokenized.de-en \\\n",
        "#     --path checkpoints/fconv/checkpoint20.pt \\\n",
        "#     --batch-size 128 --beam 5\n",
        "\n",
        "!CUDA_VISIBLE_DEVICES=0 fairseq-train preprocessed_data/ \\\n",
        "     --lr 0.01 --clip-norm 0.1 --dropout 0.2 --max-tokens 4000 \\\n",
        "     --arch fconv_iwslt_de_en --save-dir checkpoints/fconv"
      ],
      "execution_count": 0,
      "outputs": []
    },
    {
      "cell_type": "code",
      "metadata": {
        "id": "wWcZSBfETfWi",
        "colab_type": "code",
        "colab": {}
      },
      "source": [
        "!fairseq-generate preprocessed_data \\\n",
        "    --path checkpoints/fconv/checkpoint43.pt \\\n",
        "    --batch-size 128 | tee gen.out"
      ],
      "execution_count": 0,
      "outputs": []
    },
    {
      "cell_type": "code",
      "metadata": {
        "id": "wv7roXL5_tra",
        "colab_type": "code",
        "outputId": "7b055c12-f3a6-48f0-b6d2-737ae233cacb",
        "colab": {
          "base_uri": "https://localhost:8080/",
          "height": 51
        }
      },
      "source": [
        "!grep ^H gen.out | cut -f3- > gen.out.sys\n",
        "!grep ^T gen.out | cut -f2- > gen.out.ref\n",
        "!fairseq-score --sys gen.out.sys --ref gen.out.ref"
      ],
      "execution_count": 0,
      "outputs": [
        {
          "output_type": "stream",
          "text": [
            "Namespace(ignore_case=False, order=4, ref='gen.out.ref', sacrebleu=False, sentence_bleu=False, sys='gen.out.sys')\n",
            "BLEU4 = 2.43, 15.4/3.8/1.3/0.5 (BP=1.000, ratio=1.451, syslen=89115, reflen=61434)\n"
          ],
          "name": "stdout"
        }
      ]
    },
    {
      "cell_type": "code",
      "metadata": {
        "id": "9u_JkoWBAt7m",
        "colab_type": "code",
        "colab": {}
      },
      "source": [
        "# %cd fairseq/examples/translation/\n",
        "# !bash prepare-iwslt14.sh\n",
        "# !fairseq-preprocess --source-lang de --target-lang en \\\n",
        "#     --trainpref examples/translation/iwslt14.tokenized.de-en/train --validpref examples/translation/iwslt14.tokenized.de-en/valid --testpref examples/translation/iwslt14.tokenized.de-en/test \\\n",
        "#     --destdir data-bin/iwslt14.tokenized.de-en\n",
        "# !mkdir -p checkpoints/fconv\n",
        "# !fairseq-train data-bin/iwslt14.tokenized.de-en \\\n",
        "#     --lr 0.25 --clip-norm 0.1 --dropout 0.2 --max-tokens 4000 \\\n",
        "#     --arch fconv_iwslt_de_en --save-dir checkpoints/fconv"
      ],
      "execution_count": 0,
      "outputs": []
    },
    {
      "cell_type": "code",
      "metadata": {
        "id": "5kDLHksIJ4Ko",
        "colab_type": "code",
        "colab": {}
      },
      "source": [
        "# !fairseq-generate data-bin/iwslt14.tokenized.de-en \\\n",
        "#     --path checkpoints/fconv/checkpoint20.pt \\\n",
        "#     --batch-size 128 --beam 5"
      ],
      "execution_count": 0,
      "outputs": []
    },
    {
      "cell_type": "markdown",
      "metadata": {
        "id": "MuCn_Bdhx8X_",
        "colab_type": "text"
      },
      "source": [
        "### Trying Baseline LSTM Model"
      ]
    },
    {
      "cell_type": "code",
      "metadata": {
        "id": "qe_OwaIVx-sR",
        "colab_type": "code",
        "outputId": "e8d3c484-e38b-4c11-819b-0956f85db9a6",
        "colab": {
          "base_uri": "https://localhost:8080/",
          "height": 357
        }
      },
      "source": [
        "!wget http://nlp.stanford.edu/data/glove.840B.300d.zip"
      ],
      "execution_count": 13,
      "outputs": [
        {
          "output_type": "stream",
          "text": [
            "--2020-03-06 10:27:03--  http://nlp.stanford.edu/data/glove.840B.300d.zip\n",
            "Resolving nlp.stanford.edu (nlp.stanford.edu)... 171.64.67.140\n",
            "Connecting to nlp.stanford.edu (nlp.stanford.edu)|171.64.67.140|:80... connected.\n",
            "HTTP request sent, awaiting response... 302 Found\n",
            "Location: https://nlp.stanford.edu/data/glove.840B.300d.zip [following]\n",
            "--2020-03-06 10:27:03--  https://nlp.stanford.edu/data/glove.840B.300d.zip\n",
            "Connecting to nlp.stanford.edu (nlp.stanford.edu)|171.64.67.140|:443... connected.\n",
            "HTTP request sent, awaiting response... 301 Moved Permanently\n",
            "Location: http://downloads.cs.stanford.edu/nlp/data/glove.840B.300d.zip [following]\n",
            "--2020-03-06 10:27:04--  http://downloads.cs.stanford.edu/nlp/data/glove.840B.300d.zip\n",
            "Resolving downloads.cs.stanford.edu (downloads.cs.stanford.edu)... 171.64.64.22\n",
            "Connecting to downloads.cs.stanford.edu (downloads.cs.stanford.edu)|171.64.64.22|:80... connected.\n",
            "HTTP request sent, awaiting response... 200 OK\n",
            "Length: 2176768927 (2.0G) [application/zip]\n",
            "Saving to: ‘glove.840B.300d.zip’\n",
            "\n",
            "glove.840B.300d.zip 100%[===================>]   2.03G  2.09MB/s    in 16m 58s \n",
            "\n",
            "2020-03-06 10:44:02 (2.04 MB/s) - ‘glove.840B.300d.zip’ saved [2176768927/2176768927]\n",
            "\n"
          ],
          "name": "stdout"
        }
      ]
    },
    {
      "cell_type": "code",
      "metadata": {
        "id": "YngekyqK47M0",
        "colab_type": "code",
        "outputId": "86d16ef5-f9f1-4a6a-e20a-e509e1a2b136",
        "colab": {
          "base_uri": "https://localhost:8080/",
          "height": 51
        }
      },
      "source": [
        "!unzip glove.840B.300d.zip"
      ],
      "execution_count": 14,
      "outputs": [
        {
          "output_type": "stream",
          "text": [
            "Archive:  glove.840B.300d.zip\n",
            "  inflating: glove.840B.300d.txt     \n"
          ],
          "name": "stdout"
        }
      ]
    },
    {
      "cell_type": "code",
      "metadata": {
        "id": "6XIKQSKebTR-",
        "colab_type": "code",
        "colab": {}
      },
      "source": [
        "# --lr 0.001. --lr-shrink\n",
        "! rm -rf checkpoints"
      ],
      "execution_count": 0,
      "outputs": []
    },
    {
      "cell_type": "code",
      "metadata": {
        "id": "k0BnmaSfKNLy",
        "colab_type": "code",
        "outputId": "17d96d8c-9bc7-44a7-ac74-5b47133407e5",
        "colab": {
          "base_uri": "https://localhost:8080/",
          "height": 1000
        }
      },
      "source": [
        "!CUDA_VISIBLE_DEVICES=0 fairseq-train preprocessed_data/ \\\n",
        "     --clip-norm 5 --batch-size 64 \\\n",
        "     --arch lstm --max-epoch 15 --encoder-hidden-size 600 --encoder-layers 2 \\\n",
        "     --decoder-hidden-size 600 --decoder-layers 2 --optimizer sgd  --dropout 0.3 --encoder-embed-path glove.840B.300d.txt \\\n",
        "     --encoder-bidirectional --encoder-embed-dim 300 --decoder-embed-dim 300 --no-epoch-checkpoints --decoder-embed-path glove.840B.300d.txt --decoder-out-embed-dim 300 --num-workers 3 \\\n",
        "     --lr 1.0,1.0,1.0,1.0,1.0,1.0,1.0,1.0,0.5,0.25,0.125,0.0625,0.03125,0.015625,0.0078125"
      ],
      "execution_count": 24,
      "outputs": [
        {
          "output_type": "stream",
          "text": [
            "Namespace(adaptive_softmax_cutoff='10000,50000,200000', arch='lstm', best_checkpoint_metric='loss', bpe=None, bucket_cap_mb=25, clip_norm=5.0, cpu=False, criterion='cross_entropy', curriculum=0, data='preprocessed_data/', dataset_impl=None, ddp_backend='c10d', decoder_attention='1', decoder_dropout_in=0.3, decoder_dropout_out=0.3, decoder_embed_dim=300, decoder_embed_path='glove.840B.300d.txt', decoder_freeze_embed=False, decoder_hidden_size=600, decoder_layers=2, decoder_out_embed_dim=300, device_id=0, disable_validation=False, distributed_backend='nccl', distributed_init_method=None, distributed_no_spawn=False, distributed_port=-1, distributed_rank=0, distributed_world_size=1, dropout=0.3, empty_cache_freq=0, encoder_bidirectional=True, encoder_dropout_in=0.3, encoder_dropout_out=0.3, encoder_embed_dim=300, encoder_embed_path='glove.840B.300d.txt', encoder_freeze_embed=False, encoder_hidden_size=600, encoder_layers=2, fast_stat_sync=False, find_unused_parameters=False, fix_batches_to_gpus=False, fixed_validation_seed=None, force_anneal=None, fp16=False, fp16_init_scale=128, fp16_scale_tolerance=0.0, fp16_scale_window=None, keep_interval_updates=-1, keep_last_epochs=-1, lazy_load=False, left_pad_source='True', left_pad_target='False', load_alignments=False, log_format=None, log_interval=1000, lr=[1.0, 1.0, 1.0, 1.0, 1.0, 1.0, 1.0, 1.0, 0.5, 0.25, 0.125, 0.0625, 0.03125, 0.015625, 0.0078125], lr_scheduler='fixed', lr_shrink=0.1, max_epoch=15, max_sentences=64, max_sentences_valid=64, max_source_positions=1024, max_target_positions=1024, max_tokens=None, max_tokens_valid=None, max_update=0, maximize_best_checkpoint_metric=False, memory_efficient_fp16=False, min_loss_scale=0.0001, min_lr=-1, momentum=0.0, no_epoch_checkpoints=True, no_last_checkpoints=False, no_progress_bar=False, no_save=False, no_save_optimizer_state=False, num_workers=3, optimizer='sgd', optimizer_overrides='{}', raw_text=False, required_batch_size_multiple=8, reset_dataloader=False, reset_lr_scheduler=False, reset_meters=False, reset_optimizer=False, restore_file='checkpoint_last.pt', save_dir='checkpoints', save_interval=1, save_interval_updates=0, seed=1, sentence_avg=False, share_all_embeddings=False, share_decoder_input_output_embed=False, skip_invalid_size_inputs_valid_test=False, source_lang=None, target_lang=None, task='translation', tensorboard_logdir='', threshold_loss_scale=None, tokenizer=None, train_subset='train', truncate_source=False, update_freq=[1], upsample_primary=1, use_bmuf=False, user_dir=None, valid_subset='valid', validate_interval=1, warmup_updates=0, weight_decay=0.0)\n",
            "| [paragraphs] dictionary: 45008 types\n",
            "| [questions] dictionary: 28008 types\n",
            "| loaded 17438 examples from: preprocessed_data/valid.paragraphs-questions.paragraphs\n",
            "| loaded 17438 examples from: preprocessed_data/valid.paragraphs-questions.questions\n",
            "| preprocessed_data/ valid paragraphs-questions 17438 examples\n",
            "| Found 30130/45008 types in embedding file.\n",
            "| Found 17958/28008 types in embedding file.\n",
            "LSTMModel(\n",
            "  (encoder): LSTMEncoder(\n",
            "    (embed_tokens): Embedding(45008, 300, padding_idx=1)\n",
            "    (lstm): LSTM(300, 600, num_layers=2, dropout=0.3, bidirectional=True)\n",
            "  )\n",
            "  (decoder): LSTMDecoder(\n",
            "    (embed_tokens): Embedding(28008, 300, padding_idx=1)\n",
            "    (encoder_hidden_proj): Linear(in_features=1200, out_features=600, bias=True)\n",
            "    (encoder_cell_proj): Linear(in_features=1200, out_features=600, bias=True)\n",
            "    (layers): ModuleList(\n",
            "      (0): LSTMCell(900, 600)\n",
            "      (1): LSTMCell(600, 600)\n",
            "    )\n",
            "    (attention): AttentionLayer(\n",
            "      (input_proj): Linear(in_features=600, out_features=1200, bias=False)\n",
            "      (output_proj): Linear(in_features=1800, out_features=600, bias=False)\n",
            "    )\n",
            "    (additional_fc): Linear(in_features=600, out_features=300, bias=True)\n",
            "    (fc_out): Linear(in_features=300, out_features=28008, bias=True)\n",
            "  )\n",
            ")\n",
            "| model lstm, criterion CrossEntropyCriterion\n",
            "| num. model params: 53225508 (num. trained: 53225508)\n",
            "| training on 1 GPUs\n",
            "| max tokens per GPU = None and max sentences per GPU = 64\n",
            "| loaded checkpoint checkpoints/checkpoint_last.pt (epoch 8 @ 8680 updates)\n",
            "| loading train data for epoch 8\n",
            "| loaded 69383 examples from: preprocessed_data/train.paragraphs-questions.paragraphs\n",
            "| loaded 69383 examples from: preprocessed_data/train.paragraphs-questions.questions\n",
            "| preprocessed_data/ train paragraphs-questions 69383 examples\n",
            "| epoch 009:   1% 14/1085 [00:05<06:52,  2.60it/s, loss=6.702, ppl=104.13, wps=2129, ups=3, wpb=725.571, bsz=64.000, num_updates=8694, lr=0.5, gnorm=0.684, clip=0.000, oom=0.000, wall=6, train_wall=3435]/pytorch/aten/src/ATen/native/RangeFactories.cpp:170: UserWarning: The number of elements in the out tensor of shape [33] is 33 which does not match the computed number of elements 256. Note that this may occur as a result of rounding error. The out tensor will be resized to a tensor of shape (256,).\n",
            "| epoch 009:   2% 24/1085 [00:09<05:30,  3.21it/s, loss=6.604, ppl=97.28, wps=1859, ups=3, wpb=677.750, bsz=64.000, num_updates=8704, lr=0.5, gnorm=0.719, clip=0.000, oom=0.000, wall=10, train_wall=3439]/pytorch/aten/src/ATen/native/RangeFactories.cpp:170: UserWarning: The number of elements in the out tensor of shape [256] is 256 which does not match the computed number of elements 302. Note that this may occur as a result of rounding error. The out tensor will be resized to a tensor of shape (302,).\n",
            "| epoch 009:   3% 30/1085 [00:12<08:59,  1.95it/s, loss=6.626, ppl=98.77, wps=1627, ups=2, wpb=672.433, bsz=64.000, num_updates=8710, lr=0.5, gnorm=0.728, clip=0.000, oom=0.000, wall=14, train_wall=3442]/pytorch/aten/src/ATen/native/RangeFactories.cpp:170: UserWarning: The number of elements in the out tensor of shape [302] is 302 which does not match the computed number of elements 325. Note that this may occur as a result of rounding error. The out tensor will be resized to a tensor of shape (325,).\n",
            "| epoch 009:   4% 42/1085 [00:18<07:27,  2.33it/s, loss=6.730, ppl=106.16, wps=1667, ups=2, wpb=716.286, bsz=64.000, num_updates=8722, lr=0.5, gnorm=0.731, clip=0.000, oom=0.000, wall=20, train_wall=3448]/pytorch/aten/src/ATen/native/RangeFactories.cpp:170: UserWarning: The number of elements in the out tensor of shape [325] is 325 which does not match the computed number of elements 400. Note that this may occur as a result of rounding error. The out tensor will be resized to a tensor of shape (400,).\n",
            "| epoch 009:   7% 77/1085 [00:31<06:02,  2.78it/s, loss=6.705, ppl=104.36, wps=1748, ups=2, wpb=715.857, bsz=64.000, num_updates=8757, lr=0.5, gnorm=0.726, clip=0.000, oom=0.000, wall=33, train_wall=3461]/pytorch/aten/src/ATen/native/RangeFactories.cpp:170: UserWarning: The number of elements in the out tensor of shape [400] is 400 which does not match the computed number of elements 563. Note that this may occur as a result of rounding error. The out tensor will be resized to a tensor of shape (563,).\n",
            "| epoch 009:  49% 528/1085 [03:27<04:03,  2.29it/s, loss=6.703, ppl=104.21, wps=1815, ups=3, wpb=711.477, bsz=64.000, num_updates=9208, lr=0.5, gnorm=0.752, clip=0.000, oom=0.000, wall=208, train_wall=3635]/pytorch/aten/src/ATen/native/RangeFactories.cpp:170: UserWarning: The number of elements in the out tensor of shape [563] is 563 which does not match the computed number of elements 654. Note that this may occur as a result of rounding error. The out tensor will be resized to a tensor of shape (654,).\n",
            "| epoch 009 | loss 6.688 | ppl 103.13 | wps 1796 | ups 3 | wpb 707.208 | bsz 63.947 | num_updates 9765 | lr 0.5 | gnorm 0.770 | clip 0.000 | oom 0.000 | wall 429 | train_wall 3854\n",
            "| epoch 009 | valid on 'valid' subset | loss 6.391 | ppl 83.92 | num_updates 9765 | best_loss 6.39099\n",
            "| saved checkpoint checkpoints/checkpoint_best.pt (epoch 9 @ 9765 updates) (writing took 0.9993984699249268 seconds)\n",
            "| epoch 010 | loss 6.564 | ppl 94.59 | wps 1776 | ups 3 | wpb 707.208 | bsz 63.947 | num_updates 10850 | lr 0.25 | gnorm 0.797 | clip 0.000 | oom 0.000 | wall 901 | train_wall 4283\n",
            "| epoch 010 | valid on 'valid' subset | loss 6.259 | ppl 76.59 | num_updates 10850 | best_loss 6.25907\n",
            "| saved checkpoint checkpoints/checkpoint_best.pt (epoch 10 @ 10850 updates) (writing took 0.7571508884429932 seconds)\n",
            "| epoch 011 | loss 6.496 | ppl 90.25 | wps 1777 | ups 3 | wpb 707.208 | bsz 63.947 | num_updates 11935 | lr 0.125 | gnorm 0.816 | clip 0.000 | oom 0.000 | wall 1373 | train_wall 4711\n",
            "| epoch 011 | valid on 'valid' subset | loss 6.225 | ppl 74.8 | num_updates 11935 | best_loss 6.22497\n",
            "| saved checkpoint checkpoints/checkpoint_best.pt (epoch 11 @ 11935 updates) (writing took 0.8195033073425293 seconds)\n",
            "| epoch 012 | loss 6.460 | ppl 88.06 | wps 1773 | ups 3 | wpb 707.208 | bsz 63.947 | num_updates 13020 | lr 0.0625 | gnorm 0.829 | clip 0.000 | oom 0.000 | wall 1846 | train_wall 5140\n",
            "| epoch 012 | valid on 'valid' subset | loss 6.203 | ppl 73.66 | num_updates 13020 | best_loss 6.20279\n",
            "| saved checkpoint checkpoints/checkpoint_best.pt (epoch 12 @ 13020 updates) (writing took 0.8325824737548828 seconds)\n",
            "| epoch 013 | loss 6.443 | ppl 87 | wps 1771 | ups 3 | wpb 707.208 | bsz 63.947 | num_updates 14105 | lr 0.03125 | gnorm 0.834 | clip 0.000 | oom 0.000 | wall 2319 | train_wall 5570\n",
            "| epoch 013 | valid on 'valid' subset | loss 6.195 | ppl 73.27 | num_updates 14105 | best_loss 6.19506\n",
            "| saved checkpoint checkpoints/checkpoint_best.pt (epoch 13 @ 14105 updates) (writing took 0.8941128253936768 seconds)\n",
            "| epoch 014 | loss 6.433 | ppl 86.39 | wps 1771 | ups 3 | wpb 707.208 | bsz 63.947 | num_updates 15190 | lr 0.015625 | gnorm 0.838 | clip 0.000 | oom 0.000 | wall 2792 | train_wall 6000\n",
            "| epoch 014 | valid on 'valid' subset | loss 6.191 | ppl 73.05 | num_updates 15190 | best_loss 6.19086\n",
            "| saved checkpoint checkpoints/checkpoint_best.pt (epoch 14 @ 15190 updates) (writing took 0.7986478805541992 seconds)\n",
            "| epoch 015 | loss 6.428 | ppl 86.1 | wps 1769 | ups 3 | wpb 707.208 | bsz 63.947 | num_updates 16275 | lr 0.0078125 | gnorm 0.841 | clip 0.000 | oom 0.000 | wall 3266 | train_wall 6430\n",
            "| epoch 015 | valid on 'valid' subset | loss 6.188 | ppl 72.92 | num_updates 16275 | best_loss 6.18819\n",
            "| saved checkpoint checkpoints/checkpoint_best.pt (epoch 15 @ 16275 updates) (writing took 1.0405468940734863 seconds)\n",
            "| done training in 3304.0 seconds\n"
          ],
          "name": "stdout"
        }
      ]
    },
    {
      "cell_type": "code",
      "metadata": {
        "id": "rLdpT2pXMpq8",
        "colab_type": "code",
        "colab": {}
      },
      "source": [
        "!fairseq-generate preprocessed_data \\\n",
        "    --path checkpoints/checkpoint_best.pt \\\n",
        "    --batch-size 64 --beam 3 > gen.out"
      ],
      "execution_count": 0,
      "outputs": []
    },
    {
      "cell_type": "code",
      "metadata": {
        "id": "o0epZNcSNtIM",
        "colab_type": "code",
        "colab": {
          "base_uri": "https://localhost:8080/",
          "height": 51
        },
        "outputId": "0fa26f33-3be4-43d0-d415-fe39140ac21f"
      },
      "source": [
        "!grep ^H gen.out | cut -f3- > gen.out.sys\n",
        "!grep ^T gen.out | cut -f2- > gen.out.ref\n",
        "!fairseq-score --sys gen.out.sys --ref gen.out.ref"
      ],
      "execution_count": 27,
      "outputs": [
        {
          "output_type": "stream",
          "text": [
            "Namespace(ignore_case=False, order=4, ref='gen.out.ref', sacrebleu=False, sentence_bleu=False, sys='gen.out.sys')\n",
            "BLEU4 = 3.05, 25.0/6.3/2.4/1.1 (BP=0.678, ratio=0.720, syslen=44218, reflen=61434)\n"
          ],
          "name": "stdout"
        }
      ]
    },
    {
      "cell_type": "code",
      "metadata": {
        "id": "1X-BMaGjatfe",
        "colab_type": "code",
        "colab": {}
      },
      "source": [
        ""
      ],
      "execution_count": 0,
      "outputs": []
    }
  ]
}