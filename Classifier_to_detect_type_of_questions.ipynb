{
  "nbformat": 4,
  "nbformat_minor": 0,
  "metadata": {
    "colab": {
      "name": "Classifier_to_detect_type_of_questions.ipynb",
      "provenance": [],
      "toc_visible": true,
      "mount_file_id": "1lX6LJC1-6Rvx8CtII4R1v4hI_yGNv5hB",
      "authorship_tag": "ABX9TyNL601no2ysfmZ3n0Y0dQL4",
      "include_colab_link": true
    },
    "kernelspec": {
      "name": "python3",
      "display_name": "Python 3"
    },
    "accelerator": "GPU",
    "widgets": {
      "application/vnd.jupyter.widget-state+json": {
        "3edbbe9f99624364970e853d5e278f22": {
          "model_module": "@jupyter-widgets/controls",
          "model_name": "HBoxModel",
          "state": {
            "_view_name": "HBoxView",
            "_dom_classes": [],
            "_model_name": "HBoxModel",
            "_view_module": "@jupyter-widgets/controls",
            "_model_module_version": "1.5.0",
            "_view_count": null,
            "_view_module_version": "1.5.0",
            "box_style": "",
            "layout": "IPY_MODEL_8b5f9d491fe64977bf5556c26d5e9ec0",
            "_model_module": "@jupyter-widgets/controls",
            "children": [
              "IPY_MODEL_a851c798dab64710b47471b29467ebd7",
              "IPY_MODEL_b68f8489131445ef8f1e89d178368dd6"
            ]
          }
        },
        "8b5f9d491fe64977bf5556c26d5e9ec0": {
          "model_module": "@jupyter-widgets/base",
          "model_name": "LayoutModel",
          "state": {
            "_view_name": "LayoutView",
            "grid_template_rows": null,
            "right": null,
            "justify_content": null,
            "_view_module": "@jupyter-widgets/base",
            "overflow": null,
            "_model_module_version": "1.2.0",
            "_view_count": null,
            "flex_flow": null,
            "width": null,
            "min_width": null,
            "border": null,
            "align_items": null,
            "bottom": null,
            "_model_module": "@jupyter-widgets/base",
            "top": null,
            "grid_column": null,
            "overflow_y": null,
            "overflow_x": null,
            "grid_auto_flow": null,
            "grid_area": null,
            "grid_template_columns": null,
            "flex": null,
            "_model_name": "LayoutModel",
            "justify_items": null,
            "grid_row": null,
            "max_height": null,
            "align_content": null,
            "visibility": null,
            "align_self": null,
            "height": null,
            "min_height": null,
            "padding": null,
            "grid_auto_rows": null,
            "grid_gap": null,
            "max_width": null,
            "order": null,
            "_view_module_version": "1.2.0",
            "grid_template_areas": null,
            "object_position": null,
            "object_fit": null,
            "grid_auto_columns": null,
            "margin": null,
            "display": null,
            "left": null
          }
        },
        "a851c798dab64710b47471b29467ebd7": {
          "model_module": "@jupyter-widgets/controls",
          "model_name": "FloatProgressModel",
          "state": {
            "_view_name": "ProgressView",
            "style": "IPY_MODEL_4928066fab13497da3810d28d20e878c",
            "_dom_classes": [],
            "description": "100%",
            "_model_name": "FloatProgressModel",
            "bar_style": "success",
            "max": 569,
            "_view_module": "@jupyter-widgets/controls",
            "_model_module_version": "1.5.0",
            "value": 569,
            "_view_count": null,
            "_view_module_version": "1.5.0",
            "orientation": "horizontal",
            "min": 0,
            "description_tooltip": null,
            "_model_module": "@jupyter-widgets/controls",
            "layout": "IPY_MODEL_3c04678c23dc4d0b8c0b943b13fbe9d5"
          }
        },
        "b68f8489131445ef8f1e89d178368dd6": {
          "model_module": "@jupyter-widgets/controls",
          "model_name": "HTMLModel",
          "state": {
            "_view_name": "HTMLView",
            "style": "IPY_MODEL_8b09528977b241c1b4e101990ba07cc5",
            "_dom_classes": [],
            "description": "",
            "_model_name": "HTMLModel",
            "placeholder": "​",
            "_view_module": "@jupyter-widgets/controls",
            "_model_module_version": "1.5.0",
            "value": " 569/569 [00:06&lt;00:00, 84.37it/s]",
            "_view_count": null,
            "_view_module_version": "1.5.0",
            "description_tooltip": null,
            "_model_module": "@jupyter-widgets/controls",
            "layout": "IPY_MODEL_53a1073a8c1040d3bb885d7340fcff79"
          }
        },
        "4928066fab13497da3810d28d20e878c": {
          "model_module": "@jupyter-widgets/controls",
          "model_name": "ProgressStyleModel",
          "state": {
            "_view_name": "StyleView",
            "_model_name": "ProgressStyleModel",
            "description_width": "initial",
            "_view_module": "@jupyter-widgets/base",
            "_model_module_version": "1.5.0",
            "_view_count": null,
            "_view_module_version": "1.2.0",
            "bar_color": null,
            "_model_module": "@jupyter-widgets/controls"
          }
        },
        "3c04678c23dc4d0b8c0b943b13fbe9d5": {
          "model_module": "@jupyter-widgets/base",
          "model_name": "LayoutModel",
          "state": {
            "_view_name": "LayoutView",
            "grid_template_rows": null,
            "right": null,
            "justify_content": null,
            "_view_module": "@jupyter-widgets/base",
            "overflow": null,
            "_model_module_version": "1.2.0",
            "_view_count": null,
            "flex_flow": null,
            "width": null,
            "min_width": null,
            "border": null,
            "align_items": null,
            "bottom": null,
            "_model_module": "@jupyter-widgets/base",
            "top": null,
            "grid_column": null,
            "overflow_y": null,
            "overflow_x": null,
            "grid_auto_flow": null,
            "grid_area": null,
            "grid_template_columns": null,
            "flex": null,
            "_model_name": "LayoutModel",
            "justify_items": null,
            "grid_row": null,
            "max_height": null,
            "align_content": null,
            "visibility": null,
            "align_self": null,
            "height": null,
            "min_height": null,
            "padding": null,
            "grid_auto_rows": null,
            "grid_gap": null,
            "max_width": null,
            "order": null,
            "_view_module_version": "1.2.0",
            "grid_template_areas": null,
            "object_position": null,
            "object_fit": null,
            "grid_auto_columns": null,
            "margin": null,
            "display": null,
            "left": null
          }
        },
        "8b09528977b241c1b4e101990ba07cc5": {
          "model_module": "@jupyter-widgets/controls",
          "model_name": "DescriptionStyleModel",
          "state": {
            "_view_name": "StyleView",
            "_model_name": "DescriptionStyleModel",
            "description_width": "",
            "_view_module": "@jupyter-widgets/base",
            "_model_module_version": "1.5.0",
            "_view_count": null,
            "_view_module_version": "1.2.0",
            "_model_module": "@jupyter-widgets/controls"
          }
        },
        "53a1073a8c1040d3bb885d7340fcff79": {
          "model_module": "@jupyter-widgets/base",
          "model_name": "LayoutModel",
          "state": {
            "_view_name": "LayoutView",
            "grid_template_rows": null,
            "right": null,
            "justify_content": null,
            "_view_module": "@jupyter-widgets/base",
            "overflow": null,
            "_model_module_version": "1.2.0",
            "_view_count": null,
            "flex_flow": null,
            "width": null,
            "min_width": null,
            "border": null,
            "align_items": null,
            "bottom": null,
            "_model_module": "@jupyter-widgets/base",
            "top": null,
            "grid_column": null,
            "overflow_y": null,
            "overflow_x": null,
            "grid_auto_flow": null,
            "grid_area": null,
            "grid_template_columns": null,
            "flex": null,
            "_model_name": "LayoutModel",
            "justify_items": null,
            "grid_row": null,
            "max_height": null,
            "align_content": null,
            "visibility": null,
            "align_self": null,
            "height": null,
            "min_height": null,
            "padding": null,
            "grid_auto_rows": null,
            "grid_gap": null,
            "max_width": null,
            "order": null,
            "_view_module_version": "1.2.0",
            "grid_template_areas": null,
            "object_position": null,
            "object_fit": null,
            "grid_auto_columns": null,
            "margin": null,
            "display": null,
            "left": null
          }
        },
        "2685263498214a38a807cc0fa67553d1": {
          "model_module": "@jupyter-widgets/controls",
          "model_name": "HBoxModel",
          "state": {
            "_view_name": "HBoxView",
            "_dom_classes": [],
            "_model_name": "HBoxModel",
            "_view_module": "@jupyter-widgets/controls",
            "_model_module_version": "1.5.0",
            "_view_count": null,
            "_view_module_version": "1.5.0",
            "box_style": "",
            "layout": "IPY_MODEL_abd271a2e8ae4e3baf4fb8a8f58cb5c5",
            "_model_module": "@jupyter-widgets/controls",
            "children": [
              "IPY_MODEL_ba6f322a8d80447fa28e90f3adedab84",
              "IPY_MODEL_0238418e12784fd28e4cca2cbeeff9dc"
            ]
          }
        },
        "abd271a2e8ae4e3baf4fb8a8f58cb5c5": {
          "model_module": "@jupyter-widgets/base",
          "model_name": "LayoutModel",
          "state": {
            "_view_name": "LayoutView",
            "grid_template_rows": null,
            "right": null,
            "justify_content": null,
            "_view_module": "@jupyter-widgets/base",
            "overflow": null,
            "_model_module_version": "1.2.0",
            "_view_count": null,
            "flex_flow": null,
            "width": null,
            "min_width": null,
            "border": null,
            "align_items": null,
            "bottom": null,
            "_model_module": "@jupyter-widgets/base",
            "top": null,
            "grid_column": null,
            "overflow_y": null,
            "overflow_x": null,
            "grid_auto_flow": null,
            "grid_area": null,
            "grid_template_columns": null,
            "flex": null,
            "_model_name": "LayoutModel",
            "justify_items": null,
            "grid_row": null,
            "max_height": null,
            "align_content": null,
            "visibility": null,
            "align_self": null,
            "height": null,
            "min_height": null,
            "padding": null,
            "grid_auto_rows": null,
            "grid_gap": null,
            "max_width": null,
            "order": null,
            "_view_module_version": "1.2.0",
            "grid_template_areas": null,
            "object_position": null,
            "object_fit": null,
            "grid_auto_columns": null,
            "margin": null,
            "display": null,
            "left": null
          }
        },
        "ba6f322a8d80447fa28e90f3adedab84": {
          "model_module": "@jupyter-widgets/controls",
          "model_name": "FloatProgressModel",
          "state": {
            "_view_name": "ProgressView",
            "style": "IPY_MODEL_0f294a95e1564f7abfc8fce2c456e34f",
            "_dom_classes": [],
            "description": "100%",
            "_model_name": "FloatProgressModel",
            "bar_style": "success",
            "max": 101,
            "_view_module": "@jupyter-widgets/controls",
            "_model_module_version": "1.5.0",
            "value": 101,
            "_view_count": null,
            "_view_module_version": "1.5.0",
            "orientation": "horizontal",
            "min": 0,
            "description_tooltip": null,
            "_model_module": "@jupyter-widgets/controls",
            "layout": "IPY_MODEL_1d95427ce05c4d6ea94f5abafc5eaa88"
          }
        },
        "0238418e12784fd28e4cca2cbeeff9dc": {
          "model_module": "@jupyter-widgets/controls",
          "model_name": "HTMLModel",
          "state": {
            "_view_name": "HTMLView",
            "style": "IPY_MODEL_d3ff206fcdf546a98aad3115e21fb844",
            "_dom_classes": [],
            "description": "",
            "_model_name": "HTMLModel",
            "placeholder": "​",
            "_view_module": "@jupyter-widgets/controls",
            "_model_module_version": "1.5.0",
            "value": " 101/101 [00:01&lt;00:00, 91.56it/s]",
            "_view_count": null,
            "_view_module_version": "1.5.0",
            "description_tooltip": null,
            "_model_module": "@jupyter-widgets/controls",
            "layout": "IPY_MODEL_957f5b43f846426584c0aa1f3ca6012e"
          }
        },
        "0f294a95e1564f7abfc8fce2c456e34f": {
          "model_module": "@jupyter-widgets/controls",
          "model_name": "ProgressStyleModel",
          "state": {
            "_view_name": "StyleView",
            "_model_name": "ProgressStyleModel",
            "description_width": "initial",
            "_view_module": "@jupyter-widgets/base",
            "_model_module_version": "1.5.0",
            "_view_count": null,
            "_view_module_version": "1.2.0",
            "bar_color": null,
            "_model_module": "@jupyter-widgets/controls"
          }
        },
        "1d95427ce05c4d6ea94f5abafc5eaa88": {
          "model_module": "@jupyter-widgets/base",
          "model_name": "LayoutModel",
          "state": {
            "_view_name": "LayoutView",
            "grid_template_rows": null,
            "right": null,
            "justify_content": null,
            "_view_module": "@jupyter-widgets/base",
            "overflow": null,
            "_model_module_version": "1.2.0",
            "_view_count": null,
            "flex_flow": null,
            "width": null,
            "min_width": null,
            "border": null,
            "align_items": null,
            "bottom": null,
            "_model_module": "@jupyter-widgets/base",
            "top": null,
            "grid_column": null,
            "overflow_y": null,
            "overflow_x": null,
            "grid_auto_flow": null,
            "grid_area": null,
            "grid_template_columns": null,
            "flex": null,
            "_model_name": "LayoutModel",
            "justify_items": null,
            "grid_row": null,
            "max_height": null,
            "align_content": null,
            "visibility": null,
            "align_self": null,
            "height": null,
            "min_height": null,
            "padding": null,
            "grid_auto_rows": null,
            "grid_gap": null,
            "max_width": null,
            "order": null,
            "_view_module_version": "1.2.0",
            "grid_template_areas": null,
            "object_position": null,
            "object_fit": null,
            "grid_auto_columns": null,
            "margin": null,
            "display": null,
            "left": null
          }
        },
        "d3ff206fcdf546a98aad3115e21fb844": {
          "model_module": "@jupyter-widgets/controls",
          "model_name": "DescriptionStyleModel",
          "state": {
            "_view_name": "StyleView",
            "_model_name": "DescriptionStyleModel",
            "description_width": "",
            "_view_module": "@jupyter-widgets/base",
            "_model_module_version": "1.5.0",
            "_view_count": null,
            "_view_module_version": "1.2.0",
            "_model_module": "@jupyter-widgets/controls"
          }
        },
        "957f5b43f846426584c0aa1f3ca6012e": {
          "model_module": "@jupyter-widgets/base",
          "model_name": "LayoutModel",
          "state": {
            "_view_name": "LayoutView",
            "grid_template_rows": null,
            "right": null,
            "justify_content": null,
            "_view_module": "@jupyter-widgets/base",
            "overflow": null,
            "_model_module_version": "1.2.0",
            "_view_count": null,
            "flex_flow": null,
            "width": null,
            "min_width": null,
            "border": null,
            "align_items": null,
            "bottom": null,
            "_model_module": "@jupyter-widgets/base",
            "top": null,
            "grid_column": null,
            "overflow_y": null,
            "overflow_x": null,
            "grid_auto_flow": null,
            "grid_area": null,
            "grid_template_columns": null,
            "flex": null,
            "_model_name": "LayoutModel",
            "justify_items": null,
            "grid_row": null,
            "max_height": null,
            "align_content": null,
            "visibility": null,
            "align_self": null,
            "height": null,
            "min_height": null,
            "padding": null,
            "grid_auto_rows": null,
            "grid_gap": null,
            "max_width": null,
            "order": null,
            "_view_module_version": "1.2.0",
            "grid_template_areas": null,
            "object_position": null,
            "object_fit": null,
            "grid_auto_columns": null,
            "margin": null,
            "display": null,
            "left": null
          }
        },
        "0df6afe6896b4ae0bafef52119168202": {
          "model_module": "@jupyter-widgets/controls",
          "model_name": "HBoxModel",
          "state": {
            "_view_name": "HBoxView",
            "_dom_classes": [],
            "_model_name": "HBoxModel",
            "_view_module": "@jupyter-widgets/controls",
            "_model_module_version": "1.5.0",
            "_view_count": null,
            "_view_module_version": "1.5.0",
            "box_style": "",
            "layout": "IPY_MODEL_e29c106bf20e441da5e67e8a3a84b448",
            "_model_module": "@jupyter-widgets/controls",
            "children": [
              "IPY_MODEL_0007c237bab140f2a10c64ce5d45c04b",
              "IPY_MODEL_3cca0db4fa42433896689e7756aa8644"
            ]
          }
        },
        "e29c106bf20e441da5e67e8a3a84b448": {
          "model_module": "@jupyter-widgets/base",
          "model_name": "LayoutModel",
          "state": {
            "_view_name": "LayoutView",
            "grid_template_rows": null,
            "right": null,
            "justify_content": null,
            "_view_module": "@jupyter-widgets/base",
            "overflow": null,
            "_model_module_version": "1.2.0",
            "_view_count": null,
            "flex_flow": null,
            "width": null,
            "min_width": null,
            "border": null,
            "align_items": null,
            "bottom": null,
            "_model_module": "@jupyter-widgets/base",
            "top": null,
            "grid_column": null,
            "overflow_y": null,
            "overflow_x": null,
            "grid_auto_flow": null,
            "grid_area": null,
            "grid_template_columns": null,
            "flex": null,
            "_model_name": "LayoutModel",
            "justify_items": null,
            "grid_row": null,
            "max_height": null,
            "align_content": null,
            "visibility": null,
            "align_self": null,
            "height": null,
            "min_height": null,
            "padding": null,
            "grid_auto_rows": null,
            "grid_gap": null,
            "max_width": null,
            "order": null,
            "_view_module_version": "1.2.0",
            "grid_template_areas": null,
            "object_position": null,
            "object_fit": null,
            "grid_auto_columns": null,
            "margin": null,
            "display": null,
            "left": null
          }
        },
        "0007c237bab140f2a10c64ce5d45c04b": {
          "model_module": "@jupyter-widgets/controls",
          "model_name": "FloatProgressModel",
          "state": {
            "_view_name": "ProgressView",
            "style": "IPY_MODEL_6fd951da7c1b40e3aa258fcbab98060e",
            "_dom_classes": [],
            "description": "100%",
            "_model_name": "FloatProgressModel",
            "bar_style": "success",
            "max": 569,
            "_view_module": "@jupyter-widgets/controls",
            "_model_module_version": "1.5.0",
            "value": 569,
            "_view_count": null,
            "_view_module_version": "1.5.0",
            "orientation": "horizontal",
            "min": 0,
            "description_tooltip": null,
            "_model_module": "@jupyter-widgets/controls",
            "layout": "IPY_MODEL_91a7436196a74c8684b251f50d65fa6c"
          }
        },
        "3cca0db4fa42433896689e7756aa8644": {
          "model_module": "@jupyter-widgets/controls",
          "model_name": "HTMLModel",
          "state": {
            "_view_name": "HTMLView",
            "style": "IPY_MODEL_396129f8e7674a40b739f69fbf610dd9",
            "_dom_classes": [],
            "description": "",
            "_model_name": "HTMLModel",
            "placeholder": "​",
            "_view_module": "@jupyter-widgets/controls",
            "_model_module_version": "1.5.0",
            "value": " 569/569 [00:06&lt;00:00, 86.33it/s]",
            "_view_count": null,
            "_view_module_version": "1.5.0",
            "description_tooltip": null,
            "_model_module": "@jupyter-widgets/controls",
            "layout": "IPY_MODEL_dbf22706c089416a9d233cdbf6f0d225"
          }
        },
        "6fd951da7c1b40e3aa258fcbab98060e": {
          "model_module": "@jupyter-widgets/controls",
          "model_name": "ProgressStyleModel",
          "state": {
            "_view_name": "StyleView",
            "_model_name": "ProgressStyleModel",
            "description_width": "initial",
            "_view_module": "@jupyter-widgets/base",
            "_model_module_version": "1.5.0",
            "_view_count": null,
            "_view_module_version": "1.2.0",
            "bar_color": null,
            "_model_module": "@jupyter-widgets/controls"
          }
        },
        "91a7436196a74c8684b251f50d65fa6c": {
          "model_module": "@jupyter-widgets/base",
          "model_name": "LayoutModel",
          "state": {
            "_view_name": "LayoutView",
            "grid_template_rows": null,
            "right": null,
            "justify_content": null,
            "_view_module": "@jupyter-widgets/base",
            "overflow": null,
            "_model_module_version": "1.2.0",
            "_view_count": null,
            "flex_flow": null,
            "width": null,
            "min_width": null,
            "border": null,
            "align_items": null,
            "bottom": null,
            "_model_module": "@jupyter-widgets/base",
            "top": null,
            "grid_column": null,
            "overflow_y": null,
            "overflow_x": null,
            "grid_auto_flow": null,
            "grid_area": null,
            "grid_template_columns": null,
            "flex": null,
            "_model_name": "LayoutModel",
            "justify_items": null,
            "grid_row": null,
            "max_height": null,
            "align_content": null,
            "visibility": null,
            "align_self": null,
            "height": null,
            "min_height": null,
            "padding": null,
            "grid_auto_rows": null,
            "grid_gap": null,
            "max_width": null,
            "order": null,
            "_view_module_version": "1.2.0",
            "grid_template_areas": null,
            "object_position": null,
            "object_fit": null,
            "grid_auto_columns": null,
            "margin": null,
            "display": null,
            "left": null
          }
        },
        "396129f8e7674a40b739f69fbf610dd9": {
          "model_module": "@jupyter-widgets/controls",
          "model_name": "DescriptionStyleModel",
          "state": {
            "_view_name": "StyleView",
            "_model_name": "DescriptionStyleModel",
            "description_width": "",
            "_view_module": "@jupyter-widgets/base",
            "_model_module_version": "1.5.0",
            "_view_count": null,
            "_view_module_version": "1.2.0",
            "_model_module": "@jupyter-widgets/controls"
          }
        },
        "dbf22706c089416a9d233cdbf6f0d225": {
          "model_module": "@jupyter-widgets/base",
          "model_name": "LayoutModel",
          "state": {
            "_view_name": "LayoutView",
            "grid_template_rows": null,
            "right": null,
            "justify_content": null,
            "_view_module": "@jupyter-widgets/base",
            "overflow": null,
            "_model_module_version": "1.2.0",
            "_view_count": null,
            "flex_flow": null,
            "width": null,
            "min_width": null,
            "border": null,
            "align_items": null,
            "bottom": null,
            "_model_module": "@jupyter-widgets/base",
            "top": null,
            "grid_column": null,
            "overflow_y": null,
            "overflow_x": null,
            "grid_auto_flow": null,
            "grid_area": null,
            "grid_template_columns": null,
            "flex": null,
            "_model_name": "LayoutModel",
            "justify_items": null,
            "grid_row": null,
            "max_height": null,
            "align_content": null,
            "visibility": null,
            "align_self": null,
            "height": null,
            "min_height": null,
            "padding": null,
            "grid_auto_rows": null,
            "grid_gap": null,
            "max_width": null,
            "order": null,
            "_view_module_version": "1.2.0",
            "grid_template_areas": null,
            "object_position": null,
            "object_fit": null,
            "grid_auto_columns": null,
            "margin": null,
            "display": null,
            "left": null
          }
        },
        "25a5e7a8832041ce824519d35037af45": {
          "model_module": "@jupyter-widgets/controls",
          "model_name": "HBoxModel",
          "state": {
            "_view_name": "HBoxView",
            "_dom_classes": [],
            "_model_name": "HBoxModel",
            "_view_module": "@jupyter-widgets/controls",
            "_model_module_version": "1.5.0",
            "_view_count": null,
            "_view_module_version": "1.5.0",
            "box_style": "",
            "layout": "IPY_MODEL_0c11b8f5d241473db9f92b21fd126b21",
            "_model_module": "@jupyter-widgets/controls",
            "children": [
              "IPY_MODEL_69a764efbb8b40d893c2580d853fe3fa",
              "IPY_MODEL_d18cbbd6f8af4736bac4e263da494789"
            ]
          }
        },
        "0c11b8f5d241473db9f92b21fd126b21": {
          "model_module": "@jupyter-widgets/base",
          "model_name": "LayoutModel",
          "state": {
            "_view_name": "LayoutView",
            "grid_template_rows": null,
            "right": null,
            "justify_content": null,
            "_view_module": "@jupyter-widgets/base",
            "overflow": null,
            "_model_module_version": "1.2.0",
            "_view_count": null,
            "flex_flow": null,
            "width": null,
            "min_width": null,
            "border": null,
            "align_items": null,
            "bottom": null,
            "_model_module": "@jupyter-widgets/base",
            "top": null,
            "grid_column": null,
            "overflow_y": null,
            "overflow_x": null,
            "grid_auto_flow": null,
            "grid_area": null,
            "grid_template_columns": null,
            "flex": null,
            "_model_name": "LayoutModel",
            "justify_items": null,
            "grid_row": null,
            "max_height": null,
            "align_content": null,
            "visibility": null,
            "align_self": null,
            "height": null,
            "min_height": null,
            "padding": null,
            "grid_auto_rows": null,
            "grid_gap": null,
            "max_width": null,
            "order": null,
            "_view_module_version": "1.2.0",
            "grid_template_areas": null,
            "object_position": null,
            "object_fit": null,
            "grid_auto_columns": null,
            "margin": null,
            "display": null,
            "left": null
          }
        },
        "69a764efbb8b40d893c2580d853fe3fa": {
          "model_module": "@jupyter-widgets/controls",
          "model_name": "FloatProgressModel",
          "state": {
            "_view_name": "ProgressView",
            "style": "IPY_MODEL_6daa1c44d5e042f8867ec29e956c7761",
            "_dom_classes": [],
            "description": "100%",
            "_model_name": "FloatProgressModel",
            "bar_style": "success",
            "max": 101,
            "_view_module": "@jupyter-widgets/controls",
            "_model_module_version": "1.5.0",
            "value": 101,
            "_view_count": null,
            "_view_module_version": "1.5.0",
            "orientation": "horizontal",
            "min": 0,
            "description_tooltip": null,
            "_model_module": "@jupyter-widgets/controls",
            "layout": "IPY_MODEL_4b8bbb27ccc2470781cbd4d1beaaf5bd"
          }
        },
        "d18cbbd6f8af4736bac4e263da494789": {
          "model_module": "@jupyter-widgets/controls",
          "model_name": "HTMLModel",
          "state": {
            "_view_name": "HTMLView",
            "style": "IPY_MODEL_ec282a60e005459fb36c581e92b60eda",
            "_dom_classes": [],
            "description": "",
            "_model_name": "HTMLModel",
            "placeholder": "​",
            "_view_module": "@jupyter-widgets/controls",
            "_model_module_version": "1.5.0",
            "value": " 101/101 [00:01&lt;00:00, 90.89it/s]",
            "_view_count": null,
            "_view_module_version": "1.5.0",
            "description_tooltip": null,
            "_model_module": "@jupyter-widgets/controls",
            "layout": "IPY_MODEL_2118588df95341b9850337e6d1ebf046"
          }
        },
        "6daa1c44d5e042f8867ec29e956c7761": {
          "model_module": "@jupyter-widgets/controls",
          "model_name": "ProgressStyleModel",
          "state": {
            "_view_name": "StyleView",
            "_model_name": "ProgressStyleModel",
            "description_width": "initial",
            "_view_module": "@jupyter-widgets/base",
            "_model_module_version": "1.5.0",
            "_view_count": null,
            "_view_module_version": "1.2.0",
            "bar_color": null,
            "_model_module": "@jupyter-widgets/controls"
          }
        },
        "4b8bbb27ccc2470781cbd4d1beaaf5bd": {
          "model_module": "@jupyter-widgets/base",
          "model_name": "LayoutModel",
          "state": {
            "_view_name": "LayoutView",
            "grid_template_rows": null,
            "right": null,
            "justify_content": null,
            "_view_module": "@jupyter-widgets/base",
            "overflow": null,
            "_model_module_version": "1.2.0",
            "_view_count": null,
            "flex_flow": null,
            "width": null,
            "min_width": null,
            "border": null,
            "align_items": null,
            "bottom": null,
            "_model_module": "@jupyter-widgets/base",
            "top": null,
            "grid_column": null,
            "overflow_y": null,
            "overflow_x": null,
            "grid_auto_flow": null,
            "grid_area": null,
            "grid_template_columns": null,
            "flex": null,
            "_model_name": "LayoutModel",
            "justify_items": null,
            "grid_row": null,
            "max_height": null,
            "align_content": null,
            "visibility": null,
            "align_self": null,
            "height": null,
            "min_height": null,
            "padding": null,
            "grid_auto_rows": null,
            "grid_gap": null,
            "max_width": null,
            "order": null,
            "_view_module_version": "1.2.0",
            "grid_template_areas": null,
            "object_position": null,
            "object_fit": null,
            "grid_auto_columns": null,
            "margin": null,
            "display": null,
            "left": null
          }
        },
        "ec282a60e005459fb36c581e92b60eda": {
          "model_module": "@jupyter-widgets/controls",
          "model_name": "DescriptionStyleModel",
          "state": {
            "_view_name": "StyleView",
            "_model_name": "DescriptionStyleModel",
            "description_width": "",
            "_view_module": "@jupyter-widgets/base",
            "_model_module_version": "1.5.0",
            "_view_count": null,
            "_view_module_version": "1.2.0",
            "_model_module": "@jupyter-widgets/controls"
          }
        },
        "2118588df95341b9850337e6d1ebf046": {
          "model_module": "@jupyter-widgets/base",
          "model_name": "LayoutModel",
          "state": {
            "_view_name": "LayoutView",
            "grid_template_rows": null,
            "right": null,
            "justify_content": null,
            "_view_module": "@jupyter-widgets/base",
            "overflow": null,
            "_model_module_version": "1.2.0",
            "_view_count": null,
            "flex_flow": null,
            "width": null,
            "min_width": null,
            "border": null,
            "align_items": null,
            "bottom": null,
            "_model_module": "@jupyter-widgets/base",
            "top": null,
            "grid_column": null,
            "overflow_y": null,
            "overflow_x": null,
            "grid_auto_flow": null,
            "grid_area": null,
            "grid_template_columns": null,
            "flex": null,
            "_model_name": "LayoutModel",
            "justify_items": null,
            "grid_row": null,
            "max_height": null,
            "align_content": null,
            "visibility": null,
            "align_self": null,
            "height": null,
            "min_height": null,
            "padding": null,
            "grid_auto_rows": null,
            "grid_gap": null,
            "max_width": null,
            "order": null,
            "_view_module_version": "1.2.0",
            "grid_template_areas": null,
            "object_position": null,
            "object_fit": null,
            "grid_auto_columns": null,
            "margin": null,
            "display": null,
            "left": null
          }
        },
        "44c17cf2f65e4e7e97056396981f6bff": {
          "model_module": "@jupyter-widgets/controls",
          "model_name": "HBoxModel",
          "state": {
            "_view_name": "HBoxView",
            "_dom_classes": [],
            "_model_name": "HBoxModel",
            "_view_module": "@jupyter-widgets/controls",
            "_model_module_version": "1.5.0",
            "_view_count": null,
            "_view_module_version": "1.5.0",
            "box_style": "",
            "layout": "IPY_MODEL_8a9a4d4253684ed7b9ebd8c384b13b5b",
            "_model_module": "@jupyter-widgets/controls",
            "children": [
              "IPY_MODEL_2271562fc4d2483bbe5d8c0a5a71f629",
              "IPY_MODEL_04a1dd1dda1c45b49d0dc23dd64eb273"
            ]
          }
        },
        "8a9a4d4253684ed7b9ebd8c384b13b5b": {
          "model_module": "@jupyter-widgets/base",
          "model_name": "LayoutModel",
          "state": {
            "_view_name": "LayoutView",
            "grid_template_rows": null,
            "right": null,
            "justify_content": null,
            "_view_module": "@jupyter-widgets/base",
            "overflow": null,
            "_model_module_version": "1.2.0",
            "_view_count": null,
            "flex_flow": null,
            "width": null,
            "min_width": null,
            "border": null,
            "align_items": null,
            "bottom": null,
            "_model_module": "@jupyter-widgets/base",
            "top": null,
            "grid_column": null,
            "overflow_y": null,
            "overflow_x": null,
            "grid_auto_flow": null,
            "grid_area": null,
            "grid_template_columns": null,
            "flex": null,
            "_model_name": "LayoutModel",
            "justify_items": null,
            "grid_row": null,
            "max_height": null,
            "align_content": null,
            "visibility": null,
            "align_self": null,
            "height": null,
            "min_height": null,
            "padding": null,
            "grid_auto_rows": null,
            "grid_gap": null,
            "max_width": null,
            "order": null,
            "_view_module_version": "1.2.0",
            "grid_template_areas": null,
            "object_position": null,
            "object_fit": null,
            "grid_auto_columns": null,
            "margin": null,
            "display": null,
            "left": null
          }
        },
        "2271562fc4d2483bbe5d8c0a5a71f629": {
          "model_module": "@jupyter-widgets/controls",
          "model_name": "FloatProgressModel",
          "state": {
            "_view_name": "ProgressView",
            "style": "IPY_MODEL_46060453906a4c42a37b95604c4e598c",
            "_dom_classes": [],
            "description": "100%",
            "_model_name": "FloatProgressModel",
            "bar_style": "success",
            "max": 569,
            "_view_module": "@jupyter-widgets/controls",
            "_model_module_version": "1.5.0",
            "value": 569,
            "_view_count": null,
            "_view_module_version": "1.5.0",
            "orientation": "horizontal",
            "min": 0,
            "description_tooltip": null,
            "_model_module": "@jupyter-widgets/controls",
            "layout": "IPY_MODEL_2a7fd464fe004585b2c66c399e8bb682"
          }
        },
        "04a1dd1dda1c45b49d0dc23dd64eb273": {
          "model_module": "@jupyter-widgets/controls",
          "model_name": "HTMLModel",
          "state": {
            "_view_name": "HTMLView",
            "style": "IPY_MODEL_8723330f87c94bf7a38f686d93e480e2",
            "_dom_classes": [],
            "description": "",
            "_model_name": "HTMLModel",
            "placeholder": "​",
            "_view_module": "@jupyter-widgets/controls",
            "_model_module_version": "1.5.0",
            "value": " 569/569 [00:15&lt;00:00, 37.38it/s]",
            "_view_count": null,
            "_view_module_version": "1.5.0",
            "description_tooltip": null,
            "_model_module": "@jupyter-widgets/controls",
            "layout": "IPY_MODEL_2ba7639453e44d2392c5e85b3435d967"
          }
        },
        "46060453906a4c42a37b95604c4e598c": {
          "model_module": "@jupyter-widgets/controls",
          "model_name": "ProgressStyleModel",
          "state": {
            "_view_name": "StyleView",
            "_model_name": "ProgressStyleModel",
            "description_width": "initial",
            "_view_module": "@jupyter-widgets/base",
            "_model_module_version": "1.5.0",
            "_view_count": null,
            "_view_module_version": "1.2.0",
            "bar_color": null,
            "_model_module": "@jupyter-widgets/controls"
          }
        },
        "2a7fd464fe004585b2c66c399e8bb682": {
          "model_module": "@jupyter-widgets/base",
          "model_name": "LayoutModel",
          "state": {
            "_view_name": "LayoutView",
            "grid_template_rows": null,
            "right": null,
            "justify_content": null,
            "_view_module": "@jupyter-widgets/base",
            "overflow": null,
            "_model_module_version": "1.2.0",
            "_view_count": null,
            "flex_flow": null,
            "width": null,
            "min_width": null,
            "border": null,
            "align_items": null,
            "bottom": null,
            "_model_module": "@jupyter-widgets/base",
            "top": null,
            "grid_column": null,
            "overflow_y": null,
            "overflow_x": null,
            "grid_auto_flow": null,
            "grid_area": null,
            "grid_template_columns": null,
            "flex": null,
            "_model_name": "LayoutModel",
            "justify_items": null,
            "grid_row": null,
            "max_height": null,
            "align_content": null,
            "visibility": null,
            "align_self": null,
            "height": null,
            "min_height": null,
            "padding": null,
            "grid_auto_rows": null,
            "grid_gap": null,
            "max_width": null,
            "order": null,
            "_view_module_version": "1.2.0",
            "grid_template_areas": null,
            "object_position": null,
            "object_fit": null,
            "grid_auto_columns": null,
            "margin": null,
            "display": null,
            "left": null
          }
        },
        "8723330f87c94bf7a38f686d93e480e2": {
          "model_module": "@jupyter-widgets/controls",
          "model_name": "DescriptionStyleModel",
          "state": {
            "_view_name": "StyleView",
            "_model_name": "DescriptionStyleModel",
            "description_width": "",
            "_view_module": "@jupyter-widgets/base",
            "_model_module_version": "1.5.0",
            "_view_count": null,
            "_view_module_version": "1.2.0",
            "_model_module": "@jupyter-widgets/controls"
          }
        },
        "2ba7639453e44d2392c5e85b3435d967": {
          "model_module": "@jupyter-widgets/base",
          "model_name": "LayoutModel",
          "state": {
            "_view_name": "LayoutView",
            "grid_template_rows": null,
            "right": null,
            "justify_content": null,
            "_view_module": "@jupyter-widgets/base",
            "overflow": null,
            "_model_module_version": "1.2.0",
            "_view_count": null,
            "flex_flow": null,
            "width": null,
            "min_width": null,
            "border": null,
            "align_items": null,
            "bottom": null,
            "_model_module": "@jupyter-widgets/base",
            "top": null,
            "grid_column": null,
            "overflow_y": null,
            "overflow_x": null,
            "grid_auto_flow": null,
            "grid_area": null,
            "grid_template_columns": null,
            "flex": null,
            "_model_name": "LayoutModel",
            "justify_items": null,
            "grid_row": null,
            "max_height": null,
            "align_content": null,
            "visibility": null,
            "align_self": null,
            "height": null,
            "min_height": null,
            "padding": null,
            "grid_auto_rows": null,
            "grid_gap": null,
            "max_width": null,
            "order": null,
            "_view_module_version": "1.2.0",
            "grid_template_areas": null,
            "object_position": null,
            "object_fit": null,
            "grid_auto_columns": null,
            "margin": null,
            "display": null,
            "left": null
          }
        },
        "7ddec15640264b578ee8f7f69e4c8fdf": {
          "model_module": "@jupyter-widgets/controls",
          "model_name": "HBoxModel",
          "state": {
            "_view_name": "HBoxView",
            "_dom_classes": [],
            "_model_name": "HBoxModel",
            "_view_module": "@jupyter-widgets/controls",
            "_model_module_version": "1.5.0",
            "_view_count": null,
            "_view_module_version": "1.5.0",
            "box_style": "",
            "layout": "IPY_MODEL_337fcaf65c8e42cf89daa07834b9f78e",
            "_model_module": "@jupyter-widgets/controls",
            "children": [
              "IPY_MODEL_be6f92c95452416993a893efbca0195e",
              "IPY_MODEL_c107a758aebe44c78ce2f8e9e38e4d47"
            ]
          }
        },
        "337fcaf65c8e42cf89daa07834b9f78e": {
          "model_module": "@jupyter-widgets/base",
          "model_name": "LayoutModel",
          "state": {
            "_view_name": "LayoutView",
            "grid_template_rows": null,
            "right": null,
            "justify_content": null,
            "_view_module": "@jupyter-widgets/base",
            "overflow": null,
            "_model_module_version": "1.2.0",
            "_view_count": null,
            "flex_flow": null,
            "width": null,
            "min_width": null,
            "border": null,
            "align_items": null,
            "bottom": null,
            "_model_module": "@jupyter-widgets/base",
            "top": null,
            "grid_column": null,
            "overflow_y": null,
            "overflow_x": null,
            "grid_auto_flow": null,
            "grid_area": null,
            "grid_template_columns": null,
            "flex": null,
            "_model_name": "LayoutModel",
            "justify_items": null,
            "grid_row": null,
            "max_height": null,
            "align_content": null,
            "visibility": null,
            "align_self": null,
            "height": null,
            "min_height": null,
            "padding": null,
            "grid_auto_rows": null,
            "grid_gap": null,
            "max_width": null,
            "order": null,
            "_view_module_version": "1.2.0",
            "grid_template_areas": null,
            "object_position": null,
            "object_fit": null,
            "grid_auto_columns": null,
            "margin": null,
            "display": null,
            "left": null
          }
        },
        "be6f92c95452416993a893efbca0195e": {
          "model_module": "@jupyter-widgets/controls",
          "model_name": "FloatProgressModel",
          "state": {
            "_view_name": "ProgressView",
            "style": "IPY_MODEL_9be5ed6bc74b43889bc93de34b8ed819",
            "_dom_classes": [],
            "description": "100%",
            "_model_name": "FloatProgressModel",
            "bar_style": "success",
            "max": 101,
            "_view_module": "@jupyter-widgets/controls",
            "_model_module_version": "1.5.0",
            "value": 101,
            "_view_count": null,
            "_view_module_version": "1.5.0",
            "orientation": "horizontal",
            "min": 0,
            "description_tooltip": null,
            "_model_module": "@jupyter-widgets/controls",
            "layout": "IPY_MODEL_c78d968de5c94acf9103eac3cbb080ce"
          }
        },
        "c107a758aebe44c78ce2f8e9e38e4d47": {
          "model_module": "@jupyter-widgets/controls",
          "model_name": "HTMLModel",
          "state": {
            "_view_name": "HTMLView",
            "style": "IPY_MODEL_8692b475f4fc4ab7906ef2c194ecb8f1",
            "_dom_classes": [],
            "description": "",
            "_model_name": "HTMLModel",
            "placeholder": "​",
            "_view_module": "@jupyter-widgets/controls",
            "_model_module_version": "1.5.0",
            "value": " 101/101 [00:09&lt;00:00, 10.45it/s]",
            "_view_count": null,
            "_view_module_version": "1.5.0",
            "description_tooltip": null,
            "_model_module": "@jupyter-widgets/controls",
            "layout": "IPY_MODEL_b2fd17f9f7a74ebf812f318f6e9fbc4a"
          }
        },
        "9be5ed6bc74b43889bc93de34b8ed819": {
          "model_module": "@jupyter-widgets/controls",
          "model_name": "ProgressStyleModel",
          "state": {
            "_view_name": "StyleView",
            "_model_name": "ProgressStyleModel",
            "description_width": "initial",
            "_view_module": "@jupyter-widgets/base",
            "_model_module_version": "1.5.0",
            "_view_count": null,
            "_view_module_version": "1.2.0",
            "bar_color": null,
            "_model_module": "@jupyter-widgets/controls"
          }
        },
        "c78d968de5c94acf9103eac3cbb080ce": {
          "model_module": "@jupyter-widgets/base",
          "model_name": "LayoutModel",
          "state": {
            "_view_name": "LayoutView",
            "grid_template_rows": null,
            "right": null,
            "justify_content": null,
            "_view_module": "@jupyter-widgets/base",
            "overflow": null,
            "_model_module_version": "1.2.0",
            "_view_count": null,
            "flex_flow": null,
            "width": null,
            "min_width": null,
            "border": null,
            "align_items": null,
            "bottom": null,
            "_model_module": "@jupyter-widgets/base",
            "top": null,
            "grid_column": null,
            "overflow_y": null,
            "overflow_x": null,
            "grid_auto_flow": null,
            "grid_area": null,
            "grid_template_columns": null,
            "flex": null,
            "_model_name": "LayoutModel",
            "justify_items": null,
            "grid_row": null,
            "max_height": null,
            "align_content": null,
            "visibility": null,
            "align_self": null,
            "height": null,
            "min_height": null,
            "padding": null,
            "grid_auto_rows": null,
            "grid_gap": null,
            "max_width": null,
            "order": null,
            "_view_module_version": "1.2.0",
            "grid_template_areas": null,
            "object_position": null,
            "object_fit": null,
            "grid_auto_columns": null,
            "margin": null,
            "display": null,
            "left": null
          }
        },
        "8692b475f4fc4ab7906ef2c194ecb8f1": {
          "model_module": "@jupyter-widgets/controls",
          "model_name": "DescriptionStyleModel",
          "state": {
            "_view_name": "StyleView",
            "_model_name": "DescriptionStyleModel",
            "description_width": "",
            "_view_module": "@jupyter-widgets/base",
            "_model_module_version": "1.5.0",
            "_view_count": null,
            "_view_module_version": "1.2.0",
            "_model_module": "@jupyter-widgets/controls"
          }
        },
        "b2fd17f9f7a74ebf812f318f6e9fbc4a": {
          "model_module": "@jupyter-widgets/base",
          "model_name": "LayoutModel",
          "state": {
            "_view_name": "LayoutView",
            "grid_template_rows": null,
            "right": null,
            "justify_content": null,
            "_view_module": "@jupyter-widgets/base",
            "overflow": null,
            "_model_module_version": "1.2.0",
            "_view_count": null,
            "flex_flow": null,
            "width": null,
            "min_width": null,
            "border": null,
            "align_items": null,
            "bottom": null,
            "_model_module": "@jupyter-widgets/base",
            "top": null,
            "grid_column": null,
            "overflow_y": null,
            "overflow_x": null,
            "grid_auto_flow": null,
            "grid_area": null,
            "grid_template_columns": null,
            "flex": null,
            "_model_name": "LayoutModel",
            "justify_items": null,
            "grid_row": null,
            "max_height": null,
            "align_content": null,
            "visibility": null,
            "align_self": null,
            "height": null,
            "min_height": null,
            "padding": null,
            "grid_auto_rows": null,
            "grid_gap": null,
            "max_width": null,
            "order": null,
            "_view_module_version": "1.2.0",
            "grid_template_areas": null,
            "object_position": null,
            "object_fit": null,
            "grid_auto_columns": null,
            "margin": null,
            "display": null,
            "left": null
          }
        }
      }
    }
  },
  "cells": [
    {
      "cell_type": "markdown",
      "metadata": {
        "id": "view-in-github",
        "colab_type": "text"
      },
      "source": [
        "<a href=\"https://colab.research.google.com/github/shivammehta007/QuestionGenerator/blob/master/Classifier_to_detect_type_of_questions.ipynb\" target=\"_parent\"><img src=\"https://colab.research.google.com/assets/colab-badge.svg\" alt=\"Open In Colab\"/></a>"
      ]
    },
    {
      "cell_type": "markdown",
      "metadata": {
        "id": "Ae7AE9oK2JD_",
        "colab_type": "text"
      },
      "source": [
        "# Testing Classifier Model"
      ]
    },
    {
      "cell_type": "code",
      "metadata": {
        "id": "Rsu1peCb7daN",
        "colab_type": "code",
        "outputId": "ec7d9637-8881-4114-c396-270d48c2e59d",
        "colab": {
          "base_uri": "https://localhost:8080/",
          "height": 34
        }
      },
      "source": [
        "# Essential Installation for working of notebook\n",
        "!pip install -U tqdm"
      ],
      "execution_count": 1,
      "outputs": [
        {
          "output_type": "stream",
          "text": [
            "Requirement already up-to-date: tqdm in /usr/local/lib/python3.6/dist-packages (4.44.1)\n"
          ],
          "name": "stdout"
        }
      ]
    },
    {
      "cell_type": "markdown",
      "metadata": {
        "id": "8Hfk5YOYgOaj",
        "colab_type": "text"
      },
      "source": [
        "### Imports"
      ]
    },
    {
      "cell_type": "code",
      "metadata": {
        "id": "GVZP3mPS9wVL",
        "colab_type": "code",
        "colab": {}
      },
      "source": [
        "import os\n",
        "import random\n",
        "\n",
        "import numpy as np\n",
        "import pandas as pd\n",
        "import matplotlib.pyplot as plt\n",
        "import spacy\n",
        "import seaborn as sns\n",
        "import torch\n",
        "from sklearn.ensemble import RandomForestClassifier\n",
        "from sklearn.feature_extraction.text import CountVectorizer, TfidfVectorizer\n",
        "from sklearn.linear_model import LogisticRegression\n",
        "from sklearn.model_selection import cross_validate, train_test_split\n",
        "from sklearn.naive_bayes import MultinomialNB\n",
        "from sklearn.pipeline import Pipeline\n",
        "from sklearn.preprocessing import LabelEncoder\n",
        "from sklearn.svm import SVC\n",
        "from sklearn.metrics import f1_score\n",
        "from tqdm.auto import tqdm, trange\n",
        "from wordcloud import WordCloud\n",
        "from xgboost import XGBClassifier"
      ],
      "execution_count": 0,
      "outputs": []
    },
    {
      "cell_type": "markdown",
      "metadata": {
        "id": "5Py7tdaXgR8y",
        "colab_type": "text"
      },
      "source": [
        "### Environment Setup "
      ]
    },
    {
      "cell_type": "code",
      "metadata": {
        "id": "r10qWJbbjEhd",
        "colab_type": "code",
        "colab": {}
      },
      "source": [
        "SEED=1234\n",
        "def seed_all(seed=1234):\n",
        "    \"\"\"Seed the results for duplication\"\"\"\n",
        "    random.seed(seed)\n",
        "    os.environ[\"PYTHONHASHSEED\"] = str(seed)\n",
        "    np.random.seed(seed)\n",
        "    torch.manual_seed(seed)\n",
        "    torch.cuda.manual_seed(seed)\n",
        "    torch.backends.cudnn.deterministic = True\n",
        "\n",
        "seed_all(SEED)"
      ],
      "execution_count": 0,
      "outputs": []
    },
    {
      "cell_type": "code",
      "metadata": {
        "id": "3S63rjWZ-BPZ",
        "colab_type": "code",
        "colab": {}
      },
      "source": [
        "tqdm.pandas()\n",
        "nlp = spacy.load(\"en_core_web_sm\") "
      ],
      "execution_count": 0,
      "outputs": []
    },
    {
      "cell_type": "code",
      "metadata": {
        "id": "121_OlhKDRlN",
        "colab_type": "code",
        "outputId": "96642d1f-bfcc-478d-a1f6-175606464f2f",
        "colab": {
          "base_uri": "https://localhost:8080/",
          "height": 34
        }
      },
      "source": [
        "from google.colab import drive\n",
        "drive.mount('/content/drive')"
      ],
      "execution_count": 5,
      "outputs": [
        {
          "output_type": "stream",
          "text": [
            "Drive already mounted at /content/drive; to attempt to forcibly remount, call drive.mount(\"/content/drive\", force_remount=True).\n"
          ],
          "name": "stdout"
        }
      ]
    },
    {
      "cell_type": "code",
      "metadata": {
        "id": "B38Mrn28_EMM",
        "colab_type": "code",
        "colab": {}
      },
      "source": [
        "DATASET_LOCATION = '/content/drive/My Drive/Data/GrammarDataset.csv'"
      ],
      "execution_count": 0,
      "outputs": []
    },
    {
      "cell_type": "markdown",
      "metadata": {
        "id": "tkkTC5QKgUcv",
        "colab_type": "text"
      },
      "source": [
        "## Dataset Overview"
      ]
    },
    {
      "cell_type": "code",
      "metadata": {
        "id": "3xNvBg2qAYW7",
        "colab_type": "code",
        "colab": {}
      },
      "source": [
        "original_dataset = pd.read_csv(DATASET_LOCATION, sep=\"\\t\")"
      ],
      "execution_count": 0,
      "outputs": []
    },
    {
      "cell_type": "code",
      "metadata": {
        "id": "WMx5VjuhAces",
        "colab_type": "code",
        "outputId": "9501ba17-d1f9-494e-d78f-67c8cd7d69fc",
        "colab": {
          "base_uri": "https://localhost:8080/",
          "height": 204
        }
      },
      "source": [
        "original_dataset.head()"
      ],
      "execution_count": 8,
      "outputs": [
        {
          "output_type": "execute_result",
          "data": {
            "text/html": [
              "<div>\n",
              "<style scoped>\n",
              "    .dataframe tbody tr th:only-of-type {\n",
              "        vertical-align: middle;\n",
              "    }\n",
              "\n",
              "    .dataframe tbody tr th {\n",
              "        vertical-align: top;\n",
              "    }\n",
              "\n",
              "    .dataframe thead th {\n",
              "        text-align: right;\n",
              "    }\n",
              "</style>\n",
              "<table border=\"1\" class=\"dataframe\">\n",
              "  <thead>\n",
              "    <tr style=\"text-align: right;\">\n",
              "      <th></th>\n",
              "      <th>Question</th>\n",
              "      <th>key</th>\n",
              "      <th>answer</th>\n",
              "      <th>Type of Question</th>\n",
              "      <th>Sub Section</th>\n",
              "    </tr>\n",
              "  </thead>\n",
              "  <tbody>\n",
              "    <tr>\n",
              "      <th>0</th>\n",
              "      <td>She _________________ some chocolates to the p...</td>\n",
              "      <td>bring</td>\n",
              "      <td>She brought some chocolates to the party.</td>\n",
              "      <td>irregular verb</td>\n",
              "      <td>past simple</td>\n",
              "    </tr>\n",
              "    <tr>\n",
              "      <th>1</th>\n",
              "      <td>I _________________ a new song on the radio.</td>\n",
              "      <td>hear</td>\n",
              "      <td>I heard a new song on the radio.</td>\n",
              "      <td>irregular verb</td>\n",
              "      <td>past simple</td>\n",
              "    </tr>\n",
              "    <tr>\n",
              "      <th>2</th>\n",
              "      <td>I _________________ three books last week.</td>\n",
              "      <td>read</td>\n",
              "      <td>I read three books last week.</td>\n",
              "      <td>irregular verb</td>\n",
              "      <td>past simple</td>\n",
              "    </tr>\n",
              "    <tr>\n",
              "      <th>3</th>\n",
              "      <td>They _________________ French to the waitress.</td>\n",
              "      <td>speak</td>\n",
              "      <td>They spoke French to the waitress.</td>\n",
              "      <td>irregular verb</td>\n",
              "      <td>past simple</td>\n",
              "    </tr>\n",
              "    <tr>\n",
              "      <th>4</th>\n",
              "      <td>He _________________ during the class but now ...</td>\n",
              "      <td>understand</td>\n",
              "      <td>He understood during the class but now he doe...</td>\n",
              "      <td>irregular verb</td>\n",
              "      <td>past simple</td>\n",
              "    </tr>\n",
              "  </tbody>\n",
              "</table>\n",
              "</div>"
            ],
            "text/plain": [
              "                                            Question  ...  Sub Section\n",
              "0  She _________________ some chocolates to the p...  ...  past simple\n",
              "1       I _________________ a new song on the radio.  ...  past simple\n",
              "2         I _________________ three books last week.  ...  past simple\n",
              "3     They _________________ French to the waitress.  ...  past simple\n",
              "4  He _________________ during the class but now ...  ...  past simple\n",
              "\n",
              "[5 rows x 5 columns]"
            ]
          },
          "metadata": {
            "tags": []
          },
          "execution_count": 8
        }
      ]
    },
    {
      "cell_type": "code",
      "metadata": {
        "id": "8QICR81Tmxrj",
        "colab_type": "code",
        "colab": {
          "base_uri": "https://localhost:8080/",
          "height": 119
        },
        "outputId": "f80a6004-437b-4dbd-e657-5ffde51cb285"
      },
      "source": [
        "original_dataset.dtypes"
      ],
      "execution_count": 9,
      "outputs": [
        {
          "output_type": "execute_result",
          "data": {
            "text/plain": [
              "Question            object\n",
              "key                 object\n",
              "answer              object\n",
              "Type of Question    object\n",
              "Sub Section         object\n",
              "dtype: object"
            ]
          },
          "metadata": {
            "tags": []
          },
          "execution_count": 9
        }
      ]
    },
    {
      "cell_type": "markdown",
      "metadata": {
        "id": "gVHkoe1abm0s",
        "colab_type": "text"
      },
      "source": [
        "#### EDA"
      ]
    },
    {
      "cell_type": "code",
      "metadata": {
        "id": "QTmoHupIbp02",
        "colab_type": "code",
        "outputId": "45c50c7f-5dbb-43c3-946f-fd15f33b81ab",
        "colab": {
          "base_uri": "https://localhost:8080/",
          "height": 584
        }
      },
      "source": [
        "ax, fig = plt.subplots(figsize=(10, 7))\n",
        "question_class = original_dataset[\"Type of Question\"].value_counts()\n",
        "question_class.plot(kind='bar')\n",
        "plt.title('Type of Question Counts')\n",
        "plt.show()"
      ],
      "execution_count": 10,
      "outputs": [
        {
          "output_type": "display_data",
          "data": {
            "image/png": "[encoded data removed]",
            "text/plain": [
              "<Figure size 720x504 with 1 Axes>"
            ]
          },
          "metadata": {
            "tags": []
          }
        }
      ]
    },
    {
      "cell_type": "code",
      "metadata": {
        "id": "WJQyD0KvhYoJ",
        "colab_type": "code",
        "colab": {
          "base_uri": "https://localhost:8080/",
          "height": 511
        },
        "outputId": "143944ca-f6b5-450d-af04-eb7c949dd9a5"
      },
      "source": [
        "insincere_wordcloud = WordCloud(width=600, height=400).generate(\" \".join(original_dataset[\"key\"]))\n",
        "plt.figure( figsize=(10,8), facecolor='k')\n",
        "plt.imshow(insincere_wordcloud)\n",
        "plt.axis(\"off\")\n",
        "plt.tight_layout(pad=0)\n",
        "plt.show()"
      ],
      "execution_count": 11,
      "outputs": [
        {
          "output_type": "display_data",
          "data": {
            "image/png": "[encoded data removed]",
            "text/plain": [
              "<Figure size 720x576 with 1 Axes>"
            ]
          },
          "metadata": {
            "tags": []
          }
        }
      ]
    },
    {
      "cell_type": "markdown",
      "metadata": {
        "id": "AX8Zcvdh2QH8",
        "colab_type": "text"
      },
      "source": [
        "### PreProcessing"
      ]
    },
    {
      "cell_type": "code",
      "metadata": {
        "id": "g_GyP2NiAdUH",
        "colab_type": "code",
        "colab": {}
      },
      "source": [
        "def preprocessor(dataset):\n",
        "    # Replace continuous underscores with single one\n",
        "    dataset[\"Question\"] = dataset[\"Question\"].str.replace(\"[_]{2,}\", \"_\")\n",
        "    # Remove Brackets\n",
        "    dataset[\"Question\"] = dataset[\"Question\"].str.replace(\"[\\)\\(]\", \"\")\n",
        "    # Strip whitespaces\n",
        "    dataset[\"Question\"] = dataset[\"Question\"].apply(lambda x: x.strip())\n",
        "    # Convert all text to lowercase\n",
        "    for columns in dataset.columns:\n",
        "        dataset[columns] = dataset[columns].str.lower() \n",
        "\n",
        "    return dataset"
      ],
      "execution_count": 0,
      "outputs": []
    },
    {
      "cell_type": "code",
      "metadata": {
        "id": "6BS5iKckgrQd",
        "colab_type": "code",
        "colab": {}
      },
      "source": [
        "original_dataset = preprocessor(original_dataset)"
      ],
      "execution_count": 0,
      "outputs": []
    },
    {
      "cell_type": "code",
      "metadata": {
        "id": "22ZIHZy3jW5C",
        "colab_type": "code",
        "outputId": "a4278799-f0c0-4fc6-ca8c-af7c0cc8b63f",
        "colab": {
          "base_uri": "https://localhost:8080/",
          "height": 34
        }
      },
      "source": [
        "original_dataset.columns"
      ],
      "execution_count": 14,
      "outputs": [
        {
          "output_type": "execute_result",
          "data": {
            "text/plain": [
              "Index(['Question', 'key', 'answer', 'Type of Question', 'Sub Section'], dtype='object')"
            ]
          },
          "metadata": {
            "tags": []
          },
          "execution_count": 14
        }
      ]
    },
    {
      "cell_type": "markdown",
      "metadata": {
        "id": "eJT_3Bdd9u01",
        "colab_type": "text"
      },
      "source": [
        "#### Encoding Labels"
      ]
    },
    {
      "cell_type": "code",
      "metadata": {
        "id": "T8ef8cs39uF6",
        "colab_type": "code",
        "colab": {}
      },
      "source": [
        "label_encoder = LabelEncoder()\n",
        "original_dataset[\"Type of Question\"] = label_encoder.fit_transform(original_dataset[\"Type of Question\"])"
      ],
      "execution_count": 0,
      "outputs": []
    },
    {
      "cell_type": "markdown",
      "metadata": {
        "id": "8fNWF4uwBl0t",
        "colab_type": "text"
      },
      "source": [
        "#### Split Training and Testing Data"
      ]
    },
    {
      "cell_type": "code",
      "metadata": {
        "id": "nX6L5x2Y9sHw",
        "colab_type": "code",
        "colab": {}
      },
      "source": [
        "X_train_orig_dataset, X_test_orig_dataset, y_train_orig_dataset, y_test_orig_dataset = train_test_split(original_dataset[[\"Question\", \"key\", \"answer\"]], original_dataset[\"Type of Question\"], random_state=SEED, test_size=0.15)"
      ],
      "execution_count": 0,
      "outputs": []
    },
    {
      "cell_type": "code",
      "metadata": {
        "id": "iaUHWhAcCb4t",
        "colab_type": "code",
        "outputId": "fd62c934-402a-48ae-af84-42031bc0efbe",
        "colab": {
          "base_uri": "https://localhost:8080/",
          "height": 34
        }
      },
      "source": [
        "X_train_orig_dataset.shape, X_test_orig_dataset.shape, y_train_orig_dataset.shape, y_test_orig_dataset.shape"
      ],
      "execution_count": 17,
      "outputs": [
        {
          "output_type": "execute_result",
          "data": {
            "text/plain": [
              "((569, 3), (101, 3), (569,), (101,))"
            ]
          },
          "metadata": {
            "tags": []
          },
          "execution_count": 17
        }
      ]
    },
    {
      "cell_type": "markdown",
      "metadata": {
        "id": "OnGk8SFb4Wm2",
        "colab_type": "text"
      },
      "source": [
        "## Experiments:"
      ]
    },
    {
      "cell_type": "code",
      "metadata": {
        "id": "8P-vu3VSD3Yz",
        "colab_type": "code",
        "outputId": "1ad6e072-e94c-443a-a4d4-5c1edee233ac",
        "colab": {
          "base_uri": "https://localhost:8080/",
          "height": 204
        }
      },
      "source": [
        "X_train_orig_dataset.head()"
      ],
      "execution_count": 18,
      "outputs": [
        {
          "output_type": "execute_result",
          "data": {
            "text/html": [
              "<div>\n",
              "<style scoped>\n",
              "    .dataframe tbody tr th:only-of-type {\n",
              "        vertical-align: middle;\n",
              "    }\n",
              "\n",
              "    .dataframe tbody tr th {\n",
              "        vertical-align: top;\n",
              "    }\n",
              "\n",
              "    .dataframe thead th {\n",
              "        text-align: right;\n",
              "    }\n",
              "</style>\n",
              "<table border=\"1\" class=\"dataframe\">\n",
              "  <thead>\n",
              "    <tr style=\"text-align: right;\">\n",
              "      <th></th>\n",
              "      <th>Question</th>\n",
              "      <th>key</th>\n",
              "      <th>answer</th>\n",
              "    </tr>\n",
              "  </thead>\n",
              "  <tbody>\n",
              "    <tr>\n",
              "      <th>271</th>\n",
              "      <td>how / they / get to work?</td>\n",
              "      <td>they</td>\n",
              "      <td>how do they get to work?</td>\n",
              "    </tr>\n",
              "    <tr>\n",
              "      <th>488</th>\n",
              "      <td>we were late for the plane because we _our pas...</td>\n",
              "      <td>forgot</td>\n",
              "      <td>we were late for the plane because we had forg...</td>\n",
              "    </tr>\n",
              "    <tr>\n",
              "      <th>131</th>\n",
              "      <td>we _ thirsty.</td>\n",
              "      <td>be</td>\n",
              "      <td>we aren't thirsty.</td>\n",
              "    </tr>\n",
              "    <tr>\n",
              "      <th>643</th>\n",
              "      <td>he_, so the kitchen will be warm.</td>\n",
              "      <td>cook</td>\n",
              "      <td>he will have been cooking, so the kitchen will...</td>\n",
              "    </tr>\n",
              "    <tr>\n",
              "      <th>155</th>\n",
              "      <td>you / in a cafe?</td>\n",
              "      <td>be</td>\n",
              "      <td>are you in a cafe?</td>\n",
              "    </tr>\n",
              "  </tbody>\n",
              "</table>\n",
              "</div>"
            ],
            "text/plain": [
              "                                              Question  ...                                             answer\n",
              "271                          how / they / get to work?  ...                           how do they get to work?\n",
              "488  we were late for the plane because we _our pas...  ...  we were late for the plane because we had forg...\n",
              "131                                      we _ thirsty.  ...                                 we aren't thirsty.\n",
              "643                  he_, so the kitchen will be warm.  ...  he will have been cooking, so the kitchen will...\n",
              "155                                   you / in a cafe?  ...                                 are you in a cafe?\n",
              "\n",
              "[5 rows x 3 columns]"
            ]
          },
          "metadata": {
            "tags": []
          },
          "execution_count": 18
        }
      ]
    },
    {
      "cell_type": "markdown",
      "metadata": {
        "id": "-w5DIu3WcsEd",
        "colab_type": "text"
      },
      "source": [
        "### Experimentation Setup"
      ]
    },
    {
      "cell_type": "markdown",
      "metadata": {
        "id": "SHeY-yA13DxF",
        "colab_type": "text"
      },
      "source": [
        "#### Models"
      ]
    },
    {
      "cell_type": "code",
      "metadata": {
        "id": "CcgkQ9KCFHKX",
        "colab_type": "code",
        "colab": {}
      },
      "source": [
        "text_vectorizers = [\n",
        "                    ('CountVectorizer', CountVectorizer(tokenizer=lambda x: x.split())), \n",
        "                    ('TfIdFVectorize', TfidfVectorizer(tokenizer=lambda x: x.split()))\n",
        "                ]\n",
        "classifiers = [\n",
        "               ('MultiNomial Naive Bais', MultinomialNB(alpha=0.1)),\n",
        "               ('LogisticRegression', LogisticRegression(max_iter=5000)), \n",
        "               ('SVM', SVC()), ('RandomForest', RandomForestClassifier()), \n",
        "               ('XGBClassifier', XGBClassifier(random_state=SEED, learning_rate=0.01))\n",
        "            ]"
      ],
      "execution_count": 0,
      "outputs": []
    },
    {
      "cell_type": "code",
      "metadata": {
        "id": "ycPqgf8Ri40_",
        "colab_type": "code",
        "colab": {}
      },
      "source": [
        "def check_classification(X_train, y_train, X_test, y_test):\n",
        "\n",
        "    # Result DataFrame\n",
        "    result_dataframe = pd.DataFrame({\n",
        "        'Vectorizer': [name for name, model in text_vectorizers]\n",
        "        }, columns = ['Vectorizer'] + [name for name, model in classifiers])\n",
        "    result_dataframe.set_index('Vectorizer', inplace=True)\n",
        "\n",
        "\n",
        "    best_score = 0\n",
        "    best_model = None\n",
        "    best_pipe = None\n",
        "    for classifier_name, classifier in classifiers:\n",
        "        for text_vectorizer_name, text_vectorizer in text_vectorizers:\n",
        "            pipe = Pipeline(steps=[\n",
        "                                ('text_vec', text_vectorizer),\n",
        "                                ('class', classifier)\n",
        "            ])\n",
        "            pipe.fit(X_train, y_train)\n",
        "            f1_measure = f1_score(pipe.predict(X_test), y_test, average='micro')\n",
        "            # print('Model : {} -> {}:  accuracy: {:.4f}'.format(text_vectorizer_name, classifier_name, acc*100))\n",
        "            result_dataframe[classifier_name][text_vectorizer_name] = '{:.4f}'.format(f1_measure)\n",
        "\n",
        "            if f1_measure > best_score:\n",
        "                best_score = f1_measure\n",
        "                best_pipe = pipe\n",
        "                best_model = '{} -> {}'.format(text_vectorizer_name, classifier_name)\n",
        "    # TODO: Remove while actually writing the code Code for Debugging\n",
        "    # analyzer = best_pipe['text_vec'].build_analyzer()\n",
        "    # print(analyzer(\"i _ the steak for dinner.  choose  i chose the steak for dinner.\"))\n",
        "    # print(analyzer(\"words#i _ words#_ words#the words#steak words#for words#dinner words#. words#  words#choose words#  words#i words#chose words#the words#steak words#for words#dinner words#.\"))\n",
        "    # with np.printoptions(threshold=np.inf):\n",
        "    #     print(\"First: {}\".format(best_pipe['text_vec'].transform([\"i _ the steak for dinner.  choose  i chose the steak for dinner.\"])[0]))\n",
        "    #     print(\"Second: {}\".format(best_pipe['text_vec'].transform([\"words#i words#_ words#the words#steak words#for words#dinner words#. words#  words#choose words#  words#i words#chose words#the words#steak words#for words#dinner words#.\"])[0]))\n",
        "\n",
        "\n",
        "    print(\"\\n\\nBest F1 Measure was: {:.4f} with the Model: {}\".format(best_score, best_model))\n",
        "    return result_dataframe"
      ],
      "execution_count": 0,
      "outputs": []
    },
    {
      "cell_type": "markdown",
      "metadata": {
        "id": "l_qWhanA3KM_",
        "colab_type": "text"
      },
      "source": [
        "#### Result Placeholder"
      ]
    },
    {
      "cell_type": "code",
      "metadata": {
        "id": "8QzCpvclfk6g",
        "colab_type": "code",
        "colab": {}
      },
      "source": [
        "result_dataframe = pd.DataFrame({\n",
        "        'Vectorizer': [name for name, model in text_vectorizers]\n",
        "        }, columns = ['Vectorizer'] + [name for name, model in classifiers])\n",
        "result_dataframe.set_index('Vectorizer', inplace=True)\n",
        "\n",
        "results = []"
      ],
      "execution_count": 0,
      "outputs": []
    },
    {
      "cell_type": "markdown",
      "metadata": {
        "id": "IARArelo3U7S",
        "colab_type": "text"
      },
      "source": [
        "#### N-Gram Generator"
      ]
    },
    {
      "cell_type": "code",
      "metadata": {
        "id": "zyh7vACj3UIl",
        "colab_type": "code",
        "colab": {
          "base_uri": "https://localhost:8080/",
          "height": 153
        },
        "outputId": "e8f0875a-46be-45c8-cca1-4775ef37f4c6"
      },
      "source": [
        "from itertools import cycle\n",
        "from collections import deque\n",
        "\n",
        "def ngrams(sentence, n=2):\n",
        "    words = [word.text for word in nlp(sentence)]\n",
        "    d = deque(maxlen=n)\n",
        "    d.extend(words[:n])\n",
        "    words = words[n:]\n",
        "    results = []\n",
        "    for window, word in zip(cycle((d,)), words):\n",
        "        results.append([ngram for ngram in window])\n",
        "        d.append(word)\n",
        "    results.append([ngram for ngram in d])\n",
        "\n",
        "    return results\n",
        "\n",
        "ngrams(\"this sentence is a test sentence to check ngrams\")"
      ],
      "execution_count": 69,
      "outputs": [
        {
          "output_type": "execute_result",
          "data": {
            "text/plain": [
              "[['this', 'sentence'],\n",
              " ['sentence', 'is'],\n",
              " ['is', 'a'],\n",
              " ['a', 'test'],\n",
              " ['test', 'sentence'],\n",
              " ['sentence', 'to'],\n",
              " ['to', 'check'],\n",
              " ['check', 'ngrams']]"
            ]
          },
          "metadata": {
            "tags": []
          },
          "execution_count": 69
        }
      ]
    },
    {
      "cell_type": "code",
      "metadata": {
        "id": "7RXScOm34hRI",
        "colab_type": "code",
        "colab": {
          "base_uri": "https://localhost:8080/",
          "height": 88
        },
        "outputId": "36a33607-e754-4cc8-eb62-c95364dcc1d7"
      },
      "source": [
        "for n in range(2,5):\n",
        "    print(\" {}-Grams:\".format(n), end=\" \")\n",
        "    print(ngrams(\"Hello World! This is a test example of N-Gram generator\", n))"
      ],
      "execution_count": 67,
      "outputs": [
        {
          "output_type": "stream",
          "text": [
            " 2-Grams: [['Hello', 'World'], ['World', '!'], ['!', 'This'], ['This', 'is'], ['is', 'a'], ['a', 'test'], ['test', 'example'], ['example', 'of'], ['of', 'N'], ['N', '-'], ['-', 'Gram'], ['Gram', 'generator']]\n",
            " 3-Grams: [['Hello', 'World', '!'], ['World', '!', 'This'], ['!', 'This', 'is'], ['This', 'is', 'a'], ['is', 'a', 'test'], ['a', 'test', 'example'], ['test', 'example', 'of'], ['example', 'of', 'N'], ['of', 'N', '-'], ['N', '-', 'Gram'], ['-', 'Gram', 'generator']]\n",
            " 4-Grams: [['Hello', 'World', '!', 'This'], ['World', '!', 'This', 'is'], ['!', 'This', 'is', 'a'], ['This', 'is', 'a', 'test'], ['is', 'a', 'test', 'example'], ['a', 'test', 'example', 'of'], ['test', 'example', 'of', 'N'], ['example', 'of', 'N', '-'], ['of', 'N', '-', 'Gram'], ['N', '-', 'Gram', 'generator']]\n"
          ],
          "name": "stdout"
        }
      ]
    },
    {
      "cell_type": "markdown",
      "metadata": {
        "id": "6XtV4oEY9RdY",
        "colab_type": "text"
      },
      "source": [
        "#### Sample Generator"
      ]
    },
    {
      "cell_type": "code",
      "metadata": {
        "id": "JTj9-ty58yrZ",
        "colab_type": "code",
        "colab": {}
      },
      "source": [
        "def get_input_samples(X, y, n=5):\n",
        "    results = []\n",
        "    for i in random.sample(range(len(X) - 1), n):\n",
        "        results.append(\"{} --> {} \".format(X.iloc[i], label_encoder.inverse_transform([y.iloc[i]])))\n",
        "\n",
        "    return results"
      ],
      "execution_count": 0,
      "outputs": []
    },
    {
      "cell_type": "markdown",
      "metadata": {
        "id": "B-xUadw94aQa",
        "colab_type": "text"
      },
      "source": [
        "### Experiment 1:  Word#\\$\\{$words_i$\\}\n",
        "Concatenating Question + key + answer in a Bag Of Words Approach \\\\\n",
        "No Feature Engineering"
      ]
    },
    {
      "cell_type": "code",
      "metadata": {
        "id": "t3w4PFR9jGau",
        "colab_type": "code",
        "colab": {}
      },
      "source": [
        "experiment_text = \"Concatenating question + key + answer. like word#word_i\""
      ],
      "execution_count": 0,
      "outputs": []
    },
    {
      "cell_type": "markdown",
      "metadata": {
        "id": "NPWAO_stJEkI",
        "colab_type": "text"
      },
      "source": [
        "#### Preprocessing"
      ]
    },
    {
      "cell_type": "code",
      "metadata": {
        "id": "huoQqpg9jqf7",
        "colab_type": "code",
        "colab": {}
      },
      "source": [
        "X_train = X_train_orig_dataset[\"Question\"] + \" \" + X_train_orig_dataset[\"key\"] + \" \" + X_train_orig_dataset[\"answer\"]\n",
        "y_train = y_train_orig_dataset\n",
        "X_test = X_test_orig_dataset[\"Question\"] + \" \" + X_test_orig_dataset[\"key\"] + \" \" + X_test_orig_dataset[\"answer\"]\n",
        "y_test = y_test_orig_dataset"
      ],
      "execution_count": 0,
      "outputs": []
    },
    {
      "cell_type": "code",
      "metadata": {
        "id": "LgBf1aTiil9J",
        "colab_type": "code",
        "colab": {
          "base_uri": "https://localhost:8080/",
          "height": 54
        },
        "outputId": "2ae041f3-4d9a-4937-ac8f-c5f13206d74c"
      },
      "source": [
        "def add_word_template(text):\n",
        "    tokens = nlp(text)\n",
        "    text = []\n",
        "    for token in tokens:\n",
        "        text.append(\"words#{}\".format(token.text))\n",
        "\n",
        "    return \" \".join(text)\n",
        "\n",
        "add_word_template(\"i _ the steak for dinner.  choose  i chose the steak for dinner.\")"
      ],
      "execution_count": 28,
      "outputs": [
        {
          "output_type": "execute_result",
          "data": {
            "text/plain": [
              "'words#i words#_ words#the words#steak words#for words#dinner words#. words#  words#choose words#  words#i words#chose words#the words#steak words#for words#dinner words#.'"
            ]
          },
          "metadata": {
            "tags": []
          },
          "execution_count": 28
        }
      ]
    },
    {
      "cell_type": "code",
      "metadata": {
        "id": "PNwKiGSkiu7g",
        "colab_type": "code",
        "colab": {
          "base_uri": "https://localhost:8080/",
          "height": 115,
          "referenced_widgets": [
            "3edbbe9f99624364970e853d5e278f22",
            "8b5f9d491fe64977bf5556c26d5e9ec0",
            "a851c798dab64710b47471b29467ebd7",
            "b68f8489131445ef8f1e89d178368dd6",
            "4928066fab13497da3810d28d20e878c",
            "3c04678c23dc4d0b8c0b943b13fbe9d5",
            "8b09528977b241c1b4e101990ba07cc5",
            "53a1073a8c1040d3bb885d7340fcff79",
            "2685263498214a38a807cc0fa67553d1",
            "abd271a2e8ae4e3baf4fb8a8f58cb5c5",
            "ba6f322a8d80447fa28e90f3adedab84",
            "0238418e12784fd28e4cca2cbeeff9dc",
            "0f294a95e1564f7abfc8fce2c456e34f",
            "1d95427ce05c4d6ea94f5abafc5eaa88",
            "d3ff206fcdf546a98aad3115e21fb844",
            "957f5b43f846426584c0aa1f3ca6012e"
          ]
        },
        "outputId": "cea40ce1-a1ee-4cae-abe6-4ecb21de0c42"
      },
      "source": [
        "X_train = X_train.progress_apply(add_word_template)\n",
        "X_test = X_test.progress_apply(add_word_template)"
      ],
      "execution_count": 29,
      "outputs": [
        {
          "output_type": "display_data",
          "data": {
            "application/vnd.jupyter.widget-view+json": {
              "model_id": "3edbbe9f99624364970e853d5e278f22",
              "version_minor": 0,
              "version_major": 2
            },
            "text/plain": [
              "HBox(children=(FloatProgress(value=0.0, max=569.0), HTML(value='')))"
            ]
          },
          "metadata": {
            "tags": []
          }
        },
        {
          "output_type": "stream",
          "text": [
            "\n"
          ],
          "name": "stdout"
        },
        {
          "output_type": "display_data",
          "data": {
            "application/vnd.jupyter.widget-view+json": {
              "model_id": "2685263498214a38a807cc0fa67553d1",
              "version_minor": 0,
              "version_major": 2
            },
            "text/plain": [
              "HBox(children=(FloatProgress(value=0.0, max=101.0), HTML(value='')))"
            ]
          },
          "metadata": {
            "tags": []
          }
        },
        {
          "output_type": "stream",
          "text": [
            "\n"
          ],
          "name": "stdout"
        }
      ]
    },
    {
      "cell_type": "markdown",
      "metadata": {
        "id": "YpHet4C8lc80",
        "colab_type": "text"
      },
      "source": [
        "#### Input Samples"
      ]
    },
    {
      "cell_type": "code",
      "metadata": {
        "id": "oleE2PRxltmf",
        "colab_type": "code",
        "colab": {
          "base_uri": "https://localhost:8080/",
          "height": 122
        },
        "outputId": "875cda96-1be6-48e5-dc96-16f7dc545e7e"
      },
      "source": [
        "get_input_samples(X_train, y_train)"
      ],
      "execution_count": 30,
      "outputs": [
        {
          "output_type": "execute_result",
          "data": {
            "text/plain": [
              "[\"words#they words#_ words#so words#we words#went words#to words#a words#restaurant words#. words#not words#eat words#they words#had words#n't words#eaten words#so words#we words#went words#to words#a words#restaurant words#. --> ['3rd form of verb'] \",\n",
              " \"words#when words#/ words#you words#/ words#leave words#? words#you words#leave words#when words#are words#you words#leaving words#? --> ['verb+ing'] \",\n",
              " \"words#they words#/ words#live words#in words#london words#live words#they words#live words#in words#london words#. --> ['verb(s/es)'] \",\n",
              " \"words#_ words#football words#when words#he words#was words#injured words#? words#how words#long words#he words#play words#how words#long words#had words#he words#been words#playing words#football words#when words#he words#was words#injured words#? --> ['had been verb+ing'] \",\n",
              " \"words#_ words#the words#film words#already words#? words#she words#see words#had words#she words#seen words#the words#film words#already words#? --> ['3rd form of verb'] \"]"
            ]
          },
          "metadata": {
            "tags": []
          },
          "execution_count": 30
        }
      ]
    },
    {
      "cell_type": "markdown",
      "metadata": {
        "id": "tvz8r-4M20D5",
        "colab_type": "text"
      },
      "source": [
        "#### Experimentation Results"
      ]
    },
    {
      "cell_type": "code",
      "metadata": {
        "id": "LjmfITvoEHid",
        "colab_type": "code",
        "outputId": "6df22bcd-2c3b-4657-c8cf-17e2c05f5a14",
        "colab": {
          "base_uri": "https://localhost:8080/",
          "height": 193
        }
      },
      "source": [
        "result = check_classification(X_train, y_train, X_test, y_test)\n",
        "results.append((experiment_text, result))\n",
        "result\n",
        "\n",
        "# First:   (0, 24)\t1\n",
        "#   (0, 193)\t1\n",
        "#   (0, 194)\t1\n",
        "#   (0, 257)\t2\n",
        "#   (0, 356)\t2\n",
        "#   (0, 447)\t2\n",
        "#   (0, 851)\t2\n",
        "#   (0, 912)\t2\n",
        "# Second:   (0, 24)"
      ],
      "execution_count": 31,
      "outputs": [
        {
          "output_type": "stream",
          "text": [
            "\n",
            "\n",
            "Best F1 Measure was: 0.9703 with the Model: CountVectorizer -> RandomForest\n"
          ],
          "name": "stdout"
        },
        {
          "output_type": "execute_result",
          "data": {
            "text/html": [
              "<div>\n",
              "<style scoped>\n",
              "    .dataframe tbody tr th:only-of-type {\n",
              "        vertical-align: middle;\n",
              "    }\n",
              "\n",
              "    .dataframe tbody tr th {\n",
              "        vertical-align: top;\n",
              "    }\n",
              "\n",
              "    .dataframe thead th {\n",
              "        text-align: right;\n",
              "    }\n",
              "</style>\n",
              "<table border=\"1\" class=\"dataframe\">\n",
              "  <thead>\n",
              "    <tr style=\"text-align: right;\">\n",
              "      <th></th>\n",
              "      <th>MultiNomial Naive Bais</th>\n",
              "      <th>LogisticRegression</th>\n",
              "      <th>SVM</th>\n",
              "      <th>RandomForest</th>\n",
              "      <th>XGBClassifier</th>\n",
              "    </tr>\n",
              "    <tr>\n",
              "      <th>Vectorizer</th>\n",
              "      <th></th>\n",
              "      <th></th>\n",
              "      <th></th>\n",
              "      <th></th>\n",
              "      <th></th>\n",
              "    </tr>\n",
              "  </thead>\n",
              "  <tbody>\n",
              "    <tr>\n",
              "      <th>CountVectorizer</th>\n",
              "      <td>0.7327</td>\n",
              "      <td>0.8812</td>\n",
              "      <td>0.7822</td>\n",
              "      <td>0.9703</td>\n",
              "      <td>0.9703</td>\n",
              "    </tr>\n",
              "    <tr>\n",
              "      <th>TfIdFVectorize</th>\n",
              "      <td>0.6832</td>\n",
              "      <td>0.7228</td>\n",
              "      <td>0.6733</td>\n",
              "      <td>0.9307</td>\n",
              "      <td>0.9406</td>\n",
              "    </tr>\n",
              "  </tbody>\n",
              "</table>\n",
              "</div>"
            ],
            "text/plain": [
              "                MultiNomial Naive Bais  ... XGBClassifier\n",
              "Vectorizer                              ...              \n",
              "CountVectorizer                 0.7327  ...        0.9703\n",
              "TfIdFVectorize                  0.6832  ...        0.9406\n",
              "\n",
              "[2 rows x 5 columns]"
            ]
          },
          "metadata": {
            "tags": []
          },
          "execution_count": 31
        }
      ]
    },
    {
      "cell_type": "markdown",
      "metadata": {
        "id": "y52L3ohfSGnN",
        "colab_type": "text"
      },
      "source": [
        "### Experiment 2: word_pos#\\$\\{$word_i$\\}_\\$\\{$pos_i$\\}\n",
        "With Word and POS tags, token.tag_ gives a detailed POS tag where we can distinguish between forms of verb. \\\\\n",
        "More Information https://spacy.io/api/annotation#pos-tagging about the tags"
      ]
    },
    {
      "cell_type": "code",
      "metadata": {
        "id": "U4cmKc0wks5S",
        "colab_type": "code",
        "colab": {}
      },
      "source": [
        "experiment_text = \"Adding Pos Tags along with word word_pos#{word_i}_{pos_i} + k#tags + a#tags Unigrams\""
      ],
      "execution_count": 0,
      "outputs": []
    },
    {
      "cell_type": "markdown",
      "metadata": {
        "id": "zdTpudPaJLPg",
        "colab_type": "text"
      },
      "source": [
        "#### Preprocessing"
      ]
    },
    {
      "cell_type": "code",
      "metadata": {
        "id": "_Oxr2IGwh0Xi",
        "colab_type": "code",
        "colab": {}
      },
      "source": [
        "X_train = X_train_orig_dataset[\"Question\"] + \" \" + X_train_orig_dataset[\"key\"] + \" \" + X_train_orig_dataset[\"answer\"]\n",
        "y_train = y_train_orig_dataset\n",
        "X_test = X_test_orig_dataset[\"Question\"] + \" \" + X_test_orig_dataset[\"key\"] + \" \" + X_test_orig_dataset[\"answer\"]\n",
        "y_test = y_test_orig_dataset"
      ],
      "execution_count": 0,
      "outputs": []
    },
    {
      "cell_type": "code",
      "metadata": {
        "id": "_Q9TuAUfeCX-",
        "colab_type": "code",
        "colab": {
          "base_uri": "https://localhost:8080/",
          "height": 54
        },
        "outputId": "9a226aab-52a7-4c5d-a972-03d7d9492984"
      },
      "source": [
        "def add_word_pos_template(text):\n",
        "    tokens = nlp(text)\n",
        "    text = []\n",
        "    for token in tokens:\n",
        "        text.append(\"word_pos#{}_{}\".format(token.text, token.tag_))\n",
        "\n",
        "    return \" \".join(text)\n",
        "\n",
        "# Testing method\n",
        "test_sentence = \"Testing the Pos Tagger in this sentence let's see how it works!\".lower()\n",
        "add_word_pos_template(test_sentence)"
      ],
      "execution_count": 35,
      "outputs": [
        {
          "output_type": "execute_result",
          "data": {
            "text/plain": [
              "\"word_pos#testing_VBG word_pos#the_DT word_pos#pos_NN word_pos#tagger_NN word_pos#in_IN word_pos#this_DT word_pos#sentence_NN word_pos#let_VB word_pos#'s_PRP word_pos#see_VB word_pos#how_WRB word_pos#it_PRP word_pos#works_VBZ word_pos#!_.\""
            ]
          },
          "metadata": {
            "tags": []
          },
          "execution_count": 35
        }
      ]
    },
    {
      "cell_type": "code",
      "metadata": {
        "id": "w6_kA6fseDtA",
        "colab_type": "code",
        "colab": {
          "base_uri": "https://localhost:8080/",
          "height": 115,
          "referenced_widgets": [
            "0df6afe6896b4ae0bafef52119168202",
            "e29c106bf20e441da5e67e8a3a84b448",
            "0007c237bab140f2a10c64ce5d45c04b",
            "3cca0db4fa42433896689e7756aa8644",
            "6fd951da7c1b40e3aa258fcbab98060e",
            "91a7436196a74c8684b251f50d65fa6c",
            "396129f8e7674a40b739f69fbf610dd9",
            "dbf22706c089416a9d233cdbf6f0d225",
            "25a5e7a8832041ce824519d35037af45",
            "0c11b8f5d241473db9f92b21fd126b21",
            "69a764efbb8b40d893c2580d853fe3fa",
            "d18cbbd6f8af4736bac4e263da494789",
            "6daa1c44d5e042f8867ec29e956c7761",
            "4b8bbb27ccc2470781cbd4d1beaaf5bd",
            "ec282a60e005459fb36c581e92b60eda",
            "2118588df95341b9850337e6d1ebf046"
          ]
        },
        "outputId": "649868f3-e3a0-46d6-a957-fcb32d20fd40"
      },
      "source": [
        "X_train = X_train.progress_apply(add_word_pos_template)\n",
        "X_test = X_test.progress_apply(add_word_pos_template)"
      ],
      "execution_count": 39,
      "outputs": [
        {
          "output_type": "display_data",
          "data": {
            "application/vnd.jupyter.widget-view+json": {
              "model_id": "0df6afe6896b4ae0bafef52119168202",
              "version_minor": 0,
              "version_major": 2
            },
            "text/plain": [
              "HBox(children=(FloatProgress(value=0.0, max=569.0), HTML(value='')))"
            ]
          },
          "metadata": {
            "tags": []
          }
        },
        {
          "output_type": "stream",
          "text": [
            "\n"
          ],
          "name": "stdout"
        },
        {
          "output_type": "display_data",
          "data": {
            "application/vnd.jupyter.widget-view+json": {
              "model_id": "25a5e7a8832041ce824519d35037af45",
              "version_minor": 0,
              "version_major": 2
            },
            "text/plain": [
              "HBox(children=(FloatProgress(value=0.0, max=101.0), HTML(value='')))"
            ]
          },
          "metadata": {
            "tags": []
          }
        },
        {
          "output_type": "stream",
          "text": [
            "\n"
          ],
          "name": "stdout"
        }
      ]
    },
    {
      "cell_type": "markdown",
      "metadata": {
        "id": "KErwtz1PJOTr",
        "colab_type": "text"
      },
      "source": [
        "#### Input Samples"
      ]
    },
    {
      "cell_type": "code",
      "metadata": {
        "id": "O5DGe3hxI6Vc",
        "colab_type": "code",
        "colab": {
          "base_uri": "https://localhost:8080/",
          "height": 122
        },
        "outputId": "4fd0352a-4116-4e0c-d11e-5bac8369e495"
      },
      "source": [
        "get_input_samples(X_train, y_train)"
      ],
      "execution_count": 40,
      "outputs": [
        {
          "output_type": "execute_result",
          "data": {
            "text/plain": [
              "[\"word_pos#what_WP word_pos#__NNP word_pos#by_IN word_pos#the_DT word_pos#end_NN word_pos#of_IN word_pos#the_DT word_pos#day_NN word_pos#?_. word_pos#you_PRP word_pos#do_VBP word_pos#what_WP word_pos#will_MD word_pos#you_PRP word_pos#have_VB word_pos#done_VBN word_pos#by_IN word_pos#the_DT word_pos#end_NN word_pos#of_IN word_pos#the_DT word_pos#day_NN word_pos#?_. --> ['will have verb+3rd form'] \",\n",
              " \"word_pos#i_PRP word_pos#/_: word_pos#not_RB word_pos#/_SYM word_pos#like_UH word_pos#coffee_NN word_pos#not_RB word_pos#i_PRP word_pos#do_VBP word_pos#n't_RB word_pos#like_VB word_pos#coffee_NN word_pos#._. --> ['do/does'] \",\n",
              " \"word_pos#who_WP word_pos#/_NFP word_pos#the_DT word_pos#teacher_NN word_pos#/_, word_pos#be_VB word_pos#?_. word_pos#be_VB word_pos#who_WP word_pos#was_VBD word_pos#the_DT word_pos#teacher_NN word_pos#?_. --> ['verb be'] \",\n",
              " \"word_pos#what_WDT word_pos#time_NN word_pos#__NNP word_pos#today_NN word_pos#?_. word_pos#the_DT word_pos#sun_NN word_pos#set_VBD word_pos#what_WP word_pos#time_NN word_pos#will_MD word_pos#the_DT word_pos#sun_NN word_pos#set_VB word_pos#today_NN word_pos#?_. --> ['will + first form of verb'] \",\n",
              " \"word_pos#she_PRP word_pos#__NNP word_pos#under_IN word_pos#the_DT word_pos#tree_NN word_pos#to_TO word_pos#shelter_VB word_pos#from_IN word_pos#the_DT word_pos#rain_NN word_pos#._. word_pos#stand_VB word_pos#she_PRP word_pos#stood_VBD word_pos#under_IN word_pos#the_DT word_pos#tree_NN word_pos#to_TO word_pos#shelter_VB word_pos#from_IN word_pos#the_DT word_pos#rain_NN word_pos#._. --> ['irregular verb'] \"]"
            ]
          },
          "metadata": {
            "tags": []
          },
          "execution_count": 40
        }
      ]
    },
    {
      "cell_type": "markdown",
      "metadata": {
        "id": "-kawDDdRKOQI",
        "colab_type": "text"
      },
      "source": [
        "#### Experimentation Results"
      ]
    },
    {
      "cell_type": "code",
      "metadata": {
        "id": "k_EqYz4JfepB",
        "colab_type": "code",
        "colab": {
          "base_uri": "https://localhost:8080/",
          "height": 193
        },
        "outputId": "4f854399-4a16-446d-c23f-61a3da4004bc"
      },
      "source": [
        "result = check_classification(X_train, y_train, X_test, y_test)\n",
        "results.append((experiment_text, result))\n",
        "result"
      ],
      "execution_count": 41,
      "outputs": [
        {
          "output_type": "stream",
          "text": [
            "\n",
            "\n",
            "Best F1 Measure was: 0.9802 with the Model: CountVectorizer -> RandomForest\n"
          ],
          "name": "stdout"
        },
        {
          "output_type": "execute_result",
          "data": {
            "text/html": [
              "<div>\n",
              "<style scoped>\n",
              "    .dataframe tbody tr th:only-of-type {\n",
              "        vertical-align: middle;\n",
              "    }\n",
              "\n",
              "    .dataframe tbody tr th {\n",
              "        vertical-align: top;\n",
              "    }\n",
              "\n",
              "    .dataframe thead th {\n",
              "        text-align: right;\n",
              "    }\n",
              "</style>\n",
              "<table border=\"1\" class=\"dataframe\">\n",
              "  <thead>\n",
              "    <tr style=\"text-align: right;\">\n",
              "      <th></th>\n",
              "      <th>MultiNomial Naive Bais</th>\n",
              "      <th>LogisticRegression</th>\n",
              "      <th>SVM</th>\n",
              "      <th>RandomForest</th>\n",
              "      <th>XGBClassifier</th>\n",
              "    </tr>\n",
              "    <tr>\n",
              "      <th>Vectorizer</th>\n",
              "      <th></th>\n",
              "      <th></th>\n",
              "      <th></th>\n",
              "      <th></th>\n",
              "      <th></th>\n",
              "    </tr>\n",
              "  </thead>\n",
              "  <tbody>\n",
              "    <tr>\n",
              "      <th>CountVectorizer</th>\n",
              "      <td>0.7228</td>\n",
              "      <td>0.8614</td>\n",
              "      <td>0.7525</td>\n",
              "      <td>0.9802</td>\n",
              "      <td>0.9406</td>\n",
              "    </tr>\n",
              "    <tr>\n",
              "      <th>TfIdFVectorize</th>\n",
              "      <td>0.6733</td>\n",
              "      <td>0.7327</td>\n",
              "      <td>0.7129</td>\n",
              "      <td>0.9010</td>\n",
              "      <td>0.8812</td>\n",
              "    </tr>\n",
              "  </tbody>\n",
              "</table>\n",
              "</div>"
            ],
            "text/plain": [
              "                MultiNomial Naive Bais  ... XGBClassifier\n",
              "Vectorizer                              ...              \n",
              "CountVectorizer                 0.7228  ...        0.9406\n",
              "TfIdFVectorize                  0.6733  ...        0.8812\n",
              "\n",
              "[2 rows x 5 columns]"
            ]
          },
          "metadata": {
            "tags": []
          },
          "execution_count": 41
        }
      ]
    },
    {
      "cell_type": "markdown",
      "metadata": {
        "colab_type": "text",
        "id": "2KY2MlWZtMYe"
      },
      "source": [
        "### Experiment 3: pos#\\$\\{$pos_i$\\} \n",
        "With just POS"
      ]
    },
    {
      "cell_type": "code",
      "metadata": {
        "colab_type": "code",
        "id": "lpVu3ByktMYg",
        "colab": {}
      },
      "source": [
        "experiment_text = \"Classifying based on POS tags pos#{pos_i}\""
      ],
      "execution_count": 0,
      "outputs": []
    },
    {
      "cell_type": "markdown",
      "metadata": {
        "colab_type": "text",
        "id": "1nO2vGv9tMYk"
      },
      "source": [
        "#### Preprocessing"
      ]
    },
    {
      "cell_type": "code",
      "metadata": {
        "colab_type": "code",
        "id": "KXVoEmu2tMYl",
        "colab": {}
      },
      "source": [
        "X_train = X_train_orig_dataset[\"Question\"] + \" \" + X_train_orig_dataset[\"key\"] + \" \" + X_train_orig_dataset[\"answer\"]\n",
        "y_train = y_train_orig_dataset\n",
        "X_test = X_test_orig_dataset[\"Question\"] + \" \" + X_test_orig_dataset[\"key\"] + \" \" + X_test_orig_dataset[\"answer\"]\n",
        "y_test = y_test_orig_dataset"
      ],
      "execution_count": 0,
      "outputs": []
    },
    {
      "cell_type": "code",
      "metadata": {
        "colab_type": "code",
        "outputId": "6a30d72b-35a4-4ee5-c771-8f4cd23d01d6",
        "id": "BdNGUFWctMYp",
        "colab": {
          "base_uri": "https://localhost:8080/",
          "height": 34
        }
      },
      "source": [
        "def add_pos_template(text):\n",
        "    tokens = nlp(text)\n",
        "    text = []\n",
        "    for token in tokens:\n",
        "        text.append(\"pos#{}\".format(token.tag_))\n",
        "\n",
        "    return \" \".join(text)\n",
        "\n",
        "# Testing method\n",
        "test_sentence = \"Testing the Pos Tagger in this sentence let's see how it works!\".lower()\n",
        "add_pos_template(test_sentence)"
      ],
      "execution_count": 44,
      "outputs": [
        {
          "output_type": "execute_result",
          "data": {
            "text/plain": [
              "'pos#VBG pos#DT pos#NN pos#NN pos#IN pos#DT pos#NN pos#VB pos#PRP pos#VB pos#WRB pos#PRP pos#VBZ pos#.'"
            ]
          },
          "metadata": {
            "tags": []
          },
          "execution_count": 44
        }
      ]
    },
    {
      "cell_type": "code",
      "metadata": {
        "colab_type": "code",
        "outputId": "2544dbce-2a43-4c13-a1ae-690e02fa4c35",
        "id": "CXhwEEjXtMYs",
        "colab": {
          "base_uri": "https://localhost:8080/",
          "height": 115,
          "referenced_widgets": [
            "44c17cf2f65e4e7e97056396981f6bff",
            "8a9a4d4253684ed7b9ebd8c384b13b5b",
            "2271562fc4d2483bbe5d8c0a5a71f629",
            "04a1dd1dda1c45b49d0dc23dd64eb273",
            "46060453906a4c42a37b95604c4e598c",
            "2a7fd464fe004585b2c66c399e8bb682",
            "8723330f87c94bf7a38f686d93e480e2",
            "2ba7639453e44d2392c5e85b3435d967",
            "7ddec15640264b578ee8f7f69e4c8fdf",
            "337fcaf65c8e42cf89daa07834b9f78e",
            "be6f92c95452416993a893efbca0195e",
            "c107a758aebe44c78ce2f8e9e38e4d47",
            "9be5ed6bc74b43889bc93de34b8ed819",
            "c78d968de5c94acf9103eac3cbb080ce",
            "8692b475f4fc4ab7906ef2c194ecb8f1",
            "b2fd17f9f7a74ebf812f318f6e9fbc4a"
          ]
        }
      },
      "source": [
        "X_train = X_train.progress_apply(add_pos_template)\n",
        "X_test = X_test.progress_apply(add_pos_template)"
      ],
      "execution_count": 45,
      "outputs": [
        {
          "output_type": "display_data",
          "data": {
            "application/vnd.jupyter.widget-view+json": {
              "model_id": "44c17cf2f65e4e7e97056396981f6bff",
              "version_minor": 0,
              "version_major": 2
            },
            "text/plain": [
              "HBox(children=(FloatProgress(value=0.0, max=569.0), HTML(value='')))"
            ]
          },
          "metadata": {
            "tags": []
          }
        },
        {
          "output_type": "stream",
          "text": [
            "\n"
          ],
          "name": "stdout"
        },
        {
          "output_type": "display_data",
          "data": {
            "application/vnd.jupyter.widget-view+json": {
              "model_id": "7ddec15640264b578ee8f7f69e4c8fdf",
              "version_minor": 0,
              "version_major": 2
            },
            "text/plain": [
              "HBox(children=(FloatProgress(value=0.0, max=101.0), HTML(value='')))"
            ]
          },
          "metadata": {
            "tags": []
          }
        },
        {
          "output_type": "stream",
          "text": [
            "\n"
          ],
          "name": "stdout"
        }
      ]
    },
    {
      "cell_type": "markdown",
      "metadata": {
        "colab_type": "text",
        "id": "tyRetxC-tMYv"
      },
      "source": [
        "#### Input Samples"
      ]
    },
    {
      "cell_type": "code",
      "metadata": {
        "colab_type": "code",
        "outputId": "bf7bb0a5-7825-482a-e19c-0650fa14040a",
        "id": "-7gTZDMQtMYv",
        "colab": {
          "base_uri": "https://localhost:8080/",
          "height": 122
        }
      },
      "source": [
        "get_input_samples(X_train, y_train)"
      ],
      "execution_count": 46,
      "outputs": [
        {
          "output_type": "execute_result",
          "data": {
            "text/plain": [
              "[\"pos#NNP pos#NNP pos#NNP pos#, pos#RB pos#SYM pos#NN pos#IN pos#DT pos#NN pos#WRB pos#DT pos#NN pos#VBD pos#RB pos#VB pos#NNP pos#NNP pos#NNP pos#VBD pos#RB pos#VBG pos#IN pos#DT pos#NN pos#. --> ['verb+ing'] \",\n",
              " \"pos#PRP pos#VBD pos#PRP pos#IN pos#PRP pos#NNP pos#DT pos#NN pos#IN pos#DT pos#NN pos#. pos#VB pos#PRP pos#VBD pos#PRP pos#IN pos#PRP pos#VBD pos#VBN pos#DT pos#NN pos#IN pos#DT pos#NN pos#. --> ['3rd form of verb'] \",\n",
              " \"pos#NNP pos#, pos#RB pos#SYM pos#VB pos#: pos#PRP$ pos#NN pos#RB pos#VB pos#NNP pos#VBZ pos#RB pos#VBN pos#PRP$ pos#NN pos#. --> ['3rd form of verb'] \",\n",
              " \"pos#PRP pos#VBD pos#IN pos#PRP pos#NNP pos#DT pos#NNP pos#RB pos#. pos#RB pos#VB pos#PRP pos#VBD pos#IN pos#PRP pos#VBD pos#RB pos#VBN pos#DT pos#NNP pos#RB pos#. --> ['3rd form of verb'] \",\n",
              " \"pos#NNP pos#CC pos#NNP pos#, pos#RB pos#VBP pos#IN pos#NNS pos#RB pos#NNP pos#CC pos#NNP pos#RB pos#VBP pos#IN pos#NNS pos#. --> ['verb(s/es)'] \"]"
            ]
          },
          "metadata": {
            "tags": []
          },
          "execution_count": 46
        }
      ]
    },
    {
      "cell_type": "markdown",
      "metadata": {
        "colab_type": "text",
        "id": "NSleubKztMYx"
      },
      "source": [
        "#### Experimentation Results"
      ]
    },
    {
      "cell_type": "code",
      "metadata": {
        "colab_type": "code",
        "outputId": "85e49325-d4f9-4d48-f172-30cfcd81c7b1",
        "id": "71W_sXKwtMYy",
        "colab": {
          "base_uri": "https://localhost:8080/",
          "height": 193
        }
      },
      "source": [
        "result = check_classification(X_train, y_train, X_test, y_test)\n",
        "results.append((experiment_text, result))\n",
        "result"
      ],
      "execution_count": 47,
      "outputs": [
        {
          "output_type": "stream",
          "text": [
            "\n",
            "\n",
            "Best F1 Measure was: 0.9208 with the Model: CountVectorizer -> RandomForest\n"
          ],
          "name": "stdout"
        },
        {
          "output_type": "execute_result",
          "data": {
            "text/html": [
              "<div>\n",
              "<style scoped>\n",
              "    .dataframe tbody tr th:only-of-type {\n",
              "        vertical-align: middle;\n",
              "    }\n",
              "\n",
              "    .dataframe tbody tr th {\n",
              "        vertical-align: top;\n",
              "    }\n",
              "\n",
              "    .dataframe thead th {\n",
              "        text-align: right;\n",
              "    }\n",
              "</style>\n",
              "<table border=\"1\" class=\"dataframe\">\n",
              "  <thead>\n",
              "    <tr style=\"text-align: right;\">\n",
              "      <th></th>\n",
              "      <th>MultiNomial Naive Bais</th>\n",
              "      <th>LogisticRegression</th>\n",
              "      <th>SVM</th>\n",
              "      <th>RandomForest</th>\n",
              "      <th>XGBClassifier</th>\n",
              "    </tr>\n",
              "    <tr>\n",
              "      <th>Vectorizer</th>\n",
              "      <th></th>\n",
              "      <th></th>\n",
              "      <th></th>\n",
              "      <th></th>\n",
              "      <th></th>\n",
              "    </tr>\n",
              "  </thead>\n",
              "  <tbody>\n",
              "    <tr>\n",
              "      <th>CountVectorizer</th>\n",
              "      <td>0.6238</td>\n",
              "      <td>0.8218</td>\n",
              "      <td>0.7624</td>\n",
              "      <td>0.9208</td>\n",
              "      <td>0.8713</td>\n",
              "    </tr>\n",
              "    <tr>\n",
              "      <th>TfIdFVectorize</th>\n",
              "      <td>0.6634</td>\n",
              "      <td>0.6832</td>\n",
              "      <td>0.7129</td>\n",
              "      <td>0.8614</td>\n",
              "      <td>0.7822</td>\n",
              "    </tr>\n",
              "  </tbody>\n",
              "</table>\n",
              "</div>"
            ],
            "text/plain": [
              "                MultiNomial Naive Bais  ... XGBClassifier\n",
              "Vectorizer                              ...              \n",
              "CountVectorizer                 0.6238  ...        0.8713\n",
              "TfIdFVectorize                  0.6634  ...        0.7822\n",
              "\n",
              "[2 rows x 5 columns]"
            ]
          },
          "metadata": {
            "tags": []
          },
          "execution_count": 47
        }
      ]
    },
    {
      "cell_type": "markdown",
      "metadata": {
        "id": "Vy8gC2iBlXBk",
        "colab_type": "text"
      },
      "source": [
        "### Experiment 4: word\\_tag#\\${$word_i$}_\\${$( q, k, a )$}\n",
        "With Question, Key, Answer Tagging"
      ]
    },
    {
      "cell_type": "code",
      "metadata": {
        "id": "J-UWTv7elEtb",
        "colab_type": "code",
        "colab": {}
      },
      "source": [
        "experiment_text = \"Tagging word with q, k, a example: word_tag#{word_i}_{q/k/a}\""
      ],
      "execution_count": 0,
      "outputs": []
    },
    {
      "cell_type": "markdown",
      "metadata": {
        "id": "-f1efJSLKSZD",
        "colab_type": "text"
      },
      "source": [
        "#### Preprocessing"
      ]
    },
    {
      "cell_type": "code",
      "metadata": {
        "id": "opByrn1GllLF",
        "colab_type": "code",
        "colab": {
          "base_uri": "https://localhost:8080/",
          "height": 34
        },
        "outputId": "edb83b9b-df31-4f3f-f258-1b1ef7496424"
      },
      "source": [
        "def add_word_tag_template(text, tag):\n",
        "    tokens = nlp(text)\n",
        "    text = []\n",
        "    for token in tokens:\n",
        "        text.append(\"word_tag#{}_{}\".format(token.text, tag))\n",
        "    \n",
        "    return \" \".join(text)\n",
        "\n",
        "add_word_tag_template(\"test sentence\", \"q\")"
      ],
      "execution_count": 49,
      "outputs": [
        {
          "output_type": "execute_result",
          "data": {
            "text/plain": [
              "'word_tag#test_q word_tag#sentence_q'"
            ]
          },
          "metadata": {
            "tags": []
          },
          "execution_count": 49
        }
      ]
    },
    {
      "cell_type": "code",
      "metadata": {
        "id": "TeZ3ae6Vfkcb",
        "colab_type": "code",
        "colab": {}
      },
      "source": [
        "X_train = X_train_orig_dataset[\"Question\"].apply(lambda x: add_word_tag_template(x, \"q\")) + \" \" + X_train_orig_dataset[\"key\"].apply(lambda x: add_word_tag_template(x, \"k\")) + \" \" + X_train_orig_dataset[\"answer\"].apply(lambda x: add_word_tag_template(x, \"a\"))\n",
        "y_train = y_train_orig_dataset\n",
        "X_test = X_test_orig_dataset[\"Question\"].apply(lambda x: add_word_tag_template(x, \"q\")) + \" \" + X_test_orig_dataset[\"key\"].apply(lambda x: add_word_tag_template(x, \"k\")) + \" \" + X_test_orig_dataset[\"answer\"].apply(lambda x: add_word_tag_template(x, \"a\"))\n",
        "y_test = y_test_orig_dataset"
      ],
      "execution_count": 0,
      "outputs": []
    },
    {
      "cell_type": "markdown",
      "metadata": {
        "id": "a12Pz769Ke3E",
        "colab_type": "text"
      },
      "source": [
        "#### Input Samples"
      ]
    },
    {
      "cell_type": "code",
      "metadata": {
        "id": "c1W-bvyAqDuS",
        "colab_type": "code",
        "colab": {
          "base_uri": "https://localhost:8080/",
          "height": 122
        },
        "outputId": "69d34604-ffb0-454d-86ed-564022832bed"
      },
      "source": [
        "get_input_samples(X_train, y_train)"
      ],
      "execution_count": 51,
      "outputs": [
        {
          "output_type": "execute_result",
          "data": {
            "text/plain": [
              "[\"word_tag#we_q word_tag#/_q word_tag#not_q word_tag#/_q word_tag#watch_q word_tag#tv_q word_tag#at_q word_tag#the_q word_tag#moment_q word_tag#not_k word_tag#watch_k word_tag#we_a word_tag#are_a word_tag#n't_a word_tag#watching_a word_tag#tv_a word_tag#at_a word_tag#the_a word_tag#moment_a word_tag#._a --> ['verb+ing'] \",\n",
              " \"word_tag#they_q word_tag#/_q word_tag#not_q word_tag#/_q word_tag#have_q word_tag#a_q word_tag#car_q word_tag#not_k word_tag#they_a word_tag#do_a word_tag#n't_a word_tag#have_a word_tag#a_a word_tag#car_a word_tag#._a --> ['do/does'] \",\n",
              " \"word_tag#john_q word_tag#/_q word_tag#come_q word_tag#from_q word_tag#new_q word_tag#zealand_q word_tag#?_q word_tag#come_k word_tag#does_a word_tag#john_a word_tag#come_a word_tag#from_a word_tag#new_a word_tag#zealand_a word_tag#?_a --> ['do/does'] \",\n",
              " \"word_tag#the_q word_tag#house_q word_tag#has_q word_tag#been_q word_tag#__q word_tag#._q word_tag#sell_k word_tag#the_a word_tag#house_a word_tag#has_a word_tag#been_a word_tag#sold_a word_tag#._a --> ['irregular verb'] \",\n",
              " \"word_tag#mr_q word_tag#._q word_tag#blue_q word_tag#/_q word_tag#not_q word_tag#/_q word_tag#drink_q word_tag#coffee_q word_tag#in_q word_tag#the_q word_tag#library_q word_tag#when_q word_tag#the_q word_tag#murder_q word_tag#happened_q word_tag#not_k word_tag#drink_k word_tag#mr_a word_tag#._a word_tag#blue_a word_tag#was_a word_tag#n't_a word_tag#drinking_a word_tag#coffee_a word_tag#in_a word_tag#the_a word_tag#library_a word_tag#._a --> ['verb+ing'] \"]"
            ]
          },
          "metadata": {
            "tags": []
          },
          "execution_count": 51
        }
      ]
    },
    {
      "cell_type": "markdown",
      "metadata": {
        "id": "q1EGs5cJKib5",
        "colab_type": "text"
      },
      "source": [
        "#### Experimentation Results"
      ]
    },
    {
      "cell_type": "code",
      "metadata": {
        "id": "w6ej2sPJnqeg",
        "colab_type": "code",
        "colab": {
          "base_uri": "https://localhost:8080/",
          "height": 193
        },
        "outputId": "34079ac3-ea58-4e50-8601-6051590c6ea1"
      },
      "source": [
        "result = check_classification(X_train, y_train, X_test, y_test)\n",
        "results.append((experiment_text, result))\n",
        "result"
      ],
      "execution_count": 52,
      "outputs": [
        {
          "output_type": "stream",
          "text": [
            "\n",
            "\n",
            "Best F1 Measure was: 0.9802 with the Model: CountVectorizer -> XGBClassifier\n"
          ],
          "name": "stdout"
        },
        {
          "output_type": "execute_result",
          "data": {
            "text/html": [
              "<div>\n",
              "<style scoped>\n",
              "    .dataframe tbody tr th:only-of-type {\n",
              "        vertical-align: middle;\n",
              "    }\n",
              "\n",
              "    .dataframe tbody tr th {\n",
              "        vertical-align: top;\n",
              "    }\n",
              "\n",
              "    .dataframe thead th {\n",
              "        text-align: right;\n",
              "    }\n",
              "</style>\n",
              "<table border=\"1\" class=\"dataframe\">\n",
              "  <thead>\n",
              "    <tr style=\"text-align: right;\">\n",
              "      <th></th>\n",
              "      <th>MultiNomial Naive Bais</th>\n",
              "      <th>LogisticRegression</th>\n",
              "      <th>SVM</th>\n",
              "      <th>RandomForest</th>\n",
              "      <th>XGBClassifier</th>\n",
              "    </tr>\n",
              "    <tr>\n",
              "      <th>Vectorizer</th>\n",
              "      <th></th>\n",
              "      <th></th>\n",
              "      <th></th>\n",
              "      <th></th>\n",
              "      <th></th>\n",
              "    </tr>\n",
              "  </thead>\n",
              "  <tbody>\n",
              "    <tr>\n",
              "      <th>CountVectorizer</th>\n",
              "      <td>0.8119</td>\n",
              "      <td>0.9505</td>\n",
              "      <td>0.8812</td>\n",
              "      <td>0.9604</td>\n",
              "      <td>0.9802</td>\n",
              "    </tr>\n",
              "    <tr>\n",
              "      <th>TfIdFVectorize</th>\n",
              "      <td>0.7525</td>\n",
              "      <td>0.8713</td>\n",
              "      <td>0.8317</td>\n",
              "      <td>0.8812</td>\n",
              "      <td>0.9505</td>\n",
              "    </tr>\n",
              "  </tbody>\n",
              "</table>\n",
              "</div>"
            ],
            "text/plain": [
              "                MultiNomial Naive Bais  ... XGBClassifier\n",
              "Vectorizer                              ...              \n",
              "CountVectorizer                 0.8119  ...        0.9802\n",
              "TfIdFVectorize                  0.7525  ...        0.9505\n",
              "\n",
              "[2 rows x 5 columns]"
            ]
          },
          "metadata": {
            "tags": []
          },
          "execution_count": 52
        }
      ]
    },
    {
      "cell_type": "markdown",
      "metadata": {
        "id": "vDU5XC8Dor12",
        "colab_type": "text"
      },
      "source": [
        "### Experiment 4: word_pos_tag#\\${$word_i$}_\\${$pos_i$}_{(q, k, a)}\n",
        "POS Tagger with q,k,a tagging"
      ]
    },
    {
      "cell_type": "code",
      "metadata": {
        "id": "VFncx2V6lY89",
        "colab_type": "code",
        "colab": {}
      },
      "source": [
        "experiment_text = \"Adding POS Tagging and qka tagging example: word_pos_tag#{word_i}_{pos_i}_{(q, k, a)}\""
      ],
      "execution_count": 0,
      "outputs": []
    },
    {
      "cell_type": "markdown",
      "metadata": {
        "id": "rmGrSYUcPaIu",
        "colab_type": "text"
      },
      "source": [
        "#### Preprocessing"
      ]
    },
    {
      "cell_type": "code",
      "metadata": {
        "id": "Jjmq0Mgknvas",
        "colab_type": "code",
        "colab": {
          "base_uri": "https://localhost:8080/",
          "height": 34
        },
        "outputId": "bffe7fda-e693-4924-98f4-9025dc588b4d"
      },
      "source": [
        "def add_word_pos_tag_template(text, tag):\n",
        "    tokens = nlp(text)\n",
        "    text = []\n",
        "    for token in tokens:\n",
        "        text.append(\"word_pos_tag#{}_{}_{}\".format(token.text, token.tag_, tag))\n",
        "\n",
        "    return \" \".join(text)\n",
        "\n",
        "add_word_pos_tag_template(\"this is test example\", \"a\")"
      ],
      "execution_count": 54,
      "outputs": [
        {
          "output_type": "execute_result",
          "data": {
            "text/plain": [
              "'word_pos_tag#this_DT_a word_pos_tag#is_VBZ_a word_pos_tag#test_NN_a word_pos_tag#example_NN_a'"
            ]
          },
          "metadata": {
            "tags": []
          },
          "execution_count": 54
        }
      ]
    },
    {
      "cell_type": "code",
      "metadata": {
        "id": "rbh5RGT3qgdz",
        "colab_type": "code",
        "colab": {}
      },
      "source": [
        "X_train = X_train_orig_dataset[\"Question\"].apply(lambda x: add_word_pos_tag_template(x, \"q\")) + \" \" + X_train_orig_dataset[\"key\"].apply(lambda x: add_word_pos_tag_template(x, \"k\")) + \" \" + X_train_orig_dataset[\"answer\"].apply(lambda x: add_word_pos_tag_template(x, \"a\"))\n",
        "y_train = y_train_orig_dataset\n",
        "X_test = X_test_orig_dataset[\"Question\"].apply(lambda x: add_word_pos_tag_template(x, \"q\")) + \" \" + X_test_orig_dataset[\"key\"].apply(lambda x: add_word_pos_tag_template(x, \"k\")) + \" \" + X_test_orig_dataset[\"answer\"].apply(lambda x: add_word_pos_tag_template(x, \"a\"))\n",
        "y_test = y_test_orig_dataset"
      ],
      "execution_count": 0,
      "outputs": []
    },
    {
      "cell_type": "markdown",
      "metadata": {
        "id": "OBc_wsYPPcYa",
        "colab_type": "text"
      },
      "source": [
        "#### Input Samples"
      ]
    },
    {
      "cell_type": "code",
      "metadata": {
        "id": "o9irVtr7Ph3F",
        "colab_type": "code",
        "colab": {
          "base_uri": "https://localhost:8080/",
          "height": 122
        },
        "outputId": "79be13a2-ee8f-4753-98f5-46fcea7c12a3"
      },
      "source": [
        "get_input_samples(X_train, y_train)"
      ],
      "execution_count": 56,
      "outputs": [
        {
          "output_type": "execute_result",
          "data": {
            "text/plain": [
              "[\"word_pos_tag#i_PRP_q word_pos_tag#__NNP_q word_pos_tag#a_DT_q word_pos_tag#new_JJ_q word_pos_tag#song_NN_q word_pos_tag#on_IN_q word_pos_tag#the_DT_q word_pos_tag#radio_NN_q word_pos_tag#._._q word_pos_tag# __SP_k word_pos_tag#hear_NNP_k word_pos_tag# __SP_a word_pos_tag#i_PRP_a word_pos_tag#heard_VBD_a word_pos_tag#a_DT_a word_pos_tag#new_JJ_a word_pos_tag#song_NN_a word_pos_tag#on_IN_a word_pos_tag#the_DT_a word_pos_tag#radio_NN_a word_pos_tag#._._a --> ['irregular verb'] \",\n",
              " \"word_pos_tag#i_PRP_q word_pos_tag#'d_MD_q word_pos_tag#__NNP_q word_pos_tag#a_DT_q word_pos_tag#lovely_JJ_q word_pos_tag#new_JJ_q word_pos_tag#bike_NN_q word_pos_tag#for_IN_q word_pos_tag#my_PRP$_q word_pos_tag#birthday_NN_q word_pos_tag#,_,_q word_pos_tag#so_CC_q word_pos_tag#i_PRP_q word_pos_tag#was_VBD_q word_pos_tag#keen_JJ_q word_pos_tag#to_TO_q word_pos_tag#try_VB_q word_pos_tag#it_PRP_q word_pos_tag#._._q word_pos_tag#get_VB_k word_pos_tag#i_PRP_a word_pos_tag#'d_MD_a word_pos_tag#got_VBN_a word_pos_tag#a_DT_a word_pos_tag#lovely_JJ_a word_pos_tag#new_JJ_a word_pos_tag#bike_NN_a word_pos_tag#for_IN_a word_pos_tag#my_PRP$_a word_pos_tag#birthday_NN_a word_pos_tag#,_,_a word_pos_tag#so_CC_a word_pos_tag#i_PRP_a word_pos_tag#was_VBD_a word_pos_tag#keen_JJ_a word_pos_tag#to_TO_a word_pos_tag#try_VB_a word_pos_tag#it_PRP_a word_pos_tag#._._a --> ['irregular verb'] \",\n",
              " \"word_pos_tag#why_WRB_q word_pos_tag#have_VBP_q word_pos_tag#you_PRP_q word_pos_tag#__NNP_q word_pos_tag#up_RP_q word_pos_tag#?_._q word_pos_tag#are_VBP_q word_pos_tag#we_PRP_q word_pos_tag#leaving_VBG_q word_pos_tag#?_._q word_pos_tag#stand_VB_k word_pos_tag#why_WRB_a word_pos_tag#have_VBP_a word_pos_tag#you_PRP_a word_pos_tag#stood_VBN_a word_pos_tag#up_RP_a word_pos_tag#?_._a word_pos_tag#are_VBP_a word_pos_tag#we_PRP_a word_pos_tag#leaving_VBG_a word_pos_tag#?_._a --> ['irregular verb'] \",\n",
              " \"word_pos_tag#he_PRP_q word_pos_tag#had_VBD_q word_pos_tag#__NNP_q word_pos_tag#6_CD_q word_pos_tag#miles_NNS_q word_pos_tag#when_WRB_q word_pos_tag#he_PRP_q word_pos_tag#hurt_VBD_q word_pos_tag#his_PRP$_q word_pos_tag#ankle_NN_q word_pos_tag#._._q word_pos_tag#run_VB_k word_pos_tag#he_PRP_a word_pos_tag#had_VBD_a word_pos_tag#run_VBN_a word_pos_tag#6_CD_a word_pos_tag#miles_NNS_a word_pos_tag#when_WRB_a word_pos_tag#he_PRP_a word_pos_tag#hurt_VBD_a word_pos_tag#his_PRP$_a word_pos_tag#ankle_NN_a word_pos_tag#._._a --> ['irregular verb'] \",\n",
              " \"word_pos_tag#you_PRP_q word_pos_tag#__NNP_q word_pos_tag#a_DT_q word_pos_tag#doctor_NN_q word_pos_tag#._._q word_pos_tag#be_VB_k word_pos_tag#you_PRP_a word_pos_tag#are_VBP_a word_pos_tag#a_DT_a word_pos_tag#doctor_NN_a word_pos_tag#._._a --> ['verb be'] \"]"
            ]
          },
          "metadata": {
            "tags": []
          },
          "execution_count": 56
        }
      ]
    },
    {
      "cell_type": "markdown",
      "metadata": {
        "id": "0iieMsmXPeGA",
        "colab_type": "text"
      },
      "source": [
        "#### Experimentation Results"
      ]
    },
    {
      "cell_type": "code",
      "metadata": {
        "id": "NOedaRu5qo9p",
        "colab_type": "code",
        "colab": {
          "base_uri": "https://localhost:8080/",
          "height": 193
        },
        "outputId": "3e63b031-7554-43d2-dad6-4d0d9460208c"
      },
      "source": [
        "result = check_classification(X_train, y_train, X_test, y_test)\n",
        "results.append((experiment_text, result))\n",
        "result"
      ],
      "execution_count": 57,
      "outputs": [
        {
          "output_type": "stream",
          "text": [
            "\n",
            "\n",
            "Best F1 Measure was: 0.9307 with the Model: CountVectorizer -> LogisticRegression\n"
          ],
          "name": "stdout"
        },
        {
          "output_type": "execute_result",
          "data": {
            "text/html": [
              "<div>\n",
              "<style scoped>\n",
              "    .dataframe tbody tr th:only-of-type {\n",
              "        vertical-align: middle;\n",
              "    }\n",
              "\n",
              "    .dataframe tbody tr th {\n",
              "        vertical-align: top;\n",
              "    }\n",
              "\n",
              "    .dataframe thead th {\n",
              "        text-align: right;\n",
              "    }\n",
              "</style>\n",
              "<table border=\"1\" class=\"dataframe\">\n",
              "  <thead>\n",
              "    <tr style=\"text-align: right;\">\n",
              "      <th></th>\n",
              "      <th>MultiNomial Naive Bais</th>\n",
              "      <th>LogisticRegression</th>\n",
              "      <th>SVM</th>\n",
              "      <th>RandomForest</th>\n",
              "      <th>XGBClassifier</th>\n",
              "    </tr>\n",
              "    <tr>\n",
              "      <th>Vectorizer</th>\n",
              "      <th></th>\n",
              "      <th></th>\n",
              "      <th></th>\n",
              "      <th></th>\n",
              "      <th></th>\n",
              "    </tr>\n",
              "  </thead>\n",
              "  <tbody>\n",
              "    <tr>\n",
              "      <th>CountVectorizer</th>\n",
              "      <td>0.8119</td>\n",
              "      <td>0.9307</td>\n",
              "      <td>0.8614</td>\n",
              "      <td>0.9307</td>\n",
              "      <td>0.9307</td>\n",
              "    </tr>\n",
              "    <tr>\n",
              "      <th>TfIdFVectorize</th>\n",
              "      <td>0.7822</td>\n",
              "      <td>0.8416</td>\n",
              "      <td>0.8218</td>\n",
              "      <td>0.8515</td>\n",
              "      <td>0.9307</td>\n",
              "    </tr>\n",
              "  </tbody>\n",
              "</table>\n",
              "</div>"
            ],
            "text/plain": [
              "                MultiNomial Naive Bais  ... XGBClassifier\n",
              "Vectorizer                              ...              \n",
              "CountVectorizer                 0.8119  ...        0.9307\n",
              "TfIdFVectorize                  0.7822  ...        0.9307\n",
              "\n",
              "[2 rows x 5 columns]"
            ]
          },
          "metadata": {
            "tags": []
          },
          "execution_count": 57
        }
      ]
    },
    {
      "cell_type": "markdown",
      "metadata": {
        "colab_type": "text",
        "id": "nShtYSvors-t"
      },
      "source": [
        "### Experiment 5: word#{$word_i$} word_pos_tag#\\${$word_i$}_\\${$pos_i$}_{(q, k, a)}"
      ]
    },
    {
      "cell_type": "code",
      "metadata": {
        "colab_type": "code",
        "id": "lE6E87DUrs-2",
        "colab": {}
      },
      "source": [
        "experiment_text = \"Combining word and word_pos_tags\""
      ],
      "execution_count": 0,
      "outputs": []
    },
    {
      "cell_type": "markdown",
      "metadata": {
        "colab_type": "text",
        "id": "gZb_vq0krs--"
      },
      "source": [
        "#### Preprocessing"
      ]
    },
    {
      "cell_type": "code",
      "metadata": {
        "colab_type": "code",
        "outputId": "6c0a3569-54c0-4420-c84c-3212678a0b64",
        "id": "5hdPuMjArs--",
        "colab": {
          "base_uri": "https://localhost:8080/",
          "height": 54
        }
      },
      "source": [
        "def add_word_and_word_pos_tag_template(text, tag):\n",
        "    tokens = nlp(text)\n",
        "    text = []\n",
        "    for token in tokens:\n",
        "        text.append(\"word#{} word_pos_tag##{}_{}_{}\".format(token.text, token.text, token.tag_, tag))\n",
        "\n",
        "    return \" \".join(text)\n",
        "\n",
        "add_word_and_word_pos_tag_template(\"This is a test sentence! We will see the difference between playing and played\", \"q\")"
      ],
      "execution_count": 59,
      "outputs": [
        {
          "output_type": "execute_result",
          "data": {
            "text/plain": [
              "'word#This word_pos_tag##This_DT_q word#is word_pos_tag##is_VBZ_q word#a word_pos_tag##a_DT_q word#test word_pos_tag##test_NN_q word#sentence word_pos_tag##sentence_NN_q word#! word_pos_tag##!_._q word#We word_pos_tag##We_PRP_q word#will word_pos_tag##will_MD_q word#see word_pos_tag##see_VB_q word#the word_pos_tag##the_DT_q word#difference word_pos_tag##difference_NN_q word#between word_pos_tag##between_IN_q word#playing word_pos_tag##playing_VBG_q word#and word_pos_tag##and_CC_q word#played word_pos_tag##played_VBD_q'"
            ]
          },
          "metadata": {
            "tags": []
          },
          "execution_count": 59
        }
      ]
    },
    {
      "cell_type": "code",
      "metadata": {
        "colab_type": "code",
        "id": "ZOvu4Kwgrs_C",
        "colab": {}
      },
      "source": [
        "X_train = X_train_orig_dataset[\"Question\"].apply(lambda x: add_word_and_word_pos_tag_template(x, \"q\")) + \" \" + X_train_orig_dataset[\"key\"].apply(lambda x: add_word_and_word_pos_tag_template(x, \"k\")) + \" \" + X_train_orig_dataset[\"answer\"].apply(lambda x: add_word_and_word_pos_tag_template(x, \"a\"))\n",
        "y_train = y_train_orig_dataset\n",
        "X_test = X_test_orig_dataset[\"Question\"].apply(lambda x: add_word_and_word_pos_tag_template(x, \"q\")) + \" \" + X_test_orig_dataset[\"key\"].apply(lambda x: add_word_and_word_pos_tag_template(x, \"k\")) + \" \" + X_test_orig_dataset[\"answer\"].apply(lambda x: add_word_and_word_pos_tag_template(x, \"a\"))\n",
        "y_test = y_test_orig_dataset"
      ],
      "execution_count": 0,
      "outputs": []
    },
    {
      "cell_type": "markdown",
      "metadata": {
        "colab_type": "text",
        "id": "saw9iWejrs_F"
      },
      "source": [
        "#### Input Samples"
      ]
    },
    {
      "cell_type": "code",
      "metadata": {
        "colab_type": "code",
        "outputId": "1f705552-1015-42cc-e27c-967c8232e344",
        "id": "4_WHZNtKrs_G",
        "colab": {
          "base_uri": "https://localhost:8080/",
          "height": 122
        }
      },
      "source": [
        "get_input_samples(X_train, y_train)"
      ],
      "execution_count": 62,
      "outputs": [
        {
          "output_type": "execute_result",
          "data": {
            "text/plain": [
              "[\"word#it word_pos_tag##it_PRP_q word#_ word_pos_tag##__NNP_q word#cold word_pos_tag##cold_JJ_q word#last word_pos_tag##last_JJ_q word#night word_pos_tag##night_NN_q word#. word_pos_tag##._._q word#be word_pos_tag##be_VB_k word#it word_pos_tag##it_PRP_a word#was word_pos_tag##was_VBD_a word#cold word_pos_tag##cold_JJ_a word#last word_pos_tag##last_JJ_a word#night word_pos_tag##night_NN_a word#. word_pos_tag##._._a --> ['irregular verb'] \",\n",
              " \"word#he word_pos_tag##he_PRP_q word#_ word_pos_tag##__NNP_q word#in word_pos_tag##in_IN_q word#the word_pos_tag##the_DT_q word#library word_pos_tag##library_NN_q word#. word_pos_tag##._._q word#study word_pos_tag##study_NN_k word#he word_pos_tag##he_PRP_a word#will word_pos_tag##will_MD_a word#be word_pos_tag##be_VB_a word#studying word_pos_tag##studying_VBG_a word#in word_pos_tag##in_IN_a word#the word_pos_tag##the_DT_a word#library word_pos_tag##library_NN_a word#. word_pos_tag##._._a --> ['will be verb+ing'] \",\n",
              " \"word#he word_pos_tag##he_PRP_q word#/ word_pos_tag##/_SYM_q word#work word_pos_tag##work_VBP_q word#in word_pos_tag##in_IN_q word#a word_pos_tag##a_DT_q word#restaurant word_pos_tag##restaurant_NN_q word#work word_pos_tag##work_NN_k word#he word_pos_tag##he_PRP_a word#works word_pos_tag##works_VBZ_a word#in word_pos_tag##in_IN_a word#a word_pos_tag##a_DT_a word#restaurant word_pos_tag##restaurant_NN_a word#. word_pos_tag##._._a --> ['verb(s/es)'] \",\n",
              " \"word#lucy word_pos_tag##lucy_NNP_q word#/ word_pos_tag##/_SYM_q word#study word_pos_tag##study_NN_q word#history word_pos_tag##history_NN_q word#? word_pos_tag##?_._q word#study word_pos_tag##study_NN_k word#does word_pos_tag##does_VBZ_a word#lucy word_pos_tag##lucy_NNP_a word#study word_pos_tag##study_VB_a word#history word_pos_tag##history_NN_a word#? word_pos_tag##?_._a --> ['do/does'] \",\n",
              " \"word#_ word_pos_tag##__NNP_q word#tomorrow word_pos_tag##tomorrow_NN_q word#? word_pos_tag##?_._q word#they word_pos_tag##they_PRP_k word#come word_pos_tag##come_VBP_k word#will word_pos_tag##will_MD_a word#they word_pos_tag##they_PRP_a word#come word_pos_tag##come_VB_a word#tomorrow word_pos_tag##tomorrow_NN_a word#? word_pos_tag##?_._a --> ['will + first form of verb'] \"]"
            ]
          },
          "metadata": {
            "tags": []
          },
          "execution_count": 62
        }
      ]
    },
    {
      "cell_type": "markdown",
      "metadata": {
        "colab_type": "text",
        "id": "PzyGBIYSrs_J"
      },
      "source": [
        "#### Experimentation Results"
      ]
    },
    {
      "cell_type": "code",
      "metadata": {
        "colab_type": "code",
        "outputId": "809a84fe-577e-406f-c92d-cf577dc5e066",
        "id": "vZNb5B2vrs_L",
        "colab": {
          "base_uri": "https://localhost:8080/",
          "height": 193
        }
      },
      "source": [
        "result = check_classification(X_train, y_train, X_test, y_test)\n",
        "results.append((experiment_text, result))\n",
        "result"
      ],
      "execution_count": 63,
      "outputs": [
        {
          "output_type": "stream",
          "text": [
            "\n",
            "\n",
            "Best F1 Measure was: 0.9703 with the Model: CountVectorizer -> XGBClassifier\n"
          ],
          "name": "stdout"
        },
        {
          "output_type": "execute_result",
          "data": {
            "text/html": [
              "<div>\n",
              "<style scoped>\n",
              "    .dataframe tbody tr th:only-of-type {\n",
              "        vertical-align: middle;\n",
              "    }\n",
              "\n",
              "    .dataframe tbody tr th {\n",
              "        vertical-align: top;\n",
              "    }\n",
              "\n",
              "    .dataframe thead th {\n",
              "        text-align: right;\n",
              "    }\n",
              "</style>\n",
              "<table border=\"1\" class=\"dataframe\">\n",
              "  <thead>\n",
              "    <tr style=\"text-align: right;\">\n",
              "      <th></th>\n",
              "      <th>MultiNomial Naive Bais</th>\n",
              "      <th>LogisticRegression</th>\n",
              "      <th>SVM</th>\n",
              "      <th>RandomForest</th>\n",
              "      <th>XGBClassifier</th>\n",
              "    </tr>\n",
              "    <tr>\n",
              "      <th>Vectorizer</th>\n",
              "      <th></th>\n",
              "      <th></th>\n",
              "      <th></th>\n",
              "      <th></th>\n",
              "      <th></th>\n",
              "    </tr>\n",
              "  </thead>\n",
              "  <tbody>\n",
              "    <tr>\n",
              "      <th>CountVectorizer</th>\n",
              "      <td>0.7525</td>\n",
              "      <td>0.9307</td>\n",
              "      <td>0.8416</td>\n",
              "      <td>0.9505</td>\n",
              "      <td>0.9703</td>\n",
              "    </tr>\n",
              "    <tr>\n",
              "      <th>TfIdFVectorize</th>\n",
              "      <td>0.7129</td>\n",
              "      <td>0.8020</td>\n",
              "      <td>0.7723</td>\n",
              "      <td>0.8911</td>\n",
              "      <td>0.9208</td>\n",
              "    </tr>\n",
              "  </tbody>\n",
              "</table>\n",
              "</div>"
            ],
            "text/plain": [
              "                MultiNomial Naive Bais  ... XGBClassifier\n",
              "Vectorizer                              ...              \n",
              "CountVectorizer                 0.7525  ...        0.9703\n",
              "TfIdFVectorize                  0.7129  ...        0.9208\n",
              "\n",
              "[2 rows x 5 columns]"
            ]
          },
          "metadata": {
            "tags": []
          },
          "execution_count": 63
        }
      ]
    },
    {
      "cell_type": "markdown",
      "metadata": {
        "colab_type": "text",
        "id": "dzzNZVRqa0pr"
      },
      "source": [
        "### Experiment 6: bigram#{$word_i$}_{$word_{i+1}$}"
      ]
    },
    {
      "cell_type": "code",
      "metadata": {
        "colab_type": "code",
        "id": "rDAhuemva0pt",
        "colab": {}
      },
      "source": [
        "experiment_text = \"Adding bigrams of words bigram#{word_i}_{word_i+1}\""
      ],
      "execution_count": 0,
      "outputs": []
    },
    {
      "cell_type": "markdown",
      "metadata": {
        "colab_type": "text",
        "id": "j0R36zrUa0pv"
      },
      "source": [
        "#### Preprocessing"
      ]
    },
    {
      "cell_type": "code",
      "metadata": {
        "colab_type": "code",
        "outputId": "b5286750-c719-48d4-93d3-e32e0773612c",
        "id": "reW8_HD_a0pw",
        "colab": {
          "base_uri": "https://localhost:8080/",
          "height": 54
        }
      },
      "source": [
        "def add_ngram_template(text, n=2):\n",
        "    tokens = ngrams(text, n)\n",
        "    text = []\n",
        "    for token in tokens:\n",
        "        text.append(\"ngram#{}\".format(\"_\".join(token)))\n",
        "\n",
        "    return \" \".join(text)\n",
        "\n",
        "add_bigram_template(\"This is a test sentence! We will see the difference between playing and played\")"
      ],
      "execution_count": 73,
      "outputs": [
        {
          "output_type": "execute_result",
          "data": {
            "text/plain": [
              "'bigram#This_is bigram#is_a bigram#a_test bigram#test_sentence bigram#sentence_! bigram#!_We bigram#We_will bigram#will_see bigram#see_the bigram#the_difference bigram#difference_between bigram#between_playing bigram#playing_and bigram#and_played'"
            ]
          },
          "metadata": {
            "tags": []
          },
          "execution_count": 73
        }
      ]
    },
    {
      "cell_type": "code",
      "metadata": {
        "colab_type": "code",
        "id": "JD6zyi8aa0py",
        "colab": {}
      },
      "source": [
        "X_train = X_train_orig_dataset[\"Question\"].apply(lambda x: add_ngram_template(x)) + \" \" + X_train_orig_dataset[\"key\"].apply(lambda x: add_ngram_template(x)) + \" \" + X_train_orig_dataset[\"answer\"].apply(lambda x: add_ngram_template(x))\n",
        "y_train = y_train_orig_dataset\n",
        "X_test = X_test_orig_dataset[\"Question\"].apply(lambda x: add_ngram_template(x)) + \" \" + X_test_orig_dataset[\"key\"].apply(lambda x: add_ngram_template(x)) + \" \" + X_test_orig_dataset[\"answer\"].apply(lambda x: add_ngram_template(x))\n",
        "y_test = y_test_orig_dataset"
      ],
      "execution_count": 0,
      "outputs": []
    },
    {
      "cell_type": "markdown",
      "metadata": {
        "colab_type": "text",
        "id": "PPJ4-6q9a0p0"
      },
      "source": [
        "#### Input Samples"
      ]
    },
    {
      "cell_type": "code",
      "metadata": {
        "colab_type": "code",
        "outputId": "606163a9-ddb4-44e1-82b1-b4df925d0372",
        "id": "HOtOGTg1a0p3",
        "colab": {
          "base_uri": "https://localhost:8080/",
          "height": 122
        }
      },
      "source": [
        "get_input_samples(X_train, y_train)"
      ],
      "execution_count": 75,
      "outputs": [
        {
          "output_type": "execute_result",
          "data": {
            "text/plain": [
              "[\"ngram#the_maid ngram#maid_/ ngram#/_not ngram#not_/ ngram#/_clean ngram#clean_the ngram#the_bedrooms ngram#bedrooms_when ngram#when_the ngram#the_murder ngram#murder_happened ngram#not_clean ngram#the_maid ngram#maid_was ngram#was_n't ngram#n't_cleaning ngram#cleaning_the ngram#the_bedrooms ngram#bedrooms_. --> ['verb+ing'] \",\n",
              " \"ngram#john_/ ngram#/_come ngram#come_from ngram#from_new ngram#new_zealand ngram#zealand_? ngram#come ngram#does_john ngram#john_come ngram#come_from ngram#from_new ngram#new_zealand ngram#zealand_? --> ['do/does'] \",\n",
              " \"ngram#you_/ ngram#/_come ngram#come_? ngram#come ngram#are_you ngram#you_coming ngram#coming_? --> ['verb+ing'] \",\n",
              " \"ngram#john__ ngram#__lucy ngram#lucy_. ngram#meet ngram#john_will ngram#will_have ngram#have_met ngram#met_lucy ngram#lucy_. --> ['will have verb+3rd form'] \",\n",
              " \"ngram#you__ ngram#__from ngram#from_china ngram#china_. ngram#be ngram#you_are ngram#are_n't ngram#n't_from ngram#from_china ngram#china_. --> ['verb be'] \"]"
            ]
          },
          "metadata": {
            "tags": []
          },
          "execution_count": 75
        }
      ]
    },
    {
      "cell_type": "markdown",
      "metadata": {
        "colab_type": "text",
        "id": "a1qGoTvMa0p5"
      },
      "source": [
        "#### Experimentation Results"
      ]
    },
    {
      "cell_type": "code",
      "metadata": {
        "colab_type": "code",
        "outputId": "6fad0483-f1be-471a-acca-252d232c0b54",
        "id": "OefM3SVha0p6",
        "colab": {
          "base_uri": "https://localhost:8080/",
          "height": 193
        }
      },
      "source": [
        "result = check_classification(X_train, y_train, X_test, y_test)\n",
        "results.append((experiment_text, result))\n",
        "result"
      ],
      "execution_count": 76,
      "outputs": [
        {
          "output_type": "stream",
          "text": [
            "\n",
            "\n",
            "Best F1 Measure was: 0.8119 with the Model: TfIdFVectorize -> RandomForest\n"
          ],
          "name": "stdout"
        },
        {
          "output_type": "execute_result",
          "data": {
            "text/html": [
              "<div>\n",
              "<style scoped>\n",
              "    .dataframe tbody tr th:only-of-type {\n",
              "        vertical-align: middle;\n",
              "    }\n",
              "\n",
              "    .dataframe tbody tr th {\n",
              "        vertical-align: top;\n",
              "    }\n",
              "\n",
              "    .dataframe thead th {\n",
              "        text-align: right;\n",
              "    }\n",
              "</style>\n",
              "<table border=\"1\" class=\"dataframe\">\n",
              "  <thead>\n",
              "    <tr style=\"text-align: right;\">\n",
              "      <th></th>\n",
              "      <th>MultiNomial Naive Bais</th>\n",
              "      <th>LogisticRegression</th>\n",
              "      <th>SVM</th>\n",
              "      <th>RandomForest</th>\n",
              "      <th>XGBClassifier</th>\n",
              "    </tr>\n",
              "    <tr>\n",
              "      <th>Vectorizer</th>\n",
              "      <th></th>\n",
              "      <th></th>\n",
              "      <th></th>\n",
              "      <th></th>\n",
              "      <th></th>\n",
              "    </tr>\n",
              "  </thead>\n",
              "  <tbody>\n",
              "    <tr>\n",
              "      <th>CountVectorizer</th>\n",
              "      <td>0.6931</td>\n",
              "      <td>0.7723</td>\n",
              "      <td>0.6040</td>\n",
              "      <td>0.7921</td>\n",
              "      <td>0.6535</td>\n",
              "    </tr>\n",
              "    <tr>\n",
              "      <th>TfIdFVectorize</th>\n",
              "      <td>0.6634</td>\n",
              "      <td>0.6139</td>\n",
              "      <td>0.5743</td>\n",
              "      <td>0.8119</td>\n",
              "      <td>0.7129</td>\n",
              "    </tr>\n",
              "  </tbody>\n",
              "</table>\n",
              "</div>"
            ],
            "text/plain": [
              "                MultiNomial Naive Bais  ... XGBClassifier\n",
              "Vectorizer                              ...              \n",
              "CountVectorizer                 0.6931  ...        0.6535\n",
              "TfIdFVectorize                  0.6634  ...        0.7129\n",
              "\n",
              "[2 rows x 5 columns]"
            ]
          },
          "metadata": {
            "tags": []
          },
          "execution_count": 76
        }
      ]
    },
    {
      "cell_type": "markdown",
      "metadata": {
        "id": "Bg7EYTlhi_kG",
        "colab_type": "text"
      },
      "source": [
        "# Results"
      ]
    },
    {
      "cell_type": "code",
      "metadata": {
        "id": "J00xqSOAqvQH",
        "colab_type": "code",
        "colab": {
          "base_uri": "https://localhost:8080/",
          "height": 1000
        },
        "outputId": "b5ebe1fd-680c-4f5a-d922-fbeafc1dc0d3"
      },
      "source": [
        "from IPython.display import display, HTML\n",
        "\n",
        "for i, (description, result) in enumerate(results):\n",
        "    print(\"Experiment {}:\".format(i+1))\n",
        "    print(description)\n",
        "    display(HTML(result.to_html()))\n",
        "    print(\"\\n\\n\")"
      ],
      "execution_count": 77,
      "outputs": [
        {
          "output_type": "stream",
          "text": [
            "Experiment 1:\n",
            "Concatenating question + key + answer. like word#word_i\n"
          ],
          "name": "stdout"
        },
        {
          "output_type": "display_data",
          "data": {
            "text/html": [
              "<table border=\"1\" class=\"dataframe\">\n",
              "  <thead>\n",
              "    <tr style=\"text-align: right;\">\n",
              "      <th></th>\n",
              "      <th>MultiNomial Naive Bais</th>\n",
              "      <th>LogisticRegression</th>\n",
              "      <th>SVM</th>\n",
              "      <th>RandomForest</th>\n",
              "      <th>XGBClassifier</th>\n",
              "    </tr>\n",
              "    <tr>\n",
              "      <th>Vectorizer</th>\n",
              "      <th></th>\n",
              "      <th></th>\n",
              "      <th></th>\n",
              "      <th></th>\n",
              "      <th></th>\n",
              "    </tr>\n",
              "  </thead>\n",
              "  <tbody>\n",
              "    <tr>\n",
              "      <th>CountVectorizer</th>\n",
              "      <td>0.7327</td>\n",
              "      <td>0.8812</td>\n",
              "      <td>0.7822</td>\n",
              "      <td>0.9703</td>\n",
              "      <td>0.9703</td>\n",
              "    </tr>\n",
              "    <tr>\n",
              "      <th>TfIdFVectorize</th>\n",
              "      <td>0.6832</td>\n",
              "      <td>0.7228</td>\n",
              "      <td>0.6733</td>\n",
              "      <td>0.9307</td>\n",
              "      <td>0.9406</td>\n",
              "    </tr>\n",
              "  </tbody>\n",
              "</table>"
            ],
            "text/plain": [
              "<IPython.core.display.HTML object>"
            ]
          },
          "metadata": {
            "tags": []
          }
        },
        {
          "output_type": "stream",
          "text": [
            "\n",
            "\n",
            "\n",
            "Experiment 2:\n",
            "Adding Pos Tags along with word word_pos#{word_i}_{pos_i} + k#tags + a#tags Unigrams\n"
          ],
          "name": "stdout"
        },
        {
          "output_type": "display_data",
          "data": {
            "text/html": [
              "<table border=\"1\" class=\"dataframe\">\n",
              "  <thead>\n",
              "    <tr style=\"text-align: right;\">\n",
              "      <th></th>\n",
              "      <th>MultiNomial Naive Bais</th>\n",
              "      <th>LogisticRegression</th>\n",
              "      <th>SVM</th>\n",
              "      <th>RandomForest</th>\n",
              "      <th>XGBClassifier</th>\n",
              "    </tr>\n",
              "    <tr>\n",
              "      <th>Vectorizer</th>\n",
              "      <th></th>\n",
              "      <th></th>\n",
              "      <th></th>\n",
              "      <th></th>\n",
              "      <th></th>\n",
              "    </tr>\n",
              "  </thead>\n",
              "  <tbody>\n",
              "    <tr>\n",
              "      <th>CountVectorizer</th>\n",
              "      <td>0.7129</td>\n",
              "      <td>0.8713</td>\n",
              "      <td>0.6832</td>\n",
              "      <td>0.9505</td>\n",
              "      <td>0.9307</td>\n",
              "    </tr>\n",
              "    <tr>\n",
              "      <th>TfIdFVectorize</th>\n",
              "      <td>0.6040</td>\n",
              "      <td>0.7228</td>\n",
              "      <td>0.6238</td>\n",
              "      <td>0.9406</td>\n",
              "      <td>0.8515</td>\n",
              "    </tr>\n",
              "  </tbody>\n",
              "</table>"
            ],
            "text/plain": [
              "<IPython.core.display.HTML object>"
            ]
          },
          "metadata": {
            "tags": []
          }
        },
        {
          "output_type": "stream",
          "text": [
            "\n",
            "\n",
            "\n",
            "Experiment 3:\n",
            "Classifying based on POS tags pos#{pos_i}\n"
          ],
          "name": "stdout"
        },
        {
          "output_type": "display_data",
          "data": {
            "text/html": [
              "<table border=\"1\" class=\"dataframe\">\n",
              "  <thead>\n",
              "    <tr style=\"text-align: right;\">\n",
              "      <th></th>\n",
              "      <th>MultiNomial Naive Bais</th>\n",
              "      <th>LogisticRegression</th>\n",
              "      <th>SVM</th>\n",
              "      <th>RandomForest</th>\n",
              "      <th>XGBClassifier</th>\n",
              "    </tr>\n",
              "    <tr>\n",
              "      <th>Vectorizer</th>\n",
              "      <th></th>\n",
              "      <th></th>\n",
              "      <th></th>\n",
              "      <th></th>\n",
              "      <th></th>\n",
              "    </tr>\n",
              "  </thead>\n",
              "  <tbody>\n",
              "    <tr>\n",
              "      <th>CountVectorizer</th>\n",
              "      <td>0.7228</td>\n",
              "      <td>0.8614</td>\n",
              "      <td>0.7525</td>\n",
              "      <td>0.9802</td>\n",
              "      <td>0.9406</td>\n",
              "    </tr>\n",
              "    <tr>\n",
              "      <th>TfIdFVectorize</th>\n",
              "      <td>0.6733</td>\n",
              "      <td>0.7327</td>\n",
              "      <td>0.7129</td>\n",
              "      <td>0.9010</td>\n",
              "      <td>0.8812</td>\n",
              "    </tr>\n",
              "  </tbody>\n",
              "</table>"
            ],
            "text/plain": [
              "<IPython.core.display.HTML object>"
            ]
          },
          "metadata": {
            "tags": []
          }
        },
        {
          "output_type": "stream",
          "text": [
            "\n",
            "\n",
            "\n",
            "Experiment 4:\n",
            "Classifying based on POS tags pos#{pos_i}\n"
          ],
          "name": "stdout"
        },
        {
          "output_type": "display_data",
          "data": {
            "text/html": [
              "<table border=\"1\" class=\"dataframe\">\n",
              "  <thead>\n",
              "    <tr style=\"text-align: right;\">\n",
              "      <th></th>\n",
              "      <th>MultiNomial Naive Bais</th>\n",
              "      <th>LogisticRegression</th>\n",
              "      <th>SVM</th>\n",
              "      <th>RandomForest</th>\n",
              "      <th>XGBClassifier</th>\n",
              "    </tr>\n",
              "    <tr>\n",
              "      <th>Vectorizer</th>\n",
              "      <th></th>\n",
              "      <th></th>\n",
              "      <th></th>\n",
              "      <th></th>\n",
              "      <th></th>\n",
              "    </tr>\n",
              "  </thead>\n",
              "  <tbody>\n",
              "    <tr>\n",
              "      <th>CountVectorizer</th>\n",
              "      <td>0.6238</td>\n",
              "      <td>0.8218</td>\n",
              "      <td>0.7624</td>\n",
              "      <td>0.9208</td>\n",
              "      <td>0.8713</td>\n",
              "    </tr>\n",
              "    <tr>\n",
              "      <th>TfIdFVectorize</th>\n",
              "      <td>0.6634</td>\n",
              "      <td>0.6832</td>\n",
              "      <td>0.7129</td>\n",
              "      <td>0.8614</td>\n",
              "      <td>0.7822</td>\n",
              "    </tr>\n",
              "  </tbody>\n",
              "</table>"
            ],
            "text/plain": [
              "<IPython.core.display.HTML object>"
            ]
          },
          "metadata": {
            "tags": []
          }
        },
        {
          "output_type": "stream",
          "text": [
            "\n",
            "\n",
            "\n",
            "Experiment 5:\n",
            "Tagging word with q, k, a example: word_tag#{word_i}_{q/k/a}\n"
          ],
          "name": "stdout"
        },
        {
          "output_type": "display_data",
          "data": {
            "text/html": [
              "<table border=\"1\" class=\"dataframe\">\n",
              "  <thead>\n",
              "    <tr style=\"text-align: right;\">\n",
              "      <th></th>\n",
              "      <th>MultiNomial Naive Bais</th>\n",
              "      <th>LogisticRegression</th>\n",
              "      <th>SVM</th>\n",
              "      <th>RandomForest</th>\n",
              "      <th>XGBClassifier</th>\n",
              "    </tr>\n",
              "    <tr>\n",
              "      <th>Vectorizer</th>\n",
              "      <th></th>\n",
              "      <th></th>\n",
              "      <th></th>\n",
              "      <th></th>\n",
              "      <th></th>\n",
              "    </tr>\n",
              "  </thead>\n",
              "  <tbody>\n",
              "    <tr>\n",
              "      <th>CountVectorizer</th>\n",
              "      <td>0.8119</td>\n",
              "      <td>0.9505</td>\n",
              "      <td>0.8812</td>\n",
              "      <td>0.9604</td>\n",
              "      <td>0.9802</td>\n",
              "    </tr>\n",
              "    <tr>\n",
              "      <th>TfIdFVectorize</th>\n",
              "      <td>0.7525</td>\n",
              "      <td>0.8713</td>\n",
              "      <td>0.8317</td>\n",
              "      <td>0.8812</td>\n",
              "      <td>0.9505</td>\n",
              "    </tr>\n",
              "  </tbody>\n",
              "</table>"
            ],
            "text/plain": [
              "<IPython.core.display.HTML object>"
            ]
          },
          "metadata": {
            "tags": []
          }
        },
        {
          "output_type": "stream",
          "text": [
            "\n",
            "\n",
            "\n",
            "Experiment 6:\n",
            "Adding POS Tagging and qka tagging example: word_pos_tag#{word_i}_{pos_i}_{(q, k, a)}\n"
          ],
          "name": "stdout"
        },
        {
          "output_type": "display_data",
          "data": {
            "text/html": [
              "<table border=\"1\" class=\"dataframe\">\n",
              "  <thead>\n",
              "    <tr style=\"text-align: right;\">\n",
              "      <th></th>\n",
              "      <th>MultiNomial Naive Bais</th>\n",
              "      <th>LogisticRegression</th>\n",
              "      <th>SVM</th>\n",
              "      <th>RandomForest</th>\n",
              "      <th>XGBClassifier</th>\n",
              "    </tr>\n",
              "    <tr>\n",
              "      <th>Vectorizer</th>\n",
              "      <th></th>\n",
              "      <th></th>\n",
              "      <th></th>\n",
              "      <th></th>\n",
              "      <th></th>\n",
              "    </tr>\n",
              "  </thead>\n",
              "  <tbody>\n",
              "    <tr>\n",
              "      <th>CountVectorizer</th>\n",
              "      <td>0.8119</td>\n",
              "      <td>0.9307</td>\n",
              "      <td>0.8614</td>\n",
              "      <td>0.9307</td>\n",
              "      <td>0.9307</td>\n",
              "    </tr>\n",
              "    <tr>\n",
              "      <th>TfIdFVectorize</th>\n",
              "      <td>0.7822</td>\n",
              "      <td>0.8416</td>\n",
              "      <td>0.8218</td>\n",
              "      <td>0.8515</td>\n",
              "      <td>0.9307</td>\n",
              "    </tr>\n",
              "  </tbody>\n",
              "</table>"
            ],
            "text/plain": [
              "<IPython.core.display.HTML object>"
            ]
          },
          "metadata": {
            "tags": []
          }
        },
        {
          "output_type": "stream",
          "text": [
            "\n",
            "\n",
            "\n",
            "Experiment 7:\n",
            "Combining word and word_pos_tags\n"
          ],
          "name": "stdout"
        },
        {
          "output_type": "display_data",
          "data": {
            "text/html": [
              "<table border=\"1\" class=\"dataframe\">\n",
              "  <thead>\n",
              "    <tr style=\"text-align: right;\">\n",
              "      <th></th>\n",
              "      <th>MultiNomial Naive Bais</th>\n",
              "      <th>LogisticRegression</th>\n",
              "      <th>SVM</th>\n",
              "      <th>RandomForest</th>\n",
              "      <th>XGBClassifier</th>\n",
              "    </tr>\n",
              "    <tr>\n",
              "      <th>Vectorizer</th>\n",
              "      <th></th>\n",
              "      <th></th>\n",
              "      <th></th>\n",
              "      <th></th>\n",
              "      <th></th>\n",
              "    </tr>\n",
              "  </thead>\n",
              "  <tbody>\n",
              "    <tr>\n",
              "      <th>CountVectorizer</th>\n",
              "      <td>0.7525</td>\n",
              "      <td>0.9307</td>\n",
              "      <td>0.8416</td>\n",
              "      <td>0.9505</td>\n",
              "      <td>0.9703</td>\n",
              "    </tr>\n",
              "    <tr>\n",
              "      <th>TfIdFVectorize</th>\n",
              "      <td>0.7129</td>\n",
              "      <td>0.8020</td>\n",
              "      <td>0.7723</td>\n",
              "      <td>0.8911</td>\n",
              "      <td>0.9208</td>\n",
              "    </tr>\n",
              "  </tbody>\n",
              "</table>"
            ],
            "text/plain": [
              "<IPython.core.display.HTML object>"
            ]
          },
          "metadata": {
            "tags": []
          }
        },
        {
          "output_type": "stream",
          "text": [
            "\n",
            "\n",
            "\n",
            "Experiment 8:\n",
            "Adding bigrams of words bigram#{word_i}_{word_i+1}\n"
          ],
          "name": "stdout"
        },
        {
          "output_type": "display_data",
          "data": {
            "text/html": [
              "<table border=\"1\" class=\"dataframe\">\n",
              "  <thead>\n",
              "    <tr style=\"text-align: right;\">\n",
              "      <th></th>\n",
              "      <th>MultiNomial Naive Bais</th>\n",
              "      <th>LogisticRegression</th>\n",
              "      <th>SVM</th>\n",
              "      <th>RandomForest</th>\n",
              "      <th>XGBClassifier</th>\n",
              "    </tr>\n",
              "    <tr>\n",
              "      <th>Vectorizer</th>\n",
              "      <th></th>\n",
              "      <th></th>\n",
              "      <th></th>\n",
              "      <th></th>\n",
              "      <th></th>\n",
              "    </tr>\n",
              "  </thead>\n",
              "  <tbody>\n",
              "    <tr>\n",
              "      <th>CountVectorizer</th>\n",
              "      <td>0.6931</td>\n",
              "      <td>0.7723</td>\n",
              "      <td>0.6040</td>\n",
              "      <td>0.7921</td>\n",
              "      <td>0.6535</td>\n",
              "    </tr>\n",
              "    <tr>\n",
              "      <th>TfIdFVectorize</th>\n",
              "      <td>0.6634</td>\n",
              "      <td>0.6139</td>\n",
              "      <td>0.5743</td>\n",
              "      <td>0.8119</td>\n",
              "      <td>0.7129</td>\n",
              "    </tr>\n",
              "  </tbody>\n",
              "</table>"
            ],
            "text/plain": [
              "<IPython.core.display.HTML object>"
            ]
          },
          "metadata": {
            "tags": []
          }
        },
        {
          "output_type": "stream",
          "text": [
            "\n",
            "\n",
            "\n"
          ],
          "name": "stdout"
        }
      ]
    },
    {
      "cell_type": "code",
      "metadata": {
        "id": "Vo8lWzhJl1eT",
        "colab_type": "code",
        "colab": {}
      },
      "source": [
        ""
      ],
      "execution_count": 0,
      "outputs": []
    }
  ]
}