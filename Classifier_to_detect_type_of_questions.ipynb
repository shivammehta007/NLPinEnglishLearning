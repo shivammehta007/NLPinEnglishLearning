{
  "nbformat": 4,
  "nbformat_minor": 0,
  "metadata": {
    "colab": {
      "name": "Classifier_to_detect_type_of_questions.ipynb",
      "provenance": [],
      "toc_visible": true,
      "mount_file_id": "1lX6LJC1-6Rvx8CtII4R1v4hI_yGNv5hB",
      "authorship_tag": "ABX9TyMNxki9C5zUEtmxKvKfOVCC",
      "include_colab_link": true
    },
    "kernelspec": {
      "name": "python3",
      "display_name": "Python 3"
    },
    "accelerator": "GPU",
    "widgets": {
      "application/vnd.jupyter.widget-state+json": {
        "ea2cae0e98ef4eafbb1795280e9db68b": {
          "model_module": "@jupyter-widgets/controls",
          "model_name": "HBoxModel",
          "state": {
            "_view_name": "HBoxView",
            "_dom_classes": [],
            "_model_name": "HBoxModel",
            "_view_module": "@jupyter-widgets/controls",
            "_model_module_version": "1.5.0",
            "_view_count": null,
            "_view_module_version": "1.5.0",
            "box_style": "",
            "layout": "IPY_MODEL_77c5ceacb74a49c799b118850d79c771",
            "_model_module": "@jupyter-widgets/controls",
            "children": [
              "IPY_MODEL_119c60336cf84353a98ac44ebdb3e486",
              "IPY_MODEL_492353877a4043329440140a6b63fb63"
            ]
          }
        },
        "77c5ceacb74a49c799b118850d79c771": {
          "model_module": "@jupyter-widgets/base",
          "model_name": "LayoutModel",
          "state": {
            "_view_name": "LayoutView",
            "grid_template_rows": null,
            "right": null,
            "justify_content": null,
            "_view_module": "@jupyter-widgets/base",
            "overflow": null,
            "_model_module_version": "1.2.0",
            "_view_count": null,
            "flex_flow": null,
            "width": null,
            "min_width": null,
            "border": null,
            "align_items": null,
            "bottom": null,
            "_model_module": "@jupyter-widgets/base",
            "top": null,
            "grid_column": null,
            "overflow_y": null,
            "overflow_x": null,
            "grid_auto_flow": null,
            "grid_area": null,
            "grid_template_columns": null,
            "flex": null,
            "_model_name": "LayoutModel",
            "justify_items": null,
            "grid_row": null,
            "max_height": null,
            "align_content": null,
            "visibility": null,
            "align_self": null,
            "height": null,
            "min_height": null,
            "padding": null,
            "grid_auto_rows": null,
            "grid_gap": null,
            "max_width": null,
            "order": null,
            "_view_module_version": "1.2.0",
            "grid_template_areas": null,
            "object_position": null,
            "object_fit": null,
            "grid_auto_columns": null,
            "margin": null,
            "display": null,
            "left": null
          }
        },
        "119c60336cf84353a98ac44ebdb3e486": {
          "model_module": "@jupyter-widgets/controls",
          "model_name": "FloatProgressModel",
          "state": {
            "_view_name": "ProgressView",
            "style": "IPY_MODEL_e8a15558c3ec49b7903c6c3748e6c836",
            "_dom_classes": [],
            "description": "100%",
            "_model_name": "FloatProgressModel",
            "bar_style": "success",
            "max": 569,
            "_view_module": "@jupyter-widgets/controls",
            "_model_module_version": "1.5.0",
            "value": 569,
            "_view_count": null,
            "_view_module_version": "1.5.0",
            "orientation": "horizontal",
            "min": 0,
            "description_tooltip": null,
            "_model_module": "@jupyter-widgets/controls",
            "layout": "IPY_MODEL_82c7a76fb9b74085aee01636efecbca7"
          }
        },
        "492353877a4043329440140a6b63fb63": {
          "model_module": "@jupyter-widgets/controls",
          "model_name": "HTMLModel",
          "state": {
            "_view_name": "HTMLView",
            "style": "IPY_MODEL_35074a1a266b474093f7922097c4d78d",
            "_dom_classes": [],
            "description": "",
            "_model_name": "HTMLModel",
            "placeholder": "​",
            "_view_module": "@jupyter-widgets/controls",
            "_model_module_version": "1.5.0",
            "value": " 569/569 [00:05&lt;00:00, 99.05it/s]",
            "_view_count": null,
            "_view_module_version": "1.5.0",
            "description_tooltip": null,
            "_model_module": "@jupyter-widgets/controls",
            "layout": "IPY_MODEL_369e92b9c659469c9504d824db7a0769"
          }
        },
        "e8a15558c3ec49b7903c6c3748e6c836": {
          "model_module": "@jupyter-widgets/controls",
          "model_name": "ProgressStyleModel",
          "state": {
            "_view_name": "StyleView",
            "_model_name": "ProgressStyleModel",
            "description_width": "initial",
            "_view_module": "@jupyter-widgets/base",
            "_model_module_version": "1.5.0",
            "_view_count": null,
            "_view_module_version": "1.2.0",
            "bar_color": null,
            "_model_module": "@jupyter-widgets/controls"
          }
        },
        "82c7a76fb9b74085aee01636efecbca7": {
          "model_module": "@jupyter-widgets/base",
          "model_name": "LayoutModel",
          "state": {
            "_view_name": "LayoutView",
            "grid_template_rows": null,
            "right": null,
            "justify_content": null,
            "_view_module": "@jupyter-widgets/base",
            "overflow": null,
            "_model_module_version": "1.2.0",
            "_view_count": null,
            "flex_flow": null,
            "width": null,
            "min_width": null,
            "border": null,
            "align_items": null,
            "bottom": null,
            "_model_module": "@jupyter-widgets/base",
            "top": null,
            "grid_column": null,
            "overflow_y": null,
            "overflow_x": null,
            "grid_auto_flow": null,
            "grid_area": null,
            "grid_template_columns": null,
            "flex": null,
            "_model_name": "LayoutModel",
            "justify_items": null,
            "grid_row": null,
            "max_height": null,
            "align_content": null,
            "visibility": null,
            "align_self": null,
            "height": null,
            "min_height": null,
            "padding": null,
            "grid_auto_rows": null,
            "grid_gap": null,
            "max_width": null,
            "order": null,
            "_view_module_version": "1.2.0",
            "grid_template_areas": null,
            "object_position": null,
            "object_fit": null,
            "grid_auto_columns": null,
            "margin": null,
            "display": null,
            "left": null
          }
        },
        "35074a1a266b474093f7922097c4d78d": {
          "model_module": "@jupyter-widgets/controls",
          "model_name": "DescriptionStyleModel",
          "state": {
            "_view_name": "StyleView",
            "_model_name": "DescriptionStyleModel",
            "description_width": "",
            "_view_module": "@jupyter-widgets/base",
            "_model_module_version": "1.5.0",
            "_view_count": null,
            "_view_module_version": "1.2.0",
            "_model_module": "@jupyter-widgets/controls"
          }
        },
        "369e92b9c659469c9504d824db7a0769": {
          "model_module": "@jupyter-widgets/base",
          "model_name": "LayoutModel",
          "state": {
            "_view_name": "LayoutView",
            "grid_template_rows": null,
            "right": null,
            "justify_content": null,
            "_view_module": "@jupyter-widgets/base",
            "overflow": null,
            "_model_module_version": "1.2.0",
            "_view_count": null,
            "flex_flow": null,
            "width": null,
            "min_width": null,
            "border": null,
            "align_items": null,
            "bottom": null,
            "_model_module": "@jupyter-widgets/base",
            "top": null,
            "grid_column": null,
            "overflow_y": null,
            "overflow_x": null,
            "grid_auto_flow": null,
            "grid_area": null,
            "grid_template_columns": null,
            "flex": null,
            "_model_name": "LayoutModel",
            "justify_items": null,
            "grid_row": null,
            "max_height": null,
            "align_content": null,
            "visibility": null,
            "align_self": null,
            "height": null,
            "min_height": null,
            "padding": null,
            "grid_auto_rows": null,
            "grid_gap": null,
            "max_width": null,
            "order": null,
            "_view_module_version": "1.2.0",
            "grid_template_areas": null,
            "object_position": null,
            "object_fit": null,
            "grid_auto_columns": null,
            "margin": null,
            "display": null,
            "left": null
          }
        },
        "b457bc098af64071a179eedf12c18159": {
          "model_module": "@jupyter-widgets/controls",
          "model_name": "HBoxModel",
          "state": {
            "_view_name": "HBoxView",
            "_dom_classes": [],
            "_model_name": "HBoxModel",
            "_view_module": "@jupyter-widgets/controls",
            "_model_module_version": "1.5.0",
            "_view_count": null,
            "_view_module_version": "1.5.0",
            "box_style": "",
            "layout": "IPY_MODEL_6c26eb16739f43499bef77a6148b8708",
            "_model_module": "@jupyter-widgets/controls",
            "children": [
              "IPY_MODEL_f0c662b0eb7849bcba4493cd3566867c",
              "IPY_MODEL_db005b91622043f3b9eb593d64cc4d65"
            ]
          }
        },
        "6c26eb16739f43499bef77a6148b8708": {
          "model_module": "@jupyter-widgets/base",
          "model_name": "LayoutModel",
          "state": {
            "_view_name": "LayoutView",
            "grid_template_rows": null,
            "right": null,
            "justify_content": null,
            "_view_module": "@jupyter-widgets/base",
            "overflow": null,
            "_model_module_version": "1.2.0",
            "_view_count": null,
            "flex_flow": null,
            "width": null,
            "min_width": null,
            "border": null,
            "align_items": null,
            "bottom": null,
            "_model_module": "@jupyter-widgets/base",
            "top": null,
            "grid_column": null,
            "overflow_y": null,
            "overflow_x": null,
            "grid_auto_flow": null,
            "grid_area": null,
            "grid_template_columns": null,
            "flex": null,
            "_model_name": "LayoutModel",
            "justify_items": null,
            "grid_row": null,
            "max_height": null,
            "align_content": null,
            "visibility": null,
            "align_self": null,
            "height": null,
            "min_height": null,
            "padding": null,
            "grid_auto_rows": null,
            "grid_gap": null,
            "max_width": null,
            "order": null,
            "_view_module_version": "1.2.0",
            "grid_template_areas": null,
            "object_position": null,
            "object_fit": null,
            "grid_auto_columns": null,
            "margin": null,
            "display": null,
            "left": null
          }
        },
        "f0c662b0eb7849bcba4493cd3566867c": {
          "model_module": "@jupyter-widgets/controls",
          "model_name": "FloatProgressModel",
          "state": {
            "_view_name": "ProgressView",
            "style": "IPY_MODEL_1301d62c3fbf42138723bb3523b119e5",
            "_dom_classes": [],
            "description": "100%",
            "_model_name": "FloatProgressModel",
            "bar_style": "success",
            "max": 101,
            "_view_module": "@jupyter-widgets/controls",
            "_model_module_version": "1.5.0",
            "value": 101,
            "_view_count": null,
            "_view_module_version": "1.5.0",
            "orientation": "horizontal",
            "min": 0,
            "description_tooltip": null,
            "_model_module": "@jupyter-widgets/controls",
            "layout": "IPY_MODEL_92ff995fd1624900ae03fa80f69d82ff"
          }
        },
        "db005b91622043f3b9eb593d64cc4d65": {
          "model_module": "@jupyter-widgets/controls",
          "model_name": "HTMLModel",
          "state": {
            "_view_name": "HTMLView",
            "style": "IPY_MODEL_fcde48af4c254622be79fe52edb8a3f0",
            "_dom_classes": [],
            "description": "",
            "_model_name": "HTMLModel",
            "placeholder": "​",
            "_view_module": "@jupyter-widgets/controls",
            "_model_module_version": "1.5.0",
            "value": " 101/101 [00:00&lt;00:00, 119.76it/s]",
            "_view_count": null,
            "_view_module_version": "1.5.0",
            "description_tooltip": null,
            "_model_module": "@jupyter-widgets/controls",
            "layout": "IPY_MODEL_8fd74786e6e146759ae6cb51ecc5fe66"
          }
        },
        "1301d62c3fbf42138723bb3523b119e5": {
          "model_module": "@jupyter-widgets/controls",
          "model_name": "ProgressStyleModel",
          "state": {
            "_view_name": "StyleView",
            "_model_name": "ProgressStyleModel",
            "description_width": "initial",
            "_view_module": "@jupyter-widgets/base",
            "_model_module_version": "1.5.0",
            "_view_count": null,
            "_view_module_version": "1.2.0",
            "bar_color": null,
            "_model_module": "@jupyter-widgets/controls"
          }
        },
        "92ff995fd1624900ae03fa80f69d82ff": {
          "model_module": "@jupyter-widgets/base",
          "model_name": "LayoutModel",
          "state": {
            "_view_name": "LayoutView",
            "grid_template_rows": null,
            "right": null,
            "justify_content": null,
            "_view_module": "@jupyter-widgets/base",
            "overflow": null,
            "_model_module_version": "1.2.0",
            "_view_count": null,
            "flex_flow": null,
            "width": null,
            "min_width": null,
            "border": null,
            "align_items": null,
            "bottom": null,
            "_model_module": "@jupyter-widgets/base",
            "top": null,
            "grid_column": null,
            "overflow_y": null,
            "overflow_x": null,
            "grid_auto_flow": null,
            "grid_area": null,
            "grid_template_columns": null,
            "flex": null,
            "_model_name": "LayoutModel",
            "justify_items": null,
            "grid_row": null,
            "max_height": null,
            "align_content": null,
            "visibility": null,
            "align_self": null,
            "height": null,
            "min_height": null,
            "padding": null,
            "grid_auto_rows": null,
            "grid_gap": null,
            "max_width": null,
            "order": null,
            "_view_module_version": "1.2.0",
            "grid_template_areas": null,
            "object_position": null,
            "object_fit": null,
            "grid_auto_columns": null,
            "margin": null,
            "display": null,
            "left": null
          }
        },
        "fcde48af4c254622be79fe52edb8a3f0": {
          "model_module": "@jupyter-widgets/controls",
          "model_name": "DescriptionStyleModel",
          "state": {
            "_view_name": "StyleView",
            "_model_name": "DescriptionStyleModel",
            "description_width": "",
            "_view_module": "@jupyter-widgets/base",
            "_model_module_version": "1.5.0",
            "_view_count": null,
            "_view_module_version": "1.2.0",
            "_model_module": "@jupyter-widgets/controls"
          }
        },
        "8fd74786e6e146759ae6cb51ecc5fe66": {
          "model_module": "@jupyter-widgets/base",
          "model_name": "LayoutModel",
          "state": {
            "_view_name": "LayoutView",
            "grid_template_rows": null,
            "right": null,
            "justify_content": null,
            "_view_module": "@jupyter-widgets/base",
            "overflow": null,
            "_model_module_version": "1.2.0",
            "_view_count": null,
            "flex_flow": null,
            "width": null,
            "min_width": null,
            "border": null,
            "align_items": null,
            "bottom": null,
            "_model_module": "@jupyter-widgets/base",
            "top": null,
            "grid_column": null,
            "overflow_y": null,
            "overflow_x": null,
            "grid_auto_flow": null,
            "grid_area": null,
            "grid_template_columns": null,
            "flex": null,
            "_model_name": "LayoutModel",
            "justify_items": null,
            "grid_row": null,
            "max_height": null,
            "align_content": null,
            "visibility": null,
            "align_self": null,
            "height": null,
            "min_height": null,
            "padding": null,
            "grid_auto_rows": null,
            "grid_gap": null,
            "max_width": null,
            "order": null,
            "_view_module_version": "1.2.0",
            "grid_template_areas": null,
            "object_position": null,
            "object_fit": null,
            "grid_auto_columns": null,
            "margin": null,
            "display": null,
            "left": null
          }
        }
      }
    }
  },
  "cells": [
    {
      "cell_type": "markdown",
      "metadata": {
        "id": "view-in-github",
        "colab_type": "text"
      },
      "source": [
        "<a href=\"https://colab.research.google.com/github/shivammehta007/QuestionGenerator/blob/master/Classifier_to_detect_type_of_questions.ipynb\" target=\"_parent\"><img src=\"https://colab.research.google.com/assets/colab-badge.svg\" alt=\"Open In Colab\"/></a>"
      ]
    },
    {
      "cell_type": "markdown",
      "metadata": {
        "id": "Ae7AE9oK2JD_",
        "colab_type": "text"
      },
      "source": [
        "# Testing Classifier Model"
      ]
    },
    {
      "cell_type": "code",
      "metadata": {
        "id": "Rsu1peCb7daN",
        "colab_type": "code",
        "outputId": "7df9ba1b-5b2e-4250-b6d6-770d85028725",
        "colab": {
          "base_uri": "https://localhost:8080/",
          "height": 34
        }
      },
      "source": [
        "# Essential Installation for working of notebook\n",
        "!pip install -U tqdm"
      ],
      "execution_count": 1,
      "outputs": [
        {
          "output_type": "stream",
          "text": [
            "Requirement already up-to-date: tqdm in /usr/local/lib/python3.6/dist-packages (4.43.0)\n"
          ],
          "name": "stdout"
        }
      ]
    },
    {
      "cell_type": "markdown",
      "metadata": {
        "id": "8Hfk5YOYgOaj",
        "colab_type": "text"
      },
      "source": [
        "### Imports"
      ]
    },
    {
      "cell_type": "code",
      "metadata": {
        "id": "GVZP3mPS9wVL",
        "colab_type": "code",
        "colab": {}
      },
      "source": [
        "import os\n",
        "import random\n",
        "\n",
        "import numpy as np\n",
        "import pandas as pd\n",
        "import matplotlib.pyplot as plt\n",
        "import spacy\n",
        "import seaborn as sns\n",
        "import torch\n",
        "from sklearn.ensemble import RandomForestClassifier\n",
        "from sklearn.feature_extraction.text import CountVectorizer, TfidfVectorizer\n",
        "from sklearn.linear_model import LogisticRegression\n",
        "from sklearn.model_selection import cross_validate, train_test_split\n",
        "from sklearn.naive_bayes import MultinomialNB\n",
        "from sklearn.pipeline import Pipeline\n",
        "from sklearn.preprocessing import LabelEncoder\n",
        "from sklearn.svm import SVC\n",
        "from sklearn.metrics import f1_score\n",
        "from tqdm.auto import tqdm, trange\n",
        "from wordcloud import WordCloud\n",
        "from xgboost import XGBClassifier"
      ],
      "execution_count": 0,
      "outputs": []
    },
    {
      "cell_type": "markdown",
      "metadata": {
        "id": "5Py7tdaXgR8y",
        "colab_type": "text"
      },
      "source": [
        "### Environment Setup "
      ]
    },
    {
      "cell_type": "code",
      "metadata": {
        "id": "r10qWJbbjEhd",
        "colab_type": "code",
        "colab": {}
      },
      "source": [
        "SEED=1234\n",
        "def seed_all(seed=1234):\n",
        "    \"\"\"Seed the results for duplication\"\"\"\n",
        "    random.seed(seed)\n",
        "    os.environ[\"PYTHONHASHSEED\"] = str(seed)\n",
        "    np.random.seed(seed)\n",
        "    torch.manual_seed(seed)\n",
        "    torch.cuda.manual_seed(seed)\n",
        "    torch.backends.cudnn.deterministic = True\n",
        "\n",
        "seed_all(SEED)"
      ],
      "execution_count": 0,
      "outputs": []
    },
    {
      "cell_type": "code",
      "metadata": {
        "id": "3S63rjWZ-BPZ",
        "colab_type": "code",
        "colab": {}
      },
      "source": [
        "tqdm.pandas()\n",
        "nlp = spacy.load(\"en_core_web_sm\") "
      ],
      "execution_count": 0,
      "outputs": []
    },
    {
      "cell_type": "code",
      "metadata": {
        "id": "121_OlhKDRlN",
        "colab_type": "code",
        "outputId": "b2b21eef-4151-4177-f194-b7286332b260",
        "colab": {
          "base_uri": "https://localhost:8080/",
          "height": 34
        }
      },
      "source": [
        "from google.colab import drive\n",
        "drive.mount('/content/drive')"
      ],
      "execution_count": 5,
      "outputs": [
        {
          "output_type": "stream",
          "text": [
            "Drive already mounted at /content/drive; to attempt to forcibly remount, call drive.mount(\"/content/drive\", force_remount=True).\n"
          ],
          "name": "stdout"
        }
      ]
    },
    {
      "cell_type": "code",
      "metadata": {
        "id": "B38Mrn28_EMM",
        "colab_type": "code",
        "colab": {}
      },
      "source": [
        "DATASET_LOCATION = '/content/drive/My Drive/Data/GrammarDataset.csv'"
      ],
      "execution_count": 0,
      "outputs": []
    },
    {
      "cell_type": "markdown",
      "metadata": {
        "id": "tkkTC5QKgUcv",
        "colab_type": "text"
      },
      "source": [
        "## Dataset Overview"
      ]
    },
    {
      "cell_type": "code",
      "metadata": {
        "id": "3xNvBg2qAYW7",
        "colab_type": "code",
        "colab": {}
      },
      "source": [
        "original_dataset = pd.read_csv(DATASET_LOCATION, sep=\"\\t\")"
      ],
      "execution_count": 0,
      "outputs": []
    },
    {
      "cell_type": "code",
      "metadata": {
        "id": "WMx5VjuhAces",
        "colab_type": "code",
        "outputId": "5745630d-074b-4b1c-9634-8d3053fe0b46",
        "colab": {
          "base_uri": "https://localhost:8080/",
          "height": 204
        }
      },
      "source": [
        "original_dataset.head()"
      ],
      "execution_count": 8,
      "outputs": [
        {
          "output_type": "execute_result",
          "data": {
            "text/html": [
              "<div>\n",
              "<style scoped>\n",
              "    .dataframe tbody tr th:only-of-type {\n",
              "        vertical-align: middle;\n",
              "    }\n",
              "\n",
              "    .dataframe tbody tr th {\n",
              "        vertical-align: top;\n",
              "    }\n",
              "\n",
              "    .dataframe thead th {\n",
              "        text-align: right;\n",
              "    }\n",
              "</style>\n",
              "<table border=\"1\" class=\"dataframe\">\n",
              "  <thead>\n",
              "    <tr style=\"text-align: right;\">\n",
              "      <th></th>\n",
              "      <th>Question</th>\n",
              "      <th>key</th>\n",
              "      <th>answer</th>\n",
              "      <th>Type of Question</th>\n",
              "      <th>Sub Section</th>\n",
              "    </tr>\n",
              "  </thead>\n",
              "  <tbody>\n",
              "    <tr>\n",
              "      <th>0</th>\n",
              "      <td>She _________________ some chocolates to the p...</td>\n",
              "      <td>bring</td>\n",
              "      <td>She brought some chocolates to the party.</td>\n",
              "      <td>irregular verb</td>\n",
              "      <td>past simple</td>\n",
              "    </tr>\n",
              "    <tr>\n",
              "      <th>1</th>\n",
              "      <td>I _________________ a new song on the radio.</td>\n",
              "      <td>hear</td>\n",
              "      <td>I heard a new song on the radio.</td>\n",
              "      <td>irregular verb</td>\n",
              "      <td>past simple</td>\n",
              "    </tr>\n",
              "    <tr>\n",
              "      <th>2</th>\n",
              "      <td>I _________________ three books last week.</td>\n",
              "      <td>read</td>\n",
              "      <td>I read three books last week.</td>\n",
              "      <td>irregular verb</td>\n",
              "      <td>past simple</td>\n",
              "    </tr>\n",
              "    <tr>\n",
              "      <th>3</th>\n",
              "      <td>They _________________ French to the waitress.</td>\n",
              "      <td>speak</td>\n",
              "      <td>They spoke French to the waitress.</td>\n",
              "      <td>irregular verb</td>\n",
              "      <td>past simple</td>\n",
              "    </tr>\n",
              "    <tr>\n",
              "      <th>4</th>\n",
              "      <td>He _________________ during the class but now ...</td>\n",
              "      <td>understand</td>\n",
              "      <td>He understood during the class but now he doe...</td>\n",
              "      <td>irregular verb</td>\n",
              "      <td>past simple</td>\n",
              "    </tr>\n",
              "  </tbody>\n",
              "</table>\n",
              "</div>"
            ],
            "text/plain": [
              "                                            Question  ...  Sub Section\n",
              "0  She _________________ some chocolates to the p...  ...  past simple\n",
              "1       I _________________ a new song on the radio.  ...  past simple\n",
              "2         I _________________ three books last week.  ...  past simple\n",
              "3     They _________________ French to the waitress.  ...  past simple\n",
              "4  He _________________ during the class but now ...  ...  past simple\n",
              "\n",
              "[5 rows x 5 columns]"
            ]
          },
          "metadata": {
            "tags": []
          },
          "execution_count": 8
        }
      ]
    },
    {
      "cell_type": "code",
      "metadata": {
        "id": "8QICR81Tmxrj",
        "colab_type": "code",
        "colab": {
          "base_uri": "https://localhost:8080/",
          "height": 119
        },
        "outputId": "0d5b28a9-0e56-4090-f4b3-7e10a2d6e388"
      },
      "source": [
        "original_dataset.dtypes"
      ],
      "execution_count": 9,
      "outputs": [
        {
          "output_type": "execute_result",
          "data": {
            "text/plain": [
              "Question            object\n",
              "key                 object\n",
              "answer              object\n",
              "Type of Question    object\n",
              "Sub Section         object\n",
              "dtype: object"
            ]
          },
          "metadata": {
            "tags": []
          },
          "execution_count": 9
        }
      ]
    },
    {
      "cell_type": "markdown",
      "metadata": {
        "id": "gVHkoe1abm0s",
        "colab_type": "text"
      },
      "source": [
        "#### EDA"
      ]
    },
    {
      "cell_type": "code",
      "metadata": {
        "id": "QTmoHupIbp02",
        "colab_type": "code",
        "outputId": "2080f4e6-b4a7-490f-b1da-e62aab174138",
        "colab": {
          "base_uri": "https://localhost:8080/",
          "height": 584
        }
      },
      "source": [
        "ax, fig = plt.subplots(figsize=(10, 7))\n",
        "question_class = original_dataset[\"Type of Question\"].value_counts()\n",
        "question_class.plot(kind='bar')\n",
        "plt.title('Type of Question Counts')\n",
        "plt.show()"
      ],
      "execution_count": 10,
      "outputs": [
        {
          "output_type": "display_data",
          "data": {
            "image/png": "[encoded data removed]",
            "text/plain": [
              "<Figure size 720x504 with 1 Axes>"
            ]
          },
          "metadata": {
            "tags": []
          }
        }
      ]
    },
    {
      "cell_type": "code",
      "metadata": {
        "id": "WJQyD0KvhYoJ",
        "colab_type": "code",
        "colab": {
          "base_uri": "https://localhost:8080/",
          "height": 511
        },
        "outputId": "b3afbc86-4b3a-4072-d3e6-8fef5a921d03"
      },
      "source": [
        "insincere_wordcloud = WordCloud(width=600, height=400).generate(\" \".join(original_dataset[\"key\"]))\n",
        "plt.figure( figsize=(10,8), facecolor='k')\n",
        "plt.imshow(insincere_wordcloud)\n",
        "plt.axis(\"off\")\n",
        "plt.tight_layout(pad=0)\n",
        "plt.show()"
      ],
      "execution_count": 11,
      "outputs": [
        {
          "output_type": "display_data",
          "data": {
            "image/png": "[encoded data removed]",
            "text/plain": [
              "<Figure size 720x576 with 1 Axes>"
            ]
          },
          "metadata": {
            "tags": []
          }
        }
      ]
    },
    {
      "cell_type": "markdown",
      "metadata": {
        "id": "AX8Zcvdh2QH8",
        "colab_type": "text"
      },
      "source": [
        "### PreProcessing"
      ]
    },
    {
      "cell_type": "code",
      "metadata": {
        "id": "g_GyP2NiAdUH",
        "colab_type": "code",
        "colab": {}
      },
      "source": [
        "def preprocessor(dataset):\n",
        "    # Replace continuous underscores with single one\n",
        "    dataset[\"Question\"] = dataset[\"Question\"].str.replace(\"[_]{2,}\", \"_\")\n",
        "    # Remove Brackets\n",
        "    dataset[\"Question\"] = dataset[\"Question\"].str.replace(\"[\\)\\(]\", \"\")\n",
        "    # Strip whitespaces\n",
        "    dataset[\"Question\"] = dataset[\"Question\"].apply(lambda x: x.strip())\n",
        "    # Convert all text to lowercase\n",
        "    for columns in dataset.columns:\n",
        "        dataset[columns] = dataset[columns].str.lower() \n",
        "\n",
        "    return dataset"
      ],
      "execution_count": 0,
      "outputs": []
    },
    {
      "cell_type": "code",
      "metadata": {
        "id": "6BS5iKckgrQd",
        "colab_type": "code",
        "colab": {}
      },
      "source": [
        "original_dataset = preprocessor(original_dataset)"
      ],
      "execution_count": 0,
      "outputs": []
    },
    {
      "cell_type": "code",
      "metadata": {
        "id": "22ZIHZy3jW5C",
        "colab_type": "code",
        "outputId": "d4eb6cd1-5890-42f2-f2d6-7f108e948735",
        "colab": {
          "base_uri": "https://localhost:8080/",
          "height": 34
        }
      },
      "source": [
        "original_dataset.columns"
      ],
      "execution_count": 14,
      "outputs": [
        {
          "output_type": "execute_result",
          "data": {
            "text/plain": [
              "Index(['Question', 'key', 'answer', 'Type of Question', 'Sub Section'], dtype='object')"
            ]
          },
          "metadata": {
            "tags": []
          },
          "execution_count": 14
        }
      ]
    },
    {
      "cell_type": "markdown",
      "metadata": {
        "id": "eJT_3Bdd9u01",
        "colab_type": "text"
      },
      "source": [
        "#### Encoding Labels"
      ]
    },
    {
      "cell_type": "code",
      "metadata": {
        "id": "T8ef8cs39uF6",
        "colab_type": "code",
        "colab": {}
      },
      "source": [
        "label_encoder = LabelEncoder()\n",
        "original_dataset[\"Type of Question\"] = label_encoder.fit_transform(original_dataset[\"Type of Question\"])"
      ],
      "execution_count": 0,
      "outputs": []
    },
    {
      "cell_type": "markdown",
      "metadata": {
        "id": "8fNWF4uwBl0t",
        "colab_type": "text"
      },
      "source": [
        "#### Split Training and Testing Data"
      ]
    },
    {
      "cell_type": "code",
      "metadata": {
        "id": "nX6L5x2Y9sHw",
        "colab_type": "code",
        "colab": {}
      },
      "source": [
        "X_train_orig_dataset, X_test_orig_dataset, y_train_orig_dataset, y_test_orig_dataset = train_test_split(original_dataset[[\"Question\", \"key\", \"answer\"]], original_dataset[\"Type of Question\"], random_state=SEED, test_size=0.15)"
      ],
      "execution_count": 0,
      "outputs": []
    },
    {
      "cell_type": "code",
      "metadata": {
        "id": "iaUHWhAcCb4t",
        "colab_type": "code",
        "outputId": "64436fba-a193-4c62-a9ca-ff76529a0188",
        "colab": {
          "base_uri": "https://localhost:8080/",
          "height": 34
        }
      },
      "source": [
        "X_train_orig_dataset.shape, X_test_orig_dataset.shape, y_train_orig_dataset.shape, y_test_orig_dataset.shape"
      ],
      "execution_count": 17,
      "outputs": [
        {
          "output_type": "execute_result",
          "data": {
            "text/plain": [
              "((569, 3), (101, 3), (569,), (101,))"
            ]
          },
          "metadata": {
            "tags": []
          },
          "execution_count": 17
        }
      ]
    },
    {
      "cell_type": "markdown",
      "metadata": {
        "id": "OnGk8SFb4Wm2",
        "colab_type": "text"
      },
      "source": [
        "## Experiments:"
      ]
    },
    {
      "cell_type": "code",
      "metadata": {
        "id": "8P-vu3VSD3Yz",
        "colab_type": "code",
        "outputId": "00832110-4dd1-46a8-8474-1cb259bb0712",
        "colab": {
          "base_uri": "https://localhost:8080/",
          "height": 204
        }
      },
      "source": [
        "X_train_orig_dataset.head()"
      ],
      "execution_count": 18,
      "outputs": [
        {
          "output_type": "execute_result",
          "data": {
            "text/html": [
              "<div>\n",
              "<style scoped>\n",
              "    .dataframe tbody tr th:only-of-type {\n",
              "        vertical-align: middle;\n",
              "    }\n",
              "\n",
              "    .dataframe tbody tr th {\n",
              "        vertical-align: top;\n",
              "    }\n",
              "\n",
              "    .dataframe thead th {\n",
              "        text-align: right;\n",
              "    }\n",
              "</style>\n",
              "<table border=\"1\" class=\"dataframe\">\n",
              "  <thead>\n",
              "    <tr style=\"text-align: right;\">\n",
              "      <th></th>\n",
              "      <th>Question</th>\n",
              "      <th>key</th>\n",
              "      <th>answer</th>\n",
              "    </tr>\n",
              "  </thead>\n",
              "  <tbody>\n",
              "    <tr>\n",
              "      <th>271</th>\n",
              "      <td>how / they / get to work?</td>\n",
              "      <td>they</td>\n",
              "      <td>how do they get to work?</td>\n",
              "    </tr>\n",
              "    <tr>\n",
              "      <th>488</th>\n",
              "      <td>we were late for the plane because we _our pas...</td>\n",
              "      <td>forgot</td>\n",
              "      <td>we were late for the plane because we had forg...</td>\n",
              "    </tr>\n",
              "    <tr>\n",
              "      <th>131</th>\n",
              "      <td>we _ thirsty.</td>\n",
              "      <td>be</td>\n",
              "      <td>we aren't thirsty.</td>\n",
              "    </tr>\n",
              "    <tr>\n",
              "      <th>643</th>\n",
              "      <td>he_, so the kitchen will be warm.</td>\n",
              "      <td>cook</td>\n",
              "      <td>he will have been cooking, so the kitchen will...</td>\n",
              "    </tr>\n",
              "    <tr>\n",
              "      <th>155</th>\n",
              "      <td>you / in a cafe?</td>\n",
              "      <td>be</td>\n",
              "      <td>are you in a cafe?</td>\n",
              "    </tr>\n",
              "  </tbody>\n",
              "</table>\n",
              "</div>"
            ],
            "text/plain": [
              "                                              Question  ...                                             answer\n",
              "271                          how / they / get to work?  ...                           how do they get to work?\n",
              "488  we were late for the plane because we _our pas...  ...  we were late for the plane because we had forg...\n",
              "131                                      we _ thirsty.  ...                                 we aren't thirsty.\n",
              "643                  he_, so the kitchen will be warm.  ...  he will have been cooking, so the kitchen will...\n",
              "155                                   you / in a cafe?  ...                                 are you in a cafe?\n",
              "\n",
              "[5 rows x 3 columns]"
            ]
          },
          "metadata": {
            "tags": []
          },
          "execution_count": 18
        }
      ]
    },
    {
      "cell_type": "markdown",
      "metadata": {
        "id": "-w5DIu3WcsEd",
        "colab_type": "text"
      },
      "source": [
        "### Experimentation Setup"
      ]
    },
    {
      "cell_type": "markdown",
      "metadata": {
        "id": "SHeY-yA13DxF",
        "colab_type": "text"
      },
      "source": [
        "#### Models"
      ]
    },
    {
      "cell_type": "code",
      "metadata": {
        "id": "CcgkQ9KCFHKX",
        "colab_type": "code",
        "colab": {}
      },
      "source": [
        "text_vectorizers = [\n",
        "                    ('CountVectorizer', CountVectorizer()), \n",
        "                    ('TfIdFVectorize', TfidfVectorizer())\n",
        "                ]\n",
        "classifiers = [\n",
        "               ('MultiNomial Naive Bais', MultinomialNB(alpha=0.1)),\n",
        "               ('LogisticRegression', LogisticRegression(max_iter=5000)), \n",
        "               ('SVM', SVC()), ('RandomForest', RandomForestClassifier()), \n",
        "               ('XGBClassifier', XGBClassifier(random_state=SEED, learning_rate=0.01))\n",
        "            ]"
      ],
      "execution_count": 0,
      "outputs": []
    },
    {
      "cell_type": "code",
      "metadata": {
        "id": "ycPqgf8Ri40_",
        "colab_type": "code",
        "colab": {}
      },
      "source": [
        "def check_classification(X_train, y_train, X_test, y_test):\n",
        "\n",
        "    # Result DataFrame\n",
        "    result_dataframe = pd.DataFrame({\n",
        "        'Vectorizer': [name for name, model in text_vectorizers]\n",
        "        }, columns = ['Vectorizer'] + [name for name, model in classifiers])\n",
        "    result_dataframe.set_index('Vectorizer', inplace=True)\n",
        "\n",
        "\n",
        "    best_score = 0\n",
        "    best_model = None\n",
        "    for classifier_name, classifier in classifiers:\n",
        "        for text_vectorizer_name, text_vectorizer in text_vectorizers:\n",
        "            pipe = Pipeline(steps=[\n",
        "                                ('text_vec', text_vectorizer),\n",
        "                                ('class', classifier)\n",
        "            ])\n",
        "            pipe.fit(X_train, y_train)\n",
        "            f1_measure = f1_score(pipe.predict(X_test), y_test, average='micro')\n",
        "            # print('Model : {} -> {}:  accuracy: {:.4f}'.format(text_vectorizer_name, classifier_name, acc*100))\n",
        "\n",
        "            result_dataframe[classifier_name][text_vectorizer_name] = '{:.4f}'.format(f1_measure)\n",
        "\n",
        "            if f1_measure > best_score:\n",
        "                best_score = f1_measure\n",
        "                best_model = '{} -> {}'.format(text_vectorizer_name, classifier_name)\n",
        "\n",
        "\n",
        "    print(\"\\n\\nBest Accuracy was : {:.4f} with the Model: {}\".format(best_score*100, best_model))\n",
        "    return result_dataframe"
      ],
      "execution_count": 0,
      "outputs": []
    },
    {
      "cell_type": "markdown",
      "metadata": {
        "id": "l_qWhanA3KM_",
        "colab_type": "text"
      },
      "source": [
        "#### Result Placeholder"
      ]
    },
    {
      "cell_type": "code",
      "metadata": {
        "id": "8QzCpvclfk6g",
        "colab_type": "code",
        "colab": {}
      },
      "source": [
        "result_dataframe = pd.DataFrame({\n",
        "        'Vectorizer': [name for name, model in text_vectorizers]\n",
        "        }, columns = ['Vectorizer'] + [name for name, model in classifiers])\n",
        "result_dataframe.set_index('Vectorizer', inplace=True)\n",
        "\n",
        "results = []"
      ],
      "execution_count": 0,
      "outputs": []
    },
    {
      "cell_type": "markdown",
      "metadata": {
        "id": "IARArelo3U7S",
        "colab_type": "text"
      },
      "source": [
        "#### N-Gram Generator"
      ]
    },
    {
      "cell_type": "code",
      "metadata": {
        "id": "zyh7vACj3UIl",
        "colab_type": "code",
        "colab": {}
      },
      "source": [
        "from itertools import cycle\n",
        "from collections import deque\n",
        "\n",
        "def ngrams(sentence, n=2):\n",
        "    words = [word.text for word in nlp(sentence)]\n",
        "    d = deque(maxlen=n)\n",
        "    d.extend(words[:n])\n",
        "    words = words[n:]\n",
        "    results = []\n",
        "    for window, word in zip(cycle((d,)), words):\n",
        "        results.extend([ngram for ngram in window])\n",
        "        d.append(word)\n",
        "    results.extend([ngram for ngram in d])\n",
        "\n",
        "    return results\n"
      ],
      "execution_count": 0,
      "outputs": []
    },
    {
      "cell_type": "code",
      "metadata": {
        "id": "7RXScOm34hRI",
        "colab_type": "code",
        "colab": {
          "base_uri": "https://localhost:8080/",
          "height": 88
        },
        "outputId": "ddb30500-6ed4-4cbb-ce95-a8844ce1ae06"
      },
      "source": [
        "for n in range(2,5):\n",
        "    print(\" {}-Grams:\".format(n), end=\" \")\n",
        "    print(ngrams(\"Hello World! This is a test example of N-Gram generator\", n))"
      ],
      "execution_count": 23,
      "outputs": [
        {
          "output_type": "stream",
          "text": [
            " 2-Grams: ['Hello', 'World', 'World', '!', '!', 'This', 'This', 'is', 'is', 'a', 'a', 'test', 'test', 'example', 'example', 'of', 'of', 'N', 'N', '-', '-', 'Gram', 'Gram', 'generator']\n",
            " 3-Grams: ['Hello', 'World', '!', 'World', '!', 'This', '!', 'This', 'is', 'This', 'is', 'a', 'is', 'a', 'test', 'a', 'test', 'example', 'test', 'example', 'of', 'example', 'of', 'N', 'of', 'N', '-', 'N', '-', 'Gram', '-', 'Gram', 'generator']\n",
            " 4-Grams: ['Hello', 'World', '!', 'This', 'World', '!', 'This', 'is', '!', 'This', 'is', 'a', 'This', 'is', 'a', 'test', 'is', 'a', 'test', 'example', 'a', 'test', 'example', 'of', 'test', 'example', 'of', 'N', 'example', 'of', 'N', '-', 'of', 'N', '-', 'Gram', 'N', '-', 'Gram', 'generator']\n"
          ],
          "name": "stdout"
        }
      ]
    },
    {
      "cell_type": "markdown",
      "metadata": {
        "id": "6XtV4oEY9RdY",
        "colab_type": "text"
      },
      "source": [
        "#### Sample Generator"
      ]
    },
    {
      "cell_type": "code",
      "metadata": {
        "id": "JTj9-ty58yrZ",
        "colab_type": "code",
        "colab": {}
      },
      "source": [
        "def get_input_samples(X, y, n=5):\n",
        "    results = []\n",
        "    for i in random.sample(range(len(X) - 1), n):\n",
        "        results.append(\"{} --> {} \".format(X.iloc[i], label_encoder.inverse_transform([y.iloc[i]])))\n",
        "\n",
        "    return results"
      ],
      "execution_count": 0,
      "outputs": []
    },
    {
      "cell_type": "markdown",
      "metadata": {
        "id": "B-xUadw94aQa",
        "colab_type": "text"
      },
      "source": [
        "### Experiment 1:  Words\n",
        "Concatenating Question + key + answer in a Bag Of Words Approach \\\\\n",
        "No Feature Engineering"
      ]
    },
    {
      "cell_type": "code",
      "metadata": {
        "id": "t3w4PFR9jGau",
        "colab_type": "code",
        "colab": {}
      },
      "source": [
        "experiment_text = \"Concatenating question + key + answer.\""
      ],
      "execution_count": 0,
      "outputs": []
    },
    {
      "cell_type": "markdown",
      "metadata": {
        "id": "NPWAO_stJEkI",
        "colab_type": "text"
      },
      "source": [
        "#### Preprocessing"
      ]
    },
    {
      "cell_type": "code",
      "metadata": {
        "id": "huoQqpg9jqf7",
        "colab_type": "code",
        "colab": {}
      },
      "source": [
        "X_train = X_train_orig_dataset[\"Question\"] + \" \" + X_train_orig_dataset[\"key\"] + \" \" + X_train_orig_dataset[\"answer\"]\n",
        "y_train = y_train_orig_dataset\n",
        "X_test = X_test_orig_dataset[\"Question\"] + \" \" + X_test_orig_dataset[\"key\"] + \" \" + X_test_orig_dataset[\"answer\"]\n",
        "y_test = y_test_orig_dataset"
      ],
      "execution_count": 0,
      "outputs": []
    },
    {
      "cell_type": "markdown",
      "metadata": {
        "id": "YpHet4C8lc80",
        "colab_type": "text"
      },
      "source": [
        "#### Input Samples"
      ]
    },
    {
      "cell_type": "code",
      "metadata": {
        "id": "oleE2PRxltmf",
        "colab_type": "code",
        "colab": {
          "base_uri": "https://localhost:8080/",
          "height": 102
        },
        "outputId": "c6e97fbb-011b-41e1-f6fc-9b16944313e0"
      },
      "source": [
        "get_input_samples(X_train, y_train)"
      ],
      "execution_count": 27,
      "outputs": [
        {
          "output_type": "execute_result",
          "data": {
            "text/plain": [
              "[\"they _ so we went to a restaurant. not eat they hadn't eaten so we went to a restaurant. --> ['3rd form of verb'] \",\n",
              " \"when / you / leave? you leave when are you leaving? --> ['verb+ing'] \",\n",
              " \"they / live in london live they live in london. --> ['verb(s/es)'] \",\n",
              " \"_ football when he was injured? how long he play how long had he been playing football when he was injured? --> ['had been verb+ing'] \",\n",
              " \"_ the film already? she see had she seen the film already? --> ['3rd form of verb'] \"]"
            ]
          },
          "metadata": {
            "tags": []
          },
          "execution_count": 27
        }
      ]
    },
    {
      "cell_type": "markdown",
      "metadata": {
        "id": "tvz8r-4M20D5",
        "colab_type": "text"
      },
      "source": [
        "#### Experimentation Results"
      ]
    },
    {
      "cell_type": "code",
      "metadata": {
        "id": "LjmfITvoEHid",
        "colab_type": "code",
        "outputId": "525a1b1b-8c73-495a-d77b-cd04ac5fbb4b",
        "colab": {
          "base_uri": "https://localhost:8080/",
          "height": 193
        }
      },
      "source": [
        "result = check_classification(X_train, y_train, X_test, y_test)\n",
        "results.append((experiment_text, result))\n",
        "result"
      ],
      "execution_count": 28,
      "outputs": [
        {
          "output_type": "stream",
          "text": [
            "\n",
            "\n",
            "Best Accuracy was : 92.0792 with the Model: CountVectorizer -> RandomForest\n"
          ],
          "name": "stdout"
        },
        {
          "output_type": "execute_result",
          "data": {
            "text/html": [
              "<div>\n",
              "<style scoped>\n",
              "    .dataframe tbody tr th:only-of-type {\n",
              "        vertical-align: middle;\n",
              "    }\n",
              "\n",
              "    .dataframe tbody tr th {\n",
              "        vertical-align: top;\n",
              "    }\n",
              "\n",
              "    .dataframe thead th {\n",
              "        text-align: right;\n",
              "    }\n",
              "</style>\n",
              "<table border=\"1\" class=\"dataframe\">\n",
              "  <thead>\n",
              "    <tr style=\"text-align: right;\">\n",
              "      <th></th>\n",
              "      <th>MultiNomial Naive Bais</th>\n",
              "      <th>LogisticRegression</th>\n",
              "      <th>SVM</th>\n",
              "      <th>RandomForest</th>\n",
              "      <th>XGBClassifier</th>\n",
              "    </tr>\n",
              "    <tr>\n",
              "      <th>Vectorizer</th>\n",
              "      <th></th>\n",
              "      <th></th>\n",
              "      <th></th>\n",
              "      <th></th>\n",
              "      <th></th>\n",
              "    </tr>\n",
              "  </thead>\n",
              "  <tbody>\n",
              "    <tr>\n",
              "      <th>CountVectorizer</th>\n",
              "      <td>0.6535</td>\n",
              "      <td>0.8119</td>\n",
              "      <td>0.5842</td>\n",
              "      <td>0.9208</td>\n",
              "      <td>0.8911</td>\n",
              "    </tr>\n",
              "    <tr>\n",
              "      <th>TfIdFVectorize</th>\n",
              "      <td>0.6436</td>\n",
              "      <td>0.6436</td>\n",
              "      <td>0.6139</td>\n",
              "      <td>0.8812</td>\n",
              "      <td>0.8317</td>\n",
              "    </tr>\n",
              "  </tbody>\n",
              "</table>\n",
              "</div>"
            ],
            "text/plain": [
              "                MultiNomial Naive Bais  ... XGBClassifier\n",
              "Vectorizer                              ...              \n",
              "CountVectorizer                 0.6535  ...        0.8911\n",
              "TfIdFVectorize                  0.6436  ...        0.8317\n",
              "\n",
              "[2 rows x 5 columns]"
            ]
          },
          "metadata": {
            "tags": []
          },
          "execution_count": 28
        }
      ]
    },
    {
      "cell_type": "markdown",
      "metadata": {
        "id": "y52L3ohfSGnN",
        "colab_type": "text"
      },
      "source": [
        "### Experiment 2: Word#POS\n",
        "With POS Tags"
      ]
    },
    {
      "cell_type": "code",
      "metadata": {
        "id": "U4cmKc0wks5S",
        "colab_type": "code",
        "colab": {}
      },
      "source": [
        "experiment_text = \"Adding Pos Tags along with q#tags + k#tags + a#tags Unigrams\""
      ],
      "execution_count": 0,
      "outputs": []
    },
    {
      "cell_type": "markdown",
      "metadata": {
        "id": "zdTpudPaJLPg",
        "colab_type": "text"
      },
      "source": [
        "#### Preprocessing"
      ]
    },
    {
      "cell_type": "code",
      "metadata": {
        "id": "_Oxr2IGwh0Xi",
        "colab_type": "code",
        "colab": {}
      },
      "source": [
        "X_train = X_train_orig_dataset[\"Question\"] + \" \" + X_train_orig_dataset[\"key\"] + \" \" + X_train_orig_dataset[\"answer\"]\n",
        "y_train = y_train_orig_dataset\n",
        "X_test = X_test_orig_dataset[\"Question\"] + \" \" + X_test_orig_dataset[\"key\"] + \" \" + X_test_orig_dataset[\"answer\"]\n",
        "y_test = y_test_orig_dataset"
      ],
      "execution_count": 0,
      "outputs": []
    },
    {
      "cell_type": "code",
      "metadata": {
        "id": "_Q9TuAUfeCX-",
        "colab_type": "code",
        "colab": {
          "base_uri": "https://localhost:8080/",
          "height": 34
        },
        "outputId": "7c6a705e-c868-459d-d5f9-3ba2708e6708"
      },
      "source": [
        "def add_pos_tagging(text):\n",
        "    tokens = nlp(text)\n",
        "    text = []\n",
        "    for token in tokens:\n",
        "        text.append(\"{}#{}\".format(token.text, token.pos_))\n",
        "\n",
        "    return \" \".join(text)\n",
        "\n",
        "# Testing method\n",
        "test_sentence = \"Testing the Pos Tagger in this sentence let's see how it works!\".lower()\n",
        "add_pos_tagging(test_sentence)"
      ],
      "execution_count": 31,
      "outputs": [
        {
          "output_type": "execute_result",
          "data": {
            "text/plain": [
              "\"testing#VERB the#DET pos#NOUN tagger#NOUN in#ADP this#DET sentence#NOUN let#VERB 's#PRON see#VERB how#ADV it#PRON works#VERB !#PUNCT\""
            ]
          },
          "metadata": {
            "tags": []
          },
          "execution_count": 31
        }
      ]
    },
    {
      "cell_type": "code",
      "metadata": {
        "id": "w6_kA6fseDtA",
        "colab_type": "code",
        "colab": {
          "base_uri": "https://localhost:8080/",
          "height": 115,
          "referenced_widgets": [
            "ea2cae0e98ef4eafbb1795280e9db68b",
            "77c5ceacb74a49c799b118850d79c771",
            "119c60336cf84353a98ac44ebdb3e486",
            "492353877a4043329440140a6b63fb63",
            "e8a15558c3ec49b7903c6c3748e6c836",
            "82c7a76fb9b74085aee01636efecbca7",
            "35074a1a266b474093f7922097c4d78d",
            "369e92b9c659469c9504d824db7a0769",
            "b457bc098af64071a179eedf12c18159",
            "6c26eb16739f43499bef77a6148b8708",
            "f0c662b0eb7849bcba4493cd3566867c",
            "db005b91622043f3b9eb593d64cc4d65",
            "1301d62c3fbf42138723bb3523b119e5",
            "92ff995fd1624900ae03fa80f69d82ff",
            "fcde48af4c254622be79fe52edb8a3f0",
            "8fd74786e6e146759ae6cb51ecc5fe66"
          ]
        },
        "outputId": "7c104048-7710-4b74-f37a-22738dd4f92a"
      },
      "source": [
        "X_train = X_train.progress_apply(add_pos_tagging)\n",
        "X_test = X_test.progress_apply(add_pos_tagging)"
      ],
      "execution_count": 32,
      "outputs": [
        {
          "output_type": "display_data",
          "data": {
            "application/vnd.jupyter.widget-view+json": {
              "model_id": "ea2cae0e98ef4eafbb1795280e9db68b",
              "version_minor": 0,
              "version_major": 2
            },
            "text/plain": [
              "HBox(children=(FloatProgress(value=0.0, max=569.0), HTML(value='')))"
            ]
          },
          "metadata": {
            "tags": []
          }
        },
        {
          "output_type": "stream",
          "text": [
            "\n"
          ],
          "name": "stdout"
        },
        {
          "output_type": "display_data",
          "data": {
            "application/vnd.jupyter.widget-view+json": {
              "model_id": "b457bc098af64071a179eedf12c18159",
              "version_minor": 0,
              "version_major": 2
            },
            "text/plain": [
              "HBox(children=(FloatProgress(value=0.0, max=101.0), HTML(value='')))"
            ]
          },
          "metadata": {
            "tags": []
          }
        },
        {
          "output_type": "stream",
          "text": [
            "\n"
          ],
          "name": "stdout"
        }
      ]
    },
    {
      "cell_type": "markdown",
      "metadata": {
        "id": "KErwtz1PJOTr",
        "colab_type": "text"
      },
      "source": [
        "#### Input Samples"
      ]
    },
    {
      "cell_type": "code",
      "metadata": {
        "id": "O5DGe3hxI6Vc",
        "colab_type": "code",
        "colab": {
          "base_uri": "https://localhost:8080/",
          "height": 102
        },
        "outputId": "cd4e58a0-fefd-494b-893b-25c0a59ed0a2"
      },
      "source": [
        "get_input_samples(X_train, y_train)"
      ],
      "execution_count": 33,
      "outputs": [
        {
          "output_type": "execute_result",
          "data": {
            "text/plain": [
              "[\"she#PRON /#SYM love#NOUN chocolate#NOUN love#NOUN she#PRON loves#VERB chocolate#NOUN .#PUNCT --> ['verb(s/es)'] \",\n",
              " \"what#PRON /#PUNCT that#DET noise#NOUN /#PUNCT be#AUX ?#PUNCT be#AUX what#PRON was#AUX that#DET noise#NOUN ?#PUNCT --> ['verb be'] \",\n",
              " \"_#PROPN tomorrow#NOUN ?#PUNCT they#PRON come#VERB will#VERB they#PRON come#VERB tomorrow#NOUN ?#PUNCT --> ['will + first form of verb'] \",\n",
              " \"where#ADV /#PUNCT we#PRON ?#PUNCT be#AUX  #SPACE where#ADV are#AUX we#PRON ?#PUNCT --> ['verb be'] \",\n",
              " \"she#PRON /#SYM eat#VERB chocolate#NOUN eat#VERB she#PRON 's#AUX eating#VERB chocolate#NOUN .#PUNCT --> ['verb+ing'] \"]"
            ]
          },
          "metadata": {
            "tags": []
          },
          "execution_count": 33
        }
      ]
    },
    {
      "cell_type": "markdown",
      "metadata": {
        "id": "-kawDDdRKOQI",
        "colab_type": "text"
      },
      "source": [
        "#### Experimentation Results"
      ]
    },
    {
      "cell_type": "code",
      "metadata": {
        "id": "k_EqYz4JfepB",
        "colab_type": "code",
        "colab": {
          "base_uri": "https://localhost:8080/",
          "height": 193
        },
        "outputId": "1870c3a5-29f3-4e60-f7ac-736e703c41e2"
      },
      "source": [
        "result = check_classification(X_train, y_train, X_test, y_test)\n",
        "results.append((experiment_text, result))\n",
        "result"
      ],
      "execution_count": 34,
      "outputs": [
        {
          "output_type": "stream",
          "text": [
            "\n",
            "\n",
            "Best Accuracy was : 98.0198 with the Model: CountVectorizer -> XGBClassifier\n"
          ],
          "name": "stdout"
        },
        {
          "output_type": "execute_result",
          "data": {
            "text/html": [
              "<div>\n",
              "<style scoped>\n",
              "    .dataframe tbody tr th:only-of-type {\n",
              "        vertical-align: middle;\n",
              "    }\n",
              "\n",
              "    .dataframe tbody tr th {\n",
              "        vertical-align: top;\n",
              "    }\n",
              "\n",
              "    .dataframe thead th {\n",
              "        text-align: right;\n",
              "    }\n",
              "</style>\n",
              "<table border=\"1\" class=\"dataframe\">\n",
              "  <thead>\n",
              "    <tr style=\"text-align: right;\">\n",
              "      <th></th>\n",
              "      <th>MultiNomial Naive Bais</th>\n",
              "      <th>LogisticRegression</th>\n",
              "      <th>SVM</th>\n",
              "      <th>RandomForest</th>\n",
              "      <th>XGBClassifier</th>\n",
              "    </tr>\n",
              "    <tr>\n",
              "      <th>Vectorizer</th>\n",
              "      <th></th>\n",
              "      <th></th>\n",
              "      <th></th>\n",
              "      <th></th>\n",
              "      <th></th>\n",
              "    </tr>\n",
              "  </thead>\n",
              "  <tbody>\n",
              "    <tr>\n",
              "      <th>CountVectorizer</th>\n",
              "      <td>0.7030</td>\n",
              "      <td>0.8317</td>\n",
              "      <td>0.6832</td>\n",
              "      <td>0.9703</td>\n",
              "      <td>0.9802</td>\n",
              "    </tr>\n",
              "    <tr>\n",
              "      <th>TfIdFVectorize</th>\n",
              "      <td>0.6535</td>\n",
              "      <td>0.6535</td>\n",
              "      <td>0.6535</td>\n",
              "      <td>0.9109</td>\n",
              "      <td>0.9307</td>\n",
              "    </tr>\n",
              "  </tbody>\n",
              "</table>\n",
              "</div>"
            ],
            "text/plain": [
              "                MultiNomial Naive Bais  ... XGBClassifier\n",
              "Vectorizer                              ...              \n",
              "CountVectorizer                 0.7030  ...        0.9802\n",
              "TfIdFVectorize                  0.6535  ...        0.9307\n",
              "\n",
              "[2 rows x 5 columns]"
            ]
          },
          "metadata": {
            "tags": []
          },
          "execution_count": 34
        }
      ]
    },
    {
      "cell_type": "markdown",
      "metadata": {
        "id": "Vy8gC2iBlXBk",
        "colab_type": "text"
      },
      "source": [
        "### Experiment 3: Word#(q/k/a)\n",
        "With Question, Key, Answer Tagging"
      ]
    },
    {
      "cell_type": "code",
      "metadata": {
        "id": "J-UWTv7elEtb",
        "colab_type": "code",
        "colab": {}
      },
      "source": [
        "experiment_text = \"Tagging word with q, k, a example: word#q + word#k + word#a\""
      ],
      "execution_count": 0,
      "outputs": []
    },
    {
      "cell_type": "markdown",
      "metadata": {
        "id": "-f1efJSLKSZD",
        "colab_type": "text"
      },
      "source": [
        "#### Preprocessing"
      ]
    },
    {
      "cell_type": "code",
      "metadata": {
        "id": "opByrn1GllLF",
        "colab_type": "code",
        "colab": {}
      },
      "source": [
        "def add_tag(text, tag):\n",
        "    tokens = nlp(text)\n",
        "    text = []\n",
        "    for token in tokens:\n",
        "        text.append(\"{}#{}\".format(token.text, tag))\n",
        "    \n",
        "    return \" \".join(text)"
      ],
      "execution_count": 0,
      "outputs": []
    },
    {
      "cell_type": "code",
      "metadata": {
        "id": "TeZ3ae6Vfkcb",
        "colab_type": "code",
        "colab": {}
      },
      "source": [
        "X_train = X_train_orig_dataset[\"Question\"].apply(lambda x: add_tag(x, \"q\")) + \" \" + X_train_orig_dataset[\"key\"].apply(lambda x: add_tag(x, \"k\")) + \" \" + X_train_orig_dataset[\"answer\"].apply(lambda x: add_tag(x, \"a\"))\n",
        "y_train = y_train_orig_dataset\n",
        "X_test = X_test_orig_dataset[\"Question\"].apply(lambda x: add_tag(x, \"q\")) + \" \" + X_test_orig_dataset[\"key\"].apply(lambda x: add_tag(x, \"k\")) + \" \" + X_test_orig_dataset[\"answer\"].apply(lambda x: add_tag(x, \"a\"))\n",
        "y_test = y_test_orig_dataset"
      ],
      "execution_count": 0,
      "outputs": []
    },
    {
      "cell_type": "markdown",
      "metadata": {
        "id": "a12Pz769Ke3E",
        "colab_type": "text"
      },
      "source": [
        "#### Input Samples"
      ]
    },
    {
      "cell_type": "code",
      "metadata": {
        "id": "c1W-bvyAqDuS",
        "colab_type": "code",
        "colab": {
          "base_uri": "https://localhost:8080/",
          "height": 122
        },
        "outputId": "36c31206-2a36-44a1-feb6-2949174af91f"
      },
      "source": [
        "get_input_samples(X_train, y_train)"
      ],
      "execution_count": 38,
      "outputs": [
        {
          "output_type": "execute_result",
          "data": {
            "text/plain": [
              "[\"what#q _#q by#q the#q end#q of#q the#q day#q ?#q you#k do#k what#a will#a you#a have#a done#a by#a the#a end#a of#a the#a day#a ?#a --> ['will have verb+3rd form'] \",\n",
              " \"i#q /#q not#q /#q like#q coffee#q not#k i#a do#a n't#a like#a coffee#a .#a --> ['do/does'] \",\n",
              " \"who#q /#q the#q teacher#q /#q be#q ?#q be#k who#a was#a the#a teacher#a ?#a --> ['verb be'] \",\n",
              " \"what#q time#q _#q today#q ?#q the#k sun#k set#k what#a time#a will#a the#a sun#a set#a today#a ?#a --> ['will + first form of verb'] \",\n",
              " \"she#q _#q under#q the#q tree#q to#q shelter#q from#q the#q rain#q .#q stand#k she#a stood#a under#a the#a tree#a to#a shelter#a from#a the#a rain#a .#a --> ['irregular verb'] \"]"
            ]
          },
          "metadata": {
            "tags": []
          },
          "execution_count": 38
        }
      ]
    },
    {
      "cell_type": "markdown",
      "metadata": {
        "id": "q1EGs5cJKib5",
        "colab_type": "text"
      },
      "source": [
        "#### Experimentation Results"
      ]
    },
    {
      "cell_type": "code",
      "metadata": {
        "id": "w6ej2sPJnqeg",
        "colab_type": "code",
        "colab": {
          "base_uri": "https://localhost:8080/",
          "height": 193
        },
        "outputId": "2f7dc344-32e9-401b-a659-addfd9bb410b"
      },
      "source": [
        "result = check_classification(X_train, y_train, X_test, y_test)\n",
        "results.append((experiment_text, result))\n",
        "result"
      ],
      "execution_count": 39,
      "outputs": [
        {
          "output_type": "stream",
          "text": [
            "\n",
            "\n",
            "Best Accuracy was : 95.0495 with the Model: CountVectorizer -> XGBClassifier\n"
          ],
          "name": "stdout"
        },
        {
          "output_type": "execute_result",
          "data": {
            "text/html": [
              "<div>\n",
              "<style scoped>\n",
              "    .dataframe tbody tr th:only-of-type {\n",
              "        vertical-align: middle;\n",
              "    }\n",
              "\n",
              "    .dataframe tbody tr th {\n",
              "        vertical-align: top;\n",
              "    }\n",
              "\n",
              "    .dataframe thead th {\n",
              "        text-align: right;\n",
              "    }\n",
              "</style>\n",
              "<table border=\"1\" class=\"dataframe\">\n",
              "  <thead>\n",
              "    <tr style=\"text-align: right;\">\n",
              "      <th></th>\n",
              "      <th>MultiNomial Naive Bais</th>\n",
              "      <th>LogisticRegression</th>\n",
              "      <th>SVM</th>\n",
              "      <th>RandomForest</th>\n",
              "      <th>XGBClassifier</th>\n",
              "    </tr>\n",
              "    <tr>\n",
              "      <th>Vectorizer</th>\n",
              "      <th></th>\n",
              "      <th></th>\n",
              "      <th></th>\n",
              "      <th></th>\n",
              "      <th></th>\n",
              "    </tr>\n",
              "  </thead>\n",
              "  <tbody>\n",
              "    <tr>\n",
              "      <th>CountVectorizer</th>\n",
              "      <td>0.6733</td>\n",
              "      <td>0.8218</td>\n",
              "      <td>0.6733</td>\n",
              "      <td>0.9406</td>\n",
              "      <td>0.9505</td>\n",
              "    </tr>\n",
              "    <tr>\n",
              "      <th>TfIdFVectorize</th>\n",
              "      <td>0.6436</td>\n",
              "      <td>0.6337</td>\n",
              "      <td>0.6238</td>\n",
              "      <td>0.8812</td>\n",
              "      <td>0.9109</td>\n",
              "    </tr>\n",
              "  </tbody>\n",
              "</table>\n",
              "</div>"
            ],
            "text/plain": [
              "                MultiNomial Naive Bais  ... XGBClassifier\n",
              "Vectorizer                              ...              \n",
              "CountVectorizer                 0.6733  ...        0.9505\n",
              "TfIdFVectorize                  0.6436  ...        0.9109\n",
              "\n",
              "[2 rows x 5 columns]"
            ]
          },
          "metadata": {
            "tags": []
          },
          "execution_count": 39
        }
      ]
    },
    {
      "cell_type": "markdown",
      "metadata": {
        "id": "vDU5XC8Dor12",
        "colab_type": "text"
      },
      "source": [
        "### Experiment 4: Word#POS#(q/k/a)\n",
        "POS Tagger with q,k,a tagging"
      ]
    },
    {
      "cell_type": "code",
      "metadata": {
        "id": "VFncx2V6lY89",
        "colab_type": "code",
        "colab": {}
      },
      "source": [
        "experiment_text = \"Adding POS Tagging and qka tagging example: word#tag#q word#tag#k word#tag#a\""
      ],
      "execution_count": 0,
      "outputs": []
    },
    {
      "cell_type": "markdown",
      "metadata": {
        "id": "rmGrSYUcPaIu",
        "colab_type": "text"
      },
      "source": [
        "#### Preprocessing"
      ]
    },
    {
      "cell_type": "code",
      "metadata": {
        "id": "Jjmq0Mgknvas",
        "colab_type": "code",
        "colab": {}
      },
      "source": [
        "def add_tag_and_pos(text, tag):\n",
        "    tokens = nlp(text)\n",
        "    text = []\n",
        "    for token in tokens:\n",
        "        text.append(\"{}#{}#{}\".format(token.text, token.pos_, tag))\n",
        "\n",
        "    return \" \".join(text)"
      ],
      "execution_count": 0,
      "outputs": []
    },
    {
      "cell_type": "code",
      "metadata": {
        "id": "rbh5RGT3qgdz",
        "colab_type": "code",
        "colab": {}
      },
      "source": [
        "X_train = X_train_orig_dataset[\"Question\"].apply(lambda x: add_tag_and_pos(x, \"q\")) + \" \" + X_train_orig_dataset[\"key\"].apply(lambda x: add_tag_and_pos(x, \"k\")) + \" \" + X_train_orig_dataset[\"answer\"].apply(lambda x: add_tag_and_pos(x, \"a\"))\n",
        "y_train = y_train_orig_dataset\n",
        "X_test = X_test_orig_dataset[\"Question\"].apply(lambda x: add_tag_and_pos(x, \"q\")) + \" \" + X_test_orig_dataset[\"key\"].apply(lambda x: add_tag_and_pos(x, \"k\")) + \" \" + X_test_orig_dataset[\"answer\"].apply(lambda x: add_tag_and_pos(x, \"a\"))\n",
        "y_test = y_test_orig_dataset"
      ],
      "execution_count": 0,
      "outputs": []
    },
    {
      "cell_type": "markdown",
      "metadata": {
        "id": "OBc_wsYPPcYa",
        "colab_type": "text"
      },
      "source": [
        "#### Input Samples"
      ]
    },
    {
      "cell_type": "code",
      "metadata": {
        "id": "o9irVtr7Ph3F",
        "colab_type": "code",
        "colab": {
          "base_uri": "https://localhost:8080/",
          "height": 122
        },
        "outputId": "02d715e6-8d34-41ad-cfd7-63a6709885a9"
      },
      "source": [
        "get_input_samples(X_train, y_train)"
      ],
      "execution_count": 43,
      "outputs": [
        {
          "output_type": "execute_result",
          "data": {
            "text/plain": [
              "[\"mrs#PROPN#q .#PROPN#q brown#PROPN#q /#PUNCT#q not#PART#q /#SYM#q walk#NOUN#q in#ADP#q the#DET#q garden#NOUN#q when#ADV#q the#DET#q murder#NOUN#q happened#VERB#q not#PART#k walk#VERB#k mrs#PROPN#a .#PROPN#a brown#PROPN#a was#AUX#a n't#PART#a walking#VERB#a in#ADP#a the#DET#a garden#NOUN#a .#PUNCT#a --> ['verb+ing'] \",\n",
              " \"she#PRON#q told#VERB#q me#PRON#q that#SCONJ#q she#PRON#q _#PROPN#q a#DET#q lot#NOUN#q before#ADP#q the#DET#q exam#NOUN#q .#PUNCT#q study#NOUN#k she#PRON#a told#VERB#a me#PRON#a that#SCONJ#a she#PRON#a had#AUX#a studied#VERB#a a#DET#a lot#NOUN#a before#ADP#a the#DET#a exam#NOUN#a .#PUNCT#a --> ['3rd form of verb'] \",\n",
              " \"lucy#PROPN#q /#PUNCT#q not#PART#q /#SYM#q do#AUX#q /#PUNCT#q her#DET#q homework#NOUN#q not#PART#k do#AUX#k lucy#PROPN#a has#AUX#a n't#PART#a done#VERB#a her#DET#a homework#NOUN#a .#PUNCT#a --> ['3rd form of verb'] \",\n",
              " \"she#PRON#q said#VERB#q that#SCONJ#q she#PRON#q _#PROPN#q the#DET#q uk#PROPN#q before#ADV#q .#PUNCT#q not#PART#k visit#VERB#k she#PRON#a said#VERB#a that#SCONJ#a she#PRON#a had#AUX#a n't#PART#a visited#VERB#a the#DET#a uk#PROPN#a before#ADV#a .#PUNCT#a --> ['3rd form of verb'] \",\n",
              " \"john#PROPN#q and#CCONJ#q david#PROPN#q /#PUNCT#q often#ADV#q go#VERB#q to#ADP#q restaurants#NOUN#q often#ADV#k john#PROPN#a and#CCONJ#a david#PROPN#a often#ADV#a go#VERB#a to#ADP#a restaurants#NOUN#a .#PUNCT#a --> ['verb(s/es)'] \"]"
            ]
          },
          "metadata": {
            "tags": []
          },
          "execution_count": 43
        }
      ]
    },
    {
      "cell_type": "markdown",
      "metadata": {
        "id": "0iieMsmXPeGA",
        "colab_type": "text"
      },
      "source": [
        "#### Experimentation Results"
      ]
    },
    {
      "cell_type": "code",
      "metadata": {
        "id": "NOedaRu5qo9p",
        "colab_type": "code",
        "colab": {
          "base_uri": "https://localhost:8080/",
          "height": 193
        },
        "outputId": "75193b0b-9867-417c-85a7-6f1f378d0ff7"
      },
      "source": [
        "result = check_classification(X_train, y_train, X_test, y_test)\n",
        "results.append((experiment_text, result))\n",
        "result"
      ],
      "execution_count": 44,
      "outputs": [
        {
          "output_type": "stream",
          "text": [
            "\n",
            "\n",
            "Best Accuracy was : 98.0198 with the Model: CountVectorizer -> XGBClassifier\n"
          ],
          "name": "stdout"
        },
        {
          "output_type": "execute_result",
          "data": {
            "text/html": [
              "<div>\n",
              "<style scoped>\n",
              "    .dataframe tbody tr th:only-of-type {\n",
              "        vertical-align: middle;\n",
              "    }\n",
              "\n",
              "    .dataframe tbody tr th {\n",
              "        vertical-align: top;\n",
              "    }\n",
              "\n",
              "    .dataframe thead th {\n",
              "        text-align: right;\n",
              "    }\n",
              "</style>\n",
              "<table border=\"1\" class=\"dataframe\">\n",
              "  <thead>\n",
              "    <tr style=\"text-align: right;\">\n",
              "      <th></th>\n",
              "      <th>MultiNomial Naive Bais</th>\n",
              "      <th>LogisticRegression</th>\n",
              "      <th>SVM</th>\n",
              "      <th>RandomForest</th>\n",
              "      <th>XGBClassifier</th>\n",
              "    </tr>\n",
              "    <tr>\n",
              "      <th>Vectorizer</th>\n",
              "      <th></th>\n",
              "      <th></th>\n",
              "      <th></th>\n",
              "      <th></th>\n",
              "      <th></th>\n",
              "    </tr>\n",
              "  </thead>\n",
              "  <tbody>\n",
              "    <tr>\n",
              "      <th>CountVectorizer</th>\n",
              "      <td>0.7228</td>\n",
              "      <td>0.8416</td>\n",
              "      <td>0.6733</td>\n",
              "      <td>0.9505</td>\n",
              "      <td>0.9802</td>\n",
              "    </tr>\n",
              "    <tr>\n",
              "      <th>TfIdFVectorize</th>\n",
              "      <td>0.6634</td>\n",
              "      <td>0.6634</td>\n",
              "      <td>0.6238</td>\n",
              "      <td>0.9208</td>\n",
              "      <td>0.9208</td>\n",
              "    </tr>\n",
              "  </tbody>\n",
              "</table>\n",
              "</div>"
            ],
            "text/plain": [
              "                MultiNomial Naive Bais  ... XGBClassifier\n",
              "Vectorizer                              ...              \n",
              "CountVectorizer                 0.7228  ...        0.9802\n",
              "TfIdFVectorize                  0.6634  ...        0.9208\n",
              "\n",
              "[2 rows x 5 columns]"
            ]
          },
          "metadata": {
            "tags": []
          },
          "execution_count": 44
        }
      ]
    },
    {
      "cell_type": "markdown",
      "metadata": {
        "colab_type": "text",
        "id": "T80C_NLBTFPc"
      },
      "source": [
        "### Experiment 5: Word#POS#(q/k/a) Bi Grams\n",
        "POS Tagger with q,k,a tagging"
      ]
    },
    {
      "cell_type": "code",
      "metadata": {
        "colab_type": "code",
        "id": "hftyfMkZTFPf",
        "colab": {}
      },
      "source": [
        "experiment_text = \"Adding POS Tagging and qka tagging example: word#tag#q word#tag#k word#tag#a Bi Grams with same convention\""
      ],
      "execution_count": 0,
      "outputs": []
    },
    {
      "cell_type": "markdown",
      "metadata": {
        "colab_type": "text",
        "id": "Q-ebHnEGTFPi"
      },
      "source": [
        "#### Preprocessing"
      ]
    },
    {
      "cell_type": "code",
      "metadata": {
        "colab_type": "code",
        "id": "-iAI-4TpTFPn",
        "colab": {}
      },
      "source": [
        "X_train = X_train_orig_dataset[\"Question\"].apply(lambda x: add_tag_and_pos(x, \"q\")) + \" \" + X_train_orig_dataset[\"key\"].apply(lambda x: add_tag_and_pos(x, \"k\")) + \" \" + X_train_orig_dataset[\"answer\"].apply(lambda x: add_tag_and_pos(x, \"a\"))\n",
        "X_train = X_train.apply(lambda x: \" \".join(ngrams(x)))\n",
        "y_train = y_train_orig_dataset\n",
        "X_test = X_test_orig_dataset[\"Question\"].apply(lambda x: add_tag_and_pos(x, \"q\")) + \" \" + X_test_orig_dataset[\"key\"].apply(lambda x: add_tag_and_pos(x, \"k\")) + \" \" + X_test_orig_dataset[\"answer\"].apply(lambda x: add_tag_and_pos(x, \"a\"))\n",
        "X_test = X_test.apply(lambda x: \" \".join(ngrams(x)))\n",
        "y_test = y_test_orig_dataset"
      ],
      "execution_count": 0,
      "outputs": []
    },
    {
      "cell_type": "markdown",
      "metadata": {
        "colab_type": "text",
        "id": "EeE6CTEtTFPp"
      },
      "source": [
        "#### Input Samples"
      ]
    },
    {
      "cell_type": "code",
      "metadata": {
        "colab_type": "code",
        "outputId": "0cc81f60-c84c-4f63-9890-98e8d99ec40e",
        "id": "zB1k81pzTFPq",
        "colab": {
          "base_uri": "https://localhost:8080/",
          "height": 122
        }
      },
      "source": [
        "get_input_samples(X_train, y_train)"
      ],
      "execution_count": 47,
      "outputs": [
        {
          "output_type": "execute_result",
          "data": {
            "text/plain": [
              "[\"we#PRON#q /#PUNCT#q /#PUNCT#q not#PART#q not#PART#q /#SYM#q /#SYM#q watch#VERB#q watch#VERB#q tv#NOUN#q tv#NOUN#q at#ADP#q at#ADP#q the#DET#q the#DET#q moment#NOUN#q moment#NOUN#q not#PART#k not#PART#k watch#VERB#k watch#VERB#k we#PRON#a we#PRON#a are#AUX#a are#AUX#a n't#PART#a n't#PART#a watching#VERB#a watching#VERB#a tv#NOUN#a tv#NOUN#a at#ADP#a at#ADP#a the#DET#a the#DET#a moment#NOUN#a moment#NOUN#a .#PUNCT#a --> ['verb+ing'] \",\n",
              " \"they#PRON#q /#PUNCT#q /#PUNCT#q not#PART#q not#PART#q /#SYM#q /#SYM#q have#AUX#q have#AUX#q a#DET#q a#DET#q car#NOUN#q car#NOUN#q not#PART#k not#PART#k they#PRON#a they#PRON#a do#AUX#a do#AUX#a n't#PART#a n't#PART#a have#AUX#a have#AUX#a a#DET#a a#DET#a car#NOUN#a car#NOUN#a .#PUNCT#a --> ['do/does'] \",\n",
              " \"john#PROPN#q /#SYM#q /#SYM#q come#VERB#q come#VERB#q from#ADP#q from#ADP#q new#PROPN#q new#PROPN#q zealand#PROPN#q zealand#PROPN#q ? ? # # PUNCT#q PUNCT#q come#VERB#k come#VERB#k does#AUX#a does#AUX#a john#PROPN#a john#PROPN#a come#VERB#a come#VERB#a from#ADP#a from#ADP#a new#PROPN#a new#PROPN#a zealand#PROPN#a zealand#PROPN#a ? ? # # PUNCT#a --> ['do/does'] \",\n",
              " \"the#DET#q house#PROPN#q house#PROPN#q has#AUX#q has#AUX#q been#AUX#q been#AUX#q _ _ # # PROPN#q PROPN#q .#PUNCT#q .#PUNCT#q sell#VERB#k sell#VERB#k the#DET#a the#DET#a house#PROPN#a house#PROPN#a has#AUX#a has#AUX#a been#AUX#a been#AUX#a sold#VERB#a sold#VERB#a .#PUNCT#a --> ['irregular verb'] \",\n",
              " \"mr#PROPN#q .#PROPN#q .#PROPN#q blue#PROPN#q blue#PROPN#q /#PUNCT#q /#PUNCT#q not#PART#q not#PART#q /#SYM#q /#SYM#q drink#VERB#q drink#VERB#q coffee#NOUN#q coffee#NOUN#q in#ADP#q in#ADP#q the#DET#q the#DET#q library#NOUN#q library#NOUN#q when#ADV#q when#ADV#q the#DET#q the#DET#q murder#NOUN#q murder#NOUN#q happened#VERB#q happened#VERB#q not#PART#k not#PART#k drink#VERB#k drink#VERB#k mr#PROPN#a mr#PROPN#a .#PROPN#a .#PROPN#a blue#PROPN#a blue#PROPN#a was#AUX#a was#AUX#a n't#PART#a n't#PART#a drinking#VERB#a drinking#VERB#a coffee#NOUN#a coffee#NOUN#a in#ADP#a in#ADP#a the#DET#a the#DET#a library#NOUN#a library#NOUN#a .#PUNCT#a --> ['verb+ing'] \"]"
            ]
          },
          "metadata": {
            "tags": []
          },
          "execution_count": 47
        }
      ]
    },
    {
      "cell_type": "markdown",
      "metadata": {
        "colab_type": "text",
        "id": "471ocFwQTFPt"
      },
      "source": [
        "#### Experimentation Results"
      ]
    },
    {
      "cell_type": "code",
      "metadata": {
        "colab_type": "code",
        "outputId": "baafa1db-f705-443c-c516-0e2aad7af636",
        "id": "tnY43QYjTFPu",
        "colab": {
          "base_uri": "https://localhost:8080/",
          "height": 193
        }
      },
      "source": [
        "result = check_classification(X_train, y_train, X_test, y_test)\n",
        "results.append((experiment_text, result))\n",
        "result"
      ],
      "execution_count": 48,
      "outputs": [
        {
          "output_type": "stream",
          "text": [
            "\n",
            "\n",
            "Best Accuracy was : 98.0198 with the Model: CountVectorizer -> XGBClassifier\n"
          ],
          "name": "stdout"
        },
        {
          "output_type": "execute_result",
          "data": {
            "text/html": [
              "<div>\n",
              "<style scoped>\n",
              "    .dataframe tbody tr th:only-of-type {\n",
              "        vertical-align: middle;\n",
              "    }\n",
              "\n",
              "    .dataframe tbody tr th {\n",
              "        vertical-align: top;\n",
              "    }\n",
              "\n",
              "    .dataframe thead th {\n",
              "        text-align: right;\n",
              "    }\n",
              "</style>\n",
              "<table border=\"1\" class=\"dataframe\">\n",
              "  <thead>\n",
              "    <tr style=\"text-align: right;\">\n",
              "      <th></th>\n",
              "      <th>MultiNomial Naive Bais</th>\n",
              "      <th>LogisticRegression</th>\n",
              "      <th>SVM</th>\n",
              "      <th>RandomForest</th>\n",
              "      <th>XGBClassifier</th>\n",
              "    </tr>\n",
              "    <tr>\n",
              "      <th>Vectorizer</th>\n",
              "      <th></th>\n",
              "      <th></th>\n",
              "      <th></th>\n",
              "      <th></th>\n",
              "      <th></th>\n",
              "    </tr>\n",
              "  </thead>\n",
              "  <tbody>\n",
              "    <tr>\n",
              "      <th>CountVectorizer</th>\n",
              "      <td>0.7030</td>\n",
              "      <td>0.8614</td>\n",
              "      <td>0.6634</td>\n",
              "      <td>0.9406</td>\n",
              "      <td>0.9802</td>\n",
              "    </tr>\n",
              "    <tr>\n",
              "      <th>TfIdFVectorize</th>\n",
              "      <td>0.6634</td>\n",
              "      <td>0.6733</td>\n",
              "      <td>0.6436</td>\n",
              "      <td>0.9406</td>\n",
              "      <td>0.9109</td>\n",
              "    </tr>\n",
              "  </tbody>\n",
              "</table>\n",
              "</div>"
            ],
            "text/plain": [
              "                MultiNomial Naive Bais  ... XGBClassifier\n",
              "Vectorizer                              ...              \n",
              "CountVectorizer                 0.7030  ...        0.9802\n",
              "TfIdFVectorize                  0.6634  ...        0.9109\n",
              "\n",
              "[2 rows x 5 columns]"
            ]
          },
          "metadata": {
            "tags": []
          },
          "execution_count": 48
        }
      ]
    },
    {
      "cell_type": "markdown",
      "metadata": {
        "id": "Bg7EYTlhi_kG",
        "colab_type": "text"
      },
      "source": [
        "# Results"
      ]
    },
    {
      "cell_type": "code",
      "metadata": {
        "id": "J00xqSOAqvQH",
        "colab_type": "code",
        "colab": {
          "base_uri": "https://localhost:8080/",
          "height": 1000
        },
        "outputId": "d615a36c-98cf-41f6-ee5b-a984c37f8970"
      },
      "source": [
        "from IPython.display import display, HTML\n",
        "\n",
        "for i, (description, result) in enumerate(results):\n",
        "    print(\"Experiment {}:\".format(i+1))\n",
        "    print(description)\n",
        "    display(HTML(result.to_html()))\n",
        "    print(\"\\n\\n\")"
      ],
      "execution_count": 49,
      "outputs": [
        {
          "output_type": "stream",
          "text": [
            "Experiment 1:\n",
            "Concatenating question + key + answer.\n"
          ],
          "name": "stdout"
        },
        {
          "output_type": "display_data",
          "data": {
            "text/html": [
              "<table border=\"1\" class=\"dataframe\">\n",
              "  <thead>\n",
              "    <tr style=\"text-align: right;\">\n",
              "      <th></th>\n",
              "      <th>MultiNomial Naive Bais</th>\n",
              "      <th>LogisticRegression</th>\n",
              "      <th>SVM</th>\n",
              "      <th>RandomForest</th>\n",
              "      <th>XGBClassifier</th>\n",
              "    </tr>\n",
              "    <tr>\n",
              "      <th>Vectorizer</th>\n",
              "      <th></th>\n",
              "      <th></th>\n",
              "      <th></th>\n",
              "      <th></th>\n",
              "      <th></th>\n",
              "    </tr>\n",
              "  </thead>\n",
              "  <tbody>\n",
              "    <tr>\n",
              "      <th>CountVectorizer</th>\n",
              "      <td>0.6535</td>\n",
              "      <td>0.8119</td>\n",
              "      <td>0.5842</td>\n",
              "      <td>0.9208</td>\n",
              "      <td>0.8911</td>\n",
              "    </tr>\n",
              "    <tr>\n",
              "      <th>TfIdFVectorize</th>\n",
              "      <td>0.6436</td>\n",
              "      <td>0.6436</td>\n",
              "      <td>0.6139</td>\n",
              "      <td>0.8812</td>\n",
              "      <td>0.8317</td>\n",
              "    </tr>\n",
              "  </tbody>\n",
              "</table>"
            ],
            "text/plain": [
              "<IPython.core.display.HTML object>"
            ]
          },
          "metadata": {
            "tags": []
          }
        },
        {
          "output_type": "stream",
          "text": [
            "\n",
            "\n",
            "\n",
            "Experiment 2:\n",
            "Adding Pos Tags along with q#tags + k#tags + a#tags Unigrams\n"
          ],
          "name": "stdout"
        },
        {
          "output_type": "display_data",
          "data": {
            "text/html": [
              "<table border=\"1\" class=\"dataframe\">\n",
              "  <thead>\n",
              "    <tr style=\"text-align: right;\">\n",
              "      <th></th>\n",
              "      <th>MultiNomial Naive Bais</th>\n",
              "      <th>LogisticRegression</th>\n",
              "      <th>SVM</th>\n",
              "      <th>RandomForest</th>\n",
              "      <th>XGBClassifier</th>\n",
              "    </tr>\n",
              "    <tr>\n",
              "      <th>Vectorizer</th>\n",
              "      <th></th>\n",
              "      <th></th>\n",
              "      <th></th>\n",
              "      <th></th>\n",
              "      <th></th>\n",
              "    </tr>\n",
              "  </thead>\n",
              "  <tbody>\n",
              "    <tr>\n",
              "      <th>CountVectorizer</th>\n",
              "      <td>0.7030</td>\n",
              "      <td>0.8317</td>\n",
              "      <td>0.6832</td>\n",
              "      <td>0.9703</td>\n",
              "      <td>0.9802</td>\n",
              "    </tr>\n",
              "    <tr>\n",
              "      <th>TfIdFVectorize</th>\n",
              "      <td>0.6535</td>\n",
              "      <td>0.6535</td>\n",
              "      <td>0.6535</td>\n",
              "      <td>0.9109</td>\n",
              "      <td>0.9307</td>\n",
              "    </tr>\n",
              "  </tbody>\n",
              "</table>"
            ],
            "text/plain": [
              "<IPython.core.display.HTML object>"
            ]
          },
          "metadata": {
            "tags": []
          }
        },
        {
          "output_type": "stream",
          "text": [
            "\n",
            "\n",
            "\n",
            "Experiment 3:\n",
            "Tagging word with q, k, a example: word#q + word#k + word#a\n"
          ],
          "name": "stdout"
        },
        {
          "output_type": "display_data",
          "data": {
            "text/html": [
              "<table border=\"1\" class=\"dataframe\">\n",
              "  <thead>\n",
              "    <tr style=\"text-align: right;\">\n",
              "      <th></th>\n",
              "      <th>MultiNomial Naive Bais</th>\n",
              "      <th>LogisticRegression</th>\n",
              "      <th>SVM</th>\n",
              "      <th>RandomForest</th>\n",
              "      <th>XGBClassifier</th>\n",
              "    </tr>\n",
              "    <tr>\n",
              "      <th>Vectorizer</th>\n",
              "      <th></th>\n",
              "      <th></th>\n",
              "      <th></th>\n",
              "      <th></th>\n",
              "      <th></th>\n",
              "    </tr>\n",
              "  </thead>\n",
              "  <tbody>\n",
              "    <tr>\n",
              "      <th>CountVectorizer</th>\n",
              "      <td>0.6733</td>\n",
              "      <td>0.8218</td>\n",
              "      <td>0.6733</td>\n",
              "      <td>0.9406</td>\n",
              "      <td>0.9505</td>\n",
              "    </tr>\n",
              "    <tr>\n",
              "      <th>TfIdFVectorize</th>\n",
              "      <td>0.6436</td>\n",
              "      <td>0.6337</td>\n",
              "      <td>0.6238</td>\n",
              "      <td>0.8812</td>\n",
              "      <td>0.9109</td>\n",
              "    </tr>\n",
              "  </tbody>\n",
              "</table>"
            ],
            "text/plain": [
              "<IPython.core.display.HTML object>"
            ]
          },
          "metadata": {
            "tags": []
          }
        },
        {
          "output_type": "stream",
          "text": [
            "\n",
            "\n",
            "\n",
            "Experiment 4:\n",
            "Adding POS Tagging and qka tagging example: word#tag#q word#tag#k word#tag#a\n"
          ],
          "name": "stdout"
        },
        {
          "output_type": "display_data",
          "data": {
            "text/html": [
              "<table border=\"1\" class=\"dataframe\">\n",
              "  <thead>\n",
              "    <tr style=\"text-align: right;\">\n",
              "      <th></th>\n",
              "      <th>MultiNomial Naive Bais</th>\n",
              "      <th>LogisticRegression</th>\n",
              "      <th>SVM</th>\n",
              "      <th>RandomForest</th>\n",
              "      <th>XGBClassifier</th>\n",
              "    </tr>\n",
              "    <tr>\n",
              "      <th>Vectorizer</th>\n",
              "      <th></th>\n",
              "      <th></th>\n",
              "      <th></th>\n",
              "      <th></th>\n",
              "      <th></th>\n",
              "    </tr>\n",
              "  </thead>\n",
              "  <tbody>\n",
              "    <tr>\n",
              "      <th>CountVectorizer</th>\n",
              "      <td>0.7228</td>\n",
              "      <td>0.8416</td>\n",
              "      <td>0.6733</td>\n",
              "      <td>0.9505</td>\n",
              "      <td>0.9802</td>\n",
              "    </tr>\n",
              "    <tr>\n",
              "      <th>TfIdFVectorize</th>\n",
              "      <td>0.6634</td>\n",
              "      <td>0.6634</td>\n",
              "      <td>0.6238</td>\n",
              "      <td>0.9208</td>\n",
              "      <td>0.9208</td>\n",
              "    </tr>\n",
              "  </tbody>\n",
              "</table>"
            ],
            "text/plain": [
              "<IPython.core.display.HTML object>"
            ]
          },
          "metadata": {
            "tags": []
          }
        },
        {
          "output_type": "stream",
          "text": [
            "\n",
            "\n",
            "\n",
            "Experiment 5:\n",
            "Adding POS Tagging and qka tagging example: word#tag#q word#tag#k word#tag#a Bi Grams with same convention\n"
          ],
          "name": "stdout"
        },
        {
          "output_type": "display_data",
          "data": {
            "text/html": [
              "<table border=\"1\" class=\"dataframe\">\n",
              "  <thead>\n",
              "    <tr style=\"text-align: right;\">\n",
              "      <th></th>\n",
              "      <th>MultiNomial Naive Bais</th>\n",
              "      <th>LogisticRegression</th>\n",
              "      <th>SVM</th>\n",
              "      <th>RandomForest</th>\n",
              "      <th>XGBClassifier</th>\n",
              "    </tr>\n",
              "    <tr>\n",
              "      <th>Vectorizer</th>\n",
              "      <th></th>\n",
              "      <th></th>\n",
              "      <th></th>\n",
              "      <th></th>\n",
              "      <th></th>\n",
              "    </tr>\n",
              "  </thead>\n",
              "  <tbody>\n",
              "    <tr>\n",
              "      <th>CountVectorizer</th>\n",
              "      <td>0.7030</td>\n",
              "      <td>0.8614</td>\n",
              "      <td>0.6634</td>\n",
              "      <td>0.9406</td>\n",
              "      <td>0.9802</td>\n",
              "    </tr>\n",
              "    <tr>\n",
              "      <th>TfIdFVectorize</th>\n",
              "      <td>0.6634</td>\n",
              "      <td>0.6733</td>\n",
              "      <td>0.6436</td>\n",
              "      <td>0.9406</td>\n",
              "      <td>0.9109</td>\n",
              "    </tr>\n",
              "  </tbody>\n",
              "</table>"
            ],
            "text/plain": [
              "<IPython.core.display.HTML object>"
            ]
          },
          "metadata": {
            "tags": []
          }
        },
        {
          "output_type": "stream",
          "text": [
            "\n",
            "\n",
            "\n"
          ],
          "name": "stdout"
        }
      ]
    },
    {
      "cell_type": "code",
      "metadata": {
        "id": "Vo8lWzhJl1eT",
        "colab_type": "code",
        "colab": {}
      },
      "source": [
        ""
      ],
      "execution_count": 0,
      "outputs": []
    }
  ]
}