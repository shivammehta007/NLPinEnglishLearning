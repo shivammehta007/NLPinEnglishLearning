{
  "nbformat": 4,
  "nbformat_minor": 0,
  "metadata": {
    "colab": {
      "name": "Classifier_to_detect_type_of_questions.ipynb",
      "provenance": [],
      "toc_visible": true,
      "mount_file_id": "1lX6LJC1-6Rvx8CtII4R1v4hI_yGNv5hB",
      "authorship_tag": "ABX9TyPDz2L88784U4d+6f4POP70",
      "include_colab_link": true
    },
    "kernelspec": {
      "name": "python3",
      "display_name": "Python 3"
    },
    "accelerator": "GPU",
    "widgets": {
      "application/vnd.jupyter.widget-state+json": {
        "7623fb071563449b9ab4069570c4f816": {
          "model_module": "@jupyter-widgets/controls",
          "model_name": "HBoxModel",
          "state": {
            "_view_name": "HBoxView",
            "_dom_classes": [],
            "_model_name": "HBoxModel",
            "_view_module": "@jupyter-widgets/controls",
            "_model_module_version": "1.5.0",
            "_view_count": null,
            "_view_module_version": "1.5.0",
            "box_style": "",
            "layout": "IPY_MODEL_fc78ebb0d7e740da95e37f15ac54fcf5",
            "_model_module": "@jupyter-widgets/controls",
            "children": [
              "IPY_MODEL_fe3dcd7a63e14605a16ee3c1644216cc",
              "IPY_MODEL_8478e42ce89848fbb51ee137c2d880bc"
            ]
          }
        },
        "fc78ebb0d7e740da95e37f15ac54fcf5": {
          "model_module": "@jupyter-widgets/base",
          "model_name": "LayoutModel",
          "state": {
            "_view_name": "LayoutView",
            "grid_template_rows": null,
            "right": null,
            "justify_content": null,
            "_view_module": "@jupyter-widgets/base",
            "overflow": null,
            "_model_module_version": "1.2.0",
            "_view_count": null,
            "flex_flow": null,
            "width": null,
            "min_width": null,
            "border": null,
            "align_items": null,
            "bottom": null,
            "_model_module": "@jupyter-widgets/base",
            "top": null,
            "grid_column": null,
            "overflow_y": null,
            "overflow_x": null,
            "grid_auto_flow": null,
            "grid_area": null,
            "grid_template_columns": null,
            "flex": null,
            "_model_name": "LayoutModel",
            "justify_items": null,
            "grid_row": null,
            "max_height": null,
            "align_content": null,
            "visibility": null,
            "align_self": null,
            "height": null,
            "min_height": null,
            "padding": null,
            "grid_auto_rows": null,
            "grid_gap": null,
            "max_width": null,
            "order": null,
            "_view_module_version": "1.2.0",
            "grid_template_areas": null,
            "object_position": null,
            "object_fit": null,
            "grid_auto_columns": null,
            "margin": null,
            "display": null,
            "left": null
          }
        },
        "fe3dcd7a63e14605a16ee3c1644216cc": {
          "model_module": "@jupyter-widgets/controls",
          "model_name": "FloatProgressModel",
          "state": {
            "_view_name": "ProgressView",
            "style": "IPY_MODEL_c16cf682324f425198130e3f5176a531",
            "_dom_classes": [],
            "description": "100%",
            "_model_name": "FloatProgressModel",
            "bar_style": "success",
            "max": 569,
            "_view_module": "@jupyter-widgets/controls",
            "_model_module_version": "1.5.0",
            "value": 569,
            "_view_count": null,
            "_view_module_version": "1.5.0",
            "orientation": "horizontal",
            "min": 0,
            "description_tooltip": null,
            "_model_module": "@jupyter-widgets/controls",
            "layout": "IPY_MODEL_fd3a317b65004a47a354da1f3528624e"
          }
        },
        "8478e42ce89848fbb51ee137c2d880bc": {
          "model_module": "@jupyter-widgets/controls",
          "model_name": "HTMLModel",
          "state": {
            "_view_name": "HTMLView",
            "style": "IPY_MODEL_5b3e8164569e4bcaa743f91a2057cf60",
            "_dom_classes": [],
            "description": "",
            "_model_name": "HTMLModel",
            "placeholder": "​",
            "_view_module": "@jupyter-widgets/controls",
            "_model_module_version": "1.5.0",
            "value": " 569/569 [00:07&lt;00:00, 72.72it/s]",
            "_view_count": null,
            "_view_module_version": "1.5.0",
            "description_tooltip": null,
            "_model_module": "@jupyter-widgets/controls",
            "layout": "IPY_MODEL_d5f8511b51954d2ba39ac56d05b862dc"
          }
        },
        "c16cf682324f425198130e3f5176a531": {
          "model_module": "@jupyter-widgets/controls",
          "model_name": "ProgressStyleModel",
          "state": {
            "_view_name": "StyleView",
            "_model_name": "ProgressStyleModel",
            "description_width": "initial",
            "_view_module": "@jupyter-widgets/base",
            "_model_module_version": "1.5.0",
            "_view_count": null,
            "_view_module_version": "1.2.0",
            "bar_color": null,
            "_model_module": "@jupyter-widgets/controls"
          }
        },
        "fd3a317b65004a47a354da1f3528624e": {
          "model_module": "@jupyter-widgets/base",
          "model_name": "LayoutModel",
          "state": {
            "_view_name": "LayoutView",
            "grid_template_rows": null,
            "right": null,
            "justify_content": null,
            "_view_module": "@jupyter-widgets/base",
            "overflow": null,
            "_model_module_version": "1.2.0",
            "_view_count": null,
            "flex_flow": null,
            "width": null,
            "min_width": null,
            "border": null,
            "align_items": null,
            "bottom": null,
            "_model_module": "@jupyter-widgets/base",
            "top": null,
            "grid_column": null,
            "overflow_y": null,
            "overflow_x": null,
            "grid_auto_flow": null,
            "grid_area": null,
            "grid_template_columns": null,
            "flex": null,
            "_model_name": "LayoutModel",
            "justify_items": null,
            "grid_row": null,
            "max_height": null,
            "align_content": null,
            "visibility": null,
            "align_self": null,
            "height": null,
            "min_height": null,
            "padding": null,
            "grid_auto_rows": null,
            "grid_gap": null,
            "max_width": null,
            "order": null,
            "_view_module_version": "1.2.0",
            "grid_template_areas": null,
            "object_position": null,
            "object_fit": null,
            "grid_auto_columns": null,
            "margin": null,
            "display": null,
            "left": null
          }
        },
        "5b3e8164569e4bcaa743f91a2057cf60": {
          "model_module": "@jupyter-widgets/controls",
          "model_name": "DescriptionStyleModel",
          "state": {
            "_view_name": "StyleView",
            "_model_name": "DescriptionStyleModel",
            "description_width": "",
            "_view_module": "@jupyter-widgets/base",
            "_model_module_version": "1.5.0",
            "_view_count": null,
            "_view_module_version": "1.2.0",
            "_model_module": "@jupyter-widgets/controls"
          }
        },
        "d5f8511b51954d2ba39ac56d05b862dc": {
          "model_module": "@jupyter-widgets/base",
          "model_name": "LayoutModel",
          "state": {
            "_view_name": "LayoutView",
            "grid_template_rows": null,
            "right": null,
            "justify_content": null,
            "_view_module": "@jupyter-widgets/base",
            "overflow": null,
            "_model_module_version": "1.2.0",
            "_view_count": null,
            "flex_flow": null,
            "width": null,
            "min_width": null,
            "border": null,
            "align_items": null,
            "bottom": null,
            "_model_module": "@jupyter-widgets/base",
            "top": null,
            "grid_column": null,
            "overflow_y": null,
            "overflow_x": null,
            "grid_auto_flow": null,
            "grid_area": null,
            "grid_template_columns": null,
            "flex": null,
            "_model_name": "LayoutModel",
            "justify_items": null,
            "grid_row": null,
            "max_height": null,
            "align_content": null,
            "visibility": null,
            "align_self": null,
            "height": null,
            "min_height": null,
            "padding": null,
            "grid_auto_rows": null,
            "grid_gap": null,
            "max_width": null,
            "order": null,
            "_view_module_version": "1.2.0",
            "grid_template_areas": null,
            "object_position": null,
            "object_fit": null,
            "grid_auto_columns": null,
            "margin": null,
            "display": null,
            "left": null
          }
        },
        "f7c4db750c254fa58d9ae2b15917ea1a": {
          "model_module": "@jupyter-widgets/controls",
          "model_name": "HBoxModel",
          "state": {
            "_view_name": "HBoxView",
            "_dom_classes": [],
            "_model_name": "HBoxModel",
            "_view_module": "@jupyter-widgets/controls",
            "_model_module_version": "1.5.0",
            "_view_count": null,
            "_view_module_version": "1.5.0",
            "box_style": "",
            "layout": "IPY_MODEL_ef2daddac5cb473286f5960d2f61d52b",
            "_model_module": "@jupyter-widgets/controls",
            "children": [
              "IPY_MODEL_f569c59755d4498ca4b68b30f45cb65c",
              "IPY_MODEL_09156ac9da5949e8bb3e16e6e7036d2b"
            ]
          }
        },
        "ef2daddac5cb473286f5960d2f61d52b": {
          "model_module": "@jupyter-widgets/base",
          "model_name": "LayoutModel",
          "state": {
            "_view_name": "LayoutView",
            "grid_template_rows": null,
            "right": null,
            "justify_content": null,
            "_view_module": "@jupyter-widgets/base",
            "overflow": null,
            "_model_module_version": "1.2.0",
            "_view_count": null,
            "flex_flow": null,
            "width": null,
            "min_width": null,
            "border": null,
            "align_items": null,
            "bottom": null,
            "_model_module": "@jupyter-widgets/base",
            "top": null,
            "grid_column": null,
            "overflow_y": null,
            "overflow_x": null,
            "grid_auto_flow": null,
            "grid_area": null,
            "grid_template_columns": null,
            "flex": null,
            "_model_name": "LayoutModel",
            "justify_items": null,
            "grid_row": null,
            "max_height": null,
            "align_content": null,
            "visibility": null,
            "align_self": null,
            "height": null,
            "min_height": null,
            "padding": null,
            "grid_auto_rows": null,
            "grid_gap": null,
            "max_width": null,
            "order": null,
            "_view_module_version": "1.2.0",
            "grid_template_areas": null,
            "object_position": null,
            "object_fit": null,
            "grid_auto_columns": null,
            "margin": null,
            "display": null,
            "left": null
          }
        },
        "f569c59755d4498ca4b68b30f45cb65c": {
          "model_module": "@jupyter-widgets/controls",
          "model_name": "FloatProgressModel",
          "state": {
            "_view_name": "ProgressView",
            "style": "IPY_MODEL_372133c7e59f4dcc89e8ca24433216b8",
            "_dom_classes": [],
            "description": "100%",
            "_model_name": "FloatProgressModel",
            "bar_style": "success",
            "max": 101,
            "_view_module": "@jupyter-widgets/controls",
            "_model_module_version": "1.5.0",
            "value": 101,
            "_view_count": null,
            "_view_module_version": "1.5.0",
            "orientation": "horizontal",
            "min": 0,
            "description_tooltip": null,
            "_model_module": "@jupyter-widgets/controls",
            "layout": "IPY_MODEL_d67db91e3ae4494ab0a2f8b9904489e9"
          }
        },
        "09156ac9da5949e8bb3e16e6e7036d2b": {
          "model_module": "@jupyter-widgets/controls",
          "model_name": "HTMLModel",
          "state": {
            "_view_name": "HTMLView",
            "style": "IPY_MODEL_1275aa8e68d6414ba2d3abb732b09345",
            "_dom_classes": [],
            "description": "",
            "_model_name": "HTMLModel",
            "placeholder": "​",
            "_view_module": "@jupyter-widgets/controls",
            "_model_module_version": "1.5.0",
            "value": " 101/101 [00:01&lt;00:00, 54.66it/s]",
            "_view_count": null,
            "_view_module_version": "1.5.0",
            "description_tooltip": null,
            "_model_module": "@jupyter-widgets/controls",
            "layout": "IPY_MODEL_e9ff61707c1d42de9950a60fa5c75218"
          }
        },
        "372133c7e59f4dcc89e8ca24433216b8": {
          "model_module": "@jupyter-widgets/controls",
          "model_name": "ProgressStyleModel",
          "state": {
            "_view_name": "StyleView",
            "_model_name": "ProgressStyleModel",
            "description_width": "initial",
            "_view_module": "@jupyter-widgets/base",
            "_model_module_version": "1.5.0",
            "_view_count": null,
            "_view_module_version": "1.2.0",
            "bar_color": null,
            "_model_module": "@jupyter-widgets/controls"
          }
        },
        "d67db91e3ae4494ab0a2f8b9904489e9": {
          "model_module": "@jupyter-widgets/base",
          "model_name": "LayoutModel",
          "state": {
            "_view_name": "LayoutView",
            "grid_template_rows": null,
            "right": null,
            "justify_content": null,
            "_view_module": "@jupyter-widgets/base",
            "overflow": null,
            "_model_module_version": "1.2.0",
            "_view_count": null,
            "flex_flow": null,
            "width": null,
            "min_width": null,
            "border": null,
            "align_items": null,
            "bottom": null,
            "_model_module": "@jupyter-widgets/base",
            "top": null,
            "grid_column": null,
            "overflow_y": null,
            "overflow_x": null,
            "grid_auto_flow": null,
            "grid_area": null,
            "grid_template_columns": null,
            "flex": null,
            "_model_name": "LayoutModel",
            "justify_items": null,
            "grid_row": null,
            "max_height": null,
            "align_content": null,
            "visibility": null,
            "align_self": null,
            "height": null,
            "min_height": null,
            "padding": null,
            "grid_auto_rows": null,
            "grid_gap": null,
            "max_width": null,
            "order": null,
            "_view_module_version": "1.2.0",
            "grid_template_areas": null,
            "object_position": null,
            "object_fit": null,
            "grid_auto_columns": null,
            "margin": null,
            "display": null,
            "left": null
          }
        },
        "1275aa8e68d6414ba2d3abb732b09345": {
          "model_module": "@jupyter-widgets/controls",
          "model_name": "DescriptionStyleModel",
          "state": {
            "_view_name": "StyleView",
            "_model_name": "DescriptionStyleModel",
            "description_width": "",
            "_view_module": "@jupyter-widgets/base",
            "_model_module_version": "1.5.0",
            "_view_count": null,
            "_view_module_version": "1.2.0",
            "_model_module": "@jupyter-widgets/controls"
          }
        },
        "e9ff61707c1d42de9950a60fa5c75218": {
          "model_module": "@jupyter-widgets/base",
          "model_name": "LayoutModel",
          "state": {
            "_view_name": "LayoutView",
            "grid_template_rows": null,
            "right": null,
            "justify_content": null,
            "_view_module": "@jupyter-widgets/base",
            "overflow": null,
            "_model_module_version": "1.2.0",
            "_view_count": null,
            "flex_flow": null,
            "width": null,
            "min_width": null,
            "border": null,
            "align_items": null,
            "bottom": null,
            "_model_module": "@jupyter-widgets/base",
            "top": null,
            "grid_column": null,
            "overflow_y": null,
            "overflow_x": null,
            "grid_auto_flow": null,
            "grid_area": null,
            "grid_template_columns": null,
            "flex": null,
            "_model_name": "LayoutModel",
            "justify_items": null,
            "grid_row": null,
            "max_height": null,
            "align_content": null,
            "visibility": null,
            "align_self": null,
            "height": null,
            "min_height": null,
            "padding": null,
            "grid_auto_rows": null,
            "grid_gap": null,
            "max_width": null,
            "order": null,
            "_view_module_version": "1.2.0",
            "grid_template_areas": null,
            "object_position": null,
            "object_fit": null,
            "grid_auto_columns": null,
            "margin": null,
            "display": null,
            "left": null
          }
        },
        "96b05065893a4b7cb22fef83672bd3a9": {
          "model_module": "@jupyter-widgets/controls",
          "model_name": "HBoxModel",
          "state": {
            "_view_name": "HBoxView",
            "_dom_classes": [],
            "_model_name": "HBoxModel",
            "_view_module": "@jupyter-widgets/controls",
            "_model_module_version": "1.5.0",
            "_view_count": null,
            "_view_module_version": "1.5.0",
            "box_style": "",
            "layout": "IPY_MODEL_bc65619b4fd84984b9f7b9af8ccae1bb",
            "_model_module": "@jupyter-widgets/controls",
            "children": [
              "IPY_MODEL_fbf28805aebd42588b6f8c104a81348c",
              "IPY_MODEL_09f50b8e48194ba3bc3ef7d8cb7ebd53"
            ]
          }
        },
        "bc65619b4fd84984b9f7b9af8ccae1bb": {
          "model_module": "@jupyter-widgets/base",
          "model_name": "LayoutModel",
          "state": {
            "_view_name": "LayoutView",
            "grid_template_rows": null,
            "right": null,
            "justify_content": null,
            "_view_module": "@jupyter-widgets/base",
            "overflow": null,
            "_model_module_version": "1.2.0",
            "_view_count": null,
            "flex_flow": null,
            "width": null,
            "min_width": null,
            "border": null,
            "align_items": null,
            "bottom": null,
            "_model_module": "@jupyter-widgets/base",
            "top": null,
            "grid_column": null,
            "overflow_y": null,
            "overflow_x": null,
            "grid_auto_flow": null,
            "grid_area": null,
            "grid_template_columns": null,
            "flex": null,
            "_model_name": "LayoutModel",
            "justify_items": null,
            "grid_row": null,
            "max_height": null,
            "align_content": null,
            "visibility": null,
            "align_self": null,
            "height": null,
            "min_height": null,
            "padding": null,
            "grid_auto_rows": null,
            "grid_gap": null,
            "max_width": null,
            "order": null,
            "_view_module_version": "1.2.0",
            "grid_template_areas": null,
            "object_position": null,
            "object_fit": null,
            "grid_auto_columns": null,
            "margin": null,
            "display": null,
            "left": null
          }
        },
        "fbf28805aebd42588b6f8c104a81348c": {
          "model_module": "@jupyter-widgets/controls",
          "model_name": "FloatProgressModel",
          "state": {
            "_view_name": "ProgressView",
            "style": "IPY_MODEL_55fc08c9a8f54db18700b692221b637c",
            "_dom_classes": [],
            "description": "100%",
            "_model_name": "FloatProgressModel",
            "bar_style": "success",
            "max": 569,
            "_view_module": "@jupyter-widgets/controls",
            "_model_module_version": "1.5.0",
            "value": 569,
            "_view_count": null,
            "_view_module_version": "1.5.0",
            "orientation": "horizontal",
            "min": 0,
            "description_tooltip": null,
            "_model_module": "@jupyter-widgets/controls",
            "layout": "IPY_MODEL_d6b40c4c5d3c4395bb821b00ca817a46"
          }
        },
        "09f50b8e48194ba3bc3ef7d8cb7ebd53": {
          "model_module": "@jupyter-widgets/controls",
          "model_name": "HTMLModel",
          "state": {
            "_view_name": "HTMLView",
            "style": "IPY_MODEL_7f2afbfff7f6455a8f90a36124371870",
            "_dom_classes": [],
            "description": "",
            "_model_name": "HTMLModel",
            "placeholder": "​",
            "_view_module": "@jupyter-widgets/controls",
            "_model_module_version": "1.5.0",
            "value": " 569/569 [00:06&lt;00:00, 83.22it/s]",
            "_view_count": null,
            "_view_module_version": "1.5.0",
            "description_tooltip": null,
            "_model_module": "@jupyter-widgets/controls",
            "layout": "IPY_MODEL_36ab937b3c544fb3987665848a4f92a3"
          }
        },
        "55fc08c9a8f54db18700b692221b637c": {
          "model_module": "@jupyter-widgets/controls",
          "model_name": "ProgressStyleModel",
          "state": {
            "_view_name": "StyleView",
            "_model_name": "ProgressStyleModel",
            "description_width": "initial",
            "_view_module": "@jupyter-widgets/base",
            "_model_module_version": "1.5.0",
            "_view_count": null,
            "_view_module_version": "1.2.0",
            "bar_color": null,
            "_model_module": "@jupyter-widgets/controls"
          }
        },
        "d6b40c4c5d3c4395bb821b00ca817a46": {
          "model_module": "@jupyter-widgets/base",
          "model_name": "LayoutModel",
          "state": {
            "_view_name": "LayoutView",
            "grid_template_rows": null,
            "right": null,
            "justify_content": null,
            "_view_module": "@jupyter-widgets/base",
            "overflow": null,
            "_model_module_version": "1.2.0",
            "_view_count": null,
            "flex_flow": null,
            "width": null,
            "min_width": null,
            "border": null,
            "align_items": null,
            "bottom": null,
            "_model_module": "@jupyter-widgets/base",
            "top": null,
            "grid_column": null,
            "overflow_y": null,
            "overflow_x": null,
            "grid_auto_flow": null,
            "grid_area": null,
            "grid_template_columns": null,
            "flex": null,
            "_model_name": "LayoutModel",
            "justify_items": null,
            "grid_row": null,
            "max_height": null,
            "align_content": null,
            "visibility": null,
            "align_self": null,
            "height": null,
            "min_height": null,
            "padding": null,
            "grid_auto_rows": null,
            "grid_gap": null,
            "max_width": null,
            "order": null,
            "_view_module_version": "1.2.0",
            "grid_template_areas": null,
            "object_position": null,
            "object_fit": null,
            "grid_auto_columns": null,
            "margin": null,
            "display": null,
            "left": null
          }
        },
        "7f2afbfff7f6455a8f90a36124371870": {
          "model_module": "@jupyter-widgets/controls",
          "model_name": "DescriptionStyleModel",
          "state": {
            "_view_name": "StyleView",
            "_model_name": "DescriptionStyleModel",
            "description_width": "",
            "_view_module": "@jupyter-widgets/base",
            "_model_module_version": "1.5.0",
            "_view_count": null,
            "_view_module_version": "1.2.0",
            "_model_module": "@jupyter-widgets/controls"
          }
        },
        "36ab937b3c544fb3987665848a4f92a3": {
          "model_module": "@jupyter-widgets/base",
          "model_name": "LayoutModel",
          "state": {
            "_view_name": "LayoutView",
            "grid_template_rows": null,
            "right": null,
            "justify_content": null,
            "_view_module": "@jupyter-widgets/base",
            "overflow": null,
            "_model_module_version": "1.2.0",
            "_view_count": null,
            "flex_flow": null,
            "width": null,
            "min_width": null,
            "border": null,
            "align_items": null,
            "bottom": null,
            "_model_module": "@jupyter-widgets/base",
            "top": null,
            "grid_column": null,
            "overflow_y": null,
            "overflow_x": null,
            "grid_auto_flow": null,
            "grid_area": null,
            "grid_template_columns": null,
            "flex": null,
            "_model_name": "LayoutModel",
            "justify_items": null,
            "grid_row": null,
            "max_height": null,
            "align_content": null,
            "visibility": null,
            "align_self": null,
            "height": null,
            "min_height": null,
            "padding": null,
            "grid_auto_rows": null,
            "grid_gap": null,
            "max_width": null,
            "order": null,
            "_view_module_version": "1.2.0",
            "grid_template_areas": null,
            "object_position": null,
            "object_fit": null,
            "grid_auto_columns": null,
            "margin": null,
            "display": null,
            "left": null
          }
        },
        "a159aab6fbb94119b735d5e297139481": {
          "model_module": "@jupyter-widgets/controls",
          "model_name": "HBoxModel",
          "state": {
            "_view_name": "HBoxView",
            "_dom_classes": [],
            "_model_name": "HBoxModel",
            "_view_module": "@jupyter-widgets/controls",
            "_model_module_version": "1.5.0",
            "_view_count": null,
            "_view_module_version": "1.5.0",
            "box_style": "",
            "layout": "IPY_MODEL_390738df4bfd429d8e1a7c8abd9dff88",
            "_model_module": "@jupyter-widgets/controls",
            "children": [
              "IPY_MODEL_5f129a5467964d41b8f27834a59b27d8",
              "IPY_MODEL_8e593c9a9058401d93135825cc8a6968"
            ]
          }
        },
        "390738df4bfd429d8e1a7c8abd9dff88": {
          "model_module": "@jupyter-widgets/base",
          "model_name": "LayoutModel",
          "state": {
            "_view_name": "LayoutView",
            "grid_template_rows": null,
            "right": null,
            "justify_content": null,
            "_view_module": "@jupyter-widgets/base",
            "overflow": null,
            "_model_module_version": "1.2.0",
            "_view_count": null,
            "flex_flow": null,
            "width": null,
            "min_width": null,
            "border": null,
            "align_items": null,
            "bottom": null,
            "_model_module": "@jupyter-widgets/base",
            "top": null,
            "grid_column": null,
            "overflow_y": null,
            "overflow_x": null,
            "grid_auto_flow": null,
            "grid_area": null,
            "grid_template_columns": null,
            "flex": null,
            "_model_name": "LayoutModel",
            "justify_items": null,
            "grid_row": null,
            "max_height": null,
            "align_content": null,
            "visibility": null,
            "align_self": null,
            "height": null,
            "min_height": null,
            "padding": null,
            "grid_auto_rows": null,
            "grid_gap": null,
            "max_width": null,
            "order": null,
            "_view_module_version": "1.2.0",
            "grid_template_areas": null,
            "object_position": null,
            "object_fit": null,
            "grid_auto_columns": null,
            "margin": null,
            "display": null,
            "left": null
          }
        },
        "5f129a5467964d41b8f27834a59b27d8": {
          "model_module": "@jupyter-widgets/controls",
          "model_name": "FloatProgressModel",
          "state": {
            "_view_name": "ProgressView",
            "style": "IPY_MODEL_9be278b5eb4449fa819493a969eb78ef",
            "_dom_classes": [],
            "description": "100%",
            "_model_name": "FloatProgressModel",
            "bar_style": "success",
            "max": 101,
            "_view_module": "@jupyter-widgets/controls",
            "_model_module_version": "1.5.0",
            "value": 101,
            "_view_count": null,
            "_view_module_version": "1.5.0",
            "orientation": "horizontal",
            "min": 0,
            "description_tooltip": null,
            "_model_module": "@jupyter-widgets/controls",
            "layout": "IPY_MODEL_ffc9c592ba174242806150aa4daf986d"
          }
        },
        "8e593c9a9058401d93135825cc8a6968": {
          "model_module": "@jupyter-widgets/controls",
          "model_name": "HTMLModel",
          "state": {
            "_view_name": "HTMLView",
            "style": "IPY_MODEL_98e6d21e7cc74510866c786dd909f1fa",
            "_dom_classes": [],
            "description": "",
            "_model_name": "HTMLModel",
            "placeholder": "​",
            "_view_module": "@jupyter-widgets/controls",
            "_model_module_version": "1.5.0",
            "value": " 101/101 [00:01&lt;00:00, 90.71it/s]",
            "_view_count": null,
            "_view_module_version": "1.5.0",
            "description_tooltip": null,
            "_model_module": "@jupyter-widgets/controls",
            "layout": "IPY_MODEL_91ee0191eaa34c6a8d30c09227fd6a0b"
          }
        },
        "9be278b5eb4449fa819493a969eb78ef": {
          "model_module": "@jupyter-widgets/controls",
          "model_name": "ProgressStyleModel",
          "state": {
            "_view_name": "StyleView",
            "_model_name": "ProgressStyleModel",
            "description_width": "initial",
            "_view_module": "@jupyter-widgets/base",
            "_model_module_version": "1.5.0",
            "_view_count": null,
            "_view_module_version": "1.2.0",
            "bar_color": null,
            "_model_module": "@jupyter-widgets/controls"
          }
        },
        "ffc9c592ba174242806150aa4daf986d": {
          "model_module": "@jupyter-widgets/base",
          "model_name": "LayoutModel",
          "state": {
            "_view_name": "LayoutView",
            "grid_template_rows": null,
            "right": null,
            "justify_content": null,
            "_view_module": "@jupyter-widgets/base",
            "overflow": null,
            "_model_module_version": "1.2.0",
            "_view_count": null,
            "flex_flow": null,
            "width": null,
            "min_width": null,
            "border": null,
            "align_items": null,
            "bottom": null,
            "_model_module": "@jupyter-widgets/base",
            "top": null,
            "grid_column": null,
            "overflow_y": null,
            "overflow_x": null,
            "grid_auto_flow": null,
            "grid_area": null,
            "grid_template_columns": null,
            "flex": null,
            "_model_name": "LayoutModel",
            "justify_items": null,
            "grid_row": null,
            "max_height": null,
            "align_content": null,
            "visibility": null,
            "align_self": null,
            "height": null,
            "min_height": null,
            "padding": null,
            "grid_auto_rows": null,
            "grid_gap": null,
            "max_width": null,
            "order": null,
            "_view_module_version": "1.2.0",
            "grid_template_areas": null,
            "object_position": null,
            "object_fit": null,
            "grid_auto_columns": null,
            "margin": null,
            "display": null,
            "left": null
          }
        },
        "98e6d21e7cc74510866c786dd909f1fa": {
          "model_module": "@jupyter-widgets/controls",
          "model_name": "DescriptionStyleModel",
          "state": {
            "_view_name": "StyleView",
            "_model_name": "DescriptionStyleModel",
            "description_width": "",
            "_view_module": "@jupyter-widgets/base",
            "_model_module_version": "1.5.0",
            "_view_count": null,
            "_view_module_version": "1.2.0",
            "_model_module": "@jupyter-widgets/controls"
          }
        },
        "91ee0191eaa34c6a8d30c09227fd6a0b": {
          "model_module": "@jupyter-widgets/base",
          "model_name": "LayoutModel",
          "state": {
            "_view_name": "LayoutView",
            "grid_template_rows": null,
            "right": null,
            "justify_content": null,
            "_view_module": "@jupyter-widgets/base",
            "overflow": null,
            "_model_module_version": "1.2.0",
            "_view_count": null,
            "flex_flow": null,
            "width": null,
            "min_width": null,
            "border": null,
            "align_items": null,
            "bottom": null,
            "_model_module": "@jupyter-widgets/base",
            "top": null,
            "grid_column": null,
            "overflow_y": null,
            "overflow_x": null,
            "grid_auto_flow": null,
            "grid_area": null,
            "grid_template_columns": null,
            "flex": null,
            "_model_name": "LayoutModel",
            "justify_items": null,
            "grid_row": null,
            "max_height": null,
            "align_content": null,
            "visibility": null,
            "align_self": null,
            "height": null,
            "min_height": null,
            "padding": null,
            "grid_auto_rows": null,
            "grid_gap": null,
            "max_width": null,
            "order": null,
            "_view_module_version": "1.2.0",
            "grid_template_areas": null,
            "object_position": null,
            "object_fit": null,
            "grid_auto_columns": null,
            "margin": null,
            "display": null,
            "left": null
          }
        },
        "80944a4e878240a59b337a12c38162ca": {
          "model_module": "@jupyter-widgets/controls",
          "model_name": "HBoxModel",
          "state": {
            "_view_name": "HBoxView",
            "_dom_classes": [],
            "_model_name": "HBoxModel",
            "_view_module": "@jupyter-widgets/controls",
            "_model_module_version": "1.5.0",
            "_view_count": null,
            "_view_module_version": "1.5.0",
            "box_style": "",
            "layout": "IPY_MODEL_1316948c624243aaa2fe40c1b751faa1",
            "_model_module": "@jupyter-widgets/controls",
            "children": [
              "IPY_MODEL_5e0c789b62834700b5aa8f0ef377110b",
              "IPY_MODEL_8c8c1d1cae7f411cb853a53f4a949a38"
            ]
          }
        },
        "1316948c624243aaa2fe40c1b751faa1": {
          "model_module": "@jupyter-widgets/base",
          "model_name": "LayoutModel",
          "state": {
            "_view_name": "LayoutView",
            "grid_template_rows": null,
            "right": null,
            "justify_content": null,
            "_view_module": "@jupyter-widgets/base",
            "overflow": null,
            "_model_module_version": "1.2.0",
            "_view_count": null,
            "flex_flow": null,
            "width": null,
            "min_width": null,
            "border": null,
            "align_items": null,
            "bottom": null,
            "_model_module": "@jupyter-widgets/base",
            "top": null,
            "grid_column": null,
            "overflow_y": null,
            "overflow_x": null,
            "grid_auto_flow": null,
            "grid_area": null,
            "grid_template_columns": null,
            "flex": null,
            "_model_name": "LayoutModel",
            "justify_items": null,
            "grid_row": null,
            "max_height": null,
            "align_content": null,
            "visibility": null,
            "align_self": null,
            "height": null,
            "min_height": null,
            "padding": null,
            "grid_auto_rows": null,
            "grid_gap": null,
            "max_width": null,
            "order": null,
            "_view_module_version": "1.2.0",
            "grid_template_areas": null,
            "object_position": null,
            "object_fit": null,
            "grid_auto_columns": null,
            "margin": null,
            "display": null,
            "left": null
          }
        },
        "5e0c789b62834700b5aa8f0ef377110b": {
          "model_module": "@jupyter-widgets/controls",
          "model_name": "FloatProgressModel",
          "state": {
            "_view_name": "ProgressView",
            "style": "IPY_MODEL_ad2dc351716d4cf089fca01e62682e1e",
            "_dom_classes": [],
            "description": "100%",
            "_model_name": "FloatProgressModel",
            "bar_style": "success",
            "max": 569,
            "_view_module": "@jupyter-widgets/controls",
            "_model_module_version": "1.5.0",
            "value": 569,
            "_view_count": null,
            "_view_module_version": "1.5.0",
            "orientation": "horizontal",
            "min": 0,
            "description_tooltip": null,
            "_model_module": "@jupyter-widgets/controls",
            "layout": "IPY_MODEL_dddaa5c89a0f48f1837d5c6e10d0b11d"
          }
        },
        "8c8c1d1cae7f411cb853a53f4a949a38": {
          "model_module": "@jupyter-widgets/controls",
          "model_name": "HTMLModel",
          "state": {
            "_view_name": "HTMLView",
            "style": "IPY_MODEL_a88c57dbfb2749f4887c2b356173756a",
            "_dom_classes": [],
            "description": "",
            "_model_name": "HTMLModel",
            "placeholder": "​",
            "_view_module": "@jupyter-widgets/controls",
            "_model_module_version": "1.5.0",
            "value": " 569/569 [00:40&lt;00:00, 13.98it/s]",
            "_view_count": null,
            "_view_module_version": "1.5.0",
            "description_tooltip": null,
            "_model_module": "@jupyter-widgets/controls",
            "layout": "IPY_MODEL_3b053edc96f4471a97b5efce58de9d21"
          }
        },
        "ad2dc351716d4cf089fca01e62682e1e": {
          "model_module": "@jupyter-widgets/controls",
          "model_name": "ProgressStyleModel",
          "state": {
            "_view_name": "StyleView",
            "_model_name": "ProgressStyleModel",
            "description_width": "initial",
            "_view_module": "@jupyter-widgets/base",
            "_model_module_version": "1.5.0",
            "_view_count": null,
            "_view_module_version": "1.2.0",
            "bar_color": null,
            "_model_module": "@jupyter-widgets/controls"
          }
        },
        "dddaa5c89a0f48f1837d5c6e10d0b11d": {
          "model_module": "@jupyter-widgets/base",
          "model_name": "LayoutModel",
          "state": {
            "_view_name": "LayoutView",
            "grid_template_rows": null,
            "right": null,
            "justify_content": null,
            "_view_module": "@jupyter-widgets/base",
            "overflow": null,
            "_model_module_version": "1.2.0",
            "_view_count": null,
            "flex_flow": null,
            "width": null,
            "min_width": null,
            "border": null,
            "align_items": null,
            "bottom": null,
            "_model_module": "@jupyter-widgets/base",
            "top": null,
            "grid_column": null,
            "overflow_y": null,
            "overflow_x": null,
            "grid_auto_flow": null,
            "grid_area": null,
            "grid_template_columns": null,
            "flex": null,
            "_model_name": "LayoutModel",
            "justify_items": null,
            "grid_row": null,
            "max_height": null,
            "align_content": null,
            "visibility": null,
            "align_self": null,
            "height": null,
            "min_height": null,
            "padding": null,
            "grid_auto_rows": null,
            "grid_gap": null,
            "max_width": null,
            "order": null,
            "_view_module_version": "1.2.0",
            "grid_template_areas": null,
            "object_position": null,
            "object_fit": null,
            "grid_auto_columns": null,
            "margin": null,
            "display": null,
            "left": null
          }
        },
        "a88c57dbfb2749f4887c2b356173756a": {
          "model_module": "@jupyter-widgets/controls",
          "model_name": "DescriptionStyleModel",
          "state": {
            "_view_name": "StyleView",
            "_model_name": "DescriptionStyleModel",
            "description_width": "",
            "_view_module": "@jupyter-widgets/base",
            "_model_module_version": "1.5.0",
            "_view_count": null,
            "_view_module_version": "1.2.0",
            "_model_module": "@jupyter-widgets/controls"
          }
        },
        "3b053edc96f4471a97b5efce58de9d21": {
          "model_module": "@jupyter-widgets/base",
          "model_name": "LayoutModel",
          "state": {
            "_view_name": "LayoutView",
            "grid_template_rows": null,
            "right": null,
            "justify_content": null,
            "_view_module": "@jupyter-widgets/base",
            "overflow": null,
            "_model_module_version": "1.2.0",
            "_view_count": null,
            "flex_flow": null,
            "width": null,
            "min_width": null,
            "border": null,
            "align_items": null,
            "bottom": null,
            "_model_module": "@jupyter-widgets/base",
            "top": null,
            "grid_column": null,
            "overflow_y": null,
            "overflow_x": null,
            "grid_auto_flow": null,
            "grid_area": null,
            "grid_template_columns": null,
            "flex": null,
            "_model_name": "LayoutModel",
            "justify_items": null,
            "grid_row": null,
            "max_height": null,
            "align_content": null,
            "visibility": null,
            "align_self": null,
            "height": null,
            "min_height": null,
            "padding": null,
            "grid_auto_rows": null,
            "grid_gap": null,
            "max_width": null,
            "order": null,
            "_view_module_version": "1.2.0",
            "grid_template_areas": null,
            "object_position": null,
            "object_fit": null,
            "grid_auto_columns": null,
            "margin": null,
            "display": null,
            "left": null
          }
        },
        "b49f3cc45d14489d8833218ba646314b": {
          "model_module": "@jupyter-widgets/controls",
          "model_name": "HBoxModel",
          "state": {
            "_view_name": "HBoxView",
            "_dom_classes": [],
            "_model_name": "HBoxModel",
            "_view_module": "@jupyter-widgets/controls",
            "_model_module_version": "1.5.0",
            "_view_count": null,
            "_view_module_version": "1.5.0",
            "box_style": "",
            "layout": "IPY_MODEL_73291803d67c441bae9b7be6beb7f0ec",
            "_model_module": "@jupyter-widgets/controls",
            "children": [
              "IPY_MODEL_5a1075bcea9448d99099aece61b01fb7",
              "IPY_MODEL_bc0f211211714878abe69f31e06ecb7c"
            ]
          }
        },
        "73291803d67c441bae9b7be6beb7f0ec": {
          "model_module": "@jupyter-widgets/base",
          "model_name": "LayoutModel",
          "state": {
            "_view_name": "LayoutView",
            "grid_template_rows": null,
            "right": null,
            "justify_content": null,
            "_view_module": "@jupyter-widgets/base",
            "overflow": null,
            "_model_module_version": "1.2.0",
            "_view_count": null,
            "flex_flow": null,
            "width": null,
            "min_width": null,
            "border": null,
            "align_items": null,
            "bottom": null,
            "_model_module": "@jupyter-widgets/base",
            "top": null,
            "grid_column": null,
            "overflow_y": null,
            "overflow_x": null,
            "grid_auto_flow": null,
            "grid_area": null,
            "grid_template_columns": null,
            "flex": null,
            "_model_name": "LayoutModel",
            "justify_items": null,
            "grid_row": null,
            "max_height": null,
            "align_content": null,
            "visibility": null,
            "align_self": null,
            "height": null,
            "min_height": null,
            "padding": null,
            "grid_auto_rows": null,
            "grid_gap": null,
            "max_width": null,
            "order": null,
            "_view_module_version": "1.2.0",
            "grid_template_areas": null,
            "object_position": null,
            "object_fit": null,
            "grid_auto_columns": null,
            "margin": null,
            "display": null,
            "left": null
          }
        },
        "5a1075bcea9448d99099aece61b01fb7": {
          "model_module": "@jupyter-widgets/controls",
          "model_name": "FloatProgressModel",
          "state": {
            "_view_name": "ProgressView",
            "style": "IPY_MODEL_3ca8ff744b32497a9ec5c8287e2bdd23",
            "_dom_classes": [],
            "description": "100%",
            "_model_name": "FloatProgressModel",
            "bar_style": "success",
            "max": 101,
            "_view_module": "@jupyter-widgets/controls",
            "_model_module_version": "1.5.0",
            "value": 101,
            "_view_count": null,
            "_view_module_version": "1.5.0",
            "orientation": "horizontal",
            "min": 0,
            "description_tooltip": null,
            "_model_module": "@jupyter-widgets/controls",
            "layout": "IPY_MODEL_4819885543a3410b925cb72d3a4f5906"
          }
        },
        "bc0f211211714878abe69f31e06ecb7c": {
          "model_module": "@jupyter-widgets/controls",
          "model_name": "HTMLModel",
          "state": {
            "_view_name": "HTMLView",
            "style": "IPY_MODEL_9e5cb0660499494e8ece4dac11ccfe65",
            "_dom_classes": [],
            "description": "",
            "_model_name": "HTMLModel",
            "placeholder": "​",
            "_view_module": "@jupyter-widgets/controls",
            "_model_module_version": "1.5.0",
            "value": " 101/101 [00:28&lt;00:00,  3.57it/s]",
            "_view_count": null,
            "_view_module_version": "1.5.0",
            "description_tooltip": null,
            "_model_module": "@jupyter-widgets/controls",
            "layout": "IPY_MODEL_bff6fb8f48e94892b2d12222efe7d5e2"
          }
        },
        "3ca8ff744b32497a9ec5c8287e2bdd23": {
          "model_module": "@jupyter-widgets/controls",
          "model_name": "ProgressStyleModel",
          "state": {
            "_view_name": "StyleView",
            "_model_name": "ProgressStyleModel",
            "description_width": "initial",
            "_view_module": "@jupyter-widgets/base",
            "_model_module_version": "1.5.0",
            "_view_count": null,
            "_view_module_version": "1.2.0",
            "bar_color": null,
            "_model_module": "@jupyter-widgets/controls"
          }
        },
        "4819885543a3410b925cb72d3a4f5906": {
          "model_module": "@jupyter-widgets/base",
          "model_name": "LayoutModel",
          "state": {
            "_view_name": "LayoutView",
            "grid_template_rows": null,
            "right": null,
            "justify_content": null,
            "_view_module": "@jupyter-widgets/base",
            "overflow": null,
            "_model_module_version": "1.2.0",
            "_view_count": null,
            "flex_flow": null,
            "width": null,
            "min_width": null,
            "border": null,
            "align_items": null,
            "bottom": null,
            "_model_module": "@jupyter-widgets/base",
            "top": null,
            "grid_column": null,
            "overflow_y": null,
            "overflow_x": null,
            "grid_auto_flow": null,
            "grid_area": null,
            "grid_template_columns": null,
            "flex": null,
            "_model_name": "LayoutModel",
            "justify_items": null,
            "grid_row": null,
            "max_height": null,
            "align_content": null,
            "visibility": null,
            "align_self": null,
            "height": null,
            "min_height": null,
            "padding": null,
            "grid_auto_rows": null,
            "grid_gap": null,
            "max_width": null,
            "order": null,
            "_view_module_version": "1.2.0",
            "grid_template_areas": null,
            "object_position": null,
            "object_fit": null,
            "grid_auto_columns": null,
            "margin": null,
            "display": null,
            "left": null
          }
        },
        "9e5cb0660499494e8ece4dac11ccfe65": {
          "model_module": "@jupyter-widgets/controls",
          "model_name": "DescriptionStyleModel",
          "state": {
            "_view_name": "StyleView",
            "_model_name": "DescriptionStyleModel",
            "description_width": "",
            "_view_module": "@jupyter-widgets/base",
            "_model_module_version": "1.5.0",
            "_view_count": null,
            "_view_module_version": "1.2.0",
            "_model_module": "@jupyter-widgets/controls"
          }
        },
        "bff6fb8f48e94892b2d12222efe7d5e2": {
          "model_module": "@jupyter-widgets/base",
          "model_name": "LayoutModel",
          "state": {
            "_view_name": "LayoutView",
            "grid_template_rows": null,
            "right": null,
            "justify_content": null,
            "_view_module": "@jupyter-widgets/base",
            "overflow": null,
            "_model_module_version": "1.2.0",
            "_view_count": null,
            "flex_flow": null,
            "width": null,
            "min_width": null,
            "border": null,
            "align_items": null,
            "bottom": null,
            "_model_module": "@jupyter-widgets/base",
            "top": null,
            "grid_column": null,
            "overflow_y": null,
            "overflow_x": null,
            "grid_auto_flow": null,
            "grid_area": null,
            "grid_template_columns": null,
            "flex": null,
            "_model_name": "LayoutModel",
            "justify_items": null,
            "grid_row": null,
            "max_height": null,
            "align_content": null,
            "visibility": null,
            "align_self": null,
            "height": null,
            "min_height": null,
            "padding": null,
            "grid_auto_rows": null,
            "grid_gap": null,
            "max_width": null,
            "order": null,
            "_view_module_version": "1.2.0",
            "grid_template_areas": null,
            "object_position": null,
            "object_fit": null,
            "grid_auto_columns": null,
            "margin": null,
            "display": null,
            "left": null
          }
        }
      }
    }
  },
  "cells": [
    {
      "cell_type": "markdown",
      "metadata": {
        "id": "view-in-github",
        "colab_type": "text"
      },
      "source": [
        "<a href=\"https://colab.research.google.com/github/shivammehta007/QuestionGenerator/blob/master/Classifier_to_detect_type_of_questions.ipynb\" target=\"_parent\"><img src=\"https://colab.research.google.com/assets/colab-badge.svg\" alt=\"Open In Colab\"/></a>"
      ]
    },
    {
      "cell_type": "markdown",
      "metadata": {
        "id": "Ae7AE9oK2JD_",
        "colab_type": "text"
      },
      "source": [
        "# Testing Classifier Model"
      ]
    },
    {
      "cell_type": "code",
      "metadata": {
        "id": "Rsu1peCb7daN",
        "colab_type": "code",
        "outputId": "7fc1c1a1-30c8-476e-a981-917b5c2cc7ee",
        "colab": {
          "base_uri": "https://localhost:8080/",
          "height": 34
        }
      },
      "source": [
        "# Essential Installation for working of notebook\n",
        "!pip install -U tqdm"
      ],
      "execution_count": 1,
      "outputs": [
        {
          "output_type": "stream",
          "text": [
            "Requirement already up-to-date: tqdm in /usr/local/lib/python3.6/dist-packages (4.44.1)\n"
          ],
          "name": "stdout"
        }
      ]
    },
    {
      "cell_type": "markdown",
      "metadata": {
        "id": "8Hfk5YOYgOaj",
        "colab_type": "text"
      },
      "source": [
        "### Imports"
      ]
    },
    {
      "cell_type": "code",
      "metadata": {
        "id": "GVZP3mPS9wVL",
        "colab_type": "code",
        "colab": {}
      },
      "source": [
        "import os\n",
        "import random\n",
        "\n",
        "import numpy as np\n",
        "import pandas as pd\n",
        "import matplotlib.pyplot as plt\n",
        "import spacy\n",
        "import seaborn as sns\n",
        "import torch\n",
        "from sklearn.ensemble import RandomForestClassifier\n",
        "from sklearn.feature_extraction.text import CountVectorizer, TfidfVectorizer\n",
        "from sklearn.linear_model import LogisticRegression\n",
        "from sklearn.model_selection import cross_validate, train_test_split\n",
        "from sklearn.naive_bayes import MultinomialNB\n",
        "from sklearn.pipeline import Pipeline\n",
        "from sklearn.preprocessing import LabelEncoder\n",
        "from sklearn.svm import SVC\n",
        "from sklearn.metrics import f1_score\n",
        "from tqdm.auto import tqdm, trange\n",
        "from wordcloud import WordCloud\n",
        "from xgboost import XGBClassifier"
      ],
      "execution_count": 0,
      "outputs": []
    },
    {
      "cell_type": "markdown",
      "metadata": {
        "id": "5Py7tdaXgR8y",
        "colab_type": "text"
      },
      "source": [
        "### Environment Setup "
      ]
    },
    {
      "cell_type": "code",
      "metadata": {
        "id": "r10qWJbbjEhd",
        "colab_type": "code",
        "colab": {}
      },
      "source": [
        "SEED=1234\n",
        "def seed_all(seed=1234):\n",
        "    \"\"\"Seed the results for duplication\"\"\"\n",
        "    random.seed(seed)\n",
        "    os.environ[\"PYTHONHASHSEED\"] = str(seed)\n",
        "    np.random.seed(seed)\n",
        "    torch.manual_seed(seed)\n",
        "    torch.cuda.manual_seed(seed)\n",
        "    torch.backends.cudnn.deterministic = True\n",
        "\n",
        "seed_all(SEED)"
      ],
      "execution_count": 0,
      "outputs": []
    },
    {
      "cell_type": "code",
      "metadata": {
        "id": "3S63rjWZ-BPZ",
        "colab_type": "code",
        "colab": {}
      },
      "source": [
        "tqdm.pandas()\n",
        "nlp = spacy.load(\"en_core_web_sm\") "
      ],
      "execution_count": 0,
      "outputs": []
    },
    {
      "cell_type": "code",
      "metadata": {
        "id": "121_OlhKDRlN",
        "colab_type": "code",
        "outputId": "6c58ca87-7f2f-4d8e-d583-8d88436579cc",
        "colab": {
          "base_uri": "https://localhost:8080/",
          "height": 34
        }
      },
      "source": [
        "from google.colab import drive\n",
        "drive.mount('/content/drive')"
      ],
      "execution_count": 5,
      "outputs": [
        {
          "output_type": "stream",
          "text": [
            "Drive already mounted at /content/drive; to attempt to forcibly remount, call drive.mount(\"/content/drive\", force_remount=True).\n"
          ],
          "name": "stdout"
        }
      ]
    },
    {
      "cell_type": "code",
      "metadata": {
        "id": "B38Mrn28_EMM",
        "colab_type": "code",
        "colab": {}
      },
      "source": [
        "DATASET_LOCATION = '/content/drive/My Drive/Data/GrammarDataset.csv'"
      ],
      "execution_count": 0,
      "outputs": []
    },
    {
      "cell_type": "markdown",
      "metadata": {
        "id": "tkkTC5QKgUcv",
        "colab_type": "text"
      },
      "source": [
        "## Dataset Overview"
      ]
    },
    {
      "cell_type": "code",
      "metadata": {
        "id": "3xNvBg2qAYW7",
        "colab_type": "code",
        "colab": {}
      },
      "source": [
        "original_dataset = pd.read_csv(DATASET_LOCATION, sep=\"\\t\")"
      ],
      "execution_count": 0,
      "outputs": []
    },
    {
      "cell_type": "code",
      "metadata": {
        "id": "WMx5VjuhAces",
        "colab_type": "code",
        "outputId": "a328ebd3-1f66-4b50-ccf0-71185c2f03cf",
        "colab": {
          "base_uri": "https://localhost:8080/",
          "height": 204
        }
      },
      "source": [
        "original_dataset.head()"
      ],
      "execution_count": 8,
      "outputs": [
        {
          "output_type": "execute_result",
          "data": {
            "text/html": [
              "<div>\n",
              "<style scoped>\n",
              "    .dataframe tbody tr th:only-of-type {\n",
              "        vertical-align: middle;\n",
              "    }\n",
              "\n",
              "    .dataframe tbody tr th {\n",
              "        vertical-align: top;\n",
              "    }\n",
              "\n",
              "    .dataframe thead th {\n",
              "        text-align: right;\n",
              "    }\n",
              "</style>\n",
              "<table border=\"1\" class=\"dataframe\">\n",
              "  <thead>\n",
              "    <tr style=\"text-align: right;\">\n",
              "      <th></th>\n",
              "      <th>Question</th>\n",
              "      <th>key</th>\n",
              "      <th>answer</th>\n",
              "      <th>Type of Question</th>\n",
              "      <th>Sub Section</th>\n",
              "    </tr>\n",
              "  </thead>\n",
              "  <tbody>\n",
              "    <tr>\n",
              "      <th>0</th>\n",
              "      <td>She _________________ some chocolates to the p...</td>\n",
              "      <td>bring</td>\n",
              "      <td>She brought some chocolates to the party.</td>\n",
              "      <td>irregular verb</td>\n",
              "      <td>past simple</td>\n",
              "    </tr>\n",
              "    <tr>\n",
              "      <th>1</th>\n",
              "      <td>I _________________ a new song on the radio.</td>\n",
              "      <td>hear</td>\n",
              "      <td>I heard a new song on the radio.</td>\n",
              "      <td>irregular verb</td>\n",
              "      <td>past simple</td>\n",
              "    </tr>\n",
              "    <tr>\n",
              "      <th>2</th>\n",
              "      <td>I _________________ three books last week.</td>\n",
              "      <td>read</td>\n",
              "      <td>I read three books last week.</td>\n",
              "      <td>irregular verb</td>\n",
              "      <td>past simple</td>\n",
              "    </tr>\n",
              "    <tr>\n",
              "      <th>3</th>\n",
              "      <td>They _________________ French to the waitress.</td>\n",
              "      <td>speak</td>\n",
              "      <td>They spoke French to the waitress.</td>\n",
              "      <td>irregular verb</td>\n",
              "      <td>past simple</td>\n",
              "    </tr>\n",
              "    <tr>\n",
              "      <th>4</th>\n",
              "      <td>He _________________ during the class but now ...</td>\n",
              "      <td>understand</td>\n",
              "      <td>He understood during the class but now he doe...</td>\n",
              "      <td>irregular verb</td>\n",
              "      <td>past simple</td>\n",
              "    </tr>\n",
              "  </tbody>\n",
              "</table>\n",
              "</div>"
            ],
            "text/plain": [
              "                                            Question  ...  Sub Section\n",
              "0  She _________________ some chocolates to the p...  ...  past simple\n",
              "1       I _________________ a new song on the radio.  ...  past simple\n",
              "2         I _________________ three books last week.  ...  past simple\n",
              "3     They _________________ French to the waitress.  ...  past simple\n",
              "4  He _________________ during the class but now ...  ...  past simple\n",
              "\n",
              "[5 rows x 5 columns]"
            ]
          },
          "metadata": {
            "tags": []
          },
          "execution_count": 8
        }
      ]
    },
    {
      "cell_type": "code",
      "metadata": {
        "id": "8QICR81Tmxrj",
        "colab_type": "code",
        "colab": {
          "base_uri": "https://localhost:8080/",
          "height": 119
        },
        "outputId": "e9ee8729-28a9-4e02-b162-4e30e3ebc99c"
      },
      "source": [
        "original_dataset.dtypes"
      ],
      "execution_count": 9,
      "outputs": [
        {
          "output_type": "execute_result",
          "data": {
            "text/plain": [
              "Question            object\n",
              "key                 object\n",
              "answer              object\n",
              "Type of Question    object\n",
              "Sub Section         object\n",
              "dtype: object"
            ]
          },
          "metadata": {
            "tags": []
          },
          "execution_count": 9
        }
      ]
    },
    {
      "cell_type": "markdown",
      "metadata": {
        "id": "gVHkoe1abm0s",
        "colab_type": "text"
      },
      "source": [
        "#### EDA"
      ]
    },
    {
      "cell_type": "code",
      "metadata": {
        "id": "QTmoHupIbp02",
        "colab_type": "code",
        "outputId": "cdb5aaf3-49ba-49ee-cf01-f0d4b270619f",
        "colab": {
          "base_uri": "https://localhost:8080/",
          "height": 584
        }
      },
      "source": [
        "ax, fig = plt.subplots(figsize=(10, 7))\n",
        "question_class = original_dataset[\"Type of Question\"].value_counts()\n",
        "question_class.plot(kind='bar')\n",
        "plt.title('Type of Question Counts')\n",
        "plt.show()"
      ],
      "execution_count": 10,
      "outputs": [
        {
          "output_type": "display_data",
          "data": {
            "image/png": "[encoded data removed]",
            "text/plain": [
              "<Figure size 720x504 with 1 Axes>"
            ]
          },
          "metadata": {
            "tags": []
          }
        }
      ]
    },
    {
      "cell_type": "code",
      "metadata": {
        "id": "WJQyD0KvhYoJ",
        "colab_type": "code",
        "colab": {
          "base_uri": "https://localhost:8080/",
          "height": 511
        },
        "outputId": "d96408a2-1163-493f-f705-7cca4ede6dd6"
      },
      "source": [
        "insincere_wordcloud = WordCloud(width=600, height=400).generate(\" \".join(original_dataset[\"key\"]))\n",
        "plt.figure( figsize=(10,8), facecolor='k')\n",
        "plt.imshow(insincere_wordcloud)\n",
        "plt.axis(\"off\")\n",
        "plt.tight_layout(pad=0)\n",
        "plt.show()"
      ],
      "execution_count": 11,
      "outputs": [
        {
          "output_type": "display_data",
          "data": {
            "image/png": "[encoded data removed]",
            "text/plain": [
              "<Figure size 720x576 with 1 Axes>"
            ]
          },
          "metadata": {
            "tags": []
          }
        }
      ]
    },
    {
      "cell_type": "markdown",
      "metadata": {
        "id": "AX8Zcvdh2QH8",
        "colab_type": "text"
      },
      "source": [
        "### PreProcessing"
      ]
    },
    {
      "cell_type": "code",
      "metadata": {
        "id": "g_GyP2NiAdUH",
        "colab_type": "code",
        "colab": {}
      },
      "source": [
        "def preprocessor(dataset):\n",
        "    # Replace continuous underscores with single one\n",
        "    dataset[\"Question\"] = dataset[\"Question\"].str.replace(\"[_]{2,}\", \"_\")\n",
        "    # Remove Brackets\n",
        "    dataset[\"Question\"] = dataset[\"Question\"].str.replace(\"[\\)\\(]\", \"\")\n",
        "    # Strip whitespaces\n",
        "    dataset[\"Question\"] = dataset[\"Question\"].apply(lambda x: x.strip())\n",
        "    # Convert all text to lowercase\n",
        "    for columns in dataset.columns:\n",
        "        dataset[columns] = dataset[columns].str.lower() \n",
        "\n",
        "    return dataset"
      ],
      "execution_count": 0,
      "outputs": []
    },
    {
      "cell_type": "code",
      "metadata": {
        "id": "6BS5iKckgrQd",
        "colab_type": "code",
        "colab": {}
      },
      "source": [
        "original_dataset = preprocessor(original_dataset)"
      ],
      "execution_count": 0,
      "outputs": []
    },
    {
      "cell_type": "code",
      "metadata": {
        "id": "22ZIHZy3jW5C",
        "colab_type": "code",
        "outputId": "d7238f19-0d91-4ef3-edcf-adf9df4f8189",
        "colab": {
          "base_uri": "https://localhost:8080/",
          "height": 34
        }
      },
      "source": [
        "original_dataset.columns"
      ],
      "execution_count": 14,
      "outputs": [
        {
          "output_type": "execute_result",
          "data": {
            "text/plain": [
              "Index(['Question', 'key', 'answer', 'Type of Question', 'Sub Section'], dtype='object')"
            ]
          },
          "metadata": {
            "tags": []
          },
          "execution_count": 14
        }
      ]
    },
    {
      "cell_type": "markdown",
      "metadata": {
        "id": "eJT_3Bdd9u01",
        "colab_type": "text"
      },
      "source": [
        "#### Encoding Labels"
      ]
    },
    {
      "cell_type": "code",
      "metadata": {
        "id": "T8ef8cs39uF6",
        "colab_type": "code",
        "colab": {}
      },
      "source": [
        "label_encoder = LabelEncoder()\n",
        "original_dataset[\"Type of Question\"] = label_encoder.fit_transform(original_dataset[\"Type of Question\"])"
      ],
      "execution_count": 0,
      "outputs": []
    },
    {
      "cell_type": "markdown",
      "metadata": {
        "id": "8fNWF4uwBl0t",
        "colab_type": "text"
      },
      "source": [
        "#### Split Training and Testing Data"
      ]
    },
    {
      "cell_type": "code",
      "metadata": {
        "id": "nX6L5x2Y9sHw",
        "colab_type": "code",
        "colab": {}
      },
      "source": [
        "X_train_orig_dataset, X_test_orig_dataset, y_train_orig_dataset, y_test_orig_dataset = train_test_split(original_dataset[[\"Question\", \"key\", \"answer\"]], original_dataset[\"Type of Question\"], random_state=SEED, test_size=0.15)"
      ],
      "execution_count": 0,
      "outputs": []
    },
    {
      "cell_type": "code",
      "metadata": {
        "id": "iaUHWhAcCb4t",
        "colab_type": "code",
        "outputId": "fd1bd1a8-7fdb-4925-943a-9cf3f4d3a57d",
        "colab": {
          "base_uri": "https://localhost:8080/",
          "height": 34
        }
      },
      "source": [
        "X_train_orig_dataset.shape, X_test_orig_dataset.shape, y_train_orig_dataset.shape, y_test_orig_dataset.shape"
      ],
      "execution_count": 17,
      "outputs": [
        {
          "output_type": "execute_result",
          "data": {
            "text/plain": [
              "((569, 3), (101, 3), (569,), (101,))"
            ]
          },
          "metadata": {
            "tags": []
          },
          "execution_count": 17
        }
      ]
    },
    {
      "cell_type": "markdown",
      "metadata": {
        "id": "OnGk8SFb4Wm2",
        "colab_type": "text"
      },
      "source": [
        "## Experiments:"
      ]
    },
    {
      "cell_type": "code",
      "metadata": {
        "id": "8P-vu3VSD3Yz",
        "colab_type": "code",
        "outputId": "c2b6a77a-7be3-4e79-a988-278f7845553c",
        "colab": {
          "base_uri": "https://localhost:8080/",
          "height": 204
        }
      },
      "source": [
        "X_train_orig_dataset.head()"
      ],
      "execution_count": 18,
      "outputs": [
        {
          "output_type": "execute_result",
          "data": {
            "text/html": [
              "<div>\n",
              "<style scoped>\n",
              "    .dataframe tbody tr th:only-of-type {\n",
              "        vertical-align: middle;\n",
              "    }\n",
              "\n",
              "    .dataframe tbody tr th {\n",
              "        vertical-align: top;\n",
              "    }\n",
              "\n",
              "    .dataframe thead th {\n",
              "        text-align: right;\n",
              "    }\n",
              "</style>\n",
              "<table border=\"1\" class=\"dataframe\">\n",
              "  <thead>\n",
              "    <tr style=\"text-align: right;\">\n",
              "      <th></th>\n",
              "      <th>Question</th>\n",
              "      <th>key</th>\n",
              "      <th>answer</th>\n",
              "    </tr>\n",
              "  </thead>\n",
              "  <tbody>\n",
              "    <tr>\n",
              "      <th>271</th>\n",
              "      <td>how / they / get to work?</td>\n",
              "      <td>they</td>\n",
              "      <td>how do they get to work?</td>\n",
              "    </tr>\n",
              "    <tr>\n",
              "      <th>488</th>\n",
              "      <td>we were late for the plane because we _our pas...</td>\n",
              "      <td>forgot</td>\n",
              "      <td>we were late for the plane because we had forg...</td>\n",
              "    </tr>\n",
              "    <tr>\n",
              "      <th>131</th>\n",
              "      <td>we _ thirsty.</td>\n",
              "      <td>be</td>\n",
              "      <td>we aren't thirsty.</td>\n",
              "    </tr>\n",
              "    <tr>\n",
              "      <th>643</th>\n",
              "      <td>he_, so the kitchen will be warm.</td>\n",
              "      <td>cook</td>\n",
              "      <td>he will have been cooking, so the kitchen will...</td>\n",
              "    </tr>\n",
              "    <tr>\n",
              "      <th>155</th>\n",
              "      <td>you / in a cafe?</td>\n",
              "      <td>be</td>\n",
              "      <td>are you in a cafe?</td>\n",
              "    </tr>\n",
              "  </tbody>\n",
              "</table>\n",
              "</div>"
            ],
            "text/plain": [
              "                                              Question  ...                                             answer\n",
              "271                          how / they / get to work?  ...                           how do they get to work?\n",
              "488  we were late for the plane because we _our pas...  ...  we were late for the plane because we had forg...\n",
              "131                                      we _ thirsty.  ...                                 we aren't thirsty.\n",
              "643                  he_, so the kitchen will be warm.  ...  he will have been cooking, so the kitchen will...\n",
              "155                                   you / in a cafe?  ...                                 are you in a cafe?\n",
              "\n",
              "[5 rows x 3 columns]"
            ]
          },
          "metadata": {
            "tags": []
          },
          "execution_count": 18
        }
      ]
    },
    {
      "cell_type": "markdown",
      "metadata": {
        "id": "-w5DIu3WcsEd",
        "colab_type": "text"
      },
      "source": [
        "### Experimentation Setup"
      ]
    },
    {
      "cell_type": "markdown",
      "metadata": {
        "id": "SHeY-yA13DxF",
        "colab_type": "text"
      },
      "source": [
        "#### Models"
      ]
    },
    {
      "cell_type": "code",
      "metadata": {
        "id": "CcgkQ9KCFHKX",
        "colab_type": "code",
        "colab": {}
      },
      "source": [
        "text_vectorizers = [\n",
        "                    ('CountVectorizer', CountVectorizer(tokenizer=lambda x: x.split())), \n",
        "                    ('TfIdFVectorize', TfidfVectorizer(tokenizer=lambda x: x.split()))\n",
        "                ]\n",
        "classifiers = [\n",
        "               ('MultiNomial Naive Bais', MultinomialNB(alpha=0.1)),\n",
        "               ('LogisticRegression', LogisticRegression(max_iter=5000)), \n",
        "               ('SVM', SVC()), ('RandomForest', RandomForestClassifier()), \n",
        "               ('XGBClassifier', XGBClassifier(random_state=SEED, learning_rate=0.01))\n",
        "            ]"
      ],
      "execution_count": 0,
      "outputs": []
    },
    {
      "cell_type": "code",
      "metadata": {
        "id": "ycPqgf8Ri40_",
        "colab_type": "code",
        "colab": {}
      },
      "source": [
        "def check_classification(X_train, y_train, X_test, y_test):\n",
        "\n",
        "    # Result DataFrame\n",
        "    result_dataframe = pd.DataFrame({\n",
        "        'Vectorizer': [name for name, model in text_vectorizers]\n",
        "        }, columns = ['Vectorizer'] + [name for name, model in classifiers])\n",
        "    result_dataframe.set_index('Vectorizer', inplace=True)\n",
        "\n",
        "\n",
        "    best_score = 0\n",
        "    best_model = None\n",
        "    best_pipe = None\n",
        "    for classifier_name, classifier in classifiers:\n",
        "        for text_vectorizer_name, text_vectorizer in text_vectorizers:\n",
        "            pipe = Pipeline(steps=[\n",
        "                                ('text_vec', text_vectorizer),\n",
        "                                ('class', classifier)\n",
        "            ])\n",
        "            pipe.fit(X_train, y_train)\n",
        "            f1_measure = f1_score(pipe.predict(X_test), y_test, average='micro')\n",
        "            # print('Model : {} -> {}:  accuracy: {:.4f}'.format(text_vectorizer_name, classifier_name, acc*100))\n",
        "            result_dataframe[classifier_name][text_vectorizer_name] = '{:.4f}'.format(f1_measure)\n",
        "\n",
        "            if f1_measure > best_score:\n",
        "                best_score = f1_measure\n",
        "                best_pipe = pipe\n",
        "                best_model = '{} -> {}'.format(text_vectorizer_name, classifier_name)\n",
        "    # TODO: Remove while actually writing the code Code for Debugging\n",
        "    # analyzer = best_pipe['text_vec'].build_analyzer()\n",
        "    # print(analyzer(\"i _ the steak for dinner.  choose  i chose the steak for dinner.\"))\n",
        "    # print(analyzer(\"words#i _ words#_ words#the words#steak words#for words#dinner words#. words#  words#choose words#  words#i words#chose words#the words#steak words#for words#dinner words#.\"))\n",
        "    # with np.printoptions(threshold=np.inf):\n",
        "    #     print(\"First: {}\".format(best_pipe['text_vec'].transform([\"i _ the steak for dinner.  choose  i chose the steak for dinner.\"])[0]))\n",
        "    #     print(\"Second: {}\".format(best_pipe['text_vec'].transform([\"words#i words#_ words#the words#steak words#for words#dinner words#. words#  words#choose words#  words#i words#chose words#the words#steak words#for words#dinner words#.\"])[0]))\n",
        "\n",
        "\n",
        "    print(\"\\n\\nBest F1 Measure was: {:.4f} with the Model: {}\".format(best_score, best_model))\n",
        "    return result_dataframe"
      ],
      "execution_count": 0,
      "outputs": []
    },
    {
      "cell_type": "markdown",
      "metadata": {
        "id": "l_qWhanA3KM_",
        "colab_type": "text"
      },
      "source": [
        "#### Result Placeholder"
      ]
    },
    {
      "cell_type": "code",
      "metadata": {
        "id": "8QzCpvclfk6g",
        "colab_type": "code",
        "colab": {}
      },
      "source": [
        "result_dataframe = pd.DataFrame({\n",
        "        'Vectorizer': [name for name, model in text_vectorizers]\n",
        "        }, columns = ['Vectorizer'] + [name for name, model in classifiers])\n",
        "result_dataframe.set_index('Vectorizer', inplace=True)\n",
        "\n",
        "results = []"
      ],
      "execution_count": 0,
      "outputs": []
    },
    {
      "cell_type": "markdown",
      "metadata": {
        "id": "IARArelo3U7S",
        "colab_type": "text"
      },
      "source": [
        "#### N-Gram Generator"
      ]
    },
    {
      "cell_type": "code",
      "metadata": {
        "id": "zyh7vACj3UIl",
        "colab_type": "code",
        "colab": {}
      },
      "source": [
        "from itertools import cycle\n",
        "from collections import deque\n",
        "\n",
        "def ngrams(sentence, n=2):\n",
        "    words = [word.text for word in nlp(sentence)]\n",
        "    d = deque(maxlen=n)\n",
        "    d.extend(words[:n])\n",
        "    words = words[n:]\n",
        "    results = []\n",
        "    for window, word in zip(cycle((d,)), words):\n",
        "        results.extend([ngram for ngram in window])\n",
        "        d.append(word)\n",
        "    results.extend([ngram for ngram in d])\n",
        "\n",
        "    return results\n"
      ],
      "execution_count": 0,
      "outputs": []
    },
    {
      "cell_type": "code",
      "metadata": {
        "id": "7RXScOm34hRI",
        "colab_type": "code",
        "colab": {
          "base_uri": "https://localhost:8080/",
          "height": 88
        },
        "outputId": "fbc6eb1b-1d4c-413d-c9d4-7617bf209770"
      },
      "source": [
        "for n in range(2,5):\n",
        "    print(\" {}-Grams:\".format(n), end=\" \")\n",
        "    print(ngrams(\"Hello World! This is a test example of N-Gram generator\", n))"
      ],
      "execution_count": 23,
      "outputs": [
        {
          "output_type": "stream",
          "text": [
            " 2-Grams: ['Hello', 'World', 'World', '!', '!', 'This', 'This', 'is', 'is', 'a', 'a', 'test', 'test', 'example', 'example', 'of', 'of', 'N', 'N', '-', '-', 'Gram', 'Gram', 'generator']\n",
            " 3-Grams: ['Hello', 'World', '!', 'World', '!', 'This', '!', 'This', 'is', 'This', 'is', 'a', 'is', 'a', 'test', 'a', 'test', 'example', 'test', 'example', 'of', 'example', 'of', 'N', 'of', 'N', '-', 'N', '-', 'Gram', '-', 'Gram', 'generator']\n",
            " 4-Grams: ['Hello', 'World', '!', 'This', 'World', '!', 'This', 'is', '!', 'This', 'is', 'a', 'This', 'is', 'a', 'test', 'is', 'a', 'test', 'example', 'a', 'test', 'example', 'of', 'test', 'example', 'of', 'N', 'example', 'of', 'N', '-', 'of', 'N', '-', 'Gram', 'N', '-', 'Gram', 'generator']\n"
          ],
          "name": "stdout"
        }
      ]
    },
    {
      "cell_type": "markdown",
      "metadata": {
        "id": "6XtV4oEY9RdY",
        "colab_type": "text"
      },
      "source": [
        "#### Sample Generator"
      ]
    },
    {
      "cell_type": "code",
      "metadata": {
        "id": "JTj9-ty58yrZ",
        "colab_type": "code",
        "colab": {}
      },
      "source": [
        "def get_input_samples(X, y, n=5):\n",
        "    results = []\n",
        "    for i in random.sample(range(len(X) - 1), n):\n",
        "        results.append(\"{} --> {} \".format(X.iloc[i], label_encoder.inverse_transform([y.iloc[i]])))\n",
        "\n",
        "    return results"
      ],
      "execution_count": 0,
      "outputs": []
    },
    {
      "cell_type": "markdown",
      "metadata": {
        "id": "B-xUadw94aQa",
        "colab_type": "text"
      },
      "source": [
        "### Experiment 1:  Word#\\$\\{$words_i$\\}\n",
        "Concatenating Question + key + answer in a Bag Of Words Approach \\\\\n",
        "No Feature Engineering"
      ]
    },
    {
      "cell_type": "code",
      "metadata": {
        "id": "t3w4PFR9jGau",
        "colab_type": "code",
        "colab": {}
      },
      "source": [
        "experiment_text = \"Concatenating question + key + answer. like word#word_i\""
      ],
      "execution_count": 0,
      "outputs": []
    },
    {
      "cell_type": "markdown",
      "metadata": {
        "id": "NPWAO_stJEkI",
        "colab_type": "text"
      },
      "source": [
        "#### Preprocessing"
      ]
    },
    {
      "cell_type": "code",
      "metadata": {
        "id": "huoQqpg9jqf7",
        "colab_type": "code",
        "colab": {}
      },
      "source": [
        "X_train = X_train_orig_dataset[\"Question\"] + \" \" + X_train_orig_dataset[\"key\"] + \" \" + X_train_orig_dataset[\"answer\"]\n",
        "y_train = y_train_orig_dataset\n",
        "X_test = X_test_orig_dataset[\"Question\"] + \" \" + X_test_orig_dataset[\"key\"] + \" \" + X_test_orig_dataset[\"answer\"]\n",
        "y_test = y_test_orig_dataset"
      ],
      "execution_count": 0,
      "outputs": []
    },
    {
      "cell_type": "code",
      "metadata": {
        "id": "LgBf1aTiil9J",
        "colab_type": "code",
        "colab": {
          "base_uri": "https://localhost:8080/",
          "height": 54
        },
        "outputId": "32cde66c-48ba-4e4b-de70-be32498e91ee"
      },
      "source": [
        "def add_word_template(text):\n",
        "    tokens = nlp(text)\n",
        "    text = []\n",
        "    for token in tokens:\n",
        "        text.append(\"words#{}\".format(token.text))\n",
        "\n",
        "    return \" \".join(text)\n",
        "\n",
        "add_template_words(\"i _ the steak for dinner.  choose  i chose the steak for dinner.\")"
      ],
      "execution_count": 27,
      "outputs": [
        {
          "output_type": "execute_result",
          "data": {
            "text/plain": [
              "'words#i words#_ words#the words#steak words#for words#dinner words#. words#  words#choose words#  words#i words#chose words#the words#steak words#for words#dinner words#.'"
            ]
          },
          "metadata": {
            "tags": []
          },
          "execution_count": 27
        }
      ]
    },
    {
      "cell_type": "code",
      "metadata": {
        "id": "PNwKiGSkiu7g",
        "colab_type": "code",
        "colab": {
          "base_uri": "https://localhost:8080/",
          "height": 115,
          "referenced_widgets": [
            "7623fb071563449b9ab4069570c4f816",
            "fc78ebb0d7e740da95e37f15ac54fcf5",
            "fe3dcd7a63e14605a16ee3c1644216cc",
            "8478e42ce89848fbb51ee137c2d880bc",
            "c16cf682324f425198130e3f5176a531",
            "fd3a317b65004a47a354da1f3528624e",
            "5b3e8164569e4bcaa743f91a2057cf60",
            "d5f8511b51954d2ba39ac56d05b862dc",
            "f7c4db750c254fa58d9ae2b15917ea1a",
            "ef2daddac5cb473286f5960d2f61d52b",
            "f569c59755d4498ca4b68b30f45cb65c",
            "09156ac9da5949e8bb3e16e6e7036d2b",
            "372133c7e59f4dcc89e8ca24433216b8",
            "d67db91e3ae4494ab0a2f8b9904489e9",
            "1275aa8e68d6414ba2d3abb732b09345",
            "e9ff61707c1d42de9950a60fa5c75218"
          ]
        },
        "outputId": "c3962ef5-81ea-4594-e7e2-63ddb843234d"
      },
      "source": [
        "X_train = X_train.progress_apply(add_word_template)\n",
        "X_test = X_test.progress_apply(add_word_template)"
      ],
      "execution_count": 28,
      "outputs": [
        {
          "output_type": "display_data",
          "data": {
            "application/vnd.jupyter.widget-view+json": {
              "model_id": "7623fb071563449b9ab4069570c4f816",
              "version_minor": 0,
              "version_major": 2
            },
            "text/plain": [
              "HBox(children=(FloatProgress(value=0.0, max=569.0), HTML(value='')))"
            ]
          },
          "metadata": {
            "tags": []
          }
        },
        {
          "output_type": "stream",
          "text": [
            "\n"
          ],
          "name": "stdout"
        },
        {
          "output_type": "display_data",
          "data": {
            "application/vnd.jupyter.widget-view+json": {
              "model_id": "f7c4db750c254fa58d9ae2b15917ea1a",
              "version_minor": 0,
              "version_major": 2
            },
            "text/plain": [
              "HBox(children=(FloatProgress(value=0.0, max=101.0), HTML(value='')))"
            ]
          },
          "metadata": {
            "tags": []
          }
        },
        {
          "output_type": "stream",
          "text": [
            "\n"
          ],
          "name": "stdout"
        }
      ]
    },
    {
      "cell_type": "markdown",
      "metadata": {
        "id": "YpHet4C8lc80",
        "colab_type": "text"
      },
      "source": [
        "#### Input Samples"
      ]
    },
    {
      "cell_type": "code",
      "metadata": {
        "id": "oleE2PRxltmf",
        "colab_type": "code",
        "colab": {
          "base_uri": "https://localhost:8080/",
          "height": 122
        },
        "outputId": "8f3d9f5a-3c69-4089-a88b-186a05e38510"
      },
      "source": [
        "get_input_samples(X_train, y_train)"
      ],
      "execution_count": 29,
      "outputs": [
        {
          "output_type": "execute_result",
          "data": {
            "text/plain": [
              "[\"words#they words#_ words#so words#we words#went words#to words#a words#restaurant words#. words#not words#eat words#they words#had words#n't words#eaten words#so words#we words#went words#to words#a words#restaurant words#. --> ['3rd form of verb'] \",\n",
              " \"words#when words#/ words#you words#/ words#leave words#? words#you words#leave words#when words#are words#you words#leaving words#? --> ['verb+ing'] \",\n",
              " \"words#they words#/ words#live words#in words#london words#live words#they words#live words#in words#london words#. --> ['verb(s/es)'] \",\n",
              " \"words#_ words#football words#when words#he words#was words#injured words#? words#how words#long words#he words#play words#how words#long words#had words#he words#been words#playing words#football words#when words#he words#was words#injured words#? --> ['had been verb+ing'] \",\n",
              " \"words#_ words#the words#film words#already words#? words#she words#see words#had words#she words#seen words#the words#film words#already words#? --> ['3rd form of verb'] \"]"
            ]
          },
          "metadata": {
            "tags": []
          },
          "execution_count": 29
        }
      ]
    },
    {
      "cell_type": "markdown",
      "metadata": {
        "id": "tvz8r-4M20D5",
        "colab_type": "text"
      },
      "source": [
        "#### Experimentation Results"
      ]
    },
    {
      "cell_type": "code",
      "metadata": {
        "id": "LjmfITvoEHid",
        "colab_type": "code",
        "outputId": "7d041dee-7508-4edc-e645-a99def0dde78",
        "colab": {
          "base_uri": "https://localhost:8080/",
          "height": 193
        }
      },
      "source": [
        "result = check_classification(X_train, y_train, X_test, y_test)\n",
        "results.append((experiment_text, result))\n",
        "result\n",
        "\n",
        "# First:   (0, 24)\t1\n",
        "#   (0, 193)\t1\n",
        "#   (0, 194)\t1\n",
        "#   (0, 257)\t2\n",
        "#   (0, 356)\t2\n",
        "#   (0, 447)\t2\n",
        "#   (0, 851)\t2\n",
        "#   (0, 912)\t2\n",
        "# Second:   (0, 24)"
      ],
      "execution_count": 30,
      "outputs": [
        {
          "output_type": "stream",
          "text": [
            "\n",
            "\n",
            "Best F1 Measure was: 0.9703 with the Model: CountVectorizer -> RandomForest\n"
          ],
          "name": "stdout"
        },
        {
          "output_type": "execute_result",
          "data": {
            "text/html": [
              "<div>\n",
              "<style scoped>\n",
              "    .dataframe tbody tr th:only-of-type {\n",
              "        vertical-align: middle;\n",
              "    }\n",
              "\n",
              "    .dataframe tbody tr th {\n",
              "        vertical-align: top;\n",
              "    }\n",
              "\n",
              "    .dataframe thead th {\n",
              "        text-align: right;\n",
              "    }\n",
              "</style>\n",
              "<table border=\"1\" class=\"dataframe\">\n",
              "  <thead>\n",
              "    <tr style=\"text-align: right;\">\n",
              "      <th></th>\n",
              "      <th>MultiNomial Naive Bais</th>\n",
              "      <th>LogisticRegression</th>\n",
              "      <th>SVM</th>\n",
              "      <th>RandomForest</th>\n",
              "      <th>XGBClassifier</th>\n",
              "    </tr>\n",
              "    <tr>\n",
              "      <th>Vectorizer</th>\n",
              "      <th></th>\n",
              "      <th></th>\n",
              "      <th></th>\n",
              "      <th></th>\n",
              "      <th></th>\n",
              "    </tr>\n",
              "  </thead>\n",
              "  <tbody>\n",
              "    <tr>\n",
              "      <th>CountVectorizer</th>\n",
              "      <td>0.7327</td>\n",
              "      <td>0.8812</td>\n",
              "      <td>0.7822</td>\n",
              "      <td>0.9703</td>\n",
              "      <td>0.9703</td>\n",
              "    </tr>\n",
              "    <tr>\n",
              "      <th>TfIdFVectorize</th>\n",
              "      <td>0.6832</td>\n",
              "      <td>0.7228</td>\n",
              "      <td>0.6733</td>\n",
              "      <td>0.9307</td>\n",
              "      <td>0.9406</td>\n",
              "    </tr>\n",
              "  </tbody>\n",
              "</table>\n",
              "</div>"
            ],
            "text/plain": [
              "                MultiNomial Naive Bais  ... XGBClassifier\n",
              "Vectorizer                              ...              \n",
              "CountVectorizer                 0.7327  ...        0.9703\n",
              "TfIdFVectorize                  0.6832  ...        0.9406\n",
              "\n",
              "[2 rows x 5 columns]"
            ]
          },
          "metadata": {
            "tags": []
          },
          "execution_count": 30
        }
      ]
    },
    {
      "cell_type": "markdown",
      "metadata": {
        "id": "y52L3ohfSGnN",
        "colab_type": "text"
      },
      "source": [
        "### Experiment 2: word_pos#\\$\\{$word_i$\\}_\\$\\{$pos_i$\\}\n",
        "With Word and POS tags, token.tag_ gives a detailed POS tag where we can distinguish between forms of verb. \\\\\n",
        "More Information https://spacy.io/api/annotation#pos-tagging about the tags"
      ]
    },
    {
      "cell_type": "code",
      "metadata": {
        "id": "U4cmKc0wks5S",
        "colab_type": "code",
        "colab": {}
      },
      "source": [
        "experiment_text = \"Adding Pos Tags along with word word_pos#{word_i}_{pos_i} + k#tags + a#tags Unigrams\""
      ],
      "execution_count": 0,
      "outputs": []
    },
    {
      "cell_type": "markdown",
      "metadata": {
        "id": "zdTpudPaJLPg",
        "colab_type": "text"
      },
      "source": [
        "#### Preprocessing"
      ]
    },
    {
      "cell_type": "code",
      "metadata": {
        "id": "_Oxr2IGwh0Xi",
        "colab_type": "code",
        "colab": {}
      },
      "source": [
        "X_train = X_train_orig_dataset[\"Question\"] + \" \" + X_train_orig_dataset[\"key\"] + \" \" + X_train_orig_dataset[\"answer\"]\n",
        "y_train = y_train_orig_dataset\n",
        "X_test = X_test_orig_dataset[\"Question\"] + \" \" + X_test_orig_dataset[\"key\"] + \" \" + X_test_orig_dataset[\"answer\"]\n",
        "y_test = y_test_orig_dataset"
      ],
      "execution_count": 0,
      "outputs": []
    },
    {
      "cell_type": "code",
      "metadata": {
        "id": "_Q9TuAUfeCX-",
        "colab_type": "code",
        "colab": {
          "base_uri": "https://localhost:8080/",
          "height": 34
        },
        "outputId": "2e79af81-7e58-4925-f853-510962fec98a"
      },
      "source": [
        "def add_word_pos_template(text):\n",
        "    tokens = nlp(text)\n",
        "    text = []\n",
        "    for token in tokens:\n",
        "        text.append(\"word_pos#{}_{}\".format(token.text, token.tag_))\n",
        "\n",
        "    return \" \".join(text)\n",
        "\n",
        "# Testing method\n",
        "test_sentence = \"Testing the Pos Tagger in this sentence let's see how it works!\".lower()\n",
        "add_pos_tagging(test_sentence)"
      ],
      "execution_count": 81,
      "outputs": [
        {
          "output_type": "execute_result",
          "data": {
            "text/plain": [
              "'pos#VERB pos#DET pos#NOUN pos#NOUN pos#ADP pos#DET pos#NOUN pos#VERB pos#PRON pos#VERB pos#ADV pos#PRON pos#VERB pos#PUNCT'"
            ]
          },
          "metadata": {
            "tags": []
          },
          "execution_count": 81
        }
      ]
    },
    {
      "cell_type": "code",
      "metadata": {
        "id": "w6_kA6fseDtA",
        "colab_type": "code",
        "colab": {
          "base_uri": "https://localhost:8080/",
          "height": 115,
          "referenced_widgets": [
            "96b05065893a4b7cb22fef83672bd3a9",
            "bc65619b4fd84984b9f7b9af8ccae1bb",
            "fbf28805aebd42588b6f8c104a81348c",
            "09f50b8e48194ba3bc3ef7d8cb7ebd53",
            "55fc08c9a8f54db18700b692221b637c",
            "d6b40c4c5d3c4395bb821b00ca817a46",
            "7f2afbfff7f6455a8f90a36124371870",
            "36ab937b3c544fb3987665848a4f92a3",
            "a159aab6fbb94119b735d5e297139481",
            "390738df4bfd429d8e1a7c8abd9dff88",
            "5f129a5467964d41b8f27834a59b27d8",
            "8e593c9a9058401d93135825cc8a6968",
            "9be278b5eb4449fa819493a969eb78ef",
            "ffc9c592ba174242806150aa4daf986d",
            "98e6d21e7cc74510866c786dd909f1fa",
            "91ee0191eaa34c6a8d30c09227fd6a0b"
          ]
        },
        "outputId": "8e9dca0d-505d-4a59-ad80-8139dd1b6951"
      },
      "source": [
        "X_train = X_train.progress_apply(add_word_pos_template)\n",
        "X_test = X_test.progress_apply(add_word_pos_template)"
      ],
      "execution_count": 82,
      "outputs": [
        {
          "output_type": "display_data",
          "data": {
            "application/vnd.jupyter.widget-view+json": {
              "model_id": "96b05065893a4b7cb22fef83672bd3a9",
              "version_minor": 0,
              "version_major": 2
            },
            "text/plain": [
              "HBox(children=(FloatProgress(value=0.0, max=569.0), HTML(value='')))"
            ]
          },
          "metadata": {
            "tags": []
          }
        },
        {
          "output_type": "stream",
          "text": [
            "\n"
          ],
          "name": "stdout"
        },
        {
          "output_type": "display_data",
          "data": {
            "application/vnd.jupyter.widget-view+json": {
              "model_id": "a159aab6fbb94119b735d5e297139481",
              "version_minor": 0,
              "version_major": 2
            },
            "text/plain": [
              "HBox(children=(FloatProgress(value=0.0, max=101.0), HTML(value='')))"
            ]
          },
          "metadata": {
            "tags": []
          }
        },
        {
          "output_type": "stream",
          "text": [
            "\n"
          ],
          "name": "stdout"
        }
      ]
    },
    {
      "cell_type": "markdown",
      "metadata": {
        "id": "KErwtz1PJOTr",
        "colab_type": "text"
      },
      "source": [
        "#### Input Samples"
      ]
    },
    {
      "cell_type": "code",
      "metadata": {
        "id": "O5DGe3hxI6Vc",
        "colab_type": "code",
        "colab": {
          "base_uri": "https://localhost:8080/",
          "height": 122
        },
        "outputId": "ebddc063-48a1-4ed6-8a66-c28ce225f3f7"
      },
      "source": [
        "get_input_samples(X_train, y_train)"
      ],
      "execution_count": 83,
      "outputs": [
        {
          "output_type": "execute_result",
          "data": {
            "text/plain": [
              "[\"word_pos#the_DT word_pos#garden_NN word_pos#was_VBD word_pos#dead_JJ word_pos#because_IN word_pos#it_PRP word_pos#__NNP word_pos#dry_JJ word_pos#all_DT word_pos#summer_NN word_pos#._. word_pos#be_VB word_pos#the_DT word_pos#garden_NN word_pos#was_VBD word_pos#dead_JJ word_pos#because_IN word_pos#it_PRP word_pos#had_VBD word_pos#been_VBN word_pos#dry_JJ word_pos#all_DT word_pos#summer_NN word_pos#._. --> ['3rd form of verb'] \",\n",
              " \"word_pos#__NNP word_pos#by_IN word_pos#friday_NNP word_pos#?_. word_pos#she_PRP word_pos#arrive_VBP word_pos#will_MD word_pos#she_PRP word_pos#have_VBP word_pos#arrived_VBN word_pos#by_IN word_pos#friday_NNP word_pos#?_. --> ['will have verb+3rd form'] \",\n",
              " \"word_pos#__IN word_pos#my_PRP$ word_pos#parents_NNS word_pos#already_RB word_pos#that_DT word_pos#winter_NN word_pos#?_. word_pos#we_PRP word_pos#visit_VBP word_pos#had_VBD word_pos#we_PRP word_pos#visited_VBN word_pos#my_PRP$ word_pos#parents_NNS word_pos#already_RB word_pos#that_DT word_pos#winter_NN word_pos#?_. --> ['3rd form of verb'] \",\n",
              " \"word_pos#she_PRP word_pos#__NNP word_pos#spanish_NNP word_pos#._. word_pos#be_VB word_pos# __SP word_pos#she_PRP word_pos#is_VBZ word_pos#n't_RB word_pos#spanish_JJ word_pos#._. --> ['verb be'] \",\n",
              " \"word_pos#julie_NNP word_pos#__NNP word_pos#a_DT word_pos#film_NN word_pos#._. word_pos#watch_VB word_pos#julie_NNP word_pos#will_MD word_pos#be_VB word_pos#watching_VBG word_pos#a_DT word_pos#film_NN word_pos#._. --> ['will be verb+ing'] \"]"
            ]
          },
          "metadata": {
            "tags": []
          },
          "execution_count": 83
        }
      ]
    },
    {
      "cell_type": "markdown",
      "metadata": {
        "id": "-kawDDdRKOQI",
        "colab_type": "text"
      },
      "source": [
        "#### Experimentation Results"
      ]
    },
    {
      "cell_type": "code",
      "metadata": {
        "id": "k_EqYz4JfepB",
        "colab_type": "code",
        "colab": {
          "base_uri": "https://localhost:8080/",
          "height": 193
        },
        "outputId": "96d05f28-9a07-4369-a8e6-88d25d8cb0e6"
      },
      "source": [
        "result = check_classification(X_train, y_train, X_test, y_test)\n",
        "results.append((experiment_text, result))\n",
        "result"
      ],
      "execution_count": 84,
      "outputs": [
        {
          "output_type": "stream",
          "text": [
            "\n",
            "\n",
            "Best F1 Measure was: 0.9604 with the Model: CountVectorizer -> RandomForest\n"
          ],
          "name": "stdout"
        },
        {
          "output_type": "execute_result",
          "data": {
            "text/html": [
              "<div>\n",
              "<style scoped>\n",
              "    .dataframe tbody tr th:only-of-type {\n",
              "        vertical-align: middle;\n",
              "    }\n",
              "\n",
              "    .dataframe tbody tr th {\n",
              "        vertical-align: top;\n",
              "    }\n",
              "\n",
              "    .dataframe thead th {\n",
              "        text-align: right;\n",
              "    }\n",
              "</style>\n",
              "<table border=\"1\" class=\"dataframe\">\n",
              "  <thead>\n",
              "    <tr style=\"text-align: right;\">\n",
              "      <th></th>\n",
              "      <th>MultiNomial Naive Bais</th>\n",
              "      <th>LogisticRegression</th>\n",
              "      <th>SVM</th>\n",
              "      <th>RandomForest</th>\n",
              "      <th>XGBClassifier</th>\n",
              "    </tr>\n",
              "    <tr>\n",
              "      <th>Vectorizer</th>\n",
              "      <th></th>\n",
              "      <th></th>\n",
              "      <th></th>\n",
              "      <th></th>\n",
              "      <th></th>\n",
              "    </tr>\n",
              "  </thead>\n",
              "  <tbody>\n",
              "    <tr>\n",
              "      <th>CountVectorizer</th>\n",
              "      <td>0.7228</td>\n",
              "      <td>0.8614</td>\n",
              "      <td>0.7525</td>\n",
              "      <td>0.9604</td>\n",
              "      <td>0.9406</td>\n",
              "    </tr>\n",
              "    <tr>\n",
              "      <th>TfIdFVectorize</th>\n",
              "      <td>0.6733</td>\n",
              "      <td>0.7327</td>\n",
              "      <td>0.7129</td>\n",
              "      <td>0.8812</td>\n",
              "      <td>0.8812</td>\n",
              "    </tr>\n",
              "  </tbody>\n",
              "</table>\n",
              "</div>"
            ],
            "text/plain": [
              "                MultiNomial Naive Bais  ... XGBClassifier\n",
              "Vectorizer                              ...              \n",
              "CountVectorizer                 0.7228  ...        0.9406\n",
              "TfIdFVectorize                  0.6733  ...        0.8812\n",
              "\n",
              "[2 rows x 5 columns]"
            ]
          },
          "metadata": {
            "tags": []
          },
          "execution_count": 84
        }
      ]
    },
    {
      "cell_type": "markdown",
      "metadata": {
        "colab_type": "text",
        "id": "2KY2MlWZtMYe"
      },
      "source": [
        "### Experiment 3: pos#\\$\\{$pos_i$\\} \n",
        "With just POS"
      ]
    },
    {
      "cell_type": "code",
      "metadata": {
        "colab_type": "code",
        "id": "lpVu3ByktMYg",
        "colab": {}
      },
      "source": [
        "experiment_text = \"Classifying based on POS tags pos#{pos_i}\""
      ],
      "execution_count": 0,
      "outputs": []
    },
    {
      "cell_type": "markdown",
      "metadata": {
        "colab_type": "text",
        "id": "1nO2vGv9tMYk"
      },
      "source": [
        "#### Preprocessing"
      ]
    },
    {
      "cell_type": "code",
      "metadata": {
        "colab_type": "code",
        "id": "KXVoEmu2tMYl",
        "colab": {}
      },
      "source": [
        "X_train = X_train_orig_dataset[\"Question\"] + \" \" + X_train_orig_dataset[\"key\"] + \" \" + X_train_orig_dataset[\"answer\"]\n",
        "y_train = y_train_orig_dataset\n",
        "X_test = X_test_orig_dataset[\"Question\"] + \" \" + X_test_orig_dataset[\"key\"] + \" \" + X_test_orig_dataset[\"answer\"]\n",
        "y_test = y_test_orig_dataset"
      ],
      "execution_count": 0,
      "outputs": []
    },
    {
      "cell_type": "code",
      "metadata": {
        "colab_type": "code",
        "outputId": "6fb53e2b-258b-408a-b67f-7c6f6df54b53",
        "id": "BdNGUFWctMYp",
        "colab": {
          "base_uri": "https://localhost:8080/",
          "height": 34
        }
      },
      "source": [
        "def add_pos_template(text):\n",
        "    tokens = nlp(text)\n",
        "    text = []\n",
        "    for token in tokens:\n",
        "        text.append(\"pos#{}\".format(token.tag_))\n",
        "\n",
        "    return \" \".join(text)\n",
        "\n",
        "# Testing method\n",
        "test_sentence = \"Testing the Pos Tagger in this sentence let's see how it works!\".lower()\n",
        "add_pos_template(test_sentence)"
      ],
      "execution_count": 75,
      "outputs": [
        {
          "output_type": "execute_result",
          "data": {
            "text/plain": [
              "'pos#VBG pos#DT pos#NN pos#NN pos#IN pos#DT pos#NN pos#VB pos#PRP pos#VB pos#WRB pos#PRP pos#VBZ pos#.'"
            ]
          },
          "metadata": {
            "tags": []
          },
          "execution_count": 75
        }
      ]
    },
    {
      "cell_type": "code",
      "metadata": {
        "colab_type": "code",
        "outputId": "d835cb5d-c3c9-42ec-b86c-cee4d7cc08f0",
        "id": "CXhwEEjXtMYs",
        "colab": {
          "base_uri": "https://localhost:8080/",
          "height": 115,
          "referenced_widgets": [
            "80944a4e878240a59b337a12c38162ca",
            "1316948c624243aaa2fe40c1b751faa1",
            "5e0c789b62834700b5aa8f0ef377110b",
            "8c8c1d1cae7f411cb853a53f4a949a38",
            "ad2dc351716d4cf089fca01e62682e1e",
            "dddaa5c89a0f48f1837d5c6e10d0b11d",
            "a88c57dbfb2749f4887c2b356173756a",
            "3b053edc96f4471a97b5efce58de9d21",
            "b49f3cc45d14489d8833218ba646314b",
            "73291803d67c441bae9b7be6beb7f0ec",
            "5a1075bcea9448d99099aece61b01fb7",
            "bc0f211211714878abe69f31e06ecb7c",
            "3ca8ff744b32497a9ec5c8287e2bdd23",
            "4819885543a3410b925cb72d3a4f5906",
            "9e5cb0660499494e8ece4dac11ccfe65",
            "bff6fb8f48e94892b2d12222efe7d5e2"
          ]
        }
      },
      "source": [
        "X_train = X_train.progress_apply(add_pos_template)\n",
        "X_test = X_test.progress_apply(add_pos_template)"
      ],
      "execution_count": 76,
      "outputs": [
        {
          "output_type": "display_data",
          "data": {
            "application/vnd.jupyter.widget-view+json": {
              "model_id": "80944a4e878240a59b337a12c38162ca",
              "version_minor": 0,
              "version_major": 2
            },
            "text/plain": [
              "HBox(children=(FloatProgress(value=0.0, max=569.0), HTML(value='')))"
            ]
          },
          "metadata": {
            "tags": []
          }
        },
        {
          "output_type": "stream",
          "text": [
            "\n"
          ],
          "name": "stdout"
        },
        {
          "output_type": "display_data",
          "data": {
            "application/vnd.jupyter.widget-view+json": {
              "model_id": "b49f3cc45d14489d8833218ba646314b",
              "version_minor": 0,
              "version_major": 2
            },
            "text/plain": [
              "HBox(children=(FloatProgress(value=0.0, max=101.0), HTML(value='')))"
            ]
          },
          "metadata": {
            "tags": []
          }
        },
        {
          "output_type": "stream",
          "text": [
            "\n"
          ],
          "name": "stdout"
        }
      ]
    },
    {
      "cell_type": "markdown",
      "metadata": {
        "colab_type": "text",
        "id": "tyRetxC-tMYv"
      },
      "source": [
        "#### Input Samples"
      ]
    },
    {
      "cell_type": "code",
      "metadata": {
        "colab_type": "code",
        "outputId": "144f1f6a-5c27-4299-ad56-2a35e608c480",
        "id": "-7gTZDMQtMYv",
        "colab": {
          "base_uri": "https://localhost:8080/",
          "height": 122
        }
      },
      "source": [
        "get_input_samples(X_train, y_train)"
      ],
      "execution_count": 77,
      "outputs": [
        {
          "output_type": "execute_result",
          "data": {
            "text/plain": [
              "[\"pos#PRP pos#: pos#RB pos#SYM pos#VB pos#DT pos#NN pos#RB pos#VB pos#PRP pos#VBP pos#RB pos#VBG pos#DT pos#NN pos#. --> ['verb+ing'] \",\n",
              " \"pos#PRP pos#VBD pos#RP pos#IN pos#CD pos#NNS pos#WRB pos#PRP pos#VBD pos#JJ pos#. pos#VB pos#PRP pos#VBD pos#VBN pos#VBG pos#RP pos#IN pos#CD pos#NNS pos#WRB pos#PRP pos#VBD pos#VBN pos#. --> ['had been verb+ing'] \",\n",
              " \"pos#PRP pos#SYM pos#VB pos#NN pos#IN pos#CD pos#NN pos#NN pos#PRP pos#VBD pos#VBG pos#NN pos#. --> ['verb+ing'] \",\n",
              " \"pos#WDT pos#NNP pos#SYM pos#NNP pos#, pos#JJ pos#. pos#_SP pos#NNP pos#_SP pos#WDT pos#NNS pos#VBZ pos#NN pos#VB pos#. --> ['do/does'] \",\n",
              " \"pos#PRP pos#VBP pos#PRP$ pos#NN pos#DT pos#NNP pos#IN pos#NNP pos#. pos#_SP pos#VB pos#_SP pos#PRP pos#VBD pos#PRP$ pos#NN pos#DT pos#NNP pos#IN pos#NNP pos#. --> ['irregular verb'] \"]"
            ]
          },
          "metadata": {
            "tags": []
          },
          "execution_count": 77
        }
      ]
    },
    {
      "cell_type": "markdown",
      "metadata": {
        "colab_type": "text",
        "id": "NSleubKztMYx"
      },
      "source": [
        "#### Experimentation Results"
      ]
    },
    {
      "cell_type": "code",
      "metadata": {
        "colab_type": "code",
        "outputId": "0aceec3e-0864-4f0d-c0f6-85ec87894830",
        "id": "71W_sXKwtMYy",
        "colab": {
          "base_uri": "https://localhost:8080/",
          "height": 193
        }
      },
      "source": [
        "result = check_classification(X_train, y_train, X_test, y_test)\n",
        "results.append((experiment_text, result))\n",
        "result"
      ],
      "execution_count": 78,
      "outputs": [
        {
          "output_type": "stream",
          "text": [
            "\n",
            "\n",
            "Best F1 Measure was: 0.9208 with the Model: CountVectorizer -> RandomForest\n"
          ],
          "name": "stdout"
        },
        {
          "output_type": "execute_result",
          "data": {
            "text/html": [
              "<div>\n",
              "<style scoped>\n",
              "    .dataframe tbody tr th:only-of-type {\n",
              "        vertical-align: middle;\n",
              "    }\n",
              "\n",
              "    .dataframe tbody tr th {\n",
              "        vertical-align: top;\n",
              "    }\n",
              "\n",
              "    .dataframe thead th {\n",
              "        text-align: right;\n",
              "    }\n",
              "</style>\n",
              "<table border=\"1\" class=\"dataframe\">\n",
              "  <thead>\n",
              "    <tr style=\"text-align: right;\">\n",
              "      <th></th>\n",
              "      <th>MultiNomial Naive Bais</th>\n",
              "      <th>LogisticRegression</th>\n",
              "      <th>SVM</th>\n",
              "      <th>RandomForest</th>\n",
              "      <th>XGBClassifier</th>\n",
              "    </tr>\n",
              "    <tr>\n",
              "      <th>Vectorizer</th>\n",
              "      <th></th>\n",
              "      <th></th>\n",
              "      <th></th>\n",
              "      <th></th>\n",
              "      <th></th>\n",
              "    </tr>\n",
              "  </thead>\n",
              "  <tbody>\n",
              "    <tr>\n",
              "      <th>CountVectorizer</th>\n",
              "      <td>0.6238</td>\n",
              "      <td>0.8218</td>\n",
              "      <td>0.7624</td>\n",
              "      <td>0.9208</td>\n",
              "      <td>0.8713</td>\n",
              "    </tr>\n",
              "    <tr>\n",
              "      <th>TfIdFVectorize</th>\n",
              "      <td>0.6634</td>\n",
              "      <td>0.6832</td>\n",
              "      <td>0.7129</td>\n",
              "      <td>0.8911</td>\n",
              "      <td>0.7822</td>\n",
              "    </tr>\n",
              "  </tbody>\n",
              "</table>\n",
              "</div>"
            ],
            "text/plain": [
              "                MultiNomial Naive Bais  ... XGBClassifier\n",
              "Vectorizer                              ...              \n",
              "CountVectorizer                 0.6238  ...        0.8713\n",
              "TfIdFVectorize                  0.6634  ...        0.7822\n",
              "\n",
              "[2 rows x 5 columns]"
            ]
          },
          "metadata": {
            "tags": []
          },
          "execution_count": 78
        }
      ]
    },
    {
      "cell_type": "markdown",
      "metadata": {
        "id": "Vy8gC2iBlXBk",
        "colab_type": "text"
      },
      "source": [
        "### Experiment 4: word\\_tag#\\${$word_i$}_\\${$( q, k, a )$}\n",
        "With Question, Key, Answer Tagging"
      ]
    },
    {
      "cell_type": "code",
      "metadata": {
        "id": "J-UWTv7elEtb",
        "colab_type": "code",
        "colab": {}
      },
      "source": [
        "experiment_text = \"Tagging word with q, k, a example: word_tag#{word_i}_{q/k/a}\""
      ],
      "execution_count": 0,
      "outputs": []
    },
    {
      "cell_type": "markdown",
      "metadata": {
        "id": "-f1efJSLKSZD",
        "colab_type": "text"
      },
      "source": [
        "#### Preprocessing"
      ]
    },
    {
      "cell_type": "code",
      "metadata": {
        "id": "opByrn1GllLF",
        "colab_type": "code",
        "colab": {
          "base_uri": "https://localhost:8080/",
          "height": 34
        },
        "outputId": "a9c32b63-8043-41c1-a166-6b05c80fabbb"
      },
      "source": [
        "def add_word_tag_template(text, tag):\n",
        "    tokens = nlp(text)\n",
        "    text = []\n",
        "    for token in tokens:\n",
        "        text.append(\"word_tag#{}_{}\".format(token.text, tag))\n",
        "    \n",
        "    return \" \".join(text)\n",
        "\n",
        "add_word_tag_template(\"test sentence\", \"q\")"
      ],
      "execution_count": 92,
      "outputs": [
        {
          "output_type": "execute_result",
          "data": {
            "text/plain": [
              "'word_tag#test_q word_tag#sentence_q'"
            ]
          },
          "metadata": {
            "tags": []
          },
          "execution_count": 92
        }
      ]
    },
    {
      "cell_type": "code",
      "metadata": {
        "id": "TeZ3ae6Vfkcb",
        "colab_type": "code",
        "colab": {}
      },
      "source": [
        "X_train = X_train_orig_dataset[\"Question\"].apply(lambda x: add_word_tag_template(x, \"q\")) + \" \" + X_train_orig_dataset[\"key\"].apply(lambda x: add_word_tag_template(x, \"k\")) + \" \" + X_train_orig_dataset[\"answer\"].apply(lambda x: add_word_tag_template(x, \"a\"))\n",
        "y_train = y_train_orig_dataset\n",
        "X_test = X_test_orig_dataset[\"Question\"].apply(lambda x: add_word_tag_template(x, \"q\")) + \" \" + X_test_orig_dataset[\"key\"].apply(lambda x: add_word_tag_template(x, \"k\")) + \" \" + X_test_orig_dataset[\"answer\"].apply(lambda x: add_word_tag_template(x, \"a\"))\n",
        "y_test = y_test_orig_dataset"
      ],
      "execution_count": 0,
      "outputs": []
    },
    {
      "cell_type": "markdown",
      "metadata": {
        "id": "a12Pz769Ke3E",
        "colab_type": "text"
      },
      "source": [
        "#### Input Samples"
      ]
    },
    {
      "cell_type": "code",
      "metadata": {
        "id": "c1W-bvyAqDuS",
        "colab_type": "code",
        "colab": {
          "base_uri": "https://localhost:8080/",
          "height": 122
        },
        "outputId": "7645d14b-a3d1-4dfe-b582-cb7b03462faf"
      },
      "source": [
        "get_input_samples(X_train, y_train)"
      ],
      "execution_count": 94,
      "outputs": [
        {
          "output_type": "execute_result",
          "data": {
            "text/plain": [
              "[\"word_tag#the_q word_tag#garden_q word_tag#was_q word_tag#dead_q word_tag#because_q word_tag#it_q word_tag#__q word_tag#dry_q word_tag#all_q word_tag#summer_q word_tag#._q word_tag#be_k word_tag#the_a word_tag#garden_a word_tag#was_a word_tag#dead_a word_tag#because_a word_tag#it_a word_tag#had_a word_tag#been_a word_tag#dry_a word_tag#all_a word_tag#summer_a word_tag#._a --> ['3rd form of verb'] \",\n",
              " \"word_tag#10_q word_tag#._q word_tag#what_q word_tag#/_q word_tag#you_q word_tag#/_q word_tag#think_q word_tag#?_q word_tag#you_k word_tag#think_k word_tag#what_a word_tag#are_a word_tag#you_a word_tag#thinking_a word_tag#?_a --> ['verb+ing'] \",\n",
              " \"word_tag#who_q word_tag#/_q word_tag#the_q word_tag#teacher_q word_tag#/_q word_tag#be_q word_tag#?_q word_tag#be_k word_tag#who_a word_tag#was_a word_tag#the_a word_tag#teacher_a word_tag#?_a --> ['verb be'] \",\n",
              " \"word_tag#8_q word_tag#._q word_tag#he_q word_tag#did_q word_tag#n't_q word_tag#feel_q word_tag#healthy_q word_tag#,_q word_tag#because_q word_tag#he_q word_tag#__q word_tag#to_q word_tag#the_q word_tag#gym_q word_tag#._q word_tag#not_k word_tag#go_k word_tag#he_a word_tag#did_a word_tag#n't_a word_tag#feel_a word_tag#healthy_a word_tag#,_a word_tag#because_a word_tag#he_a word_tag#had_a word_tag#n't_a word_tag#been_a word_tag#going_a word_tag#to_a word_tag#the_a word_tag#gym_a word_tag#._a --> ['had been verb+ing'] \",\n",
              " \"word_tag#you_q word_tag#__q word_tag#from_q word_tag#china_q word_tag#._q word_tag#be_k word_tag#you_a word_tag#are_a word_tag#n't_a word_tag#from_a word_tag#china_a word_tag#._a --> ['verb be'] \"]"
            ]
          },
          "metadata": {
            "tags": []
          },
          "execution_count": 94
        }
      ]
    },
    {
      "cell_type": "markdown",
      "metadata": {
        "id": "q1EGs5cJKib5",
        "colab_type": "text"
      },
      "source": [
        "#### Experimentation Results"
      ]
    },
    {
      "cell_type": "code",
      "metadata": {
        "id": "w6ej2sPJnqeg",
        "colab_type": "code",
        "colab": {
          "base_uri": "https://localhost:8080/",
          "height": 193
        },
        "outputId": "49d6dffe-087a-4591-82c2-b3c9ca8bbc31"
      },
      "source": [
        "result = check_classification(X_train, y_train, X_test, y_test)\n",
        "results.append((experiment_text, result))\n",
        "result"
      ],
      "execution_count": 95,
      "outputs": [
        {
          "output_type": "stream",
          "text": [
            "\n",
            "\n",
            "Best F1 Measure was: 0.9802 with the Model: CountVectorizer -> XGBClassifier\n"
          ],
          "name": "stdout"
        },
        {
          "output_type": "execute_result",
          "data": {
            "text/html": [
              "<div>\n",
              "<style scoped>\n",
              "    .dataframe tbody tr th:only-of-type {\n",
              "        vertical-align: middle;\n",
              "    }\n",
              "\n",
              "    .dataframe tbody tr th {\n",
              "        vertical-align: top;\n",
              "    }\n",
              "\n",
              "    .dataframe thead th {\n",
              "        text-align: right;\n",
              "    }\n",
              "</style>\n",
              "<table border=\"1\" class=\"dataframe\">\n",
              "  <thead>\n",
              "    <tr style=\"text-align: right;\">\n",
              "      <th></th>\n",
              "      <th>MultiNomial Naive Bais</th>\n",
              "      <th>LogisticRegression</th>\n",
              "      <th>SVM</th>\n",
              "      <th>RandomForest</th>\n",
              "      <th>XGBClassifier</th>\n",
              "    </tr>\n",
              "    <tr>\n",
              "      <th>Vectorizer</th>\n",
              "      <th></th>\n",
              "      <th></th>\n",
              "      <th></th>\n",
              "      <th></th>\n",
              "      <th></th>\n",
              "    </tr>\n",
              "  </thead>\n",
              "  <tbody>\n",
              "    <tr>\n",
              "      <th>CountVectorizer</th>\n",
              "      <td>0.8119</td>\n",
              "      <td>0.9505</td>\n",
              "      <td>0.8812</td>\n",
              "      <td>0.9307</td>\n",
              "      <td>0.9802</td>\n",
              "    </tr>\n",
              "    <tr>\n",
              "      <th>TfIdFVectorize</th>\n",
              "      <td>0.7525</td>\n",
              "      <td>0.8713</td>\n",
              "      <td>0.8317</td>\n",
              "      <td>0.9010</td>\n",
              "      <td>0.9505</td>\n",
              "    </tr>\n",
              "  </tbody>\n",
              "</table>\n",
              "</div>"
            ],
            "text/plain": [
              "                MultiNomial Naive Bais  ... XGBClassifier\n",
              "Vectorizer                              ...              \n",
              "CountVectorizer                 0.8119  ...        0.9802\n",
              "TfIdFVectorize                  0.7525  ...        0.9505\n",
              "\n",
              "[2 rows x 5 columns]"
            ]
          },
          "metadata": {
            "tags": []
          },
          "execution_count": 95
        }
      ]
    },
    {
      "cell_type": "markdown",
      "metadata": {
        "id": "vDU5XC8Dor12",
        "colab_type": "text"
      },
      "source": [
        "### Experiment 4: word_pos_tag#\\${$word_i$}_\\${$pos_i$}_{(q, k, a)}\n",
        "POS Tagger with q,k,a tagging"
      ]
    },
    {
      "cell_type": "code",
      "metadata": {
        "id": "VFncx2V6lY89",
        "colab_type": "code",
        "colab": {}
      },
      "source": [
        "experiment_text = \"Adding POS Tagging and qka tagging example: word_pos_tag#{word_i}_{pos_i}_{(q, k, a)}\""
      ],
      "execution_count": 0,
      "outputs": []
    },
    {
      "cell_type": "markdown",
      "metadata": {
        "id": "rmGrSYUcPaIu",
        "colab_type": "text"
      },
      "source": [
        "#### Preprocessing"
      ]
    },
    {
      "cell_type": "code",
      "metadata": {
        "id": "Jjmq0Mgknvas",
        "colab_type": "code",
        "colab": {
          "base_uri": "https://localhost:8080/",
          "height": 34
        },
        "outputId": "89a40594-d242-4efa-8c0f-c42d9702178b"
      },
      "source": [
        "def add_word_pos_tag_template(text, tag):\n",
        "    tokens = nlp(text)\n",
        "    text = []\n",
        "    for token in tokens:\n",
        "        text.append(\"word_pos_tag#{}_{}_{}\".format(token.text, token.tag_, tag))\n",
        "\n",
        "    return \" \".join(text)\n",
        "\n",
        "add_word_pos_tag_template(\"this is test example\", \"a\")"
      ],
      "execution_count": 99,
      "outputs": [
        {
          "output_type": "execute_result",
          "data": {
            "text/plain": [
              "'word_pos_tag#this_DT_a word_pos_tag#is_VBZ_a word_pos_tag#test_NN_a word_pos_tag#example_NN_a'"
            ]
          },
          "metadata": {
            "tags": []
          },
          "execution_count": 99
        }
      ]
    },
    {
      "cell_type": "code",
      "metadata": {
        "id": "rbh5RGT3qgdz",
        "colab_type": "code",
        "colab": {}
      },
      "source": [
        "X_train = X_train_orig_dataset[\"Question\"].apply(lambda x: add_word_pos_tag_template(x, \"q\")) + \" \" + X_train_orig_dataset[\"key\"].apply(lambda x: add_word_pos_tag_template(x, \"k\")) + \" \" + X_train_orig_dataset[\"answer\"].apply(lambda x: add_word_pos_tag_template(x, \"a\"))\n",
        "y_train = y_train_orig_dataset\n",
        "X_test = X_test_orig_dataset[\"Question\"].apply(lambda x: add_word_pos_tag_template(x, \"q\")) + \" \" + X_test_orig_dataset[\"key\"].apply(lambda x: add_word_pos_tag_template(x, \"k\")) + \" \" + X_test_orig_dataset[\"answer\"].apply(lambda x: add_word_pos_tag_template(x, \"a\"))\n",
        "y_test = y_test_orig_dataset"
      ],
      "execution_count": 0,
      "outputs": []
    },
    {
      "cell_type": "markdown",
      "metadata": {
        "id": "OBc_wsYPPcYa",
        "colab_type": "text"
      },
      "source": [
        "#### Input Samples"
      ]
    },
    {
      "cell_type": "code",
      "metadata": {
        "id": "o9irVtr7Ph3F",
        "colab_type": "code",
        "colab": {
          "base_uri": "https://localhost:8080/",
          "height": 122
        },
        "outputId": "bf324ef8-7546-4774-924f-6c035166898f"
      },
      "source": [
        "get_input_samples(X_train, y_train)"
      ],
      "execution_count": 101,
      "outputs": [
        {
          "output_type": "execute_result",
          "data": {
            "text/plain": [
              "[\"word_pos_tag#you_PRP_q word_pos_tag#/_SYM_q word_pos_tag#drink_VB_q word_pos_tag#/_SYM_q word_pos_tag#wine_NN_q word_pos_tag#drink_VB_k word_pos_tag#wine_NN_k word_pos_tag#are_VBP_a word_pos_tag#you_PRP_a word_pos_tag#drinking_VBG_a word_pos_tag#wine_NN_a word_pos_tag#?_._a --> ['verb+ing'] \",\n",
              " \"word_pos_tag#this_DT_q word_pos_tag#was_VBD_q word_pos_tag#the_DT_q word_pos_tag#first_JJ_q word_pos_tag#time_NN_q word_pos_tag#she_PRP_q word_pos_tag#had_VBD_q word_pos_tag#__NNP_q word_pos_tag#her_PRP$_q word_pos_tag#homework_NN_q word_pos_tag#do_VBP_k word_pos_tag#this_DT_a word_pos_tag#was_VBD_a word_pos_tag#the_DT_a word_pos_tag#first_JJ_a word_pos_tag#time_NN_a word_pos_tag#she_PRP_a word_pos_tag#had_VBD_a word_pos_tag#done_VBN_a word_pos_tag#her_PRP$_a word_pos_tag#homework_NN_a --> ['irregular verb'] \",\n",
              " \"word_pos_tag#i_PRP_q word_pos_tag#__VBP_q word_pos_tag#some_DT_q word_pos_tag#books_NNS_q word_pos_tag#this_DT_q word_pos_tag#morning_NN_q word_pos_tag#._._q word_pos_tag#buy_VB_k word_pos_tag#i_PRP_a word_pos_tag#bought_VBD_a word_pos_tag#some_DT_a word_pos_tag#books_NNS_a word_pos_tag#this_DT_a word_pos_tag#morning_NN_a word_pos_tag#._._a --> ['irregular verb'] \",\n",
              " \"word_pos_tag#he_PRP_q word_pos_tag#has_VBZ_q word_pos_tag#__VBN_q word_pos_tag#his_PRP$_q word_pos_tag#wallet_NN_q word_pos_tag#again_RB_q word_pos_tag#._._q word_pos_tag#lose_VB_k word_pos_tag#he_PRP_a word_pos_tag#has_VBZ_a word_pos_tag#lost_VBN_a word_pos_tag#his_PRP$_a word_pos_tag#wallet_NN_a word_pos_tag#again_RB_a word_pos_tag#._._a --> ['irregular verb'] \",\n",
              " \"word_pos_tag#i_PRP_q word_pos_tag#__VBP_q word_pos_tag#the_DT_q word_pos_tag#report_NN_q word_pos_tag#._._q word_pos_tag#finish_NN_k word_pos_tag#i_PRP_a word_pos_tag#will_MD_a word_pos_tag#have_VB_a word_pos_tag#finished_VBN_a word_pos_tag#the_DT_a word_pos_tag#report_NN_a word_pos_tag#._._a --> ['will have verb+3rd form'] \"]"
            ]
          },
          "metadata": {
            "tags": []
          },
          "execution_count": 101
        }
      ]
    },
    {
      "cell_type": "markdown",
      "metadata": {
        "id": "0iieMsmXPeGA",
        "colab_type": "text"
      },
      "source": [
        "#### Experimentation Results"
      ]
    },
    {
      "cell_type": "code",
      "metadata": {
        "id": "NOedaRu5qo9p",
        "colab_type": "code",
        "colab": {
          "base_uri": "https://localhost:8080/",
          "height": 193
        },
        "outputId": "af4746f6-b9f2-4342-b27c-af5ade7c919c"
      },
      "source": [
        "result = check_classification(X_train, y_train, X_test, y_test)\n",
        "results.append((experiment_text, result))\n",
        "result"
      ],
      "execution_count": 102,
      "outputs": [
        {
          "output_type": "stream",
          "text": [
            "\n",
            "\n",
            "Best F1 Measure was: 0.9307 with the Model: CountVectorizer -> LogisticRegression\n"
          ],
          "name": "stdout"
        },
        {
          "output_type": "execute_result",
          "data": {
            "text/html": [
              "<div>\n",
              "<style scoped>\n",
              "    .dataframe tbody tr th:only-of-type {\n",
              "        vertical-align: middle;\n",
              "    }\n",
              "\n",
              "    .dataframe tbody tr th {\n",
              "        vertical-align: top;\n",
              "    }\n",
              "\n",
              "    .dataframe thead th {\n",
              "        text-align: right;\n",
              "    }\n",
              "</style>\n",
              "<table border=\"1\" class=\"dataframe\">\n",
              "  <thead>\n",
              "    <tr style=\"text-align: right;\">\n",
              "      <th></th>\n",
              "      <th>MultiNomial Naive Bais</th>\n",
              "      <th>LogisticRegression</th>\n",
              "      <th>SVM</th>\n",
              "      <th>RandomForest</th>\n",
              "      <th>XGBClassifier</th>\n",
              "    </tr>\n",
              "    <tr>\n",
              "      <th>Vectorizer</th>\n",
              "      <th></th>\n",
              "      <th></th>\n",
              "      <th></th>\n",
              "      <th></th>\n",
              "      <th></th>\n",
              "    </tr>\n",
              "  </thead>\n",
              "  <tbody>\n",
              "    <tr>\n",
              "      <th>CountVectorizer</th>\n",
              "      <td>0.8119</td>\n",
              "      <td>0.9307</td>\n",
              "      <td>0.8614</td>\n",
              "      <td>0.9109</td>\n",
              "      <td>0.9307</td>\n",
              "    </tr>\n",
              "    <tr>\n",
              "      <th>TfIdFVectorize</th>\n",
              "      <td>0.7822</td>\n",
              "      <td>0.8416</td>\n",
              "      <td>0.8218</td>\n",
              "      <td>0.8515</td>\n",
              "      <td>0.9307</td>\n",
              "    </tr>\n",
              "  </tbody>\n",
              "</table>\n",
              "</div>"
            ],
            "text/plain": [
              "                MultiNomial Naive Bais  ... XGBClassifier\n",
              "Vectorizer                              ...              \n",
              "CountVectorizer                 0.8119  ...        0.9307\n",
              "TfIdFVectorize                  0.7822  ...        0.9307\n",
              "\n",
              "[2 rows x 5 columns]"
            ]
          },
          "metadata": {
            "tags": []
          },
          "execution_count": 102
        }
      ]
    },
    {
      "cell_type": "markdown",
      "metadata": {
        "colab_type": "text",
        "id": "nShtYSvors-t"
      },
      "source": [
        "### Experiment 5: Word#DetailedPOS\n",
        "\n",
        "More Information https://spacy.io/api/annotation#pos-tagging about the tags"
      ]
    },
    {
      "cell_type": "code",
      "metadata": {
        "colab_type": "code",
        "id": "lE6E87DUrs-2",
        "colab": {}
      },
      "source": [
        "experiment_text = \"Adding POS Tagging with details like Verb Forms example: word#VBG word#VBZ with same convention\""
      ],
      "execution_count": 0,
      "outputs": []
    },
    {
      "cell_type": "markdown",
      "metadata": {
        "colab_type": "text",
        "id": "gZb_vq0krs--"
      },
      "source": [
        "#### Preprocessing"
      ]
    },
    {
      "cell_type": "code",
      "metadata": {
        "colab_type": "code",
        "outputId": "5fa56300-ae84-4fba-bf64-ed2aa884d136",
        "id": "5hdPuMjArs--",
        "colab": {
          "base_uri": "https://localhost:8080/",
          "height": 34
        }
      },
      "source": [
        "def add_detailed_postag(text):\n",
        "    tokens = nlp(text)\n",
        "    text = []\n",
        "    for token in tokens:\n",
        "        text.append(\"{}#{}\".format(token.text, token.tag_))\n",
        "\n",
        "    return \" \".join(text)\n",
        "\n",
        "add_detailed_postag(\"This is a test sentence! We will see the difference between playing and played\")"
      ],
      "execution_count": 54,
      "outputs": [
        {
          "output_type": "execute_result",
          "data": {
            "text/plain": [
              "'This#DT is#VBZ a#DT test#NN sentence#NN !#. We#PRP will#MD see#VB the#DT difference#NN between#IN playing#VBG and#CC played#VBD'"
            ]
          },
          "metadata": {
            "tags": []
          },
          "execution_count": 54
        }
      ]
    },
    {
      "cell_type": "code",
      "metadata": {
        "colab_type": "code",
        "id": "ZOvu4Kwgrs_C",
        "colab": {}
      },
      "source": [
        "X_train = X_train_orig_dataset[\"Question\"].apply(lambda x: add_detailed_postag(x)) + \" \" + X_train_orig_dataset[\"key\"].apply(lambda x: add_detailed_postag(x)) + \" \" + X_train_orig_dataset[\"answer\"].apply(lambda x: add_detailed_postag(x))\n",
        "y_train = y_train_orig_dataset\n",
        "X_test = X_test_orig_dataset[\"Question\"].apply(lambda x: add_detailed_postag(x)) + \" \" + X_test_orig_dataset[\"key\"].apply(lambda x: add_detailed_postag(x)) + \" \" + X_test_orig_dataset[\"answer\"].apply(lambda x: add_detailed_postag(x))\n",
        "y_test = y_test_orig_dataset"
      ],
      "execution_count": 0,
      "outputs": []
    },
    {
      "cell_type": "markdown",
      "metadata": {
        "colab_type": "text",
        "id": "saw9iWejrs_F"
      },
      "source": [
        "#### Input Samples"
      ]
    },
    {
      "cell_type": "code",
      "metadata": {
        "colab_type": "code",
        "outputId": "2925221a-262b-4de2-8174-12ebad8de2fb",
        "id": "4_WHZNtKrs_G",
        "colab": {
          "base_uri": "https://localhost:8080/",
          "height": 122
        }
      },
      "source": [
        "get_input_samples(X_train, y_train)"
      ],
      "execution_count": 56,
      "outputs": [
        {
          "output_type": "execute_result",
          "data": {
            "text/plain": [
              "[\"i#PRP _#NNP a#DT new#JJ song#NN on#IN the#DT radio#NN .#.  #_SP hear#NNP  #_SP i#PRP heard#VBD a#DT new#JJ song#NN on#IN the#DT radio#NN .#. --> ['irregular verb'] \",\n",
              " \"i#PRP 'd#MD _#NNP a#DT lovely#JJ new#JJ bike#NN for#IN my#PRP$ birthday#NN ,#, so#CC i#PRP was#VBD keen#JJ to#TO try#VB it#PRP .#. get#VB i#PRP 'd#MD got#VBN a#DT lovely#JJ new#JJ bike#NN for#IN my#PRP$ birthday#NN ,#, so#CC i#PRP was#VBD keen#JJ to#TO try#VB it#PRP .#. --> ['irregular verb'] \",\n",
              " \"why#WRB have#VBP you#PRP _#NNP up#RP ?#. are#VBP we#PRP leaving#VBG ?#. stand#VB why#WRB have#VBP you#PRP stood#VBN up#RP ?#. are#VBP we#PRP leaving#VBG ?#. --> ['irregular verb'] \",\n",
              " \"he#PRP had#VBD _#NNP 6#CD miles#NNS when#WRB he#PRP hurt#VBD his#PRP$ ankle#NN .#. run#VB he#PRP had#VBD run#VBN 6#CD miles#NNS when#WRB he#PRP hurt#VBD his#PRP$ ankle#NN .#. --> ['irregular verb'] \",\n",
              " \"you#PRP _#NNP a#DT doctor#NN .#. be#VB you#PRP are#VBP a#DT doctor#NN .#. --> ['verb be'] \"]"
            ]
          },
          "metadata": {
            "tags": []
          },
          "execution_count": 56
        }
      ]
    },
    {
      "cell_type": "markdown",
      "metadata": {
        "colab_type": "text",
        "id": "PzyGBIYSrs_J"
      },
      "source": [
        "#### Experimentation Results"
      ]
    },
    {
      "cell_type": "code",
      "metadata": {
        "colab_type": "code",
        "outputId": "982de385-83d7-485d-d48d-c525cee1dc1d",
        "id": "vZNb5B2vrs_L",
        "colab": {
          "base_uri": "https://localhost:8080/",
          "height": 193
        }
      },
      "source": [
        "result = check_classification(X_train, y_train, X_test, y_test)\n",
        "results.append((experiment_text, result))\n",
        "result"
      ],
      "execution_count": 57,
      "outputs": [
        {
          "output_type": "stream",
          "text": [
            "\n",
            "\n",
            "Best F1 Measure was: 0.9307 with the Model: CountVectorizer -> RandomForest\n"
          ],
          "name": "stdout"
        },
        {
          "output_type": "execute_result",
          "data": {
            "text/html": [
              "<div>\n",
              "<style scoped>\n",
              "    .dataframe tbody tr th:only-of-type {\n",
              "        vertical-align: middle;\n",
              "    }\n",
              "\n",
              "    .dataframe tbody tr th {\n",
              "        vertical-align: top;\n",
              "    }\n",
              "\n",
              "    .dataframe thead th {\n",
              "        text-align: right;\n",
              "    }\n",
              "</style>\n",
              "<table border=\"1\" class=\"dataframe\">\n",
              "  <thead>\n",
              "    <tr style=\"text-align: right;\">\n",
              "      <th></th>\n",
              "      <th>MultiNomial Naive Bais</th>\n",
              "      <th>LogisticRegression</th>\n",
              "      <th>SVM</th>\n",
              "      <th>RandomForest</th>\n",
              "      <th>XGBClassifier</th>\n",
              "    </tr>\n",
              "    <tr>\n",
              "      <th>Vectorizer</th>\n",
              "      <th></th>\n",
              "      <th></th>\n",
              "      <th></th>\n",
              "      <th></th>\n",
              "      <th></th>\n",
              "    </tr>\n",
              "  </thead>\n",
              "  <tbody>\n",
              "    <tr>\n",
              "      <th>CountVectorizer</th>\n",
              "      <td>0.7228</td>\n",
              "      <td>0.8614</td>\n",
              "      <td>0.7228</td>\n",
              "      <td>0.9307</td>\n",
              "      <td>0.9307</td>\n",
              "    </tr>\n",
              "    <tr>\n",
              "      <th>TfIdFVectorize</th>\n",
              "      <td>0.6535</td>\n",
              "      <td>0.7327</td>\n",
              "      <td>0.7426</td>\n",
              "      <td>0.8911</td>\n",
              "      <td>0.8614</td>\n",
              "    </tr>\n",
              "  </tbody>\n",
              "</table>\n",
              "</div>"
            ],
            "text/plain": [
              "                MultiNomial Naive Bais  ... XGBClassifier\n",
              "Vectorizer                              ...              \n",
              "CountVectorizer                 0.7228  ...        0.9307\n",
              "TfIdFVectorize                  0.6535  ...        0.8614\n",
              "\n",
              "[2 rows x 5 columns]"
            ]
          },
          "metadata": {
            "tags": []
          },
          "execution_count": 57
        }
      ]
    },
    {
      "cell_type": "markdown",
      "metadata": {
        "colab_type": "text",
        "id": "dzzNZVRqa0pr"
      },
      "source": [
        "### Experiment 6: Word Word#DetailedPOS Word#DetailedPOS#key tagging\n",
        "\n",
        "More Information https://spacy.io/api/annotation#pos-tagging about the tags"
      ]
    },
    {
      "cell_type": "code",
      "metadata": {
        "colab_type": "code",
        "id": "rDAhuemva0pt",
        "colab": {}
      },
      "source": [
        "experiment_text = \"Adding Detailed POS Tagging with words and words and key tagging example: word word#q word#VBG word word#k word#VBZ\""
      ],
      "execution_count": 0,
      "outputs": []
    },
    {
      "cell_type": "markdown",
      "metadata": {
        "colab_type": "text",
        "id": "j0R36zrUa0pv"
      },
      "source": [
        "#### Preprocessing"
      ]
    },
    {
      "cell_type": "code",
      "metadata": {
        "colab_type": "code",
        "outputId": "0be058fb-76b9-4f0b-d170-7e576c524a29",
        "id": "reW8_HD_a0pw",
        "colab": {
          "base_uri": "https://localhost:8080/",
          "height": 34
        }
      },
      "source": [
        "def add_detailed_postag_with_words_and_key(text, key):\n",
        "    tokens = nlp(text)\n",
        "    text = []\n",
        "    for token in tokens:\n",
        "        text.append(\"{} {}_{} {}#{}\".format(token.text, token.text, token.text, token.text, token.tag_))\n",
        "\n",
        "    return \" \".join(text)\n",
        "\n",
        "add_detailed_postag(\"This is a test sentence! We will see the difference between playing and played\")"
      ],
      "execution_count": 59,
      "outputs": [
        {
          "output_type": "execute_result",
          "data": {
            "text/plain": [
              "'This#DT is#VBZ a#DT test#NN sentence#NN !#. We#PRP will#MD see#VB the#DT difference#NN between#IN playing#VBG and#CC played#VBD'"
            ]
          },
          "metadata": {
            "tags": []
          },
          "execution_count": 59
        }
      ]
    },
    {
      "cell_type": "code",
      "metadata": {
        "colab_type": "code",
        "id": "JD6zyi8aa0py",
        "colab": {}
      },
      "source": [
        "X_train = X_train_orig_dataset[\"Question\"].apply(lambda x: add_detailed_postag(x)) + \" \" + X_train_orig_dataset[\"key\"].apply(lambda x: add_detailed_postag(x)) + \" \" + X_train_orig_dataset[\"answer\"].apply(lambda x: add_detailed_postag(x))\n",
        "y_train = y_train_orig_dataset\n",
        "X_test = X_test_orig_dataset[\"Question\"].apply(lambda x: add_detailed_postag(x)) + \" \" + X_test_orig_dataset[\"key\"].apply(lambda x: add_detailed_postag(x)) + \" \" + X_test_orig_dataset[\"answer\"].apply(lambda x: add_detailed_postag(x))\n",
        "y_test = y_test_orig_dataset"
      ],
      "execution_count": 0,
      "outputs": []
    },
    {
      "cell_type": "markdown",
      "metadata": {
        "colab_type": "text",
        "id": "PPJ4-6q9a0p0"
      },
      "source": [
        "#### Input Samples"
      ]
    },
    {
      "cell_type": "code",
      "metadata": {
        "colab_type": "code",
        "outputId": "8818752a-9697-443d-fcaf-e2a64ed17aef",
        "id": "HOtOGTg1a0p3",
        "colab": {
          "base_uri": "https://localhost:8080/",
          "height": 102
        }
      },
      "source": [
        "get_input_samples(X_train, y_train)"
      ],
      "execution_count": 61,
      "outputs": [
        {
          "output_type": "execute_result",
          "data": {
            "text/plain": [
              "[\"it#PRP _#NNP cold#JJ last#JJ night#NN .#. be#VB it#PRP was#VBD cold#JJ last#JJ night#NN .#. --> ['irregular verb'] \",\n",
              " \"he#PRP _#NNP in#IN the#DT library#NN .#. study#NN he#PRP will#MD be#VB studying#VBG in#IN the#DT library#NN .#. --> ['will be verb+ing'] \",\n",
              " \"he#PRP /#SYM work#VBP in#IN a#DT restaurant#NN work#NN he#PRP works#VBZ in#IN a#DT restaurant#NN .#. --> ['verb(s/es)'] \",\n",
              " \"lucy#NNP /#SYM study#NN history#NN ?#. study#NN does#VBZ lucy#NNP study#VB history#NN ?#. --> ['do/does'] \",\n",
              " \"_#NNP tomorrow#NN ?#. they#PRP come#VBP will#MD they#PRP come#VB tomorrow#NN ?#. --> ['will + first form of verb'] \"]"
            ]
          },
          "metadata": {
            "tags": []
          },
          "execution_count": 61
        }
      ]
    },
    {
      "cell_type": "markdown",
      "metadata": {
        "colab_type": "text",
        "id": "a1qGoTvMa0p5"
      },
      "source": [
        "#### Experimentation Results"
      ]
    },
    {
      "cell_type": "code",
      "metadata": {
        "colab_type": "code",
        "outputId": "241e7e04-9fb2-4026-f682-25e1573942f1",
        "id": "OefM3SVha0p6",
        "colab": {
          "base_uri": "https://localhost:8080/",
          "height": 193
        }
      },
      "source": [
        "result = check_classification(X_train, y_train, X_test, y_test)\n",
        "results.append((experiment_text, result))\n",
        "result"
      ],
      "execution_count": 62,
      "outputs": [
        {
          "output_type": "stream",
          "text": [
            "\n",
            "\n",
            "Best F1 Measure was: 0.9307 with the Model: CountVectorizer -> XGBClassifier\n"
          ],
          "name": "stdout"
        },
        {
          "output_type": "execute_result",
          "data": {
            "text/html": [
              "<div>\n",
              "<style scoped>\n",
              "    .dataframe tbody tr th:only-of-type {\n",
              "        vertical-align: middle;\n",
              "    }\n",
              "\n",
              "    .dataframe tbody tr th {\n",
              "        vertical-align: top;\n",
              "    }\n",
              "\n",
              "    .dataframe thead th {\n",
              "        text-align: right;\n",
              "    }\n",
              "</style>\n",
              "<table border=\"1\" class=\"dataframe\">\n",
              "  <thead>\n",
              "    <tr style=\"text-align: right;\">\n",
              "      <th></th>\n",
              "      <th>MultiNomial Naive Bais</th>\n",
              "      <th>LogisticRegression</th>\n",
              "      <th>SVM</th>\n",
              "      <th>RandomForest</th>\n",
              "      <th>XGBClassifier</th>\n",
              "    </tr>\n",
              "    <tr>\n",
              "      <th>Vectorizer</th>\n",
              "      <th></th>\n",
              "      <th></th>\n",
              "      <th></th>\n",
              "      <th></th>\n",
              "      <th></th>\n",
              "    </tr>\n",
              "  </thead>\n",
              "  <tbody>\n",
              "    <tr>\n",
              "      <th>CountVectorizer</th>\n",
              "      <td>0.7228</td>\n",
              "      <td>0.8614</td>\n",
              "      <td>0.7228</td>\n",
              "      <td>0.9208</td>\n",
              "      <td>0.9307</td>\n",
              "    </tr>\n",
              "    <tr>\n",
              "      <th>TfIdFVectorize</th>\n",
              "      <td>0.6535</td>\n",
              "      <td>0.7327</td>\n",
              "      <td>0.7426</td>\n",
              "      <td>0.9010</td>\n",
              "      <td>0.8614</td>\n",
              "    </tr>\n",
              "  </tbody>\n",
              "</table>\n",
              "</div>"
            ],
            "text/plain": [
              "                MultiNomial Naive Bais  ... XGBClassifier\n",
              "Vectorizer                              ...              \n",
              "CountVectorizer                 0.7228  ...        0.9307\n",
              "TfIdFVectorize                  0.6535  ...        0.8614\n",
              "\n",
              "[2 rows x 5 columns]"
            ]
          },
          "metadata": {
            "tags": []
          },
          "execution_count": 62
        }
      ]
    },
    {
      "cell_type": "markdown",
      "metadata": {
        "id": "Bg7EYTlhi_kG",
        "colab_type": "text"
      },
      "source": [
        "# Results"
      ]
    },
    {
      "cell_type": "code",
      "metadata": {
        "id": "J00xqSOAqvQH",
        "colab_type": "code",
        "colab": {
          "base_uri": "https://localhost:8080/",
          "height": 1000
        },
        "outputId": "93505ee2-2674-4a00-b9d6-4b5650bc95b8"
      },
      "source": [
        "from IPython.display import display, HTML\n",
        "\n",
        "for i, (description, result) in enumerate(results):\n",
        "    print(\"Experiment {}:\".format(i+1))\n",
        "    print(description)\n",
        "    display(HTML(result.to_html()))\n",
        "    print(\"\\n\\n\")"
      ],
      "execution_count": 63,
      "outputs": [
        {
          "output_type": "stream",
          "text": [
            "Experiment 1:\n",
            "Concatenating question + key + answer.\n"
          ],
          "name": "stdout"
        },
        {
          "output_type": "display_data",
          "data": {
            "text/html": [
              "<table border=\"1\" class=\"dataframe\">\n",
              "  <thead>\n",
              "    <tr style=\"text-align: right;\">\n",
              "      <th></th>\n",
              "      <th>MultiNomial Naive Bais</th>\n",
              "      <th>LogisticRegression</th>\n",
              "      <th>SVM</th>\n",
              "      <th>RandomForest</th>\n",
              "      <th>XGBClassifier</th>\n",
              "    </tr>\n",
              "    <tr>\n",
              "      <th>Vectorizer</th>\n",
              "      <th></th>\n",
              "      <th></th>\n",
              "      <th></th>\n",
              "      <th></th>\n",
              "      <th></th>\n",
              "    </tr>\n",
              "  </thead>\n",
              "  <tbody>\n",
              "    <tr>\n",
              "      <th>CountVectorizer</th>\n",
              "      <td>0.7327</td>\n",
              "      <td>0.8812</td>\n",
              "      <td>0.7822</td>\n",
              "      <td>0.9703</td>\n",
              "      <td>0.9703</td>\n",
              "    </tr>\n",
              "    <tr>\n",
              "      <th>TfIdFVectorize</th>\n",
              "      <td>0.6832</td>\n",
              "      <td>0.7228</td>\n",
              "      <td>0.6733</td>\n",
              "      <td>0.9307</td>\n",
              "      <td>0.9406</td>\n",
              "    </tr>\n",
              "  </tbody>\n",
              "</table>"
            ],
            "text/plain": [
              "<IPython.core.display.HTML object>"
            ]
          },
          "metadata": {
            "tags": []
          }
        },
        {
          "output_type": "stream",
          "text": [
            "\n",
            "\n",
            "\n",
            "Experiment 2:\n",
            "Adding Pos Tags along with q#tags + k#tags + a#tags Unigrams\n"
          ],
          "name": "stdout"
        },
        {
          "output_type": "display_data",
          "data": {
            "text/html": [
              "<table border=\"1\" class=\"dataframe\">\n",
              "  <thead>\n",
              "    <tr style=\"text-align: right;\">\n",
              "      <th></th>\n",
              "      <th>MultiNomial Naive Bais</th>\n",
              "      <th>LogisticRegression</th>\n",
              "      <th>SVM</th>\n",
              "      <th>RandomForest</th>\n",
              "      <th>XGBClassifier</th>\n",
              "    </tr>\n",
              "    <tr>\n",
              "      <th>Vectorizer</th>\n",
              "      <th></th>\n",
              "      <th></th>\n",
              "      <th></th>\n",
              "      <th></th>\n",
              "      <th></th>\n",
              "    </tr>\n",
              "  </thead>\n",
              "  <tbody>\n",
              "    <tr>\n",
              "      <th>CountVectorizer</th>\n",
              "      <td>0.7129</td>\n",
              "      <td>0.8515</td>\n",
              "      <td>0.7624</td>\n",
              "      <td>0.9505</td>\n",
              "      <td>0.9604</td>\n",
              "    </tr>\n",
              "    <tr>\n",
              "      <th>TfIdFVectorize</th>\n",
              "      <td>0.6733</td>\n",
              "      <td>0.7129</td>\n",
              "      <td>0.6832</td>\n",
              "      <td>0.8911</td>\n",
              "      <td>0.9109</td>\n",
              "    </tr>\n",
              "  </tbody>\n",
              "</table>"
            ],
            "text/plain": [
              "<IPython.core.display.HTML object>"
            ]
          },
          "metadata": {
            "tags": []
          }
        },
        {
          "output_type": "stream",
          "text": [
            "\n",
            "\n",
            "\n",
            "Experiment 3:\n",
            "Adding Pos Tags along with q#tags + k#tags + a#tags Unigrams\n"
          ],
          "name": "stdout"
        },
        {
          "output_type": "display_data",
          "data": {
            "text/html": [
              "<table border=\"1\" class=\"dataframe\">\n",
              "  <thead>\n",
              "    <tr style=\"text-align: right;\">\n",
              "      <th></th>\n",
              "      <th>MultiNomial Naive Bais</th>\n",
              "      <th>LogisticRegression</th>\n",
              "      <th>SVM</th>\n",
              "      <th>RandomForest</th>\n",
              "      <th>XGBClassifier</th>\n",
              "    </tr>\n",
              "    <tr>\n",
              "      <th>Vectorizer</th>\n",
              "      <th></th>\n",
              "      <th></th>\n",
              "      <th></th>\n",
              "      <th></th>\n",
              "      <th></th>\n",
              "    </tr>\n",
              "  </thead>\n",
              "  <tbody>\n",
              "    <tr>\n",
              "      <th>CountVectorizer</th>\n",
              "      <td>0.7030</td>\n",
              "      <td>0.8614</td>\n",
              "      <td>0.7624</td>\n",
              "      <td>0.9703</td>\n",
              "      <td>0.9703</td>\n",
              "    </tr>\n",
              "    <tr>\n",
              "      <th>TfIdFVectorize</th>\n",
              "      <td>0.6634</td>\n",
              "      <td>0.7327</td>\n",
              "      <td>0.6832</td>\n",
              "      <td>0.9406</td>\n",
              "      <td>0.9109</td>\n",
              "    </tr>\n",
              "  </tbody>\n",
              "</table>"
            ],
            "text/plain": [
              "<IPython.core.display.HTML object>"
            ]
          },
          "metadata": {
            "tags": []
          }
        },
        {
          "output_type": "stream",
          "text": [
            "\n",
            "\n",
            "\n",
            "Experiment 4:\n",
            "Tagging word with q, k, a example: word#q + word#k + word#a\n"
          ],
          "name": "stdout"
        },
        {
          "output_type": "display_data",
          "data": {
            "text/html": [
              "<table border=\"1\" class=\"dataframe\">\n",
              "  <thead>\n",
              "    <tr style=\"text-align: right;\">\n",
              "      <th></th>\n",
              "      <th>MultiNomial Naive Bais</th>\n",
              "      <th>LogisticRegression</th>\n",
              "      <th>SVM</th>\n",
              "      <th>RandomForest</th>\n",
              "      <th>XGBClassifier</th>\n",
              "    </tr>\n",
              "    <tr>\n",
              "      <th>Vectorizer</th>\n",
              "      <th></th>\n",
              "      <th></th>\n",
              "      <th></th>\n",
              "      <th></th>\n",
              "      <th></th>\n",
              "    </tr>\n",
              "  </thead>\n",
              "  <tbody>\n",
              "    <tr>\n",
              "      <th>CountVectorizer</th>\n",
              "      <td>0.8020</td>\n",
              "      <td>0.9505</td>\n",
              "      <td>0.8713</td>\n",
              "      <td>0.9604</td>\n",
              "      <td>0.9802</td>\n",
              "    </tr>\n",
              "    <tr>\n",
              "      <th>TfIdFVectorize</th>\n",
              "      <td>0.7525</td>\n",
              "      <td>0.8713</td>\n",
              "      <td>0.8416</td>\n",
              "      <td>0.8911</td>\n",
              "      <td>0.9406</td>\n",
              "    </tr>\n",
              "  </tbody>\n",
              "</table>"
            ],
            "text/plain": [
              "<IPython.core.display.HTML object>"
            ]
          },
          "metadata": {
            "tags": []
          }
        },
        {
          "output_type": "stream",
          "text": [
            "\n",
            "\n",
            "\n",
            "Experiment 5:\n",
            "Adding POS Tagging and qka tagging example: word#tag#q word#tag#k word#tag#a\n"
          ],
          "name": "stdout"
        },
        {
          "output_type": "display_data",
          "data": {
            "text/html": [
              "<table border=\"1\" class=\"dataframe\">\n",
              "  <thead>\n",
              "    <tr style=\"text-align: right;\">\n",
              "      <th></th>\n",
              "      <th>MultiNomial Naive Bais</th>\n",
              "      <th>LogisticRegression</th>\n",
              "      <th>SVM</th>\n",
              "      <th>RandomForest</th>\n",
              "      <th>XGBClassifier</th>\n",
              "    </tr>\n",
              "    <tr>\n",
              "      <th>Vectorizer</th>\n",
              "      <th></th>\n",
              "      <th></th>\n",
              "      <th></th>\n",
              "      <th></th>\n",
              "      <th></th>\n",
              "    </tr>\n",
              "  </thead>\n",
              "  <tbody>\n",
              "    <tr>\n",
              "      <th>CountVectorizer</th>\n",
              "      <td>0.7822</td>\n",
              "      <td>0.9604</td>\n",
              "      <td>0.8713</td>\n",
              "      <td>0.9307</td>\n",
              "      <td>0.9307</td>\n",
              "    </tr>\n",
              "    <tr>\n",
              "      <th>TfIdFVectorize</th>\n",
              "      <td>0.7525</td>\n",
              "      <td>0.8614</td>\n",
              "      <td>0.8119</td>\n",
              "      <td>0.8515</td>\n",
              "      <td>0.9307</td>\n",
              "    </tr>\n",
              "  </tbody>\n",
              "</table>"
            ],
            "text/plain": [
              "<IPython.core.display.HTML object>"
            ]
          },
          "metadata": {
            "tags": []
          }
        },
        {
          "output_type": "stream",
          "text": [
            "\n",
            "\n",
            "\n",
            "Experiment 6:\n",
            "Adding POS Tagging with details like Verb Forms example: word#VBG word#VBZ with same convention\n"
          ],
          "name": "stdout"
        },
        {
          "output_type": "display_data",
          "data": {
            "text/html": [
              "<table border=\"1\" class=\"dataframe\">\n",
              "  <thead>\n",
              "    <tr style=\"text-align: right;\">\n",
              "      <th></th>\n",
              "      <th>MultiNomial Naive Bais</th>\n",
              "      <th>LogisticRegression</th>\n",
              "      <th>SVM</th>\n",
              "      <th>RandomForest</th>\n",
              "      <th>XGBClassifier</th>\n",
              "    </tr>\n",
              "    <tr>\n",
              "      <th>Vectorizer</th>\n",
              "      <th></th>\n",
              "      <th></th>\n",
              "      <th></th>\n",
              "      <th></th>\n",
              "      <th></th>\n",
              "    </tr>\n",
              "  </thead>\n",
              "  <tbody>\n",
              "    <tr>\n",
              "      <th>CountVectorizer</th>\n",
              "      <td>0.7228</td>\n",
              "      <td>0.8614</td>\n",
              "      <td>0.7228</td>\n",
              "      <td>0.9307</td>\n",
              "      <td>0.9307</td>\n",
              "    </tr>\n",
              "    <tr>\n",
              "      <th>TfIdFVectorize</th>\n",
              "      <td>0.6535</td>\n",
              "      <td>0.7327</td>\n",
              "      <td>0.7426</td>\n",
              "      <td>0.8911</td>\n",
              "      <td>0.8614</td>\n",
              "    </tr>\n",
              "  </tbody>\n",
              "</table>"
            ],
            "text/plain": [
              "<IPython.core.display.HTML object>"
            ]
          },
          "metadata": {
            "tags": []
          }
        },
        {
          "output_type": "stream",
          "text": [
            "\n",
            "\n",
            "\n",
            "Experiment 7:\n",
            "Adding Detailed POS Tagging with words and words and key tagging example: word word#q word#VBG word word#k word#VBZ\n"
          ],
          "name": "stdout"
        },
        {
          "output_type": "display_data",
          "data": {
            "text/html": [
              "<table border=\"1\" class=\"dataframe\">\n",
              "  <thead>\n",
              "    <tr style=\"text-align: right;\">\n",
              "      <th></th>\n",
              "      <th>MultiNomial Naive Bais</th>\n",
              "      <th>LogisticRegression</th>\n",
              "      <th>SVM</th>\n",
              "      <th>RandomForest</th>\n",
              "      <th>XGBClassifier</th>\n",
              "    </tr>\n",
              "    <tr>\n",
              "      <th>Vectorizer</th>\n",
              "      <th></th>\n",
              "      <th></th>\n",
              "      <th></th>\n",
              "      <th></th>\n",
              "      <th></th>\n",
              "    </tr>\n",
              "  </thead>\n",
              "  <tbody>\n",
              "    <tr>\n",
              "      <th>CountVectorizer</th>\n",
              "      <td>0.7228</td>\n",
              "      <td>0.8614</td>\n",
              "      <td>0.7228</td>\n",
              "      <td>0.9208</td>\n",
              "      <td>0.9307</td>\n",
              "    </tr>\n",
              "    <tr>\n",
              "      <th>TfIdFVectorize</th>\n",
              "      <td>0.6535</td>\n",
              "      <td>0.7327</td>\n",
              "      <td>0.7426</td>\n",
              "      <td>0.9010</td>\n",
              "      <td>0.8614</td>\n",
              "    </tr>\n",
              "  </tbody>\n",
              "</table>"
            ],
            "text/plain": [
              "<IPython.core.display.HTML object>"
            ]
          },
          "metadata": {
            "tags": []
          }
        },
        {
          "output_type": "stream",
          "text": [
            "\n",
            "\n",
            "\n"
          ],
          "name": "stdout"
        }
      ]
    },
    {
      "cell_type": "code",
      "metadata": {
        "id": "Vo8lWzhJl1eT",
        "colab_type": "code",
        "colab": {}
      },
      "source": [
        ""
      ],
      "execution_count": 0,
      "outputs": []
    }
  ]
}