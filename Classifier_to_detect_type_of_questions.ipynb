{
  "nbformat": 4,
  "nbformat_minor": 0,
  "metadata": {
    "colab": {
      "name": "Classifier_to_detect_type_of_questions.ipynb",
      "provenance": [],
      "toc_visible": true,
      "mount_file_id": "1lX6LJC1-6Rvx8CtII4R1v4hI_yGNv5hB",
      "authorship_tag": "ABX9TyPd7WUn6UeVY5wE6JPa5d7X",
      "include_colab_link": true
    },
    "kernelspec": {
      "name": "python3",
      "display_name": "Python 3"
    },
    "accelerator": "GPU",
    "widgets": {
      "application/vnd.jupyter.widget-state+json": {
        "f99afef0a31c40409f53f3e24e8a7753": {
          "model_module": "@jupyter-widgets/controls",
          "model_name": "HBoxModel",
          "state": {
            "_view_name": "HBoxView",
            "_dom_classes": [],
            "_model_name": "HBoxModel",
            "_view_module": "@jupyter-widgets/controls",
            "_model_module_version": "1.5.0",
            "_view_count": null,
            "_view_module_version": "1.5.0",
            "box_style": "",
            "layout": "IPY_MODEL_95e733793d7c45369f0011b800b4b1ba",
            "_model_module": "@jupyter-widgets/controls",
            "children": [
              "IPY_MODEL_9130e72f2f504ea2ad3282efca3c2859",
              "IPY_MODEL_21e804928ddb4683a9e78a5ac1e7ede9"
            ]
          }
        },
        "95e733793d7c45369f0011b800b4b1ba": {
          "model_module": "@jupyter-widgets/base",
          "model_name": "LayoutModel",
          "state": {
            "_view_name": "LayoutView",
            "grid_template_rows": null,
            "right": null,
            "justify_content": null,
            "_view_module": "@jupyter-widgets/base",
            "overflow": null,
            "_model_module_version": "1.2.0",
            "_view_count": null,
            "flex_flow": null,
            "width": null,
            "min_width": null,
            "border": null,
            "align_items": null,
            "bottom": null,
            "_model_module": "@jupyter-widgets/base",
            "top": null,
            "grid_column": null,
            "overflow_y": null,
            "overflow_x": null,
            "grid_auto_flow": null,
            "grid_area": null,
            "grid_template_columns": null,
            "flex": null,
            "_model_name": "LayoutModel",
            "justify_items": null,
            "grid_row": null,
            "max_height": null,
            "align_content": null,
            "visibility": null,
            "align_self": null,
            "height": null,
            "min_height": null,
            "padding": null,
            "grid_auto_rows": null,
            "grid_gap": null,
            "max_width": null,
            "order": null,
            "_view_module_version": "1.2.0",
            "grid_template_areas": null,
            "object_position": null,
            "object_fit": null,
            "grid_auto_columns": null,
            "margin": null,
            "display": null,
            "left": null
          }
        },
        "9130e72f2f504ea2ad3282efca3c2859": {
          "model_module": "@jupyter-widgets/controls",
          "model_name": "FloatProgressModel",
          "state": {
            "_view_name": "ProgressView",
            "style": "IPY_MODEL_f263bfbb36d741768705283aa5caaa30",
            "_dom_classes": [],
            "description": "100%",
            "_model_name": "FloatProgressModel",
            "bar_style": "success",
            "max": 569,
            "_view_module": "@jupyter-widgets/controls",
            "_model_module_version": "1.5.0",
            "value": 569,
            "_view_count": null,
            "_view_module_version": "1.5.0",
            "orientation": "horizontal",
            "min": 0,
            "description_tooltip": null,
            "_model_module": "@jupyter-widgets/controls",
            "layout": "IPY_MODEL_cee40a7fb0434c5d9fcef5e7d2a4131c"
          }
        },
        "21e804928ddb4683a9e78a5ac1e7ede9": {
          "model_module": "@jupyter-widgets/controls",
          "model_name": "HTMLModel",
          "state": {
            "_view_name": "HTMLView",
            "style": "IPY_MODEL_ca032f624fa345bdbb120f3137c4c6fa",
            "_dom_classes": [],
            "description": "",
            "_model_name": "HTMLModel",
            "placeholder": "​",
            "_view_module": "@jupyter-widgets/controls",
            "_model_module_version": "1.5.0",
            "value": " 569/569 [00:06&lt;00:00, 93.22it/s]",
            "_view_count": null,
            "_view_module_version": "1.5.0",
            "description_tooltip": null,
            "_model_module": "@jupyter-widgets/controls",
            "layout": "IPY_MODEL_6415c111e7344e5a98ccc7578e20e3d2"
          }
        },
        "f263bfbb36d741768705283aa5caaa30": {
          "model_module": "@jupyter-widgets/controls",
          "model_name": "ProgressStyleModel",
          "state": {
            "_view_name": "StyleView",
            "_model_name": "ProgressStyleModel",
            "description_width": "initial",
            "_view_module": "@jupyter-widgets/base",
            "_model_module_version": "1.5.0",
            "_view_count": null,
            "_view_module_version": "1.2.0",
            "bar_color": null,
            "_model_module": "@jupyter-widgets/controls"
          }
        },
        "cee40a7fb0434c5d9fcef5e7d2a4131c": {
          "model_module": "@jupyter-widgets/base",
          "model_name": "LayoutModel",
          "state": {
            "_view_name": "LayoutView",
            "grid_template_rows": null,
            "right": null,
            "justify_content": null,
            "_view_module": "@jupyter-widgets/base",
            "overflow": null,
            "_model_module_version": "1.2.0",
            "_view_count": null,
            "flex_flow": null,
            "width": null,
            "min_width": null,
            "border": null,
            "align_items": null,
            "bottom": null,
            "_model_module": "@jupyter-widgets/base",
            "top": null,
            "grid_column": null,
            "overflow_y": null,
            "overflow_x": null,
            "grid_auto_flow": null,
            "grid_area": null,
            "grid_template_columns": null,
            "flex": null,
            "_model_name": "LayoutModel",
            "justify_items": null,
            "grid_row": null,
            "max_height": null,
            "align_content": null,
            "visibility": null,
            "align_self": null,
            "height": null,
            "min_height": null,
            "padding": null,
            "grid_auto_rows": null,
            "grid_gap": null,
            "max_width": null,
            "order": null,
            "_view_module_version": "1.2.0",
            "grid_template_areas": null,
            "object_position": null,
            "object_fit": null,
            "grid_auto_columns": null,
            "margin": null,
            "display": null,
            "left": null
          }
        },
        "ca032f624fa345bdbb120f3137c4c6fa": {
          "model_module": "@jupyter-widgets/controls",
          "model_name": "DescriptionStyleModel",
          "state": {
            "_view_name": "StyleView",
            "_model_name": "DescriptionStyleModel",
            "description_width": "",
            "_view_module": "@jupyter-widgets/base",
            "_model_module_version": "1.5.0",
            "_view_count": null,
            "_view_module_version": "1.2.0",
            "_model_module": "@jupyter-widgets/controls"
          }
        },
        "6415c111e7344e5a98ccc7578e20e3d2": {
          "model_module": "@jupyter-widgets/base",
          "model_name": "LayoutModel",
          "state": {
            "_view_name": "LayoutView",
            "grid_template_rows": null,
            "right": null,
            "justify_content": null,
            "_view_module": "@jupyter-widgets/base",
            "overflow": null,
            "_model_module_version": "1.2.0",
            "_view_count": null,
            "flex_flow": null,
            "width": null,
            "min_width": null,
            "border": null,
            "align_items": null,
            "bottom": null,
            "_model_module": "@jupyter-widgets/base",
            "top": null,
            "grid_column": null,
            "overflow_y": null,
            "overflow_x": null,
            "grid_auto_flow": null,
            "grid_area": null,
            "grid_template_columns": null,
            "flex": null,
            "_model_name": "LayoutModel",
            "justify_items": null,
            "grid_row": null,
            "max_height": null,
            "align_content": null,
            "visibility": null,
            "align_self": null,
            "height": null,
            "min_height": null,
            "padding": null,
            "grid_auto_rows": null,
            "grid_gap": null,
            "max_width": null,
            "order": null,
            "_view_module_version": "1.2.0",
            "grid_template_areas": null,
            "object_position": null,
            "object_fit": null,
            "grid_auto_columns": null,
            "margin": null,
            "display": null,
            "left": null
          }
        },
        "ae76cde4b5674fec9cba82624f521274": {
          "model_module": "@jupyter-widgets/controls",
          "model_name": "HBoxModel",
          "state": {
            "_view_name": "HBoxView",
            "_dom_classes": [],
            "_model_name": "HBoxModel",
            "_view_module": "@jupyter-widgets/controls",
            "_model_module_version": "1.5.0",
            "_view_count": null,
            "_view_module_version": "1.5.0",
            "box_style": "",
            "layout": "IPY_MODEL_74cb79f9f9544b65852a6c183be86e7f",
            "_model_module": "@jupyter-widgets/controls",
            "children": [
              "IPY_MODEL_b7dbefa9dfc54cafa0c358ca6dd069f0",
              "IPY_MODEL_1f433cad083d4ec3bc96d02c935f6d1c"
            ]
          }
        },
        "74cb79f9f9544b65852a6c183be86e7f": {
          "model_module": "@jupyter-widgets/base",
          "model_name": "LayoutModel",
          "state": {
            "_view_name": "LayoutView",
            "grid_template_rows": null,
            "right": null,
            "justify_content": null,
            "_view_module": "@jupyter-widgets/base",
            "overflow": null,
            "_model_module_version": "1.2.0",
            "_view_count": null,
            "flex_flow": null,
            "width": null,
            "min_width": null,
            "border": null,
            "align_items": null,
            "bottom": null,
            "_model_module": "@jupyter-widgets/base",
            "top": null,
            "grid_column": null,
            "overflow_y": null,
            "overflow_x": null,
            "grid_auto_flow": null,
            "grid_area": null,
            "grid_template_columns": null,
            "flex": null,
            "_model_name": "LayoutModel",
            "justify_items": null,
            "grid_row": null,
            "max_height": null,
            "align_content": null,
            "visibility": null,
            "align_self": null,
            "height": null,
            "min_height": null,
            "padding": null,
            "grid_auto_rows": null,
            "grid_gap": null,
            "max_width": null,
            "order": null,
            "_view_module_version": "1.2.0",
            "grid_template_areas": null,
            "object_position": null,
            "object_fit": null,
            "grid_auto_columns": null,
            "margin": null,
            "display": null,
            "left": null
          }
        },
        "b7dbefa9dfc54cafa0c358ca6dd069f0": {
          "model_module": "@jupyter-widgets/controls",
          "model_name": "FloatProgressModel",
          "state": {
            "_view_name": "ProgressView",
            "style": "IPY_MODEL_ad10b4b99f214c40992523807675fdbb",
            "_dom_classes": [],
            "description": "100%",
            "_model_name": "FloatProgressModel",
            "bar_style": "success",
            "max": 101,
            "_view_module": "@jupyter-widgets/controls",
            "_model_module_version": "1.5.0",
            "value": 101,
            "_view_count": null,
            "_view_module_version": "1.5.0",
            "orientation": "horizontal",
            "min": 0,
            "description_tooltip": null,
            "_model_module": "@jupyter-widgets/controls",
            "layout": "IPY_MODEL_ee391746e0994ffd85eb9a5fc59efbcb"
          }
        },
        "1f433cad083d4ec3bc96d02c935f6d1c": {
          "model_module": "@jupyter-widgets/controls",
          "model_name": "HTMLModel",
          "state": {
            "_view_name": "HTMLView",
            "style": "IPY_MODEL_9f5297b195a046008d14df95bb04b7d7",
            "_dom_classes": [],
            "description": "",
            "_model_name": "HTMLModel",
            "placeholder": "​",
            "_view_module": "@jupyter-widgets/controls",
            "_model_module_version": "1.5.0",
            "value": " 101/101 [00:01&lt;00:00, 84.93it/s]",
            "_view_count": null,
            "_view_module_version": "1.5.0",
            "description_tooltip": null,
            "_model_module": "@jupyter-widgets/controls",
            "layout": "IPY_MODEL_8d2d51e0126c4cac89d268756b96637f"
          }
        },
        "ad10b4b99f214c40992523807675fdbb": {
          "model_module": "@jupyter-widgets/controls",
          "model_name": "ProgressStyleModel",
          "state": {
            "_view_name": "StyleView",
            "_model_name": "ProgressStyleModel",
            "description_width": "initial",
            "_view_module": "@jupyter-widgets/base",
            "_model_module_version": "1.5.0",
            "_view_count": null,
            "_view_module_version": "1.2.0",
            "bar_color": null,
            "_model_module": "@jupyter-widgets/controls"
          }
        },
        "ee391746e0994ffd85eb9a5fc59efbcb": {
          "model_module": "@jupyter-widgets/base",
          "model_name": "LayoutModel",
          "state": {
            "_view_name": "LayoutView",
            "grid_template_rows": null,
            "right": null,
            "justify_content": null,
            "_view_module": "@jupyter-widgets/base",
            "overflow": null,
            "_model_module_version": "1.2.0",
            "_view_count": null,
            "flex_flow": null,
            "width": null,
            "min_width": null,
            "border": null,
            "align_items": null,
            "bottom": null,
            "_model_module": "@jupyter-widgets/base",
            "top": null,
            "grid_column": null,
            "overflow_y": null,
            "overflow_x": null,
            "grid_auto_flow": null,
            "grid_area": null,
            "grid_template_columns": null,
            "flex": null,
            "_model_name": "LayoutModel",
            "justify_items": null,
            "grid_row": null,
            "max_height": null,
            "align_content": null,
            "visibility": null,
            "align_self": null,
            "height": null,
            "min_height": null,
            "padding": null,
            "grid_auto_rows": null,
            "grid_gap": null,
            "max_width": null,
            "order": null,
            "_view_module_version": "1.2.0",
            "grid_template_areas": null,
            "object_position": null,
            "object_fit": null,
            "grid_auto_columns": null,
            "margin": null,
            "display": null,
            "left": null
          }
        },
        "9f5297b195a046008d14df95bb04b7d7": {
          "model_module": "@jupyter-widgets/controls",
          "model_name": "DescriptionStyleModel",
          "state": {
            "_view_name": "StyleView",
            "_model_name": "DescriptionStyleModel",
            "description_width": "",
            "_view_module": "@jupyter-widgets/base",
            "_model_module_version": "1.5.0",
            "_view_count": null,
            "_view_module_version": "1.2.0",
            "_model_module": "@jupyter-widgets/controls"
          }
        },
        "8d2d51e0126c4cac89d268756b96637f": {
          "model_module": "@jupyter-widgets/base",
          "model_name": "LayoutModel",
          "state": {
            "_view_name": "LayoutView",
            "grid_template_rows": null,
            "right": null,
            "justify_content": null,
            "_view_module": "@jupyter-widgets/base",
            "overflow": null,
            "_model_module_version": "1.2.0",
            "_view_count": null,
            "flex_flow": null,
            "width": null,
            "min_width": null,
            "border": null,
            "align_items": null,
            "bottom": null,
            "_model_module": "@jupyter-widgets/base",
            "top": null,
            "grid_column": null,
            "overflow_y": null,
            "overflow_x": null,
            "grid_auto_flow": null,
            "grid_area": null,
            "grid_template_columns": null,
            "flex": null,
            "_model_name": "LayoutModel",
            "justify_items": null,
            "grid_row": null,
            "max_height": null,
            "align_content": null,
            "visibility": null,
            "align_self": null,
            "height": null,
            "min_height": null,
            "padding": null,
            "grid_auto_rows": null,
            "grid_gap": null,
            "max_width": null,
            "order": null,
            "_view_module_version": "1.2.0",
            "grid_template_areas": null,
            "object_position": null,
            "object_fit": null,
            "grid_auto_columns": null,
            "margin": null,
            "display": null,
            "left": null
          }
        },
        "09c77bdb182e4381a3ff05b0bcf7634a": {
          "model_module": "@jupyter-widgets/controls",
          "model_name": "HBoxModel",
          "state": {
            "_view_name": "HBoxView",
            "_dom_classes": [],
            "_model_name": "HBoxModel",
            "_view_module": "@jupyter-widgets/controls",
            "_model_module_version": "1.5.0",
            "_view_count": null,
            "_view_module_version": "1.5.0",
            "box_style": "",
            "layout": "IPY_MODEL_8bb4ec2b0d504b84b84ff8811b1134e4",
            "_model_module": "@jupyter-widgets/controls",
            "children": [
              "IPY_MODEL_58f4f50f38e54bb1bf4765d756e1d410",
              "IPY_MODEL_bcd8221046954c85b5afc7394dc571ca"
            ]
          }
        },
        "8bb4ec2b0d504b84b84ff8811b1134e4": {
          "model_module": "@jupyter-widgets/base",
          "model_name": "LayoutModel",
          "state": {
            "_view_name": "LayoutView",
            "grid_template_rows": null,
            "right": null,
            "justify_content": null,
            "_view_module": "@jupyter-widgets/base",
            "overflow": null,
            "_model_module_version": "1.2.0",
            "_view_count": null,
            "flex_flow": null,
            "width": null,
            "min_width": null,
            "border": null,
            "align_items": null,
            "bottom": null,
            "_model_module": "@jupyter-widgets/base",
            "top": null,
            "grid_column": null,
            "overflow_y": null,
            "overflow_x": null,
            "grid_auto_flow": null,
            "grid_area": null,
            "grid_template_columns": null,
            "flex": null,
            "_model_name": "LayoutModel",
            "justify_items": null,
            "grid_row": null,
            "max_height": null,
            "align_content": null,
            "visibility": null,
            "align_self": null,
            "height": null,
            "min_height": null,
            "padding": null,
            "grid_auto_rows": null,
            "grid_gap": null,
            "max_width": null,
            "order": null,
            "_view_module_version": "1.2.0",
            "grid_template_areas": null,
            "object_position": null,
            "object_fit": null,
            "grid_auto_columns": null,
            "margin": null,
            "display": null,
            "left": null
          }
        },
        "58f4f50f38e54bb1bf4765d756e1d410": {
          "model_module": "@jupyter-widgets/controls",
          "model_name": "FloatProgressModel",
          "state": {
            "_view_name": "ProgressView",
            "style": "IPY_MODEL_fe2431ef262b43f181383b59100a2bd8",
            "_dom_classes": [],
            "description": "100%",
            "_model_name": "FloatProgressModel",
            "bar_style": "success",
            "max": 569,
            "_view_module": "@jupyter-widgets/controls",
            "_model_module_version": "1.5.0",
            "value": 569,
            "_view_count": null,
            "_view_module_version": "1.5.0",
            "orientation": "horizontal",
            "min": 0,
            "description_tooltip": null,
            "_model_module": "@jupyter-widgets/controls",
            "layout": "IPY_MODEL_f0d1f40697204a5c81e981d55d3b3e88"
          }
        },
        "bcd8221046954c85b5afc7394dc571ca": {
          "model_module": "@jupyter-widgets/controls",
          "model_name": "HTMLModel",
          "state": {
            "_view_name": "HTMLView",
            "style": "IPY_MODEL_44b195efedf249b2b9a3433b3087faf9",
            "_dom_classes": [],
            "description": "",
            "_model_name": "HTMLModel",
            "placeholder": "​",
            "_view_module": "@jupyter-widgets/controls",
            "_model_module_version": "1.5.0",
            "value": " 569/569 [00:07&lt;00:00, 80.70it/s]",
            "_view_count": null,
            "_view_module_version": "1.5.0",
            "description_tooltip": null,
            "_model_module": "@jupyter-widgets/controls",
            "layout": "IPY_MODEL_86207b53153b4d3bab6d5d40e2805be4"
          }
        },
        "fe2431ef262b43f181383b59100a2bd8": {
          "model_module": "@jupyter-widgets/controls",
          "model_name": "ProgressStyleModel",
          "state": {
            "_view_name": "StyleView",
            "_model_name": "ProgressStyleModel",
            "description_width": "initial",
            "_view_module": "@jupyter-widgets/base",
            "_model_module_version": "1.5.0",
            "_view_count": null,
            "_view_module_version": "1.2.0",
            "bar_color": null,
            "_model_module": "@jupyter-widgets/controls"
          }
        },
        "f0d1f40697204a5c81e981d55d3b3e88": {
          "model_module": "@jupyter-widgets/base",
          "model_name": "LayoutModel",
          "state": {
            "_view_name": "LayoutView",
            "grid_template_rows": null,
            "right": null,
            "justify_content": null,
            "_view_module": "@jupyter-widgets/base",
            "overflow": null,
            "_model_module_version": "1.2.0",
            "_view_count": null,
            "flex_flow": null,
            "width": null,
            "min_width": null,
            "border": null,
            "align_items": null,
            "bottom": null,
            "_model_module": "@jupyter-widgets/base",
            "top": null,
            "grid_column": null,
            "overflow_y": null,
            "overflow_x": null,
            "grid_auto_flow": null,
            "grid_area": null,
            "grid_template_columns": null,
            "flex": null,
            "_model_name": "LayoutModel",
            "justify_items": null,
            "grid_row": null,
            "max_height": null,
            "align_content": null,
            "visibility": null,
            "align_self": null,
            "height": null,
            "min_height": null,
            "padding": null,
            "grid_auto_rows": null,
            "grid_gap": null,
            "max_width": null,
            "order": null,
            "_view_module_version": "1.2.0",
            "grid_template_areas": null,
            "object_position": null,
            "object_fit": null,
            "grid_auto_columns": null,
            "margin": null,
            "display": null,
            "left": null
          }
        },
        "44b195efedf249b2b9a3433b3087faf9": {
          "model_module": "@jupyter-widgets/controls",
          "model_name": "DescriptionStyleModel",
          "state": {
            "_view_name": "StyleView",
            "_model_name": "DescriptionStyleModel",
            "description_width": "",
            "_view_module": "@jupyter-widgets/base",
            "_model_module_version": "1.5.0",
            "_view_count": null,
            "_view_module_version": "1.2.0",
            "_model_module": "@jupyter-widgets/controls"
          }
        },
        "86207b53153b4d3bab6d5d40e2805be4": {
          "model_module": "@jupyter-widgets/base",
          "model_name": "LayoutModel",
          "state": {
            "_view_name": "LayoutView",
            "grid_template_rows": null,
            "right": null,
            "justify_content": null,
            "_view_module": "@jupyter-widgets/base",
            "overflow": null,
            "_model_module_version": "1.2.0",
            "_view_count": null,
            "flex_flow": null,
            "width": null,
            "min_width": null,
            "border": null,
            "align_items": null,
            "bottom": null,
            "_model_module": "@jupyter-widgets/base",
            "top": null,
            "grid_column": null,
            "overflow_y": null,
            "overflow_x": null,
            "grid_auto_flow": null,
            "grid_area": null,
            "grid_template_columns": null,
            "flex": null,
            "_model_name": "LayoutModel",
            "justify_items": null,
            "grid_row": null,
            "max_height": null,
            "align_content": null,
            "visibility": null,
            "align_self": null,
            "height": null,
            "min_height": null,
            "padding": null,
            "grid_auto_rows": null,
            "grid_gap": null,
            "max_width": null,
            "order": null,
            "_view_module_version": "1.2.0",
            "grid_template_areas": null,
            "object_position": null,
            "object_fit": null,
            "grid_auto_columns": null,
            "margin": null,
            "display": null,
            "left": null
          }
        },
        "1f5bba42c7144d49953d42979a771107": {
          "model_module": "@jupyter-widgets/controls",
          "model_name": "HBoxModel",
          "state": {
            "_view_name": "HBoxView",
            "_dom_classes": [],
            "_model_name": "HBoxModel",
            "_view_module": "@jupyter-widgets/controls",
            "_model_module_version": "1.5.0",
            "_view_count": null,
            "_view_module_version": "1.5.0",
            "box_style": "",
            "layout": "IPY_MODEL_8ae1cd2ca36c483187ea1a41a7a8247a",
            "_model_module": "@jupyter-widgets/controls",
            "children": [
              "IPY_MODEL_a763d57e5d374c059668c1d8ac321742",
              "IPY_MODEL_4ea8f7574f6a433495efcd0f6106c708"
            ]
          }
        },
        "8ae1cd2ca36c483187ea1a41a7a8247a": {
          "model_module": "@jupyter-widgets/base",
          "model_name": "LayoutModel",
          "state": {
            "_view_name": "LayoutView",
            "grid_template_rows": null,
            "right": null,
            "justify_content": null,
            "_view_module": "@jupyter-widgets/base",
            "overflow": null,
            "_model_module_version": "1.2.0",
            "_view_count": null,
            "flex_flow": null,
            "width": null,
            "min_width": null,
            "border": null,
            "align_items": null,
            "bottom": null,
            "_model_module": "@jupyter-widgets/base",
            "top": null,
            "grid_column": null,
            "overflow_y": null,
            "overflow_x": null,
            "grid_auto_flow": null,
            "grid_area": null,
            "grid_template_columns": null,
            "flex": null,
            "_model_name": "LayoutModel",
            "justify_items": null,
            "grid_row": null,
            "max_height": null,
            "align_content": null,
            "visibility": null,
            "align_self": null,
            "height": null,
            "min_height": null,
            "padding": null,
            "grid_auto_rows": null,
            "grid_gap": null,
            "max_width": null,
            "order": null,
            "_view_module_version": "1.2.0",
            "grid_template_areas": null,
            "object_position": null,
            "object_fit": null,
            "grid_auto_columns": null,
            "margin": null,
            "display": null,
            "left": null
          }
        },
        "a763d57e5d374c059668c1d8ac321742": {
          "model_module": "@jupyter-widgets/controls",
          "model_name": "FloatProgressModel",
          "state": {
            "_view_name": "ProgressView",
            "style": "IPY_MODEL_2b9fe4254054437196195eb9d2a3fc07",
            "_dom_classes": [],
            "description": "100%",
            "_model_name": "FloatProgressModel",
            "bar_style": "success",
            "max": 101,
            "_view_module": "@jupyter-widgets/controls",
            "_model_module_version": "1.5.0",
            "value": 101,
            "_view_count": null,
            "_view_module_version": "1.5.0",
            "orientation": "horizontal",
            "min": 0,
            "description_tooltip": null,
            "_model_module": "@jupyter-widgets/controls",
            "layout": "IPY_MODEL_ad8a27b4cfca474997e576fae7e1c6d1"
          }
        },
        "4ea8f7574f6a433495efcd0f6106c708": {
          "model_module": "@jupyter-widgets/controls",
          "model_name": "HTMLModel",
          "state": {
            "_view_name": "HTMLView",
            "style": "IPY_MODEL_a9542913a6e74fe980b57714d6b241a4",
            "_dom_classes": [],
            "description": "",
            "_model_name": "HTMLModel",
            "placeholder": "​",
            "_view_module": "@jupyter-widgets/controls",
            "_model_module_version": "1.5.0",
            "value": " 101/101 [00:01&lt;00:00, 87.08it/s]",
            "_view_count": null,
            "_view_module_version": "1.5.0",
            "description_tooltip": null,
            "_model_module": "@jupyter-widgets/controls",
            "layout": "IPY_MODEL_dc91102075ab4d08b19173c2b6e678c7"
          }
        },
        "2b9fe4254054437196195eb9d2a3fc07": {
          "model_module": "@jupyter-widgets/controls",
          "model_name": "ProgressStyleModel",
          "state": {
            "_view_name": "StyleView",
            "_model_name": "ProgressStyleModel",
            "description_width": "initial",
            "_view_module": "@jupyter-widgets/base",
            "_model_module_version": "1.5.0",
            "_view_count": null,
            "_view_module_version": "1.2.0",
            "bar_color": null,
            "_model_module": "@jupyter-widgets/controls"
          }
        },
        "ad8a27b4cfca474997e576fae7e1c6d1": {
          "model_module": "@jupyter-widgets/base",
          "model_name": "LayoutModel",
          "state": {
            "_view_name": "LayoutView",
            "grid_template_rows": null,
            "right": null,
            "justify_content": null,
            "_view_module": "@jupyter-widgets/base",
            "overflow": null,
            "_model_module_version": "1.2.0",
            "_view_count": null,
            "flex_flow": null,
            "width": null,
            "min_width": null,
            "border": null,
            "align_items": null,
            "bottom": null,
            "_model_module": "@jupyter-widgets/base",
            "top": null,
            "grid_column": null,
            "overflow_y": null,
            "overflow_x": null,
            "grid_auto_flow": null,
            "grid_area": null,
            "grid_template_columns": null,
            "flex": null,
            "_model_name": "LayoutModel",
            "justify_items": null,
            "grid_row": null,
            "max_height": null,
            "align_content": null,
            "visibility": null,
            "align_self": null,
            "height": null,
            "min_height": null,
            "padding": null,
            "grid_auto_rows": null,
            "grid_gap": null,
            "max_width": null,
            "order": null,
            "_view_module_version": "1.2.0",
            "grid_template_areas": null,
            "object_position": null,
            "object_fit": null,
            "grid_auto_columns": null,
            "margin": null,
            "display": null,
            "left": null
          }
        },
        "a9542913a6e74fe980b57714d6b241a4": {
          "model_module": "@jupyter-widgets/controls",
          "model_name": "DescriptionStyleModel",
          "state": {
            "_view_name": "StyleView",
            "_model_name": "DescriptionStyleModel",
            "description_width": "",
            "_view_module": "@jupyter-widgets/base",
            "_model_module_version": "1.5.0",
            "_view_count": null,
            "_view_module_version": "1.2.0",
            "_model_module": "@jupyter-widgets/controls"
          }
        },
        "dc91102075ab4d08b19173c2b6e678c7": {
          "model_module": "@jupyter-widgets/base",
          "model_name": "LayoutModel",
          "state": {
            "_view_name": "LayoutView",
            "grid_template_rows": null,
            "right": null,
            "justify_content": null,
            "_view_module": "@jupyter-widgets/base",
            "overflow": null,
            "_model_module_version": "1.2.0",
            "_view_count": null,
            "flex_flow": null,
            "width": null,
            "min_width": null,
            "border": null,
            "align_items": null,
            "bottom": null,
            "_model_module": "@jupyter-widgets/base",
            "top": null,
            "grid_column": null,
            "overflow_y": null,
            "overflow_x": null,
            "grid_auto_flow": null,
            "grid_area": null,
            "grid_template_columns": null,
            "flex": null,
            "_model_name": "LayoutModel",
            "justify_items": null,
            "grid_row": null,
            "max_height": null,
            "align_content": null,
            "visibility": null,
            "align_self": null,
            "height": null,
            "min_height": null,
            "padding": null,
            "grid_auto_rows": null,
            "grid_gap": null,
            "max_width": null,
            "order": null,
            "_view_module_version": "1.2.0",
            "grid_template_areas": null,
            "object_position": null,
            "object_fit": null,
            "grid_auto_columns": null,
            "margin": null,
            "display": null,
            "left": null
          }
        },
        "e24cfcd2f34e44c790b7c8b5759f1f13": {
          "model_module": "@jupyter-widgets/controls",
          "model_name": "HBoxModel",
          "state": {
            "_view_name": "HBoxView",
            "_dom_classes": [],
            "_model_name": "HBoxModel",
            "_view_module": "@jupyter-widgets/controls",
            "_model_module_version": "1.5.0",
            "_view_count": null,
            "_view_module_version": "1.5.0",
            "box_style": "",
            "layout": "IPY_MODEL_a5d46a7c960a49ecbe903f327e708371",
            "_model_module": "@jupyter-widgets/controls",
            "children": [
              "IPY_MODEL_b12a587698b74aa6be1df6febccb5e90",
              "IPY_MODEL_14352eaa7a904f6392947548aa37514c"
            ]
          }
        },
        "a5d46a7c960a49ecbe903f327e708371": {
          "model_module": "@jupyter-widgets/base",
          "model_name": "LayoutModel",
          "state": {
            "_view_name": "LayoutView",
            "grid_template_rows": null,
            "right": null,
            "justify_content": null,
            "_view_module": "@jupyter-widgets/base",
            "overflow": null,
            "_model_module_version": "1.2.0",
            "_view_count": null,
            "flex_flow": null,
            "width": null,
            "min_width": null,
            "border": null,
            "align_items": null,
            "bottom": null,
            "_model_module": "@jupyter-widgets/base",
            "top": null,
            "grid_column": null,
            "overflow_y": null,
            "overflow_x": null,
            "grid_auto_flow": null,
            "grid_area": null,
            "grid_template_columns": null,
            "flex": null,
            "_model_name": "LayoutModel",
            "justify_items": null,
            "grid_row": null,
            "max_height": null,
            "align_content": null,
            "visibility": null,
            "align_self": null,
            "height": null,
            "min_height": null,
            "padding": null,
            "grid_auto_rows": null,
            "grid_gap": null,
            "max_width": null,
            "order": null,
            "_view_module_version": "1.2.0",
            "grid_template_areas": null,
            "object_position": null,
            "object_fit": null,
            "grid_auto_columns": null,
            "margin": null,
            "display": null,
            "left": null
          }
        },
        "b12a587698b74aa6be1df6febccb5e90": {
          "model_module": "@jupyter-widgets/controls",
          "model_name": "FloatProgressModel",
          "state": {
            "_view_name": "ProgressView",
            "style": "IPY_MODEL_0cf173a276e64e33be7f6c72d65ef469",
            "_dom_classes": [],
            "description": "100%",
            "_model_name": "FloatProgressModel",
            "bar_style": "success",
            "max": 569,
            "_view_module": "@jupyter-widgets/controls",
            "_model_module_version": "1.5.0",
            "value": 569,
            "_view_count": null,
            "_view_module_version": "1.5.0",
            "orientation": "horizontal",
            "min": 0,
            "description_tooltip": null,
            "_model_module": "@jupyter-widgets/controls",
            "layout": "IPY_MODEL_197413663feb40eb81aebb9211ed7867"
          }
        },
        "14352eaa7a904f6392947548aa37514c": {
          "model_module": "@jupyter-widgets/controls",
          "model_name": "HTMLModel",
          "state": {
            "_view_name": "HTMLView",
            "style": "IPY_MODEL_854b7a561d7c4487beb957367dfeffd2",
            "_dom_classes": [],
            "description": "",
            "_model_name": "HTMLModel",
            "placeholder": "​",
            "_view_module": "@jupyter-widgets/controls",
            "_model_module_version": "1.5.0",
            "value": " 569/569 [00:25&lt;00:00, 22.55it/s]",
            "_view_count": null,
            "_view_module_version": "1.5.0",
            "description_tooltip": null,
            "_model_module": "@jupyter-widgets/controls",
            "layout": "IPY_MODEL_e02ec4654f85417b8fdd70b2fd318624"
          }
        },
        "0cf173a276e64e33be7f6c72d65ef469": {
          "model_module": "@jupyter-widgets/controls",
          "model_name": "ProgressStyleModel",
          "state": {
            "_view_name": "StyleView",
            "_model_name": "ProgressStyleModel",
            "description_width": "initial",
            "_view_module": "@jupyter-widgets/base",
            "_model_module_version": "1.5.0",
            "_view_count": null,
            "_view_module_version": "1.2.0",
            "bar_color": null,
            "_model_module": "@jupyter-widgets/controls"
          }
        },
        "197413663feb40eb81aebb9211ed7867": {
          "model_module": "@jupyter-widgets/base",
          "model_name": "LayoutModel",
          "state": {
            "_view_name": "LayoutView",
            "grid_template_rows": null,
            "right": null,
            "justify_content": null,
            "_view_module": "@jupyter-widgets/base",
            "overflow": null,
            "_model_module_version": "1.2.0",
            "_view_count": null,
            "flex_flow": null,
            "width": null,
            "min_width": null,
            "border": null,
            "align_items": null,
            "bottom": null,
            "_model_module": "@jupyter-widgets/base",
            "top": null,
            "grid_column": null,
            "overflow_y": null,
            "overflow_x": null,
            "grid_auto_flow": null,
            "grid_area": null,
            "grid_template_columns": null,
            "flex": null,
            "_model_name": "LayoutModel",
            "justify_items": null,
            "grid_row": null,
            "max_height": null,
            "align_content": null,
            "visibility": null,
            "align_self": null,
            "height": null,
            "min_height": null,
            "padding": null,
            "grid_auto_rows": null,
            "grid_gap": null,
            "max_width": null,
            "order": null,
            "_view_module_version": "1.2.0",
            "grid_template_areas": null,
            "object_position": null,
            "object_fit": null,
            "grid_auto_columns": null,
            "margin": null,
            "display": null,
            "left": null
          }
        },
        "854b7a561d7c4487beb957367dfeffd2": {
          "model_module": "@jupyter-widgets/controls",
          "model_name": "DescriptionStyleModel",
          "state": {
            "_view_name": "StyleView",
            "_model_name": "DescriptionStyleModel",
            "description_width": "",
            "_view_module": "@jupyter-widgets/base",
            "_model_module_version": "1.5.0",
            "_view_count": null,
            "_view_module_version": "1.2.0",
            "_model_module": "@jupyter-widgets/controls"
          }
        },
        "e02ec4654f85417b8fdd70b2fd318624": {
          "model_module": "@jupyter-widgets/base",
          "model_name": "LayoutModel",
          "state": {
            "_view_name": "LayoutView",
            "grid_template_rows": null,
            "right": null,
            "justify_content": null,
            "_view_module": "@jupyter-widgets/base",
            "overflow": null,
            "_model_module_version": "1.2.0",
            "_view_count": null,
            "flex_flow": null,
            "width": null,
            "min_width": null,
            "border": null,
            "align_items": null,
            "bottom": null,
            "_model_module": "@jupyter-widgets/base",
            "top": null,
            "grid_column": null,
            "overflow_y": null,
            "overflow_x": null,
            "grid_auto_flow": null,
            "grid_area": null,
            "grid_template_columns": null,
            "flex": null,
            "_model_name": "LayoutModel",
            "justify_items": null,
            "grid_row": null,
            "max_height": null,
            "align_content": null,
            "visibility": null,
            "align_self": null,
            "height": null,
            "min_height": null,
            "padding": null,
            "grid_auto_rows": null,
            "grid_gap": null,
            "max_width": null,
            "order": null,
            "_view_module_version": "1.2.0",
            "grid_template_areas": null,
            "object_position": null,
            "object_fit": null,
            "grid_auto_columns": null,
            "margin": null,
            "display": null,
            "left": null
          }
        },
        "3e533fa407524015bacc1bbbc16d6e25": {
          "model_module": "@jupyter-widgets/controls",
          "model_name": "HBoxModel",
          "state": {
            "_view_name": "HBoxView",
            "_dom_classes": [],
            "_model_name": "HBoxModel",
            "_view_module": "@jupyter-widgets/controls",
            "_model_module_version": "1.5.0",
            "_view_count": null,
            "_view_module_version": "1.5.0",
            "box_style": "",
            "layout": "IPY_MODEL_9ff98205761d4300a36ed59d6096d6b8",
            "_model_module": "@jupyter-widgets/controls",
            "children": [
              "IPY_MODEL_94643319d7b84546a970a5eb9909a85a",
              "IPY_MODEL_0cd52f1c80b0477984c84a772c563b06"
            ]
          }
        },
        "9ff98205761d4300a36ed59d6096d6b8": {
          "model_module": "@jupyter-widgets/base",
          "model_name": "LayoutModel",
          "state": {
            "_view_name": "LayoutView",
            "grid_template_rows": null,
            "right": null,
            "justify_content": null,
            "_view_module": "@jupyter-widgets/base",
            "overflow": null,
            "_model_module_version": "1.2.0",
            "_view_count": null,
            "flex_flow": null,
            "width": null,
            "min_width": null,
            "border": null,
            "align_items": null,
            "bottom": null,
            "_model_module": "@jupyter-widgets/base",
            "top": null,
            "grid_column": null,
            "overflow_y": null,
            "overflow_x": null,
            "grid_auto_flow": null,
            "grid_area": null,
            "grid_template_columns": null,
            "flex": null,
            "_model_name": "LayoutModel",
            "justify_items": null,
            "grid_row": null,
            "max_height": null,
            "align_content": null,
            "visibility": null,
            "align_self": null,
            "height": null,
            "min_height": null,
            "padding": null,
            "grid_auto_rows": null,
            "grid_gap": null,
            "max_width": null,
            "order": null,
            "_view_module_version": "1.2.0",
            "grid_template_areas": null,
            "object_position": null,
            "object_fit": null,
            "grid_auto_columns": null,
            "margin": null,
            "display": null,
            "left": null
          }
        },
        "94643319d7b84546a970a5eb9909a85a": {
          "model_module": "@jupyter-widgets/controls",
          "model_name": "FloatProgressModel",
          "state": {
            "_view_name": "ProgressView",
            "style": "IPY_MODEL_286c769ab20b41efa67b930ce32cacd7",
            "_dom_classes": [],
            "description": "100%",
            "_model_name": "FloatProgressModel",
            "bar_style": "success",
            "max": 101,
            "_view_module": "@jupyter-widgets/controls",
            "_model_module_version": "1.5.0",
            "value": 101,
            "_view_count": null,
            "_view_module_version": "1.5.0",
            "orientation": "horizontal",
            "min": 0,
            "description_tooltip": null,
            "_model_module": "@jupyter-widgets/controls",
            "layout": "IPY_MODEL_b4d4fbbb6e944e0f8176247f9d053672"
          }
        },
        "0cd52f1c80b0477984c84a772c563b06": {
          "model_module": "@jupyter-widgets/controls",
          "model_name": "HTMLModel",
          "state": {
            "_view_name": "HTMLView",
            "style": "IPY_MODEL_2a05dbc9c001419b9787cd60a7df9445",
            "_dom_classes": [],
            "description": "",
            "_model_name": "HTMLModel",
            "placeholder": "​",
            "_view_module": "@jupyter-widgets/controls",
            "_model_module_version": "1.5.0",
            "value": " 101/101 [00:03&lt;00:00, 28.69it/s]",
            "_view_count": null,
            "_view_module_version": "1.5.0",
            "description_tooltip": null,
            "_model_module": "@jupyter-widgets/controls",
            "layout": "IPY_MODEL_27e416fab08c46a2af7eef70fb4fc82a"
          }
        },
        "286c769ab20b41efa67b930ce32cacd7": {
          "model_module": "@jupyter-widgets/controls",
          "model_name": "ProgressStyleModel",
          "state": {
            "_view_name": "StyleView",
            "_model_name": "ProgressStyleModel",
            "description_width": "initial",
            "_view_module": "@jupyter-widgets/base",
            "_model_module_version": "1.5.0",
            "_view_count": null,
            "_view_module_version": "1.2.0",
            "bar_color": null,
            "_model_module": "@jupyter-widgets/controls"
          }
        },
        "b4d4fbbb6e944e0f8176247f9d053672": {
          "model_module": "@jupyter-widgets/base",
          "model_name": "LayoutModel",
          "state": {
            "_view_name": "LayoutView",
            "grid_template_rows": null,
            "right": null,
            "justify_content": null,
            "_view_module": "@jupyter-widgets/base",
            "overflow": null,
            "_model_module_version": "1.2.0",
            "_view_count": null,
            "flex_flow": null,
            "width": null,
            "min_width": null,
            "border": null,
            "align_items": null,
            "bottom": null,
            "_model_module": "@jupyter-widgets/base",
            "top": null,
            "grid_column": null,
            "overflow_y": null,
            "overflow_x": null,
            "grid_auto_flow": null,
            "grid_area": null,
            "grid_template_columns": null,
            "flex": null,
            "_model_name": "LayoutModel",
            "justify_items": null,
            "grid_row": null,
            "max_height": null,
            "align_content": null,
            "visibility": null,
            "align_self": null,
            "height": null,
            "min_height": null,
            "padding": null,
            "grid_auto_rows": null,
            "grid_gap": null,
            "max_width": null,
            "order": null,
            "_view_module_version": "1.2.0",
            "grid_template_areas": null,
            "object_position": null,
            "object_fit": null,
            "grid_auto_columns": null,
            "margin": null,
            "display": null,
            "left": null
          }
        },
        "2a05dbc9c001419b9787cd60a7df9445": {
          "model_module": "@jupyter-widgets/controls",
          "model_name": "DescriptionStyleModel",
          "state": {
            "_view_name": "StyleView",
            "_model_name": "DescriptionStyleModel",
            "description_width": "",
            "_view_module": "@jupyter-widgets/base",
            "_model_module_version": "1.5.0",
            "_view_count": null,
            "_view_module_version": "1.2.0",
            "_model_module": "@jupyter-widgets/controls"
          }
        },
        "27e416fab08c46a2af7eef70fb4fc82a": {
          "model_module": "@jupyter-widgets/base",
          "model_name": "LayoutModel",
          "state": {
            "_view_name": "LayoutView",
            "grid_template_rows": null,
            "right": null,
            "justify_content": null,
            "_view_module": "@jupyter-widgets/base",
            "overflow": null,
            "_model_module_version": "1.2.0",
            "_view_count": null,
            "flex_flow": null,
            "width": null,
            "min_width": null,
            "border": null,
            "align_items": null,
            "bottom": null,
            "_model_module": "@jupyter-widgets/base",
            "top": null,
            "grid_column": null,
            "overflow_y": null,
            "overflow_x": null,
            "grid_auto_flow": null,
            "grid_area": null,
            "grid_template_columns": null,
            "flex": null,
            "_model_name": "LayoutModel",
            "justify_items": null,
            "grid_row": null,
            "max_height": null,
            "align_content": null,
            "visibility": null,
            "align_self": null,
            "height": null,
            "min_height": null,
            "padding": null,
            "grid_auto_rows": null,
            "grid_gap": null,
            "max_width": null,
            "order": null,
            "_view_module_version": "1.2.0",
            "grid_template_areas": null,
            "object_position": null,
            "object_fit": null,
            "grid_auto_columns": null,
            "margin": null,
            "display": null,
            "left": null
          }
        }
      }
    }
  },
  "cells": [
    {
      "cell_type": "markdown",
      "metadata": {
        "id": "view-in-github",
        "colab_type": "text"
      },
      "source": [
        "<a href=\"https://colab.research.google.com/github/shivammehta007/QuestionGenerator/blob/master/Classifier_to_detect_type_of_questions.ipynb\" target=\"_parent\"><img src=\"https://colab.research.google.com/assets/colab-badge.svg\" alt=\"Open In Colab\"/></a>"
      ]
    },
    {
      "cell_type": "markdown",
      "metadata": {
        "id": "Ae7AE9oK2JD_",
        "colab_type": "text"
      },
      "source": [
        "# Testing Classifier Model"
      ]
    },
    {
      "cell_type": "code",
      "metadata": {
        "id": "Rsu1peCb7daN",
        "colab_type": "code",
        "outputId": "2bf38c7f-0c68-4f3f-8852-d9a1b6a39abd",
        "colab": {
          "base_uri": "https://localhost:8080/",
          "height": 34
        }
      },
      "source": [
        "# Essential Installation for working of notebook\n",
        "!pip install -U tqdm"
      ],
      "execution_count": 1,
      "outputs": [
        {
          "output_type": "stream",
          "text": [
            "Requirement already up-to-date: tqdm in /usr/local/lib/python3.6/dist-packages (4.44.1)\n"
          ],
          "name": "stdout"
        }
      ]
    },
    {
      "cell_type": "markdown",
      "metadata": {
        "id": "8Hfk5YOYgOaj",
        "colab_type": "text"
      },
      "source": [
        "### Imports"
      ]
    },
    {
      "cell_type": "code",
      "metadata": {
        "id": "GVZP3mPS9wVL",
        "colab_type": "code",
        "colab": {}
      },
      "source": [
        "import os\n",
        "import random\n",
        "\n",
        "import numpy as np\n",
        "import pandas as pd\n",
        "import matplotlib.pyplot as plt\n",
        "import spacy\n",
        "import seaborn as sns\n",
        "import torch\n",
        "from sklearn.ensemble import RandomForestClassifier\n",
        "from sklearn.feature_extraction.text import CountVectorizer, TfidfVectorizer\n",
        "from sklearn.linear_model import LogisticRegression\n",
        "from sklearn.model_selection import cross_validate, train_test_split\n",
        "from sklearn.naive_bayes import MultinomialNB\n",
        "from sklearn.pipeline import Pipeline\n",
        "from sklearn.preprocessing import LabelEncoder\n",
        "from sklearn.svm import SVC\n",
        "from sklearn.metrics import f1_score\n",
        "from tqdm.auto import tqdm, trange\n",
        "from wordcloud import WordCloud\n",
        "from xgboost import XGBClassifier"
      ],
      "execution_count": 0,
      "outputs": []
    },
    {
      "cell_type": "markdown",
      "metadata": {
        "id": "5Py7tdaXgR8y",
        "colab_type": "text"
      },
      "source": [
        "### Environment Setup "
      ]
    },
    {
      "cell_type": "code",
      "metadata": {
        "id": "r10qWJbbjEhd",
        "colab_type": "code",
        "colab": {}
      },
      "source": [
        "SEED=1234\n",
        "def seed_all(seed=1234):\n",
        "    \"\"\"Seed the results for duplication\"\"\"\n",
        "    random.seed(seed)\n",
        "    os.environ[\"PYTHONHASHSEED\"] = str(seed)\n",
        "    np.random.seed(seed)\n",
        "    torch.manual_seed(seed)\n",
        "    torch.cuda.manual_seed(seed)\n",
        "    torch.backends.cudnn.deterministic = True\n",
        "\n",
        "seed_all(SEED)"
      ],
      "execution_count": 0,
      "outputs": []
    },
    {
      "cell_type": "code",
      "metadata": {
        "id": "3S63rjWZ-BPZ",
        "colab_type": "code",
        "colab": {}
      },
      "source": [
        "tqdm.pandas()\n",
        "nlp = spacy.load(\"en_core_web_sm\") "
      ],
      "execution_count": 0,
      "outputs": []
    },
    {
      "cell_type": "code",
      "metadata": {
        "id": "121_OlhKDRlN",
        "colab_type": "code",
        "outputId": "a45e4d36-c99c-48cb-a73e-29fbb79b45a0",
        "colab": {
          "base_uri": "https://localhost:8080/",
          "height": 34
        }
      },
      "source": [
        "from google.colab import drive\n",
        "drive.mount('/content/drive')"
      ],
      "execution_count": 5,
      "outputs": [
        {
          "output_type": "stream",
          "text": [
            "Drive already mounted at /content/drive; to attempt to forcibly remount, call drive.mount(\"/content/drive\", force_remount=True).\n"
          ],
          "name": "stdout"
        }
      ]
    },
    {
      "cell_type": "code",
      "metadata": {
        "id": "B38Mrn28_EMM",
        "colab_type": "code",
        "colab": {}
      },
      "source": [
        "DATASET_LOCATION = '/content/drive/My Drive/Data/GrammarDataset.csv'"
      ],
      "execution_count": 0,
      "outputs": []
    },
    {
      "cell_type": "markdown",
      "metadata": {
        "id": "tkkTC5QKgUcv",
        "colab_type": "text"
      },
      "source": [
        "## Dataset Overview"
      ]
    },
    {
      "cell_type": "code",
      "metadata": {
        "id": "3xNvBg2qAYW7",
        "colab_type": "code",
        "colab": {}
      },
      "source": [
        "original_dataset = pd.read_csv(DATASET_LOCATION, sep=\"\\t\")"
      ],
      "execution_count": 0,
      "outputs": []
    },
    {
      "cell_type": "code",
      "metadata": {
        "id": "WMx5VjuhAces",
        "colab_type": "code",
        "outputId": "60649c28-d547-41a5-9dfd-0fb13c860d31",
        "colab": {
          "base_uri": "https://localhost:8080/",
          "height": 204
        }
      },
      "source": [
        "original_dataset.head()"
      ],
      "execution_count": 8,
      "outputs": [
        {
          "output_type": "execute_result",
          "data": {
            "text/html": [
              "<div>\n",
              "<style scoped>\n",
              "    .dataframe tbody tr th:only-of-type {\n",
              "        vertical-align: middle;\n",
              "    }\n",
              "\n",
              "    .dataframe tbody tr th {\n",
              "        vertical-align: top;\n",
              "    }\n",
              "\n",
              "    .dataframe thead th {\n",
              "        text-align: right;\n",
              "    }\n",
              "</style>\n",
              "<table border=\"1\" class=\"dataframe\">\n",
              "  <thead>\n",
              "    <tr style=\"text-align: right;\">\n",
              "      <th></th>\n",
              "      <th>Question</th>\n",
              "      <th>key</th>\n",
              "      <th>answer</th>\n",
              "      <th>Type of Question</th>\n",
              "      <th>Sub Section</th>\n",
              "    </tr>\n",
              "  </thead>\n",
              "  <tbody>\n",
              "    <tr>\n",
              "      <th>0</th>\n",
              "      <td>She _________________ some chocolates to the p...</td>\n",
              "      <td>bring</td>\n",
              "      <td>She brought some chocolates to the party.</td>\n",
              "      <td>irregular verb</td>\n",
              "      <td>past simple</td>\n",
              "    </tr>\n",
              "    <tr>\n",
              "      <th>1</th>\n",
              "      <td>I _________________ a new song on the radio.</td>\n",
              "      <td>hear</td>\n",
              "      <td>I heard a new song on the radio.</td>\n",
              "      <td>irregular verb</td>\n",
              "      <td>past simple</td>\n",
              "    </tr>\n",
              "    <tr>\n",
              "      <th>2</th>\n",
              "      <td>I _________________ three books last week.</td>\n",
              "      <td>read</td>\n",
              "      <td>I read three books last week.</td>\n",
              "      <td>irregular verb</td>\n",
              "      <td>past simple</td>\n",
              "    </tr>\n",
              "    <tr>\n",
              "      <th>3</th>\n",
              "      <td>They _________________ French to the waitress.</td>\n",
              "      <td>speak</td>\n",
              "      <td>They spoke French to the waitress.</td>\n",
              "      <td>irregular verb</td>\n",
              "      <td>past simple</td>\n",
              "    </tr>\n",
              "    <tr>\n",
              "      <th>4</th>\n",
              "      <td>He _________________ during the class but now ...</td>\n",
              "      <td>understand</td>\n",
              "      <td>He understood during the class but now he doe...</td>\n",
              "      <td>irregular verb</td>\n",
              "      <td>past simple</td>\n",
              "    </tr>\n",
              "  </tbody>\n",
              "</table>\n",
              "</div>"
            ],
            "text/plain": [
              "                                            Question  ...  Sub Section\n",
              "0  She _________________ some chocolates to the p...  ...  past simple\n",
              "1       I _________________ a new song on the radio.  ...  past simple\n",
              "2         I _________________ three books last week.  ...  past simple\n",
              "3     They _________________ French to the waitress.  ...  past simple\n",
              "4  He _________________ during the class but now ...  ...  past simple\n",
              "\n",
              "[5 rows x 5 columns]"
            ]
          },
          "metadata": {
            "tags": []
          },
          "execution_count": 8
        }
      ]
    },
    {
      "cell_type": "code",
      "metadata": {
        "id": "8QICR81Tmxrj",
        "colab_type": "code",
        "colab": {
          "base_uri": "https://localhost:8080/",
          "height": 119
        },
        "outputId": "fd89da1d-16cf-407f-a184-9aec62c26e9c"
      },
      "source": [
        "original_dataset.dtypes"
      ],
      "execution_count": 9,
      "outputs": [
        {
          "output_type": "execute_result",
          "data": {
            "text/plain": [
              "Question            object\n",
              "key                 object\n",
              "answer              object\n",
              "Type of Question    object\n",
              "Sub Section         object\n",
              "dtype: object"
            ]
          },
          "metadata": {
            "tags": []
          },
          "execution_count": 9
        }
      ]
    },
    {
      "cell_type": "markdown",
      "metadata": {
        "id": "gVHkoe1abm0s",
        "colab_type": "text"
      },
      "source": [
        "#### EDA"
      ]
    },
    {
      "cell_type": "code",
      "metadata": {
        "id": "QTmoHupIbp02",
        "colab_type": "code",
        "outputId": "8eb498c8-ea01-4aab-814b-3b17ae4c9673",
        "colab": {
          "base_uri": "https://localhost:8080/",
          "height": 584
        }
      },
      "source": [
        "ax, fig = plt.subplots(figsize=(10, 7))\n",
        "question_class = original_dataset[\"Type of Question\"].value_counts()\n",
        "question_class.plot(kind='bar')\n",
        "plt.title('Type of Question Counts')\n",
        "plt.show()"
      ],
      "execution_count": 10,
      "outputs": [
        {
          "output_type": "display_data",
          "data": {
            "image/png": "[encoded data removed]",
            "text/plain": [
              "<Figure size 720x504 with 1 Axes>"
            ]
          },
          "metadata": {
            "tags": []
          }
        }
      ]
    },
    {
      "cell_type": "code",
      "metadata": {
        "id": "WJQyD0KvhYoJ",
        "colab_type": "code",
        "colab": {
          "base_uri": "https://localhost:8080/",
          "height": 511
        },
        "outputId": "7d3e0723-70bd-4058-98b7-e3d08ead8afd"
      },
      "source": [
        "insincere_wordcloud = WordCloud(width=600, height=400).generate(\" \".join(original_dataset[\"key\"]))\n",
        "plt.figure( figsize=(10,8), facecolor='k')\n",
        "plt.imshow(insincere_wordcloud)\n",
        "plt.axis(\"off\")\n",
        "plt.tight_layout(pad=0)\n",
        "plt.show()"
      ],
      "execution_count": 11,
      "outputs": [
        {
          "output_type": "display_data",
          "data": {
            "image/png": "[encoded data removed]",
            "text/plain": [
              "<Figure size 720x576 with 1 Axes>"
            ]
          },
          "metadata": {
            "tags": []
          }
        }
      ]
    },
    {
      "cell_type": "markdown",
      "metadata": {
        "id": "AX8Zcvdh2QH8",
        "colab_type": "text"
      },
      "source": [
        "### PreProcessing"
      ]
    },
    {
      "cell_type": "code",
      "metadata": {
        "id": "g_GyP2NiAdUH",
        "colab_type": "code",
        "colab": {}
      },
      "source": [
        "def preprocessor(dataset):\n",
        "    # Replace continuous underscores with single one\n",
        "    dataset[\"Question\"] = dataset[\"Question\"].str.replace(\"[_]{2,}\", \"_\")\n",
        "    # Remove Brackets\n",
        "    dataset[\"Question\"] = dataset[\"Question\"].str.replace(\"[\\)\\(]\", \"\")\n",
        "    # Strip whitespaces\n",
        "    dataset[\"Question\"] = dataset[\"Question\"].apply(lambda x: x.strip())\n",
        "    # Convert all text to lowercase\n",
        "    for columns in dataset.columns:\n",
        "        dataset[columns] = dataset[columns].str.lower() \n",
        "\n",
        "    return dataset"
      ],
      "execution_count": 0,
      "outputs": []
    },
    {
      "cell_type": "code",
      "metadata": {
        "id": "6BS5iKckgrQd",
        "colab_type": "code",
        "colab": {}
      },
      "source": [
        "original_dataset = preprocessor(original_dataset)"
      ],
      "execution_count": 0,
      "outputs": []
    },
    {
      "cell_type": "code",
      "metadata": {
        "id": "22ZIHZy3jW5C",
        "colab_type": "code",
        "outputId": "7ac6ea06-9d2f-4b79-88a9-7d7d25a65629",
        "colab": {
          "base_uri": "https://localhost:8080/",
          "height": 34
        }
      },
      "source": [
        "original_dataset.columns"
      ],
      "execution_count": 14,
      "outputs": [
        {
          "output_type": "execute_result",
          "data": {
            "text/plain": [
              "Index(['Question', 'key', 'answer', 'Type of Question', 'Sub Section'], dtype='object')"
            ]
          },
          "metadata": {
            "tags": []
          },
          "execution_count": 14
        }
      ]
    },
    {
      "cell_type": "markdown",
      "metadata": {
        "id": "eJT_3Bdd9u01",
        "colab_type": "text"
      },
      "source": [
        "#### Encoding Labels"
      ]
    },
    {
      "cell_type": "code",
      "metadata": {
        "id": "T8ef8cs39uF6",
        "colab_type": "code",
        "colab": {}
      },
      "source": [
        "label_encoder = LabelEncoder()\n",
        "original_dataset[\"Type of Question\"] = label_encoder.fit_transform(original_dataset[\"Type of Question\"])"
      ],
      "execution_count": 0,
      "outputs": []
    },
    {
      "cell_type": "markdown",
      "metadata": {
        "id": "8fNWF4uwBl0t",
        "colab_type": "text"
      },
      "source": [
        "#### Split Training and Testing Data"
      ]
    },
    {
      "cell_type": "code",
      "metadata": {
        "id": "nX6L5x2Y9sHw",
        "colab_type": "code",
        "colab": {}
      },
      "source": [
        "X_train_orig_dataset, X_test_orig_dataset, y_train_orig_dataset, y_test_orig_dataset = train_test_split(original_dataset[[\"Question\", \"key\", \"answer\"]], original_dataset[\"Type of Question\"], random_state=SEED, test_size=0.15)"
      ],
      "execution_count": 0,
      "outputs": []
    },
    {
      "cell_type": "code",
      "metadata": {
        "id": "iaUHWhAcCb4t",
        "colab_type": "code",
        "outputId": "0c1b95a0-99d9-4f23-cccc-813886677100",
        "colab": {
          "base_uri": "https://localhost:8080/",
          "height": 34
        }
      },
      "source": [
        "X_train_orig_dataset.shape, X_test_orig_dataset.shape, y_train_orig_dataset.shape, y_test_orig_dataset.shape"
      ],
      "execution_count": 17,
      "outputs": [
        {
          "output_type": "execute_result",
          "data": {
            "text/plain": [
              "((569, 3), (101, 3), (569,), (101,))"
            ]
          },
          "metadata": {
            "tags": []
          },
          "execution_count": 17
        }
      ]
    },
    {
      "cell_type": "markdown",
      "metadata": {
        "id": "OnGk8SFb4Wm2",
        "colab_type": "text"
      },
      "source": [
        "## Experiments:"
      ]
    },
    {
      "cell_type": "code",
      "metadata": {
        "id": "8P-vu3VSD3Yz",
        "colab_type": "code",
        "outputId": "556f2964-1d2e-46f6-d58d-105e251df3fc",
        "colab": {
          "base_uri": "https://localhost:8080/",
          "height": 204
        }
      },
      "source": [
        "X_train_orig_dataset.head()"
      ],
      "execution_count": 18,
      "outputs": [
        {
          "output_type": "execute_result",
          "data": {
            "text/html": [
              "<div>\n",
              "<style scoped>\n",
              "    .dataframe tbody tr th:only-of-type {\n",
              "        vertical-align: middle;\n",
              "    }\n",
              "\n",
              "    .dataframe tbody tr th {\n",
              "        vertical-align: top;\n",
              "    }\n",
              "\n",
              "    .dataframe thead th {\n",
              "        text-align: right;\n",
              "    }\n",
              "</style>\n",
              "<table border=\"1\" class=\"dataframe\">\n",
              "  <thead>\n",
              "    <tr style=\"text-align: right;\">\n",
              "      <th></th>\n",
              "      <th>Question</th>\n",
              "      <th>key</th>\n",
              "      <th>answer</th>\n",
              "    </tr>\n",
              "  </thead>\n",
              "  <tbody>\n",
              "    <tr>\n",
              "      <th>271</th>\n",
              "      <td>how / they / get to work?</td>\n",
              "      <td>they</td>\n",
              "      <td>how do they get to work?</td>\n",
              "    </tr>\n",
              "    <tr>\n",
              "      <th>488</th>\n",
              "      <td>we were late for the plane because we _our pas...</td>\n",
              "      <td>forgot</td>\n",
              "      <td>we were late for the plane because we had forg...</td>\n",
              "    </tr>\n",
              "    <tr>\n",
              "      <th>131</th>\n",
              "      <td>we _ thirsty.</td>\n",
              "      <td>be</td>\n",
              "      <td>we aren't thirsty.</td>\n",
              "    </tr>\n",
              "    <tr>\n",
              "      <th>643</th>\n",
              "      <td>he_, so the kitchen will be warm.</td>\n",
              "      <td>cook</td>\n",
              "      <td>he will have been cooking, so the kitchen will...</td>\n",
              "    </tr>\n",
              "    <tr>\n",
              "      <th>155</th>\n",
              "      <td>you / in a cafe?</td>\n",
              "      <td>be</td>\n",
              "      <td>are you in a cafe?</td>\n",
              "    </tr>\n",
              "  </tbody>\n",
              "</table>\n",
              "</div>"
            ],
            "text/plain": [
              "                                              Question  ...                                             answer\n",
              "271                          how / they / get to work?  ...                           how do they get to work?\n",
              "488  we were late for the plane because we _our pas...  ...  we were late for the plane because we had forg...\n",
              "131                                      we _ thirsty.  ...                                 we aren't thirsty.\n",
              "643                  he_, so the kitchen will be warm.  ...  he will have been cooking, so the kitchen will...\n",
              "155                                   you / in a cafe?  ...                                 are you in a cafe?\n",
              "\n",
              "[5 rows x 3 columns]"
            ]
          },
          "metadata": {
            "tags": []
          },
          "execution_count": 18
        }
      ]
    },
    {
      "cell_type": "markdown",
      "metadata": {
        "id": "-w5DIu3WcsEd",
        "colab_type": "text"
      },
      "source": [
        "### Experimentation Setup"
      ]
    },
    {
      "cell_type": "markdown",
      "metadata": {
        "id": "SHeY-yA13DxF",
        "colab_type": "text"
      },
      "source": [
        "#### Models"
      ]
    },
    {
      "cell_type": "code",
      "metadata": {
        "id": "CcgkQ9KCFHKX",
        "colab_type": "code",
        "colab": {}
      },
      "source": [
        "text_vectorizers = [\n",
        "                    ('CountVectorizer', CountVectorizer(tokenizer=lambda x: x.split())), \n",
        "                    ('TfIdFVectorize', TfidfVectorizer(tokenizer=lambda x: x.split()))\n",
        "                ]\n",
        "classifiers = [\n",
        "               ('MultiNomial Naive Bais', MultinomialNB(alpha=0.1)),\n",
        "               ('LogisticRegression', LogisticRegression(max_iter=5000)), \n",
        "               ('SVM', SVC()), ('RandomForest', RandomForestClassifier()), \n",
        "               ('XGBClassifier', XGBClassifier(random_state=SEED, learning_rate=0.01))\n",
        "            ]"
      ],
      "execution_count": 0,
      "outputs": []
    },
    {
      "cell_type": "code",
      "metadata": {
        "id": "ycPqgf8Ri40_",
        "colab_type": "code",
        "colab": {}
      },
      "source": [
        "def check_classification(X_train, y_train, X_test, y_test):\n",
        "\n",
        "    # Result DataFrame\n",
        "    result_dataframe = pd.DataFrame({\n",
        "        'Vectorizer': [name for name, model in text_vectorizers]\n",
        "        }, columns = ['Vectorizer'] + [name for name, model in classifiers])\n",
        "    result_dataframe.set_index('Vectorizer', inplace=True)\n",
        "\n",
        "\n",
        "    best_score = 0\n",
        "    best_model = None\n",
        "    best_pipe = None\n",
        "    for classifier_name, classifier in classifiers:\n",
        "        for text_vectorizer_name, text_vectorizer in text_vectorizers:\n",
        "            pipe = Pipeline(steps=[\n",
        "                                ('text_vec', text_vectorizer),\n",
        "                                ('class', classifier)\n",
        "            ])\n",
        "            pipe.fit(X_train, y_train)\n",
        "            f1_measure = f1_score(pipe.predict(X_test), y_test, average='micro')\n",
        "            # print('Model : {} -> {}:  accuracy: {:.4f}'.format(text_vectorizer_name, classifier_name, acc*100))\n",
        "            result_dataframe[classifier_name][text_vectorizer_name] = '{:.4f}'.format(f1_measure)\n",
        "\n",
        "            if f1_measure > best_score:\n",
        "                best_score = f1_measure\n",
        "                best_pipe = pipe\n",
        "                best_model = '{} -> {}'.format(text_vectorizer_name, classifier_name)\n",
        "    # TODO: Remove while actually writing the code Code for Debugging\n",
        "    # analyzer = best_pipe['text_vec'].build_analyzer()\n",
        "    # print(analyzer(\"i _ the steak for dinner.  choose  i chose the steak for dinner.\"))\n",
        "    # print(analyzer(\"words#i _ words#_ words#the words#steak words#for words#dinner words#. words#  words#choose words#  words#i words#chose words#the words#steak words#for words#dinner words#.\"))\n",
        "    # with np.printoptions(threshold=np.inf):\n",
        "    #     print(\"First: {}\".format(best_pipe['text_vec'].transform([\"i _ the steak for dinner.  choose  i chose the steak for dinner.\"])[0]))\n",
        "    #     print(\"Second: {}\".format(best_pipe['text_vec'].transform([\"words#i words#_ words#the words#steak words#for words#dinner words#. words#  words#choose words#  words#i words#chose words#the words#steak words#for words#dinner words#.\"])[0]))\n",
        "\n",
        "\n",
        "    print(\"\\n\\nBest F1 Measure was: {:.4f} with the Model: {}\".format(best_score, best_model))\n",
        "    return result_dataframe"
      ],
      "execution_count": 0,
      "outputs": []
    },
    {
      "cell_type": "markdown",
      "metadata": {
        "id": "l_qWhanA3KM_",
        "colab_type": "text"
      },
      "source": [
        "#### Result Placeholder"
      ]
    },
    {
      "cell_type": "code",
      "metadata": {
        "id": "8QzCpvclfk6g",
        "colab_type": "code",
        "colab": {}
      },
      "source": [
        "result_dataframe = pd.DataFrame({\n",
        "        'Vectorizer': [name for name, model in text_vectorizers]\n",
        "        }, columns = ['Vectorizer'] + [name for name, model in classifiers])\n",
        "result_dataframe.set_index('Vectorizer', inplace=True)\n",
        "\n",
        "results = []"
      ],
      "execution_count": 0,
      "outputs": []
    },
    {
      "cell_type": "markdown",
      "metadata": {
        "id": "IARArelo3U7S",
        "colab_type": "text"
      },
      "source": [
        "#### N-Gram Generator"
      ]
    },
    {
      "cell_type": "code",
      "metadata": {
        "id": "zyh7vACj3UIl",
        "colab_type": "code",
        "colab": {
          "base_uri": "https://localhost:8080/",
          "height": 153
        },
        "outputId": "6de24176-0445-4a41-eb99-9bf3c6ca5a04"
      },
      "source": [
        "from itertools import cycle\n",
        "from collections import deque\n",
        "\n",
        "def ngrams(sentence, n=2):\n",
        "    words = [word.text for word in nlp(sentence)]\n",
        "    d = deque(maxlen=n)\n",
        "    d.extend(words[:n])\n",
        "    words = words[n:]\n",
        "    results = []\n",
        "    for window, word in zip(cycle((d,)), words):\n",
        "        results.append([ngram for ngram in window])\n",
        "        d.append(word)\n",
        "    results.append([ngram for ngram in d])\n",
        "\n",
        "    return results\n",
        "\n",
        "ngrams(\"this sentence is a test sentence to check ngrams\")"
      ],
      "execution_count": 22,
      "outputs": [
        {
          "output_type": "execute_result",
          "data": {
            "text/plain": [
              "[['this', 'sentence'],\n",
              " ['sentence', 'is'],\n",
              " ['is', 'a'],\n",
              " ['a', 'test'],\n",
              " ['test', 'sentence'],\n",
              " ['sentence', 'to'],\n",
              " ['to', 'check'],\n",
              " ['check', 'ngrams']]"
            ]
          },
          "metadata": {
            "tags": []
          },
          "execution_count": 22
        }
      ]
    },
    {
      "cell_type": "code",
      "metadata": {
        "id": "7RXScOm34hRI",
        "colab_type": "code",
        "colab": {
          "base_uri": "https://localhost:8080/",
          "height": 88
        },
        "outputId": "f70ddf2b-4cd8-4b22-e75d-e57af3b22d09"
      },
      "source": [
        "for n in range(2,5):\n",
        "    print(\" {}-Grams:\".format(n), end=\" \")\n",
        "    print(ngrams(\"Hello World! This is a test example of N-Gram generator\", n))"
      ],
      "execution_count": 23,
      "outputs": [
        {
          "output_type": "stream",
          "text": [
            " 2-Grams: [['Hello', 'World'], ['World', '!'], ['!', 'This'], ['This', 'is'], ['is', 'a'], ['a', 'test'], ['test', 'example'], ['example', 'of'], ['of', 'N'], ['N', '-'], ['-', 'Gram'], ['Gram', 'generator']]\n",
            " 3-Grams: [['Hello', 'World', '!'], ['World', '!', 'This'], ['!', 'This', 'is'], ['This', 'is', 'a'], ['is', 'a', 'test'], ['a', 'test', 'example'], ['test', 'example', 'of'], ['example', 'of', 'N'], ['of', 'N', '-'], ['N', '-', 'Gram'], ['-', 'Gram', 'generator']]\n",
            " 4-Grams: [['Hello', 'World', '!', 'This'], ['World', '!', 'This', 'is'], ['!', 'This', 'is', 'a'], ['This', 'is', 'a', 'test'], ['is', 'a', 'test', 'example'], ['a', 'test', 'example', 'of'], ['test', 'example', 'of', 'N'], ['example', 'of', 'N', '-'], ['of', 'N', '-', 'Gram'], ['N', '-', 'Gram', 'generator']]\n"
          ],
          "name": "stdout"
        }
      ]
    },
    {
      "cell_type": "markdown",
      "metadata": {
        "id": "6XtV4oEY9RdY",
        "colab_type": "text"
      },
      "source": [
        "#### Sample Generator"
      ]
    },
    {
      "cell_type": "code",
      "metadata": {
        "id": "JTj9-ty58yrZ",
        "colab_type": "code",
        "colab": {}
      },
      "source": [
        "def get_input_samples(X, y, n=5):\n",
        "    results = []\n",
        "    for i in random.sample(range(len(X) - 1), n):\n",
        "        results.append(\"{} --> {} \".format(X.iloc[i], label_encoder.inverse_transform([y.iloc[i]])))\n",
        "\n",
        "    return results"
      ],
      "execution_count": 0,
      "outputs": []
    },
    {
      "cell_type": "markdown",
      "metadata": {
        "id": "B-xUadw94aQa",
        "colab_type": "text"
      },
      "source": [
        "### Experiment 1:  Word#\\$\\{$words_i$\\}\n",
        "Concatenating Question + key + answer in a Bag Of Words Approach \\\\\n",
        "No Feature Engineering"
      ]
    },
    {
      "cell_type": "code",
      "metadata": {
        "id": "t3w4PFR9jGau",
        "colab_type": "code",
        "colab": {}
      },
      "source": [
        "experiment_text = \"Concatenating question + key + answer. like word#word_i\""
      ],
      "execution_count": 0,
      "outputs": []
    },
    {
      "cell_type": "markdown",
      "metadata": {
        "id": "NPWAO_stJEkI",
        "colab_type": "text"
      },
      "source": [
        "#### Preprocessing"
      ]
    },
    {
      "cell_type": "code",
      "metadata": {
        "id": "huoQqpg9jqf7",
        "colab_type": "code",
        "colab": {}
      },
      "source": [
        "X_train = X_train_orig_dataset[\"Question\"] + \" \" + X_train_orig_dataset[\"key\"] + \" \" + X_train_orig_dataset[\"answer\"]\n",
        "y_train = y_train_orig_dataset\n",
        "X_test = X_test_orig_dataset[\"Question\"] + \" \" + X_test_orig_dataset[\"key\"] + \" \" + X_test_orig_dataset[\"answer\"]\n",
        "y_test = y_test_orig_dataset"
      ],
      "execution_count": 0,
      "outputs": []
    },
    {
      "cell_type": "code",
      "metadata": {
        "id": "LgBf1aTiil9J",
        "colab_type": "code",
        "colab": {
          "base_uri": "https://localhost:8080/",
          "height": 54
        },
        "outputId": "4edc1440-ea60-45da-8029-44aacafa0d56"
      },
      "source": [
        "def add_word_template(text):\n",
        "    tokens = nlp(text)\n",
        "    text = []\n",
        "    for token in tokens:\n",
        "        text.append(\"words#{}\".format(token.text))\n",
        "\n",
        "    return \" \".join(text)\n",
        "\n",
        "add_word_template(\"i _ the steak for dinner.  choose  i chose the steak for dinner.\")"
      ],
      "execution_count": 27,
      "outputs": [
        {
          "output_type": "execute_result",
          "data": {
            "text/plain": [
              "'words#i words#_ words#the words#steak words#for words#dinner words#. words#  words#choose words#  words#i words#chose words#the words#steak words#for words#dinner words#.'"
            ]
          },
          "metadata": {
            "tags": []
          },
          "execution_count": 27
        }
      ]
    },
    {
      "cell_type": "code",
      "metadata": {
        "id": "PNwKiGSkiu7g",
        "colab_type": "code",
        "colab": {
          "base_uri": "https://localhost:8080/",
          "height": 115,
          "referenced_widgets": [
            "f99afef0a31c40409f53f3e24e8a7753",
            "95e733793d7c45369f0011b800b4b1ba",
            "9130e72f2f504ea2ad3282efca3c2859",
            "21e804928ddb4683a9e78a5ac1e7ede9",
            "f263bfbb36d741768705283aa5caaa30",
            "cee40a7fb0434c5d9fcef5e7d2a4131c",
            "ca032f624fa345bdbb120f3137c4c6fa",
            "6415c111e7344e5a98ccc7578e20e3d2",
            "ae76cde4b5674fec9cba82624f521274",
            "74cb79f9f9544b65852a6c183be86e7f",
            "b7dbefa9dfc54cafa0c358ca6dd069f0",
            "1f433cad083d4ec3bc96d02c935f6d1c",
            "ad10b4b99f214c40992523807675fdbb",
            "ee391746e0994ffd85eb9a5fc59efbcb",
            "9f5297b195a046008d14df95bb04b7d7",
            "8d2d51e0126c4cac89d268756b96637f"
          ]
        },
        "outputId": "477a52a6-c5a5-47c3-a764-32332726c1f1"
      },
      "source": [
        "X_train = X_train.progress_apply(add_word_template)\n",
        "X_test = X_test.progress_apply(add_word_template)"
      ],
      "execution_count": 28,
      "outputs": [
        {
          "output_type": "display_data",
          "data": {
            "application/vnd.jupyter.widget-view+json": {
              "model_id": "f99afef0a31c40409f53f3e24e8a7753",
              "version_minor": 0,
              "version_major": 2
            },
            "text/plain": [
              "HBox(children=(FloatProgress(value=0.0, max=569.0), HTML(value='')))"
            ]
          },
          "metadata": {
            "tags": []
          }
        },
        {
          "output_type": "stream",
          "text": [
            "\n"
          ],
          "name": "stdout"
        },
        {
          "output_type": "display_data",
          "data": {
            "application/vnd.jupyter.widget-view+json": {
              "model_id": "ae76cde4b5674fec9cba82624f521274",
              "version_minor": 0,
              "version_major": 2
            },
            "text/plain": [
              "HBox(children=(FloatProgress(value=0.0, max=101.0), HTML(value='')))"
            ]
          },
          "metadata": {
            "tags": []
          }
        },
        {
          "output_type": "stream",
          "text": [
            "\n"
          ],
          "name": "stdout"
        }
      ]
    },
    {
      "cell_type": "markdown",
      "metadata": {
        "id": "YpHet4C8lc80",
        "colab_type": "text"
      },
      "source": [
        "#### Input Samples"
      ]
    },
    {
      "cell_type": "code",
      "metadata": {
        "id": "oleE2PRxltmf",
        "colab_type": "code",
        "colab": {
          "base_uri": "https://localhost:8080/",
          "height": 122
        },
        "outputId": "d65a874d-5459-40d8-a678-88d5de488c58"
      },
      "source": [
        "get_input_samples(X_train, y_train)"
      ],
      "execution_count": 29,
      "outputs": [
        {
          "output_type": "execute_result",
          "data": {
            "text/plain": [
              "[\"words#they words#_ words#so words#we words#went words#to words#a words#restaurant words#. words#not words#eat words#they words#had words#n't words#eaten words#so words#we words#went words#to words#a words#restaurant words#. --> ['3rd form of verb'] \",\n",
              " \"words#when words#/ words#you words#/ words#leave words#? words#you words#leave words#when words#are words#you words#leaving words#? --> ['verb+ing'] \",\n",
              " \"words#they words#/ words#live words#in words#london words#live words#they words#live words#in words#london words#. --> ['verb(s/es)'] \",\n",
              " \"words#_ words#football words#when words#he words#was words#injured words#? words#how words#long words#he words#play words#how words#long words#had words#he words#been words#playing words#football words#when words#he words#was words#injured words#? --> ['had been verb+ing'] \",\n",
              " \"words#_ words#the words#film words#already words#? words#she words#see words#had words#she words#seen words#the words#film words#already words#? --> ['3rd form of verb'] \"]"
            ]
          },
          "metadata": {
            "tags": []
          },
          "execution_count": 29
        }
      ]
    },
    {
      "cell_type": "markdown",
      "metadata": {
        "id": "tvz8r-4M20D5",
        "colab_type": "text"
      },
      "source": [
        "#### Experimentation Results"
      ]
    },
    {
      "cell_type": "code",
      "metadata": {
        "id": "LjmfITvoEHid",
        "colab_type": "code",
        "outputId": "e0dca510-094d-4aa5-a41d-345837388acb",
        "colab": {
          "base_uri": "https://localhost:8080/",
          "height": 193
        }
      },
      "source": [
        "result = check_classification(X_train, y_train, X_test, y_test)\n",
        "results.append((experiment_text, result))\n",
        "result\n",
        "\n",
        "# First:   (0, 24)\t1\n",
        "#   (0, 193)\t1\n",
        "#   (0, 194)\t1\n",
        "#   (0, 257)\t2\n",
        "#   (0, 356)\t2\n",
        "#   (0, 447)\t2\n",
        "#   (0, 851)\t2\n",
        "#   (0, 912)\t2\n",
        "# Second:   (0, 24)"
      ],
      "execution_count": 30,
      "outputs": [
        {
          "output_type": "stream",
          "text": [
            "\n",
            "\n",
            "Best F1 Measure was: 0.9703 with the Model: CountVectorizer -> RandomForest\n"
          ],
          "name": "stdout"
        },
        {
          "output_type": "execute_result",
          "data": {
            "text/html": [
              "<div>\n",
              "<style scoped>\n",
              "    .dataframe tbody tr th:only-of-type {\n",
              "        vertical-align: middle;\n",
              "    }\n",
              "\n",
              "    .dataframe tbody tr th {\n",
              "        vertical-align: top;\n",
              "    }\n",
              "\n",
              "    .dataframe thead th {\n",
              "        text-align: right;\n",
              "    }\n",
              "</style>\n",
              "<table border=\"1\" class=\"dataframe\">\n",
              "  <thead>\n",
              "    <tr style=\"text-align: right;\">\n",
              "      <th></th>\n",
              "      <th>MultiNomial Naive Bais</th>\n",
              "      <th>LogisticRegression</th>\n",
              "      <th>SVM</th>\n",
              "      <th>RandomForest</th>\n",
              "      <th>XGBClassifier</th>\n",
              "    </tr>\n",
              "    <tr>\n",
              "      <th>Vectorizer</th>\n",
              "      <th></th>\n",
              "      <th></th>\n",
              "      <th></th>\n",
              "      <th></th>\n",
              "      <th></th>\n",
              "    </tr>\n",
              "  </thead>\n",
              "  <tbody>\n",
              "    <tr>\n",
              "      <th>CountVectorizer</th>\n",
              "      <td>0.7327</td>\n",
              "      <td>0.8812</td>\n",
              "      <td>0.7822</td>\n",
              "      <td>0.9703</td>\n",
              "      <td>0.9703</td>\n",
              "    </tr>\n",
              "    <tr>\n",
              "      <th>TfIdFVectorize</th>\n",
              "      <td>0.6832</td>\n",
              "      <td>0.7228</td>\n",
              "      <td>0.6733</td>\n",
              "      <td>0.9307</td>\n",
              "      <td>0.9406</td>\n",
              "    </tr>\n",
              "  </tbody>\n",
              "</table>\n",
              "</div>"
            ],
            "text/plain": [
              "                MultiNomial Naive Bais  ... XGBClassifier\n",
              "Vectorizer                              ...              \n",
              "CountVectorizer                 0.7327  ...        0.9703\n",
              "TfIdFVectorize                  0.6832  ...        0.9406\n",
              "\n",
              "[2 rows x 5 columns]"
            ]
          },
          "metadata": {
            "tags": []
          },
          "execution_count": 30
        }
      ]
    },
    {
      "cell_type": "markdown",
      "metadata": {
        "id": "y52L3ohfSGnN",
        "colab_type": "text"
      },
      "source": [
        "### Experiment 2: word_pos#\\$\\{$word_i$\\}_\\$\\{$pos_i$\\}\n",
        "With Word and POS tags, token.tag_ gives a detailed POS tag where we can distinguish between forms of verb. \\\\\n",
        "More Information https://spacy.io/api/annotation#pos-tagging about the tags"
      ]
    },
    {
      "cell_type": "code",
      "metadata": {
        "id": "U4cmKc0wks5S",
        "colab_type": "code",
        "colab": {}
      },
      "source": [
        "experiment_text = \"Adding Pos Tags along with word word_pos#{word_i}_{pos_i} + k#tags + a#tags Unigrams\""
      ],
      "execution_count": 0,
      "outputs": []
    },
    {
      "cell_type": "markdown",
      "metadata": {
        "id": "zdTpudPaJLPg",
        "colab_type": "text"
      },
      "source": [
        "#### Preprocessing"
      ]
    },
    {
      "cell_type": "code",
      "metadata": {
        "id": "_Oxr2IGwh0Xi",
        "colab_type": "code",
        "colab": {}
      },
      "source": [
        "X_train = X_train_orig_dataset[\"Question\"] + \" \" + X_train_orig_dataset[\"key\"] + \" \" + X_train_orig_dataset[\"answer\"]\n",
        "y_train = y_train_orig_dataset\n",
        "X_test = X_test_orig_dataset[\"Question\"] + \" \" + X_test_orig_dataset[\"key\"] + \" \" + X_test_orig_dataset[\"answer\"]\n",
        "y_test = y_test_orig_dataset"
      ],
      "execution_count": 0,
      "outputs": []
    },
    {
      "cell_type": "code",
      "metadata": {
        "id": "_Q9TuAUfeCX-",
        "colab_type": "code",
        "colab": {
          "base_uri": "https://localhost:8080/",
          "height": 54
        },
        "outputId": "876b1782-8de1-4eca-d99a-1f666c0bc6e0"
      },
      "source": [
        "def add_word_pos_template(text):\n",
        "    tokens = nlp(text)\n",
        "    text = []\n",
        "    for token in tokens:\n",
        "        text.append(\"word_pos#{}_{}\".format(token.text, token.tag_))\n",
        "\n",
        "    return \" \".join(text)\n",
        "\n",
        "# Testing method\n",
        "test_sentence = \"Testing the Pos Tagger in this sentence let's see how it works!\".lower()\n",
        "add_word_pos_template(test_sentence)"
      ],
      "execution_count": 33,
      "outputs": [
        {
          "output_type": "execute_result",
          "data": {
            "text/plain": [
              "\"word_pos#testing_VBG word_pos#the_DT word_pos#pos_NN word_pos#tagger_NN word_pos#in_IN word_pos#this_DT word_pos#sentence_NN word_pos#let_VB word_pos#'s_PRP word_pos#see_VB word_pos#how_WRB word_pos#it_PRP word_pos#works_VBZ word_pos#!_.\""
            ]
          },
          "metadata": {
            "tags": []
          },
          "execution_count": 33
        }
      ]
    },
    {
      "cell_type": "code",
      "metadata": {
        "id": "w6_kA6fseDtA",
        "colab_type": "code",
        "colab": {
          "base_uri": "https://localhost:8080/",
          "height": 115,
          "referenced_widgets": [
            "09c77bdb182e4381a3ff05b0bcf7634a",
            "8bb4ec2b0d504b84b84ff8811b1134e4",
            "58f4f50f38e54bb1bf4765d756e1d410",
            "bcd8221046954c85b5afc7394dc571ca",
            "fe2431ef262b43f181383b59100a2bd8",
            "f0d1f40697204a5c81e981d55d3b3e88",
            "44b195efedf249b2b9a3433b3087faf9",
            "86207b53153b4d3bab6d5d40e2805be4",
            "1f5bba42c7144d49953d42979a771107",
            "8ae1cd2ca36c483187ea1a41a7a8247a",
            "a763d57e5d374c059668c1d8ac321742",
            "4ea8f7574f6a433495efcd0f6106c708",
            "2b9fe4254054437196195eb9d2a3fc07",
            "ad8a27b4cfca474997e576fae7e1c6d1",
            "a9542913a6e74fe980b57714d6b241a4",
            "dc91102075ab4d08b19173c2b6e678c7"
          ]
        },
        "outputId": "3c7bcc64-9e20-46fd-c9ea-104e25426ac5"
      },
      "source": [
        "X_train = X_train.progress_apply(add_word_pos_template)\n",
        "X_test = X_test.progress_apply(add_word_pos_template)"
      ],
      "execution_count": 34,
      "outputs": [
        {
          "output_type": "display_data",
          "data": {
            "application/vnd.jupyter.widget-view+json": {
              "model_id": "09c77bdb182e4381a3ff05b0bcf7634a",
              "version_minor": 0,
              "version_major": 2
            },
            "text/plain": [
              "HBox(children=(FloatProgress(value=0.0, max=569.0), HTML(value='')))"
            ]
          },
          "metadata": {
            "tags": []
          }
        },
        {
          "output_type": "stream",
          "text": [
            "\n"
          ],
          "name": "stdout"
        },
        {
          "output_type": "display_data",
          "data": {
            "application/vnd.jupyter.widget-view+json": {
              "model_id": "1f5bba42c7144d49953d42979a771107",
              "version_minor": 0,
              "version_major": 2
            },
            "text/plain": [
              "HBox(children=(FloatProgress(value=0.0, max=101.0), HTML(value='')))"
            ]
          },
          "metadata": {
            "tags": []
          }
        },
        {
          "output_type": "stream",
          "text": [
            "\n"
          ],
          "name": "stdout"
        }
      ]
    },
    {
      "cell_type": "markdown",
      "metadata": {
        "id": "KErwtz1PJOTr",
        "colab_type": "text"
      },
      "source": [
        "#### Input Samples"
      ]
    },
    {
      "cell_type": "code",
      "metadata": {
        "id": "O5DGe3hxI6Vc",
        "colab_type": "code",
        "colab": {
          "base_uri": "https://localhost:8080/",
          "height": 122
        },
        "outputId": "1d381d7d-437a-481e-9222-b4d2317f343b"
      },
      "source": [
        "get_input_samples(X_train, y_train)"
      ],
      "execution_count": 35,
      "outputs": [
        {
          "output_type": "execute_result",
          "data": {
            "text/plain": [
              "[\"word_pos#she_PRP word_pos#/_SYM word_pos#love_NN word_pos#chocolate_NN word_pos#love_NN word_pos#she_PRP word_pos#loves_VBZ word_pos#chocolate_NN word_pos#._. --> ['verb(s/es)'] \",\n",
              " \"word_pos#what_WP word_pos#/_NFP word_pos#that_DT word_pos#noise_NN word_pos#/_, word_pos#be_VB word_pos#?_. word_pos#be_VB word_pos#what_WP word_pos#was_VBD word_pos#that_DT word_pos#noise_NN word_pos#?_. --> ['verb be'] \",\n",
              " \"word_pos#__NNP word_pos#tomorrow_NN word_pos#?_. word_pos#they_PRP word_pos#come_VBP word_pos#will_MD word_pos#they_PRP word_pos#come_VB word_pos#tomorrow_NN word_pos#?_. --> ['will + first form of verb'] \",\n",
              " \"word_pos#where_WRB word_pos#/_NFP word_pos#we_PRP word_pos#?_. word_pos#be_VB word_pos# __SP word_pos#where_WRB word_pos#are_VBP word_pos#we_PRP word_pos#?_. --> ['verb be'] \",\n",
              " \"word_pos#she_PRP word_pos#/_SYM word_pos#eat_VB word_pos#chocolate_NN word_pos#eat_VB word_pos#she_PRP word_pos#'s_VBZ word_pos#eating_VBG word_pos#chocolate_NN word_pos#._. --> ['verb+ing'] \"]"
            ]
          },
          "metadata": {
            "tags": []
          },
          "execution_count": 35
        }
      ]
    },
    {
      "cell_type": "markdown",
      "metadata": {
        "id": "-kawDDdRKOQI",
        "colab_type": "text"
      },
      "source": [
        "#### Experimentation Results"
      ]
    },
    {
      "cell_type": "code",
      "metadata": {
        "id": "k_EqYz4JfepB",
        "colab_type": "code",
        "colab": {
          "base_uri": "https://localhost:8080/",
          "height": 193
        },
        "outputId": "5ae1737e-15a3-4dfe-b85d-b1c5a28a4ce4"
      },
      "source": [
        "result = check_classification(X_train, y_train, X_test, y_test)\n",
        "results.append((experiment_text, result))\n",
        "result"
      ],
      "execution_count": 36,
      "outputs": [
        {
          "output_type": "stream",
          "text": [
            "\n",
            "\n",
            "Best F1 Measure was: 0.9604 with the Model: CountVectorizer -> RandomForest\n"
          ],
          "name": "stdout"
        },
        {
          "output_type": "execute_result",
          "data": {
            "text/html": [
              "<div>\n",
              "<style scoped>\n",
              "    .dataframe tbody tr th:only-of-type {\n",
              "        vertical-align: middle;\n",
              "    }\n",
              "\n",
              "    .dataframe tbody tr th {\n",
              "        vertical-align: top;\n",
              "    }\n",
              "\n",
              "    .dataframe thead th {\n",
              "        text-align: right;\n",
              "    }\n",
              "</style>\n",
              "<table border=\"1\" class=\"dataframe\">\n",
              "  <thead>\n",
              "    <tr style=\"text-align: right;\">\n",
              "      <th></th>\n",
              "      <th>MultiNomial Naive Bais</th>\n",
              "      <th>LogisticRegression</th>\n",
              "      <th>SVM</th>\n",
              "      <th>RandomForest</th>\n",
              "      <th>XGBClassifier</th>\n",
              "    </tr>\n",
              "    <tr>\n",
              "      <th>Vectorizer</th>\n",
              "      <th></th>\n",
              "      <th></th>\n",
              "      <th></th>\n",
              "      <th></th>\n",
              "      <th></th>\n",
              "    </tr>\n",
              "  </thead>\n",
              "  <tbody>\n",
              "    <tr>\n",
              "      <th>CountVectorizer</th>\n",
              "      <td>0.7228</td>\n",
              "      <td>0.8614</td>\n",
              "      <td>0.7525</td>\n",
              "      <td>0.9604</td>\n",
              "      <td>0.9406</td>\n",
              "    </tr>\n",
              "    <tr>\n",
              "      <th>TfIdFVectorize</th>\n",
              "      <td>0.6733</td>\n",
              "      <td>0.7327</td>\n",
              "      <td>0.7129</td>\n",
              "      <td>0.9208</td>\n",
              "      <td>0.8812</td>\n",
              "    </tr>\n",
              "  </tbody>\n",
              "</table>\n",
              "</div>"
            ],
            "text/plain": [
              "                MultiNomial Naive Bais  ... XGBClassifier\n",
              "Vectorizer                              ...              \n",
              "CountVectorizer                 0.7228  ...        0.9406\n",
              "TfIdFVectorize                  0.6733  ...        0.8812\n",
              "\n",
              "[2 rows x 5 columns]"
            ]
          },
          "metadata": {
            "tags": []
          },
          "execution_count": 36
        }
      ]
    },
    {
      "cell_type": "markdown",
      "metadata": {
        "colab_type": "text",
        "id": "2KY2MlWZtMYe"
      },
      "source": [
        "### Experiment 3: pos#\\$\\{$pos_i$\\} \n",
        "With just POS"
      ]
    },
    {
      "cell_type": "code",
      "metadata": {
        "colab_type": "code",
        "id": "lpVu3ByktMYg",
        "colab": {}
      },
      "source": [
        "experiment_text = \"Classifying based on POS tags pos#{pos_i}\""
      ],
      "execution_count": 0,
      "outputs": []
    },
    {
      "cell_type": "markdown",
      "metadata": {
        "colab_type": "text",
        "id": "1nO2vGv9tMYk"
      },
      "source": [
        "#### Preprocessing"
      ]
    },
    {
      "cell_type": "code",
      "metadata": {
        "colab_type": "code",
        "id": "KXVoEmu2tMYl",
        "colab": {}
      },
      "source": [
        "X_train = X_train_orig_dataset[\"Question\"] + \" \" + X_train_orig_dataset[\"key\"] + \" \" + X_train_orig_dataset[\"answer\"]\n",
        "y_train = y_train_orig_dataset\n",
        "X_test = X_test_orig_dataset[\"Question\"] + \" \" + X_test_orig_dataset[\"key\"] + \" \" + X_test_orig_dataset[\"answer\"]\n",
        "y_test = y_test_orig_dataset"
      ],
      "execution_count": 0,
      "outputs": []
    },
    {
      "cell_type": "code",
      "metadata": {
        "colab_type": "code",
        "outputId": "77763fe1-6dc1-4cee-81b4-9c3517c1d906",
        "id": "BdNGUFWctMYp",
        "colab": {
          "base_uri": "https://localhost:8080/",
          "height": 34
        }
      },
      "source": [
        "def add_pos_template(text):\n",
        "    tokens = nlp(text)\n",
        "    text = []\n",
        "    for token in tokens:\n",
        "        text.append(\"pos#{}\".format(token.tag_))\n",
        "\n",
        "    return \" \".join(text)\n",
        "\n",
        "# Testing method\n",
        "test_sentence = \"Testing the Pos Tagger in this sentence let's see how it works!\".lower()\n",
        "add_pos_template(test_sentence)"
      ],
      "execution_count": 39,
      "outputs": [
        {
          "output_type": "execute_result",
          "data": {
            "text/plain": [
              "'pos#VBG pos#DT pos#NN pos#NN pos#IN pos#DT pos#NN pos#VB pos#PRP pos#VB pos#WRB pos#PRP pos#VBZ pos#.'"
            ]
          },
          "metadata": {
            "tags": []
          },
          "execution_count": 39
        }
      ]
    },
    {
      "cell_type": "code",
      "metadata": {
        "colab_type": "code",
        "outputId": "bc9af44b-cfe3-4f46-8305-6702d6b630e0",
        "id": "CXhwEEjXtMYs",
        "colab": {
          "base_uri": "https://localhost:8080/",
          "height": 115,
          "referenced_widgets": [
            "e24cfcd2f34e44c790b7c8b5759f1f13",
            "a5d46a7c960a49ecbe903f327e708371",
            "b12a587698b74aa6be1df6febccb5e90",
            "14352eaa7a904f6392947548aa37514c",
            "0cf173a276e64e33be7f6c72d65ef469",
            "197413663feb40eb81aebb9211ed7867",
            "854b7a561d7c4487beb957367dfeffd2",
            "e02ec4654f85417b8fdd70b2fd318624",
            "3e533fa407524015bacc1bbbc16d6e25",
            "9ff98205761d4300a36ed59d6096d6b8",
            "94643319d7b84546a970a5eb9909a85a",
            "0cd52f1c80b0477984c84a772c563b06",
            "286c769ab20b41efa67b930ce32cacd7",
            "b4d4fbbb6e944e0f8176247f9d053672",
            "2a05dbc9c001419b9787cd60a7df9445",
            "27e416fab08c46a2af7eef70fb4fc82a"
          ]
        }
      },
      "source": [
        "X_train = X_train.progress_apply(add_pos_template)\n",
        "X_test = X_test.progress_apply(add_pos_template)"
      ],
      "execution_count": 40,
      "outputs": [
        {
          "output_type": "display_data",
          "data": {
            "application/vnd.jupyter.widget-view+json": {
              "model_id": "e24cfcd2f34e44c790b7c8b5759f1f13",
              "version_minor": 0,
              "version_major": 2
            },
            "text/plain": [
              "HBox(children=(FloatProgress(value=0.0, max=569.0), HTML(value='')))"
            ]
          },
          "metadata": {
            "tags": []
          }
        },
        {
          "output_type": "stream",
          "text": [
            "\n"
          ],
          "name": "stdout"
        },
        {
          "output_type": "display_data",
          "data": {
            "application/vnd.jupyter.widget-view+json": {
              "model_id": "3e533fa407524015bacc1bbbc16d6e25",
              "version_minor": 0,
              "version_major": 2
            },
            "text/plain": [
              "HBox(children=(FloatProgress(value=0.0, max=101.0), HTML(value='')))"
            ]
          },
          "metadata": {
            "tags": []
          }
        },
        {
          "output_type": "stream",
          "text": [
            "\n"
          ],
          "name": "stdout"
        }
      ]
    },
    {
      "cell_type": "markdown",
      "metadata": {
        "colab_type": "text",
        "id": "tyRetxC-tMYv"
      },
      "source": [
        "#### Input Samples"
      ]
    },
    {
      "cell_type": "code",
      "metadata": {
        "colab_type": "code",
        "outputId": "110ca8b0-5e78-42f5-a33e-afc67fd5a957",
        "id": "-7gTZDMQtMYv",
        "colab": {
          "base_uri": "https://localhost:8080/",
          "height": 122
        }
      },
      "source": [
        "get_input_samples(X_train, y_train)"
      ],
      "execution_count": 41,
      "outputs": [
        {
          "output_type": "execute_result",
          "data": {
            "text/plain": [
              "[\"pos#WP pos#NNP pos#IN pos#DT pos#NN pos#IN pos#DT pos#NN pos#. pos#PRP pos#VBP pos#WP pos#MD pos#PRP pos#VB pos#VBN pos#IN pos#DT pos#NN pos#IN pos#DT pos#NN pos#. --> ['will have verb+3rd form'] \",\n",
              " \"pos#PRP pos#: pos#RB pos#SYM pos#UH pos#NN pos#RB pos#PRP pos#VBP pos#RB pos#VB pos#NN pos#. --> ['do/does'] \",\n",
              " \"pos#WP pos#NFP pos#DT pos#NN pos#, pos#VB pos#. pos#VB pos#WP pos#VBD pos#DT pos#NN pos#. --> ['verb be'] \",\n",
              " \"pos#WDT pos#NN pos#NNP pos#NN pos#. pos#DT pos#NN pos#VBD pos#WP pos#NN pos#MD pos#DT pos#NN pos#VB pos#NN pos#. --> ['will + first form of verb'] \",\n",
              " \"pos#PRP pos#NNP pos#IN pos#DT pos#NN pos#TO pos#VB pos#IN pos#DT pos#NN pos#. pos#VB pos#PRP pos#VBD pos#IN pos#DT pos#NN pos#TO pos#VB pos#IN pos#DT pos#NN pos#. --> ['irregular verb'] \"]"
            ]
          },
          "metadata": {
            "tags": []
          },
          "execution_count": 41
        }
      ]
    },
    {
      "cell_type": "markdown",
      "metadata": {
        "colab_type": "text",
        "id": "NSleubKztMYx"
      },
      "source": [
        "#### Experimentation Results"
      ]
    },
    {
      "cell_type": "code",
      "metadata": {
        "colab_type": "code",
        "outputId": "6ce10783-9870-4be1-eb1e-cf8199ca595d",
        "id": "71W_sXKwtMYy",
        "colab": {
          "base_uri": "https://localhost:8080/",
          "height": 193
        }
      },
      "source": [
        "result = check_classification(X_train, y_train, X_test, y_test)\n",
        "results.append((experiment_text, result))\n",
        "result"
      ],
      "execution_count": 42,
      "outputs": [
        {
          "output_type": "stream",
          "text": [
            "\n",
            "\n",
            "Best F1 Measure was: 0.9307 with the Model: CountVectorizer -> RandomForest\n"
          ],
          "name": "stdout"
        },
        {
          "output_type": "execute_result",
          "data": {
            "text/html": [
              "<div>\n",
              "<style scoped>\n",
              "    .dataframe tbody tr th:only-of-type {\n",
              "        vertical-align: middle;\n",
              "    }\n",
              "\n",
              "    .dataframe tbody tr th {\n",
              "        vertical-align: top;\n",
              "    }\n",
              "\n",
              "    .dataframe thead th {\n",
              "        text-align: right;\n",
              "    }\n",
              "</style>\n",
              "<table border=\"1\" class=\"dataframe\">\n",
              "  <thead>\n",
              "    <tr style=\"text-align: right;\">\n",
              "      <th></th>\n",
              "      <th>MultiNomial Naive Bais</th>\n",
              "      <th>LogisticRegression</th>\n",
              "      <th>SVM</th>\n",
              "      <th>RandomForest</th>\n",
              "      <th>XGBClassifier</th>\n",
              "    </tr>\n",
              "    <tr>\n",
              "      <th>Vectorizer</th>\n",
              "      <th></th>\n",
              "      <th></th>\n",
              "      <th></th>\n",
              "      <th></th>\n",
              "      <th></th>\n",
              "    </tr>\n",
              "  </thead>\n",
              "  <tbody>\n",
              "    <tr>\n",
              "      <th>CountVectorizer</th>\n",
              "      <td>0.6238</td>\n",
              "      <td>0.8218</td>\n",
              "      <td>0.7624</td>\n",
              "      <td>0.9307</td>\n",
              "      <td>0.8713</td>\n",
              "    </tr>\n",
              "    <tr>\n",
              "      <th>TfIdFVectorize</th>\n",
              "      <td>0.6634</td>\n",
              "      <td>0.6832</td>\n",
              "      <td>0.7129</td>\n",
              "      <td>0.8713</td>\n",
              "      <td>0.7822</td>\n",
              "    </tr>\n",
              "  </tbody>\n",
              "</table>\n",
              "</div>"
            ],
            "text/plain": [
              "                MultiNomial Naive Bais  ... XGBClassifier\n",
              "Vectorizer                              ...              \n",
              "CountVectorizer                 0.6238  ...        0.8713\n",
              "TfIdFVectorize                  0.6634  ...        0.7822\n",
              "\n",
              "[2 rows x 5 columns]"
            ]
          },
          "metadata": {
            "tags": []
          },
          "execution_count": 42
        }
      ]
    },
    {
      "cell_type": "markdown",
      "metadata": {
        "id": "Vy8gC2iBlXBk",
        "colab_type": "text"
      },
      "source": [
        "### Experiment 4: word\\_tag#\\${$word_i$}_\\${$( q, k, a )$}\n",
        "With Question, Key, Answer Tagging"
      ]
    },
    {
      "cell_type": "code",
      "metadata": {
        "id": "J-UWTv7elEtb",
        "colab_type": "code",
        "colab": {}
      },
      "source": [
        "experiment_text = \"Tagging word with q, k, a example: word_tag#{word_i}_{q/k/a}\""
      ],
      "execution_count": 0,
      "outputs": []
    },
    {
      "cell_type": "markdown",
      "metadata": {
        "id": "-f1efJSLKSZD",
        "colab_type": "text"
      },
      "source": [
        "#### Preprocessing"
      ]
    },
    {
      "cell_type": "code",
      "metadata": {
        "id": "opByrn1GllLF",
        "colab_type": "code",
        "colab": {
          "base_uri": "https://localhost:8080/",
          "height": 34
        },
        "outputId": "49bf8f0c-d9b3-4d4c-fe39-3dac6eab0574"
      },
      "source": [
        "def add_word_tag_template(text, tag):\n",
        "    tokens = nlp(text)\n",
        "    text = []\n",
        "    for token in tokens:\n",
        "        text.append(\"word_tag#{}_{}\".format(token.text, tag))\n",
        "    \n",
        "    return \" \".join(text)\n",
        "\n",
        "add_word_tag_template(\"test sentence\", \"q\")"
      ],
      "execution_count": 44,
      "outputs": [
        {
          "output_type": "execute_result",
          "data": {
            "text/plain": [
              "'word_tag#test_q word_tag#sentence_q'"
            ]
          },
          "metadata": {
            "tags": []
          },
          "execution_count": 44
        }
      ]
    },
    {
      "cell_type": "code",
      "metadata": {
        "id": "TeZ3ae6Vfkcb",
        "colab_type": "code",
        "colab": {}
      },
      "source": [
        "X_train = X_train_orig_dataset[\"Question\"].apply(lambda x: add_word_tag_template(x, \"q\")) + \" \" + X_train_orig_dataset[\"key\"].apply(lambda x: add_word_tag_template(x, \"k\")) + \" \" + X_train_orig_dataset[\"answer\"].apply(lambda x: add_word_tag_template(x, \"a\"))\n",
        "y_train = y_train_orig_dataset\n",
        "X_test = X_test_orig_dataset[\"Question\"].apply(lambda x: add_word_tag_template(x, \"q\")) + \" \" + X_test_orig_dataset[\"key\"].apply(lambda x: add_word_tag_template(x, \"k\")) + \" \" + X_test_orig_dataset[\"answer\"].apply(lambda x: add_word_tag_template(x, \"a\"))\n",
        "y_test = y_test_orig_dataset"
      ],
      "execution_count": 0,
      "outputs": []
    },
    {
      "cell_type": "markdown",
      "metadata": {
        "id": "a12Pz769Ke3E",
        "colab_type": "text"
      },
      "source": [
        "#### Input Samples"
      ]
    },
    {
      "cell_type": "code",
      "metadata": {
        "id": "c1W-bvyAqDuS",
        "colab_type": "code",
        "colab": {
          "base_uri": "https://localhost:8080/",
          "height": 122
        },
        "outputId": "15475221-76f1-492a-e618-5c3411664bd9"
      },
      "source": [
        "get_input_samples(X_train, y_train)"
      ],
      "execution_count": 46,
      "outputs": [
        {
          "output_type": "execute_result",
          "data": {
            "text/plain": [
              "[\"word_tag#mrs_q word_tag#._q word_tag#brown_q word_tag#/_q word_tag#not_q word_tag#/_q word_tag#walk_q word_tag#in_q word_tag#the_q word_tag#garden_q word_tag#when_q word_tag#the_q word_tag#murder_q word_tag#happened_q word_tag#not_k word_tag#walk_k word_tag#mrs_a word_tag#._a word_tag#brown_a word_tag#was_a word_tag#n't_a word_tag#walking_a word_tag#in_a word_tag#the_a word_tag#garden_a word_tag#._a --> ['verb+ing'] \",\n",
              " \"word_tag#she_q word_tag#told_q word_tag#me_q word_tag#that_q word_tag#she_q word_tag#__q word_tag#a_q word_tag#lot_q word_tag#before_q word_tag#the_q word_tag#exam_q word_tag#._q word_tag#study_k word_tag#she_a word_tag#told_a word_tag#me_a word_tag#that_a word_tag#she_a word_tag#had_a word_tag#studied_a word_tag#a_a word_tag#lot_a word_tag#before_a word_tag#the_a word_tag#exam_a word_tag#._a --> ['3rd form of verb'] \",\n",
              " \"word_tag#lucy_q word_tag#/_q word_tag#not_q word_tag#/_q word_tag#do_q word_tag#/_q word_tag#her_q word_tag#homework_q word_tag#not_k word_tag#do_k word_tag#lucy_a word_tag#has_a word_tag#n't_a word_tag#done_a word_tag#her_a word_tag#homework_a word_tag#._a --> ['3rd form of verb'] \",\n",
              " \"word_tag#she_q word_tag#said_q word_tag#that_q word_tag#she_q word_tag#__q word_tag#the_q word_tag#uk_q word_tag#before_q word_tag#._q word_tag#not_k word_tag#visit_k word_tag#she_a word_tag#said_a word_tag#that_a word_tag#she_a word_tag#had_a word_tag#n't_a word_tag#visited_a word_tag#the_a word_tag#uk_a word_tag#before_a word_tag#._a --> ['3rd form of verb'] \",\n",
              " \"word_tag#john_q word_tag#and_q word_tag#david_q word_tag#/_q word_tag#often_q word_tag#go_q word_tag#to_q word_tag#restaurants_q word_tag#often_k word_tag#john_a word_tag#and_a word_tag#david_a word_tag#often_a word_tag#go_a word_tag#to_a word_tag#restaurants_a word_tag#._a --> ['verb(s/es)'] \"]"
            ]
          },
          "metadata": {
            "tags": []
          },
          "execution_count": 46
        }
      ]
    },
    {
      "cell_type": "markdown",
      "metadata": {
        "id": "q1EGs5cJKib5",
        "colab_type": "text"
      },
      "source": [
        "#### Experimentation Results"
      ]
    },
    {
      "cell_type": "code",
      "metadata": {
        "id": "w6ej2sPJnqeg",
        "colab_type": "code",
        "colab": {
          "base_uri": "https://localhost:8080/",
          "height": 193
        },
        "outputId": "a497b20d-65a2-49dc-c9ef-2e844afb6327"
      },
      "source": [
        "result = check_classification(X_train, y_train, X_test, y_test)\n",
        "results.append((experiment_text, result))\n",
        "result"
      ],
      "execution_count": 47,
      "outputs": [
        {
          "output_type": "stream",
          "text": [
            "\n",
            "\n",
            "Best F1 Measure was: 0.9802 with the Model: CountVectorizer -> XGBClassifier\n"
          ],
          "name": "stdout"
        },
        {
          "output_type": "execute_result",
          "data": {
            "text/html": [
              "<div>\n",
              "<style scoped>\n",
              "    .dataframe tbody tr th:only-of-type {\n",
              "        vertical-align: middle;\n",
              "    }\n",
              "\n",
              "    .dataframe tbody tr th {\n",
              "        vertical-align: top;\n",
              "    }\n",
              "\n",
              "    .dataframe thead th {\n",
              "        text-align: right;\n",
              "    }\n",
              "</style>\n",
              "<table border=\"1\" class=\"dataframe\">\n",
              "  <thead>\n",
              "    <tr style=\"text-align: right;\">\n",
              "      <th></th>\n",
              "      <th>MultiNomial Naive Bais</th>\n",
              "      <th>LogisticRegression</th>\n",
              "      <th>SVM</th>\n",
              "      <th>RandomForest</th>\n",
              "      <th>XGBClassifier</th>\n",
              "    </tr>\n",
              "    <tr>\n",
              "      <th>Vectorizer</th>\n",
              "      <th></th>\n",
              "      <th></th>\n",
              "      <th></th>\n",
              "      <th></th>\n",
              "      <th></th>\n",
              "    </tr>\n",
              "  </thead>\n",
              "  <tbody>\n",
              "    <tr>\n",
              "      <th>CountVectorizer</th>\n",
              "      <td>0.8119</td>\n",
              "      <td>0.9505</td>\n",
              "      <td>0.8812</td>\n",
              "      <td>0.9604</td>\n",
              "      <td>0.9802</td>\n",
              "    </tr>\n",
              "    <tr>\n",
              "      <th>TfIdFVectorize</th>\n",
              "      <td>0.7525</td>\n",
              "      <td>0.8713</td>\n",
              "      <td>0.8317</td>\n",
              "      <td>0.9010</td>\n",
              "      <td>0.9505</td>\n",
              "    </tr>\n",
              "  </tbody>\n",
              "</table>\n",
              "</div>"
            ],
            "text/plain": [
              "                MultiNomial Naive Bais  ... XGBClassifier\n",
              "Vectorizer                              ...              \n",
              "CountVectorizer                 0.8119  ...        0.9802\n",
              "TfIdFVectorize                  0.7525  ...        0.9505\n",
              "\n",
              "[2 rows x 5 columns]"
            ]
          },
          "metadata": {
            "tags": []
          },
          "execution_count": 47
        }
      ]
    },
    {
      "cell_type": "markdown",
      "metadata": {
        "id": "vDU5XC8Dor12",
        "colab_type": "text"
      },
      "source": [
        "### Experiment 5: word_pos_tag#\\${$word_i$}_\\${$pos_i$}_{(q, k, a)}\n",
        "POS Tagger with q,k,a tagging"
      ]
    },
    {
      "cell_type": "code",
      "metadata": {
        "id": "VFncx2V6lY89",
        "colab_type": "code",
        "colab": {}
      },
      "source": [
        "experiment_text = \"Adding POS Tagging and qka tagging example: word_pos_tag#{word_i}_{pos_i}_{(q, k, a)}\""
      ],
      "execution_count": 0,
      "outputs": []
    },
    {
      "cell_type": "markdown",
      "metadata": {
        "id": "rmGrSYUcPaIu",
        "colab_type": "text"
      },
      "source": [
        "#### Preprocessing"
      ]
    },
    {
      "cell_type": "code",
      "metadata": {
        "id": "Jjmq0Mgknvas",
        "colab_type": "code",
        "colab": {
          "base_uri": "https://localhost:8080/",
          "height": 34
        },
        "outputId": "adfde099-bb1d-466a-83c3-bbe4143e7be9"
      },
      "source": [
        "def add_word_pos_tag_template(text, tag):\n",
        "    tokens = nlp(text)\n",
        "    text = []\n",
        "    for token in tokens:\n",
        "        text.append(\"word_pos_tag#{}_{}_{}\".format(token.text, token.tag_, tag))\n",
        "\n",
        "    return \" \".join(text)\n",
        "\n",
        "add_word_pos_tag_template(\"this is test example\", \"a\")"
      ],
      "execution_count": 49,
      "outputs": [
        {
          "output_type": "execute_result",
          "data": {
            "text/plain": [
              "'word_pos_tag#this_DT_a word_pos_tag#is_VBZ_a word_pos_tag#test_NN_a word_pos_tag#example_NN_a'"
            ]
          },
          "metadata": {
            "tags": []
          },
          "execution_count": 49
        }
      ]
    },
    {
      "cell_type": "code",
      "metadata": {
        "id": "rbh5RGT3qgdz",
        "colab_type": "code",
        "colab": {}
      },
      "source": [
        "X_train = X_train_orig_dataset[\"Question\"].apply(lambda x: add_word_pos_tag_template(x, \"q\")) + \" \" + X_train_orig_dataset[\"key\"].apply(lambda x: add_word_pos_tag_template(x, \"k\")) + \" \" + X_train_orig_dataset[\"answer\"].apply(lambda x: add_word_pos_tag_template(x, \"a\"))\n",
        "y_train = y_train_orig_dataset\n",
        "X_test = X_test_orig_dataset[\"Question\"].apply(lambda x: add_word_pos_tag_template(x, \"q\")) + \" \" + X_test_orig_dataset[\"key\"].apply(lambda x: add_word_pos_tag_template(x, \"k\")) + \" \" + X_test_orig_dataset[\"answer\"].apply(lambda x: add_word_pos_tag_template(x, \"a\"))\n",
        "y_test = y_test_orig_dataset"
      ],
      "execution_count": 0,
      "outputs": []
    },
    {
      "cell_type": "markdown",
      "metadata": {
        "id": "OBc_wsYPPcYa",
        "colab_type": "text"
      },
      "source": [
        "#### Input Samples"
      ]
    },
    {
      "cell_type": "code",
      "metadata": {
        "id": "o9irVtr7Ph3F",
        "colab_type": "code",
        "colab": {
          "base_uri": "https://localhost:8080/",
          "height": 122
        },
        "outputId": "8c1f1016-5a5a-441b-d08d-f3237cc5b1c2"
      },
      "source": [
        "get_input_samples(X_train, y_train)"
      ],
      "execution_count": 51,
      "outputs": [
        {
          "output_type": "execute_result",
          "data": {
            "text/plain": [
              "[\"word_pos_tag#we_PRP_q word_pos_tag#/_:_q word_pos_tag#not_RB_q word_pos_tag#/_SYM_q word_pos_tag#watch_VB_q word_pos_tag#tv_NN_q word_pos_tag#at_IN_q word_pos_tag#the_DT_q word_pos_tag#moment_NN_q word_pos_tag#not_RB_k word_pos_tag#watch_VB_k word_pos_tag#we_PRP_a word_pos_tag#are_VBP_a word_pos_tag#n't_RB_a word_pos_tag#watching_VBG_a word_pos_tag#tv_NN_a word_pos_tag#at_IN_a word_pos_tag#the_DT_a word_pos_tag#moment_NN_a word_pos_tag#._._a --> ['verb+ing'] \",\n",
              " \"word_pos_tag#they_PRP_q word_pos_tag#/_:_q word_pos_tag#not_RB_q word_pos_tag#/_SYM_q word_pos_tag#have_VB_q word_pos_tag#a_DT_q word_pos_tag#car_NN_q word_pos_tag#not_RB_k word_pos_tag#they_PRP_a word_pos_tag#do_VBP_a word_pos_tag#n't_RB_a word_pos_tag#have_VB_a word_pos_tag#a_DT_a word_pos_tag#car_NN_a word_pos_tag#._._a --> ['do/does'] \",\n",
              " \"word_pos_tag#john_NNP_q word_pos_tag#/_SYM_q word_pos_tag#come_VBN_q word_pos_tag#from_IN_q word_pos_tag#new_NNP_q word_pos_tag#zealand_NNP_q word_pos_tag#?_._q word_pos_tag#come_VB_k word_pos_tag#does_VBZ_a word_pos_tag#john_NNP_a word_pos_tag#come_VB_a word_pos_tag#from_IN_a word_pos_tag#new_NNP_a word_pos_tag#zealand_NNP_a word_pos_tag#?_._a --> ['do/does'] \",\n",
              " \"word_pos_tag#the_DT_q word_pos_tag#house_NNP_q word_pos_tag#has_VBZ_q word_pos_tag#been_VBN_q word_pos_tag#__NNP_q word_pos_tag#._._q word_pos_tag#sell_VB_k word_pos_tag#the_DT_a word_pos_tag#house_NNP_a word_pos_tag#has_VBZ_a word_pos_tag#been_VBN_a word_pos_tag#sold_VBN_a word_pos_tag#._._a --> ['irregular verb'] \",\n",
              " \"word_pos_tag#mr_NNP_q word_pos_tag#._NNP_q word_pos_tag#blue_NNP_q word_pos_tag#/_,_q word_pos_tag#not_RB_q word_pos_tag#/_SYM_q word_pos_tag#drink_VB_q word_pos_tag#coffee_NN_q word_pos_tag#in_IN_q word_pos_tag#the_DT_q word_pos_tag#library_NN_q word_pos_tag#when_WRB_q word_pos_tag#the_DT_q word_pos_tag#murder_NN_q word_pos_tag#happened_VBD_q word_pos_tag#not_RB_k word_pos_tag#drink_VB_k word_pos_tag#mr_NNP_a word_pos_tag#._NNP_a word_pos_tag#blue_NNP_a word_pos_tag#was_VBD_a word_pos_tag#n't_RB_a word_pos_tag#drinking_VBG_a word_pos_tag#coffee_NN_a word_pos_tag#in_IN_a word_pos_tag#the_DT_a word_pos_tag#library_NN_a word_pos_tag#._._a --> ['verb+ing'] \"]"
            ]
          },
          "metadata": {
            "tags": []
          },
          "execution_count": 51
        }
      ]
    },
    {
      "cell_type": "markdown",
      "metadata": {
        "id": "0iieMsmXPeGA",
        "colab_type": "text"
      },
      "source": [
        "#### Experimentation Results"
      ]
    },
    {
      "cell_type": "code",
      "metadata": {
        "id": "NOedaRu5qo9p",
        "colab_type": "code",
        "colab": {
          "base_uri": "https://localhost:8080/",
          "height": 193
        },
        "outputId": "351d1d2e-129b-4edf-d8b0-fe7f098f6d7b"
      },
      "source": [
        "result = check_classification(X_train, y_train, X_test, y_test)\n",
        "results.append((experiment_text, result))\n",
        "result"
      ],
      "execution_count": 52,
      "outputs": [
        {
          "output_type": "stream",
          "text": [
            "\n",
            "\n",
            "Best F1 Measure was: 0.9307 with the Model: CountVectorizer -> LogisticRegression\n"
          ],
          "name": "stdout"
        },
        {
          "output_type": "execute_result",
          "data": {
            "text/html": [
              "<div>\n",
              "<style scoped>\n",
              "    .dataframe tbody tr th:only-of-type {\n",
              "        vertical-align: middle;\n",
              "    }\n",
              "\n",
              "    .dataframe tbody tr th {\n",
              "        vertical-align: top;\n",
              "    }\n",
              "\n",
              "    .dataframe thead th {\n",
              "        text-align: right;\n",
              "    }\n",
              "</style>\n",
              "<table border=\"1\" class=\"dataframe\">\n",
              "  <thead>\n",
              "    <tr style=\"text-align: right;\">\n",
              "      <th></th>\n",
              "      <th>MultiNomial Naive Bais</th>\n",
              "      <th>LogisticRegression</th>\n",
              "      <th>SVM</th>\n",
              "      <th>RandomForest</th>\n",
              "      <th>XGBClassifier</th>\n",
              "    </tr>\n",
              "    <tr>\n",
              "      <th>Vectorizer</th>\n",
              "      <th></th>\n",
              "      <th></th>\n",
              "      <th></th>\n",
              "      <th></th>\n",
              "      <th></th>\n",
              "    </tr>\n",
              "  </thead>\n",
              "  <tbody>\n",
              "    <tr>\n",
              "      <th>CountVectorizer</th>\n",
              "      <td>0.8119</td>\n",
              "      <td>0.9307</td>\n",
              "      <td>0.8614</td>\n",
              "      <td>0.9109</td>\n",
              "      <td>0.9307</td>\n",
              "    </tr>\n",
              "    <tr>\n",
              "      <th>TfIdFVectorize</th>\n",
              "      <td>0.7822</td>\n",
              "      <td>0.8416</td>\n",
              "      <td>0.8218</td>\n",
              "      <td>0.8416</td>\n",
              "      <td>0.9307</td>\n",
              "    </tr>\n",
              "  </tbody>\n",
              "</table>\n",
              "</div>"
            ],
            "text/plain": [
              "                MultiNomial Naive Bais  ... XGBClassifier\n",
              "Vectorizer                              ...              \n",
              "CountVectorizer                 0.8119  ...        0.9307\n",
              "TfIdFVectorize                  0.7822  ...        0.9307\n",
              "\n",
              "[2 rows x 5 columns]"
            ]
          },
          "metadata": {
            "tags": []
          },
          "execution_count": 52
        }
      ]
    },
    {
      "cell_type": "markdown",
      "metadata": {
        "colab_type": "text",
        "id": "nShtYSvors-t"
      },
      "source": [
        "### Experiment 6: word#{$word_i$} word_pos_tag#\\${$word_i$}_\\${$pos_i$}_{(q, k, a)}"
      ]
    },
    {
      "cell_type": "code",
      "metadata": {
        "colab_type": "code",
        "id": "lE6E87DUrs-2",
        "colab": {}
      },
      "source": [
        "experiment_text = \"Combining word and word_pos_tags\""
      ],
      "execution_count": 0,
      "outputs": []
    },
    {
      "cell_type": "markdown",
      "metadata": {
        "colab_type": "text",
        "id": "gZb_vq0krs--"
      },
      "source": [
        "#### Preprocessing"
      ]
    },
    {
      "cell_type": "code",
      "metadata": {
        "colab_type": "code",
        "outputId": "fb0c00d8-bea6-4ec1-e729-1d81320764e8",
        "id": "5hdPuMjArs--",
        "colab": {
          "base_uri": "https://localhost:8080/",
          "height": 54
        }
      },
      "source": [
        "def add_word_and_word_pos_tag_template(text, tag):\n",
        "    tokens = nlp(text)\n",
        "    text = []\n",
        "    for token in tokens:\n",
        "        text.append(\"word#{} word_pos_tag##{}_{}_{}\".format(token.text, token.text, token.tag_, tag))\n",
        "\n",
        "    return \" \".join(text)\n",
        "\n",
        "add_word_and_word_pos_tag_template(\"This is a test sentence! We will see the difference between playing and played\", \"q\")"
      ],
      "execution_count": 54,
      "outputs": [
        {
          "output_type": "execute_result",
          "data": {
            "text/plain": [
              "'word#This word_pos_tag##This_DT_q word#is word_pos_tag##is_VBZ_q word#a word_pos_tag##a_DT_q word#test word_pos_tag##test_NN_q word#sentence word_pos_tag##sentence_NN_q word#! word_pos_tag##!_._q word#We word_pos_tag##We_PRP_q word#will word_pos_tag##will_MD_q word#see word_pos_tag##see_VB_q word#the word_pos_tag##the_DT_q word#difference word_pos_tag##difference_NN_q word#between word_pos_tag##between_IN_q word#playing word_pos_tag##playing_VBG_q word#and word_pos_tag##and_CC_q word#played word_pos_tag##played_VBD_q'"
            ]
          },
          "metadata": {
            "tags": []
          },
          "execution_count": 54
        }
      ]
    },
    {
      "cell_type": "code",
      "metadata": {
        "colab_type": "code",
        "id": "ZOvu4Kwgrs_C",
        "colab": {}
      },
      "source": [
        "X_train = X_train_orig_dataset[\"Question\"].apply(lambda x: add_word_and_word_pos_tag_template(x, \"q\")) + \" \" + X_train_orig_dataset[\"key\"].apply(lambda x: add_word_and_word_pos_tag_template(x, \"k\")) + \" \" + X_train_orig_dataset[\"answer\"].apply(lambda x: add_word_and_word_pos_tag_template(x, \"a\"))\n",
        "y_train = y_train_orig_dataset\n",
        "X_test = X_test_orig_dataset[\"Question\"].apply(lambda x: add_word_and_word_pos_tag_template(x, \"q\")) + \" \" + X_test_orig_dataset[\"key\"].apply(lambda x: add_word_and_word_pos_tag_template(x, \"k\")) + \" \" + X_test_orig_dataset[\"answer\"].apply(lambda x: add_word_and_word_pos_tag_template(x, \"a\"))\n",
        "y_test = y_test_orig_dataset"
      ],
      "execution_count": 0,
      "outputs": []
    },
    {
      "cell_type": "markdown",
      "metadata": {
        "colab_type": "text",
        "id": "saw9iWejrs_F"
      },
      "source": [
        "#### Input Samples"
      ]
    },
    {
      "cell_type": "code",
      "metadata": {
        "colab_type": "code",
        "outputId": "c43d641f-8a8f-485d-b020-c04801978b2f",
        "id": "4_WHZNtKrs_G",
        "colab": {
          "base_uri": "https://localhost:8080/",
          "height": 122
        }
      },
      "source": [
        "get_input_samples(X_train, y_train)"
      ],
      "execution_count": 56,
      "outputs": [
        {
          "output_type": "execute_result",
          "data": {
            "text/plain": [
              "[\"word#i word_pos_tag##i_PRP_q word#_ word_pos_tag##__NNP_q word#a word_pos_tag##a_DT_q word#new word_pos_tag##new_JJ_q word#song word_pos_tag##song_NN_q word#on word_pos_tag##on_IN_q word#the word_pos_tag##the_DT_q word#radio word_pos_tag##radio_NN_q word#. word_pos_tag##._._q word#  word_pos_tag## __SP_k word#hear word_pos_tag##hear_NNP_k word#  word_pos_tag## __SP_a word#i word_pos_tag##i_PRP_a word#heard word_pos_tag##heard_VBD_a word#a word_pos_tag##a_DT_a word#new word_pos_tag##new_JJ_a word#song word_pos_tag##song_NN_a word#on word_pos_tag##on_IN_a word#the word_pos_tag##the_DT_a word#radio word_pos_tag##radio_NN_a word#. word_pos_tag##._._a --> ['irregular verb'] \",\n",
              " \"word#i word_pos_tag##i_PRP_q word#'d word_pos_tag##'d_MD_q word#_ word_pos_tag##__NNP_q word#a word_pos_tag##a_DT_q word#lovely word_pos_tag##lovely_JJ_q word#new word_pos_tag##new_JJ_q word#bike word_pos_tag##bike_NN_q word#for word_pos_tag##for_IN_q word#my word_pos_tag##my_PRP$_q word#birthday word_pos_tag##birthday_NN_q word#, word_pos_tag##,_,_q word#so word_pos_tag##so_CC_q word#i word_pos_tag##i_PRP_q word#was word_pos_tag##was_VBD_q word#keen word_pos_tag##keen_JJ_q word#to word_pos_tag##to_TO_q word#try word_pos_tag##try_VB_q word#it word_pos_tag##it_PRP_q word#. word_pos_tag##._._q word#get word_pos_tag##get_VB_k word#i word_pos_tag##i_PRP_a word#'d word_pos_tag##'d_MD_a word#got word_pos_tag##got_VBN_a word#a word_pos_tag##a_DT_a word#lovely word_pos_tag##lovely_JJ_a word#new word_pos_tag##new_JJ_a word#bike word_pos_tag##bike_NN_a word#for word_pos_tag##for_IN_a word#my word_pos_tag##my_PRP$_a word#birthday word_pos_tag##birthday_NN_a word#, word_pos_tag##,_,_a word#so word_pos_tag##so_CC_a word#i word_pos_tag##i_PRP_a word#was word_pos_tag##was_VBD_a word#keen word_pos_tag##keen_JJ_a word#to word_pos_tag##to_TO_a word#try word_pos_tag##try_VB_a word#it word_pos_tag##it_PRP_a word#. word_pos_tag##._._a --> ['irregular verb'] \",\n",
              " \"word#why word_pos_tag##why_WRB_q word#have word_pos_tag##have_VBP_q word#you word_pos_tag##you_PRP_q word#_ word_pos_tag##__NNP_q word#up word_pos_tag##up_RP_q word#? word_pos_tag##?_._q word#are word_pos_tag##are_VBP_q word#we word_pos_tag##we_PRP_q word#leaving word_pos_tag##leaving_VBG_q word#? word_pos_tag##?_._q word#stand word_pos_tag##stand_VB_k word#why word_pos_tag##why_WRB_a word#have word_pos_tag##have_VBP_a word#you word_pos_tag##you_PRP_a word#stood word_pos_tag##stood_VBN_a word#up word_pos_tag##up_RP_a word#? word_pos_tag##?_._a word#are word_pos_tag##are_VBP_a word#we word_pos_tag##we_PRP_a word#leaving word_pos_tag##leaving_VBG_a word#? word_pos_tag##?_._a --> ['irregular verb'] \",\n",
              " \"word#he word_pos_tag##he_PRP_q word#had word_pos_tag##had_VBD_q word#_ word_pos_tag##__NNP_q word#6 word_pos_tag##6_CD_q word#miles word_pos_tag##miles_NNS_q word#when word_pos_tag##when_WRB_q word#he word_pos_tag##he_PRP_q word#hurt word_pos_tag##hurt_VBD_q word#his word_pos_tag##his_PRP$_q word#ankle word_pos_tag##ankle_NN_q word#. word_pos_tag##._._q word#run word_pos_tag##run_VB_k word#he word_pos_tag##he_PRP_a word#had word_pos_tag##had_VBD_a word#run word_pos_tag##run_VBN_a word#6 word_pos_tag##6_CD_a word#miles word_pos_tag##miles_NNS_a word#when word_pos_tag##when_WRB_a word#he word_pos_tag##he_PRP_a word#hurt word_pos_tag##hurt_VBD_a word#his word_pos_tag##his_PRP$_a word#ankle word_pos_tag##ankle_NN_a word#. word_pos_tag##._._a --> ['irregular verb'] \",\n",
              " \"word#you word_pos_tag##you_PRP_q word#_ word_pos_tag##__NNP_q word#a word_pos_tag##a_DT_q word#doctor word_pos_tag##doctor_NN_q word#. word_pos_tag##._._q word#be word_pos_tag##be_VB_k word#you word_pos_tag##you_PRP_a word#are word_pos_tag##are_VBP_a word#a word_pos_tag##a_DT_a word#doctor word_pos_tag##doctor_NN_a word#. word_pos_tag##._._a --> ['verb be'] \"]"
            ]
          },
          "metadata": {
            "tags": []
          },
          "execution_count": 56
        }
      ]
    },
    {
      "cell_type": "markdown",
      "metadata": {
        "colab_type": "text",
        "id": "PzyGBIYSrs_J"
      },
      "source": [
        "#### Experimentation Results"
      ]
    },
    {
      "cell_type": "code",
      "metadata": {
        "colab_type": "code",
        "outputId": "9d6fb75c-fe0b-4abd-e901-5f5670d0e932",
        "id": "vZNb5B2vrs_L",
        "colab": {
          "base_uri": "https://localhost:8080/",
          "height": 193
        }
      },
      "source": [
        "result = check_classification(X_train, y_train, X_test, y_test)\n",
        "results.append((experiment_text, result))\n",
        "result"
      ],
      "execution_count": 57,
      "outputs": [
        {
          "output_type": "stream",
          "text": [
            "\n",
            "\n",
            "Best F1 Measure was: 0.9901 with the Model: CountVectorizer -> RandomForest\n"
          ],
          "name": "stdout"
        },
        {
          "output_type": "execute_result",
          "data": {
            "text/html": [
              "<div>\n",
              "<style scoped>\n",
              "    .dataframe tbody tr th:only-of-type {\n",
              "        vertical-align: middle;\n",
              "    }\n",
              "\n",
              "    .dataframe tbody tr th {\n",
              "        vertical-align: top;\n",
              "    }\n",
              "\n",
              "    .dataframe thead th {\n",
              "        text-align: right;\n",
              "    }\n",
              "</style>\n",
              "<table border=\"1\" class=\"dataframe\">\n",
              "  <thead>\n",
              "    <tr style=\"text-align: right;\">\n",
              "      <th></th>\n",
              "      <th>MultiNomial Naive Bais</th>\n",
              "      <th>LogisticRegression</th>\n",
              "      <th>SVM</th>\n",
              "      <th>RandomForest</th>\n",
              "      <th>XGBClassifier</th>\n",
              "    </tr>\n",
              "    <tr>\n",
              "      <th>Vectorizer</th>\n",
              "      <th></th>\n",
              "      <th></th>\n",
              "      <th></th>\n",
              "      <th></th>\n",
              "      <th></th>\n",
              "    </tr>\n",
              "  </thead>\n",
              "  <tbody>\n",
              "    <tr>\n",
              "      <th>CountVectorizer</th>\n",
              "      <td>0.7525</td>\n",
              "      <td>0.9307</td>\n",
              "      <td>0.8416</td>\n",
              "      <td>0.9901</td>\n",
              "      <td>0.9703</td>\n",
              "    </tr>\n",
              "    <tr>\n",
              "      <th>TfIdFVectorize</th>\n",
              "      <td>0.7129</td>\n",
              "      <td>0.8020</td>\n",
              "      <td>0.7723</td>\n",
              "      <td>0.9307</td>\n",
              "      <td>0.9208</td>\n",
              "    </tr>\n",
              "  </tbody>\n",
              "</table>\n",
              "</div>"
            ],
            "text/plain": [
              "                MultiNomial Naive Bais  ... XGBClassifier\n",
              "Vectorizer                              ...              \n",
              "CountVectorizer                 0.7525  ...        0.9703\n",
              "TfIdFVectorize                  0.7129  ...        0.9208\n",
              "\n",
              "[2 rows x 5 columns]"
            ]
          },
          "metadata": {
            "tags": []
          },
          "execution_count": 57
        }
      ]
    },
    {
      "cell_type": "markdown",
      "metadata": {
        "colab_type": "text",
        "id": "dzzNZVRqa0pr"
      },
      "source": [
        "### Experiment 7: ngram#{$word_i$}_{$word_{i+1}$}"
      ]
    },
    {
      "cell_type": "code",
      "metadata": {
        "colab_type": "code",
        "id": "rDAhuemva0pt",
        "colab": {}
      },
      "source": [
        "experiment_text = \"Adding bigrams of words bigram#{word_i}_{word_i+1}\""
      ],
      "execution_count": 0,
      "outputs": []
    },
    {
      "cell_type": "markdown",
      "metadata": {
        "colab_type": "text",
        "id": "j0R36zrUa0pv"
      },
      "source": [
        "#### Preprocessing"
      ]
    },
    {
      "cell_type": "code",
      "metadata": {
        "colab_type": "code",
        "outputId": "e839c946-f8a1-4424-91fe-fe42234a6f95",
        "id": "reW8_HD_a0pw",
        "colab": {
          "base_uri": "https://localhost:8080/",
          "height": 54
        }
      },
      "source": [
        "def add_ngram_template(text, n=2):\n",
        "    tokens = ngrams(text, n)\n",
        "    text = []\n",
        "    for token in tokens:\n",
        "        text.append(\"ngram#{}\".format(\"_\".join(token)))\n",
        "\n",
        "    return \" \".join(text)\n",
        "\n",
        "add_ngram_template(\"This is a test sentence! We will see the difference between playing and played\")"
      ],
      "execution_count": 59,
      "outputs": [
        {
          "output_type": "execute_result",
          "data": {
            "text/plain": [
              "'ngram#This_is ngram#is_a ngram#a_test ngram#test_sentence ngram#sentence_! ngram#!_We ngram#We_will ngram#will_see ngram#see_the ngram#the_difference ngram#difference_between ngram#between_playing ngram#playing_and ngram#and_played'"
            ]
          },
          "metadata": {
            "tags": []
          },
          "execution_count": 59
        }
      ]
    },
    {
      "cell_type": "code",
      "metadata": {
        "colab_type": "code",
        "id": "JD6zyi8aa0py",
        "colab": {}
      },
      "source": [
        "X_train = X_train_orig_dataset[\"Question\"].apply(lambda x: add_ngram_template(x)) + \" \" + X_train_orig_dataset[\"key\"].apply(lambda x: add_ngram_template(x)) + \" \" + X_train_orig_dataset[\"answer\"].apply(lambda x: add_ngram_template(x))\n",
        "y_train = y_train_orig_dataset\n",
        "X_test = X_test_orig_dataset[\"Question\"].apply(lambda x: add_ngram_template(x)) + \" \" + X_test_orig_dataset[\"key\"].apply(lambda x: add_ngram_template(x)) + \" \" + X_test_orig_dataset[\"answer\"].apply(lambda x: add_ngram_template(x))\n",
        "y_test = y_test_orig_dataset"
      ],
      "execution_count": 0,
      "outputs": []
    },
    {
      "cell_type": "markdown",
      "metadata": {
        "colab_type": "text",
        "id": "PPJ4-6q9a0p0"
      },
      "source": [
        "#### Input Samples"
      ]
    },
    {
      "cell_type": "code",
      "metadata": {
        "colab_type": "code",
        "outputId": "1dcb1703-14b5-4372-fd27-2676361cc59a",
        "id": "HOtOGTg1a0p3",
        "colab": {
          "base_uri": "https://localhost:8080/",
          "height": 122
        }
      },
      "source": [
        "get_input_samples(X_train, y_train)"
      ],
      "execution_count": 61,
      "outputs": [
        {
          "output_type": "execute_result",
          "data": {
            "text/plain": [
              "[\"ngram#it__ ngram#__cold ngram#cold_last ngram#last_night ngram#night_. ngram#be ngram#it_was ngram#was_cold ngram#cold_last ngram#last_night ngram#night_. --> ['irregular verb'] \",\n",
              " \"ngram#he__ ngram#__in ngram#in_the ngram#the_library ngram#library_. ngram#study ngram#he_will ngram#will_be ngram#be_studying ngram#studying_in ngram#in_the ngram#the_library ngram#library_. --> ['will be verb+ing'] \",\n",
              " \"ngram#he_/ ngram#/_work ngram#work_in ngram#in_a ngram#a_restaurant ngram#work ngram#he_works ngram#works_in ngram#in_a ngram#a_restaurant ngram#restaurant_. --> ['verb(s/es)'] \",\n",
              " \"ngram#lucy_/ ngram#/_study ngram#study_history ngram#history_? ngram#study ngram#does_lucy ngram#lucy_study ngram#study_history ngram#history_? --> ['do/does'] \",\n",
              " \"ngram#__tomorrow ngram#tomorrow_? ngram#they_come ngram#will_they ngram#they_come ngram#come_tomorrow ngram#tomorrow_? --> ['will + first form of verb'] \"]"
            ]
          },
          "metadata": {
            "tags": []
          },
          "execution_count": 61
        }
      ]
    },
    {
      "cell_type": "markdown",
      "metadata": {
        "colab_type": "text",
        "id": "a1qGoTvMa0p5"
      },
      "source": [
        "#### Experimentation Results"
      ]
    },
    {
      "cell_type": "code",
      "metadata": {
        "colab_type": "code",
        "outputId": "12980280-f95e-465a-ae0a-663ab374f037",
        "id": "OefM3SVha0p6",
        "colab": {
          "base_uri": "https://localhost:8080/",
          "height": 193
        }
      },
      "source": [
        "result = check_classification(X_train, y_train, X_test, y_test)\n",
        "results.append((experiment_text, result))\n",
        "result"
      ],
      "execution_count": 62,
      "outputs": [
        {
          "output_type": "stream",
          "text": [
            "\n",
            "\n",
            "Best F1 Measure was: 0.8020 with the Model: CountVectorizer -> RandomForest\n"
          ],
          "name": "stdout"
        },
        {
          "output_type": "execute_result",
          "data": {
            "text/html": [
              "<div>\n",
              "<style scoped>\n",
              "    .dataframe tbody tr th:only-of-type {\n",
              "        vertical-align: middle;\n",
              "    }\n",
              "\n",
              "    .dataframe tbody tr th {\n",
              "        vertical-align: top;\n",
              "    }\n",
              "\n",
              "    .dataframe thead th {\n",
              "        text-align: right;\n",
              "    }\n",
              "</style>\n",
              "<table border=\"1\" class=\"dataframe\">\n",
              "  <thead>\n",
              "    <tr style=\"text-align: right;\">\n",
              "      <th></th>\n",
              "      <th>MultiNomial Naive Bais</th>\n",
              "      <th>LogisticRegression</th>\n",
              "      <th>SVM</th>\n",
              "      <th>RandomForest</th>\n",
              "      <th>XGBClassifier</th>\n",
              "    </tr>\n",
              "    <tr>\n",
              "      <th>Vectorizer</th>\n",
              "      <th></th>\n",
              "      <th></th>\n",
              "      <th></th>\n",
              "      <th></th>\n",
              "      <th></th>\n",
              "    </tr>\n",
              "  </thead>\n",
              "  <tbody>\n",
              "    <tr>\n",
              "      <th>CountVectorizer</th>\n",
              "      <td>0.6931</td>\n",
              "      <td>0.7723</td>\n",
              "      <td>0.6040</td>\n",
              "      <td>0.8020</td>\n",
              "      <td>0.6535</td>\n",
              "    </tr>\n",
              "    <tr>\n",
              "      <th>TfIdFVectorize</th>\n",
              "      <td>0.6634</td>\n",
              "      <td>0.6139</td>\n",
              "      <td>0.5743</td>\n",
              "      <td>0.7822</td>\n",
              "      <td>0.7129</td>\n",
              "    </tr>\n",
              "  </tbody>\n",
              "</table>\n",
              "</div>"
            ],
            "text/plain": [
              "                MultiNomial Naive Bais  ... XGBClassifier\n",
              "Vectorizer                              ...              \n",
              "CountVectorizer                 0.6931  ...        0.6535\n",
              "TfIdFVectorize                  0.6634  ...        0.7129\n",
              "\n",
              "[2 rows x 5 columns]"
            ]
          },
          "metadata": {
            "tags": []
          },
          "execution_count": 62
        }
      ]
    },
    {
      "cell_type": "markdown",
      "metadata": {
        "colab_type": "text",
        "id": "fk-7DcblPTP7"
      },
      "source": [
        "### Experiment 8: ngrampos#{$pos_i$}_{$pos_{i+1}$}"
      ]
    },
    {
      "cell_type": "code",
      "metadata": {
        "colab_type": "code",
        "id": "vxtAKgAlPTP-",
        "colab": {}
      },
      "source": [
        "experiment_text = \"Adding bigrams of pos tags ngrampos#{pos_i}_{pos_i+1}\""
      ],
      "execution_count": 0,
      "outputs": []
    },
    {
      "cell_type": "markdown",
      "metadata": {
        "colab_type": "text",
        "id": "_GuNHaZfPTQB"
      },
      "source": [
        "#### Preprocessing"
      ]
    },
    {
      "cell_type": "code",
      "metadata": {
        "colab_type": "code",
        "outputId": "115a028b-3114-4f23-dfd1-a2a779e7f14f",
        "id": "cJg6HCi9PTQC",
        "colab": {
          "base_uri": "https://localhost:8080/",
          "height": 54
        }
      },
      "source": [
        "def add_ngram_pos_template(text, n=2):\n",
        "    tokens = nlp(text)\n",
        "    text = []\n",
        "    for token in tokens:\n",
        "        text.append(\"{}\".format(token.tag_))\n",
        "\n",
        "    text = \" \".join(text)\n",
        "\n",
        "    tokens = ngrams(text, n)\n",
        "    text = []\n",
        "    for token in tokens:\n",
        "        text.append(\"ngrampos#{}\".format(\"_\".join(token)))\n",
        "\n",
        "    return \" \".join(text)\n",
        "\n",
        "add_ngram_pos_template(\"This is a test sentence! We will see the difference between playing and played\")"
      ],
      "execution_count": 64,
      "outputs": [
        {
          "output_type": "execute_result",
          "data": {
            "text/plain": [
              "'ngrampos#DT_VBZ ngrampos#VBZ_DT ngrampos#DT_NN ngrampos#NN_NN ngrampos#NN_. ngrampos#._PRP ngrampos#PRP_MD ngrampos#MD_VB ngrampos#VB_DT ngrampos#DT_NN ngrampos#NN_IN ngrampos#IN_VBG ngrampos#VBG_CC ngrampos#CC_VBD'"
            ]
          },
          "metadata": {
            "tags": []
          },
          "execution_count": 64
        }
      ]
    },
    {
      "cell_type": "code",
      "metadata": {
        "colab_type": "code",
        "id": "njY6ZacsPTQF",
        "colab": {}
      },
      "source": [
        "X_train = X_train_orig_dataset[\"Question\"].apply(lambda x: add_ngram_pos_template(x)) + \" \" + X_train_orig_dataset[\"key\"].apply(lambda x: add_ngram_pos_template(x)) + \" \" + X_train_orig_dataset[\"answer\"].apply(lambda x: add_ngram_pos_template(x))\n",
        "y_train = y_train_orig_dataset\n",
        "X_test = X_test_orig_dataset[\"Question\"].apply(lambda x: add_ngram_pos_template(x)) + \" \" + X_test_orig_dataset[\"key\"].apply(lambda x: add_ngram_pos_template(x)) + \" \" + X_test_orig_dataset[\"answer\"].apply(lambda x: add_ngram_pos_template(x))\n",
        "y_test = y_test_orig_dataset"
      ],
      "execution_count": 0,
      "outputs": []
    },
    {
      "cell_type": "markdown",
      "metadata": {
        "colab_type": "text",
        "id": "UK3R_38RPTQJ"
      },
      "source": [
        "#### Input Samples"
      ]
    },
    {
      "cell_type": "code",
      "metadata": {
        "colab_type": "code",
        "outputId": "bcf235bc-3339-4631-cd03-b9d3694d547e",
        "id": "LGIDJ3ipPTQK",
        "colab": {
          "base_uri": "https://localhost:8080/",
          "height": 122
        }
      },
      "source": [
        "get_input_samples(X_train, y_train)"
      ],
      "execution_count": 66,
      "outputs": [
        {
          "output_type": "execute_result",
          "data": {
            "text/plain": [
              "[\"ngrampos#DT_NNP ngrampos#NNP_, ngrampos#,_RB ngrampos#RB_SYM ngrampos#SYM_VB ngrampos#VB_DT ngrampos#DT_NNS ngrampos#NNS_WRB ngrampos#WRB_DT ngrampos#DT_NN ngrampos#NN_VBD ngrampos#RB_JJ ngrampos#DT_NNP ngrampos#NNP_VBD ngrampos#VBD_RB ngrampos#RB_VBG ngrampos#VBG_DT ngrampos#DT_NNS ngrampos#NNS_. --> ['verb+ing'] \",\n",
              " \"ngrampos#NNP_SYM ngrampos#SYM_VBN ngrampos#VBN_IN ngrampos#IN_NNP ngrampos#NNP_NNP ngrampos#NNP_. ngrampos#VB ngrampos#VBZ_NNP ngrampos#NNP_VB ngrampos#VB_IN ngrampos#IN_NNP ngrampos#NNP_NNP ngrampos#NNP_. --> ['do/does'] \",\n",
              " \"ngrampos#PRP_: ngrampos#:_VB ngrampos#VB_. ngrampos#VB ngrampos#VBP_PRP ngrampos#PRP_VBG ngrampos#VBG_. --> ['verb+ing'] \",\n",
              " \"ngrampos#NNP_NNP ngrampos#NNP_NNP ngrampos#NNP_. ngrampos#NNP ngrampos#NNP_MD ngrampos#MD_VB ngrampos#VB_VBN ngrampos#VBN_NNP ngrampos#NNP_. --> ['will have verb+3rd form'] \",\n",
              " \"ngrampos#PRP_NNP ngrampos#NNP_IN ngrampos#IN_NNP ngrampos#NNP_. ngrampos#VB ngrampos#PRP_VBP ngrampos#VBP_RB ngrampos#RB_IN ngrampos#IN_NNP ngrampos#NNP_. --> ['verb be'] \"]"
            ]
          },
          "metadata": {
            "tags": []
          },
          "execution_count": 66
        }
      ]
    },
    {
      "cell_type": "markdown",
      "metadata": {
        "colab_type": "text",
        "id": "1MQXjiEGPTQM"
      },
      "source": [
        "#### Experimentation Results"
      ]
    },
    {
      "cell_type": "code",
      "metadata": {
        "colab_type": "code",
        "outputId": "86710906-ae75-4d2a-81e1-7ee5bee5250b",
        "id": "OAnGonytPTQN",
        "colab": {
          "base_uri": "https://localhost:8080/",
          "height": 193
        }
      },
      "source": [
        "result = check_classification(X_train, y_train, X_test, y_test)\n",
        "results.append((experiment_text, result))\n",
        "result"
      ],
      "execution_count": 67,
      "outputs": [
        {
          "output_type": "stream",
          "text": [
            "\n",
            "\n",
            "Best F1 Measure was: 0.9010 with the Model: CountVectorizer -> LogisticRegression\n"
          ],
          "name": "stdout"
        },
        {
          "output_type": "execute_result",
          "data": {
            "text/html": [
              "<div>\n",
              "<style scoped>\n",
              "    .dataframe tbody tr th:only-of-type {\n",
              "        vertical-align: middle;\n",
              "    }\n",
              "\n",
              "    .dataframe tbody tr th {\n",
              "        vertical-align: top;\n",
              "    }\n",
              "\n",
              "    .dataframe thead th {\n",
              "        text-align: right;\n",
              "    }\n",
              "</style>\n",
              "<table border=\"1\" class=\"dataframe\">\n",
              "  <thead>\n",
              "    <tr style=\"text-align: right;\">\n",
              "      <th></th>\n",
              "      <th>MultiNomial Naive Bais</th>\n",
              "      <th>LogisticRegression</th>\n",
              "      <th>SVM</th>\n",
              "      <th>RandomForest</th>\n",
              "      <th>XGBClassifier</th>\n",
              "    </tr>\n",
              "    <tr>\n",
              "      <th>Vectorizer</th>\n",
              "      <th></th>\n",
              "      <th></th>\n",
              "      <th></th>\n",
              "      <th></th>\n",
              "      <th></th>\n",
              "    </tr>\n",
              "  </thead>\n",
              "  <tbody>\n",
              "    <tr>\n",
              "      <th>CountVectorizer</th>\n",
              "      <td>0.8218</td>\n",
              "      <td>0.9010</td>\n",
              "      <td>0.8119</td>\n",
              "      <td>0.8911</td>\n",
              "      <td>0.8614</td>\n",
              "    </tr>\n",
              "    <tr>\n",
              "      <th>TfIdFVectorize</th>\n",
              "      <td>0.7921</td>\n",
              "      <td>0.8317</td>\n",
              "      <td>0.8020</td>\n",
              "      <td>0.9010</td>\n",
              "      <td>0.8218</td>\n",
              "    </tr>\n",
              "  </tbody>\n",
              "</table>\n",
              "</div>"
            ],
            "text/plain": [
              "                MultiNomial Naive Bais  ... XGBClassifier\n",
              "Vectorizer                              ...              \n",
              "CountVectorizer                 0.8218  ...        0.8614\n",
              "TfIdFVectorize                  0.7921  ...        0.8218\n",
              "\n",
              "[2 rows x 5 columns]"
            ]
          },
          "metadata": {
            "tags": []
          },
          "execution_count": 67
        }
      ]
    },
    {
      "cell_type": "markdown",
      "metadata": {
        "id": "Bg7EYTlhi_kG",
        "colab_type": "text"
      },
      "source": [
        "# Results"
      ]
    },
    {
      "cell_type": "code",
      "metadata": {
        "id": "J00xqSOAqvQH",
        "colab_type": "code",
        "colab": {
          "base_uri": "https://localhost:8080/",
          "height": 1000
        },
        "outputId": "2d51313a-5f17-4c8a-84cc-b3bcc99e491e"
      },
      "source": [
        "from IPython.display import display, HTML\n",
        "\n",
        "for i, (description, result) in enumerate(results):\n",
        "    print(\"Experiment {}:\".format(i+1))\n",
        "    print(description)\n",
        "    display(HTML(result.to_html()))\n",
        "    print(\"\\n\\n\")"
      ],
      "execution_count": 68,
      "outputs": [
        {
          "output_type": "stream",
          "text": [
            "Experiment 1:\n",
            "Concatenating question + key + answer. like word#word_i\n"
          ],
          "name": "stdout"
        },
        {
          "output_type": "display_data",
          "data": {
            "text/html": [
              "<table border=\"1\" class=\"dataframe\">\n",
              "  <thead>\n",
              "    <tr style=\"text-align: right;\">\n",
              "      <th></th>\n",
              "      <th>MultiNomial Naive Bais</th>\n",
              "      <th>LogisticRegression</th>\n",
              "      <th>SVM</th>\n",
              "      <th>RandomForest</th>\n",
              "      <th>XGBClassifier</th>\n",
              "    </tr>\n",
              "    <tr>\n",
              "      <th>Vectorizer</th>\n",
              "      <th></th>\n",
              "      <th></th>\n",
              "      <th></th>\n",
              "      <th></th>\n",
              "      <th></th>\n",
              "    </tr>\n",
              "  </thead>\n",
              "  <tbody>\n",
              "    <tr>\n",
              "      <th>CountVectorizer</th>\n",
              "      <td>0.7327</td>\n",
              "      <td>0.8812</td>\n",
              "      <td>0.7822</td>\n",
              "      <td>0.9703</td>\n",
              "      <td>0.9703</td>\n",
              "    </tr>\n",
              "    <tr>\n",
              "      <th>TfIdFVectorize</th>\n",
              "      <td>0.6832</td>\n",
              "      <td>0.7228</td>\n",
              "      <td>0.6733</td>\n",
              "      <td>0.9307</td>\n",
              "      <td>0.9406</td>\n",
              "    </tr>\n",
              "  </tbody>\n",
              "</table>"
            ],
            "text/plain": [
              "<IPython.core.display.HTML object>"
            ]
          },
          "metadata": {
            "tags": []
          }
        },
        {
          "output_type": "stream",
          "text": [
            "\n",
            "\n",
            "\n",
            "Experiment 2:\n",
            "Adding Pos Tags along with word word_pos#{word_i}_{pos_i} + k#tags + a#tags Unigrams\n"
          ],
          "name": "stdout"
        },
        {
          "output_type": "display_data",
          "data": {
            "text/html": [
              "<table border=\"1\" class=\"dataframe\">\n",
              "  <thead>\n",
              "    <tr style=\"text-align: right;\">\n",
              "      <th></th>\n",
              "      <th>MultiNomial Naive Bais</th>\n",
              "      <th>LogisticRegression</th>\n",
              "      <th>SVM</th>\n",
              "      <th>RandomForest</th>\n",
              "      <th>XGBClassifier</th>\n",
              "    </tr>\n",
              "    <tr>\n",
              "      <th>Vectorizer</th>\n",
              "      <th></th>\n",
              "      <th></th>\n",
              "      <th></th>\n",
              "      <th></th>\n",
              "      <th></th>\n",
              "    </tr>\n",
              "  </thead>\n",
              "  <tbody>\n",
              "    <tr>\n",
              "      <th>CountVectorizer</th>\n",
              "      <td>0.7228</td>\n",
              "      <td>0.8614</td>\n",
              "      <td>0.7525</td>\n",
              "      <td>0.9604</td>\n",
              "      <td>0.9406</td>\n",
              "    </tr>\n",
              "    <tr>\n",
              "      <th>TfIdFVectorize</th>\n",
              "      <td>0.6733</td>\n",
              "      <td>0.7327</td>\n",
              "      <td>0.7129</td>\n",
              "      <td>0.9208</td>\n",
              "      <td>0.8812</td>\n",
              "    </tr>\n",
              "  </tbody>\n",
              "</table>"
            ],
            "text/plain": [
              "<IPython.core.display.HTML object>"
            ]
          },
          "metadata": {
            "tags": []
          }
        },
        {
          "output_type": "stream",
          "text": [
            "\n",
            "\n",
            "\n",
            "Experiment 3:\n",
            "Classifying based on POS tags pos#{pos_i}\n"
          ],
          "name": "stdout"
        },
        {
          "output_type": "display_data",
          "data": {
            "text/html": [
              "<table border=\"1\" class=\"dataframe\">\n",
              "  <thead>\n",
              "    <tr style=\"text-align: right;\">\n",
              "      <th></th>\n",
              "      <th>MultiNomial Naive Bais</th>\n",
              "      <th>LogisticRegression</th>\n",
              "      <th>SVM</th>\n",
              "      <th>RandomForest</th>\n",
              "      <th>XGBClassifier</th>\n",
              "    </tr>\n",
              "    <tr>\n",
              "      <th>Vectorizer</th>\n",
              "      <th></th>\n",
              "      <th></th>\n",
              "      <th></th>\n",
              "      <th></th>\n",
              "      <th></th>\n",
              "    </tr>\n",
              "  </thead>\n",
              "  <tbody>\n",
              "    <tr>\n",
              "      <th>CountVectorizer</th>\n",
              "      <td>0.6238</td>\n",
              "      <td>0.8218</td>\n",
              "      <td>0.7624</td>\n",
              "      <td>0.9307</td>\n",
              "      <td>0.8713</td>\n",
              "    </tr>\n",
              "    <tr>\n",
              "      <th>TfIdFVectorize</th>\n",
              "      <td>0.6634</td>\n",
              "      <td>0.6832</td>\n",
              "      <td>0.7129</td>\n",
              "      <td>0.8713</td>\n",
              "      <td>0.7822</td>\n",
              "    </tr>\n",
              "  </tbody>\n",
              "</table>"
            ],
            "text/plain": [
              "<IPython.core.display.HTML object>"
            ]
          },
          "metadata": {
            "tags": []
          }
        },
        {
          "output_type": "stream",
          "text": [
            "\n",
            "\n",
            "\n",
            "Experiment 4:\n",
            "Tagging word with q, k, a example: word_tag#{word_i}_{q/k/a}\n"
          ],
          "name": "stdout"
        },
        {
          "output_type": "display_data",
          "data": {
            "text/html": [
              "<table border=\"1\" class=\"dataframe\">\n",
              "  <thead>\n",
              "    <tr style=\"text-align: right;\">\n",
              "      <th></th>\n",
              "      <th>MultiNomial Naive Bais</th>\n",
              "      <th>LogisticRegression</th>\n",
              "      <th>SVM</th>\n",
              "      <th>RandomForest</th>\n",
              "      <th>XGBClassifier</th>\n",
              "    </tr>\n",
              "    <tr>\n",
              "      <th>Vectorizer</th>\n",
              "      <th></th>\n",
              "      <th></th>\n",
              "      <th></th>\n",
              "      <th></th>\n",
              "      <th></th>\n",
              "    </tr>\n",
              "  </thead>\n",
              "  <tbody>\n",
              "    <tr>\n",
              "      <th>CountVectorizer</th>\n",
              "      <td>0.8119</td>\n",
              "      <td>0.9505</td>\n",
              "      <td>0.8812</td>\n",
              "      <td>0.9604</td>\n",
              "      <td>0.9802</td>\n",
              "    </tr>\n",
              "    <tr>\n",
              "      <th>TfIdFVectorize</th>\n",
              "      <td>0.7525</td>\n",
              "      <td>0.8713</td>\n",
              "      <td>0.8317</td>\n",
              "      <td>0.9010</td>\n",
              "      <td>0.9505</td>\n",
              "    </tr>\n",
              "  </tbody>\n",
              "</table>"
            ],
            "text/plain": [
              "<IPython.core.display.HTML object>"
            ]
          },
          "metadata": {
            "tags": []
          }
        },
        {
          "output_type": "stream",
          "text": [
            "\n",
            "\n",
            "\n",
            "Experiment 5:\n",
            "Adding POS Tagging and qka tagging example: word_pos_tag#{word_i}_{pos_i}_{(q, k, a)}\n"
          ],
          "name": "stdout"
        },
        {
          "output_type": "display_data",
          "data": {
            "text/html": [
              "<table border=\"1\" class=\"dataframe\">\n",
              "  <thead>\n",
              "    <tr style=\"text-align: right;\">\n",
              "      <th></th>\n",
              "      <th>MultiNomial Naive Bais</th>\n",
              "      <th>LogisticRegression</th>\n",
              "      <th>SVM</th>\n",
              "      <th>RandomForest</th>\n",
              "      <th>XGBClassifier</th>\n",
              "    </tr>\n",
              "    <tr>\n",
              "      <th>Vectorizer</th>\n",
              "      <th></th>\n",
              "      <th></th>\n",
              "      <th></th>\n",
              "      <th></th>\n",
              "      <th></th>\n",
              "    </tr>\n",
              "  </thead>\n",
              "  <tbody>\n",
              "    <tr>\n",
              "      <th>CountVectorizer</th>\n",
              "      <td>0.8119</td>\n",
              "      <td>0.9307</td>\n",
              "      <td>0.8614</td>\n",
              "      <td>0.9109</td>\n",
              "      <td>0.9307</td>\n",
              "    </tr>\n",
              "    <tr>\n",
              "      <th>TfIdFVectorize</th>\n",
              "      <td>0.7822</td>\n",
              "      <td>0.8416</td>\n",
              "      <td>0.8218</td>\n",
              "      <td>0.8416</td>\n",
              "      <td>0.9307</td>\n",
              "    </tr>\n",
              "  </tbody>\n",
              "</table>"
            ],
            "text/plain": [
              "<IPython.core.display.HTML object>"
            ]
          },
          "metadata": {
            "tags": []
          }
        },
        {
          "output_type": "stream",
          "text": [
            "\n",
            "\n",
            "\n",
            "Experiment 6:\n",
            "Combining word and word_pos_tags\n"
          ],
          "name": "stdout"
        },
        {
          "output_type": "display_data",
          "data": {
            "text/html": [
              "<table border=\"1\" class=\"dataframe\">\n",
              "  <thead>\n",
              "    <tr style=\"text-align: right;\">\n",
              "      <th></th>\n",
              "      <th>MultiNomial Naive Bais</th>\n",
              "      <th>LogisticRegression</th>\n",
              "      <th>SVM</th>\n",
              "      <th>RandomForest</th>\n",
              "      <th>XGBClassifier</th>\n",
              "    </tr>\n",
              "    <tr>\n",
              "      <th>Vectorizer</th>\n",
              "      <th></th>\n",
              "      <th></th>\n",
              "      <th></th>\n",
              "      <th></th>\n",
              "      <th></th>\n",
              "    </tr>\n",
              "  </thead>\n",
              "  <tbody>\n",
              "    <tr>\n",
              "      <th>CountVectorizer</th>\n",
              "      <td>0.7525</td>\n",
              "      <td>0.9307</td>\n",
              "      <td>0.8416</td>\n",
              "      <td>0.9901</td>\n",
              "      <td>0.9703</td>\n",
              "    </tr>\n",
              "    <tr>\n",
              "      <th>TfIdFVectorize</th>\n",
              "      <td>0.7129</td>\n",
              "      <td>0.8020</td>\n",
              "      <td>0.7723</td>\n",
              "      <td>0.9307</td>\n",
              "      <td>0.9208</td>\n",
              "    </tr>\n",
              "  </tbody>\n",
              "</table>"
            ],
            "text/plain": [
              "<IPython.core.display.HTML object>"
            ]
          },
          "metadata": {
            "tags": []
          }
        },
        {
          "output_type": "stream",
          "text": [
            "\n",
            "\n",
            "\n",
            "Experiment 7:\n",
            "Adding bigrams of words bigram#{word_i}_{word_i+1}\n"
          ],
          "name": "stdout"
        },
        {
          "output_type": "display_data",
          "data": {
            "text/html": [
              "<table border=\"1\" class=\"dataframe\">\n",
              "  <thead>\n",
              "    <tr style=\"text-align: right;\">\n",
              "      <th></th>\n",
              "      <th>MultiNomial Naive Bais</th>\n",
              "      <th>LogisticRegression</th>\n",
              "      <th>SVM</th>\n",
              "      <th>RandomForest</th>\n",
              "      <th>XGBClassifier</th>\n",
              "    </tr>\n",
              "    <tr>\n",
              "      <th>Vectorizer</th>\n",
              "      <th></th>\n",
              "      <th></th>\n",
              "      <th></th>\n",
              "      <th></th>\n",
              "      <th></th>\n",
              "    </tr>\n",
              "  </thead>\n",
              "  <tbody>\n",
              "    <tr>\n",
              "      <th>CountVectorizer</th>\n",
              "      <td>0.6931</td>\n",
              "      <td>0.7723</td>\n",
              "      <td>0.6040</td>\n",
              "      <td>0.8020</td>\n",
              "      <td>0.6535</td>\n",
              "    </tr>\n",
              "    <tr>\n",
              "      <th>TfIdFVectorize</th>\n",
              "      <td>0.6634</td>\n",
              "      <td>0.6139</td>\n",
              "      <td>0.5743</td>\n",
              "      <td>0.7822</td>\n",
              "      <td>0.7129</td>\n",
              "    </tr>\n",
              "  </tbody>\n",
              "</table>"
            ],
            "text/plain": [
              "<IPython.core.display.HTML object>"
            ]
          },
          "metadata": {
            "tags": []
          }
        },
        {
          "output_type": "stream",
          "text": [
            "\n",
            "\n",
            "\n",
            "Experiment 8:\n",
            "Adding bigrams of pos tags ngrampos#{pos_i}_{pos_i+1}\n"
          ],
          "name": "stdout"
        },
        {
          "output_type": "display_data",
          "data": {
            "text/html": [
              "<table border=\"1\" class=\"dataframe\">\n",
              "  <thead>\n",
              "    <tr style=\"text-align: right;\">\n",
              "      <th></th>\n",
              "      <th>MultiNomial Naive Bais</th>\n",
              "      <th>LogisticRegression</th>\n",
              "      <th>SVM</th>\n",
              "      <th>RandomForest</th>\n",
              "      <th>XGBClassifier</th>\n",
              "    </tr>\n",
              "    <tr>\n",
              "      <th>Vectorizer</th>\n",
              "      <th></th>\n",
              "      <th></th>\n",
              "      <th></th>\n",
              "      <th></th>\n",
              "      <th></th>\n",
              "    </tr>\n",
              "  </thead>\n",
              "  <tbody>\n",
              "    <tr>\n",
              "      <th>CountVectorizer</th>\n",
              "      <td>0.8218</td>\n",
              "      <td>0.9010</td>\n",
              "      <td>0.8119</td>\n",
              "      <td>0.8911</td>\n",
              "      <td>0.8614</td>\n",
              "    </tr>\n",
              "    <tr>\n",
              "      <th>TfIdFVectorize</th>\n",
              "      <td>0.7921</td>\n",
              "      <td>0.8317</td>\n",
              "      <td>0.8020</td>\n",
              "      <td>0.9010</td>\n",
              "      <td>0.8218</td>\n",
              "    </tr>\n",
              "  </tbody>\n",
              "</table>"
            ],
            "text/plain": [
              "<IPython.core.display.HTML object>"
            ]
          },
          "metadata": {
            "tags": []
          }
        },
        {
          "output_type": "stream",
          "text": [
            "\n",
            "\n",
            "\n"
          ],
          "name": "stdout"
        }
      ]
    },
    {
      "cell_type": "markdown",
      "metadata": {
        "id": "Bsbhj7E6TIWZ",
        "colab_type": "text"
      },
      "source": [
        "# Summary\n",
        "\n",
        "After these series of experiments, we could distinguish the important featues\n",
        "\n",
        "\n",
        "\n",
        "1.   Q/K/A Tagging was one of the most important feature\n",
        "2.   POS tagging with different form of verbs improved the performance over\n",
        "3.   Combination of QKA and POS tag was is an important feature too\n",
        "4.   N-Grams (bi) were not that effective while classifying with this data\n",
        "5.   Random Forest, Logistic Regression and XGBClassifier all these three can be a valid choice while selecting classifier for this classification\n",
        "\n"
      ]
    },
    {
      "cell_type": "code",
      "metadata": {
        "id": "Vo8lWzhJl1eT",
        "colab_type": "code",
        "colab": {}
      },
      "source": [
        ""
      ],
      "execution_count": 0,
      "outputs": []
    }
  ]
}