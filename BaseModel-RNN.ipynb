{
  "nbformat": 4,
  "nbformat_minor": 0,
  "metadata": {
    "colab": {
      "name": "QGenerator.ipynb",
      "provenance": [],
      "collapsed_sections": [
        "NFfiV_VuDgGA"
      ],
      "mount_file_id": "1_jked_DPLs7QidyMH5K6ZrxiaJjNQkIX",
      "authorship_tag": "ABX9TyOP/QSVKQ0qfqH8qM1oZIZG",
      "include_colab_link": true
    },
    "kernelspec": {
      "name": "python3",
      "display_name": "Python 3"
    },
    "accelerator": "GPU",
    "widgets": {
      "application/vnd.jupyter.widget-state+json": {
        "ce636476e2f24e65aec55a1b4484cc87": {
          "model_module": "@jupyter-widgets/controls",
          "model_name": "HBoxModel",
          "state": {
            "_view_name": "HBoxView",
            "_dom_classes": [],
            "_model_name": "HBoxModel",
            "_view_module": "@jupyter-widgets/controls",
            "_model_module_version": "1.5.0",
            "_view_count": null,
            "_view_module_version": "1.5.0",
            "box_style": "",
            "layout": "IPY_MODEL_7e3e9db0339c4e69a6f3d2b89b4d1f95",
            "_model_module": "@jupyter-widgets/controls",
            "children": [
              "IPY_MODEL_320245b654414474bc01c70314e480d2",
              "IPY_MODEL_1836b2e526414f1cb1b15ce2c9d6c214"
            ]
          }
        },
        "7e3e9db0339c4e69a6f3d2b89b4d1f95": {
          "model_module": "@jupyter-widgets/base",
          "model_name": "LayoutModel",
          "state": {
            "_view_name": "LayoutView",
            "grid_template_rows": null,
            "right": null,
            "justify_content": null,
            "_view_module": "@jupyter-widgets/base",
            "overflow": null,
            "_model_module_version": "1.2.0",
            "_view_count": null,
            "flex_flow": null,
            "width": null,
            "min_width": null,
            "border": null,
            "align_items": null,
            "bottom": null,
            "_model_module": "@jupyter-widgets/base",
            "top": null,
            "grid_column": null,
            "overflow_y": null,
            "overflow_x": null,
            "grid_auto_flow": null,
            "grid_area": null,
            "grid_template_columns": null,
            "flex": null,
            "_model_name": "LayoutModel",
            "justify_items": null,
            "grid_row": null,
            "max_height": null,
            "align_content": null,
            "visibility": null,
            "align_self": null,
            "height": null,
            "min_height": null,
            "padding": null,
            "grid_auto_rows": null,
            "grid_gap": null,
            "max_width": null,
            "order": null,
            "_view_module_version": "1.2.0",
            "grid_template_areas": null,
            "object_position": null,
            "object_fit": null,
            "grid_auto_columns": null,
            "margin": null,
            "display": null,
            "left": null
          }
        },
        "320245b654414474bc01c70314e480d2": {
          "model_module": "@jupyter-widgets/controls",
          "model_name": "FloatProgressModel",
          "state": {
            "_view_name": "ProgressView",
            "style": "IPY_MODEL_2e36ba0f1f1c4ed3b65979e8c97e1237",
            "_dom_classes": [],
            "description": "100%",
            "_model_name": "FloatProgressModel",
            "bar_style": "success",
            "max": 442,
            "_view_module": "@jupyter-widgets/controls",
            "_model_module_version": "1.5.0",
            "value": 442,
            "_view_count": null,
            "_view_module_version": "1.5.0",
            "orientation": "horizontal",
            "min": 0,
            "description_tooltip": null,
            "_model_module": "@jupyter-widgets/controls",
            "layout": "IPY_MODEL_151da38554244f4989c3cf056454df98"
          }
        },
        "1836b2e526414f1cb1b15ce2c9d6c214": {
          "model_module": "@jupyter-widgets/controls",
          "model_name": "HTMLModel",
          "state": {
            "_view_name": "HTMLView",
            "style": "IPY_MODEL_427d9a74ae1c44499393e51b16b34e64",
            "_dom_classes": [],
            "description": "",
            "_model_name": "HTMLModel",
            "placeholder": "​",
            "_view_module": "@jupyter-widgets/controls",
            "_model_module_version": "1.5.0",
            "value": " 442/442 [00:00&lt;00:00, 1382.41it/s]",
            "_view_count": null,
            "_view_module_version": "1.5.0",
            "description_tooltip": null,
            "_model_module": "@jupyter-widgets/controls",
            "layout": "IPY_MODEL_789f40a519a34126b87b0849aaf8de41"
          }
        },
        "2e36ba0f1f1c4ed3b65979e8c97e1237": {
          "model_module": "@jupyter-widgets/controls",
          "model_name": "ProgressStyleModel",
          "state": {
            "_view_name": "StyleView",
            "_model_name": "ProgressStyleModel",
            "description_width": "initial",
            "_view_module": "@jupyter-widgets/base",
            "_model_module_version": "1.5.0",
            "_view_count": null,
            "_view_module_version": "1.2.0",
            "bar_color": null,
            "_model_module": "@jupyter-widgets/controls"
          }
        },
        "151da38554244f4989c3cf056454df98": {
          "model_module": "@jupyter-widgets/base",
          "model_name": "LayoutModel",
          "state": {
            "_view_name": "LayoutView",
            "grid_template_rows": null,
            "right": null,
            "justify_content": null,
            "_view_module": "@jupyter-widgets/base",
            "overflow": null,
            "_model_module_version": "1.2.0",
            "_view_count": null,
            "flex_flow": null,
            "width": null,
            "min_width": null,
            "border": null,
            "align_items": null,
            "bottom": null,
            "_model_module": "@jupyter-widgets/base",
            "top": null,
            "grid_column": null,
            "overflow_y": null,
            "overflow_x": null,
            "grid_auto_flow": null,
            "grid_area": null,
            "grid_template_columns": null,
            "flex": null,
            "_model_name": "LayoutModel",
            "justify_items": null,
            "grid_row": null,
            "max_height": null,
            "align_content": null,
            "visibility": null,
            "align_self": null,
            "height": null,
            "min_height": null,
            "padding": null,
            "grid_auto_rows": null,
            "grid_gap": null,
            "max_width": null,
            "order": null,
            "_view_module_version": "1.2.0",
            "grid_template_areas": null,
            "object_position": null,
            "object_fit": null,
            "grid_auto_columns": null,
            "margin": null,
            "display": null,
            "left": null
          }
        },
        "427d9a74ae1c44499393e51b16b34e64": {
          "model_module": "@jupyter-widgets/controls",
          "model_name": "DescriptionStyleModel",
          "state": {
            "_view_name": "StyleView",
            "_model_name": "DescriptionStyleModel",
            "description_width": "",
            "_view_module": "@jupyter-widgets/base",
            "_model_module_version": "1.5.0",
            "_view_count": null,
            "_view_module_version": "1.2.0",
            "_model_module": "@jupyter-widgets/controls"
          }
        },
        "789f40a519a34126b87b0849aaf8de41": {
          "model_module": "@jupyter-widgets/base",
          "model_name": "LayoutModel",
          "state": {
            "_view_name": "LayoutView",
            "grid_template_rows": null,
            "right": null,
            "justify_content": null,
            "_view_module": "@jupyter-widgets/base",
            "overflow": null,
            "_model_module_version": "1.2.0",
            "_view_count": null,
            "flex_flow": null,
            "width": null,
            "min_width": null,
            "border": null,
            "align_items": null,
            "bottom": null,
            "_model_module": "@jupyter-widgets/base",
            "top": null,
            "grid_column": null,
            "overflow_y": null,
            "overflow_x": null,
            "grid_auto_flow": null,
            "grid_area": null,
            "grid_template_columns": null,
            "flex": null,
            "_model_name": "LayoutModel",
            "justify_items": null,
            "grid_row": null,
            "max_height": null,
            "align_content": null,
            "visibility": null,
            "align_self": null,
            "height": null,
            "min_height": null,
            "padding": null,
            "grid_auto_rows": null,
            "grid_gap": null,
            "max_width": null,
            "order": null,
            "_view_module_version": "1.2.0",
            "grid_template_areas": null,
            "object_position": null,
            "object_fit": null,
            "grid_auto_columns": null,
            "margin": null,
            "display": null,
            "left": null
          }
        },
        "8e236021f9c543a9892d58c2a2454919": {
          "model_module": "@jupyter-widgets/controls",
          "model_name": "HBoxModel",
          "state": {
            "_view_name": "HBoxView",
            "_dom_classes": [],
            "_model_name": "HBoxModel",
            "_view_module": "@jupyter-widgets/controls",
            "_model_module_version": "1.5.0",
            "_view_count": null,
            "_view_module_version": "1.5.0",
            "box_style": "",
            "layout": "IPY_MODEL_bc7f4799a8b046cabb44758e0f90cc12",
            "_model_module": "@jupyter-widgets/controls",
            "children": [
              "IPY_MODEL_3e7d13611c0f43a9a447334a5574f11d",
              "IPY_MODEL_389ee4e5879a453e8a36edf1b9f515bf"
            ]
          }
        },
        "bc7f4799a8b046cabb44758e0f90cc12": {
          "model_module": "@jupyter-widgets/base",
          "model_name": "LayoutModel",
          "state": {
            "_view_name": "LayoutView",
            "grid_template_rows": null,
            "right": null,
            "justify_content": null,
            "_view_module": "@jupyter-widgets/base",
            "overflow": null,
            "_model_module_version": "1.2.0",
            "_view_count": null,
            "flex_flow": null,
            "width": null,
            "min_width": null,
            "border": null,
            "align_items": null,
            "bottom": null,
            "_model_module": "@jupyter-widgets/base",
            "top": null,
            "grid_column": null,
            "overflow_y": null,
            "overflow_x": null,
            "grid_auto_flow": null,
            "grid_area": null,
            "grid_template_columns": null,
            "flex": null,
            "_model_name": "LayoutModel",
            "justify_items": null,
            "grid_row": null,
            "max_height": null,
            "align_content": null,
            "visibility": null,
            "align_self": null,
            "height": null,
            "min_height": null,
            "padding": null,
            "grid_auto_rows": null,
            "grid_gap": null,
            "max_width": null,
            "order": null,
            "_view_module_version": "1.2.0",
            "grid_template_areas": null,
            "object_position": null,
            "object_fit": null,
            "grid_auto_columns": null,
            "margin": null,
            "display": null,
            "left": null
          }
        },
        "3e7d13611c0f43a9a447334a5574f11d": {
          "model_module": "@jupyter-widgets/controls",
          "model_name": "FloatProgressModel",
          "state": {
            "_view_name": "ProgressView",
            "style": "IPY_MODEL_825a409f0bbd4a5eb48678693b028d69",
            "_dom_classes": [],
            "description": "100%",
            "_model_name": "FloatProgressModel",
            "bar_style": "success",
            "max": 35,
            "_view_module": "@jupyter-widgets/controls",
            "_model_module_version": "1.5.0",
            "value": 35,
            "_view_count": null,
            "_view_module_version": "1.5.0",
            "orientation": "horizontal",
            "min": 0,
            "description_tooltip": null,
            "_model_module": "@jupyter-widgets/controls",
            "layout": "IPY_MODEL_ee7869d731a545c7b2ae4a68421f68c9"
          }
        },
        "389ee4e5879a453e8a36edf1b9f515bf": {
          "model_module": "@jupyter-widgets/controls",
          "model_name": "HTMLModel",
          "state": {
            "_view_name": "HTMLView",
            "style": "IPY_MODEL_00d0792fa81246178f032d246913c7c5",
            "_dom_classes": [],
            "description": "",
            "_model_name": "HTMLModel",
            "placeholder": "​",
            "_view_module": "@jupyter-widgets/controls",
            "_model_module_version": "1.5.0",
            "value": " 35/35 [2:14:29&lt;00:00, 230.56s/it]",
            "_view_count": null,
            "_view_module_version": "1.5.0",
            "description_tooltip": null,
            "_model_module": "@jupyter-widgets/controls",
            "layout": "IPY_MODEL_268f457837ee4be09a395e6fdf366aec"
          }
        },
        "825a409f0bbd4a5eb48678693b028d69": {
          "model_module": "@jupyter-widgets/controls",
          "model_name": "ProgressStyleModel",
          "state": {
            "_view_name": "StyleView",
            "_model_name": "ProgressStyleModel",
            "description_width": "initial",
            "_view_module": "@jupyter-widgets/base",
            "_model_module_version": "1.5.0",
            "_view_count": null,
            "_view_module_version": "1.2.0",
            "bar_color": null,
            "_model_module": "@jupyter-widgets/controls"
          }
        },
        "ee7869d731a545c7b2ae4a68421f68c9": {
          "model_module": "@jupyter-widgets/base",
          "model_name": "LayoutModel",
          "state": {
            "_view_name": "LayoutView",
            "grid_template_rows": null,
            "right": null,
            "justify_content": null,
            "_view_module": "@jupyter-widgets/base",
            "overflow": null,
            "_model_module_version": "1.2.0",
            "_view_count": null,
            "flex_flow": null,
            "width": null,
            "min_width": null,
            "border": null,
            "align_items": null,
            "bottom": null,
            "_model_module": "@jupyter-widgets/base",
            "top": null,
            "grid_column": null,
            "overflow_y": null,
            "overflow_x": null,
            "grid_auto_flow": null,
            "grid_area": null,
            "grid_template_columns": null,
            "flex": null,
            "_model_name": "LayoutModel",
            "justify_items": null,
            "grid_row": null,
            "max_height": null,
            "align_content": null,
            "visibility": null,
            "align_self": null,
            "height": null,
            "min_height": null,
            "padding": null,
            "grid_auto_rows": null,
            "grid_gap": null,
            "max_width": null,
            "order": null,
            "_view_module_version": "1.2.0",
            "grid_template_areas": null,
            "object_position": null,
            "object_fit": null,
            "grid_auto_columns": null,
            "margin": null,
            "display": null,
            "left": null
          }
        },
        "00d0792fa81246178f032d246913c7c5": {
          "model_module": "@jupyter-widgets/controls",
          "model_name": "DescriptionStyleModel",
          "state": {
            "_view_name": "StyleView",
            "_model_name": "DescriptionStyleModel",
            "description_width": "",
            "_view_module": "@jupyter-widgets/base",
            "_model_module_version": "1.5.0",
            "_view_count": null,
            "_view_module_version": "1.2.0",
            "_model_module": "@jupyter-widgets/controls"
          }
        },
        "268f457837ee4be09a395e6fdf366aec": {
          "model_module": "@jupyter-widgets/base",
          "model_name": "LayoutModel",
          "state": {
            "_view_name": "LayoutView",
            "grid_template_rows": null,
            "right": null,
            "justify_content": null,
            "_view_module": "@jupyter-widgets/base",
            "overflow": null,
            "_model_module_version": "1.2.0",
            "_view_count": null,
            "flex_flow": null,
            "width": null,
            "min_width": null,
            "border": null,
            "align_items": null,
            "bottom": null,
            "_model_module": "@jupyter-widgets/base",
            "top": null,
            "grid_column": null,
            "overflow_y": null,
            "overflow_x": null,
            "grid_auto_flow": null,
            "grid_area": null,
            "grid_template_columns": null,
            "flex": null,
            "_model_name": "LayoutModel",
            "justify_items": null,
            "grid_row": null,
            "max_height": null,
            "align_content": null,
            "visibility": null,
            "align_self": null,
            "height": null,
            "min_height": null,
            "padding": null,
            "grid_auto_rows": null,
            "grid_gap": null,
            "max_width": null,
            "order": null,
            "_view_module_version": "1.2.0",
            "grid_template_areas": null,
            "object_position": null,
            "object_fit": null,
            "grid_auto_columns": null,
            "margin": null,
            "display": null,
            "left": null
          }
        },
        "f9a0157258be4f8f82b4c3abc39e9af2": {
          "model_module": "@jupyter-widgets/controls",
          "model_name": "HBoxModel",
          "state": {
            "_view_name": "HBoxView",
            "_dom_classes": [],
            "_model_name": "HBoxModel",
            "_view_module": "@jupyter-widgets/controls",
            "_model_module_version": "1.5.0",
            "_view_count": null,
            "_view_module_version": "1.5.0",
            "box_style": "",
            "layout": "IPY_MODEL_619c90d6622b4cfc8b79e1bccb20f8c0",
            "_model_module": "@jupyter-widgets/controls",
            "children": [
              "IPY_MODEL_3b8c530a2be14034b1b8af9a7cb178af",
              "IPY_MODEL_75802289649044dcb3e061ccccf31c0e"
            ]
          }
        },
        "619c90d6622b4cfc8b79e1bccb20f8c0": {
          "model_module": "@jupyter-widgets/base",
          "model_name": "LayoutModel",
          "state": {
            "_view_name": "LayoutView",
            "grid_template_rows": null,
            "right": null,
            "justify_content": null,
            "_view_module": "@jupyter-widgets/base",
            "overflow": null,
            "_model_module_version": "1.2.0",
            "_view_count": null,
            "flex_flow": null,
            "width": null,
            "min_width": null,
            "border": null,
            "align_items": null,
            "bottom": null,
            "_model_module": "@jupyter-widgets/base",
            "top": null,
            "grid_column": null,
            "overflow_y": null,
            "overflow_x": null,
            "grid_auto_flow": null,
            "grid_area": null,
            "grid_template_columns": null,
            "flex": null,
            "_model_name": "LayoutModel",
            "justify_items": null,
            "grid_row": null,
            "max_height": null,
            "align_content": null,
            "visibility": null,
            "align_self": null,
            "height": null,
            "min_height": null,
            "padding": null,
            "grid_auto_rows": null,
            "grid_gap": null,
            "max_width": null,
            "order": null,
            "_view_module_version": "1.2.0",
            "grid_template_areas": null,
            "object_position": null,
            "object_fit": null,
            "grid_auto_columns": null,
            "margin": null,
            "display": null,
            "left": null
          }
        },
        "3b8c530a2be14034b1b8af9a7cb178af": {
          "model_module": "@jupyter-widgets/controls",
          "model_name": "FloatProgressModel",
          "state": {
            "_view_name": "ProgressView",
            "style": "IPY_MODEL_b92b51e08dd844d7b9b555154b6a5a02",
            "_dom_classes": [],
            "description": "100%",
            "_model_name": "FloatProgressModel",
            "bar_style": "success",
            "max": 86821,
            "_view_module": "@jupyter-widgets/controls",
            "_model_module_version": "1.5.0",
            "value": 86821,
            "_view_count": null,
            "_view_module_version": "1.5.0",
            "orientation": "horizontal",
            "min": 0,
            "description_tooltip": null,
            "_model_module": "@jupyter-widgets/controls",
            "layout": "IPY_MODEL_87556d40e1e74119951912c18ac07c31"
          }
        },
        "75802289649044dcb3e061ccccf31c0e": {
          "model_module": "@jupyter-widgets/controls",
          "model_name": "HTMLModel",
          "state": {
            "_view_name": "HTMLView",
            "style": "IPY_MODEL_d9aa6d891a514bf5b91be3539cc31e2d",
            "_dom_classes": [],
            "description": "",
            "_model_name": "HTMLModel",
            "placeholder": "​",
            "_view_module": "@jupyter-widgets/controls",
            "_model_module_version": "1.5.0",
            "value": " 86821/86821 [2:14:25&lt;00:00, 10.76it/s]",
            "_view_count": null,
            "_view_module_version": "1.5.0",
            "description_tooltip": null,
            "_model_module": "@jupyter-widgets/controls",
            "layout": "IPY_MODEL_2db2446654b94869a588efec78bbe7b1"
          }
        },
        "b92b51e08dd844d7b9b555154b6a5a02": {
          "model_module": "@jupyter-widgets/controls",
          "model_name": "ProgressStyleModel",
          "state": {
            "_view_name": "StyleView",
            "_model_name": "ProgressStyleModel",
            "description_width": "initial",
            "_view_module": "@jupyter-widgets/base",
            "_model_module_version": "1.5.0",
            "_view_count": null,
            "_view_module_version": "1.2.0",
            "bar_color": null,
            "_model_module": "@jupyter-widgets/controls"
          }
        },
        "87556d40e1e74119951912c18ac07c31": {
          "model_module": "@jupyter-widgets/base",
          "model_name": "LayoutModel",
          "state": {
            "_view_name": "LayoutView",
            "grid_template_rows": null,
            "right": null,
            "justify_content": null,
            "_view_module": "@jupyter-widgets/base",
            "overflow": null,
            "_model_module_version": "1.2.0",
            "_view_count": null,
            "flex_flow": null,
            "width": null,
            "min_width": null,
            "border": null,
            "align_items": null,
            "bottom": null,
            "_model_module": "@jupyter-widgets/base",
            "top": null,
            "grid_column": null,
            "overflow_y": null,
            "overflow_x": null,
            "grid_auto_flow": null,
            "grid_area": null,
            "grid_template_columns": null,
            "flex": null,
            "_model_name": "LayoutModel",
            "justify_items": null,
            "grid_row": null,
            "max_height": null,
            "align_content": null,
            "visibility": null,
            "align_self": null,
            "height": null,
            "min_height": null,
            "padding": null,
            "grid_auto_rows": null,
            "grid_gap": null,
            "max_width": null,
            "order": null,
            "_view_module_version": "1.2.0",
            "grid_template_areas": null,
            "object_position": null,
            "object_fit": null,
            "grid_auto_columns": null,
            "margin": null,
            "display": null,
            "left": null
          }
        },
        "d9aa6d891a514bf5b91be3539cc31e2d": {
          "model_module": "@jupyter-widgets/controls",
          "model_name": "DescriptionStyleModel",
          "state": {
            "_view_name": "StyleView",
            "_model_name": "DescriptionStyleModel",
            "description_width": "",
            "_view_module": "@jupyter-widgets/base",
            "_model_module_version": "1.5.0",
            "_view_count": null,
            "_view_module_version": "1.2.0",
            "_model_module": "@jupyter-widgets/controls"
          }
        },
        "2db2446654b94869a588efec78bbe7b1": {
          "model_module": "@jupyter-widgets/base",
          "model_name": "LayoutModel",
          "state": {
            "_view_name": "LayoutView",
            "grid_template_rows": null,
            "right": null,
            "justify_content": null,
            "_view_module": "@jupyter-widgets/base",
            "overflow": null,
            "_model_module_version": "1.2.0",
            "_view_count": null,
            "flex_flow": null,
            "width": null,
            "min_width": null,
            "border": null,
            "align_items": null,
            "bottom": null,
            "_model_module": "@jupyter-widgets/base",
            "top": null,
            "grid_column": null,
            "overflow_y": null,
            "overflow_x": null,
            "grid_auto_flow": null,
            "grid_area": null,
            "grid_template_columns": null,
            "flex": null,
            "_model_name": "LayoutModel",
            "justify_items": null,
            "grid_row": null,
            "max_height": null,
            "align_content": null,
            "visibility": null,
            "align_self": null,
            "height": null,
            "min_height": null,
            "padding": null,
            "grid_auto_rows": null,
            "grid_gap": null,
            "max_width": null,
            "order": null,
            "_view_module_version": "1.2.0",
            "grid_template_areas": null,
            "object_position": null,
            "object_fit": null,
            "grid_auto_columns": null,
            "margin": null,
            "display": null,
            "left": null
          }
        }
      }
    }
  },
  "cells": [
    {
      "cell_type": "markdown",
      "metadata": {
        "id": "view-in-github",
        "colab_type": "text"
      },
      "source": [
        "<a href=\"https://colab.research.google.com/github/shivammehta007/QuestionGenerator/blob/master/BaseModel-RNN.ipynb\" target=\"_parent\"><img src=\"https://colab.research.google.com/assets/colab-badge.svg\" alt=\"Open In Colab\"/></a>"
      ]
    },
    {
      "cell_type": "markdown",
      "metadata": {
        "id": "BLtWBqUscOtx",
        "colab_type": "text"
      },
      "source": [
        "# Question Generation"
      ]
    },
    {
      "cell_type": "markdown",
      "metadata": {
        "id": "T808ilq_g2bm",
        "colab_type": "text"
      },
      "source": [
        "Additional Dependencies"
      ]
    },
    {
      "cell_type": "code",
      "metadata": {
        "id": "3LU58nY0cTuk",
        "colab_type": "code",
        "colab": {}
      },
      "source": [
        "%%capture\n",
        "!pip install fairseq\n",
        "!pip install sacremoses subword_nmt\n",
        "!pip install -U tqdm"
      ],
      "execution_count": 0,
      "outputs": []
    },
    {
      "cell_type": "code",
      "metadata": {
        "id": "lbHwJtHvqrvR",
        "colab_type": "code",
        "colab": {}
      },
      "source": [
        "import os\n",
        "import json\n",
        "import logging\n",
        "import numpy as np\n",
        "import pandas as pd\n",
        "from tqdm.notebook import tqdm\n",
        "import random"
      ],
      "execution_count": 0,
      "outputs": []
    },
    {
      "cell_type": "code",
      "metadata": {
        "id": "WGJ7wyH392a7",
        "colab_type": "code",
        "colab": {}
      },
      "source": [
        "# For results duplication\n",
        "SEED=1234\n",
        "random.seed(SEED)"
      ],
      "execution_count": 0,
      "outputs": []
    },
    {
      "cell_type": "code",
      "metadata": {
        "id": "71OqW0Y1BbN0",
        "colab_type": "code",
        "colab": {}
      },
      "source": [
        "logger = logging.getLogger(__name__)\n",
        "logging.basicConfig(level=logging.INFO)"
      ],
      "execution_count": 0,
      "outputs": []
    },
    {
      "cell_type": "markdown",
      "metadata": {
        "id": "ewFG2QxZqhdN",
        "colab_type": "text"
      },
      "source": [
        "## DataSet"
      ]
    },
    {
      "cell_type": "code",
      "metadata": {
        "id": "DCxOp7LEcGlf",
        "colab_type": "code",
        "outputId": "6e5e565a-544a-460e-9df9-a2a568a30f2d",
        "colab": {
          "base_uri": "https://localhost:8080/",
          "height": 34
        }
      },
      "source": [
        "SQUAD_DIR = '/content/drive/My Drive/Colab Notebooks/SQuAD'\n",
        "SQUAD_TRAIN = os.path.join(SQUAD_DIR, 'train_v2.json')\n",
        "# SQUAD_DEV = os.path.join(SQUAD_DIR, 'dev.json')\n",
        "SQUAD_TEST = os.path.join(SQUAD_DIR, 'test_v2.json')\n",
        "print(SQUAD_TRAIN, SQUAD_TEST) # , SQUAD_DEV"
      ],
      "execution_count": 0,
      "outputs": [
        {
          "output_type": "stream",
          "text": [
            "/content/drive/My Drive/Colab Notebooks/SQuAD/train_v2.json /content/drive/My Drive/Colab Notebooks/SQuAD/test_v2.json\n"
          ],
          "name": "stdout"
        }
      ]
    },
    {
      "cell_type": "code",
      "metadata": {
        "id": "iTVjKnG6q4qR",
        "colab_type": "code",
        "colab": {}
      },
      "source": [
        "with open(SQUAD_TRAIN) as train_file:\n",
        "    train_data = json.load(train_file)\n",
        "    train_data = train_data['data']\n",
        "\n",
        "with open(SQUAD_TEST) as test_file:\n",
        "    test_data = json.load(test_file)\n",
        "    test_data = test_data['data']"
      ],
      "execution_count": 0,
      "outputs": []
    },
    {
      "cell_type": "markdown",
      "metadata": {
        "id": "xrg9adeKTgZk",
        "colab_type": "text"
      },
      "source": [
        "### PreProcessing Function"
      ]
    },
    {
      "cell_type": "code",
      "metadata": {
        "id": "DsZ0jvvqTfIA",
        "colab_type": "code",
        "colab": {}
      },
      "source": [
        "def convert_to_file_without_answers(dataset, dataset_type='train', get_impossible=False):\n",
        "    \"\"\"\n",
        "    Takes an input json and generates dataset_type.paragraphs and dataset_type.questions\n",
        "    Input:\n",
        "    dataset : string -> Name of json input\n",
        "    dataset_type: string -> Type of dataset like (Train, test, valid)\n",
        "    get_impossible: boolean -> Flag to get unanswerable questions\n",
        "    \"\"\"\n",
        "    para_output = open(dataset_type + '.paragraphs', 'w')\n",
        "    question_output = open(dataset_type + '.questions', 'w')\n",
        "    d = []\n",
        "    for paragraphs in tqdm(dataset):\n",
        "        paragraphs = paragraphs['paragraphs']\n",
        "        for i, paragraph in enumerate(paragraphs):\n",
        "            para = paragraph['context']\n",
        "            for questionanswers in paragraph['qas']:\n",
        "                if questionanswers['is_impossible']:\n",
        "                    continue\n",
        "                question = questionanswers['question']\n",
        "                para = para.replace('\\n', ' ')\n",
        "                para_output.write(para.strip() + '\\n')\n",
        "                question_output.write(question.strip() + '\\n')\n",
        "                d.append(i)\n",
        "    print(len(d))\n",
        "    para_output.close()\n",
        "    question_output.close()"
      ],
      "execution_count": 0,
      "outputs": []
    },
    {
      "cell_type": "code",
      "metadata": {
        "id": "XOVyuJg2Tfe-",
        "colab_type": "code",
        "outputId": "de869fa7-587b-4101-c46e-54d4a42dca23",
        "colab": {
          "base_uri": "https://localhost:8080/",
          "height": 149,
          "referenced_widgets": [
            "ce636476e2f24e65aec55a1b4484cc87",
            "7e3e9db0339c4e69a6f3d2b89b4d1f95",
            "320245b654414474bc01c70314e480d2",
            "1836b2e526414f1cb1b15ce2c9d6c214",
            "2e36ba0f1f1c4ed3b65979e8c97e1237",
            "151da38554244f4989c3cf056454df98",
            "427d9a74ae1c44499393e51b16b34e64",
            "789f40a519a34126b87b0849aaf8de41",
            "8e236021f9c543a9892d58c2a2454919",
            "bc7f4799a8b046cabb44758e0f90cc12",
            "3e7d13611c0f43a9a447334a5574f11d",
            "389ee4e5879a453e8a36edf1b9f515bf",
            "825a409f0bbd4a5eb48678693b028d69",
            "ee7869d731a545c7b2ae4a68421f68c9",
            "00d0792fa81246178f032d246913c7c5",
            "268f457837ee4be09a395e6fdf366aec"
          ]
        }
      },
      "source": [
        "convert_to_file_without_answers(train_data, 'train')\n",
        "convert_to_file_without_answers(test_data, 'test')\n"
      ],
      "execution_count": 0,
      "outputs": [
        {
          "output_type": "display_data",
          "data": {
            "application/vnd.jupyter.widget-view+json": {
              "model_id": "ce636476e2f24e65aec55a1b4484cc87",
              "version_minor": 0,
              "version_major": 2
            },
            "text/plain": [
              "HBox(children=(FloatProgress(value=0.0, max=442.0), HTML(value='')))"
            ]
          },
          "metadata": {
            "tags": []
          }
        },
        {
          "output_type": "stream",
          "text": [
            "\n",
            "86821\n"
          ],
          "name": "stdout"
        },
        {
          "output_type": "display_data",
          "data": {
            "application/vnd.jupyter.widget-view+json": {
              "model_id": "8e236021f9c543a9892d58c2a2454919",
              "version_minor": 0,
              "version_major": 2
            },
            "text/plain": [
              "HBox(children=(FloatProgress(value=0.0, max=35.0), HTML(value='')))"
            ]
          },
          "metadata": {
            "tags": []
          }
        },
        {
          "output_type": "stream",
          "text": [
            "\n",
            "5928\n"
          ],
          "name": "stdout"
        }
      ]
    },
    {
      "cell_type": "code",
      "metadata": {
        "id": "F3XnQgaS-Y_D",
        "colab_type": "code",
        "colab": {}
      },
      "source": [
        "def split_train_valid(filename_paragraph='train.paragraphs', filename_questions='train.questions', split_ratio=0.8):\n",
        "    \"\"\"Splits the train set to a validation set\"\"\"\n",
        "\n",
        "    with open(filename_paragraph) as paragraphs_file, open(filename_questions) as questions_file:\n",
        "        data_paragraphs = paragraphs_file.readlines()\n",
        "        data_questions = questions_file.readlines()\n",
        "    \n",
        "    # Output files\n",
        "    train_paragraphs_file = open('train.paragraphs', 'w')\n",
        "    valid_paragraphs_file = open('valid.paragraphs', 'w')\n",
        "    train_questions_file = open('train.questions', 'w')\n",
        "    valid_questions_file = open('valid.questions', 'w')\n",
        "\n",
        "    train_count, valid_count = 0, 0\n",
        "\n",
        "    for i in tqdm(range(len(data_paragraphs))):\n",
        "        if random.random() < split_ratio:\n",
        "            train_paragraphs_file.write(data_paragraphs[i].strip() + '\\n')\n",
        "            train_questions_file.write(data_questions[i].strip() + '\\n')\n",
        "            train_count += 1\n",
        "        else:\n",
        "            valid_paragraphs_file.write(data_paragraphs[i].strip() + '\\n')\n",
        "            valid_questions_file.write(data_questions[i].strip() + '\\n')\n",
        "            valid_count += 1\n",
        "\n",
        "    logger.info('Total Trainset: {} | Total ValidSet: {}'.format(train_count, valid_count))\n",
        "\n"
      ],
      "execution_count": 0,
      "outputs": []
    },
    {
      "cell_type": "code",
      "metadata": {
        "id": "oTlUUJoABrrd",
        "colab_type": "code",
        "outputId": "65bfffd7-1a8f-4a3c-84a8-1514007575ed",
        "colab": {
          "base_uri": "https://localhost:8080/",
          "height": 83,
          "referenced_widgets": [
            "f9a0157258be4f8f82b4c3abc39e9af2",
            "619c90d6622b4cfc8b79e1bccb20f8c0",
            "3b8c530a2be14034b1b8af9a7cb178af",
            "75802289649044dcb3e061ccccf31c0e",
            "b92b51e08dd844d7b9b555154b6a5a02",
            "87556d40e1e74119951912c18ac07c31",
            "d9aa6d891a514bf5b91be3539cc31e2d",
            "2db2446654b94869a588efec78bbe7b1"
          ]
        }
      },
      "source": [
        "split_train_valid()"
      ],
      "execution_count": 0,
      "outputs": [
        {
          "output_type": "display_data",
          "data": {
            "application/vnd.jupyter.widget-view+json": {
              "model_id": "f9a0157258be4f8f82b4c3abc39e9af2",
              "version_minor": 0,
              "version_major": 2
            },
            "text/plain": [
              "HBox(children=(FloatProgress(value=0.0, max=86821.0), HTML(value='')))"
            ]
          },
          "metadata": {
            "tags": []
          }
        },
        {
          "output_type": "stream",
          "text": [
            "INFO:__main__:Total Trainset: 69284 | Total ValidSet: 17537\n"
          ],
          "name": "stderr"
        },
        {
          "output_type": "stream",
          "text": [
            "\n"
          ],
          "name": "stdout"
        }
      ]
    },
    {
      "cell_type": "markdown",
      "metadata": {
        "id": "aHjI0mvZDa7g",
        "colab_type": "text"
      },
      "source": [
        "### Generate Binary of Dataset for FairSeq to process"
      ]
    },
    {
      "cell_type": "code",
      "metadata": {
        "id": "8iuBiIy39Aaf",
        "colab_type": "code",
        "colab": {}
      },
      "source": [
        ""
      ],
      "execution_count": 0,
      "outputs": []
    },
    {
      "cell_type": "code",
      "metadata": {
        "id": "ahWXypAOTfc2",
        "colab_type": "code",
        "outputId": "0c00f229-09a3-4b8c-a03e-42582a61c47d",
        "colab": {
          "base_uri": "https://localhost:8080/",
          "height": 275
        }
      },
      "source": [
        "!fairseq-preprocess --source-lang paragraphs --target-lang questions \\\n",
        "     --trainpref train --testpref test --validpref valid\\\n",
        "     --destdir preprocessed_data --seed 1234 --nwordssrc 45002 --nwordstgt 28002"
      ],
      "execution_count": 0,
      "outputs": [
        {
          "output_type": "stream",
          "text": [
            "Namespace(align_suffix=None, alignfile=None, bpe=None, cpu=False, criterion='cross_entropy', dataset_impl='mmap', destdir='preprocessed_data', empty_cache_freq=0, fp16=False, fp16_init_scale=128, fp16_scale_tolerance=0.0, fp16_scale_window=None, joined_dictionary=False, log_format=None, log_interval=1000, lr_scheduler='fixed', memory_efficient_fp16=False, min_loss_scale=0.0001, no_progress_bar=False, nwordssrc=45002, nwordstgt=28002, only_source=False, optimizer='nag', padding_factor=8, seed=1234, source_lang='paragraphs', srcdict=None, target_lang='questions', task='translation', tensorboard_logdir='', testpref='test', tgtdict=None, threshold_loss_scale=None, thresholdsrc=0, thresholdtgt=0, tokenizer=None, trainpref='train', user_dir=None, validpref='valid', workers=1)\n",
            "| [paragraphs] Dictionary: 45007 types\n",
            "| [paragraphs] train.paragraphs: 69284 sents, 8365124 tokens, 7.53% replaced by <unk>\n",
            "| [paragraphs] Dictionary: 45007 types\n",
            "| [paragraphs] valid.paragraphs: 17537 sents, 2122362 tokens, 7.95% replaced by <unk>\n",
            "| [paragraphs] Dictionary: 45007 types\n",
            "| [paragraphs] test.paragraphs: 5928 sents, 767710 tokens, 10.3% replaced by <unk>\n",
            "| [questions] Dictionary: 28007 types\n",
            "| [questions] train.questions: 69284 sents, 767405 tokens, 3.73% replaced by <unk>\n",
            "| [questions] Dictionary: 28007 types\n",
            "| [questions] valid.questions: 17537 sents, 193389 tokens, 6.05% replaced by <unk>\n",
            "| [questions] Dictionary: 28007 types\n",
            "| [questions] test.questions: 5928 sents, 67362 tokens, 8.92% replaced by <unk>\n",
            "| Wrote preprocessed data to preprocessed_data\n"
          ],
          "name": "stdout"
        }
      ]
    },
    {
      "cell_type": "markdown",
      "metadata": {
        "id": "NFfiV_VuDgGA",
        "colab_type": "text"
      },
      "source": [
        "### Training a default ConvSeq2Seq Model"
      ]
    },
    {
      "cell_type": "code",
      "metadata": {
        "id": "NcJ8LG6-TfaF",
        "colab_type": "code",
        "colab": {}
      },
      "source": [
        "# !fairseq-generate data-bin/iwslt14.tokenized.de-en \\\n",
        "#     --path checkpoints/fconv/checkpoint20.pt \\\n",
        "#     --batch-size 128 --beam 5\n",
        "\n",
        "!CUDA_VISIBLE_DEVICES=0 fairseq-train preprocessed_data/ \\\n",
        "     --lr 0.01 --clip-norm 0.1 --dropout 0.2 --max-tokens 4000 \\\n",
        "     --arch fconv_iwslt_de_en --save-dir checkpoints/fconv"
      ],
      "execution_count": 0,
      "outputs": []
    },
    {
      "cell_type": "code",
      "metadata": {
        "id": "wWcZSBfETfWi",
        "colab_type": "code",
        "colab": {}
      },
      "source": [
        "!fairseq-generate preprocessed_data \\\n",
        "    --path checkpoints/fconv/checkpoint43.pt \\\n",
        "    --batch-size 128 | tee gen.out"
      ],
      "execution_count": 0,
      "outputs": []
    },
    {
      "cell_type": "code",
      "metadata": {
        "id": "wv7roXL5_tra",
        "colab_type": "code",
        "outputId": "7b055c12-f3a6-48f0-b6d2-737ae233cacb",
        "colab": {
          "base_uri": "https://localhost:8080/",
          "height": 51
        }
      },
      "source": [
        "!grep ^H gen.out | cut -f3- > gen.out.sys\n",
        "!grep ^T gen.out | cut -f2- > gen.out.ref\n",
        "!fairseq-score --sys gen.out.sys --ref gen.out.ref"
      ],
      "execution_count": 0,
      "outputs": [
        {
          "output_type": "stream",
          "text": [
            "Namespace(ignore_case=False, order=4, ref='gen.out.ref', sacrebleu=False, sentence_bleu=False, sys='gen.out.sys')\n",
            "BLEU4 = 2.43, 15.4/3.8/1.3/0.5 (BP=1.000, ratio=1.451, syslen=89115, reflen=61434)\n"
          ],
          "name": "stdout"
        }
      ]
    },
    {
      "cell_type": "code",
      "metadata": {
        "id": "9u_JkoWBAt7m",
        "colab_type": "code",
        "colab": {}
      },
      "source": [
        "# %cd fairseq/examples/translation/\n",
        "# !bash prepare-iwslt14.sh\n",
        "# !fairseq-preprocess --source-lang de --target-lang en \\\n",
        "#     --trainpref examples/translation/iwslt14.tokenized.de-en/train --validpref examples/translation/iwslt14.tokenized.de-en/valid --testpref examples/translation/iwslt14.tokenized.de-en/test \\\n",
        "#     --destdir data-bin/iwslt14.tokenized.de-en\n",
        "# !mkdir -p checkpoints/fconv\n",
        "# !fairseq-train data-bin/iwslt14.tokenized.de-en \\\n",
        "#     --lr 0.25 --clip-norm 0.1 --dropout 0.2 --max-tokens 4000 \\\n",
        "#     --arch fconv_iwslt_de_en --save-dir checkpoints/fconv"
      ],
      "execution_count": 0,
      "outputs": []
    },
    {
      "cell_type": "code",
      "metadata": {
        "id": "5kDLHksIJ4Ko",
        "colab_type": "code",
        "colab": {}
      },
      "source": [
        "# !fairseq-generate data-bin/iwslt14.tokenized.de-en \\\n",
        "#     --path checkpoints/fconv/checkpoint20.pt \\\n",
        "#     --batch-size 128 --beam 5"
      ],
      "execution_count": 0,
      "outputs": []
    },
    {
      "cell_type": "markdown",
      "metadata": {
        "id": "MuCn_Bdhx8X_",
        "colab_type": "text"
      },
      "source": [
        "### Trying Baseline LSTM Model"
      ]
    },
    {
      "cell_type": "code",
      "metadata": {
        "id": "qe_OwaIVx-sR",
        "colab_type": "code",
        "outputId": "26f89ee4-5faf-45cc-9eca-ce7bfd542144",
        "colab": {
          "base_uri": "https://localhost:8080/",
          "height": 357
        }
      },
      "source": [
        "!wget http://nlp.stanford.edu/data/glove.840B.300d.zip"
      ],
      "execution_count": 0,
      "outputs": [
        {
          "output_type": "stream",
          "text": [
            "--2020-03-05 13:00:02--  http://nlp.stanford.edu/data/glove.840B.300d.zip\n",
            "Resolving nlp.stanford.edu (nlp.stanford.edu)... 171.64.67.140\n",
            "Connecting to nlp.stanford.edu (nlp.stanford.edu)|171.64.67.140|:80... connected.\n",
            "HTTP request sent, awaiting response... 302 Found\n",
            "Location: https://nlp.stanford.edu/data/glove.840B.300d.zip [following]\n",
            "--2020-03-05 13:00:02--  https://nlp.stanford.edu/data/glove.840B.300d.zip\n",
            "Connecting to nlp.stanford.edu (nlp.stanford.edu)|171.64.67.140|:443... connected.\n",
            "HTTP request sent, awaiting response... 301 Moved Permanently\n",
            "Location: http://downloads.cs.stanford.edu/nlp/data/glove.840B.300d.zip [following]\n",
            "--2020-03-05 13:00:03--  http://downloads.cs.stanford.edu/nlp/data/glove.840B.300d.zip\n",
            "Resolving downloads.cs.stanford.edu (downloads.cs.stanford.edu)... 171.64.64.22\n",
            "Connecting to downloads.cs.stanford.edu (downloads.cs.stanford.edu)|171.64.64.22|:80... connected.\n",
            "HTTP request sent, awaiting response... 200 OK\n",
            "Length: 2176768927 (2.0G) [application/zip]\n",
            "Saving to: ‘glove.840B.300d.zip’\n",
            "\n",
            "glove.840B.300d.zip 100%[===================>]   2.03G  2.00MB/s    in 16m 58s \n",
            "\n",
            "2020-03-05 13:17:02 (2.04 MB/s) - ‘glove.840B.300d.zip’ saved [2176768927/2176768927]\n",
            "\n"
          ],
          "name": "stdout"
        }
      ]
    },
    {
      "cell_type": "code",
      "metadata": {
        "id": "YngekyqK47M0",
        "colab_type": "code",
        "outputId": "75e7d329-27f8-43b4-c10f-be2debc013ca",
        "colab": {
          "base_uri": "https://localhost:8080/",
          "height": 51
        }
      },
      "source": [
        "!unzip glove.840B.300d.zip"
      ],
      "execution_count": 0,
      "outputs": [
        {
          "output_type": "stream",
          "text": [
            "Archive:  glove.840B.300d.zip\n",
            "  inflating: glove.840B.300d.txt     \n"
          ],
          "name": "stdout"
        }
      ]
    },
    {
      "cell_type": "code",
      "metadata": {
        "id": "k0BnmaSfKNLy",
        "colab_type": "code",
        "outputId": "7f3b8285-ae1f-478b-f089-ef6ceb8f696a",
        "colab": {
          "base_uri": "https://localhost:8080/",
          "height": 1000
        }
      },
      "source": [
        "!CUDA_VISIBLE_DEVICES=0 fairseq-train preprocessed_data/ \\\n",
        "     --lr 0.001 --clip-norm 5 --dropout 0.2 --batch-size 64 \\\n",
        "     --arch lstm --max-epoch 15 --encoder-hidden-size 600 --encoder-layers 2 \\\n",
        "     --decoder-hidden-size 600 --decoder-layers 2 --optimizer adam --dropout 0.3 --encoder-embed-path glove.840B.300d.txt \\\n",
        "     --encoder-bidirectional --encoder-embed-dim 300 --decoder-embed-dim 300 --no-epoch-checkpoints --decoder-embed-path glove.840B.300d.txt--lr-shrink"
      ],
      "execution_count": 60,
      "outputs": [
        {
          "output_type": "stream",
          "text": [
            "Namespace(adam_betas='(0.9, 0.999)', adam_eps=1e-08, adaptive_softmax_cutoff='10000,50000,200000', arch='lstm', best_checkpoint_metric='loss', bpe=None, bucket_cap_mb=25, clip_norm=5.0, cpu=False, criterion='cross_entropy', curriculum=0, data='preprocessed_data/', dataset_impl=None, ddp_backend='c10d', decoder_attention='1', decoder_dropout_in=0.3, decoder_dropout_out=0.3, decoder_embed_dim=300, decoder_embed_path='glove.840B.300d.txt', decoder_freeze_embed=False, decoder_hidden_size=600, decoder_layers=2, decoder_out_embed_dim=512, device_id=0, disable_validation=False, distributed_backend='nccl', distributed_init_method=None, distributed_no_spawn=False, distributed_port=-1, distributed_rank=0, distributed_world_size=1, dropout=0.3, empty_cache_freq=0, encoder_bidirectional=True, encoder_dropout_in=0.3, encoder_dropout_out=0.3, encoder_embed_dim=300, encoder_embed_path='glove.840B.300d.txt', encoder_freeze_embed=False, encoder_hidden_size=600, encoder_layers=2, fast_stat_sync=False, find_unused_parameters=False, fix_batches_to_gpus=False, fixed_validation_seed=None, force_anneal=None, fp16=False, fp16_init_scale=128, fp16_scale_tolerance=0.0, fp16_scale_window=None, keep_interval_updates=-1, keep_last_epochs=-1, lazy_load=False, left_pad_source='True', left_pad_target='False', load_alignments=False, log_format=None, log_interval=1000, lr=[0.001], lr_scheduler='fixed', lr_shrink=0.1, max_epoch=15, max_sentences=64, max_sentences_valid=64, max_source_positions=1024, max_target_positions=1024, max_tokens=None, max_tokens_valid=None, max_update=0, maximize_best_checkpoint_metric=False, memory_efficient_fp16=False, min_loss_scale=0.0001, min_lr=-1, no_epoch_checkpoints=True, no_last_checkpoints=False, no_progress_bar=False, no_save=False, no_save_optimizer_state=False, num_workers=1, optimizer='adam', optimizer_overrides='{}', raw_text=False, required_batch_size_multiple=8, reset_dataloader=False, reset_lr_scheduler=False, reset_meters=False, reset_optimizer=False, restore_file='checkpoint_last.pt', save_dir='checkpoints', save_interval=1, save_interval_updates=0, seed=1, sentence_avg=False, share_all_embeddings=False, share_decoder_input_output_embed=False, skip_invalid_size_inputs_valid_test=False, source_lang=None, target_lang=None, task='translation', tensorboard_logdir='', threshold_loss_scale=None, tokenizer=None, train_subset='train', truncate_source=False, update_freq=[1], upsample_primary=1, use_bmuf=False, user_dir=None, valid_subset='valid', validate_interval=1, warmup_updates=0, weight_decay=0.0)\n",
            "| [paragraphs] dictionary: 45008 types\n",
            "| [questions] dictionary: 28008 types\n",
            "| loaded 17537 examples from: preprocessed_data/valid.paragraphs-questions.paragraphs\n",
            "| loaded 17537 examples from: preprocessed_data/valid.paragraphs-questions.questions\n",
            "| preprocessed_data/ valid paragraphs-questions 17537 examples\n",
            "| Found 30095/45008 types in embedding file.\n",
            "| Found 17964/28008 types in embedding file.\n",
            "LSTMModel(\n",
            "  (encoder): LSTMEncoder(\n",
            "    (embed_tokens): Embedding(45008, 300, padding_idx=1)\n",
            "    (lstm): LSTM(300, 600, num_layers=2, dropout=0.3, bidirectional=True)\n",
            "  )\n",
            "  (decoder): LSTMDecoder(\n",
            "    (embed_tokens): Embedding(28008, 300, padding_idx=1)\n",
            "    (encoder_hidden_proj): Linear(in_features=1200, out_features=600, bias=True)\n",
            "    (encoder_cell_proj): Linear(in_features=1200, out_features=600, bias=True)\n",
            "    (layers): ModuleList(\n",
            "      (0): LSTMCell(900, 600)\n",
            "      (1): LSTMCell(600, 600)\n",
            "    )\n",
            "    (attention): AttentionLayer(\n",
            "      (input_proj): Linear(in_features=600, out_features=1200, bias=False)\n",
            "      (output_proj): Linear(in_features=1800, out_features=600, bias=False)\n",
            "    )\n",
            "    (additional_fc): Linear(in_features=600, out_features=512, bias=True)\n",
            "    (fc_out): Linear(in_features=512, out_features=28008, bias=True)\n",
            "  )\n",
            ")\n",
            "| model lstm, criterion CrossEntropyCriterion\n",
            "| num. model params: 59290616 (num. trained: 59290616)\n",
            "| training on 1 GPUs\n",
            "| max tokens per GPU = None and max sentences per GPU = 64\n",
            "| NOTICE: your device may support faster training with --fp16\n",
            "| loaded checkpoint checkpoints/checkpoint_last.pt (epoch 6 @ 6498 updates)\n",
            "| loading train data for epoch 6\n",
            "| loaded 69284 examples from: preprocessed_data/train.paragraphs-questions.paragraphs\n",
            "| loaded 69284 examples from: preprocessed_data/train.paragraphs-questions.questions\n",
            "| preprocessed_data/ train paragraphs-questions 69284 examples\n",
            "| epoch 007:   0% 5/1083 [00:02<08:42,  2.06it/s, loss=48.393, ppl=3.6966e+14, wps=2134, ups=3, wpb=693.600, bsz=64.000, num_updates=6503, lr=0.001, gnorm=26.843, clip=1.000, oom=0.000, wall=3, train_wall=2105] /pytorch/aten/src/ATen/native/RangeFactories.cpp:170: UserWarning: The number of elements in the out tensor of shape [156] is 156 which does not match the computed number of elements 192. Note that this may occur as a result of rounding error. The out tensor will be resized to a tensor of shape (192,).\n",
            "| epoch 007:   2% 19/1083 [00:06<04:05,  4.33it/s, loss=32.436, ppl=5.81051e+09, wps=2376, ups=3, wpb=676.789, bsz=64.000, num_updates=6517, lr=0.001, gnorm=28.456, clip=1.000, oom=0.000, wall=7, train_wall=2108]/pytorch/aten/src/ATen/native/RangeFactories.cpp:170: UserWarning: The number of elements in the out tensor of shape [192] is 192 which does not match the computed number of elements 288. Note that this may occur as a result of rounding error. The out tensor will be resized to a tensor of shape (288,).\n",
            "| epoch 007:   3% 28/1083 [00:09<05:04,  3.47it/s, loss=28.216, ppl=3.11883e+08, wps=2293, ups=3, wpb=689.393, bsz=64.000, num_updates=6526, lr=0.001, gnorm=27.240, clip=1.000, oom=0.000, wall=10, train_wall=2111]/pytorch/aten/src/ATen/native/RangeFactories.cpp:170: UserWarning: The number of elements in the out tensor of shape [288] is 288 which does not match the computed number of elements 312. Note that this may occur as a result of rounding error. The out tensor will be resized to a tensor of shape (312,).\n",
            "| epoch 007:  40% 437/1083 [02:16<04:00,  2.69it/s, loss=15.573, ppl=48755.1, wps=2283, ups=3, wpb=710.915, bsz=64.000, num_updates=6935, lr=0.001, gnorm=23.956, clip=1.000, oom=0.000, wall=138, train_wall=2238]/pytorch/aten/src/ATen/native/RangeFactories.cpp:170: UserWarning: The number of elements in the out tensor of shape [312] is 312 which does not match the computed number of elements 328. Note that this may occur as a result of rounding error. The out tensor will be resized to a tensor of shape (328,).\n",
            "| epoch 007:  52% 565/1083 [02:59<02:50,  3.05it/s, loss=15.032, ppl=33511.7, wps=2241, ups=3, wpb=709.890, bsz=64.000, num_updates=7063, lr=0.001, gnorm=25.417, clip=1.000, oom=0.000, wall=181, train_wall=2280]/pytorch/aten/src/ATen/native/RangeFactories.cpp:170: UserWarning: The number of elements in the out tensor of shape [328] is 328 which does not match the computed number of elements 654. Note that this may occur as a result of rounding error. The out tensor will be resized to a tensor of shape (654,).\n",
            "| epoch 007 | loss 13.707 | ppl 13370.9 | wps 2209 | ups 3 | wpb 708.592 | bsz 63.974 | num_updates 7581 | lr 0.001 | gnorm 25.970 | clip 1.000 | oom 0.000 | wall 349 | train_wall 2447\n",
            "| epoch 007 | valid on 'valid' subset | loss 10.433 | ppl 1382.61 | num_updates 7581 | best_loss 10.4332\n",
            "| saved checkpoint checkpoints/checkpoint_best.pt (epoch 7 @ 7581 updates) (writing took 5.219937562942505 seconds)\n",
            "| epoch 008 | loss 11.474 | ppl 2843.65 | wps 2180 | ups 3 | wpb 708.592 | bsz 63.974 | num_updates 8664 | lr 0.001 | gnorm 28.057 | clip 1.000 | oom 0.000 | wall 738 | train_wall 2795\n",
            "| epoch 008 | valid on 'valid' subset | loss 11.024 | ppl 2082.9 | num_updates 8664 | best_loss 10.4332\n",
            "| saved checkpoint checkpoints/checkpoint_last.pt (epoch 8 @ 8664 updates) (writing took 2.4150748252868652 seconds)\n",
            "| epoch 009 | loss 11.166 | ppl 2297.37 | wps 2179 | ups 3 | wpb 708.592 | bsz 63.974 | num_updates 9747 | lr 0.001 | gnorm 24.616 | clip 1.000 | oom 0.000 | wall 1125 | train_wall 3144\n",
            "| epoch 009 | valid on 'valid' subset | loss 9.892 | ppl 949.86 | num_updates 9747 | best_loss 9.89157\n",
            "| saved checkpoint checkpoints/checkpoint_best.pt (epoch 9 @ 9747 updates) (writing took 5.199980020523071 seconds)\n",
            "| epoch 010 | loss 11.082 | ppl 2167.25 | wps 2176 | ups 3 | wpb 708.592 | bsz 63.974 | num_updates 10830 | lr 0.001 | gnorm 25.952 | clip 1.000 | oom 0.000 | wall 1515 | train_wall 3493\n",
            "| epoch 010 | valid on 'valid' subset | loss 10.298 | ppl 1258.7 | num_updates 10830 | best_loss 9.89157\n",
            "| saved checkpoint checkpoints/checkpoint_last.pt (epoch 10 @ 10830 updates) (writing took 2.3573265075683594 seconds)\n",
            "| epoch 011 | loss 10.983 | ppl 2024.06 | wps 2179 | ups 3 | wpb 708.592 | bsz 63.974 | num_updates 11913 | lr 0.001 | gnorm 25.012 | clip 1.000 | oom 0.000 | wall 1901 | train_wall 3842\n",
            "| epoch 011 | valid on 'valid' subset | loss 10.010 | ppl 1030.83 | num_updates 11913 | best_loss 9.89157\n",
            "| saved checkpoint checkpoints/checkpoint_last.pt (epoch 11 @ 11913 updates) (writing took 2.4122860431671143 seconds)\n",
            "| epoch 012 | loss 10.914 | ppl 1929.38 | wps 2178 | ups 3 | wpb 708.592 | bsz 63.974 | num_updates 12996 | lr 0.001 | gnorm 21.388 | clip 1.000 | oom 0.000 | wall 2288 | train_wall 4191\n",
            "| epoch 012 | valid on 'valid' subset | loss 10.122 | ppl 1114.39 | num_updates 12996 | best_loss 9.89157\n",
            "| saved checkpoint checkpoints/checkpoint_last.pt (epoch 12 @ 12996 updates) (writing took 2.344562530517578 seconds)\n",
            "| epoch 013 | loss 10.800 | ppl 1782.38 | wps 2179 | ups 3 | wpb 708.592 | bsz 63.974 | num_updates 14079 | lr 0.001 | gnorm 20.048 | clip 1.000 | oom 0.000 | wall 2674 | train_wall 4540\n",
            "| epoch 013 | valid on 'valid' subset | loss 10.479 | ppl 1427.35 | num_updates 14079 | best_loss 9.89157\n",
            "| saved checkpoint checkpoints/checkpoint_last.pt (epoch 13 @ 14079 updates) (writing took 2.3825743198394775 seconds)\n",
            "| epoch 014 | loss 10.796 | ppl 1777.98 | wps 2178 | ups 3 | wpb 708.592 | bsz 63.974 | num_updates 15162 | lr 0.001 | gnorm 20.878 | clip 1.000 | oom 0.000 | wall 3061 | train_wall 4889\n",
            "| epoch 014 | valid on 'valid' subset | loss 10.038 | ppl 1051.65 | num_updates 15162 | best_loss 9.89157\n",
            "| saved checkpoint checkpoints/checkpoint_last.pt (epoch 14 @ 15162 updates) (writing took 2.460472822189331 seconds)\n",
            "| epoch 015 | loss 10.703 | ppl 1666.66 | wps 2180 | ups 3 | wpb 708.592 | bsz 63.974 | num_updates 16245 | lr 0.001 | gnorm 18.621 | clip 1.000 | oom 0.000 | wall 3447 | train_wall 5238\n",
            "| epoch 015 | valid on 'valid' subset | loss 9.991 | ppl 1017.31 | num_updates 16245 | best_loss 9.89157\n",
            "| saved checkpoint checkpoints/checkpoint_last.pt (epoch 15 @ 16245 updates) (writing took 2.47727632522583 seconds)\n",
            "| done training in 3480.5 seconds\n"
          ],
          "name": "stdout"
        }
      ]
    },
    {
      "cell_type": "code",
      "metadata": {
        "id": "rLdpT2pXMpq8",
        "colab_type": "code",
        "colab": {}
      },
      "source": [
        "!fairseq-generate preprocessed_data \\\n",
        "    --path checkpoints/checkpoint_last.pt \\\n",
        "    --batch-size 64 | tee gen.out"
      ],
      "execution_count": 0,
      "outputs": []
    },
    {
      "cell_type": "code",
      "metadata": {
        "id": "o0epZNcSNtIM",
        "colab_type": "code",
        "colab": {}
      },
      "source": [
        "!grep ^H gen.out | cut -f3- > gen.out.sys\n",
        "!grep ^T gen.out | cut -f2- > gen.out.ref\n",
        "!fairseq-score --sys gen.out.sys --ref gen.out.ref"
      ],
      "execution_count": 0,
      "outputs": []
    }
  ]
}